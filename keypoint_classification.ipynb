{
  "cells": [
    {
      "cell_type": "code",
      "execution_count": 105,
      "metadata": {
        "id": "igMyGnjE9hEp"
      },
      "outputs": [],
      "source": [
        "import csv\n",
        "\n",
        "import numpy as np\n",
        "import tensorflow as tf\n",
        "from sklearn.model_selection import train_test_split\n",
        "\n",
        "RANDOM_SEED = 42"
      ]
    },
    {
      "cell_type": "code",
      "execution_count": 106,
      "metadata": {
        "id": "9NvZP2Zn9hEy"
      },
      "outputs": [],
      "source": [
        "dataset = 'datasets/keypoint1000.csv'\n",
        "model_save_path = 'models/keypoint_classifier.hdf5'\n",
        "tflite_save_path = 'models/keypoint_classifier.tflite'"
      ]
    },
    {
      "cell_type": "markdown",
      "metadata": {
        "id": "s5oMH7x19hEz"
      },
      "source": [
        "# Set number of classes"
      ]
    },
    {
      "cell_type": "code",
      "execution_count": 107,
      "metadata": {
        "id": "du4kodXL9hEz"
      },
      "outputs": [],
      "source": [
        "NUM_CLASSES = 12\n",
        "LABELS = ['call', 'dislike', 'fist', 'like', 'mute', 'ok', 'one', 'palm', 'peace', 'rock', 'stop', 'stop_inverted'] "
      ]
    },
    {
      "cell_type": "markdown",
      "metadata": {
        "id": "XjnL0uso9hEz"
      },
      "source": [
        "# Dataset reading"
      ]
    },
    {
      "cell_type": "code",
      "execution_count": 108,
      "metadata": {},
      "outputs": [],
      "source": [
        "def apply_rotation(label, points):\n",
        "    num_points = 21\n",
        "    point_0 = points[0]\n",
        "    point_8 = points[8]\n",
        "\n",
        "    if label == 'dislike' or label == 'like':\n",
        "        return points  # No rotation\n",
        "    elif label == 'call':\n",
        "        # Rotate to be parallel with X-axis\n",
        "        line = point_8 - point_0\n",
        "        angle = np.arctan2(line[2], line[0])  # Consider the X-Z plane\n",
        "        rotation_matrix = np.array([\n",
        "            [1, 0, 0],\n",
        "            [0, np.cos(angle), -np.sin(angle)],\n",
        "            [0, np.sin(angle), np.cos(angle)]\n",
        "        ])\n",
        "    else:\n",
        "        # Rotate to be parallel with Y-axis\n",
        "        line = point_8 - point_0\n",
        "        angle = np.arctan2(line[2], line[1])  # Consider the Y-Z plane\n",
        "        rotation_matrix = np.array([\n",
        "            [np.cos(angle), 0, np.sin(angle)],\n",
        "            [0, 1, 0],\n",
        "            [-np.sin(angle), 0, np.cos(angle)]\n",
        "        ])\n",
        "    \n",
        "    # Apply rotation\n",
        "    for i in range(num_points):\n",
        "        points[i] = np.dot(rotation_matrix, points[i])\n",
        "\n",
        "    return points\n"
      ]
    },
    {
      "cell_type": "code",
      "execution_count": 109,
      "metadata": {},
      "outputs": [],
      "source": [
        "def pre_process_dataset(X_dataset, y_dataset):\n",
        "    # Reshape to 3D\n",
        "    num_points = 21\n",
        "    reshaped_dataset = X_dataset.reshape(-1, num_points, 3)\n",
        "\n",
        "    # Shift coordinates\n",
        "    for i in range(len(reshaped_dataset)):\n",
        "        base_point = reshaped_dataset[i, 0]  # ID:0\n",
        "        for j in range(num_points):\n",
        "            reshaped_dataset[i, j] -= base_point\n",
        "\n",
        "    # Rotation\n",
        "    for i in range(len(reshaped_dataset)):\n",
        "        label = LABELS[y_dataset[i]]\n",
        "        reshaped_dataset[i] = apply_rotation(label, reshaped_dataset[i])\n",
        "\n",
        "    # Flatten\n",
        "    flattened_dataset = reshaped_dataset.reshape(-1, num_points * 3)\n",
        "\n",
        "    # Normalization\n",
        "    max_abs_value = np.max(np.abs(flattened_dataset))\n",
        "    normalized_dataset = flattened_dataset / max_abs_value\n",
        "\n",
        "    return normalized_dataset"
      ]
    },
    {
      "cell_type": "code",
      "execution_count": 110,
      "metadata": {
        "id": "QT5ZqtEz9hE0"
      },
      "outputs": [],
      "source": [
        "X_dataset = np.loadtxt(dataset, delimiter=',', dtype='float32', usecols=list(range(1, (21 * 3) + 1)))"
      ]
    },
    {
      "cell_type": "code",
      "execution_count": 111,
      "metadata": {
        "id": "QmoKFsp49hE0"
      },
      "outputs": [],
      "source": [
        "y_dataset = np.loadtxt(dataset, delimiter=',', dtype='int32', usecols=(0))"
      ]
    },
    {
      "cell_type": "code",
      "execution_count": 112,
      "metadata": {},
      "outputs": [],
      "source": [
        "X_dataset_preprocessed = pre_process_dataset(X_dataset, y_dataset)"
      ]
    },
    {
      "cell_type": "code",
      "execution_count": 113,
      "metadata": {
        "id": "xQU7JTZ_9hE0"
      },
      "outputs": [],
      "source": [
        "X_train, X_test, y_train, y_test = train_test_split(X_dataset_preprocessed, y_dataset, train_size=0.75, random_state=RANDOM_SEED)"
      ]
    },
    {
      "cell_type": "markdown",
      "metadata": {
        "id": "mxK_lETT9hE0"
      },
      "source": [
        "# Model building"
      ]
    },
    {
      "cell_type": "code",
      "execution_count": 114,
      "metadata": {
        "id": "vHBmUf1t9hE1"
      },
      "outputs": [],
      "source": [
        "model = tf.keras.models.Sequential([\n",
        "    tf.keras.layers.Input((21 * 3, )),\n",
        "    tf.keras.layers.Dropout(0.1),\n",
        "    tf.keras.layers.Dense(128, activation='relu'),  # Increased units\n",
        "    tf.keras.layers.BatchNormalization(),  # Added Batch Normalization\n",
        "    tf.keras.layers.Dropout(0.1),  # Adjusted dropout rate\n",
        "    tf.keras.layers.Dense(64, activation='relu'),  # Increased units\n",
        "    tf.keras.layers.BatchNormalization(),  # Added Batch Normalization\n",
        "    tf.keras.layers.Dense(32, activation='relu'),  # Increased units\n",
        "    tf.keras.layers.Dense(NUM_CLASSES, activation='softmax')\n",
        "])"
      ]
    },
    {
      "cell_type": "code",
      "execution_count": 115,
      "metadata": {
        "colab": {
          "base_uri": "https://localhost:8080/"
        },
        "id": "ypqky9tc9hE1",
        "outputId": "5db082bb-30e3-4110-bf63-a1ee777ecd46"
      },
      "outputs": [
        {
          "name": "stdout",
          "output_type": "stream",
          "text": [
            "Model: \"sequential_4\"\n",
            "_________________________________________________________________\n",
            " Layer (type)                Output Shape              Param #   \n",
            "=================================================================\n",
            " dropout_8 (Dropout)         (None, 63)                0         \n",
            "                                                                 \n",
            " dense_15 (Dense)            (None, 128)               8192      \n",
            "                                                                 \n",
            " batch_normalization_7 (Batc  (None, 128)              512       \n",
            " hNormalization)                                                 \n",
            "                                                                 \n",
            " dropout_9 (Dropout)         (None, 128)               0         \n",
            "                                                                 \n",
            " dense_16 (Dense)            (None, 64)                8256      \n",
            "                                                                 \n",
            " batch_normalization_8 (Batc  (None, 64)               256       \n",
            " hNormalization)                                                 \n",
            "                                                                 \n",
            " dense_17 (Dense)            (None, 32)                2080      \n",
            "                                                                 \n",
            " dense_18 (Dense)            (None, 12)                396       \n",
            "                                                                 \n",
            "=================================================================\n",
            "Total params: 19,692\n",
            "Trainable params: 19,308\n",
            "Non-trainable params: 384\n",
            "_________________________________________________________________\n"
          ]
        }
      ],
      "source": [
        "model.summary()  # tf.keras.utils.plot_model(model, show_shapes=True)"
      ]
    },
    {
      "cell_type": "code",
      "execution_count": 116,
      "metadata": {
        "id": "MbMjOflQ9hE1"
      },
      "outputs": [],
      "source": [
        "# Model checkpoint callback\n",
        "cp_callback = tf.keras.callbacks.ModelCheckpoint(\n",
        "    model_save_path, verbose=1, save_weights_only=False)\n",
        "# Callback for early stopping\n",
        "es_callback = tf.keras.callbacks.EarlyStopping(patience=30, verbose=1)"
      ]
    },
    {
      "cell_type": "code",
      "execution_count": 117,
      "metadata": {
        "id": "c3Dac0M_9hE2"
      },
      "outputs": [],
      "source": [
        "# Model compilation\n",
        "model.compile(\n",
        "    optimizer='adam',\n",
        "    loss='sparse_categorical_crossentropy',\n",
        "    metrics=['accuracy']\n",
        ")"
      ]
    },
    {
      "cell_type": "markdown",
      "metadata": {
        "id": "7XI0j1Iu9hE2"
      },
      "source": [
        "# Model training"
      ]
    },
    {
      "cell_type": "code",
      "execution_count": 118,
      "metadata": {},
      "outputs": [
        {
          "data": {
            "text/plain": [
              "<keras.callbacks.EarlyStopping at 0x21a3e073b80>"
            ]
          },
          "execution_count": 118,
          "metadata": {},
          "output_type": "execute_result"
        }
      ],
      "source": [
        "es_callback"
      ]
    },
    {
      "cell_type": "code",
      "execution_count": 119,
      "metadata": {
        "colab": {
          "base_uri": "https://localhost:8080/"
        },
        "id": "WirBl-JE9hE3",
        "outputId": "71b30ca2-8294-4d9d-8aa2-800d90d399de",
        "scrolled": true
      },
      "outputs": [
        {
          "name": "stdout",
          "output_type": "stream",
          "text": [
            "Epoch 1/1000\n"
          ]
        },
        {
          "name": "stdout",
          "output_type": "stream",
          "text": [
            "56/71 [======================>.......] - ETA: 0s - loss: 2.4559 - accuracy: 0.1682\n",
            "Epoch 1: saving model to models\\keypoint_classifier.hdf5\n",
            "71/71 [==============================] - 1s 6ms/step - loss: 2.3896 - accuracy: 0.1894 - val_loss: 2.4031 - val_accuracy: 0.1697\n",
            "Epoch 2/1000\n",
            "67/71 [===========================>..] - ETA: 0s - loss: 1.9376 - accuracy: 0.3317\n",
            "Epoch 2: saving model to models\\keypoint_classifier.hdf5\n",
            "71/71 [==============================] - 0s 4ms/step - loss: 1.9298 - accuracy: 0.3348 - val_loss: 2.1589 - val_accuracy: 0.2673\n",
            "Epoch 3/1000\n",
            "65/71 [==========================>...] - ETA: 0s - loss: 1.7295 - accuracy: 0.3906\n",
            "Epoch 3: saving model to models\\keypoint_classifier.hdf5\n",
            "71/71 [==============================] - 0s 3ms/step - loss: 1.7248 - accuracy: 0.3931 - val_loss: 1.8168 - val_accuracy: 0.3713\n",
            "Epoch 4/1000\n",
            "56/71 [======================>.......] - ETA: 0s - loss: 1.6119 - accuracy: 0.4325\n",
            "Epoch 4: saving model to models\\keypoint_classifier.hdf5\n",
            "71/71 [==============================] - 0s 4ms/step - loss: 1.6012 - accuracy: 0.4346 - val_loss: 1.5864 - val_accuracy: 0.4810\n",
            "Epoch 5/1000\n",
            "70/71 [============================>.] - ETA: 0s - loss: 1.5136 - accuracy: 0.4637\n",
            "Epoch 5: saving model to models\\keypoint_classifier.hdf5\n",
            "71/71 [==============================] - 0s 4ms/step - loss: 1.5135 - accuracy: 0.4633 - val_loss: 1.4320 - val_accuracy: 0.5330\n",
            "Epoch 6/1000\n",
            "56/71 [======================>.......] - ETA: 0s - loss: 1.4567 - accuracy: 0.4883\n",
            "Epoch 6: saving model to models\\keypoint_classifier.hdf5\n",
            "71/71 [==============================] - 0s 4ms/step - loss: 1.4498 - accuracy: 0.4906 - val_loss: 1.2940 - val_accuracy: 0.5823\n",
            "Epoch 7/1000\n",
            "57/71 [=======================>......] - ETA: 0s - loss: 1.3928 - accuracy: 0.5136\n",
            "Epoch 7: saving model to models\\keypoint_classifier.hdf5\n",
            "71/71 [==============================] - 0s 4ms/step - loss: 1.3798 - accuracy: 0.5193 - val_loss: 1.1904 - val_accuracy: 0.5973\n",
            "Epoch 8/1000\n",
            "56/71 [======================>.......] - ETA: 0s - loss: 1.3188 - accuracy: 0.5363\n",
            "Epoch 8: saving model to models\\keypoint_classifier.hdf5\n",
            "71/71 [==============================] - 0s 4ms/step - loss: 1.3050 - accuracy: 0.5422 - val_loss: 1.0904 - val_accuracy: 0.6480\n",
            "Epoch 9/1000\n",
            "61/71 [========================>.....] - ETA: 0s - loss: 1.2211 - accuracy: 0.5748\n",
            "Epoch 9: saving model to models\\keypoint_classifier.hdf5\n",
            "71/71 [==============================] - 0s 4ms/step - loss: 1.2156 - accuracy: 0.5794 - val_loss: 0.9536 - val_accuracy: 0.6837\n",
            "Epoch 10/1000\n",
            "63/71 [=========================>....] - ETA: 0s - loss: 1.1489 - accuracy: 0.5981\n",
            "Epoch 10: saving model to models\\keypoint_classifier.hdf5\n",
            "71/71 [==============================] - 0s 3ms/step - loss: 1.1450 - accuracy: 0.5998 - val_loss: 0.8906 - val_accuracy: 0.7237\n",
            "Epoch 11/1000\n",
            "61/71 [========================>.....] - ETA: 0s - loss: 1.0675 - accuracy: 0.6359\n",
            "Epoch 11: saving model to models\\keypoint_classifier.hdf5\n",
            "71/71 [==============================] - 0s 4ms/step - loss: 1.0656 - accuracy: 0.6346 - val_loss: 0.7467 - val_accuracy: 0.7730\n",
            "Epoch 12/1000\n",
            "53/71 [=====================>........] - ETA: 0s - loss: 1.0147 - accuracy: 0.6458\n",
            "Epoch 12: saving model to models\\keypoint_classifier.hdf5\n",
            "71/71 [==============================] - 0s 4ms/step - loss: 1.0042 - accuracy: 0.6482 - val_loss: 0.7990 - val_accuracy: 0.6970\n",
            "Epoch 13/1000\n",
            "60/71 [========================>.....] - ETA: 0s - loss: 0.9205 - accuracy: 0.6758\n",
            "Epoch 13: saving model to models\\keypoint_classifier.hdf5\n",
            "71/71 [==============================] - 0s 4ms/step - loss: 0.9144 - accuracy: 0.6787 - val_loss: 0.6204 - val_accuracy: 0.8087\n",
            "Epoch 14/1000\n",
            "67/71 [===========================>..] - ETA: 0s - loss: 0.8668 - accuracy: 0.6965\n",
            "Epoch 14: saving model to models\\keypoint_classifier.hdf5\n",
            "71/71 [==============================] - 0s 4ms/step - loss: 0.8690 - accuracy: 0.6956 - val_loss: 0.5041 - val_accuracy: 0.8527\n",
            "Epoch 15/1000\n",
            "69/71 [============================>.] - ETA: 0s - loss: 0.8136 - accuracy: 0.7204\n",
            "Epoch 15: saving model to models\\keypoint_classifier.hdf5\n",
            "71/71 [==============================] - 0s 4ms/step - loss: 0.8154 - accuracy: 0.7201 - val_loss: 0.5106 - val_accuracy: 0.8347\n",
            "Epoch 16/1000\n",
            "58/71 [=======================>......] - ETA: 0s - loss: 0.7713 - accuracy: 0.7286\n",
            "Epoch 16: saving model to models\\keypoint_classifier.hdf5\n",
            "71/71 [==============================] - 0s 4ms/step - loss: 0.7674 - accuracy: 0.7288 - val_loss: 0.5290 - val_accuracy: 0.8367\n",
            "Epoch 17/1000\n",
            "63/71 [=========================>....] - ETA: 0s - loss: 0.7342 - accuracy: 0.7450\n",
            "Epoch 17: saving model to models\\keypoint_classifier.hdf5\n",
            "71/71 [==============================] - 0s 4ms/step - loss: 0.7322 - accuracy: 0.7463 - val_loss: 0.4049 - val_accuracy: 0.8940\n",
            "Epoch 18/1000\n",
            "57/71 [=======================>......] - ETA: 0s - loss: 0.6962 - accuracy: 0.7600\n",
            "Epoch 18: saving model to models\\keypoint_classifier.hdf5\n",
            "71/71 [==============================] - 0s 4ms/step - loss: 0.6960 - accuracy: 0.7593 - val_loss: 0.3708 - val_accuracy: 0.8910\n",
            "Epoch 19/1000\n",
            "71/71 [==============================] - ETA: 0s - loss: 0.6746 - accuracy: 0.7639\n",
            "Epoch 19: saving model to models\\keypoint_classifier.hdf5\n",
            "71/71 [==============================] - 0s 4ms/step - loss: 0.6746 - accuracy: 0.7639 - val_loss: 0.3716 - val_accuracy: 0.8927\n",
            "Epoch 20/1000\n",
            "70/71 [============================>.] - ETA: 0s - loss: 0.6531 - accuracy: 0.7676\n",
            "Epoch 20: saving model to models\\keypoint_classifier.hdf5\n",
            "71/71 [==============================] - 0s 4ms/step - loss: 0.6533 - accuracy: 0.7673 - val_loss: 0.3544 - val_accuracy: 0.8967\n",
            "Epoch 21/1000\n",
            "58/71 [=======================>......] - ETA: 0s - loss: 0.6430 - accuracy: 0.7752\n",
            "Epoch 21: saving model to models\\keypoint_classifier.hdf5\n",
            "71/71 [==============================] - 0s 4ms/step - loss: 0.6478 - accuracy: 0.7704 - val_loss: 0.3734 - val_accuracy: 0.8840\n",
            "Epoch 22/1000\n",
            "64/71 [==========================>...] - ETA: 0s - loss: 0.6177 - accuracy: 0.7803\n",
            "Epoch 22: saving model to models\\keypoint_classifier.hdf5\n",
            "71/71 [==============================] - 0s 3ms/step - loss: 0.6188 - accuracy: 0.7808 - val_loss: 0.3544 - val_accuracy: 0.8897\n",
            "Epoch 23/1000\n",
            "62/71 [=========================>....] - ETA: 0s - loss: 0.5949 - accuracy: 0.7913\n",
            "Epoch 23: saving model to models\\keypoint_classifier.hdf5\n",
            "71/71 [==============================] - 0s 4ms/step - loss: 0.5917 - accuracy: 0.7931 - val_loss: 0.3759 - val_accuracy: 0.8810\n",
            "Epoch 24/1000\n",
            "56/71 [======================>.......] - ETA: 0s - loss: 0.5551 - accuracy: 0.7999\n",
            "Epoch 24: saving model to models\\keypoint_classifier.hdf5\n",
            "71/71 [==============================] - 0s 4ms/step - loss: 0.5648 - accuracy: 0.7958 - val_loss: 0.3694 - val_accuracy: 0.8807\n",
            "Epoch 25/1000\n",
            "55/71 [======================>.......] - ETA: 0s - loss: 0.5570 - accuracy: 0.8021\n",
            "Epoch 25: saving model to models\\keypoint_classifier.hdf5\n",
            "71/71 [==============================] - 0s 4ms/step - loss: 0.5616 - accuracy: 0.7992 - val_loss: 0.3517 - val_accuracy: 0.8813\n",
            "Epoch 26/1000\n",
            "65/71 [==========================>...] - ETA: 0s - loss: 0.5386 - accuracy: 0.8055\n",
            "Epoch 26: saving model to models\\keypoint_classifier.hdf5\n",
            "71/71 [==============================] - 0s 4ms/step - loss: 0.5371 - accuracy: 0.8058 - val_loss: 0.4684 - val_accuracy: 0.8290\n",
            "Epoch 27/1000\n",
            "58/71 [=======================>......] - ETA: 0s - loss: 0.5217 - accuracy: 0.8074\n",
            "Epoch 27: saving model to models\\keypoint_classifier.hdf5\n",
            "71/71 [==============================] - 0s 4ms/step - loss: 0.5206 - accuracy: 0.8084 - val_loss: 0.4879 - val_accuracy: 0.8197\n",
            "Epoch 28/1000\n",
            "61/71 [========================>.....] - ETA: 0s - loss: 0.5149 - accuracy: 0.8138\n",
            "Epoch 28: saving model to models\\keypoint_classifier.hdf5\n",
            "71/71 [==============================] - 0s 4ms/step - loss: 0.5163 - accuracy: 0.8132 - val_loss: 0.3530 - val_accuracy: 0.8810\n",
            "Epoch 29/1000\n",
            "58/71 [=======================>......] - ETA: 0s - loss: 0.5036 - accuracy: 0.8182\n",
            "Epoch 29: saving model to models\\keypoint_classifier.hdf5\n",
            "71/71 [==============================] - 0s 4ms/step - loss: 0.5042 - accuracy: 0.8192 - val_loss: 0.3136 - val_accuracy: 0.9010\n",
            "Epoch 30/1000\n",
            "53/71 [=====================>........] - ETA: 0s - loss: 0.4936 - accuracy: 0.8197\n",
            "Epoch 30: saving model to models\\keypoint_classifier.hdf5\n",
            "71/71 [==============================] - 0s 4ms/step - loss: 0.4970 - accuracy: 0.8166 - val_loss: 0.2845 - val_accuracy: 0.9083\n",
            "Epoch 31/1000\n",
            "60/71 [========================>.....] - ETA: 0s - loss: 0.4804 - accuracy: 0.8281\n",
            "Epoch 31: saving model to models\\keypoint_classifier.hdf5\n",
            "71/71 [==============================] - 0s 4ms/step - loss: 0.4793 - accuracy: 0.8276 - val_loss: 0.3156 - val_accuracy: 0.9003\n",
            "Epoch 32/1000\n",
            "64/71 [==========================>...] - ETA: 0s - loss: 0.4865 - accuracy: 0.8231\n",
            "Epoch 32: saving model to models\\keypoint_classifier.hdf5\n",
            "71/71 [==============================] - 0s 3ms/step - loss: 0.4819 - accuracy: 0.8239 - val_loss: 0.3722 - val_accuracy: 0.8633\n",
            "Epoch 33/1000\n",
            "61/71 [========================>.....] - ETA: 0s - loss: 0.4625 - accuracy: 0.8354\n",
            "Epoch 33: saving model to models\\keypoint_classifier.hdf5\n",
            "71/71 [==============================] - 0s 4ms/step - loss: 0.4620 - accuracy: 0.8349 - val_loss: 0.2651 - val_accuracy: 0.9147\n",
            "Epoch 34/1000\n",
            "59/71 [=======================>......] - ETA: 0s - loss: 0.4757 - accuracy: 0.8280\n",
            "Epoch 34: saving model to models\\keypoint_classifier.hdf5\n",
            "71/71 [==============================] - 0s 4ms/step - loss: 0.4756 - accuracy: 0.8282 - val_loss: 0.3059 - val_accuracy: 0.8957\n",
            "Epoch 35/1000\n",
            "59/71 [=======================>......] - ETA: 0s - loss: 0.4593 - accuracy: 0.8387\n",
            "Epoch 35: saving model to models\\keypoint_classifier.hdf5\n",
            "71/71 [==============================] - 0s 4ms/step - loss: 0.4583 - accuracy: 0.8400 - val_loss: 0.2582 - val_accuracy: 0.9157\n",
            "Epoch 36/1000\n",
            "59/71 [=======================>......] - ETA: 0s - loss: 0.4557 - accuracy: 0.8341\n",
            "Epoch 36: saving model to models\\keypoint_classifier.hdf5\n",
            "71/71 [==============================] - 0s 4ms/step - loss: 0.4604 - accuracy: 0.8343 - val_loss: 0.4608 - val_accuracy: 0.8280\n",
            "Epoch 37/1000\n",
            "57/71 [=======================>......] - ETA: 0s - loss: 0.4534 - accuracy: 0.8372\n",
            "Epoch 37: saving model to models\\keypoint_classifier.hdf5\n",
            "71/71 [==============================] - 0s 4ms/step - loss: 0.4546 - accuracy: 0.8359 - val_loss: 0.2576 - val_accuracy: 0.9213\n",
            "Epoch 38/1000\n",
            "55/71 [======================>.......] - ETA: 0s - loss: 0.4361 - accuracy: 0.8426\n",
            "Epoch 38: saving model to models\\keypoint_classifier.hdf5\n",
            "71/71 [==============================] - 0s 4ms/step - loss: 0.4306 - accuracy: 0.8454 - val_loss: 0.3769 - val_accuracy: 0.8590\n",
            "Epoch 39/1000\n",
            "58/71 [=======================>......] - ETA: 0s - loss: 0.4316 - accuracy: 0.8411\n",
            "Epoch 39: saving model to models\\keypoint_classifier.hdf5\n",
            "71/71 [==============================] - 0s 4ms/step - loss: 0.4345 - accuracy: 0.8402 - val_loss: 0.2854 - val_accuracy: 0.9120\n",
            "Epoch 40/1000\n",
            "65/71 [==========================>...] - ETA: 0s - loss: 0.4431 - accuracy: 0.8419\n",
            "Epoch 40: saving model to models\\keypoint_classifier.hdf5\n",
            "71/71 [==============================] - 0s 3ms/step - loss: 0.4384 - accuracy: 0.8426 - val_loss: 0.3030 - val_accuracy: 0.9003\n",
            "Epoch 41/1000\n",
            "65/71 [==========================>...] - ETA: 0s - loss: 0.4294 - accuracy: 0.8459\n",
            "Epoch 41: saving model to models\\keypoint_classifier.hdf5\n",
            "71/71 [==============================] - 0s 3ms/step - loss: 0.4283 - accuracy: 0.8458 - val_loss: 0.2743 - val_accuracy: 0.9000\n",
            "Epoch 42/1000\n",
            "58/71 [=======================>......] - ETA: 0s - loss: 0.4104 - accuracy: 0.8479\n",
            "Epoch 42: saving model to models\\keypoint_classifier.hdf5\n",
            "71/71 [==============================] - 0s 4ms/step - loss: 0.4082 - accuracy: 0.8497 - val_loss: 0.2405 - val_accuracy: 0.9163\n",
            "Epoch 43/1000\n",
            "61/71 [========================>.....] - ETA: 0s - loss: 0.4193 - accuracy: 0.8452\n",
            "Epoch 43: saving model to models\\keypoint_classifier.hdf5\n",
            "71/71 [==============================] - 0s 4ms/step - loss: 0.4174 - accuracy: 0.8468 - val_loss: 0.2543 - val_accuracy: 0.9150\n",
            "Epoch 44/1000\n",
            "71/71 [==============================] - ETA: 0s - loss: 0.4096 - accuracy: 0.8532\n",
            "Epoch 44: saving model to models\\keypoint_classifier.hdf5\n",
            "71/71 [==============================] - 0s 4ms/step - loss: 0.4096 - accuracy: 0.8532 - val_loss: 0.2582 - val_accuracy: 0.9157\n",
            "Epoch 45/1000\n",
            "69/71 [============================>.] - ETA: 0s - loss: 0.4286 - accuracy: 0.8435\n",
            "Epoch 45: saving model to models\\keypoint_classifier.hdf5\n",
            "71/71 [==============================] - 0s 4ms/step - loss: 0.4282 - accuracy: 0.8436 - val_loss: 0.2638 - val_accuracy: 0.9110\n",
            "Epoch 46/1000\n",
            "60/71 [========================>.....] - ETA: 0s - loss: 0.4122 - accuracy: 0.8493\n",
            "Epoch 46: saving model to models\\keypoint_classifier.hdf5\n",
            "71/71 [==============================] - 0s 4ms/step - loss: 0.4071 - accuracy: 0.8523 - val_loss: 0.2870 - val_accuracy: 0.9043\n",
            "Epoch 47/1000\n",
            "54/71 [=====================>........] - ETA: 0s - loss: 0.4002 - accuracy: 0.8521\n",
            "Epoch 47: saving model to models\\keypoint_classifier.hdf5\n",
            "71/71 [==============================] - 0s 4ms/step - loss: 0.4049 - accuracy: 0.8509 - val_loss: 0.2618 - val_accuracy: 0.9130\n",
            "Epoch 48/1000\n",
            "70/71 [============================>.] - ETA: 0s - loss: 0.4198 - accuracy: 0.8473\n",
            "Epoch 48: saving model to models\\keypoint_classifier.hdf5\n",
            "71/71 [==============================] - 0s 4ms/step - loss: 0.4192 - accuracy: 0.8476 - val_loss: 0.2784 - val_accuracy: 0.9040\n",
            "Epoch 49/1000\n",
            "54/71 [=====================>........] - ETA: 0s - loss: 0.4089 - accuracy: 0.8543\n",
            "Epoch 49: saving model to models\\keypoint_classifier.hdf5\n",
            "71/71 [==============================] - 0s 4ms/step - loss: 0.4100 - accuracy: 0.8538 - val_loss: 0.3079 - val_accuracy: 0.9030\n",
            "Epoch 50/1000\n",
            "54/71 [=====================>........] - ETA: 0s - loss: 0.3982 - accuracy: 0.8505\n",
            "Epoch 50: saving model to models\\keypoint_classifier.hdf5\n",
            "71/71 [==============================] - 0s 4ms/step - loss: 0.4013 - accuracy: 0.8490 - val_loss: 0.3335 - val_accuracy: 0.8843\n",
            "Epoch 51/1000\n",
            "55/71 [======================>.......] - ETA: 0s - loss: 0.3878 - accuracy: 0.8589\n",
            "Epoch 51: saving model to models\\keypoint_classifier.hdf5\n",
            "71/71 [==============================] - 0s 4ms/step - loss: 0.3897 - accuracy: 0.8589 - val_loss: 0.2878 - val_accuracy: 0.9057\n",
            "Epoch 52/1000\n",
            "54/71 [=====================>........] - ETA: 0s - loss: 0.3957 - accuracy: 0.8520\n",
            "Epoch 52: saving model to models\\keypoint_classifier.hdf5\n",
            "71/71 [==============================] - 0s 4ms/step - loss: 0.4040 - accuracy: 0.8517 - val_loss: 0.3381 - val_accuracy: 0.8743\n",
            "Epoch 53/1000\n",
            "59/71 [=======================>......] - ETA: 0s - loss: 0.3890 - accuracy: 0.8590\n",
            "Epoch 53: saving model to models\\keypoint_classifier.hdf5\n",
            "71/71 [==============================] - 0s 4ms/step - loss: 0.3889 - accuracy: 0.8592 - val_loss: 0.3593 - val_accuracy: 0.8720\n",
            "Epoch 54/1000\n",
            "57/71 [=======================>......] - ETA: 0s - loss: 0.4036 - accuracy: 0.8566\n",
            "Epoch 54: saving model to models\\keypoint_classifier.hdf5\n",
            "71/71 [==============================] - 0s 4ms/step - loss: 0.3996 - accuracy: 0.8581 - val_loss: 0.2145 - val_accuracy: 0.9300\n",
            "Epoch 55/1000\n",
            "56/71 [======================>.......] - ETA: 0s - loss: 0.3833 - accuracy: 0.8622\n",
            "Epoch 55: saving model to models\\keypoint_classifier.hdf5\n",
            "71/71 [==============================] - 0s 4ms/step - loss: 0.3871 - accuracy: 0.8626 - val_loss: 0.3503 - val_accuracy: 0.8843\n",
            "Epoch 56/1000\n",
            "57/71 [=======================>......] - ETA: 0s - loss: 0.3860 - accuracy: 0.8606\n",
            "Epoch 56: saving model to models\\keypoint_classifier.hdf5\n",
            "71/71 [==============================] - 0s 4ms/step - loss: 0.3848 - accuracy: 0.8603 - val_loss: 0.2196 - val_accuracy: 0.9227\n",
            "Epoch 57/1000\n",
            "57/71 [=======================>......] - ETA: 0s - loss: 0.3831 - accuracy: 0.8568\n",
            "Epoch 57: saving model to models\\keypoint_classifier.hdf5\n",
            "71/71 [==============================] - 0s 4ms/step - loss: 0.3767 - accuracy: 0.8583 - val_loss: 0.3081 - val_accuracy: 0.8867\n",
            "Epoch 58/1000\n",
            "56/71 [======================>.......] - ETA: 0s - loss: 0.3730 - accuracy: 0.8722\n",
            "Epoch 58: saving model to models\\keypoint_classifier.hdf5\n",
            "71/71 [==============================] - 0s 4ms/step - loss: 0.3800 - accuracy: 0.8684 - val_loss: 0.3113 - val_accuracy: 0.8863\n",
            "Epoch 59/1000\n",
            "71/71 [==============================] - ETA: 0s - loss: 0.3753 - accuracy: 0.8609\n",
            "Epoch 59: saving model to models\\keypoint_classifier.hdf5\n",
            "71/71 [==============================] - 0s 4ms/step - loss: 0.3753 - accuracy: 0.8609 - val_loss: 0.3672 - val_accuracy: 0.8563\n",
            "Epoch 60/1000\n",
            "51/71 [====================>.........] - ETA: 0s - loss: 0.3747 - accuracy: 0.8670\n",
            "Epoch 60: saving model to models\\keypoint_classifier.hdf5\n",
            "71/71 [==============================] - 0s 4ms/step - loss: 0.3671 - accuracy: 0.8662 - val_loss: 0.2597 - val_accuracy: 0.9100\n",
            "Epoch 61/1000\n",
            "54/71 [=====================>........] - ETA: 0s - loss: 0.3699 - accuracy: 0.8617\n",
            "Epoch 61: saving model to models\\keypoint_classifier.hdf5\n",
            "71/71 [==============================] - 0s 4ms/step - loss: 0.3697 - accuracy: 0.8611 - val_loss: 0.2457 - val_accuracy: 0.9040\n",
            "Epoch 62/1000\n",
            "59/71 [=======================>......] - ETA: 0s - loss: 0.3761 - accuracy: 0.8647\n",
            "Epoch 62: saving model to models\\keypoint_classifier.hdf5\n",
            "71/71 [==============================] - 0s 4ms/step - loss: 0.3784 - accuracy: 0.8653 - val_loss: 0.2062 - val_accuracy: 0.9263\n",
            "Epoch 63/1000\n",
            "57/71 [=======================>......] - ETA: 0s - loss: 0.3716 - accuracy: 0.8703\n",
            "Epoch 63: saving model to models\\keypoint_classifier.hdf5\n",
            "71/71 [==============================] - 0s 4ms/step - loss: 0.3654 - accuracy: 0.8697 - val_loss: 0.2762 - val_accuracy: 0.9067\n",
            "Epoch 64/1000\n",
            "55/71 [======================>.......] - ETA: 0s - loss: 0.3617 - accuracy: 0.8699\n",
            "Epoch 64: saving model to models\\keypoint_classifier.hdf5\n",
            "71/71 [==============================] - 0s 4ms/step - loss: 0.3593 - accuracy: 0.8696 - val_loss: 0.4264 - val_accuracy: 0.8443\n",
            "Epoch 65/1000\n",
            "59/71 [=======================>......] - ETA: 0s - loss: 0.3608 - accuracy: 0.8706\n",
            "Epoch 65: saving model to models\\keypoint_classifier.hdf5\n",
            "71/71 [==============================] - 0s 4ms/step - loss: 0.3579 - accuracy: 0.8724 - val_loss: 0.2752 - val_accuracy: 0.8977\n",
            "Epoch 66/1000\n",
            "57/71 [=======================>......] - ETA: 0s - loss: 0.3720 - accuracy: 0.8666\n",
            "Epoch 66: saving model to models\\keypoint_classifier.hdf5\n",
            "71/71 [==============================] - 0s 4ms/step - loss: 0.3731 - accuracy: 0.8644 - val_loss: 0.2683 - val_accuracy: 0.9110\n",
            "Epoch 67/1000\n",
            "55/71 [======================>.......] - ETA: 0s - loss: 0.3505 - accuracy: 0.8747\n",
            "Epoch 67: saving model to models\\keypoint_classifier.hdf5\n",
            "71/71 [==============================] - 0s 4ms/step - loss: 0.3524 - accuracy: 0.8741 - val_loss: 0.2654 - val_accuracy: 0.9187\n",
            "Epoch 68/1000\n",
            "57/71 [=======================>......] - ETA: 0s - loss: 0.3540 - accuracy: 0.8684\n",
            "Epoch 68: saving model to models\\keypoint_classifier.hdf5\n",
            "71/71 [==============================] - 0s 4ms/step - loss: 0.3572 - accuracy: 0.8702 - val_loss: 0.1928 - val_accuracy: 0.9410\n",
            "Epoch 69/1000\n",
            "59/71 [=======================>......] - ETA: 0s - loss: 0.3627 - accuracy: 0.8706\n",
            "Epoch 69: saving model to models\\keypoint_classifier.hdf5\n",
            "71/71 [==============================] - 0s 4ms/step - loss: 0.3603 - accuracy: 0.8719 - val_loss: 0.2639 - val_accuracy: 0.9163\n",
            "Epoch 70/1000\n",
            "60/71 [========================>.....] - ETA: 0s - loss: 0.3322 - accuracy: 0.8828\n",
            "Epoch 70: saving model to models\\keypoint_classifier.hdf5\n",
            "71/71 [==============================] - 0s 4ms/step - loss: 0.3310 - accuracy: 0.8814 - val_loss: 0.2542 - val_accuracy: 0.9130\n",
            "Epoch 71/1000\n",
            "57/71 [=======================>......] - ETA: 0s - loss: 0.3475 - accuracy: 0.8777\n",
            "Epoch 71: saving model to models\\keypoint_classifier.hdf5\n",
            "71/71 [==============================] - 0s 4ms/step - loss: 0.3492 - accuracy: 0.8756 - val_loss: 0.2495 - val_accuracy: 0.9013\n",
            "Epoch 72/1000\n",
            "57/71 [=======================>......] - ETA: 0s - loss: 0.3407 - accuracy: 0.8765\n",
            "Epoch 72: saving model to models\\keypoint_classifier.hdf5\n",
            "71/71 [==============================] - 0s 4ms/step - loss: 0.3395 - accuracy: 0.8762 - val_loss: 0.2224 - val_accuracy: 0.9280\n",
            "Epoch 73/1000\n",
            "57/71 [=======================>......] - ETA: 0s - loss: 0.3317 - accuracy: 0.8812\n",
            "Epoch 73: saving model to models\\keypoint_classifier.hdf5\n",
            "71/71 [==============================] - 0s 4ms/step - loss: 0.3349 - accuracy: 0.8807 - val_loss: 0.3674 - val_accuracy: 0.8543\n",
            "Epoch 74/1000\n",
            "58/71 [=======================>......] - ETA: 0s - loss: 0.3401 - accuracy: 0.8700\n",
            "Epoch 74: saving model to models\\keypoint_classifier.hdf5\n",
            "71/71 [==============================] - 0s 4ms/step - loss: 0.3374 - accuracy: 0.8721 - val_loss: 0.2107 - val_accuracy: 0.9153\n",
            "Epoch 75/1000\n",
            "56/71 [======================>.......] - ETA: 0s - loss: 0.3299 - accuracy: 0.8789\n",
            "Epoch 75: saving model to models\\keypoint_classifier.hdf5\n",
            "71/71 [==============================] - 0s 4ms/step - loss: 0.3314 - accuracy: 0.8786 - val_loss: 0.2037 - val_accuracy: 0.9290\n",
            "Epoch 76/1000\n",
            "56/71 [======================>.......] - ETA: 0s - loss: 0.3290 - accuracy: 0.8789\n",
            "Epoch 76: saving model to models\\keypoint_classifier.hdf5\n",
            "71/71 [==============================] - 0s 4ms/step - loss: 0.3317 - accuracy: 0.8802 - val_loss: 0.2227 - val_accuracy: 0.9280\n",
            "Epoch 77/1000\n",
            "61/71 [========================>.....] - ETA: 0s - loss: 0.3420 - accuracy: 0.8774\n",
            "Epoch 77: saving model to models\\keypoint_classifier.hdf5\n",
            "71/71 [==============================] - 0s 3ms/step - loss: 0.3416 - accuracy: 0.8776 - val_loss: 0.2290 - val_accuracy: 0.9217\n",
            "Epoch 78/1000\n",
            "61/71 [========================>.....] - ETA: 0s - loss: 0.3333 - accuracy: 0.8820\n",
            "Epoch 78: saving model to models\\keypoint_classifier.hdf5\n",
            "71/71 [==============================] - 0s 3ms/step - loss: 0.3295 - accuracy: 0.8837 - val_loss: 0.2716 - val_accuracy: 0.9017\n",
            "Epoch 79/1000\n",
            "56/71 [======================>.......] - ETA: 0s - loss: 0.3443 - accuracy: 0.8760\n",
            "Epoch 79: saving model to models\\keypoint_classifier.hdf5\n",
            "71/71 [==============================] - 0s 4ms/step - loss: 0.3441 - accuracy: 0.8760 - val_loss: 0.2469 - val_accuracy: 0.9070\n",
            "Epoch 80/1000\n",
            "57/71 [=======================>......] - ETA: 0s - loss: 0.3304 - accuracy: 0.8801\n",
            "Epoch 80: saving model to models\\keypoint_classifier.hdf5\n",
            "71/71 [==============================] - 0s 4ms/step - loss: 0.3307 - accuracy: 0.8801 - val_loss: 0.2624 - val_accuracy: 0.9157\n",
            "Epoch 81/1000\n",
            "57/71 [=======================>......] - ETA: 0s - loss: 0.3383 - accuracy: 0.8819\n",
            "Epoch 81: saving model to models\\keypoint_classifier.hdf5\n",
            "71/71 [==============================] - 0s 4ms/step - loss: 0.3264 - accuracy: 0.8842 - val_loss: 0.3192 - val_accuracy: 0.8750\n",
            "Epoch 82/1000\n",
            "62/71 [=========================>....] - ETA: 0s - loss: 0.3252 - accuracy: 0.8848\n",
            "Epoch 82: saving model to models\\keypoint_classifier.hdf5\n",
            "71/71 [==============================] - 0s 3ms/step - loss: 0.3290 - accuracy: 0.8836 - val_loss: 0.2593 - val_accuracy: 0.9203\n",
            "Epoch 83/1000\n",
            "63/71 [=========================>....] - ETA: 0s - loss: 0.3286 - accuracy: 0.8859\n",
            "Epoch 83: saving model to models\\keypoint_classifier.hdf5\n",
            "71/71 [==============================] - 0s 3ms/step - loss: 0.3282 - accuracy: 0.8848 - val_loss: 0.2377 - val_accuracy: 0.9287\n",
            "Epoch 84/1000\n",
            "58/71 [=======================>......] - ETA: 0s - loss: 0.3131 - accuracy: 0.8824\n",
            "Epoch 84: saving model to models\\keypoint_classifier.hdf5\n",
            "71/71 [==============================] - 0s 4ms/step - loss: 0.3134 - accuracy: 0.8843 - val_loss: 0.2089 - val_accuracy: 0.9333\n",
            "Epoch 85/1000\n",
            "55/71 [======================>.......] - ETA: 0s - loss: 0.3173 - accuracy: 0.8838\n",
            "Epoch 85: saving model to models\\keypoint_classifier.hdf5\n",
            "71/71 [==============================] - 0s 4ms/step - loss: 0.3192 - accuracy: 0.8849 - val_loss: 0.2319 - val_accuracy: 0.9163\n",
            "Epoch 86/1000\n",
            "60/71 [========================>.....] - ETA: 0s - loss: 0.3154 - accuracy: 0.8889\n",
            "Epoch 86: saving model to models\\keypoint_classifier.hdf5\n",
            "71/71 [==============================] - 0s 4ms/step - loss: 0.3140 - accuracy: 0.8892 - val_loss: 0.2419 - val_accuracy: 0.9173\n",
            "Epoch 87/1000\n",
            "60/71 [========================>.....] - ETA: 0s - loss: 0.3079 - accuracy: 0.8930\n",
            "Epoch 87: saving model to models\\keypoint_classifier.hdf5\n",
            "71/71 [==============================] - 0s 3ms/step - loss: 0.3070 - accuracy: 0.8930 - val_loss: 0.2466 - val_accuracy: 0.9083\n",
            "Epoch 88/1000\n",
            "62/71 [=========================>....] - ETA: 0s - loss: 0.3151 - accuracy: 0.8855\n",
            "Epoch 88: saving model to models\\keypoint_classifier.hdf5\n",
            "71/71 [==============================] - 0s 3ms/step - loss: 0.3198 - accuracy: 0.8834 - val_loss: 0.2095 - val_accuracy: 0.9257\n",
            "Epoch 89/1000\n",
            "58/71 [=======================>......] - ETA: 0s - loss: 0.3149 - accuracy: 0.8863\n",
            "Epoch 89: saving model to models\\keypoint_classifier.hdf5\n",
            "71/71 [==============================] - 0s 4ms/step - loss: 0.3095 - accuracy: 0.8882 - val_loss: 0.2883 - val_accuracy: 0.8870\n",
            "Epoch 90/1000\n",
            "59/71 [=======================>......] - ETA: 0s - loss: 0.3007 - accuracy: 0.8884\n",
            "Epoch 90: saving model to models\\keypoint_classifier.hdf5\n",
            "71/71 [==============================] - 0s 4ms/step - loss: 0.3059 - accuracy: 0.8879 - val_loss: 0.2422 - val_accuracy: 0.9160\n",
            "Epoch 91/1000\n",
            "69/71 [============================>.] - ETA: 0s - loss: 0.3087 - accuracy: 0.8888\n",
            "Epoch 91: saving model to models\\keypoint_classifier.hdf5\n",
            "71/71 [==============================] - 0s 4ms/step - loss: 0.3097 - accuracy: 0.8882 - val_loss: 0.2745 - val_accuracy: 0.9067\n",
            "Epoch 92/1000\n",
            "60/71 [========================>.....] - ETA: 0s - loss: 0.3084 - accuracy: 0.8872\n",
            "Epoch 92: saving model to models\\keypoint_classifier.hdf5\n",
            "71/71 [==============================] - 0s 4ms/step - loss: 0.3022 - accuracy: 0.8900 - val_loss: 0.2129 - val_accuracy: 0.9237\n",
            "Epoch 93/1000\n",
            "59/71 [=======================>......] - ETA: 0s - loss: 0.2996 - accuracy: 0.8937\n",
            "Epoch 93: saving model to models\\keypoint_classifier.hdf5\n",
            "71/71 [==============================] - 0s 4ms/step - loss: 0.3023 - accuracy: 0.8919 - val_loss: 0.2441 - val_accuracy: 0.9080\n",
            "Epoch 94/1000\n",
            "69/71 [============================>.] - ETA: 0s - loss: 0.2968 - accuracy: 0.8967\n",
            "Epoch 94: saving model to models\\keypoint_classifier.hdf5\n",
            "71/71 [==============================] - 0s 4ms/step - loss: 0.2958 - accuracy: 0.8970 - val_loss: 0.2949 - val_accuracy: 0.8957\n",
            "Epoch 95/1000\n",
            "54/71 [=====================>........] - ETA: 0s - loss: 0.2971 - accuracy: 0.8935\n",
            "Epoch 95: saving model to models\\keypoint_classifier.hdf5\n",
            "71/71 [==============================] - 0s 4ms/step - loss: 0.3016 - accuracy: 0.8913 - val_loss: 0.2412 - val_accuracy: 0.9177\n",
            "Epoch 96/1000\n",
            "59/71 [=======================>......] - ETA: 0s - loss: 0.2969 - accuracy: 0.8941\n",
            "Epoch 96: saving model to models\\keypoint_classifier.hdf5\n",
            "71/71 [==============================] - 0s 4ms/step - loss: 0.2985 - accuracy: 0.8922 - val_loss: 0.2172 - val_accuracy: 0.9257\n",
            "Epoch 97/1000\n",
            "68/71 [===========================>..] - ETA: 0s - loss: 0.2987 - accuracy: 0.8941\n",
            "Epoch 97: saving model to models\\keypoint_classifier.hdf5\n",
            "71/71 [==============================] - 0s 3ms/step - loss: 0.2977 - accuracy: 0.8949 - val_loss: 0.2133 - val_accuracy: 0.9300\n",
            "Epoch 98/1000\n",
            "64/71 [==========================>...] - ETA: 0s - loss: 0.2966 - accuracy: 0.8915\n",
            "Epoch 98: saving model to models\\keypoint_classifier.hdf5\n",
            "71/71 [==============================] - 0s 4ms/step - loss: 0.2933 - accuracy: 0.8916 - val_loss: 0.2671 - val_accuracy: 0.9010\n",
            "Epoch 98: early stopping\n"
          ]
        },
        {
          "data": {
            "text/plain": [
              "<keras.callbacks.History at 0x21a412ee700>"
            ]
          },
          "execution_count": 119,
          "metadata": {},
          "output_type": "execute_result"
        }
      ],
      "source": [
        "model.fit(\n",
        "    X_train,\n",
        "    y_train,\n",
        "    epochs=1000,\n",
        "    batch_size=128,\n",
        "    validation_data=(X_test, y_test),\n",
        "    callbacks=[cp_callback, es_callback]\n",
        ")"
      ]
    },
    {
      "cell_type": "code",
      "execution_count": 120,
      "metadata": {
        "colab": {
          "base_uri": "https://localhost:8080/"
        },
        "id": "pxvb2Y299hE3",
        "outputId": "59eb3185-2e37-4b9e-bc9d-ab1b8ac29b7f"
      },
      "outputs": [
        {
          "name": "stdout",
          "output_type": "stream",
          "text": [
            " 1/24 [>.............................] - ETA: 0s - loss: 0.2171 - accuracy: 0.9141"
          ]
        },
        {
          "name": "stdout",
          "output_type": "stream",
          "text": [
            "24/24 [==============================] - 0s 2ms/step - loss: 0.2671 - accuracy: 0.9010\n"
          ]
        }
      ],
      "source": [
        "# Model evaluation\n",
        "val_loss, val_acc = model.evaluate(X_test, y_test, batch_size=128)"
      ]
    },
    {
      "cell_type": "code",
      "execution_count": 121,
      "metadata": {
        "id": "RBkmDeUW9hE4"
      },
      "outputs": [],
      "source": [
        "# Loading the saved model\n",
        "model = tf.keras.models.load_model(model_save_path)"
      ]
    },
    {
      "cell_type": "code",
      "execution_count": 122,
      "metadata": {
        "colab": {
          "base_uri": "https://localhost:8080/"
        },
        "id": "tFz9Tb0I9hE4",
        "outputId": "1c3b3528-54ae-4ee2-ab04-77429211cbef"
      },
      "outputs": [
        {
          "name": "stdout",
          "output_type": "stream",
          "text": [
            "1/1 [==============================] - 0s 80ms/step\n",
            "[2.2248141e-10 9.9999774e-01 2.6963404e-11 4.2042059e-13 7.0515653e-13\n",
            " 1.7591608e-06 3.0899474e-12 2.8840304e-07 4.1970494e-10 3.4260172e-09\n",
            " 9.5407010e-08 2.0024961e-08]\n",
            "1\n"
          ]
        }
      ],
      "source": [
        "# Inference test\n",
        "predict_result = model.predict(np.array([X_test[0]]))\n",
        "print(np.squeeze(predict_result))\n",
        "print(np.argmax(np.squeeze(predict_result)))"
      ]
    },
    {
      "cell_type": "markdown",
      "metadata": {
        "id": "S3U4yNWx9hE4"
      },
      "source": [
        "# Confusion matrix"
      ]
    },
    {
      "cell_type": "code",
      "execution_count": 123,
      "metadata": {
        "colab": {
          "base_uri": "https://localhost:8080/",
          "height": 582
        },
        "id": "AP1V6SCk9hE5",
        "outputId": "08e41a80-7a4a-4619-8125-ecc371368d19"
      },
      "outputs": [
        {
          "name": "stdout",
          "output_type": "stream",
          "text": [
            "94/94 [==============================] - 0s 827us/step\n"
          ]
        },
        {
          "data": {
            "image/png": "[encoded data removed]",
            "text/plain": [
              "<Figure size 700x600 with 2 Axes>"
            ]
          },
          "metadata": {},
          "output_type": "display_data"
        },
        {
          "name": "stdout",
          "output_type": "stream",
          "text": [
            "Classification Report\n",
            "              precision    recall  f1-score   support\n",
            "\n",
            "           0       0.88      0.99      0.93       250\n",
            "           1       1.00      0.97      0.98       248\n",
            "           2       0.95      0.98      0.97       254\n",
            "           3       0.99      0.87      0.92       259\n",
            "           4       0.80      0.62      0.70       255\n",
            "           5       1.00      0.98      0.99       261\n",
            "           6       0.70      0.82      0.75       239\n",
            "           7       0.93      0.73      0.82       235\n",
            "           8       0.99      0.98      0.98       254\n",
            "           9       0.92      0.99      0.96       236\n",
            "          10       0.77      0.94      0.84       264\n",
            "          11       0.95      0.93      0.94       245\n",
            "\n",
            "    accuracy                           0.90      3000\n",
            "   macro avg       0.91      0.90      0.90      3000\n",
            "weighted avg       0.91      0.90      0.90      3000\n",
            "\n"
          ]
        }
      ],
      "source": [
        "import pandas as pd\n",
        "import seaborn as sns\n",
        "import matplotlib.pyplot as plt\n",
        "from sklearn.metrics import confusion_matrix, classification_report\n",
        "\n",
        "def print_confusion_matrix(y_true, y_pred, report=True):\n",
        "    labels = sorted(list(set(y_true)))\n",
        "    cmx_data = confusion_matrix(y_true, y_pred, labels=labels)\n",
        "    \n",
        "    df_cmx = pd.DataFrame(cmx_data, index=labels, columns=labels)\n",
        " \n",
        "    fig, ax = plt.subplots(figsize=(7, 6))\n",
        "    sns.heatmap(df_cmx, annot=True, fmt='g' ,square=False)\n",
        "    ax.set_ylim(len(set(y_true)), 0)\n",
        "    plt.show()\n",
        "    \n",
        "    if report:\n",
        "        print('Classification Report')\n",
        "        print(classification_report(y_test, y_pred))\n",
        "\n",
        "Y_pred = model.predict(X_test)\n",
        "y_pred = np.argmax(Y_pred, axis=1)\n",
        "\n",
        "print_confusion_matrix(y_test, y_pred)"
      ]
    },
    {
      "cell_type": "markdown",
      "metadata": {
        "id": "FNP6aqzc9hE5"
      },
      "source": [
        "# Convert to model for Tensorflow-Lite"
      ]
    },
    {
      "cell_type": "code",
      "execution_count": 124,
      "metadata": {
        "id": "ODjnYyld9hE6"
      },
      "outputs": [],
      "source": [
        "# Save as a model dedicated to inference\n",
        "model.save(model_save_path, include_optimizer=False)"
      ]
    },
    {
      "cell_type": "code",
      "execution_count": 125,
      "metadata": {
        "colab": {
          "base_uri": "https://localhost:8080/"
        },
        "id": "zRfuK8Y59hE6",
        "outputId": "a4ca585c-b5d5-4244-8291-8674063209bb"
      },
      "outputs": [
        {
          "name": "stdout",
          "output_type": "stream",
          "text": [
            "INFO:tensorflow:Assets written to: C:\\Users\\renyi\\AppData\\Local\\Temp\\tmp0lzff1uc\\assets\n"
          ]
        },
        {
          "name": "stderr",
          "output_type": "stream",
          "text": [
            "INFO:tensorflow:Assets written to: C:\\Users\\renyi\\AppData\\Local\\Temp\\tmp0lzff1uc\\assets\n"
          ]
        },
        {
          "data": {
            "text/plain": [
              "24120"
            ]
          },
          "execution_count": 125,
          "metadata": {},
          "output_type": "execute_result"
        }
      ],
      "source": [
        "# Transform model (quantization)\n",
        "\n",
        "converter = tf.lite.TFLiteConverter.from_keras_model(model)\n",
        "converter.optimizations = [tf.lite.Optimize.DEFAULT]\n",
        "tflite_quantized_model = converter.convert()\n",
        "\n",
        "open(tflite_save_path, 'wb').write(tflite_quantized_model)"
      ]
    },
    {
      "cell_type": "markdown",
      "metadata": {
        "id": "CHBPBXdx9hE6"
      },
      "source": [
        "# Inference test"
      ]
    },
    {
      "cell_type": "code",
      "execution_count": 126,
      "metadata": {
        "id": "mGAzLocO9hE7"
      },
      "outputs": [],
      "source": [
        "interpreter = tf.lite.Interpreter(model_path=tflite_save_path)\n",
        "interpreter.allocate_tensors()"
      ]
    },
    {
      "cell_type": "code",
      "execution_count": 127,
      "metadata": {
        "id": "oQuDK8YS9hE7"
      },
      "outputs": [],
      "source": [
        "# Get I / O tensor\n",
        "input_details = interpreter.get_input_details()\n",
        "output_details = interpreter.get_output_details()"
      ]
    },
    {
      "cell_type": "code",
      "execution_count": 128,
      "metadata": {
        "id": "2_ixAf_l9hE7"
      },
      "outputs": [],
      "source": [
        "interpreter.set_tensor(input_details[0]['index'], np.array([X_test[0]]))"
      ]
    },
    {
      "cell_type": "code",
      "execution_count": 129,
      "metadata": {
        "colab": {
          "base_uri": "https://localhost:8080/"
        },
        "id": "s4FoAnuc9hE7",
        "outputId": "91f18257-8d8b-4ef3-c558-e9b5f94fabbf",
        "scrolled": true
      },
      "outputs": [
        {
          "name": "stdout",
          "output_type": "stream",
          "text": [
            "CPU times: total: 0 ns\n",
            "Wall time: 0 ns\n"
          ]
        }
      ],
      "source": [
        "%%time\n",
        "# Inference implementation\n",
        "interpreter.invoke()\n",
        "tflite_results = interpreter.get_tensor(output_details[0]['index'])"
      ]
    },
    {
      "cell_type": "code",
      "execution_count": 130,
      "metadata": {
        "colab": {
          "base_uri": "https://localhost:8080/"
        },
        "id": "vONjp19J9hE8",
        "outputId": "77205e24-fd00-42c4-f7b6-e06e527c2cba"
      },
      "outputs": [
        {
          "name": "stdout",
          "output_type": "stream",
          "text": [
            "[1.9626975e-10 9.9999714e-01 2.3294222e-11 2.8195122e-13 6.8344776e-13\n",
            " 2.3830048e-06 2.4144150e-12 3.9322521e-07 4.3810353e-10 2.8865959e-09\n",
            " 1.1354214e-07 1.6047711e-08]\n",
            "1\n"
          ]
        }
      ],
      "source": [
        "print(np.squeeze(tflite_results))\n",
        "print(np.argmax(np.squeeze(tflite_results)))"
      ]
    }
  ],
  "metadata": {
    "accelerator": "GPU",
    "colab": {
      "collapsed_sections": [],
      "name": "keypoint_classification_EN.ipynb",
      "provenance": [],
      "toc_visible": true
    },
    "kernelspec": {
      "display_name": "Python 3",
      "language": "python",
      "name": "python3"
    },
    "language_info": {
      "codemirror_mode": {
        "name": "ipython",
        "version": 3
      },
      "file_extension": ".py",
      "mimetype": "text/x-python",
      "name": "python",
      "nbconvert_exporter": "python",
      "pygments_lexer": "ipython3",
      "version": "3.9.13"
    }
  },
  "nbformat": 4,
  "nbformat_minor": 0
}
