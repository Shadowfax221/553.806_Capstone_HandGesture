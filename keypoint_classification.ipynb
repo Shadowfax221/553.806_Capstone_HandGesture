{
  "cells": [
    {
      "cell_type": "code",
      "execution_count": 298,
      "metadata": {
        "id": "igMyGnjE9hEp"
      },
      "outputs": [],
      "source": [
        "import csv\n",
        "\n",
        "import numpy as np\n",
        "import tensorflow as tf\n",
        "from sklearn.model_selection import train_test_split\n",
        "\n",
        "RANDOM_SEED = 42"
      ]
    },
    {
      "cell_type": "code",
      "execution_count": 299,
      "metadata": {
        "id": "9NvZP2Zn9hEy"
      },
      "outputs": [],
      "source": [
        "dataset = 'datasets/keypoint1000.csv'\n",
        "model_save_path = 'models/keypoint_classifier.hdf5'\n",
        "tflite_save_path = 'models/keypoint_classifier.tflite'"
      ]
    },
    {
      "cell_type": "markdown",
      "metadata": {
        "id": "s5oMH7x19hEz"
      },
      "source": [
        "# Set number of classes"
      ]
    },
    {
      "cell_type": "code",
      "execution_count": 300,
      "metadata": {
        "id": "du4kodXL9hEz"
      },
      "outputs": [],
      "source": [
        "NUM_CLASSES = 12\n",
        "LABELS = ['call', 'dislike', 'fist', 'like', 'mute', 'ok', 'one', 'palm', 'peace', 'rock', 'stop', 'stop_inverted'] "
      ]
    },
    {
      "cell_type": "markdown",
      "metadata": {
        "id": "XjnL0uso9hEz"
      },
      "source": [
        "# Dataset reading"
      ]
    },
    {
      "cell_type": "code",
      "execution_count": 301,
      "metadata": {},
      "outputs": [],
      "source": [
        "def apply_rotation(label, points):\n",
        "    num_points = 21\n",
        "    point_0 = points[0]\n",
        "    point_8 = points[8]\n",
        "\n",
        "    if label == 'dislike' or label == 'like':\n",
        "        return points  # No rotation\n",
        "    elif label == 'call':\n",
        "        # Rotate to be parallel with X-axis\n",
        "        line = point_8 - point_0\n",
        "        angle = np.arctan2(line[2], line[0])  # Consider the X-Z plane\n",
        "        rotation_matrix = np.array([\n",
        "            [1, 0, 0],\n",
        "            [0, np.cos(angle), -np.sin(angle)],\n",
        "            [0, np.sin(angle), np.cos(angle)]\n",
        "        ])\n",
        "    else:\n",
        "        # Rotate to be parallel with Y-axis\n",
        "        line = point_8 - point_0\n",
        "        angle = np.arctan2(line[2], line[1])  # Consider the Y-Z plane\n",
        "        rotation_matrix = np.array([\n",
        "            [np.cos(angle), 0, np.sin(angle)],\n",
        "            [0, 1, 0],\n",
        "            [-np.sin(angle), 0, np.cos(angle)]\n",
        "        ])\n",
        "    \n",
        "    # Apply rotation\n",
        "    for i in range(num_points):\n",
        "        points[i] = np.dot(rotation_matrix, points[i])\n",
        "\n",
        "    return points\n"
      ]
    },
    {
      "cell_type": "code",
      "execution_count": 302,
      "metadata": {},
      "outputs": [],
      "source": [
        "def pre_process_dataset(X_dataset, y_dataset):\n",
        "    # Reshape to 3D\n",
        "    num_points = 21\n",
        "    reshaped_dataset = X_dataset.reshape(-1, num_points, 3)\n",
        "\n",
        "    # Shift coordinates\n",
        "    for i in range(len(reshaped_dataset)):\n",
        "        base_point = reshaped_dataset[i, 0]  # ID:0\n",
        "        for j in range(num_points):\n",
        "            reshaped_dataset[i, j] -= base_point\n",
        "\n",
        "    # Rotation\n",
        "    for i in range(len(reshaped_dataset)):\n",
        "        label = LABELS[y_dataset[i]]\n",
        "        reshaped_dataset[i] = apply_rotation(label, reshaped_dataset[i])\n",
        "\n",
        "    # Flatten\n",
        "    flattened_dataset = reshaped_dataset.reshape(-1, num_points * 3)\n",
        "\n",
        "    # Normalization\n",
        "    max_abs_value = np.max(np.abs(flattened_dataset))\n",
        "    normalized_dataset = flattened_dataset / max_abs_value\n",
        "\n",
        "    return normalized_dataset"
      ]
    },
    {
      "cell_type": "code",
      "execution_count": 303,
      "metadata": {
        "id": "QT5ZqtEz9hE0"
      },
      "outputs": [],
      "source": [
        "X_dataset = np.loadtxt(dataset, delimiter=',', dtype='float32', usecols=list(range(1, (21 * 3) + 1)))"
      ]
    },
    {
      "cell_type": "code",
      "execution_count": 304,
      "metadata": {
        "id": "QmoKFsp49hE0"
      },
      "outputs": [],
      "source": [
        "y_dataset = np.loadtxt(dataset, delimiter=',', dtype='int32', usecols=(0))"
      ]
    },
    {
      "cell_type": "code",
      "execution_count": 305,
      "metadata": {},
      "outputs": [],
      "source": [
        "X_dataset_preprocessed = pre_process_dataset(X_dataset, y_dataset)"
      ]
    },
    {
      "cell_type": "code",
      "execution_count": 306,
      "metadata": {
        "id": "xQU7JTZ_9hE0"
      },
      "outputs": [],
      "source": [
        "X_train, X_test, y_train, y_test = train_test_split(X_dataset_preprocessed, y_dataset, train_size=0.75, random_state=RANDOM_SEED)"
      ]
    },
    {
      "cell_type": "markdown",
      "metadata": {
        "id": "mxK_lETT9hE0"
      },
      "source": [
        "# Model building"
      ]
    },
    {
      "cell_type": "code",
      "execution_count": 307,
      "metadata": {
        "id": "vHBmUf1t9hE1"
      },
      "outputs": [],
      "source": [
        "model = tf.keras.models.Sequential([\n",
        "    tf.keras.layers.Input((21 * 3, )),\n",
        "    tf.keras.layers.Dropout(0.1),\n",
        "    tf.keras.layers.Dense(128, activation='relu'),  # Increased units\n",
        "    tf.keras.layers.BatchNormalization(),  # Added Batch Normalization\n",
        "    tf.keras.layers.Dropout(0.1),  # Adjusted dropout rate\n",
        "    tf.keras.layers.Dense(128, activation='relu'),  # Increased units\n",
        "    tf.keras.layers.BatchNormalization(),  # Added Batch Normalization\n",
        "    tf.keras.layers.Dense(64, activation='relu'),  # Increased units\n",
        "    tf.keras.layers.Dense(NUM_CLASSES, activation='softmax')\n",
        "])"
      ]
    },
    {
      "cell_type": "code",
      "execution_count": 308,
      "metadata": {
        "colab": {
          "base_uri": "https://localhost:8080/"
        },
        "id": "ypqky9tc9hE1",
        "outputId": "5db082bb-30e3-4110-bf63-a1ee777ecd46"
      },
      "outputs": [
        {
          "name": "stdout",
          "output_type": "stream",
          "text": [
            "Model: \"sequential_16\"\n",
            "_________________________________________________________________\n",
            " Layer (type)                Output Shape              Param #   \n",
            "=================================================================\n",
            " dropout_22 (Dropout)        (None, 63)                0         \n",
            "                                                                 \n",
            " dense_58 (Dense)            (None, 128)               8192      \n",
            "                                                                 \n",
            " batch_normalization_21 (Bat  (None, 128)              512       \n",
            " chNormalization)                                                \n",
            "                                                                 \n",
            " dropout_23 (Dropout)        (None, 128)               0         \n",
            "                                                                 \n",
            " dense_59 (Dense)            (None, 128)               16512     \n",
            "                                                                 \n",
            " batch_normalization_22 (Bat  (None, 128)              512       \n",
            " chNormalization)                                                \n",
            "                                                                 \n",
            " dense_60 (Dense)            (None, 64)                8256      \n",
            "                                                                 \n",
            " dense_61 (Dense)            (None, 12)                780       \n",
            "                                                                 \n",
            "=================================================================\n",
            "Total params: 34,764\n",
            "Trainable params: 34,252\n",
            "Non-trainable params: 512\n",
            "_________________________________________________________________\n"
          ]
        }
      ],
      "source": [
        "model.summary()  # tf.keras.utils.plot_model(model, show_shapes=True)"
      ]
    },
    {
      "cell_type": "code",
      "execution_count": 309,
      "metadata": {
        "id": "MbMjOflQ9hE1"
      },
      "outputs": [],
      "source": [
        "# Model checkpoint callback\n",
        "cp_callback = tf.keras.callbacks.ModelCheckpoint(\n",
        "    model_save_path, verbose=1, save_weights_only=False)\n",
        "# Callback for early stopping\n",
        "es_callback = tf.keras.callbacks.EarlyStopping(patience=30, verbose=1)"
      ]
    },
    {
      "cell_type": "code",
      "execution_count": 310,
      "metadata": {
        "id": "c3Dac0M_9hE2"
      },
      "outputs": [],
      "source": [
        "# Model compilation\n",
        "model.compile(\n",
        "    optimizer='adam',\n",
        "    loss='sparse_categorical_crossentropy',\n",
        "    metrics=['accuracy']\n",
        ")"
      ]
    },
    {
      "cell_type": "markdown",
      "metadata": {
        "id": "7XI0j1Iu9hE2"
      },
      "source": [
        "# Model training"
      ]
    },
    {
      "cell_type": "code",
      "execution_count": 311,
      "metadata": {},
      "outputs": [
        {
          "data": {
            "text/plain": [
              "<keras.callbacks.EarlyStopping at 0x21a401dfb80>"
            ]
          },
          "execution_count": 311,
          "metadata": {},
          "output_type": "execute_result"
        }
      ],
      "source": [
        "es_callback"
      ]
    },
    {
      "cell_type": "code",
      "execution_count": 312,
      "metadata": {
        "colab": {
          "base_uri": "https://localhost:8080/"
        },
        "id": "WirBl-JE9hE3",
        "outputId": "71b30ca2-8294-4d9d-8aa2-800d90d399de",
        "scrolled": true
      },
      "outputs": [
        {
          "name": "stdout",
          "output_type": "stream",
          "text": [
            "Epoch 1/1000\n"
          ]
        },
        {
          "name": "stdout",
          "output_type": "stream",
          "text": [
            "62/71 [=========================>....] - ETA: 0s - loss: 2.2971 - accuracy: 0.2082\n",
            "Epoch 1: saving model to models\\keypoint_classifier.hdf5\n",
            "71/71 [==============================] - 1s 7ms/step - loss: 2.2604 - accuracy: 0.2222 - val_loss: 2.3756 - val_accuracy: 0.1723\n",
            "Epoch 2/1000\n",
            "70/71 [============================>.] - ETA: 0s - loss: 1.7975 - accuracy: 0.3738\n",
            "Epoch 2: saving model to models\\keypoint_classifier.hdf5\n",
            "71/71 [==============================] - 0s 4ms/step - loss: 1.7979 - accuracy: 0.3736 - val_loss: 2.1992 - val_accuracy: 0.2097\n",
            "Epoch 3/1000\n",
            "56/71 [======================>.......] - ETA: 0s - loss: 1.6348 - accuracy: 0.4255\n",
            "Epoch 3: saving model to models\\keypoint_classifier.hdf5\n",
            "71/71 [==============================] - 0s 4ms/step - loss: 1.6209 - accuracy: 0.4302 - val_loss: 1.8624 - val_accuracy: 0.3290\n",
            "Epoch 4/1000\n",
            "57/71 [=======================>......] - ETA: 0s - loss: 1.5196 - accuracy: 0.4688\n",
            "Epoch 4: saving model to models\\keypoint_classifier.hdf5\n",
            "71/71 [==============================] - 0s 4ms/step - loss: 1.5080 - accuracy: 0.4742 - val_loss: 1.4848 - val_accuracy: 0.5490\n",
            "Epoch 5/1000\n",
            "54/71 [=====================>........] - ETA: 0s - loss: 1.4286 - accuracy: 0.5054\n",
            "Epoch 5: saving model to models\\keypoint_classifier.hdf5\n",
            "71/71 [==============================] - 0s 4ms/step - loss: 1.4093 - accuracy: 0.5130 - val_loss: 1.3778 - val_accuracy: 0.5460\n",
            "Epoch 6/1000\n",
            "63/71 [=========================>....] - ETA: 0s - loss: 1.2882 - accuracy: 0.5595\n",
            "Epoch 6: saving model to models\\keypoint_classifier.hdf5\n",
            "71/71 [==============================] - 0s 4ms/step - loss: 1.2893 - accuracy: 0.5577 - val_loss: 1.1469 - val_accuracy: 0.6673\n",
            "Epoch 7/1000\n",
            "53/71 [=====================>........] - ETA: 0s - loss: 1.1621 - accuracy: 0.6078\n",
            "Epoch 7: saving model to models\\keypoint_classifier.hdf5\n",
            "71/71 [==============================] - 0s 4ms/step - loss: 1.1477 - accuracy: 0.6134 - val_loss: 0.8524 - val_accuracy: 0.7660\n",
            "Epoch 8/1000\n",
            "70/71 [============================>.] - ETA: 0s - loss: 1.0613 - accuracy: 0.6372\n",
            "Epoch 8: saving model to models\\keypoint_classifier.hdf5\n",
            "71/71 [==============================] - 0s 4ms/step - loss: 1.0611 - accuracy: 0.6371 - val_loss: 0.7604 - val_accuracy: 0.7793\n",
            "Epoch 9/1000\n",
            "56/71 [======================>.......] - ETA: 0s - loss: 0.9717 - accuracy: 0.6660\n",
            "Epoch 9: saving model to models\\keypoint_classifier.hdf5\n",
            "71/71 [==============================] - 0s 4ms/step - loss: 0.9682 - accuracy: 0.6676 - val_loss: 0.6174 - val_accuracy: 0.8390\n",
            "Epoch 10/1000\n",
            "57/71 [=======================>......] - ETA: 0s - loss: 0.8816 - accuracy: 0.6970\n",
            "Epoch 10: saving model to models\\keypoint_classifier.hdf5\n",
            "71/71 [==============================] - 0s 4ms/step - loss: 0.8798 - accuracy: 0.6962 - val_loss: 0.6241 - val_accuracy: 0.8083\n",
            "Epoch 11/1000\n",
            "58/71 [=======================>......] - ETA: 0s - loss: 0.8300 - accuracy: 0.7095\n",
            "Epoch 11: saving model to models\\keypoint_classifier.hdf5\n",
            "71/71 [==============================] - 0s 4ms/step - loss: 0.8302 - accuracy: 0.7093 - val_loss: 0.4558 - val_accuracy: 0.8617\n",
            "Epoch 12/1000\n",
            "69/71 [============================>.] - ETA: 0s - loss: 0.7793 - accuracy: 0.7301\n",
            "Epoch 12: saving model to models\\keypoint_classifier.hdf5\n",
            "71/71 [==============================] - 0s 4ms/step - loss: 0.7787 - accuracy: 0.7304 - val_loss: 0.3891 - val_accuracy: 0.8813\n",
            "Epoch 13/1000\n",
            "57/71 [=======================>......] - ETA: 0s - loss: 0.7448 - accuracy: 0.7431\n",
            "Epoch 13: saving model to models\\keypoint_classifier.hdf5\n",
            "71/71 [==============================] - 0s 4ms/step - loss: 0.7333 - accuracy: 0.7470 - val_loss: 0.4080 - val_accuracy: 0.8683\n",
            "Epoch 14/1000\n",
            "70/71 [============================>.] - ETA: 0s - loss: 0.6878 - accuracy: 0.7607\n",
            "Epoch 14: saving model to models\\keypoint_classifier.hdf5\n",
            "71/71 [==============================] - 0s 4ms/step - loss: 0.6870 - accuracy: 0.7610 - val_loss: 0.3565 - val_accuracy: 0.8790\n",
            "Epoch 15/1000\n",
            "55/71 [======================>.......] - ETA: 0s - loss: 0.6727 - accuracy: 0.7652\n",
            "Epoch 15: saving model to models\\keypoint_classifier.hdf5\n",
            "71/71 [==============================] - 0s 4ms/step - loss: 0.6666 - accuracy: 0.7668 - val_loss: 0.4984 - val_accuracy: 0.8127\n",
            "Epoch 16/1000\n",
            "53/71 [=====================>........] - ETA: 0s - loss: 0.6520 - accuracy: 0.7684\n",
            "Epoch 16: saving model to models\\keypoint_classifier.hdf5\n",
            "71/71 [==============================] - 0s 4ms/step - loss: 0.6479 - accuracy: 0.7679 - val_loss: 0.3199 - val_accuracy: 0.9010\n",
            "Epoch 17/1000\n",
            "66/71 [==========================>...] - ETA: 0s - loss: 0.6324 - accuracy: 0.7745\n",
            "Epoch 17: saving model to models\\keypoint_classifier.hdf5\n",
            "71/71 [==============================] - 0s 4ms/step - loss: 0.6286 - accuracy: 0.7747 - val_loss: 0.4617 - val_accuracy: 0.8313\n",
            "Epoch 18/1000\n",
            "55/71 [======================>.......] - ETA: 0s - loss: 0.5931 - accuracy: 0.7839\n",
            "Epoch 18: saving model to models\\keypoint_classifier.hdf5\n",
            "71/71 [==============================] - 0s 4ms/step - loss: 0.5990 - accuracy: 0.7832 - val_loss: 0.2890 - val_accuracy: 0.9060\n",
            "Epoch 19/1000\n",
            "56/71 [======================>.......] - ETA: 0s - loss: 0.5821 - accuracy: 0.7846\n",
            "Epoch 19: saving model to models\\keypoint_classifier.hdf5\n",
            "71/71 [==============================] - 0s 4ms/step - loss: 0.5813 - accuracy: 0.7848 - val_loss: 0.2997 - val_accuracy: 0.9050\n",
            "Epoch 20/1000\n",
            "71/71 [==============================] - ETA: 0s - loss: 0.5717 - accuracy: 0.7951\n",
            "Epoch 20: saving model to models\\keypoint_classifier.hdf5\n",
            "71/71 [==============================] - 0s 4ms/step - loss: 0.5717 - accuracy: 0.7951 - val_loss: 0.4066 - val_accuracy: 0.8520\n",
            "Epoch 21/1000\n",
            "66/71 [==========================>...] - ETA: 0s - loss: 0.5821 - accuracy: 0.7957\n",
            "Epoch 21: saving model to models\\keypoint_classifier.hdf5\n",
            "71/71 [==============================] - 0s 4ms/step - loss: 0.5793 - accuracy: 0.7956 - val_loss: 0.4328 - val_accuracy: 0.8487\n",
            "Epoch 22/1000\n",
            "67/71 [===========================>..] - ETA: 0s - loss: 0.5430 - accuracy: 0.8021\n",
            "Epoch 22: saving model to models\\keypoint_classifier.hdf5\n",
            "71/71 [==============================] - 0s 4ms/step - loss: 0.5463 - accuracy: 0.8011 - val_loss: 0.3192 - val_accuracy: 0.8957\n",
            "Epoch 23/1000\n",
            "69/71 [============================>.] - ETA: 0s - loss: 0.5494 - accuracy: 0.8000\n",
            "Epoch 23: saving model to models\\keypoint_classifier.hdf5\n",
            "71/71 [==============================] - 0s 4ms/step - loss: 0.5482 - accuracy: 0.8018 - val_loss: 0.3025 - val_accuracy: 0.9003\n",
            "Epoch 24/1000\n",
            "54/71 [=====================>........] - ETA: 0s - loss: 0.5246 - accuracy: 0.8061\n",
            "Epoch 24: saving model to models\\keypoint_classifier.hdf5\n",
            "71/71 [==============================] - 0s 4ms/step - loss: 0.5247 - accuracy: 0.8062 - val_loss: 0.3047 - val_accuracy: 0.8993\n",
            "Epoch 25/1000\n",
            "69/71 [============================>.] - ETA: 0s - loss: 0.5343 - accuracy: 0.8046\n",
            "Epoch 25: saving model to models\\keypoint_classifier.hdf5\n",
            "71/71 [==============================] - 0s 4ms/step - loss: 0.5361 - accuracy: 0.8046 - val_loss: 0.3091 - val_accuracy: 0.8953\n",
            "Epoch 26/1000\n",
            "65/71 [==========================>...] - ETA: 0s - loss: 0.5177 - accuracy: 0.8081\n",
            "Epoch 26: saving model to models\\keypoint_classifier.hdf5\n",
            "71/71 [==============================] - 0s 4ms/step - loss: 0.5207 - accuracy: 0.8078 - val_loss: 0.3004 - val_accuracy: 0.8993\n",
            "Epoch 27/1000\n",
            "55/71 [======================>.......] - ETA: 0s - loss: 0.5126 - accuracy: 0.8118\n",
            "Epoch 27: saving model to models\\keypoint_classifier.hdf5\n",
            "71/71 [==============================] - 0s 4ms/step - loss: 0.5056 - accuracy: 0.8142 - val_loss: 0.2484 - val_accuracy: 0.9173\n",
            "Epoch 28/1000\n",
            "69/71 [============================>.] - ETA: 0s - loss: 0.4963 - accuracy: 0.8193\n",
            "Epoch 28: saving model to models\\keypoint_classifier.hdf5\n",
            "71/71 [==============================] - 0s 4ms/step - loss: 0.4978 - accuracy: 0.8194 - val_loss: 0.3566 - val_accuracy: 0.8833\n",
            "Epoch 29/1000\n",
            "70/71 [============================>.] - ETA: 0s - loss: 0.4868 - accuracy: 0.8224\n",
            "Epoch 29: saving model to models\\keypoint_classifier.hdf5\n",
            "71/71 [==============================] - 0s 4ms/step - loss: 0.4868 - accuracy: 0.8222 - val_loss: 0.3390 - val_accuracy: 0.8803\n",
            "Epoch 30/1000\n",
            "69/71 [============================>.] - ETA: 0s - loss: 0.4788 - accuracy: 0.8252\n",
            "Epoch 30: saving model to models\\keypoint_classifier.hdf5\n",
            "71/71 [==============================] - 0s 4ms/step - loss: 0.4795 - accuracy: 0.8253 - val_loss: 0.3316 - val_accuracy: 0.8757\n",
            "Epoch 31/1000\n",
            "69/71 [============================>.] - ETA: 0s - loss: 0.4738 - accuracy: 0.8214\n",
            "Epoch 31: saving model to models\\keypoint_classifier.hdf5\n",
            "71/71 [==============================] - 0s 4ms/step - loss: 0.4751 - accuracy: 0.8218 - val_loss: 0.2793 - val_accuracy: 0.9097\n",
            "Epoch 32/1000\n",
            "56/71 [======================>.......] - ETA: 0s - loss: 0.4740 - accuracy: 0.8271\n",
            "Epoch 32: saving model to models\\keypoint_classifier.hdf5\n",
            "71/71 [==============================] - 0s 4ms/step - loss: 0.4732 - accuracy: 0.8271 - val_loss: 0.2441 - val_accuracy: 0.9087\n",
            "Epoch 33/1000\n",
            "55/71 [======================>.......] - ETA: 0s - loss: 0.4568 - accuracy: 0.8334\n",
            "Epoch 33: saving model to models\\keypoint_classifier.hdf5\n",
            "71/71 [==============================] - 0s 4ms/step - loss: 0.4514 - accuracy: 0.8334 - val_loss: 0.2510 - val_accuracy: 0.9183\n",
            "Epoch 34/1000\n",
            "71/71 [==============================] - ETA: 0s - loss: 0.4483 - accuracy: 0.8341\n",
            "Epoch 34: saving model to models\\keypoint_classifier.hdf5\n",
            "71/71 [==============================] - 0s 4ms/step - loss: 0.4483 - accuracy: 0.8341 - val_loss: 0.2598 - val_accuracy: 0.9190\n",
            "Epoch 35/1000\n",
            "67/71 [===========================>..] - ETA: 0s - loss: 0.4667 - accuracy: 0.8245\n",
            "Epoch 35: saving model to models\\keypoint_classifier.hdf5\n",
            "71/71 [==============================] - 0s 4ms/step - loss: 0.4646 - accuracy: 0.8258 - val_loss: 0.2481 - val_accuracy: 0.9127\n",
            "Epoch 36/1000\n",
            "54/71 [=====================>........] - ETA: 0s - loss: 0.4522 - accuracy: 0.8330\n",
            "Epoch 36: saving model to models\\keypoint_classifier.hdf5\n",
            "71/71 [==============================] - 0s 4ms/step - loss: 0.4543 - accuracy: 0.8334 - val_loss: 0.3723 - val_accuracy: 0.8723\n",
            "Epoch 37/1000\n",
            "55/71 [======================>.......] - ETA: 0s - loss: 0.4421 - accuracy: 0.8375\n",
            "Epoch 37: saving model to models\\keypoint_classifier.hdf5\n",
            "71/71 [==============================] - 0s 4ms/step - loss: 0.4543 - accuracy: 0.8333 - val_loss: 0.2145 - val_accuracy: 0.9380\n",
            "Epoch 38/1000\n",
            "71/71 [==============================] - ETA: 0s - loss: 0.4515 - accuracy: 0.8344\n",
            "Epoch 38: saving model to models\\keypoint_classifier.hdf5\n",
            "71/71 [==============================] - 0s 4ms/step - loss: 0.4515 - accuracy: 0.8344 - val_loss: 0.3226 - val_accuracy: 0.8760\n",
            "Epoch 39/1000\n",
            "68/71 [===========================>..] - ETA: 0s - loss: 0.4386 - accuracy: 0.8395\n",
            "Epoch 39: saving model to models\\keypoint_classifier.hdf5\n",
            "71/71 [==============================] - 0s 4ms/step - loss: 0.4398 - accuracy: 0.8397 - val_loss: 0.2840 - val_accuracy: 0.9013\n",
            "Epoch 40/1000\n",
            "66/71 [==========================>...] - ETA: 0s - loss: 0.4404 - accuracy: 0.8364\n",
            "Epoch 40: saving model to models\\keypoint_classifier.hdf5\n",
            "71/71 [==============================] - 0s 4ms/step - loss: 0.4391 - accuracy: 0.8374 - val_loss: 0.2259 - val_accuracy: 0.9250\n",
            "Epoch 41/1000\n",
            "67/71 [===========================>..] - ETA: 0s - loss: 0.4105 - accuracy: 0.8492\n",
            "Epoch 41: saving model to models\\keypoint_classifier.hdf5\n",
            "71/71 [==============================] - 0s 4ms/step - loss: 0.4099 - accuracy: 0.8500 - val_loss: 0.2403 - val_accuracy: 0.9233\n",
            "Epoch 42/1000\n",
            "67/71 [===========================>..] - ETA: 0s - loss: 0.4192 - accuracy: 0.8470\n",
            "Epoch 42: saving model to models\\keypoint_classifier.hdf5\n",
            "71/71 [==============================] - 0s 5ms/step - loss: 0.4189 - accuracy: 0.8472 - val_loss: 0.2443 - val_accuracy: 0.9107\n",
            "Epoch 43/1000\n",
            "64/71 [==========================>...] - ETA: 0s - loss: 0.4145 - accuracy: 0.8499\n",
            "Epoch 43: saving model to models\\keypoint_classifier.hdf5\n",
            "71/71 [==============================] - 0s 4ms/step - loss: 0.4151 - accuracy: 0.8491 - val_loss: 0.2485 - val_accuracy: 0.9067\n",
            "Epoch 44/1000\n",
            "59/71 [=======================>......] - ETA: 0s - loss: 0.4203 - accuracy: 0.8444\n",
            "Epoch 44: saving model to models\\keypoint_classifier.hdf5\n",
            "71/71 [==============================] - 0s 4ms/step - loss: 0.4142 - accuracy: 0.8453 - val_loss: 0.2624 - val_accuracy: 0.9143\n",
            "Epoch 45/1000\n",
            "71/71 [==============================] - ETA: 0s - loss: 0.4063 - accuracy: 0.8484\n",
            "Epoch 45: saving model to models\\keypoint_classifier.hdf5\n",
            "71/71 [==============================] - 0s 4ms/step - loss: 0.4063 - accuracy: 0.8484 - val_loss: 0.2408 - val_accuracy: 0.9143\n",
            "Epoch 46/1000\n",
            "55/71 [======================>.......] - ETA: 0s - loss: 0.4113 - accuracy: 0.8484\n",
            "Epoch 46: saving model to models\\keypoint_classifier.hdf5\n",
            "71/71 [==============================] - 0s 4ms/step - loss: 0.4086 - accuracy: 0.8492 - val_loss: 0.2418 - val_accuracy: 0.9187\n",
            "Epoch 47/1000\n",
            "55/71 [======================>.......] - ETA: 0s - loss: 0.4014 - accuracy: 0.8537\n",
            "Epoch 47: saving model to models\\keypoint_classifier.hdf5\n",
            "71/71 [==============================] - 0s 4ms/step - loss: 0.4054 - accuracy: 0.8517 - val_loss: 0.3159 - val_accuracy: 0.8783\n",
            "Epoch 48/1000\n",
            "68/71 [===========================>..] - ETA: 0s - loss: 0.4024 - accuracy: 0.8568\n",
            "Epoch 48: saving model to models\\keypoint_classifier.hdf5\n",
            "71/71 [==============================] - 0s 4ms/step - loss: 0.4027 - accuracy: 0.8566 - val_loss: 0.2950 - val_accuracy: 0.9017\n",
            "Epoch 49/1000\n",
            "56/71 [======================>.......] - ETA: 0s - loss: 0.3946 - accuracy: 0.8497\n",
            "Epoch 49: saving model to models\\keypoint_classifier.hdf5\n",
            "71/71 [==============================] - 0s 4ms/step - loss: 0.4005 - accuracy: 0.8490 - val_loss: 0.2222 - val_accuracy: 0.9147\n",
            "Epoch 50/1000\n",
            "55/71 [======================>.......] - ETA: 0s - loss: 0.4182 - accuracy: 0.8432\n",
            "Epoch 50: saving model to models\\keypoint_classifier.hdf5\n",
            "71/71 [==============================] - 0s 4ms/step - loss: 0.4111 - accuracy: 0.8473 - val_loss: 0.2518 - val_accuracy: 0.9053\n",
            "Epoch 51/1000\n",
            "56/71 [======================>.......] - ETA: 0s - loss: 0.3941 - accuracy: 0.8504\n",
            "Epoch 51: saving model to models\\keypoint_classifier.hdf5\n",
            "71/71 [==============================] - 0s 4ms/step - loss: 0.3896 - accuracy: 0.8536 - val_loss: 0.3630 - val_accuracy: 0.8673\n",
            "Epoch 52/1000\n",
            "69/71 [============================>.] - ETA: 0s - loss: 0.3976 - accuracy: 0.8559\n",
            "Epoch 52: saving model to models\\keypoint_classifier.hdf5\n",
            "71/71 [==============================] - 0s 4ms/step - loss: 0.3980 - accuracy: 0.8559 - val_loss: 0.2097 - val_accuracy: 0.9367\n",
            "Epoch 53/1000\n",
            "55/71 [======================>.......] - ETA: 0s - loss: 0.3783 - accuracy: 0.8578\n",
            "Epoch 53: saving model to models\\keypoint_classifier.hdf5\n",
            "71/71 [==============================] - 0s 4ms/step - loss: 0.3748 - accuracy: 0.8569 - val_loss: 0.2343 - val_accuracy: 0.9153\n",
            "Epoch 54/1000\n",
            "70/71 [============================>.] - ETA: 0s - loss: 0.3754 - accuracy: 0.8578\n",
            "Epoch 54: saving model to models\\keypoint_classifier.hdf5\n",
            "71/71 [==============================] - 0s 4ms/step - loss: 0.3749 - accuracy: 0.8579 - val_loss: 0.2388 - val_accuracy: 0.9250\n",
            "Epoch 55/1000\n",
            "55/71 [======================>.......] - ETA: 0s - loss: 0.3651 - accuracy: 0.8675\n",
            "Epoch 55: saving model to models\\keypoint_classifier.hdf5\n",
            "71/71 [==============================] - 0s 4ms/step - loss: 0.3694 - accuracy: 0.8649 - val_loss: 0.2745 - val_accuracy: 0.9050\n",
            "Epoch 56/1000\n",
            "53/71 [=====================>........] - ETA: 0s - loss: 0.3765 - accuracy: 0.8606\n",
            "Epoch 56: saving model to models\\keypoint_classifier.hdf5\n",
            "71/71 [==============================] - 0s 4ms/step - loss: 0.3856 - accuracy: 0.8569 - val_loss: 0.3882 - val_accuracy: 0.8517\n",
            "Epoch 57/1000\n",
            "56/71 [======================>.......] - ETA: 0s - loss: 0.3852 - accuracy: 0.8567\n",
            "Epoch 57: saving model to models\\keypoint_classifier.hdf5\n",
            "71/71 [==============================] - 0s 4ms/step - loss: 0.3806 - accuracy: 0.8604 - val_loss: 0.2892 - val_accuracy: 0.9037\n",
            "Epoch 58/1000\n",
            "58/71 [=======================>......] - ETA: 0s - loss: 0.3610 - accuracy: 0.8662\n",
            "Epoch 58: saving model to models\\keypoint_classifier.hdf5\n",
            "71/71 [==============================] - 0s 4ms/step - loss: 0.3611 - accuracy: 0.8676 - val_loss: 0.2698 - val_accuracy: 0.8993\n",
            "Epoch 59/1000\n",
            "56/71 [======================>.......] - ETA: 0s - loss: 0.3731 - accuracy: 0.8624\n",
            "Epoch 59: saving model to models\\keypoint_classifier.hdf5\n",
            "71/71 [==============================] - 0s 4ms/step - loss: 0.3682 - accuracy: 0.8641 - val_loss: 0.2196 - val_accuracy: 0.9340\n",
            "Epoch 60/1000\n",
            "63/71 [=========================>....] - ETA: 0s - loss: 0.3580 - accuracy: 0.8684\n",
            "Epoch 60: saving model to models\\keypoint_classifier.hdf5\n",
            "71/71 [==============================] - 0s 4ms/step - loss: 0.3580 - accuracy: 0.8691 - val_loss: 0.2213 - val_accuracy: 0.9297\n",
            "Epoch 61/1000\n",
            "69/71 [============================>.] - ETA: 0s - loss: 0.3635 - accuracy: 0.8662\n",
            "Epoch 61: saving model to models\\keypoint_classifier.hdf5\n",
            "71/71 [==============================] - 0s 4ms/step - loss: 0.3645 - accuracy: 0.8666 - val_loss: 0.3952 - val_accuracy: 0.8703\n",
            "Epoch 62/1000\n",
            "70/71 [============================>.] - ETA: 0s - loss: 0.3636 - accuracy: 0.8681\n",
            "Epoch 62: saving model to models\\keypoint_classifier.hdf5\n",
            "71/71 [==============================] - 0s 4ms/step - loss: 0.3634 - accuracy: 0.8681 - val_loss: 0.2232 - val_accuracy: 0.9330\n",
            "Epoch 63/1000\n",
            "64/71 [==========================>...] - ETA: 0s - loss: 0.3457 - accuracy: 0.8728\n",
            "Epoch 63: saving model to models\\keypoint_classifier.hdf5\n",
            "71/71 [==============================] - 0s 4ms/step - loss: 0.3443 - accuracy: 0.8737 - val_loss: 0.2233 - val_accuracy: 0.9263\n",
            "Epoch 64/1000\n",
            "53/71 [=====================>........] - ETA: 0s - loss: 0.3628 - accuracy: 0.8669\n",
            "Epoch 64: saving model to models\\keypoint_classifier.hdf5\n",
            "71/71 [==============================] - 0s 4ms/step - loss: 0.3563 - accuracy: 0.8672 - val_loss: 0.2237 - val_accuracy: 0.9250\n",
            "Epoch 65/1000\n",
            "55/71 [======================>.......] - ETA: 0s - loss: 0.3322 - accuracy: 0.8786\n",
            "Epoch 65: saving model to models\\keypoint_classifier.hdf5\n",
            "71/71 [==============================] - 0s 4ms/step - loss: 0.3408 - accuracy: 0.8757 - val_loss: 0.2141 - val_accuracy: 0.9363\n",
            "Epoch 66/1000\n",
            "69/71 [============================>.] - ETA: 0s - loss: 0.3395 - accuracy: 0.8726\n",
            "Epoch 66: saving model to models\\keypoint_classifier.hdf5\n",
            "71/71 [==============================] - 0s 4ms/step - loss: 0.3421 - accuracy: 0.8721 - val_loss: 0.3106 - val_accuracy: 0.8860\n",
            "Epoch 67/1000\n",
            "54/71 [=====================>........] - ETA: 0s - loss: 0.3540 - accuracy: 0.8689\n",
            "Epoch 67: saving model to models\\keypoint_classifier.hdf5\n",
            "71/71 [==============================] - 0s 4ms/step - loss: 0.3592 - accuracy: 0.8666 - val_loss: 0.2214 - val_accuracy: 0.9140\n",
            "Epoch 68/1000\n",
            "58/71 [=======================>......] - ETA: 0s - loss: 0.3535 - accuracy: 0.8711\n",
            "Epoch 68: saving model to models\\keypoint_classifier.hdf5\n",
            "71/71 [==============================] - 0s 4ms/step - loss: 0.3599 - accuracy: 0.8704 - val_loss: 0.2393 - val_accuracy: 0.9193\n",
            "Epoch 69/1000\n",
            "54/71 [=====================>........] - ETA: 0s - loss: 0.3593 - accuracy: 0.8705\n",
            "Epoch 69: saving model to models\\keypoint_classifier.hdf5\n",
            "71/71 [==============================] - 0s 4ms/step - loss: 0.3477 - accuracy: 0.8733 - val_loss: 0.2190 - val_accuracy: 0.9243\n",
            "Epoch 70/1000\n",
            "69/71 [============================>.] - ETA: 0s - loss: 0.3238 - accuracy: 0.8767\n",
            "Epoch 70: saving model to models\\keypoint_classifier.hdf5\n",
            "71/71 [==============================] - 0s 4ms/step - loss: 0.3247 - accuracy: 0.8764 - val_loss: 0.2602 - val_accuracy: 0.9017\n",
            "Epoch 71/1000\n",
            "53/71 [=====================>........] - ETA: 0s - loss: 0.3298 - accuracy: 0.8757\n",
            "Epoch 71: saving model to models\\keypoint_classifier.hdf5\n",
            "71/71 [==============================] - 0s 4ms/step - loss: 0.3333 - accuracy: 0.8752 - val_loss: 0.3608 - val_accuracy: 0.8587\n",
            "Epoch 72/1000\n",
            "55/71 [======================>.......] - ETA: 0s - loss: 0.3323 - accuracy: 0.8776\n",
            "Epoch 72: saving model to models\\keypoint_classifier.hdf5\n",
            "71/71 [==============================] - 0s 4ms/step - loss: 0.3402 - accuracy: 0.8733 - val_loss: 0.2904 - val_accuracy: 0.9103\n",
            "Epoch 73/1000\n",
            "55/71 [======================>.......] - ETA: 0s - loss: 0.3359 - accuracy: 0.8808\n",
            "Epoch 73: saving model to models\\keypoint_classifier.hdf5\n",
            "71/71 [==============================] - 0s 4ms/step - loss: 0.3339 - accuracy: 0.8808 - val_loss: 0.2308 - val_accuracy: 0.9167\n",
            "Epoch 74/1000\n",
            "61/71 [========================>.....] - ETA: 0s - loss: 0.3197 - accuracy: 0.8796\n",
            "Epoch 74: saving model to models\\keypoint_classifier.hdf5\n",
            "71/71 [==============================] - 0s 4ms/step - loss: 0.3221 - accuracy: 0.8788 - val_loss: 0.2482 - val_accuracy: 0.9013\n",
            "Epoch 75/1000\n",
            "56/71 [======================>.......] - ETA: 0s - loss: 0.3188 - accuracy: 0.8818\n",
            "Epoch 75: saving model to models\\keypoint_classifier.hdf5\n",
            "71/71 [==============================] - 0s 4ms/step - loss: 0.3204 - accuracy: 0.8801 - val_loss: 0.2109 - val_accuracy: 0.9197\n",
            "Epoch 76/1000\n",
            "63/71 [=========================>....] - ETA: 0s - loss: 0.3400 - accuracy: 0.8738\n",
            "Epoch 76: saving model to models\\keypoint_classifier.hdf5\n",
            "71/71 [==============================] - 0s 4ms/step - loss: 0.3375 - accuracy: 0.8747 - val_loss: 0.2027 - val_accuracy: 0.9333\n",
            "Epoch 77/1000\n",
            "69/71 [============================>.] - ETA: 0s - loss: 0.3290 - accuracy: 0.8799\n",
            "Epoch 77: saving model to models\\keypoint_classifier.hdf5\n",
            "71/71 [==============================] - 0s 4ms/step - loss: 0.3285 - accuracy: 0.8801 - val_loss: 0.2533 - val_accuracy: 0.9093\n",
            "Epoch 78/1000\n",
            "56/71 [======================>.......] - ETA: 0s - loss: 0.3290 - accuracy: 0.8774\n",
            "Epoch 78: saving model to models\\keypoint_classifier.hdf5\n",
            "71/71 [==============================] - 0s 4ms/step - loss: 0.3217 - accuracy: 0.8806 - val_loss: 0.2045 - val_accuracy: 0.9340\n",
            "Epoch 79/1000\n",
            "56/71 [======================>.......] - ETA: 0s - loss: 0.3085 - accuracy: 0.8855\n",
            "Epoch 79: saving model to models\\keypoint_classifier.hdf5\n",
            "71/71 [==============================] - 0s 4ms/step - loss: 0.3175 - accuracy: 0.8839 - val_loss: 0.2306 - val_accuracy: 0.9180\n",
            "Epoch 80/1000\n",
            "55/71 [======================>.......] - ETA: 0s - loss: 0.3129 - accuracy: 0.8891\n",
            "Epoch 80: saving model to models\\keypoint_classifier.hdf5\n",
            "71/71 [==============================] - 0s 4ms/step - loss: 0.3166 - accuracy: 0.8863 - val_loss: 0.2135 - val_accuracy: 0.9380\n",
            "Epoch 81/1000\n",
            "54/71 [=====================>........] - ETA: 0s - loss: 0.3142 - accuracy: 0.8831\n",
            "Epoch 81: saving model to models\\keypoint_classifier.hdf5\n",
            "71/71 [==============================] - 0s 4ms/step - loss: 0.3133 - accuracy: 0.8842 - val_loss: 0.1726 - val_accuracy: 0.9453\n",
            "Epoch 82/1000\n",
            "56/71 [======================>.......] - ETA: 0s - loss: 0.3000 - accuracy: 0.8919\n",
            "Epoch 82: saving model to models\\keypoint_classifier.hdf5\n",
            "71/71 [==============================] - 0s 4ms/step - loss: 0.3033 - accuracy: 0.8903 - val_loss: 0.2219 - val_accuracy: 0.9067\n",
            "Epoch 83/1000\n",
            "70/71 [============================>.] - ETA: 0s - loss: 0.3100 - accuracy: 0.8875\n",
            "Epoch 83: saving model to models\\keypoint_classifier.hdf5\n",
            "71/71 [==============================] - 0s 4ms/step - loss: 0.3103 - accuracy: 0.8871 - val_loss: 0.2431 - val_accuracy: 0.9163\n",
            "Epoch 84/1000\n",
            "55/71 [======================>.......] - ETA: 0s - loss: 0.3197 - accuracy: 0.8801\n",
            "Epoch 84: saving model to models\\keypoint_classifier.hdf5\n",
            "71/71 [==============================] - 0s 4ms/step - loss: 0.3161 - accuracy: 0.8819 - val_loss: 0.2419 - val_accuracy: 0.9160\n",
            "Epoch 85/1000\n",
            "71/71 [==============================] - ETA: 0s - loss: 0.3101 - accuracy: 0.8884\n",
            "Epoch 85: saving model to models\\keypoint_classifier.hdf5\n",
            "71/71 [==============================] - 0s 4ms/step - loss: 0.3101 - accuracy: 0.8884 - val_loss: 0.2137 - val_accuracy: 0.9287\n",
            "Epoch 86/1000\n",
            "56/71 [======================>.......] - ETA: 0s - loss: 0.3092 - accuracy: 0.8870\n",
            "Epoch 86: saving model to models\\keypoint_classifier.hdf5\n",
            "71/71 [==============================] - 0s 4ms/step - loss: 0.3080 - accuracy: 0.8869 - val_loss: 0.1815 - val_accuracy: 0.9373\n",
            "Epoch 87/1000\n",
            "54/71 [=====================>........] - ETA: 0s - loss: 0.3075 - accuracy: 0.8877\n",
            "Epoch 87: saving model to models\\keypoint_classifier.hdf5\n",
            "71/71 [==============================] - 0s 4ms/step - loss: 0.3121 - accuracy: 0.8868 - val_loss: 0.3107 - val_accuracy: 0.9047\n",
            "Epoch 88/1000\n",
            "55/71 [======================>.......] - ETA: 0s - loss: 0.2876 - accuracy: 0.8994\n",
            "Epoch 88: saving model to models\\keypoint_classifier.hdf5\n",
            "71/71 [==============================] - 0s 4ms/step - loss: 0.2853 - accuracy: 0.8994 - val_loss: 0.2326 - val_accuracy: 0.9050\n",
            "Epoch 89/1000\n",
            "58/71 [=======================>......] - ETA: 0s - loss: 0.2887 - accuracy: 0.8908\n",
            "Epoch 89: saving model to models\\keypoint_classifier.hdf5\n",
            "71/71 [==============================] - 0s 4ms/step - loss: 0.2900 - accuracy: 0.8899 - val_loss: 0.2357 - val_accuracy: 0.9120\n",
            "Epoch 90/1000\n",
            "55/71 [======================>.......] - ETA: 0s - loss: 0.2852 - accuracy: 0.8957\n",
            "Epoch 90: saving model to models\\keypoint_classifier.hdf5\n",
            "71/71 [==============================] - 0s 4ms/step - loss: 0.2918 - accuracy: 0.8922 - val_loss: 0.2488 - val_accuracy: 0.9157\n",
            "Epoch 91/1000\n",
            "60/71 [========================>.....] - ETA: 0s - loss: 0.2982 - accuracy: 0.8895\n",
            "Epoch 91: saving model to models\\keypoint_classifier.hdf5\n",
            "71/71 [==============================] - 0s 4ms/step - loss: 0.2986 - accuracy: 0.8902 - val_loss: 0.3030 - val_accuracy: 0.9010\n",
            "Epoch 92/1000\n",
            "55/71 [======================>.......] - ETA: 0s - loss: 0.2941 - accuracy: 0.8930\n",
            "Epoch 92: saving model to models\\keypoint_classifier.hdf5\n",
            "71/71 [==============================] - 0s 4ms/step - loss: 0.2921 - accuracy: 0.8939 - val_loss: 0.2263 - val_accuracy: 0.9217\n",
            "Epoch 93/1000\n",
            "54/71 [=====================>........] - ETA: 0s - loss: 0.2873 - accuracy: 0.8913\n",
            "Epoch 93: saving model to models\\keypoint_classifier.hdf5\n",
            "71/71 [==============================] - 0s 4ms/step - loss: 0.2888 - accuracy: 0.8920 - val_loss: 0.2407 - val_accuracy: 0.9030\n",
            "Epoch 94/1000\n",
            "55/71 [======================>.......] - ETA: 0s - loss: 0.2789 - accuracy: 0.8974\n",
            "Epoch 94: saving model to models\\keypoint_classifier.hdf5\n",
            "71/71 [==============================] - 0s 4ms/step - loss: 0.2866 - accuracy: 0.8946 - val_loss: 0.2193 - val_accuracy: 0.9113\n",
            "Epoch 95/1000\n",
            "69/71 [============================>.] - ETA: 0s - loss: 0.2845 - accuracy: 0.8952\n",
            "Epoch 95: saving model to models\\keypoint_classifier.hdf5\n",
            "71/71 [==============================] - 0s 4ms/step - loss: 0.2828 - accuracy: 0.8953 - val_loss: 0.2376 - val_accuracy: 0.9187\n",
            "Epoch 96/1000\n",
            "56/71 [======================>.......] - ETA: 0s - loss: 0.2787 - accuracy: 0.8951\n",
            "Epoch 96: saving model to models\\keypoint_classifier.hdf5\n",
            "71/71 [==============================] - 0s 4ms/step - loss: 0.2793 - accuracy: 0.8941 - val_loss: 0.3856 - val_accuracy: 0.8747\n",
            "Epoch 97/1000\n",
            "56/71 [======================>.......] - ETA: 0s - loss: 0.2845 - accuracy: 0.8961\n",
            "Epoch 97: saving model to models\\keypoint_classifier.hdf5\n",
            "71/71 [==============================] - 0s 4ms/step - loss: 0.2849 - accuracy: 0.8954 - val_loss: 0.3809 - val_accuracy: 0.8770\n",
            "Epoch 98/1000\n",
            "56/71 [======================>.......] - ETA: 0s - loss: 0.2849 - accuracy: 0.8948\n",
            "Epoch 98: saving model to models\\keypoint_classifier.hdf5\n",
            "71/71 [==============================] - 0s 4ms/step - loss: 0.2846 - accuracy: 0.8938 - val_loss: 0.2292 - val_accuracy: 0.9157\n",
            "Epoch 99/1000\n",
            "56/71 [======================>.......] - ETA: 0s - loss: 0.2849 - accuracy: 0.8952\n",
            "Epoch 99: saving model to models\\keypoint_classifier.hdf5\n",
            "71/71 [==============================] - 0s 4ms/step - loss: 0.2900 - accuracy: 0.8943 - val_loss: 0.2165 - val_accuracy: 0.9223\n",
            "Epoch 100/1000\n",
            "69/71 [============================>.] - ETA: 0s - loss: 0.2852 - accuracy: 0.8952\n",
            "Epoch 100: saving model to models\\keypoint_classifier.hdf5\n",
            "71/71 [==============================] - 0s 4ms/step - loss: 0.2854 - accuracy: 0.8950 - val_loss: 0.3635 - val_accuracy: 0.8557\n",
            "Epoch 101/1000\n",
            "67/71 [===========================>..] - ETA: 0s - loss: 0.2953 - accuracy: 0.8921\n",
            "Epoch 101: saving model to models\\keypoint_classifier.hdf5\n",
            "71/71 [==============================] - 0s 4ms/step - loss: 0.2929 - accuracy: 0.8931 - val_loss: 0.2066 - val_accuracy: 0.9327\n",
            "Epoch 102/1000\n",
            "67/71 [===========================>..] - ETA: 0s - loss: 0.2775 - accuracy: 0.9008\n",
            "Epoch 102: saving model to models\\keypoint_classifier.hdf5\n",
            "71/71 [==============================] - 0s 4ms/step - loss: 0.2781 - accuracy: 0.8998 - val_loss: 0.2727 - val_accuracy: 0.9077\n",
            "Epoch 103/1000\n",
            "70/71 [============================>.] - ETA: 0s - loss: 0.2719 - accuracy: 0.8963\n",
            "Epoch 103: saving model to models\\keypoint_classifier.hdf5\n",
            "71/71 [==============================] - 0s 4ms/step - loss: 0.2721 - accuracy: 0.8961 - val_loss: 0.2436 - val_accuracy: 0.9057\n",
            "Epoch 104/1000\n",
            "57/71 [=======================>......] - ETA: 0s - loss: 0.2733 - accuracy: 0.9021\n",
            "Epoch 104: saving model to models\\keypoint_classifier.hdf5\n",
            "71/71 [==============================] - 0s 4ms/step - loss: 0.2747 - accuracy: 0.9018 - val_loss: 0.3074 - val_accuracy: 0.8853\n",
            "Epoch 105/1000\n",
            "56/71 [======================>.......] - ETA: 0s - loss: 0.2684 - accuracy: 0.9009\n",
            "Epoch 105: saving model to models\\keypoint_classifier.hdf5\n",
            "71/71 [==============================] - 0s 4ms/step - loss: 0.2696 - accuracy: 0.9026 - val_loss: 0.1712 - val_accuracy: 0.9437\n",
            "Epoch 106/1000\n",
            "56/71 [======================>.......] - ETA: 0s - loss: 0.2719 - accuracy: 0.9032\n",
            "Epoch 106: saving model to models\\keypoint_classifier.hdf5\n",
            "71/71 [==============================] - 0s 4ms/step - loss: 0.2740 - accuracy: 0.9000 - val_loss: 0.2422 - val_accuracy: 0.9173\n",
            "Epoch 107/1000\n",
            "54/71 [=====================>........] - ETA: 0s - loss: 0.2832 - accuracy: 0.8977\n",
            "Epoch 107: saving model to models\\keypoint_classifier.hdf5\n",
            "71/71 [==============================] - 0s 4ms/step - loss: 0.2824 - accuracy: 0.8973 - val_loss: 0.2596 - val_accuracy: 0.9100\n",
            "Epoch 108/1000\n",
            "55/71 [======================>.......] - ETA: 0s - loss: 0.2842 - accuracy: 0.8926\n",
            "Epoch 108: saving model to models\\keypoint_classifier.hdf5\n",
            "71/71 [==============================] - 0s 4ms/step - loss: 0.2757 - accuracy: 0.8953 - val_loss: 0.1982 - val_accuracy: 0.9277\n",
            "Epoch 109/1000\n",
            "57/71 [=======================>......] - ETA: 0s - loss: 0.2839 - accuracy: 0.8998\n",
            "Epoch 109: saving model to models\\keypoint_classifier.hdf5\n",
            "71/71 [==============================] - 0s 4ms/step - loss: 0.2788 - accuracy: 0.8996 - val_loss: 0.2524 - val_accuracy: 0.9233\n",
            "Epoch 110/1000\n",
            "69/71 [============================>.] - ETA: 0s - loss: 0.2775 - accuracy: 0.8995\n",
            "Epoch 110: saving model to models\\keypoint_classifier.hdf5\n",
            "71/71 [==============================] - 0s 4ms/step - loss: 0.2760 - accuracy: 0.9000 - val_loss: 0.2198 - val_accuracy: 0.9303\n",
            "Epoch 111/1000\n",
            "55/71 [======================>.......] - ETA: 0s - loss: 0.2754 - accuracy: 0.8964\n",
            "Epoch 111: saving model to models\\keypoint_classifier.hdf5\n",
            "71/71 [==============================] - 0s 4ms/step - loss: 0.2736 - accuracy: 0.8967 - val_loss: 0.2880 - val_accuracy: 0.9003\n",
            "Epoch 112/1000\n",
            "55/71 [======================>.......] - ETA: 0s - loss: 0.2743 - accuracy: 0.8991\n",
            "Epoch 112: saving model to models\\keypoint_classifier.hdf5\n",
            "71/71 [==============================] - 0s 4ms/step - loss: 0.2767 - accuracy: 0.8996 - val_loss: 0.2385 - val_accuracy: 0.9193\n",
            "Epoch 113/1000\n",
            "70/71 [============================>.] - ETA: 0s - loss: 0.2594 - accuracy: 0.9017\n",
            "Epoch 113: saving model to models\\keypoint_classifier.hdf5\n",
            "71/71 [==============================] - 0s 4ms/step - loss: 0.2598 - accuracy: 0.9012 - val_loss: 0.1725 - val_accuracy: 0.9427\n",
            "Epoch 114/1000\n",
            "69/71 [============================>.] - ETA: 0s - loss: 0.2737 - accuracy: 0.8955\n",
            "Epoch 114: saving model to models\\keypoint_classifier.hdf5\n",
            "71/71 [==============================] - 0s 4ms/step - loss: 0.2736 - accuracy: 0.8957 - val_loss: 0.2009 - val_accuracy: 0.9277\n",
            "Epoch 115/1000\n",
            "54/71 [=====================>........] - ETA: 0s - loss: 0.2609 - accuracy: 0.9045\n",
            "Epoch 115: saving model to models\\keypoint_classifier.hdf5\n",
            "71/71 [==============================] - 0s 4ms/step - loss: 0.2589 - accuracy: 0.9048 - val_loss: 0.1658 - val_accuracy: 0.9417\n",
            "Epoch 116/1000\n",
            "70/71 [============================>.] - ETA: 0s - loss: 0.2634 - accuracy: 0.8988\n",
            "Epoch 116: saving model to models\\keypoint_classifier.hdf5\n",
            "71/71 [==============================] - 0s 4ms/step - loss: 0.2633 - accuracy: 0.8987 - val_loss: 0.2977 - val_accuracy: 0.8883\n",
            "Epoch 117/1000\n",
            "64/71 [==========================>...] - ETA: 0s - loss: 0.2579 - accuracy: 0.9048\n",
            "Epoch 117: saving model to models\\keypoint_classifier.hdf5\n",
            "71/71 [==============================] - 0s 4ms/step - loss: 0.2642 - accuracy: 0.9027 - val_loss: 0.4299 - val_accuracy: 0.8580\n",
            "Epoch 118/1000\n",
            "57/71 [=======================>......] - ETA: 0s - loss: 0.2559 - accuracy: 0.9034\n",
            "Epoch 118: saving model to models\\keypoint_classifier.hdf5\n",
            "71/71 [==============================] - 0s 4ms/step - loss: 0.2633 - accuracy: 0.9004 - val_loss: 0.2359 - val_accuracy: 0.9143\n",
            "Epoch 119/1000\n",
            "54/71 [=====================>........] - ETA: 0s - loss: 0.2590 - accuracy: 0.9073\n",
            "Epoch 119: saving model to models\\keypoint_classifier.hdf5\n",
            "71/71 [==============================] - 0s 4ms/step - loss: 0.2577 - accuracy: 0.9066 - val_loss: 0.3228 - val_accuracy: 0.8833\n",
            "Epoch 120/1000\n",
            "56/71 [======================>.......] - ETA: 0s - loss: 0.2664 - accuracy: 0.9011\n",
            "Epoch 120: saving model to models\\keypoint_classifier.hdf5\n",
            "71/71 [==============================] - 0s 4ms/step - loss: 0.2649 - accuracy: 0.9031 - val_loss: 0.1451 - val_accuracy: 0.9533\n",
            "Epoch 121/1000\n",
            "54/71 [=====================>........] - ETA: 0s - loss: 0.2570 - accuracy: 0.9048\n",
            "Epoch 121: saving model to models\\keypoint_classifier.hdf5\n",
            "71/71 [==============================] - 0s 4ms/step - loss: 0.2553 - accuracy: 0.9064 - val_loss: 0.2079 - val_accuracy: 0.9263\n",
            "Epoch 122/1000\n",
            "56/71 [======================>.......] - ETA: 0s - loss: 0.2558 - accuracy: 0.9042\n",
            "Epoch 122: saving model to models\\keypoint_classifier.hdf5\n",
            "71/71 [==============================] - 0s 4ms/step - loss: 0.2540 - accuracy: 0.9078 - val_loss: 0.2222 - val_accuracy: 0.9243\n",
            "Epoch 123/1000\n",
            "55/71 [======================>.......] - ETA: 0s - loss: 0.2657 - accuracy: 0.8997\n",
            "Epoch 123: saving model to models\\keypoint_classifier.hdf5\n",
            "71/71 [==============================] - 0s 4ms/step - loss: 0.2634 - accuracy: 0.8993 - val_loss: 0.2375 - val_accuracy: 0.9123\n",
            "Epoch 124/1000\n",
            "53/71 [=====================>........] - ETA: 0s - loss: 0.2550 - accuracy: 0.9058\n",
            "Epoch 124: saving model to models\\keypoint_classifier.hdf5\n",
            "71/71 [==============================] - 0s 4ms/step - loss: 0.2522 - accuracy: 0.9061 - val_loss: 0.2509 - val_accuracy: 0.9140\n",
            "Epoch 125/1000\n",
            "54/71 [=====================>........] - ETA: 0s - loss: 0.2643 - accuracy: 0.9054\n",
            "Epoch 125: saving model to models\\keypoint_classifier.hdf5\n",
            "71/71 [==============================] - 0s 4ms/step - loss: 0.2643 - accuracy: 0.9037 - val_loss: 0.3677 - val_accuracy: 0.8693\n",
            "Epoch 126/1000\n",
            "70/71 [============================>.] - ETA: 0s - loss: 0.2637 - accuracy: 0.9016\n",
            "Epoch 126: saving model to models\\keypoint_classifier.hdf5\n",
            "71/71 [==============================] - 0s 4ms/step - loss: 0.2642 - accuracy: 0.9013 - val_loss: 0.1535 - val_accuracy: 0.9503\n",
            "Epoch 127/1000\n",
            "69/71 [============================>.] - ETA: 0s - loss: 0.2491 - accuracy: 0.9111\n",
            "Epoch 127: saving model to models\\keypoint_classifier.hdf5\n",
            "71/71 [==============================] - 0s 4ms/step - loss: 0.2480 - accuracy: 0.9112 - val_loss: 0.2070 - val_accuracy: 0.9327\n",
            "Epoch 128/1000\n",
            "55/71 [======================>.......] - ETA: 0s - loss: 0.2478 - accuracy: 0.9074\n",
            "Epoch 128: saving model to models\\keypoint_classifier.hdf5\n",
            "71/71 [==============================] - 0s 4ms/step - loss: 0.2525 - accuracy: 0.9050 - val_loss: 0.1908 - val_accuracy: 0.9280\n",
            "Epoch 129/1000\n",
            "54/71 [=====================>........] - ETA: 0s - loss: 0.2537 - accuracy: 0.9065\n",
            "Epoch 129: saving model to models\\keypoint_classifier.hdf5\n",
            "71/71 [==============================] - 0s 4ms/step - loss: 0.2600 - accuracy: 0.9047 - val_loss: 0.2368 - val_accuracy: 0.9180\n",
            "Epoch 130/1000\n",
            "55/71 [======================>.......] - ETA: 0s - loss: 0.2548 - accuracy: 0.9074\n",
            "Epoch 130: saving model to models\\keypoint_classifier.hdf5\n",
            "71/71 [==============================] - 0s 4ms/step - loss: 0.2487 - accuracy: 0.9086 - val_loss: 0.1540 - val_accuracy: 0.9377\n",
            "Epoch 131/1000\n",
            "54/71 [=====================>........] - ETA: 0s - loss: 0.2539 - accuracy: 0.9073\n",
            "Epoch 131: saving model to models\\keypoint_classifier.hdf5\n",
            "71/71 [==============================] - 0s 4ms/step - loss: 0.2491 - accuracy: 0.9084 - val_loss: 0.2900 - val_accuracy: 0.8847\n",
            "Epoch 132/1000\n",
            "56/71 [======================>.......] - ETA: 0s - loss: 0.2590 - accuracy: 0.9043\n",
            "Epoch 132: saving model to models\\keypoint_classifier.hdf5\n",
            "71/71 [==============================] - 0s 4ms/step - loss: 0.2586 - accuracy: 0.9036 - val_loss: 0.2014 - val_accuracy: 0.9263\n",
            "Epoch 133/1000\n",
            "54/71 [=====================>........] - ETA: 0s - loss: 0.2560 - accuracy: 0.9065\n",
            "Epoch 133: saving model to models\\keypoint_classifier.hdf5\n",
            "71/71 [==============================] - 0s 4ms/step - loss: 0.2529 - accuracy: 0.9082 - val_loss: 0.1893 - val_accuracy: 0.9437\n",
            "Epoch 134/1000\n",
            "54/71 [=====================>........] - ETA: 0s - loss: 0.2514 - accuracy: 0.9068\n",
            "Epoch 134: saving model to models\\keypoint_classifier.hdf5\n",
            "71/71 [==============================] - 0s 4ms/step - loss: 0.2497 - accuracy: 0.9079 - val_loss: 0.2744 - val_accuracy: 0.8927\n",
            "Epoch 135/1000\n",
            "56/71 [======================>.......] - ETA: 0s - loss: 0.2523 - accuracy: 0.9074\n",
            "Epoch 135: saving model to models\\keypoint_classifier.hdf5\n",
            "71/71 [==============================] - 0s 4ms/step - loss: 0.2530 - accuracy: 0.9070 - val_loss: 0.2932 - val_accuracy: 0.9007\n",
            "Epoch 136/1000\n",
            "71/71 [==============================] - ETA: 0s - loss: 0.2622 - accuracy: 0.9012\n",
            "Epoch 136: saving model to models\\keypoint_classifier.hdf5\n",
            "71/71 [==============================] - 0s 4ms/step - loss: 0.2622 - accuracy: 0.9012 - val_loss: 0.6321 - val_accuracy: 0.7910\n",
            "Epoch 137/1000\n",
            "57/71 [=======================>......] - ETA: 0s - loss: 0.2556 - accuracy: 0.9010\n",
            "Epoch 137: saving model to models\\keypoint_classifier.hdf5\n",
            "71/71 [==============================] - 0s 4ms/step - loss: 0.2538 - accuracy: 0.9023 - val_loss: 0.1960 - val_accuracy: 0.9323\n",
            "Epoch 138/1000\n",
            "66/71 [==========================>...] - ETA: 0s - loss: 0.2451 - accuracy: 0.9089\n",
            "Epoch 138: saving model to models\\keypoint_classifier.hdf5\n",
            "71/71 [==============================] - 0s 4ms/step - loss: 0.2420 - accuracy: 0.9100 - val_loss: 0.3079 - val_accuracy: 0.8877\n",
            "Epoch 139/1000\n",
            "65/71 [==========================>...] - ETA: 0s - loss: 0.2560 - accuracy: 0.9031\n",
            "Epoch 139: saving model to models\\keypoint_classifier.hdf5\n",
            "71/71 [==============================] - 0s 4ms/step - loss: 0.2531 - accuracy: 0.9044 - val_loss: 0.2749 - val_accuracy: 0.8943\n",
            "Epoch 140/1000\n",
            "55/71 [======================>.......] - ETA: 0s - loss: 0.2522 - accuracy: 0.9057\n",
            "Epoch 140: saving model to models\\keypoint_classifier.hdf5\n",
            "71/71 [==============================] - 0s 4ms/step - loss: 0.2557 - accuracy: 0.9046 - val_loss: 0.3019 - val_accuracy: 0.9043\n",
            "Epoch 141/1000\n",
            "55/71 [======================>.......] - ETA: 0s - loss: 0.2511 - accuracy: 0.9070\n",
            "Epoch 141: saving model to models\\keypoint_classifier.hdf5\n",
            "71/71 [==============================] - 0s 4ms/step - loss: 0.2521 - accuracy: 0.9068 - val_loss: 0.3180 - val_accuracy: 0.8783\n",
            "Epoch 142/1000\n",
            "58/71 [=======================>......] - ETA: 0s - loss: 0.2598 - accuracy: 0.9075\n",
            "Epoch 142: saving model to models\\keypoint_classifier.hdf5\n",
            "71/71 [==============================] - 0s 4ms/step - loss: 0.2575 - accuracy: 0.9069 - val_loss: 0.1746 - val_accuracy: 0.9447\n",
            "Epoch 143/1000\n",
            "56/71 [======================>.......] - ETA: 0s - loss: 0.2463 - accuracy: 0.9081\n",
            "Epoch 143: saving model to models\\keypoint_classifier.hdf5\n",
            "71/71 [==============================] - 0s 4ms/step - loss: 0.2452 - accuracy: 0.9097 - val_loss: 0.2986 - val_accuracy: 0.8897\n",
            "Epoch 144/1000\n",
            "54/71 [=====================>........] - ETA: 0s - loss: 0.2506 - accuracy: 0.9110\n",
            "Epoch 144: saving model to models\\keypoint_classifier.hdf5\n",
            "71/71 [==============================] - 0s 4ms/step - loss: 0.2498 - accuracy: 0.9118 - val_loss: 0.2388 - val_accuracy: 0.9100\n",
            "Epoch 145/1000\n",
            "54/71 [=====================>........] - ETA: 0s - loss: 0.2444 - accuracy: 0.9096\n",
            "Epoch 145: saving model to models\\keypoint_classifier.hdf5\n",
            "71/71 [==============================] - 0s 4ms/step - loss: 0.2483 - accuracy: 0.9071 - val_loss: 0.1772 - val_accuracy: 0.9357\n",
            "Epoch 146/1000\n",
            "58/71 [=======================>......] - ETA: 0s - loss: 0.2349 - accuracy: 0.9120\n",
            "Epoch 146: saving model to models\\keypoint_classifier.hdf5\n",
            "71/71 [==============================] - 0s 4ms/step - loss: 0.2381 - accuracy: 0.9099 - val_loss: 0.3259 - val_accuracy: 0.8757\n",
            "Epoch 147/1000\n",
            "55/71 [======================>.......] - ETA: 0s - loss: 0.2430 - accuracy: 0.9118\n",
            "Epoch 147: saving model to models\\keypoint_classifier.hdf5\n",
            "71/71 [==============================] - 0s 4ms/step - loss: 0.2460 - accuracy: 0.9093 - val_loss: 0.2306 - val_accuracy: 0.9287\n",
            "Epoch 148/1000\n",
            "55/71 [======================>.......] - ETA: 0s - loss: 0.2308 - accuracy: 0.9138\n",
            "Epoch 148: saving model to models\\keypoint_classifier.hdf5\n",
            "71/71 [==============================] - 0s 4ms/step - loss: 0.2358 - accuracy: 0.9110 - val_loss: 0.2489 - val_accuracy: 0.9073\n",
            "Epoch 149/1000\n",
            "54/71 [=====================>........] - ETA: 0s - loss: 0.2434 - accuracy: 0.9104\n",
            "Epoch 149: saving model to models\\keypoint_classifier.hdf5\n",
            "71/71 [==============================] - 0s 4ms/step - loss: 0.2455 - accuracy: 0.9083 - val_loss: 0.1744 - val_accuracy: 0.9413\n",
            "Epoch 150/1000\n",
            "56/71 [======================>.......] - ETA: 0s - loss: 0.2457 - accuracy: 0.9071\n",
            "Epoch 150: saving model to models\\keypoint_classifier.hdf5\n",
            "71/71 [==============================] - 0s 4ms/step - loss: 0.2430 - accuracy: 0.9090 - val_loss: 0.1860 - val_accuracy: 0.9287\n",
            "Epoch 150: early stopping\n"
          ]
        },
        {
          "data": {
            "text/plain": [
              "<keras.callbacks.History at 0x21a56147fd0>"
            ]
          },
          "execution_count": 312,
          "metadata": {},
          "output_type": "execute_result"
        }
      ],
      "source": [
        "model.fit(\n",
        "    X_train,\n",
        "    y_train,\n",
        "    epochs=1000,\n",
        "    batch_size=128,\n",
        "    validation_data=(X_test, y_test),\n",
        "    callbacks=[cp_callback, es_callback]\n",
        ")"
      ]
    },
    {
      "cell_type": "code",
      "execution_count": 313,
      "metadata": {
        "colab": {
          "base_uri": "https://localhost:8080/"
        },
        "id": "pxvb2Y299hE3",
        "outputId": "59eb3185-2e37-4b9e-bc9d-ab1b8ac29b7f"
      },
      "outputs": [
        {
          "name": "stdout",
          "output_type": "stream",
          "text": [
            " 1/24 [>.............................] - ETA: 0s - loss: 0.1334 - accuracy: 0.9375"
          ]
        },
        {
          "name": "stdout",
          "output_type": "stream",
          "text": [
            "24/24 [==============================] - 0s 3ms/step - loss: 0.1860 - accuracy: 0.9287\n"
          ]
        }
      ],
      "source": [
        "# Model evaluation\n",
        "val_loss, val_acc = model.evaluate(X_test, y_test, batch_size=128)"
      ]
    },
    {
      "cell_type": "code",
      "execution_count": 314,
      "metadata": {
        "id": "RBkmDeUW9hE4"
      },
      "outputs": [],
      "source": [
        "# Loading the saved model\n",
        "model = tf.keras.models.load_model(model_save_path)"
      ]
    },
    {
      "cell_type": "code",
      "execution_count": 315,
      "metadata": {
        "colab": {
          "base_uri": "https://localhost:8080/"
        },
        "id": "tFz9Tb0I9hE4",
        "outputId": "1c3b3528-54ae-4ee2-ab04-77429211cbef"
      },
      "outputs": [
        {
          "name": "stdout",
          "output_type": "stream",
          "text": [
            "1/1 [==============================] - 0s 72ms/step\n",
            "[4.5524525e-11 9.9999905e-01 1.2392433e-12 9.2140350e-17 1.2869642e-11\n",
            " 1.0778308e-07 3.5136797e-14 8.7989827e-07 4.2086065e-10 2.1150603e-08\n",
            " 3.4840337e-08 8.4580023e-09]\n",
            "1\n"
          ]
        }
      ],
      "source": [
        "# Inference test\n",
        "predict_result = model.predict(np.array([X_test[0]]))\n",
        "print(np.squeeze(predict_result))\n",
        "print(np.argmax(np.squeeze(predict_result)))"
      ]
    },
    {
      "cell_type": "markdown",
      "metadata": {},
      "source": [
        "# Integrate with secondary model"
      ]
    },
    {
      "cell_type": "code",
      "execution_count": 316,
      "metadata": {},
      "outputs": [],
      "source": [
        "# Determine the index of 'stop' and 'palm'\n",
        "label_stop = LABELS.index('stop')\n",
        "label_palm = LABELS.index('palm')\n",
        "\n",
        "# Filter out samples for 'stop' and 'palm'\n",
        "secondary_X = X_dataset_preprocessed[np.logical_or(y_dataset == label_stop, y_dataset == label_palm)]\n",
        "secondary_y = y_dataset[np.logical_or(y_dataset == label_stop, y_dataset == label_palm)]\n",
        "\n",
        "# Create binary labels (0 and 1) for 'stop' and 'palm'\n",
        "secondary_y = np.where(secondary_y == label_stop, 0, 1)  # Set 'stop' to 0, 'palm' to 1\n",
        "\n",
        "# Split secondary data sets\n",
        "X_train_secondary, X_test_secondary, y_train_secondary, y_test_secondary = train_test_split(\n",
        "    secondary_X, secondary_y, train_size=0.75, random_state=RANDOM_SEED\n",
        ")"
      ]
    },
    {
      "cell_type": "code",
      "execution_count": 317,
      "metadata": {},
      "outputs": [
        {
          "name": "stdout",
          "output_type": "stream",
          "text": [
            "Epoch 1/100\n",
            "47/47 [==============================] - 0s 4ms/step - loss: 0.6968 - accuracy: 0.4867 - val_loss: 0.6909 - val_accuracy: 0.5080\n",
            "Epoch 2/100\n",
            "47/47 [==============================] - 0s 2ms/step - loss: 0.6894 - accuracy: 0.5520 - val_loss: 0.6926 - val_accuracy: 0.5100\n",
            "Epoch 3/100\n",
            "47/47 [==============================] - 0s 2ms/step - loss: 0.6872 - accuracy: 0.5407 - val_loss: 0.6843 - val_accuracy: 0.5140\n",
            "Epoch 4/100\n",
            "47/47 [==============================] - 0s 2ms/step - loss: 0.6812 - accuracy: 0.5973 - val_loss: 0.6790 - val_accuracy: 0.5940\n",
            "Epoch 5/100\n",
            "47/47 [==============================] - 0s 2ms/step - loss: 0.6762 - accuracy: 0.6073 - val_loss: 0.6737 - val_accuracy: 0.5740\n",
            "Epoch 6/100\n",
            "47/47 [==============================] - 0s 2ms/step - loss: 0.6690 - accuracy: 0.6447 - val_loss: 0.6644 - val_accuracy: 0.6240\n",
            "Epoch 7/100\n",
            "47/47 [==============================] - 0s 2ms/step - loss: 0.6590 - accuracy: 0.6500 - val_loss: 0.6540 - val_accuracy: 0.6500\n",
            "Epoch 8/100\n",
            "47/47 [==============================] - 0s 2ms/step - loss: 0.6585 - accuracy: 0.6040 - val_loss: 0.6613 - val_accuracy: 0.5280\n",
            "Epoch 9/100\n",
            "47/47 [==============================] - 0s 2ms/step - loss: 0.6447 - accuracy: 0.6433 - val_loss: 0.6379 - val_accuracy: 0.6740\n",
            "Epoch 10/100\n",
            "47/47 [==============================] - 0s 2ms/step - loss: 0.6324 - accuracy: 0.6987 - val_loss: 0.6281 - val_accuracy: 0.6840\n",
            "Epoch 11/100\n",
            "47/47 [==============================] - 0s 2ms/step - loss: 0.6157 - accuracy: 0.7147 - val_loss: 0.6127 - val_accuracy: 0.6880\n",
            "Epoch 12/100\n",
            "47/47 [==============================] - 0s 2ms/step - loss: 0.6018 - accuracy: 0.7113 - val_loss: 0.5939 - val_accuracy: 0.7480\n",
            "Epoch 13/100\n",
            "47/47 [==============================] - 0s 2ms/step - loss: 0.5888 - accuracy: 0.7333 - val_loss: 0.5697 - val_accuracy: 0.7980\n",
            "Epoch 14/100\n",
            "47/47 [==============================] - 0s 2ms/step - loss: 0.5840 - accuracy: 0.7267 - val_loss: 0.5726 - val_accuracy: 0.7020\n",
            "Epoch 15/100\n",
            "47/47 [==============================] - 0s 2ms/step - loss: 0.5569 - accuracy: 0.7473 - val_loss: 0.5371 - val_accuracy: 0.8120\n",
            "Epoch 16/100\n",
            "47/47 [==============================] - 0s 2ms/step - loss: 0.5486 - accuracy: 0.7427 - val_loss: 0.5376 - val_accuracy: 0.7420\n",
            "Epoch 17/100\n",
            "47/47 [==============================] - 0s 2ms/step - loss: 0.5277 - accuracy: 0.7720 - val_loss: 0.5095 - val_accuracy: 0.7800\n",
            "Epoch 18/100\n",
            "47/47 [==============================] - 0s 2ms/step - loss: 0.5199 - accuracy: 0.7780 - val_loss: 0.6068 - val_accuracy: 0.6080\n",
            "Epoch 19/100\n",
            "47/47 [==============================] - 0s 2ms/step - loss: 0.5023 - accuracy: 0.7800 - val_loss: 0.4714 - val_accuracy: 0.8460\n",
            "Epoch 20/100\n",
            "47/47 [==============================] - 0s 3ms/step - loss: 0.4834 - accuracy: 0.7853 - val_loss: 0.4609 - val_accuracy: 0.8360\n",
            "Epoch 21/100\n",
            "47/47 [==============================] - 0s 2ms/step - loss: 0.4610 - accuracy: 0.8207 - val_loss: 0.5493 - val_accuracy: 0.6940\n",
            "Epoch 22/100\n",
            "47/47 [==============================] - 0s 2ms/step - loss: 0.4547 - accuracy: 0.8093 - val_loss: 0.4612 - val_accuracy: 0.7720\n",
            "Epoch 23/100\n",
            "47/47 [==============================] - 0s 2ms/step - loss: 0.4448 - accuracy: 0.8147 - val_loss: 0.4381 - val_accuracy: 0.7980\n",
            "Epoch 24/100\n",
            "47/47 [==============================] - 0s 2ms/step - loss: 0.4126 - accuracy: 0.8540 - val_loss: 0.3901 - val_accuracy: 0.8920\n",
            "Epoch 25/100\n",
            "47/47 [==============================] - 0s 2ms/step - loss: 0.3985 - accuracy: 0.8567 - val_loss: 0.3707 - val_accuracy: 0.9020\n",
            "Epoch 26/100\n",
            "47/47 [==============================] - 0s 2ms/step - loss: 0.3903 - accuracy: 0.8507 - val_loss: 0.3672 - val_accuracy: 0.8780\n",
            "Epoch 27/100\n",
            "47/47 [==============================] - 0s 2ms/step - loss: 0.3644 - accuracy: 0.8727 - val_loss: 0.3394 - val_accuracy: 0.9180\n",
            "Epoch 28/100\n",
            "47/47 [==============================] - 0s 2ms/step - loss: 0.3480 - accuracy: 0.8920 - val_loss: 0.3350 - val_accuracy: 0.8860\n",
            "Epoch 29/100\n",
            "47/47 [==============================] - 0s 2ms/step - loss: 0.3477 - accuracy: 0.8753 - val_loss: 0.3145 - val_accuracy: 0.9180\n",
            "Epoch 30/100\n",
            "47/47 [==============================] - 0s 2ms/step - loss: 0.3364 - accuracy: 0.8733 - val_loss: 0.3033 - val_accuracy: 0.9280\n",
            "Epoch 31/100\n",
            "47/47 [==============================] - 0s 2ms/step - loss: 0.3298 - accuracy: 0.8753 - val_loss: 0.2949 - val_accuracy: 0.9020\n",
            "Epoch 32/100\n",
            "47/47 [==============================] - 0s 2ms/step - loss: 0.3010 - accuracy: 0.9047 - val_loss: 0.3118 - val_accuracy: 0.8580\n",
            "Epoch 33/100\n",
            "47/47 [==============================] - 0s 2ms/step - loss: 0.3150 - accuracy: 0.8713 - val_loss: 0.2780 - val_accuracy: 0.9320\n",
            "Epoch 34/100\n",
            "47/47 [==============================] - 0s 2ms/step - loss: 0.2958 - accuracy: 0.8947 - val_loss: 0.4042 - val_accuracy: 0.8100\n",
            "Epoch 35/100\n",
            "47/47 [==============================] - 0s 2ms/step - loss: 0.2968 - accuracy: 0.8907 - val_loss: 0.2617 - val_accuracy: 0.9460\n",
            "Epoch 36/100\n",
            "47/47 [==============================] - 0s 2ms/step - loss: 0.2857 - accuracy: 0.8967 - val_loss: 0.2817 - val_accuracy: 0.9020\n",
            "Epoch 37/100\n",
            "47/47 [==============================] - 0s 2ms/step - loss: 0.2644 - accuracy: 0.9147 - val_loss: 0.2434 - val_accuracy: 0.9400\n",
            "Epoch 38/100\n",
            "47/47 [==============================] - 0s 2ms/step - loss: 0.2571 - accuracy: 0.9147 - val_loss: 0.2554 - val_accuracy: 0.8940\n",
            "Epoch 39/100\n",
            "47/47 [==============================] - 0s 2ms/step - loss: 0.2424 - accuracy: 0.9227 - val_loss: 0.2309 - val_accuracy: 0.9460\n",
            "Epoch 40/100\n",
            "47/47 [==============================] - 0s 2ms/step - loss: 0.2498 - accuracy: 0.9120 - val_loss: 0.2571 - val_accuracy: 0.8880\n",
            "Epoch 41/100\n",
            "47/47 [==============================] - 0s 2ms/step - loss: 0.2477 - accuracy: 0.9033 - val_loss: 0.2260 - val_accuracy: 0.9340\n",
            "Epoch 42/100\n",
            "47/47 [==============================] - 0s 2ms/step - loss: 0.2228 - accuracy: 0.9313 - val_loss: 0.2065 - val_accuracy: 0.9520\n",
            "Epoch 43/100\n",
            "47/47 [==============================] - 0s 2ms/step - loss: 0.2174 - accuracy: 0.9427 - val_loss: 0.2369 - val_accuracy: 0.9360\n",
            "Epoch 44/100\n",
            "47/47 [==============================] - 0s 2ms/step - loss: 0.2246 - accuracy: 0.9240 - val_loss: 0.1981 - val_accuracy: 0.9460\n",
            "Epoch 45/100\n",
            "47/47 [==============================] - 0s 2ms/step - loss: 0.2036 - accuracy: 0.9420 - val_loss: 0.1872 - val_accuracy: 0.9580\n",
            "Epoch 46/100\n",
            "47/47 [==============================] - 0s 2ms/step - loss: 0.1897 - accuracy: 0.9487 - val_loss: 0.2247 - val_accuracy: 0.9160\n",
            "Epoch 47/100\n",
            "47/47 [==============================] - 0s 2ms/step - loss: 0.2021 - accuracy: 0.9393 - val_loss: 0.1877 - val_accuracy: 0.9480\n",
            "Epoch 48/100\n",
            "47/47 [==============================] - 0s 2ms/step - loss: 0.1922 - accuracy: 0.9460 - val_loss: 0.2040 - val_accuracy: 0.9380\n",
            "Epoch 49/100\n",
            "47/47 [==============================] - 0s 2ms/step - loss: 0.2005 - accuracy: 0.9333 - val_loss: 0.1703 - val_accuracy: 0.9620\n",
            "Epoch 50/100\n",
            "47/47 [==============================] - 0s 2ms/step - loss: 0.1794 - accuracy: 0.9553 - val_loss: 0.1763 - val_accuracy: 0.9500\n",
            "Epoch 51/100\n",
            "47/47 [==============================] - 0s 2ms/step - loss: 0.1977 - accuracy: 0.9313 - val_loss: 0.4034 - val_accuracy: 0.8100\n",
            "Epoch 52/100\n",
            "47/47 [==============================] - 0s 2ms/step - loss: 0.2043 - accuracy: 0.9253 - val_loss: 0.1574 - val_accuracy: 0.9660\n",
            "Epoch 53/100\n",
            "47/47 [==============================] - 0s 2ms/step - loss: 0.1708 - accuracy: 0.9447 - val_loss: 0.1964 - val_accuracy: 0.9340\n",
            "Epoch 54/100\n",
            "47/47 [==============================] - 0s 2ms/step - loss: 0.1731 - accuracy: 0.9487 - val_loss: 0.1685 - val_accuracy: 0.9500\n",
            "Epoch 55/100\n",
            "47/47 [==============================] - 0s 2ms/step - loss: 0.1626 - accuracy: 0.9507 - val_loss: 0.1503 - val_accuracy: 0.9600\n",
            "Epoch 56/100\n",
            "47/47 [==============================] - 0s 2ms/step - loss: 0.1576 - accuracy: 0.9547 - val_loss: 0.1794 - val_accuracy: 0.9400\n",
            "Epoch 57/100\n",
            "47/47 [==============================] - 0s 2ms/step - loss: 0.1659 - accuracy: 0.9500 - val_loss: 0.2239 - val_accuracy: 0.9220\n",
            "Epoch 58/100\n",
            "47/47 [==============================] - 0s 2ms/step - loss: 0.1626 - accuracy: 0.9473 - val_loss: 0.1671 - val_accuracy: 0.9460\n",
            "Epoch 59/100\n",
            "47/47 [==============================] - 0s 2ms/step - loss: 0.1475 - accuracy: 0.9633 - val_loss: 0.1591 - val_accuracy: 0.9560\n",
            "Epoch 60/100\n",
            "47/47 [==============================] - 0s 2ms/step - loss: 0.1666 - accuracy: 0.9427 - val_loss: 0.1351 - val_accuracy: 0.9620\n",
            "Epoch 61/100\n",
            "47/47 [==============================] - 0s 2ms/step - loss: 0.1527 - accuracy: 0.9553 - val_loss: 0.1426 - val_accuracy: 0.9540\n",
            "Epoch 62/100\n",
            "47/47 [==============================] - 0s 2ms/step - loss: 0.1482 - accuracy: 0.9560 - val_loss: 0.1435 - val_accuracy: 0.9560\n",
            "Epoch 63/100\n",
            "47/47 [==============================] - 0s 2ms/step - loss: 0.1362 - accuracy: 0.9667 - val_loss: 0.1578 - val_accuracy: 0.9480\n",
            "Epoch 64/100\n",
            "47/47 [==============================] - 0s 2ms/step - loss: 0.1391 - accuracy: 0.9620 - val_loss: 0.1323 - val_accuracy: 0.9620\n",
            "Epoch 65/100\n",
            "47/47 [==============================] - 0s 2ms/step - loss: 0.1348 - accuracy: 0.9667 - val_loss: 0.1788 - val_accuracy: 0.9360\n",
            "Epoch 66/100\n",
            "47/47 [==============================] - 0s 2ms/step - loss: 0.1362 - accuracy: 0.9607 - val_loss: 0.1355 - val_accuracy: 0.9620\n",
            "Epoch 67/100\n",
            "47/47 [==============================] - 0s 2ms/step - loss: 0.1323 - accuracy: 0.9620 - val_loss: 0.1377 - val_accuracy: 0.9640\n",
            "Epoch 68/100\n",
            "47/47 [==============================] - 0s 2ms/step - loss: 0.1278 - accuracy: 0.9600 - val_loss: 0.1198 - val_accuracy: 0.9620\n",
            "Epoch 69/100\n",
            "47/47 [==============================] - 0s 2ms/step - loss: 0.1279 - accuracy: 0.9640 - val_loss: 0.1727 - val_accuracy: 0.9320\n",
            "Epoch 70/100\n",
            "47/47 [==============================] - 0s 2ms/step - loss: 0.1459 - accuracy: 0.9540 - val_loss: 0.1594 - val_accuracy: 0.9460\n",
            "Epoch 71/100\n",
            "47/47 [==============================] - 0s 2ms/step - loss: 0.1321 - accuracy: 0.9620 - val_loss: 0.1427 - val_accuracy: 0.9500\n",
            "Epoch 72/100\n",
            "47/47 [==============================] - 0s 2ms/step - loss: 0.1210 - accuracy: 0.9673 - val_loss: 0.1250 - val_accuracy: 0.9620\n",
            "Epoch 73/100\n",
            "47/47 [==============================] - 0s 2ms/step - loss: 0.1246 - accuracy: 0.9653 - val_loss: 0.1202 - val_accuracy: 0.9620\n",
            "Epoch 74/100\n",
            "47/47 [==============================] - 0s 2ms/step - loss: 0.1233 - accuracy: 0.9673 - val_loss: 0.1986 - val_accuracy: 0.9280\n",
            "Epoch 75/100\n",
            "47/47 [==============================] - 0s 2ms/step - loss: 0.1335 - accuracy: 0.9587 - val_loss: 0.1546 - val_accuracy: 0.9480\n",
            "Epoch 76/100\n",
            "47/47 [==============================] - 0s 2ms/step - loss: 0.1345 - accuracy: 0.9567 - val_loss: 0.1246 - val_accuracy: 0.9600\n",
            "Epoch 77/100\n",
            "47/47 [==============================] - 0s 2ms/step - loss: 0.1308 - accuracy: 0.9567 - val_loss: 0.1389 - val_accuracy: 0.9500\n",
            "Epoch 78/100\n",
            "47/47 [==============================] - 0s 2ms/step - loss: 0.1102 - accuracy: 0.9733 - val_loss: 0.1785 - val_accuracy: 0.9280\n",
            "Epoch 79/100\n",
            "47/47 [==============================] - 0s 2ms/step - loss: 0.1184 - accuracy: 0.9620 - val_loss: 0.1582 - val_accuracy: 0.9440\n",
            "Epoch 80/100\n",
            "47/47 [==============================] - 0s 2ms/step - loss: 0.1213 - accuracy: 0.9627 - val_loss: 0.1367 - val_accuracy: 0.9520\n",
            "Epoch 81/100\n",
            "47/47 [==============================] - 0s 2ms/step - loss: 0.1036 - accuracy: 0.9727 - val_loss: 0.1260 - val_accuracy: 0.9500\n",
            "Epoch 82/100\n",
            "47/47 [==============================] - 0s 2ms/step - loss: 0.1075 - accuracy: 0.9693 - val_loss: 0.1420 - val_accuracy: 0.9460\n",
            "Epoch 83/100\n",
            "47/47 [==============================] - 0s 2ms/step - loss: 0.1074 - accuracy: 0.9640 - val_loss: 0.1719 - val_accuracy: 0.9320\n",
            "Epoch 84/100\n",
            "47/47 [==============================] - 0s 2ms/step - loss: 0.1106 - accuracy: 0.9713 - val_loss: 0.1061 - val_accuracy: 0.9620\n",
            "Epoch 85/100\n",
            "47/47 [==============================] - 0s 2ms/step - loss: 0.1048 - accuracy: 0.9740 - val_loss: 0.1013 - val_accuracy: 0.9720\n",
            "Epoch 86/100\n",
            "47/47 [==============================] - 0s 2ms/step - loss: 0.1027 - accuracy: 0.9660 - val_loss: 0.1038 - val_accuracy: 0.9660\n",
            "Epoch 87/100\n",
            "47/47 [==============================] - 0s 2ms/step - loss: 0.1114 - accuracy: 0.9720 - val_loss: 0.1018 - val_accuracy: 0.9620\n",
            "Epoch 88/100\n",
            "47/47 [==============================] - 0s 2ms/step - loss: 0.1073 - accuracy: 0.9713 - val_loss: 0.1235 - val_accuracy: 0.9540\n",
            "Epoch 89/100\n",
            "47/47 [==============================] - 0s 2ms/step - loss: 0.1078 - accuracy: 0.9633 - val_loss: 0.0955 - val_accuracy: 0.9680\n",
            "Epoch 90/100\n",
            "47/47 [==============================] - 0s 2ms/step - loss: 0.0923 - accuracy: 0.9773 - val_loss: 0.1289 - val_accuracy: 0.9500\n",
            "Epoch 91/100\n",
            "47/47 [==============================] - 0s 2ms/step - loss: 0.1115 - accuracy: 0.9633 - val_loss: 0.0929 - val_accuracy: 0.9660\n",
            "Epoch 92/100\n",
            "47/47 [==============================] - 0s 2ms/step - loss: 0.0941 - accuracy: 0.9753 - val_loss: 0.1419 - val_accuracy: 0.9480\n",
            "Epoch 93/100\n",
            "47/47 [==============================] - 0s 2ms/step - loss: 0.1035 - accuracy: 0.9680 - val_loss: 0.1398 - val_accuracy: 0.9460\n",
            "Epoch 94/100\n",
            "47/47 [==============================] - 0s 2ms/step - loss: 0.1010 - accuracy: 0.9653 - val_loss: 0.1151 - val_accuracy: 0.9520\n",
            "Epoch 95/100\n",
            "47/47 [==============================] - 0s 2ms/step - loss: 0.1031 - accuracy: 0.9713 - val_loss: 0.0875 - val_accuracy: 0.9740\n",
            "Epoch 96/100\n",
            "47/47 [==============================] - 0s 2ms/step - loss: 0.0822 - accuracy: 0.9813 - val_loss: 0.1019 - val_accuracy: 0.9620\n",
            "Epoch 97/100\n",
            "47/47 [==============================] - 0s 2ms/step - loss: 0.0866 - accuracy: 0.9807 - val_loss: 0.1852 - val_accuracy: 0.9140\n",
            "Epoch 98/100\n",
            "47/47 [==============================] - 0s 2ms/step - loss: 0.1037 - accuracy: 0.9653 - val_loss: 0.1519 - val_accuracy: 0.9360\n",
            "Epoch 99/100\n",
            "47/47 [==============================] - 0s 2ms/step - loss: 0.1130 - accuracy: 0.9613 - val_loss: 0.0855 - val_accuracy: 0.9760\n",
            "Epoch 100/100\n",
            "47/47 [==============================] - 0s 2ms/step - loss: 0.0987 - accuracy: 0.9700 - val_loss: 0.1316 - val_accuracy: 0.9420\n"
          ]
        },
        {
          "data": {
            "text/plain": [
              "<keras.callbacks.History at 0x21a2f96cf10>"
            ]
          },
          "execution_count": 317,
          "metadata": {},
          "output_type": "execute_result"
        }
      ],
      "source": [
        "# Build a secondary classifier\n",
        "secondary_model = tf.keras.models.Sequential([\n",
        "    tf.keras.layers.Dense(64, activation='relu', input_shape=(X_train_secondary.shape[1],)),\n",
        "    tf.keras.layers.Dense(32, activation='relu'),\n",
        "    tf.keras.layers.Dense(2, activation='softmax')  # Binary classification\n",
        "])\n",
        "\n",
        "# Compile secondary model\n",
        "secondary_model.compile(optimizer='adam', loss='sparse_categorical_crossentropy', metrics=['accuracy'])\n",
        "\n",
        "# Train a secondary model\n",
        "secondary_model.fit(X_train_secondary, y_train_secondary, epochs=100, batch_size=32, validation_data=(X_test_secondary, y_test_secondary))\n"
      ]
    },
    {
      "cell_type": "code",
      "execution_count": 318,
      "metadata": {},
      "outputs": [],
      "source": [
        "def integrated_prediction(primary_model, secondary_model, input_data, threshold=0.5):\n",
        "    primary_pred = primary_model.predict(input_data)\n",
        "    primary_label = np.argmax(primary_pred, axis=1)\n",
        "    \n",
        "    # For samples predicted as 'stop' or 'palm' by the primary model, use the secondary model for judgment.\n",
        "    secondary_indices = np.logical_or(primary_label == label_stop, primary_label == label_palm)\n",
        "    secondary_pred = secondary_model.predict(input_data[secondary_indices])\n",
        "    secondary_label = np.argmax(secondary_pred, axis=1)\n",
        "\n",
        "    # Update predictions from the main model\n",
        "    primary_label[secondary_indices] = np.where(secondary_label == 0, label_stop, label_palm)\n",
        "    \n",
        "    return primary_label"
      ]
    },
    {
      "cell_type": "markdown",
      "metadata": {
        "id": "S3U4yNWx9hE4"
      },
      "source": [
        "# Confusion matrix"
      ]
    },
    {
      "cell_type": "code",
      "execution_count": 319,
      "metadata": {
        "colab": {
          "base_uri": "https://localhost:8080/",
          "height": 582
        },
        "id": "AP1V6SCk9hE5",
        "outputId": "08e41a80-7a4a-4619-8125-ecc371368d19"
      },
      "outputs": [
        {
          "name": "stdout",
          "output_type": "stream",
          "text": [
            " 1/94 [..............................] - ETA: 1s"
          ]
        },
        {
          "name": "stdout",
          "output_type": "stream",
          "text": [
            "94/94 [==============================] - 0s 906us/step\n",
            "16/16 [==============================] - 0s 857us/step\n"
          ]
        },
        {
          "data": {
            "image/png": "[encoded data removed]",
            "text/plain": [
              "<Figure size 700x600 with 2 Axes>"
            ]
          },
          "metadata": {},
          "output_type": "display_data"
        },
        {
          "name": "stdout",
          "output_type": "stream",
          "text": [
            "Classification Report\n",
            "              precision    recall  f1-score   support\n",
            "\n",
            "           0       0.90      1.00      0.94       250\n",
            "           1       1.00      0.96      0.98       248\n",
            "           2       0.97      0.98      0.97       254\n",
            "           3       0.99      0.90      0.94       259\n",
            "           4       0.90      0.94      0.92       255\n",
            "           5       1.00      0.98      0.99       261\n",
            "           6       0.95      0.87      0.91       239\n",
            "           7       0.96      0.91      0.94       235\n",
            "           8       0.99      0.96      0.98       254\n",
            "           9       0.84      0.99      0.91       236\n",
            "          10       0.94      0.93      0.93       264\n",
            "          11       0.98      0.97      0.98       245\n",
            "\n",
            "    accuracy                           0.95      3000\n",
            "   macro avg       0.95      0.95      0.95      3000\n",
            "weighted avg       0.95      0.95      0.95      3000\n",
            "\n"
          ]
        }
      ],
      "source": [
        "import pandas as pd\n",
        "import seaborn as sns\n",
        "import matplotlib.pyplot as plt\n",
        "from sklearn.metrics import confusion_matrix, classification_report\n",
        "\n",
        "def print_confusion_matrix(y_true, y_pred, report=True):\n",
        "    labels = sorted(list(set(y_true)))\n",
        "    cmx_data = confusion_matrix(y_true, y_pred, labels=labels)\n",
        "    \n",
        "    df_cmx = pd.DataFrame(cmx_data, index=labels, columns=labels)\n",
        " \n",
        "    fig, ax = plt.subplots(figsize=(7, 6))\n",
        "    sns.heatmap(df_cmx, annot=True, fmt='g' ,square=False)\n",
        "    ax.set_ylim(len(set(y_true)), 0)\n",
        "    plt.show()\n",
        "    \n",
        "    if report:\n",
        "        print('Classification Report')\n",
        "        print(classification_report(y_test, y_pred))\n",
        "\n",
        "# Y_pred = model.predict(X_test)\n",
        "# y_pred = np.argmax(Y_pred, axis=1)\n",
        "\n",
        "y_pred = integrated_prediction(model, secondary_model, X_test)  # Integrated prediction\n",
        "\n",
        "print_confusion_matrix(y_test, y_pred)"
      ]
    },
    {
      "cell_type": "markdown",
      "metadata": {
        "id": "FNP6aqzc9hE5"
      },
      "source": [
        "# Convert to model for Tensorflow-Lite"
      ]
    },
    {
      "cell_type": "code",
      "execution_count": 320,
      "metadata": {
        "id": "ODjnYyld9hE6"
      },
      "outputs": [],
      "source": [
        "# Save as a model dedicated to inference\n",
        "model.save(model_save_path, include_optimizer=False)"
      ]
    },
    {
      "cell_type": "code",
      "execution_count": 321,
      "metadata": {
        "colab": {
          "base_uri": "https://localhost:8080/"
        },
        "id": "zRfuK8Y59hE6",
        "outputId": "a4ca585c-b5d5-4244-8291-8674063209bb"
      },
      "outputs": [
        {
          "name": "stdout",
          "output_type": "stream",
          "text": [
            "INFO:tensorflow:Assets written to: C:\\Users\\renyi\\AppData\\Local\\Temp\\tmpdf9fscr6\\assets\n"
          ]
        },
        {
          "name": "stderr",
          "output_type": "stream",
          "text": [
            "INFO:tensorflow:Assets written to: C:\\Users\\renyi\\AppData\\Local\\Temp\\tmpdf9fscr6\\assets\n"
          ]
        },
        {
          "data": {
            "text/plain": [
              "40424"
            ]
          },
          "execution_count": 321,
          "metadata": {},
          "output_type": "execute_result"
        }
      ],
      "source": [
        "# Transform model (quantization)\n",
        "\n",
        "converter = tf.lite.TFLiteConverter.from_keras_model(model)\n",
        "converter.optimizations = [tf.lite.Optimize.DEFAULT]\n",
        "tflite_quantized_model = converter.convert()\n",
        "\n",
        "open(tflite_save_path, 'wb').write(tflite_quantized_model)"
      ]
    },
    {
      "cell_type": "code",
      "execution_count": null,
      "metadata": {},
      "outputs": [],
      "source": [
        "# Save secondary model\n",
        "\n",
        "secondary_model.save(model_save_path, include_optimizer=False)"
      ]
    },
    {
      "cell_type": "markdown",
      "metadata": {
        "id": "CHBPBXdx9hE6"
      },
      "source": [
        "# Inference test"
      ]
    },
    {
      "cell_type": "code",
      "execution_count": 322,
      "metadata": {
        "id": "mGAzLocO9hE7"
      },
      "outputs": [],
      "source": [
        "interpreter = tf.lite.Interpreter(model_path=tflite_save_path)\n",
        "interpreter.allocate_tensors()"
      ]
    },
    {
      "cell_type": "code",
      "execution_count": 323,
      "metadata": {
        "id": "oQuDK8YS9hE7"
      },
      "outputs": [],
      "source": [
        "# Get I / O tensor\n",
        "input_details = interpreter.get_input_details()\n",
        "output_details = interpreter.get_output_details()"
      ]
    },
    {
      "cell_type": "code",
      "execution_count": 324,
      "metadata": {
        "id": "2_ixAf_l9hE7"
      },
      "outputs": [],
      "source": [
        "interpreter.set_tensor(input_details[0]['index'], np.array([X_test[0]]))"
      ]
    },
    {
      "cell_type": "code",
      "execution_count": 325,
      "metadata": {
        "colab": {
          "base_uri": "https://localhost:8080/"
        },
        "id": "s4FoAnuc9hE7",
        "outputId": "91f18257-8d8b-4ef3-c558-e9b5f94fabbf",
        "scrolled": true
      },
      "outputs": [
        {
          "name": "stdout",
          "output_type": "stream",
          "text": [
            "CPU times: total: 0 ns\n",
            "Wall time: 0 ns\n"
          ]
        }
      ],
      "source": [
        "%%time\n",
        "# Inference implementation\n",
        "interpreter.invoke()\n",
        "tflite_results = interpreter.get_tensor(output_details[0]['index'])"
      ]
    },
    {
      "cell_type": "code",
      "execution_count": 326,
      "metadata": {
        "colab": {
          "base_uri": "https://localhost:8080/"
        },
        "id": "vONjp19J9hE8",
        "outputId": "77205e24-fd00-42c4-f7b6-e06e527c2cba"
      },
      "outputs": [
        {
          "name": "stdout",
          "output_type": "stream",
          "text": [
            "[1.5827551e-09 9.9999666e-01 8.3822775e-12 3.7934476e-15 5.4785843e-10\n",
            " 1.6456488e-08 1.2740502e-12 1.9113163e-06 1.4874765e-09 8.2247340e-07\n",
            " 3.6780801e-07 2.7632137e-07]\n",
            "1\n"
          ]
        }
      ],
      "source": [
        "print(np.squeeze(tflite_results))\n",
        "print(np.argmax(np.squeeze(tflite_results)))"
      ]
    }
  ],
  "metadata": {
    "accelerator": "GPU",
    "colab": {
      "collapsed_sections": [],
      "name": "keypoint_classification_EN.ipynb",
      "provenance": [],
      "toc_visible": true
    },
    "kernelspec": {
      "display_name": "Python 3",
      "language": "python",
      "name": "python3"
    },
    "language_info": {
      "codemirror_mode": {
        "name": "ipython",
        "version": 3
      },
      "file_extension": ".py",
      "mimetype": "text/x-python",
      "name": "python",
      "nbconvert_exporter": "python",
      "pygments_lexer": "ipython3",
      "version": "3.11.8"
    }
  },
  "nbformat": 4,
  "nbformat_minor": 0
}
