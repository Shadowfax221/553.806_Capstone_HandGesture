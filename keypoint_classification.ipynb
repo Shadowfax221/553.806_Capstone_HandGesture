{
  "cells": [
    {
      "cell_type": "code",
      "execution_count": 131,
      "metadata": {
        "id": "igMyGnjE9hEp"
      },
      "outputs": [],
      "source": [
        "import csv\n",
        "\n",
        "import numpy as np\n",
        "import tensorflow as tf\n",
        "from sklearn.model_selection import train_test_split\n",
        "\n",
        "RANDOM_SEED = 42"
      ]
    },
    {
      "cell_type": "code",
      "execution_count": 132,
      "metadata": {
        "id": "9NvZP2Zn9hEy"
      },
      "outputs": [],
      "source": [
        "dataset = 'datasets/keypoint1000.csv'\n",
        "model_save_path = 'models/keypoint_classifier.hdf5'\n",
        "tflite_save_path = 'models/keypoint_classifier.tflite'"
      ]
    },
    {
      "cell_type": "markdown",
      "metadata": {
        "id": "s5oMH7x19hEz"
      },
      "source": [
        "# Set number of classes"
      ]
    },
    {
      "cell_type": "code",
      "execution_count": 133,
      "metadata": {
        "id": "du4kodXL9hEz"
      },
      "outputs": [],
      "source": [
        "NUM_CLASSES = 12\n",
        "LABELS = ['call', 'dislike', 'fist', 'like', 'mute', 'ok', 'one', 'palm', 'peace', 'rock', 'stop', 'stop_inverted'] "
      ]
    },
    {
      "cell_type": "markdown",
      "metadata": {
        "id": "XjnL0uso9hEz"
      },
      "source": [
        "# Dataset reading"
      ]
    },
    {
      "cell_type": "code",
      "execution_count": 134,
      "metadata": {},
      "outputs": [],
      "source": [
        "def apply_rotation(label, points):\n",
        "    num_points = 21\n",
        "    point_0 = points[0]\n",
        "    point_8 = points[8]\n",
        "\n",
        "    if label == 'dislike' or label == 'like':\n",
        "        return points  # No rotation\n",
        "    elif label == 'call':\n",
        "        # Rotate to be parallel with X-axis\n",
        "        line = point_8 - point_0\n",
        "        angle = np.arctan2(line[2], line[0])  # Consider the X-Z plane\n",
        "        rotation_matrix = np.array([\n",
        "            [1, 0, 0],\n",
        "            [0, np.cos(angle), -np.sin(angle)],\n",
        "            [0, np.sin(angle), np.cos(angle)]\n",
        "        ])\n",
        "    else:\n",
        "        # Rotate to be parallel with Y-axis\n",
        "        line = point_8 - point_0\n",
        "        angle = np.arctan2(line[2], line[1])  # Consider the Y-Z plane\n",
        "        rotation_matrix = np.array([\n",
        "            [np.cos(angle), 0, np.sin(angle)],\n",
        "            [0, 1, 0],\n",
        "            [-np.sin(angle), 0, np.cos(angle)]\n",
        "        ])\n",
        "    \n",
        "    # Apply rotation\n",
        "    for i in range(num_points):\n",
        "        points[i] = np.dot(rotation_matrix, points[i])\n",
        "\n",
        "    return points\n"
      ]
    },
    {
      "cell_type": "code",
      "execution_count": 135,
      "metadata": {},
      "outputs": [],
      "source": [
        "def pre_process_dataset(X_dataset, y_dataset):\n",
        "    # Reshape to 3D\n",
        "    num_points = 21\n",
        "    reshaped_dataset = X_dataset.reshape(-1, num_points, 3)\n",
        "\n",
        "    # Shift coordinates\n",
        "    for i in range(len(reshaped_dataset)):\n",
        "        base_point = reshaped_dataset[i, 0]  # ID:0\n",
        "        for j in range(num_points):\n",
        "            reshaped_dataset[i, j] -= base_point\n",
        "\n",
        "    # Rotation\n",
        "    for i in range(len(reshaped_dataset)):\n",
        "        label = LABELS[y_dataset[i]]\n",
        "        reshaped_dataset[i] = apply_rotation(label, reshaped_dataset[i])\n",
        "\n",
        "    # Flatten\n",
        "    flattened_dataset = reshaped_dataset.reshape(-1, num_points * 3)\n",
        "\n",
        "    # Normalization\n",
        "    max_abs_value = np.max(np.abs(flattened_dataset))\n",
        "    normalized_dataset = flattened_dataset / max_abs_value\n",
        "\n",
        "    return normalized_dataset"
      ]
    },
    {
      "cell_type": "code",
      "execution_count": 136,
      "metadata": {
        "id": "QT5ZqtEz9hE0"
      },
      "outputs": [],
      "source": [
        "X_dataset = np.loadtxt(dataset, delimiter=',', dtype='float32', usecols=list(range(1, (21 * 3) + 1)))"
      ]
    },
    {
      "cell_type": "code",
      "execution_count": 137,
      "metadata": {
        "id": "QmoKFsp49hE0"
      },
      "outputs": [],
      "source": [
        "y_dataset = np.loadtxt(dataset, delimiter=',', dtype='int32', usecols=(0))"
      ]
    },
    {
      "cell_type": "code",
      "execution_count": 138,
      "metadata": {},
      "outputs": [],
      "source": [
        "X_dataset_preprocessed = pre_process_dataset(X_dataset, y_dataset)"
      ]
    },
    {
      "cell_type": "code",
      "execution_count": 139,
      "metadata": {
        "id": "xQU7JTZ_9hE0"
      },
      "outputs": [],
      "source": [
        "X_train, X_test, y_train, y_test = train_test_split(X_dataset_preprocessed, y_dataset, train_size=0.75, random_state=RANDOM_SEED)"
      ]
    },
    {
      "cell_type": "markdown",
      "metadata": {
        "id": "mxK_lETT9hE0"
      },
      "source": [
        "# Model building"
      ]
    },
    {
      "cell_type": "code",
      "execution_count": 140,
      "metadata": {
        "id": "vHBmUf1t9hE1"
      },
      "outputs": [],
      "source": [
        "model = tf.keras.models.Sequential([\n",
        "    tf.keras.layers.Input((21 * 3, )),\n",
        "    tf.keras.layers.Dropout(0.1),\n",
        "    tf.keras.layers.Dense(128, activation='relu'),  # Increased units\n",
        "    tf.keras.layers.BatchNormalization(),  # Added Batch Normalization\n",
        "    tf.keras.layers.Dropout(0.1),  # Adjusted dropout rate\n",
        "    tf.keras.layers.Dense(128, activation='relu'),  # Increased units\n",
        "    tf.keras.layers.BatchNormalization(),  # Added Batch Normalization\n",
        "    tf.keras.layers.Dense(64, activation='relu'),  # Increased units\n",
        "    tf.keras.layers.Dense(NUM_CLASSES, activation='softmax')\n",
        "])"
      ]
    },
    {
      "cell_type": "code",
      "execution_count": 141,
      "metadata": {
        "colab": {
          "base_uri": "https://localhost:8080/"
        },
        "id": "ypqky9tc9hE1",
        "outputId": "5db082bb-30e3-4110-bf63-a1ee777ecd46"
      },
      "outputs": [
        {
          "name": "stdout",
          "output_type": "stream",
          "text": [
            "Model: \"sequential_5\"\n",
            "_________________________________________________________________\n",
            " Layer (type)                Output Shape              Param #   \n",
            "=================================================================\n",
            " dropout_10 (Dropout)        (None, 63)                0         \n",
            "                                                                 \n",
            " dense_19 (Dense)            (None, 128)               8192      \n",
            "                                                                 \n",
            " batch_normalization_9 (Batc  (None, 128)              512       \n",
            " hNormalization)                                                 \n",
            "                                                                 \n",
            " dropout_11 (Dropout)        (None, 128)               0         \n",
            "                                                                 \n",
            " dense_20 (Dense)            (None, 128)               16512     \n",
            "                                                                 \n",
            " batch_normalization_10 (Bat  (None, 128)              512       \n",
            " chNormalization)                                                \n",
            "                                                                 \n",
            " dense_21 (Dense)            (None, 64)                8256      \n",
            "                                                                 \n",
            " dense_22 (Dense)            (None, 12)                780       \n",
            "                                                                 \n",
            "=================================================================\n",
            "Total params: 34,764\n",
            "Trainable params: 34,252\n",
            "Non-trainable params: 512\n",
            "_________________________________________________________________\n"
          ]
        }
      ],
      "source": [
        "model.summary()  # tf.keras.utils.plot_model(model, show_shapes=True)"
      ]
    },
    {
      "cell_type": "code",
      "execution_count": 142,
      "metadata": {
        "id": "MbMjOflQ9hE1"
      },
      "outputs": [],
      "source": [
        "# Model checkpoint callback\n",
        "cp_callback = tf.keras.callbacks.ModelCheckpoint(\n",
        "    model_save_path, verbose=1, save_weights_only=False)\n",
        "# Callback for early stopping\n",
        "es_callback = tf.keras.callbacks.EarlyStopping(patience=30, verbose=1)"
      ]
    },
    {
      "cell_type": "code",
      "execution_count": 143,
      "metadata": {
        "id": "c3Dac0M_9hE2"
      },
      "outputs": [],
      "source": [
        "# Model compilation\n",
        "model.compile(\n",
        "    optimizer='adam',\n",
        "    loss='sparse_categorical_crossentropy',\n",
        "    metrics=['accuracy']\n",
        ")"
      ]
    },
    {
      "cell_type": "markdown",
      "metadata": {
        "id": "7XI0j1Iu9hE2"
      },
      "source": [
        "# Model training"
      ]
    },
    {
      "cell_type": "code",
      "execution_count": 144,
      "metadata": {},
      "outputs": [
        {
          "data": {
            "text/plain": [
              "<keras.callbacks.EarlyStopping at 0x21a42653f40>"
            ]
          },
          "execution_count": 144,
          "metadata": {},
          "output_type": "execute_result"
        }
      ],
      "source": [
        "es_callback"
      ]
    },
    {
      "cell_type": "code",
      "execution_count": 145,
      "metadata": {
        "colab": {
          "base_uri": "https://localhost:8080/"
        },
        "id": "WirBl-JE9hE3",
        "outputId": "71b30ca2-8294-4d9d-8aa2-800d90d399de",
        "scrolled": true
      },
      "outputs": [
        {
          "name": "stdout",
          "output_type": "stream",
          "text": [
            "Epoch 1/1000\n"
          ]
        },
        {
          "name": "stdout",
          "output_type": "stream",
          "text": [
            "57/71 [=======================>......] - ETA: 0s - loss: 2.3588 - accuracy: 0.1964\n",
            "Epoch 1: saving model to models\\keypoint_classifier.hdf5\n",
            "71/71 [==============================] - 1s 6ms/step - loss: 2.2884 - accuracy: 0.2176 - val_loss: 2.3861 - val_accuracy: 0.1290\n",
            "Epoch 2/1000\n",
            "59/71 [=======================>......] - ETA: 0s - loss: 1.8208 - accuracy: 0.3640\n",
            "Epoch 2: saving model to models\\keypoint_classifier.hdf5\n",
            "71/71 [==============================] - 0s 4ms/step - loss: 1.8072 - accuracy: 0.3641 - val_loss: 2.1898 - val_accuracy: 0.1867\n",
            "Epoch 3/1000\n",
            "54/71 [=====================>........] - ETA: 0s - loss: 1.6418 - accuracy: 0.4188\n",
            "Epoch 3: saving model to models\\keypoint_classifier.hdf5\n",
            "71/71 [==============================] - 0s 4ms/step - loss: 1.6348 - accuracy: 0.4222 - val_loss: 1.7571 - val_accuracy: 0.4407\n",
            "Epoch 4/1000\n",
            "67/71 [===========================>..] - ETA: 0s - loss: 1.5358 - accuracy: 0.4569\n",
            "Epoch 4: saving model to models\\keypoint_classifier.hdf5\n",
            "71/71 [==============================] - 0s 4ms/step - loss: 1.5375 - accuracy: 0.4579 - val_loss: 1.4749 - val_accuracy: 0.5590\n",
            "Epoch 5/1000\n",
            "55/71 [======================>.......] - ETA: 0s - loss: 1.4667 - accuracy: 0.4737\n",
            "Epoch 5: saving model to models\\keypoint_classifier.hdf5\n",
            "71/71 [==============================] - 0s 4ms/step - loss: 1.4503 - accuracy: 0.4861 - val_loss: 1.3027 - val_accuracy: 0.6133\n",
            "Epoch 6/1000\n",
            "59/71 [=======================>......] - ETA: 0s - loss: 1.3621 - accuracy: 0.5196\n",
            "Epoch 6: saving model to models\\keypoint_classifier.hdf5\n",
            "71/71 [==============================] - 0s 4ms/step - loss: 1.3553 - accuracy: 0.5241 - val_loss: 1.2239 - val_accuracy: 0.6057\n",
            "Epoch 7/1000\n",
            "58/71 [=======================>......] - ETA: 0s - loss: 1.3048 - accuracy: 0.5412\n",
            "Epoch 7: saving model to models\\keypoint_classifier.hdf5\n",
            "71/71 [==============================] - 0s 4ms/step - loss: 1.2933 - accuracy: 0.5460 - val_loss: 1.1093 - val_accuracy: 0.6123\n",
            "Epoch 8/1000\n",
            "55/71 [======================>.......] - ETA: 0s - loss: 1.2331 - accuracy: 0.5689\n",
            "Epoch 8: saving model to models\\keypoint_classifier.hdf5\n",
            "71/71 [==============================] - 0s 5ms/step - loss: 1.2155 - accuracy: 0.5738 - val_loss: 0.9857 - val_accuracy: 0.6587\n",
            "Epoch 9/1000\n",
            "59/71 [=======================>......] - ETA: 0s - loss: 1.1429 - accuracy: 0.6008\n",
            "Epoch 9: saving model to models\\keypoint_classifier.hdf5\n",
            "71/71 [==============================] - 0s 4ms/step - loss: 1.1430 - accuracy: 0.5989 - val_loss: 0.8753 - val_accuracy: 0.6947\n",
            "Epoch 10/1000\n",
            "57/71 [=======================>......] - ETA: 0s - loss: 1.0906 - accuracy: 0.6117\n",
            "Epoch 10: saving model to models\\keypoint_classifier.hdf5\n",
            "71/71 [==============================] - 0s 4ms/step - loss: 1.0848 - accuracy: 0.6166 - val_loss: 0.7103 - val_accuracy: 0.7683\n",
            "Epoch 11/1000\n",
            "56/71 [======================>.......] - ETA: 0s - loss: 1.0196 - accuracy: 0.6444\n",
            "Epoch 11: saving model to models\\keypoint_classifier.hdf5\n",
            "71/71 [==============================] - 0s 4ms/step - loss: 1.0167 - accuracy: 0.6446 - val_loss: 0.6776 - val_accuracy: 0.7760\n",
            "Epoch 12/1000\n",
            "54/71 [=====================>........] - ETA: 0s - loss: 0.9596 - accuracy: 0.6633\n",
            "Epoch 12: saving model to models\\keypoint_classifier.hdf5\n",
            "71/71 [==============================] - 0s 4ms/step - loss: 0.9453 - accuracy: 0.6687 - val_loss: 0.8372 - val_accuracy: 0.7030\n",
            "Epoch 13/1000\n",
            "56/71 [======================>.......] - ETA: 0s - loss: 0.9089 - accuracy: 0.6770\n",
            "Epoch 13: saving model to models\\keypoint_classifier.hdf5\n",
            "71/71 [==============================] - 0s 4ms/step - loss: 0.9077 - accuracy: 0.6781 - val_loss: 0.6081 - val_accuracy: 0.7540\n",
            "Epoch 14/1000\n",
            "69/71 [============================>.] - ETA: 0s - loss: 0.8685 - accuracy: 0.6967\n",
            "Epoch 14: saving model to models\\keypoint_classifier.hdf5\n",
            "71/71 [==============================] - 0s 4ms/step - loss: 0.8709 - accuracy: 0.6957 - val_loss: 0.6247 - val_accuracy: 0.7820\n",
            "Epoch 15/1000\n",
            "66/71 [==========================>...] - ETA: 0s - loss: 0.8266 - accuracy: 0.7137\n",
            "Epoch 15: saving model to models\\keypoint_classifier.hdf5\n",
            "71/71 [==============================] - 0s 4ms/step - loss: 0.8217 - accuracy: 0.7157 - val_loss: 0.4725 - val_accuracy: 0.8353\n",
            "Epoch 16/1000\n",
            "53/71 [=====================>........] - ETA: 0s - loss: 0.7538 - accuracy: 0.7398\n",
            "Epoch 16: saving model to models\\keypoint_classifier.hdf5\n",
            "71/71 [==============================] - 0s 4ms/step - loss: 0.7494 - accuracy: 0.7382 - val_loss: 0.4007 - val_accuracy: 0.8683\n",
            "Epoch 17/1000\n",
            "56/71 [======================>.......] - ETA: 0s - loss: 0.7141 - accuracy: 0.7540\n",
            "Epoch 17: saving model to models\\keypoint_classifier.hdf5\n",
            "71/71 [==============================] - 0s 4ms/step - loss: 0.7138 - accuracy: 0.7519 - val_loss: 0.5168 - val_accuracy: 0.8357\n",
            "Epoch 18/1000\n",
            "59/71 [=======================>......] - ETA: 0s - loss: 0.6756 - accuracy: 0.7622\n",
            "Epoch 18: saving model to models\\keypoint_classifier.hdf5\n",
            "71/71 [==============================] - 0s 4ms/step - loss: 0.6802 - accuracy: 0.7582 - val_loss: 0.3511 - val_accuracy: 0.8920\n",
            "Epoch 19/1000\n",
            "56/71 [======================>.......] - ETA: 0s - loss: 0.6489 - accuracy: 0.7688\n",
            "Epoch 19: saving model to models\\keypoint_classifier.hdf5\n",
            "71/71 [==============================] - 0s 4ms/step - loss: 0.6453 - accuracy: 0.7703 - val_loss: 0.4180 - val_accuracy: 0.8613\n",
            "Epoch 20/1000\n",
            "66/71 [==========================>...] - ETA: 0s - loss: 0.6198 - accuracy: 0.7817\n",
            "Epoch 20: saving model to models\\keypoint_classifier.hdf5\n",
            "71/71 [==============================] - 0s 4ms/step - loss: 0.6193 - accuracy: 0.7813 - val_loss: 0.4605 - val_accuracy: 0.8307\n",
            "Epoch 21/1000\n",
            "57/71 [=======================>......] - ETA: 0s - loss: 0.6142 - accuracy: 0.7799\n",
            "Epoch 21: saving model to models\\keypoint_classifier.hdf5\n",
            "71/71 [==============================] - 0s 4ms/step - loss: 0.6128 - accuracy: 0.7823 - val_loss: 0.2993 - val_accuracy: 0.9117\n",
            "Epoch 22/1000\n",
            "71/71 [==============================] - ETA: 0s - loss: 0.5924 - accuracy: 0.7821\n",
            "Epoch 22: saving model to models\\keypoint_classifier.hdf5\n",
            "71/71 [==============================] - 0s 4ms/step - loss: 0.5924 - accuracy: 0.7821 - val_loss: 0.3360 - val_accuracy: 0.8903\n",
            "Epoch 23/1000\n",
            "69/71 [============================>.] - ETA: 0s - loss: 0.5614 - accuracy: 0.7933\n",
            "Epoch 23: saving model to models\\keypoint_classifier.hdf5\n",
            "71/71 [==============================] - 0s 5ms/step - loss: 0.5593 - accuracy: 0.7937 - val_loss: 0.2985 - val_accuracy: 0.8957\n",
            "Epoch 24/1000\n",
            "68/71 [===========================>..] - ETA: 0s - loss: 0.5631 - accuracy: 0.7970\n",
            "Epoch 24: saving model to models\\keypoint_classifier.hdf5\n",
            "71/71 [==============================] - 0s 4ms/step - loss: 0.5606 - accuracy: 0.7970 - val_loss: 0.3278 - val_accuracy: 0.8847\n",
            "Epoch 25/1000\n",
            "67/71 [===========================>..] - ETA: 0s - loss: 0.5296 - accuracy: 0.8047\n",
            "Epoch 25: saving model to models\\keypoint_classifier.hdf5\n",
            "71/71 [==============================] - 0s 4ms/step - loss: 0.5314 - accuracy: 0.8034 - val_loss: 0.2957 - val_accuracy: 0.9043\n",
            "Epoch 26/1000\n",
            "67/71 [===========================>..] - ETA: 0s - loss: 0.5290 - accuracy: 0.8062\n",
            "Epoch 26: saving model to models\\keypoint_classifier.hdf5\n",
            "71/71 [==============================] - 0s 5ms/step - loss: 0.5290 - accuracy: 0.8062 - val_loss: 0.2867 - val_accuracy: 0.9083\n",
            "Epoch 27/1000\n",
            "56/71 [======================>.......] - ETA: 0s - loss: 0.5244 - accuracy: 0.8100\n",
            "Epoch 27: saving model to models\\keypoint_classifier.hdf5\n",
            "71/71 [==============================] - 0s 4ms/step - loss: 0.5159 - accuracy: 0.8150 - val_loss: 0.2580 - val_accuracy: 0.9173\n",
            "Epoch 28/1000\n",
            "55/71 [======================>.......] - ETA: 0s - loss: 0.5052 - accuracy: 0.8138\n",
            "Epoch 28: saving model to models\\keypoint_classifier.hdf5\n",
            "71/71 [==============================] - 0s 4ms/step - loss: 0.5085 - accuracy: 0.8112 - val_loss: 0.2627 - val_accuracy: 0.9123\n",
            "Epoch 29/1000\n",
            "54/71 [=====================>........] - ETA: 0s - loss: 0.4926 - accuracy: 0.8164\n",
            "Epoch 29: saving model to models\\keypoint_classifier.hdf5\n",
            "71/71 [==============================] - 0s 4ms/step - loss: 0.4908 - accuracy: 0.8187 - val_loss: 0.2347 - val_accuracy: 0.9297\n",
            "Epoch 30/1000\n",
            "61/71 [========================>.....] - ETA: 0s - loss: 0.4860 - accuracy: 0.8256\n",
            "Epoch 30: saving model to models\\keypoint_classifier.hdf5\n",
            "71/71 [==============================] - 0s 4ms/step - loss: 0.4844 - accuracy: 0.8258 - val_loss: 0.2784 - val_accuracy: 0.9123\n",
            "Epoch 31/1000\n",
            "57/71 [=======================>......] - ETA: 0s - loss: 0.4879 - accuracy: 0.8226\n",
            "Epoch 31: saving model to models\\keypoint_classifier.hdf5\n",
            "71/71 [==============================] - 0s 4ms/step - loss: 0.4828 - accuracy: 0.8229 - val_loss: 0.3186 - val_accuracy: 0.8873\n",
            "Epoch 32/1000\n",
            "55/71 [======================>.......] - ETA: 0s - loss: 0.4653 - accuracy: 0.8294\n",
            "Epoch 32: saving model to models\\keypoint_classifier.hdf5\n",
            "71/71 [==============================] - 0s 4ms/step - loss: 0.4704 - accuracy: 0.8268 - val_loss: 0.3115 - val_accuracy: 0.8883\n",
            "Epoch 33/1000\n",
            "57/71 [=======================>......] - ETA: 0s - loss: 0.4511 - accuracy: 0.8385\n",
            "Epoch 33: saving model to models\\keypoint_classifier.hdf5\n",
            "71/71 [==============================] - 0s 4ms/step - loss: 0.4527 - accuracy: 0.8391 - val_loss: 0.2755 - val_accuracy: 0.8990\n",
            "Epoch 34/1000\n",
            "54/71 [=====================>........] - ETA: 0s - loss: 0.4388 - accuracy: 0.8396\n",
            "Epoch 34: saving model to models\\keypoint_classifier.hdf5\n",
            "71/71 [==============================] - 0s 4ms/step - loss: 0.4451 - accuracy: 0.8350 - val_loss: 0.3063 - val_accuracy: 0.8870\n",
            "Epoch 35/1000\n",
            "70/71 [============================>.] - ETA: 0s - loss: 0.4543 - accuracy: 0.8333\n",
            "Epoch 35: saving model to models\\keypoint_classifier.hdf5\n",
            "71/71 [==============================] - 0s 4ms/step - loss: 0.4550 - accuracy: 0.8333 - val_loss: 0.2535 - val_accuracy: 0.9090\n",
            "Epoch 36/1000\n",
            "71/71 [==============================] - ETA: 0s - loss: 0.4343 - accuracy: 0.8364\n",
            "Epoch 36: saving model to models\\keypoint_classifier.hdf5\n",
            "71/71 [==============================] - 0s 4ms/step - loss: 0.4343 - accuracy: 0.8364 - val_loss: 0.2604 - val_accuracy: 0.9187\n",
            "Epoch 37/1000\n",
            "62/71 [=========================>....] - ETA: 0s - loss: 0.4152 - accuracy: 0.8426\n",
            "Epoch 37: saving model to models\\keypoint_classifier.hdf5\n",
            "71/71 [==============================] - 0s 4ms/step - loss: 0.4181 - accuracy: 0.8429 - val_loss: 0.2625 - val_accuracy: 0.9113\n",
            "Epoch 38/1000\n",
            "68/71 [===========================>..] - ETA: 0s - loss: 0.4366 - accuracy: 0.8381\n",
            "Epoch 38: saving model to models\\keypoint_classifier.hdf5\n",
            "71/71 [==============================] - 0s 4ms/step - loss: 0.4350 - accuracy: 0.8378 - val_loss: 0.3077 - val_accuracy: 0.8857\n",
            "Epoch 39/1000\n",
            "54/71 [=====================>........] - ETA: 0s - loss: 0.4341 - accuracy: 0.8448\n",
            "Epoch 39: saving model to models\\keypoint_classifier.hdf5\n",
            "71/71 [==============================] - 0s 4ms/step - loss: 0.4331 - accuracy: 0.8438 - val_loss: 0.2963 - val_accuracy: 0.8867\n",
            "Epoch 40/1000\n",
            "55/71 [======================>.......] - ETA: 0s - loss: 0.3969 - accuracy: 0.8580\n",
            "Epoch 40: saving model to models\\keypoint_classifier.hdf5\n",
            "71/71 [==============================] - 0s 4ms/step - loss: 0.3972 - accuracy: 0.8558 - val_loss: 0.2399 - val_accuracy: 0.9310\n",
            "Epoch 41/1000\n",
            "70/71 [============================>.] - ETA: 0s - loss: 0.4214 - accuracy: 0.8503\n",
            "Epoch 41: saving model to models\\keypoint_classifier.hdf5\n",
            "71/71 [==============================] - 0s 4ms/step - loss: 0.4240 - accuracy: 0.8497 - val_loss: 0.2205 - val_accuracy: 0.9277\n",
            "Epoch 42/1000\n",
            "71/71 [==============================] - ETA: 0s - loss: 0.4194 - accuracy: 0.8492\n",
            "Epoch 42: saving model to models\\keypoint_classifier.hdf5\n",
            "71/71 [==============================] - 0s 4ms/step - loss: 0.4194 - accuracy: 0.8492 - val_loss: 0.2999 - val_accuracy: 0.8960\n",
            "Epoch 43/1000\n",
            "69/71 [============================>.] - ETA: 0s - loss: 0.4122 - accuracy: 0.8490\n",
            "Epoch 43: saving model to models\\keypoint_classifier.hdf5\n",
            "71/71 [==============================] - 0s 4ms/step - loss: 0.4113 - accuracy: 0.8489 - val_loss: 0.2005 - val_accuracy: 0.9393\n",
            "Epoch 44/1000\n",
            "69/71 [============================>.] - ETA: 0s - loss: 0.4004 - accuracy: 0.8499\n",
            "Epoch 44: saving model to models\\keypoint_classifier.hdf5\n",
            "71/71 [==============================] - 0s 4ms/step - loss: 0.4015 - accuracy: 0.8500 - val_loss: 0.2599 - val_accuracy: 0.8963\n",
            "Epoch 45/1000\n",
            "55/71 [======================>.......] - ETA: 0s - loss: 0.4170 - accuracy: 0.8499\n",
            "Epoch 45: saving model to models\\keypoint_classifier.hdf5\n",
            "71/71 [==============================] - 0s 4ms/step - loss: 0.4132 - accuracy: 0.8499 - val_loss: 0.3727 - val_accuracy: 0.8703\n",
            "Epoch 46/1000\n",
            "71/71 [==============================] - ETA: 0s - loss: 0.3935 - accuracy: 0.8542\n",
            "Epoch 46: saving model to models\\keypoint_classifier.hdf5\n",
            "71/71 [==============================] - 0s 4ms/step - loss: 0.3935 - accuracy: 0.8542 - val_loss: 0.3002 - val_accuracy: 0.9020\n",
            "Epoch 47/1000\n",
            "71/71 [==============================] - ETA: 0s - loss: 0.4017 - accuracy: 0.8512\n",
            "Epoch 47: saving model to models\\keypoint_classifier.hdf5\n",
            "71/71 [==============================] - 0s 4ms/step - loss: 0.4017 - accuracy: 0.8512 - val_loss: 0.2670 - val_accuracy: 0.9120\n",
            "Epoch 48/1000\n",
            "55/71 [======================>.......] - ETA: 0s - loss: 0.3907 - accuracy: 0.8555\n",
            "Epoch 48: saving model to models\\keypoint_classifier.hdf5\n",
            "71/71 [==============================] - 0s 4ms/step - loss: 0.3816 - accuracy: 0.8600 - val_loss: 0.2111 - val_accuracy: 0.9357\n",
            "Epoch 49/1000\n",
            "66/71 [==========================>...] - ETA: 0s - loss: 0.3684 - accuracy: 0.8628\n",
            "Epoch 49: saving model to models\\keypoint_classifier.hdf5\n",
            "71/71 [==============================] - 0s 4ms/step - loss: 0.3687 - accuracy: 0.8631 - val_loss: 0.2618 - val_accuracy: 0.8903\n",
            "Epoch 50/1000\n",
            "55/71 [======================>.......] - ETA: 0s - loss: 0.3784 - accuracy: 0.8624\n",
            "Epoch 50: saving model to models\\keypoint_classifier.hdf5\n",
            "71/71 [==============================] - 0s 4ms/step - loss: 0.3793 - accuracy: 0.8623 - val_loss: 0.2096 - val_accuracy: 0.9233\n",
            "Epoch 51/1000\n",
            "57/71 [=======================>......] - ETA: 0s - loss: 0.3875 - accuracy: 0.8565\n",
            "Epoch 51: saving model to models\\keypoint_classifier.hdf5\n",
            "71/71 [==============================] - 0s 4ms/step - loss: 0.3833 - accuracy: 0.8582 - val_loss: 0.2968 - val_accuracy: 0.8890\n",
            "Epoch 52/1000\n",
            "55/71 [======================>.......] - ETA: 0s - loss: 0.3726 - accuracy: 0.8679\n",
            "Epoch 52: saving model to models\\keypoint_classifier.hdf5\n",
            "71/71 [==============================] - 0s 4ms/step - loss: 0.3674 - accuracy: 0.8667 - val_loss: 0.2147 - val_accuracy: 0.9310\n",
            "Epoch 53/1000\n",
            "55/71 [======================>.......] - ETA: 0s - loss: 0.3699 - accuracy: 0.8666\n",
            "Epoch 53: saving model to models\\keypoint_classifier.hdf5\n",
            "71/71 [==============================] - 0s 4ms/step - loss: 0.3725 - accuracy: 0.8627 - val_loss: 0.2383 - val_accuracy: 0.9183\n",
            "Epoch 54/1000\n",
            "56/71 [======================>.......] - ETA: 0s - loss: 0.3771 - accuracy: 0.8644\n",
            "Epoch 54: saving model to models\\keypoint_classifier.hdf5\n",
            "71/71 [==============================] - 0s 4ms/step - loss: 0.3726 - accuracy: 0.8651 - val_loss: 0.2255 - val_accuracy: 0.9197\n",
            "Epoch 55/1000\n",
            "70/71 [============================>.] - ETA: 0s - loss: 0.3686 - accuracy: 0.8631\n",
            "Epoch 55: saving model to models\\keypoint_classifier.hdf5\n",
            "71/71 [==============================] - 0s 4ms/step - loss: 0.3703 - accuracy: 0.8626 - val_loss: 0.2271 - val_accuracy: 0.9293\n",
            "Epoch 56/1000\n",
            "54/71 [=====================>........] - ETA: 0s - loss: 0.3683 - accuracy: 0.8670\n",
            "Epoch 56: saving model to models\\keypoint_classifier.hdf5\n",
            "71/71 [==============================] - 0s 4ms/step - loss: 0.3641 - accuracy: 0.8671 - val_loss: 0.2169 - val_accuracy: 0.9177\n",
            "Epoch 57/1000\n",
            "70/71 [============================>.] - ETA: 0s - loss: 0.3439 - accuracy: 0.8765\n",
            "Epoch 57: saving model to models\\keypoint_classifier.hdf5\n",
            "71/71 [==============================] - 0s 4ms/step - loss: 0.3462 - accuracy: 0.8754 - val_loss: 0.1821 - val_accuracy: 0.9313\n",
            "Epoch 58/1000\n",
            "71/71 [==============================] - ETA: 0s - loss: 0.3528 - accuracy: 0.8696\n",
            "Epoch 58: saving model to models\\keypoint_classifier.hdf5\n",
            "71/71 [==============================] - 0s 4ms/step - loss: 0.3528 - accuracy: 0.8696 - val_loss: 0.2429 - val_accuracy: 0.9067\n",
            "Epoch 59/1000\n",
            "71/71 [==============================] - ETA: 0s - loss: 0.3563 - accuracy: 0.8707\n",
            "Epoch 59: saving model to models\\keypoint_classifier.hdf5\n",
            "71/71 [==============================] - 0s 4ms/step - loss: 0.3563 - accuracy: 0.8707 - val_loss: 0.2393 - val_accuracy: 0.9217\n",
            "Epoch 60/1000\n",
            "71/71 [==============================] - ETA: 0s - loss: 0.3571 - accuracy: 0.8678\n",
            "Epoch 60: saving model to models\\keypoint_classifier.hdf5\n",
            "71/71 [==============================] - 0s 4ms/step - loss: 0.3571 - accuracy: 0.8678 - val_loss: 0.2874 - val_accuracy: 0.9043\n",
            "Epoch 61/1000\n",
            "71/71 [==============================] - ETA: 0s - loss: 0.3365 - accuracy: 0.8734\n",
            "Epoch 61: saving model to models\\keypoint_classifier.hdf5\n",
            "71/71 [==============================] - 0s 4ms/step - loss: 0.3365 - accuracy: 0.8734 - val_loss: 0.2747 - val_accuracy: 0.8990\n",
            "Epoch 62/1000\n",
            "63/71 [=========================>....] - ETA: 0s - loss: 0.3489 - accuracy: 0.8709\n",
            "Epoch 62: saving model to models\\keypoint_classifier.hdf5\n",
            "71/71 [==============================] - 0s 4ms/step - loss: 0.3473 - accuracy: 0.8713 - val_loss: 0.6010 - val_accuracy: 0.7927\n",
            "Epoch 63/1000\n",
            "69/71 [============================>.] - ETA: 0s - loss: 0.3409 - accuracy: 0.8765\n",
            "Epoch 63: saving model to models\\keypoint_classifier.hdf5\n",
            "71/71 [==============================] - 0s 4ms/step - loss: 0.3395 - accuracy: 0.8767 - val_loss: 0.2040 - val_accuracy: 0.9250\n",
            "Epoch 64/1000\n",
            "55/71 [======================>.......] - ETA: 0s - loss: 0.3469 - accuracy: 0.8727\n",
            "Epoch 64: saving model to models\\keypoint_classifier.hdf5\n",
            "71/71 [==============================] - 0s 4ms/step - loss: 0.3418 - accuracy: 0.8743 - val_loss: 0.2413 - val_accuracy: 0.9160\n",
            "Epoch 65/1000\n",
            "54/71 [=====================>........] - ETA: 0s - loss: 0.3395 - accuracy: 0.8740\n",
            "Epoch 65: saving model to models\\keypoint_classifier.hdf5\n",
            "71/71 [==============================] - 0s 4ms/step - loss: 0.3397 - accuracy: 0.8741 - val_loss: 0.2554 - val_accuracy: 0.9040\n",
            "Epoch 66/1000\n",
            "56/71 [======================>.......] - ETA: 0s - loss: 0.3377 - accuracy: 0.8732\n",
            "Epoch 66: saving model to models\\keypoint_classifier.hdf5\n",
            "71/71 [==============================] - 0s 4ms/step - loss: 0.3347 - accuracy: 0.8746 - val_loss: 0.2946 - val_accuracy: 0.8857\n",
            "Epoch 67/1000\n",
            "56/71 [======================>.......] - ETA: 0s - loss: 0.3249 - accuracy: 0.8813\n",
            "Epoch 67: saving model to models\\keypoint_classifier.hdf5\n",
            "71/71 [==============================] - 0s 4ms/step - loss: 0.3268 - accuracy: 0.8814 - val_loss: 0.2095 - val_accuracy: 0.9267\n",
            "Epoch 68/1000\n",
            "56/71 [======================>.......] - ETA: 0s - loss: 0.3265 - accuracy: 0.8839\n",
            "Epoch 68: saving model to models\\keypoint_classifier.hdf5\n",
            "71/71 [==============================] - 0s 4ms/step - loss: 0.3312 - accuracy: 0.8828 - val_loss: 0.2472 - val_accuracy: 0.9180\n",
            "Epoch 69/1000\n",
            "55/71 [======================>.......] - ETA: 0s - loss: 0.3257 - accuracy: 0.8821\n",
            "Epoch 69: saving model to models\\keypoint_classifier.hdf5\n",
            "71/71 [==============================] - 0s 4ms/step - loss: 0.3211 - accuracy: 0.8841 - val_loss: 0.2100 - val_accuracy: 0.9177\n",
            "Epoch 70/1000\n",
            "56/71 [======================>.......] - ETA: 0s - loss: 0.3401 - accuracy: 0.8747\n",
            "Epoch 70: saving model to models\\keypoint_classifier.hdf5\n",
            "71/71 [==============================] - 0s 4ms/step - loss: 0.3340 - accuracy: 0.8768 - val_loss: 0.1991 - val_accuracy: 0.9393\n",
            "Epoch 71/1000\n",
            "54/71 [=====================>........] - ETA: 0s - loss: 0.3397 - accuracy: 0.8718\n",
            "Epoch 71: saving model to models\\keypoint_classifier.hdf5\n",
            "71/71 [==============================] - 0s 4ms/step - loss: 0.3388 - accuracy: 0.8728 - val_loss: 0.2592 - val_accuracy: 0.9027\n",
            "Epoch 72/1000\n",
            "55/71 [======================>.......] - ETA: 0s - loss: 0.3268 - accuracy: 0.8761\n",
            "Epoch 72: saving model to models\\keypoint_classifier.hdf5\n",
            "71/71 [==============================] - 0s 4ms/step - loss: 0.3285 - accuracy: 0.8769 - val_loss: 0.3854 - val_accuracy: 0.8720\n",
            "Epoch 73/1000\n",
            "57/71 [=======================>......] - ETA: 0s - loss: 0.3259 - accuracy: 0.8798\n",
            "Epoch 73: saving model to models\\keypoint_classifier.hdf5\n",
            "71/71 [==============================] - 0s 4ms/step - loss: 0.3271 - accuracy: 0.8789 - val_loss: 0.2755 - val_accuracy: 0.8977\n",
            "Epoch 74/1000\n",
            "56/71 [======================>.......] - ETA: 0s - loss: 0.3228 - accuracy: 0.8849\n",
            "Epoch 74: saving model to models\\keypoint_classifier.hdf5\n",
            "71/71 [==============================] - 0s 4ms/step - loss: 0.3188 - accuracy: 0.8857 - val_loss: 0.2840 - val_accuracy: 0.9013\n",
            "Epoch 75/1000\n",
            "58/71 [=======================>......] - ETA: 0s - loss: 0.3124 - accuracy: 0.8862\n",
            "Epoch 75: saving model to models\\keypoint_classifier.hdf5\n",
            "71/71 [==============================] - 0s 4ms/step - loss: 0.3124 - accuracy: 0.8872 - val_loss: 0.2508 - val_accuracy: 0.9010\n",
            "Epoch 76/1000\n",
            "56/71 [======================>.......] - ETA: 0s - loss: 0.3052 - accuracy: 0.8831\n",
            "Epoch 76: saving model to models\\keypoint_classifier.hdf5\n",
            "71/71 [==============================] - 0s 4ms/step - loss: 0.3038 - accuracy: 0.8829 - val_loss: 0.2135 - val_accuracy: 0.9273\n",
            "Epoch 77/1000\n",
            "56/71 [======================>.......] - ETA: 0s - loss: 0.3080 - accuracy: 0.8856\n",
            "Epoch 77: saving model to models\\keypoint_classifier.hdf5\n",
            "71/71 [==============================] - 0s 4ms/step - loss: 0.3093 - accuracy: 0.8859 - val_loss: 0.4851 - val_accuracy: 0.8120\n",
            "Epoch 78/1000\n",
            "57/71 [=======================>......] - ETA: 0s - loss: 0.3160 - accuracy: 0.8831\n",
            "Epoch 78: saving model to models\\keypoint_classifier.hdf5\n",
            "71/71 [==============================] - 0s 4ms/step - loss: 0.3152 - accuracy: 0.8832 - val_loss: 0.3015 - val_accuracy: 0.8743\n",
            "Epoch 79/1000\n",
            "53/71 [=====================>........] - ETA: 0s - loss: 0.3003 - accuracy: 0.8917\n",
            "Epoch 79: saving model to models\\keypoint_classifier.hdf5\n",
            "71/71 [==============================] - 0s 4ms/step - loss: 0.3013 - accuracy: 0.8918 - val_loss: 0.2469 - val_accuracy: 0.9183\n",
            "Epoch 80/1000\n",
            "70/71 [============================>.] - ETA: 0s - loss: 0.3004 - accuracy: 0.8939\n",
            "Epoch 80: saving model to models\\keypoint_classifier.hdf5\n",
            "71/71 [==============================] - 0s 4ms/step - loss: 0.3004 - accuracy: 0.8936 - val_loss: 0.1853 - val_accuracy: 0.9357\n",
            "Epoch 81/1000\n",
            "54/71 [=====================>........] - ETA: 0s - loss: 0.3219 - accuracy: 0.8814\n",
            "Epoch 81: saving model to models\\keypoint_classifier.hdf5\n",
            "71/71 [==============================] - 0s 4ms/step - loss: 0.3161 - accuracy: 0.8827 - val_loss: 0.2052 - val_accuracy: 0.9370\n",
            "Epoch 82/1000\n",
            "63/71 [=========================>....] - ETA: 0s - loss: 0.2999 - accuracy: 0.8900\n",
            "Epoch 82: saving model to models\\keypoint_classifier.hdf5\n",
            "71/71 [==============================] - 0s 4ms/step - loss: 0.3032 - accuracy: 0.8890 - val_loss: 0.1920 - val_accuracy: 0.9250\n",
            "Epoch 83/1000\n",
            "56/71 [======================>.......] - ETA: 0s - loss: 0.2991 - accuracy: 0.8871\n",
            "Epoch 83: saving model to models\\keypoint_classifier.hdf5\n",
            "71/71 [==============================] - 0s 4ms/step - loss: 0.2965 - accuracy: 0.8874 - val_loss: 0.1964 - val_accuracy: 0.9223\n",
            "Epoch 84/1000\n",
            "70/71 [============================>.] - ETA: 0s - loss: 0.2939 - accuracy: 0.8954\n",
            "Epoch 84: saving model to models\\keypoint_classifier.hdf5\n",
            "71/71 [==============================] - 0s 4ms/step - loss: 0.2941 - accuracy: 0.8952 - val_loss: 0.1675 - val_accuracy: 0.9460\n",
            "Epoch 85/1000\n",
            "66/71 [==========================>...] - ETA: 0s - loss: 0.2987 - accuracy: 0.8954\n",
            "Epoch 85: saving model to models\\keypoint_classifier.hdf5\n",
            "71/71 [==============================] - 0s 4ms/step - loss: 0.2974 - accuracy: 0.8956 - val_loss: 0.2265 - val_accuracy: 0.9253\n",
            "Epoch 86/1000\n",
            "66/71 [==========================>...] - ETA: 0s - loss: 0.2851 - accuracy: 0.8969\n",
            "Epoch 86: saving model to models\\keypoint_classifier.hdf5\n",
            "71/71 [==============================] - 0s 4ms/step - loss: 0.2891 - accuracy: 0.8956 - val_loss: 0.1979 - val_accuracy: 0.9367\n",
            "Epoch 87/1000\n",
            "69/71 [============================>.] - ETA: 0s - loss: 0.3005 - accuracy: 0.8941\n",
            "Epoch 87: saving model to models\\keypoint_classifier.hdf5\n",
            "71/71 [==============================] - 0s 4ms/step - loss: 0.3005 - accuracy: 0.8943 - val_loss: 0.1879 - val_accuracy: 0.9420\n",
            "Epoch 88/1000\n",
            "56/71 [======================>.......] - ETA: 0s - loss: 0.2726 - accuracy: 0.9000\n",
            "Epoch 88: saving model to models\\keypoint_classifier.hdf5\n",
            "71/71 [==============================] - 0s 4ms/step - loss: 0.2825 - accuracy: 0.8959 - val_loss: 0.1803 - val_accuracy: 0.9393\n",
            "Epoch 89/1000\n",
            "69/71 [============================>.] - ETA: 0s - loss: 0.2868 - accuracy: 0.8957\n",
            "Epoch 89: saving model to models\\keypoint_classifier.hdf5\n",
            "71/71 [==============================] - 0s 4ms/step - loss: 0.2870 - accuracy: 0.8959 - val_loss: 0.2216 - val_accuracy: 0.9193\n",
            "Epoch 90/1000\n",
            "58/71 [=======================>......] - ETA: 0s - loss: 0.2982 - accuracy: 0.8943\n",
            "Epoch 90: saving model to models\\keypoint_classifier.hdf5\n",
            "71/71 [==============================] - 0s 4ms/step - loss: 0.2919 - accuracy: 0.8958 - val_loss: 0.1842 - val_accuracy: 0.9410\n",
            "Epoch 91/1000\n",
            "54/71 [=====================>........] - ETA: 0s - loss: 0.2883 - accuracy: 0.8957\n",
            "Epoch 91: saving model to models\\keypoint_classifier.hdf5\n",
            "71/71 [==============================] - 0s 4ms/step - loss: 0.2939 - accuracy: 0.8937 - val_loss: 0.1917 - val_accuracy: 0.9260\n",
            "Epoch 92/1000\n",
            "58/71 [=======================>......] - ETA: 0s - loss: 0.2782 - accuracy: 0.9002\n",
            "Epoch 92: saving model to models\\keypoint_classifier.hdf5\n",
            "71/71 [==============================] - 0s 4ms/step - loss: 0.2811 - accuracy: 0.8999 - val_loss: 0.2861 - val_accuracy: 0.8857\n",
            "Epoch 93/1000\n",
            "64/71 [==========================>...] - ETA: 0s - loss: 0.2856 - accuracy: 0.8907\n",
            "Epoch 93: saving model to models\\keypoint_classifier.hdf5\n",
            "71/71 [==============================] - 0s 4ms/step - loss: 0.2897 - accuracy: 0.8906 - val_loss: 0.2802 - val_accuracy: 0.8990\n",
            "Epoch 94/1000\n",
            "55/71 [======================>.......] - ETA: 0s - loss: 0.2869 - accuracy: 0.8964\n",
            "Epoch 94: saving model to models\\keypoint_classifier.hdf5\n",
            "71/71 [==============================] - 0s 4ms/step - loss: 0.2804 - accuracy: 0.8988 - val_loss: 0.1891 - val_accuracy: 0.9203\n",
            "Epoch 95/1000\n",
            "55/71 [======================>.......] - ETA: 0s - loss: 0.2746 - accuracy: 0.9028\n",
            "Epoch 95: saving model to models\\keypoint_classifier.hdf5\n",
            "71/71 [==============================] - 0s 4ms/step - loss: 0.2786 - accuracy: 0.9009 - val_loss: 0.2248 - val_accuracy: 0.9103\n",
            "Epoch 96/1000\n",
            "58/71 [=======================>......] - ETA: 0s - loss: 0.2701 - accuracy: 0.9053\n",
            "Epoch 96: saving model to models\\keypoint_classifier.hdf5\n",
            "71/71 [==============================] - 0s 4ms/step - loss: 0.2731 - accuracy: 0.9038 - val_loss: 0.2493 - val_accuracy: 0.9100\n",
            "Epoch 97/1000\n",
            "54/71 [=====================>........] - ETA: 0s - loss: 0.2788 - accuracy: 0.8986\n",
            "Epoch 97: saving model to models\\keypoint_classifier.hdf5\n",
            "71/71 [==============================] - 0s 4ms/step - loss: 0.2803 - accuracy: 0.8962 - val_loss: 0.1858 - val_accuracy: 0.9323\n",
            "Epoch 98/1000\n",
            "56/71 [======================>.......] - ETA: 0s - loss: 0.2726 - accuracy: 0.9060\n",
            "Epoch 98: saving model to models\\keypoint_classifier.hdf5\n",
            "71/71 [==============================] - 0s 4ms/step - loss: 0.2717 - accuracy: 0.9074 - val_loss: 0.2479 - val_accuracy: 0.9230\n",
            "Epoch 99/1000\n",
            "70/71 [============================>.] - ETA: 0s - loss: 0.2712 - accuracy: 0.9066\n",
            "Epoch 99: saving model to models\\keypoint_classifier.hdf5\n",
            "71/71 [==============================] - 0s 4ms/step - loss: 0.2708 - accuracy: 0.9067 - val_loss: 0.2094 - val_accuracy: 0.9293\n",
            "Epoch 100/1000\n",
            "66/71 [==========================>...] - ETA: 0s - loss: 0.2553 - accuracy: 0.9080\n",
            "Epoch 100: saving model to models\\keypoint_classifier.hdf5\n",
            "71/71 [==============================] - 0s 4ms/step - loss: 0.2562 - accuracy: 0.9076 - val_loss: 0.2040 - val_accuracy: 0.9213\n",
            "Epoch 101/1000\n",
            "67/71 [===========================>..] - ETA: 0s - loss: 0.2670 - accuracy: 0.9069\n",
            "Epoch 101: saving model to models\\keypoint_classifier.hdf5\n",
            "71/71 [==============================] - 0s 4ms/step - loss: 0.2672 - accuracy: 0.9063 - val_loss: 0.3335 - val_accuracy: 0.8800\n",
            "Epoch 102/1000\n",
            "55/71 [======================>.......] - ETA: 0s - loss: 0.2528 - accuracy: 0.9114\n",
            "Epoch 102: saving model to models\\keypoint_classifier.hdf5\n",
            "71/71 [==============================] - 0s 4ms/step - loss: 0.2585 - accuracy: 0.9101 - val_loss: 0.1947 - val_accuracy: 0.9280\n",
            "Epoch 103/1000\n",
            "55/71 [======================>.......] - ETA: 0s - loss: 0.2759 - accuracy: 0.9007\n",
            "Epoch 103: saving model to models\\keypoint_classifier.hdf5\n",
            "71/71 [==============================] - 0s 4ms/step - loss: 0.2711 - accuracy: 0.9027 - val_loss: 0.2129 - val_accuracy: 0.9197\n",
            "Epoch 104/1000\n",
            "54/71 [=====================>........] - ETA: 0s - loss: 0.2679 - accuracy: 0.9054\n",
            "Epoch 104: saving model to models\\keypoint_classifier.hdf5\n",
            "71/71 [==============================] - 0s 4ms/step - loss: 0.2674 - accuracy: 0.9054 - val_loss: 0.2682 - val_accuracy: 0.9000\n",
            "Epoch 105/1000\n",
            "70/71 [============================>.] - ETA: 0s - loss: 0.2555 - accuracy: 0.9088\n",
            "Epoch 105: saving model to models\\keypoint_classifier.hdf5\n",
            "71/71 [==============================] - 0s 4ms/step - loss: 0.2549 - accuracy: 0.9090 - val_loss: 0.1894 - val_accuracy: 0.9410\n",
            "Epoch 106/1000\n",
            "68/71 [===========================>..] - ETA: 0s - loss: 0.2614 - accuracy: 0.9048\n",
            "Epoch 106: saving model to models\\keypoint_classifier.hdf5\n",
            "71/71 [==============================] - 0s 4ms/step - loss: 0.2628 - accuracy: 0.9047 - val_loss: 0.2387 - val_accuracy: 0.9147\n",
            "Epoch 107/1000\n",
            "56/71 [======================>.......] - ETA: 0s - loss: 0.2575 - accuracy: 0.9046\n",
            "Epoch 107: saving model to models\\keypoint_classifier.hdf5\n",
            "71/71 [==============================] - 0s 4ms/step - loss: 0.2571 - accuracy: 0.9049 - val_loss: 0.1323 - val_accuracy: 0.9553\n",
            "Epoch 108/1000\n",
            "57/71 [=======================>......] - ETA: 0s - loss: 0.2575 - accuracy: 0.9061\n",
            "Epoch 108: saving model to models\\keypoint_classifier.hdf5\n",
            "71/71 [==============================] - 0s 4ms/step - loss: 0.2541 - accuracy: 0.9092 - val_loss: 0.1940 - val_accuracy: 0.9313\n",
            "Epoch 109/1000\n",
            "55/71 [======================>.......] - ETA: 0s - loss: 0.2523 - accuracy: 0.9084\n",
            "Epoch 109: saving model to models\\keypoint_classifier.hdf5\n",
            "71/71 [==============================] - 0s 4ms/step - loss: 0.2611 - accuracy: 0.9058 - val_loss: 0.2178 - val_accuracy: 0.9277\n",
            "Epoch 110/1000\n",
            "56/71 [======================>.......] - ETA: 0s - loss: 0.2571 - accuracy: 0.9079\n",
            "Epoch 110: saving model to models\\keypoint_classifier.hdf5\n",
            "71/71 [==============================] - 0s 4ms/step - loss: 0.2626 - accuracy: 0.9063 - val_loss: 0.3359 - val_accuracy: 0.8710\n",
            "Epoch 111/1000\n",
            "55/71 [======================>.......] - ETA: 0s - loss: 0.2540 - accuracy: 0.9109\n",
            "Epoch 111: saving model to models\\keypoint_classifier.hdf5\n",
            "71/71 [==============================] - 0s 4ms/step - loss: 0.2545 - accuracy: 0.9116 - val_loss: 0.3269 - val_accuracy: 0.8910\n",
            "Epoch 112/1000\n",
            "71/71 [==============================] - ETA: 0s - loss: 0.2527 - accuracy: 0.9098\n",
            "Epoch 112: saving model to models\\keypoint_classifier.hdf5\n",
            "71/71 [==============================] - 0s 4ms/step - loss: 0.2527 - accuracy: 0.9098 - val_loss: 0.1765 - val_accuracy: 0.9363\n",
            "Epoch 113/1000\n",
            "71/71 [==============================] - ETA: 0s - loss: 0.2583 - accuracy: 0.9047\n",
            "Epoch 113: saving model to models\\keypoint_classifier.hdf5\n",
            "71/71 [==============================] - 0s 4ms/step - loss: 0.2583 - accuracy: 0.9047 - val_loss: 0.2696 - val_accuracy: 0.8910\n",
            "Epoch 114/1000\n",
            "57/71 [=======================>......] - ETA: 0s - loss: 0.2364 - accuracy: 0.9120\n",
            "Epoch 114: saving model to models\\keypoint_classifier.hdf5\n",
            "71/71 [==============================] - 0s 4ms/step - loss: 0.2405 - accuracy: 0.9110 - val_loss: 0.1982 - val_accuracy: 0.9200\n",
            "Epoch 115/1000\n",
            "55/71 [======================>.......] - ETA: 0s - loss: 0.2639 - accuracy: 0.9026\n",
            "Epoch 115: saving model to models\\keypoint_classifier.hdf5\n",
            "71/71 [==============================] - 0s 4ms/step - loss: 0.2653 - accuracy: 0.9003 - val_loss: 0.2069 - val_accuracy: 0.9277\n",
            "Epoch 116/1000\n",
            "53/71 [=====================>........] - ETA: 0s - loss: 0.2585 - accuracy: 0.9073\n",
            "Epoch 116: saving model to models\\keypoint_classifier.hdf5\n",
            "71/71 [==============================] - 0s 4ms/step - loss: 0.2618 - accuracy: 0.9060 - val_loss: 0.1898 - val_accuracy: 0.9457\n",
            "Epoch 117/1000\n",
            "55/71 [======================>.......] - ETA: 0s - loss: 0.2437 - accuracy: 0.9159\n",
            "Epoch 117: saving model to models\\keypoint_classifier.hdf5\n",
            "71/71 [==============================] - 0s 4ms/step - loss: 0.2487 - accuracy: 0.9139 - val_loss: 0.1605 - val_accuracy: 0.9460\n",
            "Epoch 118/1000\n",
            "58/71 [=======================>......] - ETA: 0s - loss: 0.2477 - accuracy: 0.9112\n",
            "Epoch 118: saving model to models\\keypoint_classifier.hdf5\n",
            "71/71 [==============================] - 0s 4ms/step - loss: 0.2488 - accuracy: 0.9082 - val_loss: 0.2115 - val_accuracy: 0.9253\n",
            "Epoch 119/1000\n",
            "58/71 [=======================>......] - ETA: 0s - loss: 0.2399 - accuracy: 0.9141\n",
            "Epoch 119: saving model to models\\keypoint_classifier.hdf5\n",
            "71/71 [==============================] - 0s 4ms/step - loss: 0.2423 - accuracy: 0.9128 - val_loss: 0.1544 - val_accuracy: 0.9553\n",
            "Epoch 120/1000\n",
            "56/71 [======================>.......] - ETA: 0s - loss: 0.2612 - accuracy: 0.9044\n",
            "Epoch 120: saving model to models\\keypoint_classifier.hdf5\n",
            "71/71 [==============================] - 0s 4ms/step - loss: 0.2616 - accuracy: 0.9036 - val_loss: 0.1557 - val_accuracy: 0.9497\n",
            "Epoch 121/1000\n",
            "57/71 [=======================>......] - ETA: 0s - loss: 0.2428 - accuracy: 0.9165\n",
            "Epoch 121: saving model to models\\keypoint_classifier.hdf5\n",
            "71/71 [==============================] - 0s 4ms/step - loss: 0.2450 - accuracy: 0.9151 - val_loss: 0.1996 - val_accuracy: 0.9327\n",
            "Epoch 122/1000\n",
            "57/71 [=======================>......] - ETA: 0s - loss: 0.2355 - accuracy: 0.9115\n",
            "Epoch 122: saving model to models\\keypoint_classifier.hdf5\n",
            "71/71 [==============================] - 0s 4ms/step - loss: 0.2397 - accuracy: 0.9101 - val_loss: 0.2299 - val_accuracy: 0.9207\n",
            "Epoch 123/1000\n",
            "54/71 [=====================>........] - ETA: 0s - loss: 0.2445 - accuracy: 0.9104\n",
            "Epoch 123: saving model to models\\keypoint_classifier.hdf5\n",
            "71/71 [==============================] - 0s 4ms/step - loss: 0.2439 - accuracy: 0.9106 - val_loss: 0.1908 - val_accuracy: 0.9387\n",
            "Epoch 124/1000\n",
            "54/71 [=====================>........] - ETA: 0s - loss: 0.2448 - accuracy: 0.9093\n",
            "Epoch 124: saving model to models\\keypoint_classifier.hdf5\n",
            "71/71 [==============================] - 0s 4ms/step - loss: 0.2421 - accuracy: 0.9113 - val_loss: 0.2212 - val_accuracy: 0.9213\n",
            "Epoch 125/1000\n",
            "70/71 [============================>.] - ETA: 0s - loss: 0.2463 - accuracy: 0.9144\n",
            "Epoch 125: saving model to models\\keypoint_classifier.hdf5\n",
            "71/71 [==============================] - 0s 4ms/step - loss: 0.2464 - accuracy: 0.9143 - val_loss: 0.1808 - val_accuracy: 0.9360\n",
            "Epoch 126/1000\n",
            "54/71 [=====================>........] - ETA: 0s - loss: 0.2319 - accuracy: 0.9149\n",
            "Epoch 126: saving model to models\\keypoint_classifier.hdf5\n",
            "71/71 [==============================] - 0s 4ms/step - loss: 0.2376 - accuracy: 0.9127 - val_loss: 0.2464 - val_accuracy: 0.9147\n",
            "Epoch 127/1000\n",
            "70/71 [============================>.] - ETA: 0s - loss: 0.2424 - accuracy: 0.9117\n",
            "Epoch 127: saving model to models\\keypoint_classifier.hdf5\n",
            "71/71 [==============================] - 0s 4ms/step - loss: 0.2429 - accuracy: 0.9117 - val_loss: 0.1820 - val_accuracy: 0.9383\n",
            "Epoch 128/1000\n",
            "55/71 [======================>.......] - ETA: 0s - loss: 0.2413 - accuracy: 0.9122\n",
            "Epoch 128: saving model to models\\keypoint_classifier.hdf5\n",
            "71/71 [==============================] - 0s 4ms/step - loss: 0.2434 - accuracy: 0.9123 - val_loss: 0.3042 - val_accuracy: 0.8927\n",
            "Epoch 129/1000\n",
            "56/71 [======================>.......] - ETA: 0s - loss: 0.2386 - accuracy: 0.9153\n",
            "Epoch 129: saving model to models\\keypoint_classifier.hdf5\n",
            "71/71 [==============================] - 0s 4ms/step - loss: 0.2412 - accuracy: 0.9128 - val_loss: 0.2192 - val_accuracy: 0.9180\n",
            "Epoch 130/1000\n",
            "63/71 [=========================>....] - ETA: 0s - loss: 0.2337 - accuracy: 0.9156\n",
            "Epoch 130: saving model to models\\keypoint_classifier.hdf5\n",
            "71/71 [==============================] - 0s 4ms/step - loss: 0.2355 - accuracy: 0.9153 - val_loss: 0.2097 - val_accuracy: 0.9277\n",
            "Epoch 131/1000\n",
            "56/71 [======================>.......] - ETA: 0s - loss: 0.2331 - accuracy: 0.9163\n",
            "Epoch 131: saving model to models\\keypoint_classifier.hdf5\n",
            "71/71 [==============================] - 0s 4ms/step - loss: 0.2362 - accuracy: 0.9150 - val_loss: 0.1488 - val_accuracy: 0.9543\n",
            "Epoch 132/1000\n",
            "55/71 [======================>.......] - ETA: 0s - loss: 0.2288 - accuracy: 0.9166\n",
            "Epoch 132: saving model to models\\keypoint_classifier.hdf5\n",
            "71/71 [==============================] - 0s 4ms/step - loss: 0.2319 - accuracy: 0.9164 - val_loss: 0.2002 - val_accuracy: 0.9327\n",
            "Epoch 133/1000\n",
            "56/71 [======================>.......] - ETA: 0s - loss: 0.2401 - accuracy: 0.9148\n",
            "Epoch 133: saving model to models\\keypoint_classifier.hdf5\n",
            "71/71 [==============================] - 0s 4ms/step - loss: 0.2409 - accuracy: 0.9152 - val_loss: 0.1743 - val_accuracy: 0.9470\n",
            "Epoch 134/1000\n",
            "55/71 [======================>.......] - ETA: 0s - loss: 0.2329 - accuracy: 0.9189\n",
            "Epoch 134: saving model to models\\keypoint_classifier.hdf5\n",
            "71/71 [==============================] - 0s 4ms/step - loss: 0.2323 - accuracy: 0.9183 - val_loss: 0.2633 - val_accuracy: 0.9050\n",
            "Epoch 135/1000\n",
            "53/71 [=====================>........] - ETA: 0s - loss: 0.2359 - accuracy: 0.9127\n",
            "Epoch 135: saving model to models\\keypoint_classifier.hdf5\n",
            "71/71 [==============================] - 0s 4ms/step - loss: 0.2410 - accuracy: 0.9118 - val_loss: 0.1795 - val_accuracy: 0.9333\n",
            "Epoch 136/1000\n",
            "54/71 [=====================>........] - ETA: 0s - loss: 0.2401 - accuracy: 0.9157\n",
            "Epoch 136: saving model to models\\keypoint_classifier.hdf5\n",
            "71/71 [==============================] - 0s 4ms/step - loss: 0.2347 - accuracy: 0.9167 - val_loss: 0.1739 - val_accuracy: 0.9427\n",
            "Epoch 137/1000\n",
            "53/71 [=====================>........] - ETA: 0s - loss: 0.2298 - accuracy: 0.9186\n",
            "Epoch 137: saving model to models\\keypoint_classifier.hdf5\n",
            "71/71 [==============================] - 0s 4ms/step - loss: 0.2259 - accuracy: 0.9197 - val_loss: 0.1835 - val_accuracy: 0.9357\n",
            "Epoch 137: early stopping\n"
          ]
        },
        {
          "data": {
            "text/plain": [
              "<keras.callbacks.History at 0x21a2f426370>"
            ]
          },
          "execution_count": 145,
          "metadata": {},
          "output_type": "execute_result"
        }
      ],
      "source": [
        "model.fit(\n",
        "    X_train,\n",
        "    y_train,\n",
        "    epochs=1000,\n",
        "    batch_size=128,\n",
        "    validation_data=(X_test, y_test),\n",
        "    callbacks=[cp_callback, es_callback]\n",
        ")"
      ]
    },
    {
      "cell_type": "code",
      "execution_count": 146,
      "metadata": {
        "colab": {
          "base_uri": "https://localhost:8080/"
        },
        "id": "pxvb2Y299hE3",
        "outputId": "59eb3185-2e37-4b9e-bc9d-ab1b8ac29b7f"
      },
      "outputs": [
        {
          "name": "stdout",
          "output_type": "stream",
          "text": [
            "24/24 [==============================] - 0s 2ms/step - loss: 0.1835 - accuracy: 0.9357\n"
          ]
        }
      ],
      "source": [
        "# Model evaluation\n",
        "val_loss, val_acc = model.evaluate(X_test, y_test, batch_size=128)"
      ]
    },
    {
      "cell_type": "code",
      "execution_count": 147,
      "metadata": {
        "id": "RBkmDeUW9hE4"
      },
      "outputs": [],
      "source": [
        "# Loading the saved model\n",
        "model = tf.keras.models.load_model(model_save_path)"
      ]
    },
    {
      "cell_type": "code",
      "execution_count": 148,
      "metadata": {
        "colab": {
          "base_uri": "https://localhost:8080/"
        },
        "id": "tFz9Tb0I9hE4",
        "outputId": "1c3b3528-54ae-4ee2-ab04-77429211cbef"
      },
      "outputs": [
        {
          "name": "stdout",
          "output_type": "stream",
          "text": [
            "1/1 [==============================] - 0s 76ms/step\n",
            "[1.8489058e-12 9.9999905e-01 1.4410316e-15 1.4488621e-18 1.7922877e-12\n",
            " 2.2842302e-07 6.8713497e-13 4.4310062e-07 3.4167353e-09 2.0696334e-07\n",
            " 4.2993666e-09 1.0101464e-10]\n",
            "1\n"
          ]
        }
      ],
      "source": [
        "# Inference test\n",
        "predict_result = model.predict(np.array([X_test[0]]))\n",
        "print(np.squeeze(predict_result))\n",
        "print(np.argmax(np.squeeze(predict_result)))"
      ]
    },
    {
      "cell_type": "markdown",
      "metadata": {
        "id": "S3U4yNWx9hE4"
      },
      "source": [
        "# Confusion matrix"
      ]
    },
    {
      "cell_type": "code",
      "execution_count": 149,
      "metadata": {
        "colab": {
          "base_uri": "https://localhost:8080/",
          "height": 582
        },
        "id": "AP1V6SCk9hE5",
        "outputId": "08e41a80-7a4a-4619-8125-ecc371368d19"
      },
      "outputs": [
        {
          "name": "stdout",
          "output_type": "stream",
          "text": [
            "94/94 [==============================] - 0s 777us/step\n"
          ]
        },
        {
          "data": {
            "image/png": "[encoded data removed]",
            "text/plain": [
              "<Figure size 700x600 with 2 Axes>"
            ]
          },
          "metadata": {},
          "output_type": "display_data"
        },
        {
          "name": "stdout",
          "output_type": "stream",
          "text": [
            "Classification Report\n",
            "              precision    recall  f1-score   support\n",
            "\n",
            "           0       0.94      0.98      0.96       250\n",
            "           1       0.99      0.98      0.99       248\n",
            "           2       0.94      0.99      0.96       254\n",
            "           3       0.99      0.93      0.96       259\n",
            "           4       0.93      0.84      0.88       255\n",
            "           5       1.00      0.98      0.99       261\n",
            "           6       0.85      0.92      0.88       239\n",
            "           7       0.98      0.69      0.81       235\n",
            "           8       0.99      0.97      0.98       254\n",
            "           9       0.98      0.99      0.99       236\n",
            "          10       0.78      0.95      0.86       264\n",
            "          11       0.94      0.99      0.96       245\n",
            "\n",
            "    accuracy                           0.94      3000\n",
            "   macro avg       0.94      0.93      0.93      3000\n",
            "weighted avg       0.94      0.94      0.94      3000\n",
            "\n"
          ]
        }
      ],
      "source": [
        "import pandas as pd\n",
        "import seaborn as sns\n",
        "import matplotlib.pyplot as plt\n",
        "from sklearn.metrics import confusion_matrix, classification_report\n",
        "\n",
        "def print_confusion_matrix(y_true, y_pred, report=True):\n",
        "    labels = sorted(list(set(y_true)))\n",
        "    cmx_data = confusion_matrix(y_true, y_pred, labels=labels)\n",
        "    \n",
        "    df_cmx = pd.DataFrame(cmx_data, index=labels, columns=labels)\n",
        " \n",
        "    fig, ax = plt.subplots(figsize=(7, 6))\n",
        "    sns.heatmap(df_cmx, annot=True, fmt='g' ,square=False)\n",
        "    ax.set_ylim(len(set(y_true)), 0)\n",
        "    plt.show()\n",
        "    \n",
        "    if report:\n",
        "        print('Classification Report')\n",
        "        print(classification_report(y_test, y_pred))\n",
        "\n",
        "Y_pred = model.predict(X_test)\n",
        "y_pred = np.argmax(Y_pred, axis=1)\n",
        "\n",
        "print_confusion_matrix(y_test, y_pred)"
      ]
    },
    {
      "cell_type": "markdown",
      "metadata": {
        "id": "FNP6aqzc9hE5"
      },
      "source": [
        "# Convert to model for Tensorflow-Lite"
      ]
    },
    {
      "cell_type": "code",
      "execution_count": 150,
      "metadata": {
        "id": "ODjnYyld9hE6"
      },
      "outputs": [],
      "source": [
        "# Save as a model dedicated to inference\n",
        "model.save(model_save_path, include_optimizer=False)"
      ]
    },
    {
      "cell_type": "code",
      "execution_count": 151,
      "metadata": {
        "colab": {
          "base_uri": "https://localhost:8080/"
        },
        "id": "zRfuK8Y59hE6",
        "outputId": "a4ca585c-b5d5-4244-8291-8674063209bb"
      },
      "outputs": [
        {
          "name": "stdout",
          "output_type": "stream",
          "text": [
            "INFO:tensorflow:Assets written to: C:\\Users\\renyi\\AppData\\Local\\Temp\\tmppz9o8iog\\assets\n"
          ]
        },
        {
          "name": "stderr",
          "output_type": "stream",
          "text": [
            "INFO:tensorflow:Assets written to: C:\\Users\\renyi\\AppData\\Local\\Temp\\tmppz9o8iog\\assets\n"
          ]
        },
        {
          "data": {
            "text/plain": [
              "40376"
            ]
          },
          "execution_count": 151,
          "metadata": {},
          "output_type": "execute_result"
        }
      ],
      "source": [
        "# Transform model (quantization)\n",
        "\n",
        "converter = tf.lite.TFLiteConverter.from_keras_model(model)\n",
        "converter.optimizations = [tf.lite.Optimize.DEFAULT]\n",
        "tflite_quantized_model = converter.convert()\n",
        "\n",
        "open(tflite_save_path, 'wb').write(tflite_quantized_model)"
      ]
    },
    {
      "cell_type": "markdown",
      "metadata": {
        "id": "CHBPBXdx9hE6"
      },
      "source": [
        "# Inference test"
      ]
    },
    {
      "cell_type": "code",
      "execution_count": 152,
      "metadata": {
        "id": "mGAzLocO9hE7"
      },
      "outputs": [],
      "source": [
        "interpreter = tf.lite.Interpreter(model_path=tflite_save_path)\n",
        "interpreter.allocate_tensors()"
      ]
    },
    {
      "cell_type": "code",
      "execution_count": 153,
      "metadata": {
        "id": "oQuDK8YS9hE7"
      },
      "outputs": [],
      "source": [
        "# Get I / O tensor\n",
        "input_details = interpreter.get_input_details()\n",
        "output_details = interpreter.get_output_details()"
      ]
    },
    {
      "cell_type": "code",
      "execution_count": 154,
      "metadata": {
        "id": "2_ixAf_l9hE7"
      },
      "outputs": [],
      "source": [
        "interpreter.set_tensor(input_details[0]['index'], np.array([X_test[0]]))"
      ]
    },
    {
      "cell_type": "code",
      "execution_count": 155,
      "metadata": {
        "colab": {
          "base_uri": "https://localhost:8080/"
        },
        "id": "s4FoAnuc9hE7",
        "outputId": "91f18257-8d8b-4ef3-c558-e9b5f94fabbf",
        "scrolled": true
      },
      "outputs": [
        {
          "name": "stdout",
          "output_type": "stream",
          "text": [
            "CPU times: total: 0 ns\n",
            "Wall time: 0 ns\n"
          ]
        }
      ],
      "source": [
        "%%time\n",
        "# Inference implementation\n",
        "interpreter.invoke()\n",
        "tflite_results = interpreter.get_tensor(output_details[0]['index'])"
      ]
    },
    {
      "cell_type": "code",
      "execution_count": 156,
      "metadata": {
        "colab": {
          "base_uri": "https://localhost:8080/"
        },
        "id": "vONjp19J9hE8",
        "outputId": "77205e24-fd00-42c4-f7b6-e06e527c2cba"
      },
      "outputs": [
        {
          "name": "stdout",
          "output_type": "stream",
          "text": [
            "[1.15209665e-12 9.99999404e-01 1.02577715e-16 6.19779291e-19\n",
            " 5.07299931e-13 1.29100339e-08 3.08086456e-13 3.25951788e-07\n",
            " 1.67733261e-09 2.62880008e-07 3.01378167e-09 2.09753867e-10]\n",
            "1\n"
          ]
        }
      ],
      "source": [
        "print(np.squeeze(tflite_results))\n",
        "print(np.argmax(np.squeeze(tflite_results)))"
      ]
    }
  ],
  "metadata": {
    "accelerator": "GPU",
    "colab": {
      "collapsed_sections": [],
      "name": "keypoint_classification_EN.ipynb",
      "provenance": [],
      "toc_visible": true
    },
    "kernelspec": {
      "display_name": "Python 3",
      "language": "python",
      "name": "python3"
    },
    "language_info": {
      "codemirror_mode": {
        "name": "ipython",
        "version": 3
      },
      "file_extension": ".py",
      "mimetype": "text/x-python",
      "name": "python",
      "nbconvert_exporter": "python",
      "pygments_lexer": "ipython3",
      "version": "3.9.13"
    }
  },
  "nbformat": 4,
  "nbformat_minor": 0
}
