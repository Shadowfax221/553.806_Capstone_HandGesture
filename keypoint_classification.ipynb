{
  "cells": [
    {
      "cell_type": "code",
      "execution_count": 1,
      "metadata": {
        "id": "igMyGnjE9hEp"
      },
      "outputs": [
        {
          "name": "stdout",
          "output_type": "stream",
          "text": [
            "WARNING:tensorflow:From c:\\Users\\Ian\\git\\553.806_Capstone_HandGesture\\.venv\\Lib\\site-packages\\keras\\src\\losses.py:2976: The name tf.losses.sparse_softmax_cross_entropy is deprecated. Please use tf.compat.v1.losses.sparse_softmax_cross_entropy instead.\n",
            "\n"
          ]
        }
      ],
      "source": [
        "import csv\n",
        "\n",
        "import numpy as np\n",
        "import tensorflow as tf\n",
        "from sklearn.model_selection import train_test_split\n",
        "\n",
        "RANDOM_SEED = 42"
      ]
    },
    {
      "cell_type": "code",
      "execution_count": 2,
      "metadata": {
        "id": "9NvZP2Zn9hEy"
      },
      "outputs": [],
      "source": [
        "dataset = 'keypoint.csv'\n",
        "model_save_path = 'models/keypoint_classifier.hdf5'\n",
        "tflite_save_path = 'models/keypoint_classifier.tflite'"
      ]
    },
    {
      "cell_type": "markdown",
      "metadata": {
        "id": "s5oMH7x19hEz"
      },
      "source": [
        "# Set number of classes"
      ]
    },
    {
      "cell_type": "code",
      "execution_count": 3,
      "metadata": {
        "id": "du4kodXL9hEz"
      },
      "outputs": [],
      "source": [
        "NUM_CLASSES = 12"
      ]
    },
    {
      "cell_type": "markdown",
      "metadata": {
        "id": "XjnL0uso9hEz"
      },
      "source": [
        "# Dataset reading"
      ]
    },
    {
      "cell_type": "code",
      "execution_count": 4,
      "metadata": {
        "id": "QT5ZqtEz9hE0"
      },
      "outputs": [],
      "source": [
        "X_dataset = np.loadtxt(dataset, delimiter=',', dtype='float32', usecols=list(range(1, (21 * 2) + 1)))"
      ]
    },
    {
      "cell_type": "code",
      "execution_count": 5,
      "metadata": {
        "id": "QmoKFsp49hE0"
      },
      "outputs": [],
      "source": [
        "y_dataset = np.loadtxt(dataset, delimiter=',', dtype='int32', usecols=(0))"
      ]
    },
    {
      "cell_type": "code",
      "execution_count": 6,
      "metadata": {
        "id": "xQU7JTZ_9hE0"
      },
      "outputs": [],
      "source": [
        "X_train, X_test, y_train, y_test = train_test_split(X_dataset, y_dataset, train_size=0.75, random_state=RANDOM_SEED)"
      ]
    },
    {
      "cell_type": "markdown",
      "metadata": {
        "id": "mxK_lETT9hE0"
      },
      "source": [
        "# Model building"
      ]
    },
    {
      "cell_type": "code",
      "execution_count": 8,
      "metadata": {
        "id": "vHBmUf1t9hE1"
      },
      "outputs": [
        {
          "name": "stdout",
          "output_type": "stream",
          "text": [
            "WARNING:tensorflow:From c:\\Users\\Ian\\git\\553.806_Capstone_HandGesture\\.venv\\Lib\\site-packages\\keras\\src\\backend.py:1398: The name tf.executing_eagerly_outside_functions is deprecated. Please use tf.compat.v1.executing_eagerly_outside_functions instead.\n",
            "\n"
          ]
        }
      ],
      "source": [
        "model = tf.keras.models.Sequential([\n",
        "    tf.keras.layers.Input((21 * 2, )),\n",
        "    tf.keras.layers.Dropout(0.2),\n",
        "    tf.keras.layers.Dense(128, activation='relu'),  # Increased units\n",
        "    tf.keras.layers.BatchNormalization(),  # Added Batch Normalization\n",
        "    tf.keras.layers.Dropout(0.3),  # Adjusted dropout rate\n",
        "    tf.keras.layers.Dense(64, activation='relu'),  # Increased units\n",
        "    tf.keras.layers.BatchNormalization(),  # Added Batch Normalization\n",
        "    tf.keras.layers.Dense(32, activation='relu'),  # Increased units\n",
        "    tf.keras.layers.Dense(NUM_CLASSES, activation='softmax')\n",
        "])"
      ]
    },
    {
      "cell_type": "code",
      "execution_count": 9,
      "metadata": {
        "colab": {
          "base_uri": "https://localhost:8080/"
        },
        "id": "ypqky9tc9hE1",
        "outputId": "5db082bb-30e3-4110-bf63-a1ee777ecd46"
      },
      "outputs": [
        {
          "name": "stdout",
          "output_type": "stream",
          "text": [
            "Model: \"sequential\"\n",
            "_________________________________________________________________\n",
            " Layer (type)                Output Shape              Param #   \n",
            "=================================================================\n",
            " dropout (Dropout)           (None, 42)                0         \n",
            "                                                                 \n",
            " dense (Dense)               (None, 128)               5504      \n",
            "                                                                 \n",
            " batch_normalization (Batch  (None, 128)               512       \n",
            " Normalization)                                                  \n",
            "                                                                 \n",
            " dropout_1 (Dropout)         (None, 128)               0         \n",
            "                                                                 \n",
            " dense_1 (Dense)             (None, 64)                8256      \n",
            "                                                                 \n",
            " batch_normalization_1 (Bat  (None, 64)                256       \n",
            " chNormalization)                                                \n",
            "                                                                 \n",
            " dense_2 (Dense)             (None, 32)                2080      \n",
            "                                                                 \n",
            " dense_3 (Dense)             (None, 12)                396       \n",
            "                                                                 \n",
            "=================================================================\n",
            "Total params: 17004 (66.42 KB)\n",
            "Trainable params: 16620 (64.92 KB)\n",
            "Non-trainable params: 384 (1.50 KB)\n",
            "_________________________________________________________________\n"
          ]
        }
      ],
      "source": [
        "model.summary()  # tf.keras.utils.plot_model(model, show_shapes=True)"
      ]
    },
    {
      "cell_type": "code",
      "execution_count": 10,
      "metadata": {
        "id": "MbMjOflQ9hE1"
      },
      "outputs": [],
      "source": [
        "# Model checkpoint callback\n",
        "cp_callback = tf.keras.callbacks.ModelCheckpoint(\n",
        "    model_save_path, verbose=1, save_weights_only=False)\n",
        "# Callback for early stopping\n",
        "es_callback = tf.keras.callbacks.EarlyStopping(patience=20, verbose=1)"
      ]
    },
    {
      "cell_type": "code",
      "execution_count": 11,
      "metadata": {
        "id": "c3Dac0M_9hE2"
      },
      "outputs": [
        {
          "name": "stdout",
          "output_type": "stream",
          "text": [
            "WARNING:tensorflow:From c:\\Users\\Ian\\git\\553.806_Capstone_HandGesture\\.venv\\Lib\\site-packages\\keras\\src\\optimizers\\__init__.py:309: The name tf.train.Optimizer is deprecated. Please use tf.compat.v1.train.Optimizer instead.\n",
            "\n"
          ]
        }
      ],
      "source": [
        "# Model compilation\n",
        "model.compile(\n",
        "    optimizer='adam',\n",
        "    loss='sparse_categorical_crossentropy',\n",
        "    metrics=['accuracy']\n",
        ")"
      ]
    },
    {
      "cell_type": "markdown",
      "metadata": {
        "id": "7XI0j1Iu9hE2"
      },
      "source": [
        "# Model training"
      ]
    },
    {
      "cell_type": "code",
      "execution_count": 12,
      "metadata": {},
      "outputs": [
        {
          "data": {
            "text/plain": [
              "<keras.src.callbacks.EarlyStopping at 0x15a678f0b90>"
            ]
          },
          "execution_count": 12,
          "metadata": {},
          "output_type": "execute_result"
        }
      ],
      "source": [
        "es_callback"
      ]
    },
    {
      "cell_type": "code",
      "execution_count": 13,
      "metadata": {
        "colab": {
          "base_uri": "https://localhost:8080/"
        },
        "id": "WirBl-JE9hE3",
        "outputId": "71b30ca2-8294-4d9d-8aa2-800d90d399de",
        "scrolled": true
      },
      "outputs": [
        {
          "name": "stdout",
          "output_type": "stream",
          "text": [
            "Epoch 1/1000\n"
          ]
        },
        {
          "name": "stdout",
          "output_type": "stream",
          "text": [
            "WARNING:tensorflow:From c:\\Users\\Ian\\git\\553.806_Capstone_HandGesture\\.venv\\Lib\\site-packages\\keras\\src\\utils\\tf_utils.py:492: The name tf.ragged.RaggedTensorValue is deprecated. Please use tf.compat.v1.ragged.RaggedTensorValue instead.\n",
            "\n",
            "WARNING:tensorflow:From c:\\Users\\Ian\\git\\553.806_Capstone_HandGesture\\.venv\\Lib\\site-packages\\keras\\src\\engine\\base_layer_utils.py:384: The name tf.executing_eagerly_outside_functions is deprecated. Please use tf.compat.v1.executing_eagerly_outside_functions instead.\n",
            "\n",
            "60/71 [========================>.....] - ETA: 0s - loss: 2.6788 - accuracy: 0.1046\n",
            "Epoch 1: saving model to models\\keypoint_classifier.hdf5\n",
            "71/71 [==============================] - 3s 8ms/step - loss: 2.6562 - accuracy: 0.1080 - val_loss: 2.4707 - val_accuracy: 0.1470\n",
            "Epoch 2/1000\n",
            "62/71 [=========================>....] - ETA: 0s - loss: 2.4460 - accuracy: 0.1429"
          ]
        },
        {
          "name": "stderr",
          "output_type": "stream",
          "text": [
            "c:\\Users\\Ian\\git\\553.806_Capstone_HandGesture\\.venv\\Lib\\site-packages\\keras\\src\\engine\\training.py:3103: UserWarning: You are saving your model as an HDF5 file via `model.save()`. This file format is considered legacy. We recommend using instead the native Keras format, e.g. `model.save('my_model.keras')`.\n",
            "  saving_api.save_model(\n"
          ]
        },
        {
          "name": "stdout",
          "output_type": "stream",
          "text": [
            "\n",
            "Epoch 2: saving model to models\\keypoint_classifier.hdf5\n",
            "71/71 [==============================] - 0s 4ms/step - loss: 2.4411 - accuracy: 0.1449 - val_loss: 2.4288 - val_accuracy: 0.1620\n",
            "Epoch 3/1000\n",
            "62/71 [=========================>....] - ETA: 0s - loss: 2.3703 - accuracy: 0.1763\n",
            "Epoch 3: saving model to models\\keypoint_classifier.hdf5\n",
            "71/71 [==============================] - 0s 4ms/step - loss: 2.3669 - accuracy: 0.1767 - val_loss: 2.3518 - val_accuracy: 0.2333\n",
            "Epoch 4/1000\n",
            "59/71 [=======================>......] - ETA: 0s - loss: 2.3250 - accuracy: 0.1878\n",
            "Epoch 4: saving model to models\\keypoint_classifier.hdf5\n",
            "71/71 [==============================] - 0s 4ms/step - loss: 2.3210 - accuracy: 0.1892 - val_loss: 2.2351 - val_accuracy: 0.2577\n",
            "Epoch 5/1000\n",
            "59/71 [=======================>......] - ETA: 0s - loss: 2.2819 - accuracy: 0.2030\n",
            "Epoch 5: saving model to models\\keypoint_classifier.hdf5\n",
            "71/71 [==============================] - 0s 4ms/step - loss: 2.2773 - accuracy: 0.2033 - val_loss: 2.1121 - val_accuracy: 0.3143\n",
            "Epoch 6/1000\n",
            "62/71 [=========================>....] - ETA: 0s - loss: 2.2197 - accuracy: 0.2288\n",
            "Epoch 6: saving model to models\\keypoint_classifier.hdf5\n",
            "71/71 [==============================] - 0s 4ms/step - loss: 2.2220 - accuracy: 0.2281 - val_loss: 2.0338 - val_accuracy: 0.3423\n",
            "Epoch 7/1000\n",
            "58/71 [=======================>......] - ETA: 0s - loss: 2.1878 - accuracy: 0.2348\n",
            "Epoch 7: saving model to models\\keypoint_classifier.hdf5\n",
            "71/71 [==============================] - 0s 4ms/step - loss: 2.1865 - accuracy: 0.2342 - val_loss: 1.9934 - val_accuracy: 0.3280\n",
            "Epoch 8/1000\n",
            "63/71 [=========================>....] - ETA: 0s - loss: 2.1291 - accuracy: 0.2586\n",
            "Epoch 8: saving model to models\\keypoint_classifier.hdf5\n",
            "71/71 [==============================] - 0s 4ms/step - loss: 2.1291 - accuracy: 0.2581 - val_loss: 1.9602 - val_accuracy: 0.3507\n",
            "Epoch 9/1000\n",
            "60/71 [========================>.....] - ETA: 0s - loss: 2.0913 - accuracy: 0.2680\n",
            "Epoch 9: saving model to models\\keypoint_classifier.hdf5\n",
            "71/71 [==============================] - 0s 4ms/step - loss: 2.0840 - accuracy: 0.2699 - val_loss: 1.9254 - val_accuracy: 0.4013\n",
            "Epoch 10/1000\n",
            "63/71 [=========================>....] - ETA: 0s - loss: 2.0205 - accuracy: 0.2979\n",
            "Epoch 10: saving model to models\\keypoint_classifier.hdf5\n",
            "71/71 [==============================] - 0s 4ms/step - loss: 2.0194 - accuracy: 0.2948 - val_loss: 1.7070 - val_accuracy: 0.4330\n",
            "Epoch 11/1000\n",
            "59/71 [=======================>......] - ETA: 0s - loss: 1.9842 - accuracy: 0.3016\n",
            "Epoch 11: saving model to models\\keypoint_classifier.hdf5\n",
            "71/71 [==============================] - 0s 4ms/step - loss: 1.9732 - accuracy: 0.3036 - val_loss: 1.7379 - val_accuracy: 0.4317\n",
            "Epoch 12/1000\n",
            "61/71 [========================>.....] - ETA: 0s - loss: 1.9270 - accuracy: 0.3252\n",
            "Epoch 12: saving model to models\\keypoint_classifier.hdf5\n",
            "71/71 [==============================] - 0s 4ms/step - loss: 1.9133 - accuracy: 0.3299 - val_loss: 1.6087 - val_accuracy: 0.4863\n",
            "Epoch 13/1000\n",
            "61/71 [========================>.....] - ETA: 0s - loss: 1.8654 - accuracy: 0.3455\n",
            "Epoch 13: saving model to models\\keypoint_classifier.hdf5\n",
            "71/71 [==============================] - 0s 4ms/step - loss: 1.8591 - accuracy: 0.3483 - val_loss: 1.6069 - val_accuracy: 0.4507\n",
            "Epoch 14/1000\n",
            "65/71 [==========================>...] - ETA: 0s - loss: 1.7983 - accuracy: 0.3725\n",
            "Epoch 14: saving model to models\\keypoint_classifier.hdf5\n",
            "71/71 [==============================] - 0s 4ms/step - loss: 1.7949 - accuracy: 0.3736 - val_loss: 1.4129 - val_accuracy: 0.5323\n",
            "Epoch 15/1000\n",
            "63/71 [=========================>....] - ETA: 0s - loss: 1.7347 - accuracy: 0.3921\n",
            "Epoch 15: saving model to models\\keypoint_classifier.hdf5\n",
            "71/71 [==============================] - 0s 4ms/step - loss: 1.7325 - accuracy: 0.3916 - val_loss: 1.4057 - val_accuracy: 0.5173\n",
            "Epoch 16/1000\n",
            "58/71 [=======================>......] - ETA: 0s - loss: 1.6793 - accuracy: 0.4091\n",
            "Epoch 16: saving model to models\\keypoint_classifier.hdf5\n",
            "71/71 [==============================] - 0s 4ms/step - loss: 1.6826 - accuracy: 0.4073 - val_loss: 1.3813 - val_accuracy: 0.4863\n",
            "Epoch 17/1000\n",
            "61/71 [========================>.....] - ETA: 0s - loss: 1.5999 - accuracy: 0.4335\n",
            "Epoch 17: saving model to models\\keypoint_classifier.hdf5\n",
            "71/71 [==============================] - 0s 4ms/step - loss: 1.6036 - accuracy: 0.4306 - val_loss: 1.1268 - val_accuracy: 0.6223\n",
            "Epoch 18/1000\n",
            "55/71 [======================>.......] - ETA: 0s - loss: 1.5657 - accuracy: 0.4428\n",
            "Epoch 18: saving model to models\\keypoint_classifier.hdf5\n",
            "71/71 [==============================] - 0s 4ms/step - loss: 1.5618 - accuracy: 0.4431 - val_loss: 1.2755 - val_accuracy: 0.5580\n",
            "Epoch 19/1000\n",
            "64/71 [==========================>...] - ETA: 0s - loss: 1.5159 - accuracy: 0.4547\n",
            "Epoch 19: saving model to models\\keypoint_classifier.hdf5\n",
            "71/71 [==============================] - 0s 4ms/step - loss: 1.5153 - accuracy: 0.4547 - val_loss: 1.1108 - val_accuracy: 0.5723\n",
            "Epoch 20/1000\n",
            "61/71 [========================>.....] - ETA: 0s - loss: 1.4848 - accuracy: 0.4681\n",
            "Epoch 20: saving model to models\\keypoint_classifier.hdf5\n",
            "71/71 [==============================] - 0s 4ms/step - loss: 1.4815 - accuracy: 0.4716 - val_loss: 1.0374 - val_accuracy: 0.6253\n",
            "Epoch 21/1000\n",
            "61/71 [========================>.....] - ETA: 0s - loss: 1.4243 - accuracy: 0.4849\n",
            "Epoch 21: saving model to models\\keypoint_classifier.hdf5\n",
            "71/71 [==============================] - 0s 4ms/step - loss: 1.4225 - accuracy: 0.4874 - val_loss: 0.9650 - val_accuracy: 0.6510\n",
            "Epoch 22/1000\n",
            "58/71 [=======================>......] - ETA: 0s - loss: 1.3898 - accuracy: 0.4900\n",
            "Epoch 22: saving model to models\\keypoint_classifier.hdf5\n",
            "71/71 [==============================] - 0s 4ms/step - loss: 1.3839 - accuracy: 0.4941 - val_loss: 1.1047 - val_accuracy: 0.6023\n",
            "Epoch 23/1000\n",
            "60/71 [========================>.....] - ETA: 0s - loss: 1.3571 - accuracy: 0.5022\n",
            "Epoch 23: saving model to models\\keypoint_classifier.hdf5\n",
            "71/71 [==============================] - 0s 4ms/step - loss: 1.3549 - accuracy: 0.5047 - val_loss: 1.0193 - val_accuracy: 0.6353\n",
            "Epoch 24/1000\n",
            "62/71 [=========================>....] - ETA: 0s - loss: 1.3033 - accuracy: 0.5248\n",
            "Epoch 24: saving model to models\\keypoint_classifier.hdf5\n",
            "71/71 [==============================] - 0s 5ms/step - loss: 1.3013 - accuracy: 0.5232 - val_loss: 0.9150 - val_accuracy: 0.6597\n",
            "Epoch 25/1000\n",
            "54/71 [=====================>........] - ETA: 0s - loss: 1.2884 - accuracy: 0.5231\n",
            "Epoch 25: saving model to models\\keypoint_classifier.hdf5\n",
            "71/71 [==============================] - 0s 4ms/step - loss: 1.2867 - accuracy: 0.5242 - val_loss: 0.8472 - val_accuracy: 0.6730\n",
            "Epoch 26/1000\n",
            "57/71 [=======================>......] - ETA: 0s - loss: 1.2571 - accuracy: 0.5274\n",
            "Epoch 26: saving model to models\\keypoint_classifier.hdf5\n",
            "71/71 [==============================] - 0s 4ms/step - loss: 1.2635 - accuracy: 0.5260 - val_loss: 0.8270 - val_accuracy: 0.7057\n",
            "Epoch 27/1000\n",
            "59/71 [=======================>......] - ETA: 0s - loss: 1.2253 - accuracy: 0.5421\n",
            "Epoch 27: saving model to models\\keypoint_classifier.hdf5\n",
            "71/71 [==============================] - 0s 4ms/step - loss: 1.2248 - accuracy: 0.5434 - val_loss: 0.8107 - val_accuracy: 0.7050\n",
            "Epoch 28/1000\n",
            "64/71 [==========================>...] - ETA: 0s - loss: 1.2095 - accuracy: 0.5476\n",
            "Epoch 28: saving model to models\\keypoint_classifier.hdf5\n",
            "71/71 [==============================] - 0s 5ms/step - loss: 1.2057 - accuracy: 0.5489 - val_loss: 0.8058 - val_accuracy: 0.6920\n",
            "Epoch 29/1000\n",
            "58/71 [=======================>......] - ETA: 0s - loss: 1.2005 - accuracy: 0.5519\n",
            "Epoch 29: saving model to models\\keypoint_classifier.hdf5\n",
            "71/71 [==============================] - 0s 4ms/step - loss: 1.1974 - accuracy: 0.5531 - val_loss: 0.7479 - val_accuracy: 0.7223\n",
            "Epoch 30/1000\n",
            "55/71 [======================>.......] - ETA: 0s - loss: 1.1831 - accuracy: 0.5524\n",
            "Epoch 30: saving model to models\\keypoint_classifier.hdf5\n",
            "71/71 [==============================] - 0s 4ms/step - loss: 1.1889 - accuracy: 0.5529 - val_loss: 0.7779 - val_accuracy: 0.6993\n",
            "Epoch 31/1000\n",
            "56/71 [======================>.......] - ETA: 0s - loss: 1.1453 - accuracy: 0.5668\n",
            "Epoch 31: saving model to models\\keypoint_classifier.hdf5\n",
            "71/71 [==============================] - 0s 4ms/step - loss: 1.1466 - accuracy: 0.5677 - val_loss: 0.8136 - val_accuracy: 0.6487\n",
            "Epoch 32/1000\n",
            "61/71 [========================>.....] - ETA: 0s - loss: 1.1567 - accuracy: 0.5658\n",
            "Epoch 32: saving model to models\\keypoint_classifier.hdf5\n",
            "71/71 [==============================] - 0s 4ms/step - loss: 1.1522 - accuracy: 0.5649 - val_loss: 0.7493 - val_accuracy: 0.7243\n",
            "Epoch 33/1000\n",
            "68/71 [===========================>..] - ETA: 0s - loss: 1.1457 - accuracy: 0.5668\n",
            "Epoch 33: saving model to models\\keypoint_classifier.hdf5\n",
            "71/71 [==============================] - 0s 5ms/step - loss: 1.1423 - accuracy: 0.5680 - val_loss: 0.7819 - val_accuracy: 0.7153\n",
            "Epoch 34/1000\n",
            "61/71 [========================>.....] - ETA: 0s - loss: 1.1271 - accuracy: 0.5756\n",
            "Epoch 34: saving model to models\\keypoint_classifier.hdf5\n",
            "71/71 [==============================] - 0s 4ms/step - loss: 1.1251 - accuracy: 0.5769 - val_loss: 0.7388 - val_accuracy: 0.7143\n",
            "Epoch 35/1000\n",
            "59/71 [=======================>......] - ETA: 0s - loss: 1.1108 - accuracy: 0.5720\n",
            "Epoch 35: saving model to models\\keypoint_classifier.hdf5\n",
            "71/71 [==============================] - 0s 4ms/step - loss: 1.1103 - accuracy: 0.5719 - val_loss: 0.7420 - val_accuracy: 0.7043\n",
            "Epoch 36/1000\n",
            "65/71 [==========================>...] - ETA: 0s - loss: 1.0810 - accuracy: 0.5938\n",
            "Epoch 36: saving model to models\\keypoint_classifier.hdf5\n",
            "71/71 [==============================] - 0s 4ms/step - loss: 1.0792 - accuracy: 0.5944 - val_loss: 0.6923 - val_accuracy: 0.7293\n",
            "Epoch 37/1000\n",
            "61/71 [========================>.....] - ETA: 0s - loss: 1.0737 - accuracy: 0.5929\n",
            "Epoch 37: saving model to models\\keypoint_classifier.hdf5\n",
            "71/71 [==============================] - 0s 4ms/step - loss: 1.0738 - accuracy: 0.5926 - val_loss: 0.6637 - val_accuracy: 0.7450\n",
            "Epoch 38/1000\n",
            "61/71 [========================>.....] - ETA: 0s - loss: 1.0840 - accuracy: 0.5872\n",
            "Epoch 38: saving model to models\\keypoint_classifier.hdf5\n",
            "71/71 [==============================] - 0s 4ms/step - loss: 1.0811 - accuracy: 0.5882 - val_loss: 0.7124 - val_accuracy: 0.7340\n",
            "Epoch 39/1000\n",
            "65/71 [==========================>...] - ETA: 0s - loss: 1.0509 - accuracy: 0.5999\n",
            "Epoch 39: saving model to models\\keypoint_classifier.hdf5\n",
            "71/71 [==============================] - 0s 4ms/step - loss: 1.0504 - accuracy: 0.5996 - val_loss: 0.6940 - val_accuracy: 0.7290\n",
            "Epoch 40/1000\n",
            "59/71 [=======================>......] - ETA: 0s - loss: 1.0519 - accuracy: 0.5965\n",
            "Epoch 40: saving model to models\\keypoint_classifier.hdf5\n",
            "71/71 [==============================] - 0s 4ms/step - loss: 1.0543 - accuracy: 0.5966 - val_loss: 1.0219 - val_accuracy: 0.6133\n",
            "Epoch 41/1000\n",
            "61/71 [========================>.....] - ETA: 0s - loss: 1.0582 - accuracy: 0.5941\n",
            "Epoch 41: saving model to models\\keypoint_classifier.hdf5\n",
            "71/71 [==============================] - 0s 4ms/step - loss: 1.0488 - accuracy: 0.5961 - val_loss: 0.6621 - val_accuracy: 0.7303\n",
            "Epoch 42/1000\n",
            "60/71 [========================>.....] - ETA: 0s - loss: 1.0666 - accuracy: 0.5939\n",
            "Epoch 42: saving model to models\\keypoint_classifier.hdf5\n",
            "71/71 [==============================] - 0s 4ms/step - loss: 1.0675 - accuracy: 0.5939 - val_loss: 0.8013 - val_accuracy: 0.6640\n",
            "Epoch 43/1000\n",
            "63/71 [=========================>....] - ETA: 0s - loss: 1.0338 - accuracy: 0.6016\n",
            "Epoch 43: saving model to models\\keypoint_classifier.hdf5\n",
            "71/71 [==============================] - 0s 4ms/step - loss: 1.0304 - accuracy: 0.6020 - val_loss: 0.6466 - val_accuracy: 0.7283\n",
            "Epoch 44/1000\n",
            "58/71 [=======================>......] - ETA: 0s - loss: 1.0177 - accuracy: 0.6048\n",
            "Epoch 44: saving model to models\\keypoint_classifier.hdf5\n",
            "71/71 [==============================] - 0s 4ms/step - loss: 1.0216 - accuracy: 0.6042 - val_loss: 0.7316 - val_accuracy: 0.6990\n",
            "Epoch 45/1000\n",
            "61/71 [========================>.....] - ETA: 0s - loss: 1.0223 - accuracy: 0.6146\n",
            "Epoch 45: saving model to models\\keypoint_classifier.hdf5\n",
            "71/71 [==============================] - 0s 4ms/step - loss: 1.0235 - accuracy: 0.6103 - val_loss: 0.7657 - val_accuracy: 0.6533\n",
            "Epoch 46/1000\n",
            "60/71 [========================>.....] - ETA: 0s - loss: 1.0163 - accuracy: 0.6102\n",
            "Epoch 46: saving model to models\\keypoint_classifier.hdf5\n",
            "71/71 [==============================] - 0s 4ms/step - loss: 1.0212 - accuracy: 0.6111 - val_loss: 0.6901 - val_accuracy: 0.7333\n",
            "Epoch 47/1000\n",
            "63/71 [=========================>....] - ETA: 0s - loss: 1.0426 - accuracy: 0.6038\n",
            "Epoch 47: saving model to models\\keypoint_classifier.hdf5\n",
            "71/71 [==============================] - 0s 4ms/step - loss: 1.0369 - accuracy: 0.6061 - val_loss: 0.6990 - val_accuracy: 0.7070\n",
            "Epoch 48/1000\n",
            "63/71 [=========================>....] - ETA: 0s - loss: 0.9907 - accuracy: 0.6096\n",
            "Epoch 48: saving model to models\\keypoint_classifier.hdf5\n",
            "71/71 [==============================] - 0s 4ms/step - loss: 0.9940 - accuracy: 0.6110 - val_loss: 0.7245 - val_accuracy: 0.7200\n",
            "Epoch 49/1000\n",
            "61/71 [========================>.....] - ETA: 0s - loss: 0.9994 - accuracy: 0.6178\n",
            "Epoch 49: saving model to models\\keypoint_classifier.hdf5\n",
            "71/71 [==============================] - 0s 4ms/step - loss: 1.0031 - accuracy: 0.6161 - val_loss: 0.6365 - val_accuracy: 0.7347\n",
            "Epoch 50/1000\n",
            "57/71 [=======================>......] - ETA: 0s - loss: 0.9800 - accuracy: 0.6306\n",
            "Epoch 50: saving model to models\\keypoint_classifier.hdf5\n",
            "71/71 [==============================] - 0s 4ms/step - loss: 0.9874 - accuracy: 0.6246 - val_loss: 0.6336 - val_accuracy: 0.7437\n",
            "Epoch 51/1000\n",
            "62/71 [=========================>....] - ETA: 0s - loss: 0.9732 - accuracy: 0.6229\n",
            "Epoch 51: saving model to models\\keypoint_classifier.hdf5\n",
            "71/71 [==============================] - 0s 5ms/step - loss: 0.9782 - accuracy: 0.6184 - val_loss: 0.6340 - val_accuracy: 0.7513\n",
            "Epoch 52/1000\n",
            "61/71 [========================>.....] - ETA: 0s - loss: 0.9854 - accuracy: 0.6172\n",
            "Epoch 52: saving model to models\\keypoint_classifier.hdf5\n",
            "71/71 [==============================] - 0s 4ms/step - loss: 0.9862 - accuracy: 0.6214 - val_loss: 0.6902 - val_accuracy: 0.6967\n",
            "Epoch 53/1000\n",
            "61/71 [========================>.....] - ETA: 0s - loss: 0.9633 - accuracy: 0.6246\n",
            "Epoch 53: saving model to models\\keypoint_classifier.hdf5\n",
            "71/71 [==============================] - 0s 4ms/step - loss: 0.9694 - accuracy: 0.6231 - val_loss: 0.6461 - val_accuracy: 0.7250\n",
            "Epoch 54/1000\n",
            "62/71 [=========================>....] - ETA: 0s - loss: 0.9641 - accuracy: 0.6303\n",
            "Epoch 54: saving model to models\\keypoint_classifier.hdf5\n",
            "71/71 [==============================] - 0s 4ms/step - loss: 0.9643 - accuracy: 0.6288 - val_loss: 0.7271 - val_accuracy: 0.7077\n",
            "Epoch 55/1000\n",
            "61/71 [========================>.....] - ETA: 0s - loss: 0.9474 - accuracy: 0.6383\n",
            "Epoch 55: saving model to models\\keypoint_classifier.hdf5\n",
            "71/71 [==============================] - 0s 4ms/step - loss: 0.9468 - accuracy: 0.6369 - val_loss: 0.6438 - val_accuracy: 0.7220\n",
            "Epoch 56/1000\n",
            "58/71 [=======================>......] - ETA: 0s - loss: 0.9477 - accuracy: 0.6324\n",
            "Epoch 56: saving model to models\\keypoint_classifier.hdf5\n",
            "71/71 [==============================] - 0s 4ms/step - loss: 0.9405 - accuracy: 0.6368 - val_loss: 0.6990 - val_accuracy: 0.6900\n",
            "Epoch 57/1000\n",
            "63/71 [=========================>....] - ETA: 0s - loss: 0.9521 - accuracy: 0.6400\n",
            "Epoch 57: saving model to models\\keypoint_classifier.hdf5\n",
            "71/71 [==============================] - 0s 4ms/step - loss: 0.9567 - accuracy: 0.6372 - val_loss: 0.7008 - val_accuracy: 0.6800\n",
            "Epoch 58/1000\n",
            "59/71 [=======================>......] - ETA: 0s - loss: 0.9436 - accuracy: 0.6381\n",
            "Epoch 58: saving model to models\\keypoint_classifier.hdf5\n",
            "71/71 [==============================] - 0s 4ms/step - loss: 0.9413 - accuracy: 0.6374 - val_loss: 0.6959 - val_accuracy: 0.7143\n",
            "Epoch 59/1000\n",
            "62/71 [=========================>....] - ETA: 0s - loss: 0.9569 - accuracy: 0.6305\n",
            "Epoch 59: saving model to models\\keypoint_classifier.hdf5\n",
            "71/71 [==============================] - 0s 4ms/step - loss: 0.9593 - accuracy: 0.6279 - val_loss: 0.6609 - val_accuracy: 0.7213\n",
            "Epoch 60/1000\n",
            "57/71 [=======================>......] - ETA: 0s - loss: 0.9513 - accuracy: 0.6294\n",
            "Epoch 60: saving model to models\\keypoint_classifier.hdf5\n",
            "71/71 [==============================] - 0s 4ms/step - loss: 0.9531 - accuracy: 0.6297 - val_loss: 0.7541 - val_accuracy: 0.7197\n",
            "Epoch 61/1000\n",
            "61/71 [========================>.....] - ETA: 0s - loss: 0.9250 - accuracy: 0.6455\n",
            "Epoch 61: saving model to models\\keypoint_classifier.hdf5\n",
            "71/71 [==============================] - 0s 4ms/step - loss: 0.9300 - accuracy: 0.6446 - val_loss: 0.6789 - val_accuracy: 0.7273\n",
            "Epoch 62/1000\n",
            "62/71 [=========================>....] - ETA: 0s - loss: 0.9263 - accuracy: 0.6414\n",
            "Epoch 62: saving model to models\\keypoint_classifier.hdf5\n",
            "71/71 [==============================] - 0s 4ms/step - loss: 0.9310 - accuracy: 0.6397 - val_loss: 0.7096 - val_accuracy: 0.7100\n",
            "Epoch 63/1000\n",
            "62/71 [=========================>....] - ETA: 0s - loss: 0.9286 - accuracy: 0.6433\n",
            "Epoch 63: saving model to models\\keypoint_classifier.hdf5\n",
            "71/71 [==============================] - 0s 4ms/step - loss: 0.9295 - accuracy: 0.6449 - val_loss: 0.6693 - val_accuracy: 0.7097\n",
            "Epoch 64/1000\n",
            "58/71 [=======================>......] - ETA: 0s - loss: 0.9172 - accuracy: 0.6389\n",
            "Epoch 64: saving model to models\\keypoint_classifier.hdf5\n",
            "71/71 [==============================] - 0s 4ms/step - loss: 0.9208 - accuracy: 0.6383 - val_loss: 0.6471 - val_accuracy: 0.7253\n",
            "Epoch 65/1000\n",
            "55/71 [======================>.......] - ETA: 0s - loss: 0.9162 - accuracy: 0.6467\n",
            "Epoch 65: saving model to models\\keypoint_classifier.hdf5\n",
            "71/71 [==============================] - 0s 4ms/step - loss: 0.9175 - accuracy: 0.6432 - val_loss: 0.6420 - val_accuracy: 0.7180\n",
            "Epoch 66/1000\n",
            "57/71 [=======================>......] - ETA: 0s - loss: 0.9158 - accuracy: 0.6473\n",
            "Epoch 66: saving model to models\\keypoint_classifier.hdf5\n",
            "71/71 [==============================] - 0s 4ms/step - loss: 0.9122 - accuracy: 0.6472 - val_loss: 0.7138 - val_accuracy: 0.6780\n",
            "Epoch 67/1000\n",
            "57/71 [=======================>......] - ETA: 0s - loss: 0.9322 - accuracy: 0.6377\n",
            "Epoch 67: saving model to models\\keypoint_classifier.hdf5\n",
            "71/71 [==============================] - 0s 4ms/step - loss: 0.9299 - accuracy: 0.6348 - val_loss: 0.6495 - val_accuracy: 0.7370\n",
            "Epoch 68/1000\n",
            "64/71 [==========================>...] - ETA: 0s - loss: 0.9111 - accuracy: 0.6455\n",
            "Epoch 68: saving model to models\\keypoint_classifier.hdf5\n",
            "71/71 [==============================] - 0s 4ms/step - loss: 0.9128 - accuracy: 0.6453 - val_loss: 0.6492 - val_accuracy: 0.7457\n",
            "Epoch 69/1000\n",
            "71/71 [==============================] - ETA: 0s - loss: 0.9149 - accuracy: 0.6411\n",
            "Epoch 69: saving model to models\\keypoint_classifier.hdf5\n",
            "71/71 [==============================] - 0s 5ms/step - loss: 0.9149 - accuracy: 0.6411 - val_loss: 0.7694 - val_accuracy: 0.6830\n",
            "Epoch 70/1000\n",
            "61/71 [========================>.....] - ETA: 0s - loss: 0.8833 - accuracy: 0.6518\n",
            "Epoch 70: saving model to models\\keypoint_classifier.hdf5\n",
            "71/71 [==============================] - 0s 4ms/step - loss: 0.8907 - accuracy: 0.6513 - val_loss: 0.7311 - val_accuracy: 0.7030\n",
            "Epoch 70: early stopping\n"
          ]
        },
        {
          "data": {
            "text/plain": [
              "<keras.src.callbacks.History at 0x15a2d203a90>"
            ]
          },
          "execution_count": 13,
          "metadata": {},
          "output_type": "execute_result"
        }
      ],
      "source": [
        "model.fit(\n",
        "    X_train,\n",
        "    y_train,\n",
        "    epochs=1000,\n",
        "    batch_size=128,\n",
        "    validation_data=(X_test, y_test),\n",
        "    callbacks=[cp_callback, es_callback]\n",
        ")"
      ]
    },
    {
      "cell_type": "code",
      "execution_count": 14,
      "metadata": {
        "colab": {
          "base_uri": "https://localhost:8080/"
        },
        "id": "pxvb2Y299hE3",
        "outputId": "59eb3185-2e37-4b9e-bc9d-ab1b8ac29b7f"
      },
      "outputs": [
        {
          "name": "stdout",
          "output_type": "stream",
          "text": [
            " 1/24 [>.............................] - ETA: 0s - loss: 0.7077 - accuracy: 0.7109"
          ]
        },
        {
          "name": "stdout",
          "output_type": "stream",
          "text": [
            "24/24 [==============================] - 0s 2ms/step - loss: 0.7311 - accuracy: 0.7030\n"
          ]
        }
      ],
      "source": [
        "# Model evaluation\n",
        "val_loss, val_acc = model.evaluate(X_test, y_test, batch_size=128)"
      ]
    },
    {
      "cell_type": "code",
      "execution_count": 15,
      "metadata": {
        "id": "RBkmDeUW9hE4"
      },
      "outputs": [],
      "source": [
        "# Loading the saved model\n",
        "model = tf.keras.models.load_model(model_save_path)"
      ]
    },
    {
      "cell_type": "code",
      "execution_count": 16,
      "metadata": {
        "colab": {
          "base_uri": "https://localhost:8080/"
        },
        "id": "tFz9Tb0I9hE4",
        "outputId": "1c3b3528-54ae-4ee2-ab04-77429211cbef"
      },
      "outputs": [
        {
          "name": "stdout",
          "output_type": "stream",
          "text": [
            "1/1 [==============================] - 0s 151ms/step\n",
            "[3.4343198e-10 9.9968159e-01 1.3335182e-06 4.1070916e-09 1.2383232e-08\n",
            " 7.0065631e-05 1.7069331e-08 1.6536785e-04 6.9388829e-05 3.2903432e-07\n",
            " 1.1778256e-05 2.1845715e-08]\n",
            "1\n"
          ]
        }
      ],
      "source": [
        "# Inference test\n",
        "predict_result = model.predict(np.array([X_test[0]]))\n",
        "print(np.squeeze(predict_result))\n",
        "print(np.argmax(np.squeeze(predict_result)))"
      ]
    },
    {
      "cell_type": "markdown",
      "metadata": {
        "id": "S3U4yNWx9hE4"
      },
      "source": [
        "# Confusion matrix"
      ]
    },
    {
      "cell_type": "code",
      "execution_count": 17,
      "metadata": {
        "colab": {
          "base_uri": "https://localhost:8080/",
          "height": 582
        },
        "id": "AP1V6SCk9hE5",
        "outputId": "08e41a80-7a4a-4619-8125-ecc371368d19"
      },
      "outputs": [
        {
          "name": "stdout",
          "output_type": "stream",
          "text": [
            "94/94 [==============================] - 0s 1ms/step\n"
          ]
        },
        {
          "data": {
            "image/png": "[encoded data removed]",
            "text/plain": [
              "<Figure size 700x600 with 2 Axes>"
            ]
          },
          "metadata": {},
          "output_type": "display_data"
        },
        {
          "name": "stdout",
          "output_type": "stream",
          "text": [
            "Classification Report\n",
            "              precision    recall  f1-score   support\n",
            "\n",
            "           0       0.67      0.79      0.73       250\n",
            "           1       1.00      0.89      0.94       248\n",
            "           2       0.68      0.99      0.80       254\n",
            "           3       0.76      0.54      0.63       259\n",
            "           4       0.99      0.53      0.69       255\n",
            "           5       1.00      0.89      0.94       261\n",
            "           6       0.50      0.49      0.49       239\n",
            "           7       0.73      0.60      0.65       235\n",
            "           8       0.61      0.34      0.44       254\n",
            "           9       0.54      0.76      0.63       236\n",
            "          10       0.48      0.83      0.61       264\n",
            "          11       0.99      0.76      0.86       245\n",
            "\n",
            "    accuracy                           0.70      3000\n",
            "   macro avg       0.74      0.70      0.70      3000\n",
            "weighted avg       0.74      0.70      0.70      3000\n",
            "\n"
          ]
        }
      ],
      "source": [
        "import pandas as pd\n",
        "import seaborn as sns\n",
        "import matplotlib.pyplot as plt\n",
        "from sklearn.metrics import confusion_matrix, classification_report\n",
        "\n",
        "def print_confusion_matrix(y_true, y_pred, report=True):\n",
        "    labels = sorted(list(set(y_true)))\n",
        "    cmx_data = confusion_matrix(y_true, y_pred, labels=labels)\n",
        "    \n",
        "    df_cmx = pd.DataFrame(cmx_data, index=labels, columns=labels)\n",
        " \n",
        "    fig, ax = plt.subplots(figsize=(7, 6))\n",
        "    sns.heatmap(df_cmx, annot=True, fmt='g' ,square=False)\n",
        "    ax.set_ylim(len(set(y_true)), 0)\n",
        "    plt.show()\n",
        "    \n",
        "    if report:\n",
        "        print('Classification Report')\n",
        "        print(classification_report(y_test, y_pred))\n",
        "\n",
        "Y_pred = model.predict(X_test)\n",
        "y_pred = np.argmax(Y_pred, axis=1)\n",
        "\n",
        "print_confusion_matrix(y_test, y_pred)"
      ]
    },
    {
      "cell_type": "markdown",
      "metadata": {
        "id": "FNP6aqzc9hE5"
      },
      "source": [
        "# Convert to model for Tensorflow-Lite"
      ]
    },
    {
      "cell_type": "code",
      "execution_count": 18,
      "metadata": {
        "id": "ODjnYyld9hE6"
      },
      "outputs": [
        {
          "name": "stderr",
          "output_type": "stream",
          "text": [
            "c:\\Users\\Ian\\git\\553.806_Capstone_HandGesture\\.venv\\Lib\\site-packages\\keras\\src\\engine\\training.py:3103: UserWarning: You are saving your model as an HDF5 file via `model.save()`. This file format is considered legacy. We recommend using instead the native Keras format, e.g. `model.save('my_model.keras')`.\n",
            "  saving_api.save_model(\n"
          ]
        }
      ],
      "source": [
        "# Save as a model dedicated to inference\n",
        "model.save(model_save_path, include_optimizer=False)"
      ]
    },
    {
      "cell_type": "code",
      "execution_count": 19,
      "metadata": {
        "colab": {
          "base_uri": "https://localhost:8080/"
        },
        "id": "zRfuK8Y59hE6",
        "outputId": "a4ca585c-b5d5-4244-8291-8674063209bb"
      },
      "outputs": [
        {
          "name": "stdout",
          "output_type": "stream",
          "text": [
            "INFO:tensorflow:Assets written to: C:\\Users\\Ian\\AppData\\Local\\Temp\\tmplafa5s5x\\assets\n"
          ]
        },
        {
          "name": "stderr",
          "output_type": "stream",
          "text": [
            "INFO:tensorflow:Assets written to: C:\\Users\\Ian\\AppData\\Local\\Temp\\tmplafa5s5x\\assets\n"
          ]
        },
        {
          "data": {
            "text/plain": [
              "21304"
            ]
          },
          "execution_count": 19,
          "metadata": {},
          "output_type": "execute_result"
        }
      ],
      "source": [
        "# Transform model (quantization)\n",
        "\n",
        "converter = tf.lite.TFLiteConverter.from_keras_model(model)\n",
        "converter.optimizations = [tf.lite.Optimize.DEFAULT]\n",
        "tflite_quantized_model = converter.convert()\n",
        "\n",
        "open(tflite_save_path, 'wb').write(tflite_quantized_model)"
      ]
    },
    {
      "cell_type": "markdown",
      "metadata": {
        "id": "CHBPBXdx9hE6"
      },
      "source": [
        "# Inference test"
      ]
    },
    {
      "cell_type": "code",
      "execution_count": 20,
      "metadata": {
        "id": "mGAzLocO9hE7"
      },
      "outputs": [],
      "source": [
        "interpreter = tf.lite.Interpreter(model_path=tflite_save_path)\n",
        "interpreter.allocate_tensors()"
      ]
    },
    {
      "cell_type": "code",
      "execution_count": 21,
      "metadata": {
        "id": "oQuDK8YS9hE7"
      },
      "outputs": [],
      "source": [
        "# Get I / O tensor\n",
        "input_details = interpreter.get_input_details()\n",
        "output_details = interpreter.get_output_details()"
      ]
    },
    {
      "cell_type": "code",
      "execution_count": 22,
      "metadata": {
        "id": "2_ixAf_l9hE7"
      },
      "outputs": [],
      "source": [
        "interpreter.set_tensor(input_details[0]['index'], np.array([X_test[0]]))"
      ]
    },
    {
      "cell_type": "code",
      "execution_count": 23,
      "metadata": {
        "colab": {
          "base_uri": "https://localhost:8080/"
        },
        "id": "s4FoAnuc9hE7",
        "outputId": "91f18257-8d8b-4ef3-c558-e9b5f94fabbf",
        "scrolled": true
      },
      "outputs": [
        {
          "name": "stdout",
          "output_type": "stream",
          "text": [
            "CPU times: total: 0 ns\n",
            "Wall time: 0 ns\n"
          ]
        }
      ],
      "source": [
        "%%time\n",
        "# Inference implementation\n",
        "interpreter.invoke()\n",
        "tflite_results = interpreter.get_tensor(output_details[0]['index'])"
      ]
    },
    {
      "cell_type": "code",
      "execution_count": 24,
      "metadata": {
        "colab": {
          "base_uri": "https://localhost:8080/"
        },
        "id": "vONjp19J9hE8",
        "outputId": "77205e24-fd00-42c4-f7b6-e06e527c2cba"
      },
      "outputs": [
        {
          "name": "stdout",
          "output_type": "stream",
          "text": [
            "[5.5649169e-11 9.9979383e-01 1.5419258e-07 7.1386874e-10 3.6136714e-09\n",
            " 3.9303475e-05 3.2538814e-09 1.2507640e-04 3.6954531e-05 7.2288380e-08\n",
            " 4.4636017e-06 1.3618824e-08]\n",
            "1\n"
          ]
        }
      ],
      "source": [
        "print(np.squeeze(tflite_results))\n",
        "print(np.argmax(np.squeeze(tflite_results)))"
      ]
    }
  ],
  "metadata": {
    "accelerator": "GPU",
    "colab": {
      "collapsed_sections": [],
      "name": "keypoint_classification_EN.ipynb",
      "provenance": [],
      "toc_visible": true
    },
    "kernelspec": {
      "display_name": "Python 3",
      "language": "python",
      "name": "python3"
    },
    "language_info": {
      "codemirror_mode": {
        "name": "ipython",
        "version": 3
      },
      "file_extension": ".py",
      "mimetype": "text/x-python",
      "name": "python",
      "nbconvert_exporter": "python",
      "pygments_lexer": "ipython3",
      "version": "3.11.8"
    }
  },
  "nbformat": 4,
  "nbformat_minor": 0
}
