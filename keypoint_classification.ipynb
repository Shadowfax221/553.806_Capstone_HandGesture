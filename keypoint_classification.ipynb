{
  "cells": [
    {
      "cell_type": "code",
      "execution_count": 5,
      "metadata": {
        "id": "igMyGnjE9hEp"
      },
      "outputs": [],
      "source": [
        "import csv\n",
        "\n",
        "import numpy as np\n",
        "import tensorflow as tf\n",
        "from sklearn.model_selection import train_test_split\n",
        "\n",
        "RANDOM_SEED = 42"
      ]
    },
    {
      "cell_type": "code",
      "execution_count": 6,
      "metadata": {
        "id": "9NvZP2Zn9hEy"
      },
      "outputs": [],
      "source": [
        "dataset = 'datasets/keypoint1000.csv'\n",
        "model_save_path = 'models/keypoint_classifier.hdf5'\n",
        "tflite_save_path = 'models/keypoint_classifier.tflite'"
      ]
    },
    {
      "cell_type": "markdown",
      "metadata": {
        "id": "s5oMH7x19hEz"
      },
      "source": [
        "# Set number of classes"
      ]
    },
    {
      "cell_type": "code",
      "execution_count": 7,
      "metadata": {
        "id": "du4kodXL9hEz"
      },
      "outputs": [],
      "source": [
        "NUM_CLASSES = 12"
      ]
    },
    {
      "cell_type": "markdown",
      "metadata": {
        "id": "XjnL0uso9hEz"
      },
      "source": [
        "# Dataset reading"
      ]
    },
    {
      "cell_type": "code",
      "execution_count": 8,
      "metadata": {
        "id": "QT5ZqtEz9hE0"
      },
      "outputs": [],
      "source": [
        "X_dataset = np.loadtxt(dataset, delimiter=',', dtype='float32', usecols=list(range(1, (21 * 3) + 1)))"
      ]
    },
    {
      "cell_type": "code",
      "execution_count": 9,
      "metadata": {
        "id": "QmoKFsp49hE0"
      },
      "outputs": [],
      "source": [
        "y_dataset = np.loadtxt(dataset, delimiter=',', dtype='int32', usecols=(0))"
      ]
    },
    {
      "cell_type": "code",
      "execution_count": 10,
      "metadata": {
        "id": "xQU7JTZ_9hE0"
      },
      "outputs": [],
      "source": [
        "X_train, X_test, y_train, y_test = train_test_split(X_dataset, y_dataset, train_size=0.75, random_state=RANDOM_SEED)"
      ]
    },
    {
      "cell_type": "markdown",
      "metadata": {
        "id": "mxK_lETT9hE0"
      },
      "source": [
        "# Model building"
      ]
    },
    {
      "cell_type": "code",
      "execution_count": 11,
      "metadata": {
        "id": "vHBmUf1t9hE1"
      },
      "outputs": [
        {
          "name": "stdout",
          "output_type": "stream",
          "text": [
            "WARNING:tensorflow:From c:\\Users\\Ian\\git\\553.806_Capstone_HandGesture\\.venv\\Lib\\site-packages\\keras\\src\\backend.py:1398: The name tf.executing_eagerly_outside_functions is deprecated. Please use tf.compat.v1.executing_eagerly_outside_functions instead.\n",
            "\n"
          ]
        }
      ],
      "source": [
        "model = tf.keras.models.Sequential([\n",
        "    tf.keras.layers.Input((21 * 3, )),\n",
        "    tf.keras.layers.Dropout(0.2),\n",
        "    tf.keras.layers.Dense(128, activation='relu'),  # Increased units\n",
        "    tf.keras.layers.BatchNormalization(),  # Added Batch Normalization\n",
        "    tf.keras.layers.Dropout(0.3),  # Adjusted dropout rate\n",
        "    tf.keras.layers.Dense(64, activation='relu'),  # Increased units\n",
        "    tf.keras.layers.BatchNormalization(),  # Added Batch Normalization\n",
        "    tf.keras.layers.Dense(32, activation='relu'),  # Increased units\n",
        "    tf.keras.layers.Dense(NUM_CLASSES, activation='softmax')\n",
        "])"
      ]
    },
    {
      "cell_type": "code",
      "execution_count": 12,
      "metadata": {
        "colab": {
          "base_uri": "https://localhost:8080/"
        },
        "id": "ypqky9tc9hE1",
        "outputId": "5db082bb-30e3-4110-bf63-a1ee777ecd46"
      },
      "outputs": [
        {
          "name": "stdout",
          "output_type": "stream",
          "text": [
            "Model: \"sequential\"\n",
            "_________________________________________________________________\n",
            " Layer (type)                Output Shape              Param #   \n",
            "=================================================================\n",
            " dropout (Dropout)           (None, 63)                0         \n",
            "                                                                 \n",
            " dense (Dense)               (None, 128)               8192      \n",
            "                                                                 \n",
            " batch_normalization (Batch  (None, 128)               512       \n",
            " Normalization)                                                  \n",
            "                                                                 \n",
            " dropout_1 (Dropout)         (None, 128)               0         \n",
            "                                                                 \n",
            " dense_1 (Dense)             (None, 64)                8256      \n",
            "                                                                 \n",
            " batch_normalization_1 (Bat  (None, 64)                256       \n",
            " chNormalization)                                                \n",
            "                                                                 \n",
            " dense_2 (Dense)             (None, 32)                2080      \n",
            "                                                                 \n",
            " dense_3 (Dense)             (None, 12)                396       \n",
            "                                                                 \n",
            "=================================================================\n",
            "Total params: 19692 (76.92 KB)\n",
            "Trainable params: 19308 (75.42 KB)\n",
            "Non-trainable params: 384 (1.50 KB)\n",
            "_________________________________________________________________\n"
          ]
        }
      ],
      "source": [
        "model.summary()  # tf.keras.utils.plot_model(model, show_shapes=True)"
      ]
    },
    {
      "cell_type": "code",
      "execution_count": 13,
      "metadata": {
        "id": "MbMjOflQ9hE1"
      },
      "outputs": [],
      "source": [
        "# Model checkpoint callback\n",
        "cp_callback = tf.keras.callbacks.ModelCheckpoint(\n",
        "    model_save_path, verbose=1, save_weights_only=False)\n",
        "# Callback for early stopping\n",
        "es_callback = tf.keras.callbacks.EarlyStopping(patience=20, verbose=1)"
      ]
    },
    {
      "cell_type": "code",
      "execution_count": 14,
      "metadata": {
        "id": "c3Dac0M_9hE2"
      },
      "outputs": [
        {
          "name": "stdout",
          "output_type": "stream",
          "text": [
            "WARNING:tensorflow:From c:\\Users\\Ian\\git\\553.806_Capstone_HandGesture\\.venv\\Lib\\site-packages\\keras\\src\\optimizers\\__init__.py:309: The name tf.train.Optimizer is deprecated. Please use tf.compat.v1.train.Optimizer instead.\n",
            "\n"
          ]
        }
      ],
      "source": [
        "# Model compilation\n",
        "model.compile(\n",
        "    optimizer='adam',\n",
        "    loss='sparse_categorical_crossentropy',\n",
        "    metrics=['accuracy']\n",
        ")"
      ]
    },
    {
      "cell_type": "markdown",
      "metadata": {
        "id": "7XI0j1Iu9hE2"
      },
      "source": [
        "# Model training"
      ]
    },
    {
      "cell_type": "code",
      "execution_count": 15,
      "metadata": {},
      "outputs": [
        {
          "data": {
            "text/plain": [
              "<keras.src.callbacks.EarlyStopping at 0x235bbcaab50>"
            ]
          },
          "execution_count": 15,
          "metadata": {},
          "output_type": "execute_result"
        }
      ],
      "source": [
        "es_callback"
      ]
    },
    {
      "cell_type": "code",
      "execution_count": 16,
      "metadata": {
        "colab": {
          "base_uri": "https://localhost:8080/"
        },
        "id": "WirBl-JE9hE3",
        "outputId": "71b30ca2-8294-4d9d-8aa2-800d90d399de",
        "scrolled": true
      },
      "outputs": [
        {
          "name": "stdout",
          "output_type": "stream",
          "text": [
            "Epoch 1/1000\n",
            "WARNING:tensorflow:From c:\\Users\\Ian\\git\\553.806_Capstone_HandGesture\\.venv\\Lib\\site-packages\\keras\\src\\utils\\tf_utils.py:492: The name tf.ragged.RaggedTensorValue is deprecated. Please use tf.compat.v1.ragged.RaggedTensorValue instead.\n",
            "\n",
            "WARNING:tensorflow:From c:\\Users\\Ian\\git\\553.806_Capstone_HandGesture\\.venv\\Lib\\site-packages\\keras\\src\\engine\\base_layer_utils.py:384: The name tf.executing_eagerly_outside_functions is deprecated. Please use tf.compat.v1.executing_eagerly_outside_functions instead.\n",
            "\n",
            "62/71 [=========================>....] - ETA: 0s - loss: 2.6074 - accuracy: 0.1120\n",
            "Epoch 1: saving model to models\\keypoint_classifier.hdf5\n",
            "71/71 [==============================] - 3s 11ms/step - loss: 2.5920 - accuracy: 0.1141 - val_loss: 2.4727 - val_accuracy: 0.0873\n",
            "Epoch 2/1000\n",
            "36/71 [==============>...............] - ETA: 0s - loss: 2.4347 - accuracy: 0.1415"
          ]
        },
        {
          "name": "stderr",
          "output_type": "stream",
          "text": [
            "c:\\Users\\Ian\\git\\553.806_Capstone_HandGesture\\.venv\\Lib\\site-packages\\keras\\src\\engine\\training.py:3103: UserWarning: You are saving your model as an HDF5 file via `model.save()`. This file format is considered legacy. We recommend using instead the native Keras format, e.g. `model.save('my_model.keras')`.\n",
            "  saving_api.save_model(\n"
          ]
        },
        {
          "name": "stdout",
          "output_type": "stream",
          "text": [
            "68/71 [===========================>..] - ETA: 0s - loss: 2.4136 - accuracy: 0.1537\n",
            "Epoch 2: saving model to models\\keypoint_classifier.hdf5\n",
            "71/71 [==============================] - 0s 4ms/step - loss: 2.4132 - accuracy: 0.1544 - val_loss: 2.4273 - val_accuracy: 0.1200\n",
            "Epoch 3/1000\n",
            "57/71 [=======================>......] - ETA: 0s - loss: 2.3241 - accuracy: 0.1842\n",
            "Epoch 3: saving model to models\\keypoint_classifier.hdf5\n",
            "71/71 [==============================] - 0s 4ms/step - loss: 2.3155 - accuracy: 0.1863 - val_loss: 2.3151 - val_accuracy: 0.1997\n",
            "Epoch 4/1000\n",
            "57/71 [=======================>......] - ETA: 0s - loss: 2.2631 - accuracy: 0.2034\n",
            "Epoch 4: saving model to models\\keypoint_classifier.hdf5\n",
            "71/71 [==============================] - 0s 4ms/step - loss: 2.2540 - accuracy: 0.2063 - val_loss: 2.1863 - val_accuracy: 0.2593\n",
            "Epoch 5/1000\n",
            "57/71 [=======================>......] - ETA: 0s - loss: 2.2019 - accuracy: 0.2266\n",
            "Epoch 5: saving model to models\\keypoint_classifier.hdf5\n",
            "71/71 [==============================] - 0s 4ms/step - loss: 2.1939 - accuracy: 0.2289 - val_loss: 2.0495 - val_accuracy: 0.2907\n",
            "Epoch 6/1000\n",
            "66/71 [==========================>...] - ETA: 0s - loss: 2.1554 - accuracy: 0.2491\n",
            "Epoch 6: saving model to models\\keypoint_classifier.hdf5\n",
            "71/71 [==============================] - 0s 5ms/step - loss: 2.1539 - accuracy: 0.2517 - val_loss: 1.9347 - val_accuracy: 0.3587\n",
            "Epoch 7/1000\n",
            "55/71 [======================>.......] - ETA: 0s - loss: 2.1137 - accuracy: 0.2605\n",
            "Epoch 7: saving model to models\\keypoint_classifier.hdf5\n",
            "71/71 [==============================] - 0s 4ms/step - loss: 2.1112 - accuracy: 0.2609 - val_loss: 1.8677 - val_accuracy: 0.4013\n",
            "Epoch 8/1000\n",
            "55/71 [======================>.......] - ETA: 0s - loss: 2.0885 - accuracy: 0.2719\n",
            "Epoch 8: saving model to models\\keypoint_classifier.hdf5\n",
            "71/71 [==============================] - 0s 4ms/step - loss: 2.0835 - accuracy: 0.2740 - val_loss: 1.8218 - val_accuracy: 0.4133\n",
            "Epoch 9/1000\n",
            "56/71 [======================>.......] - ETA: 0s - loss: 2.0495 - accuracy: 0.2889\n",
            "Epoch 9: saving model to models\\keypoint_classifier.hdf5\n",
            "71/71 [==============================] - 0s 4ms/step - loss: 2.0430 - accuracy: 0.2899 - val_loss: 1.8092 - val_accuracy: 0.4123\n",
            "Epoch 10/1000\n",
            "56/71 [======================>.......] - ETA: 0s - loss: 1.9938 - accuracy: 0.3033\n",
            "Epoch 10: saving model to models\\keypoint_classifier.hdf5\n",
            "71/71 [==============================] - 0s 4ms/step - loss: 1.9979 - accuracy: 0.3026 - val_loss: 1.7596 - val_accuracy: 0.4363\n",
            "Epoch 11/1000\n",
            "59/71 [=======================>......] - ETA: 0s - loss: 1.9392 - accuracy: 0.3190\n",
            "Epoch 11: saving model to models\\keypoint_classifier.hdf5\n",
            "71/71 [==============================] - 0s 4ms/step - loss: 1.9353 - accuracy: 0.3221 - val_loss: 1.8389 - val_accuracy: 0.3493\n",
            "Epoch 12/1000\n",
            "55/71 [======================>.......] - ETA: 0s - loss: 1.8959 - accuracy: 0.3345\n",
            "Epoch 12: saving model to models\\keypoint_classifier.hdf5\n",
            "71/71 [==============================] - 0s 4ms/step - loss: 1.8987 - accuracy: 0.3351 - val_loss: 1.5851 - val_accuracy: 0.4870\n",
            "Epoch 13/1000\n",
            "55/71 [======================>.......] - ETA: 0s - loss: 1.8641 - accuracy: 0.3483\n",
            "Epoch 13: saving model to models\\keypoint_classifier.hdf5\n",
            "71/71 [==============================] - 0s 4ms/step - loss: 1.8498 - accuracy: 0.3517 - val_loss: 1.5797 - val_accuracy: 0.4573\n",
            "Epoch 14/1000\n",
            "69/71 [============================>.] - ETA: 0s - loss: 1.8017 - accuracy: 0.3730\n",
            "Epoch 14: saving model to models\\keypoint_classifier.hdf5\n",
            "71/71 [==============================] - 0s 4ms/step - loss: 1.8030 - accuracy: 0.3723 - val_loss: 1.5735 - val_accuracy: 0.4673\n",
            "Epoch 15/1000\n",
            "59/71 [=======================>......] - ETA: 0s - loss: 1.7881 - accuracy: 0.3681\n",
            "Epoch 15: saving model to models\\keypoint_classifier.hdf5\n",
            "71/71 [==============================] - 0s 4ms/step - loss: 1.7808 - accuracy: 0.3706 - val_loss: 1.7576 - val_accuracy: 0.3830\n",
            "Epoch 16/1000\n",
            "58/71 [=======================>......] - ETA: 0s - loss: 1.7466 - accuracy: 0.3935\n",
            "Epoch 16: saving model to models\\keypoint_classifier.hdf5\n",
            "71/71 [==============================] - 0s 4ms/step - loss: 1.7380 - accuracy: 0.3989 - val_loss: 1.4028 - val_accuracy: 0.5670\n",
            "Epoch 17/1000\n",
            "71/71 [==============================] - ETA: 0s - loss: 1.7107 - accuracy: 0.4033\n",
            "Epoch 17: saving model to models\\keypoint_classifier.hdf5\n",
            "71/71 [==============================] - 0s 4ms/step - loss: 1.7107 - accuracy: 0.4033 - val_loss: 1.3486 - val_accuracy: 0.5697\n",
            "Epoch 18/1000\n",
            "55/71 [======================>.......] - ETA: 0s - loss: 1.6809 - accuracy: 0.4165\n",
            "Epoch 18: saving model to models\\keypoint_classifier.hdf5\n",
            "71/71 [==============================] - 0s 4ms/step - loss: 1.6759 - accuracy: 0.4160 - val_loss: 1.3432 - val_accuracy: 0.5950\n",
            "Epoch 19/1000\n",
            "69/71 [============================>.] - ETA: 0s - loss: 1.6262 - accuracy: 0.4309\n",
            "Epoch 19: saving model to models\\keypoint_classifier.hdf5\n",
            "71/71 [==============================] - 0s 5ms/step - loss: 1.6252 - accuracy: 0.4313 - val_loss: 1.2891 - val_accuracy: 0.5670\n",
            "Epoch 20/1000\n",
            "69/71 [============================>.] - ETA: 0s - loss: 1.5824 - accuracy: 0.4505\n",
            "Epoch 20: saving model to models\\keypoint_classifier.hdf5\n",
            "71/71 [==============================] - 0s 4ms/step - loss: 1.5807 - accuracy: 0.4521 - val_loss: 1.3499 - val_accuracy: 0.5430\n",
            "Epoch 21/1000\n",
            "62/71 [=========================>....] - ETA: 0s - loss: 1.5544 - accuracy: 0.4594\n",
            "Epoch 21: saving model to models\\keypoint_classifier.hdf5\n",
            "71/71 [==============================] - 0s 5ms/step - loss: 1.5547 - accuracy: 0.4594 - val_loss: 1.2132 - val_accuracy: 0.6027\n",
            "Epoch 22/1000\n",
            "70/71 [============================>.] - ETA: 0s - loss: 1.4951 - accuracy: 0.4747\n",
            "Epoch 22: saving model to models\\keypoint_classifier.hdf5\n",
            "71/71 [==============================] - 0s 4ms/step - loss: 1.4948 - accuracy: 0.4746 - val_loss: 1.0814 - val_accuracy: 0.6693\n",
            "Epoch 23/1000\n",
            "70/71 [============================>.] - ETA: 0s - loss: 1.4721 - accuracy: 0.4850\n",
            "Epoch 23: saving model to models\\keypoint_classifier.hdf5\n",
            "71/71 [==============================] - 0s 4ms/step - loss: 1.4720 - accuracy: 0.4850 - val_loss: 1.0439 - val_accuracy: 0.6630\n",
            "Epoch 24/1000\n",
            "55/71 [======================>.......] - ETA: 0s - loss: 1.4436 - accuracy: 0.4942\n",
            "Epoch 24: saving model to models\\keypoint_classifier.hdf5\n",
            "71/71 [==============================] - 0s 4ms/step - loss: 1.4433 - accuracy: 0.4938 - val_loss: 1.0274 - val_accuracy: 0.6587\n",
            "Epoch 25/1000\n",
            "71/71 [==============================] - ETA: 0s - loss: 1.3949 - accuracy: 0.5062\n",
            "Epoch 25: saving model to models\\keypoint_classifier.hdf5\n",
            "71/71 [==============================] - 0s 4ms/step - loss: 1.3949 - accuracy: 0.5062 - val_loss: 1.0653 - val_accuracy: 0.6337\n",
            "Epoch 26/1000\n",
            "57/71 [=======================>......] - ETA: 0s - loss: 1.3435 - accuracy: 0.5318\n",
            "Epoch 26: saving model to models\\keypoint_classifier.hdf5\n",
            "71/71 [==============================] - 0s 4ms/step - loss: 1.3431 - accuracy: 0.5327 - val_loss: 1.0801 - val_accuracy: 0.6770\n",
            "Epoch 27/1000\n",
            "58/71 [=======================>......] - ETA: 0s - loss: 1.3380 - accuracy: 0.5414\n",
            "Epoch 27: saving model to models\\keypoint_classifier.hdf5\n",
            "71/71 [==============================] - 0s 4ms/step - loss: 1.3223 - accuracy: 0.5446 - val_loss: 0.9038 - val_accuracy: 0.7300\n",
            "Epoch 28/1000\n",
            "56/71 [======================>.......] - ETA: 0s - loss: 1.2892 - accuracy: 0.5583\n",
            "Epoch 28: saving model to models\\keypoint_classifier.hdf5\n",
            "71/71 [==============================] - 0s 4ms/step - loss: 1.2818 - accuracy: 0.5613 - val_loss: 0.9068 - val_accuracy: 0.7200\n",
            "Epoch 29/1000\n",
            "56/71 [======================>.......] - ETA: 0s - loss: 1.2356 - accuracy: 0.5735\n",
            "Epoch 29: saving model to models\\keypoint_classifier.hdf5\n",
            "71/71 [==============================] - 0s 4ms/step - loss: 1.2303 - accuracy: 0.5778 - val_loss: 0.8548 - val_accuracy: 0.7247\n",
            "Epoch 30/1000\n",
            "67/71 [===========================>..] - ETA: 0s - loss: 1.1932 - accuracy: 0.5838\n",
            "Epoch 30: saving model to models\\keypoint_classifier.hdf5\n",
            "71/71 [==============================] - 0s 5ms/step - loss: 1.1913 - accuracy: 0.5849 - val_loss: 0.9073 - val_accuracy: 0.6927\n",
            "Epoch 31/1000\n",
            "61/71 [========================>.....] - ETA: 0s - loss: 1.1472 - accuracy: 0.6035\n",
            "Epoch 31: saving model to models\\keypoint_classifier.hdf5\n",
            "71/71 [==============================] - 0s 5ms/step - loss: 1.1485 - accuracy: 0.6016 - val_loss: 0.8046 - val_accuracy: 0.7720\n",
            "Epoch 32/1000\n",
            "69/71 [============================>.] - ETA: 0s - loss: 1.1141 - accuracy: 0.6124\n",
            "Epoch 32: saving model to models\\keypoint_classifier.hdf5\n",
            "71/71 [==============================] - 0s 4ms/step - loss: 1.1136 - accuracy: 0.6126 - val_loss: 0.7775 - val_accuracy: 0.7793\n",
            "Epoch 33/1000\n",
            "69/71 [============================>.] - ETA: 0s - loss: 1.1155 - accuracy: 0.6135\n",
            "Epoch 33: saving model to models\\keypoint_classifier.hdf5\n",
            "71/71 [==============================] - 0s 4ms/step - loss: 1.1164 - accuracy: 0.6140 - val_loss: 0.9102 - val_accuracy: 0.6850\n",
            "Epoch 34/1000\n",
            "58/71 [=======================>......] - ETA: 0s - loss: 1.0843 - accuracy: 0.6262\n",
            "Epoch 34: saving model to models\\keypoint_classifier.hdf5\n",
            "71/71 [==============================] - 0s 4ms/step - loss: 1.0773 - accuracy: 0.6273 - val_loss: 0.7006 - val_accuracy: 0.7787\n",
            "Epoch 35/1000\n",
            "56/71 [======================>.......] - ETA: 0s - loss: 1.0479 - accuracy: 0.6383\n",
            "Epoch 35: saving model to models\\keypoint_classifier.hdf5\n",
            "71/71 [==============================] - 0s 4ms/step - loss: 1.0576 - accuracy: 0.6366 - val_loss: 0.6642 - val_accuracy: 0.8123\n",
            "Epoch 36/1000\n",
            "71/71 [==============================] - ETA: 0s - loss: 1.0556 - accuracy: 0.6326\n",
            "Epoch 36: saving model to models\\keypoint_classifier.hdf5\n",
            "71/71 [==============================] - 0s 4ms/step - loss: 1.0556 - accuracy: 0.6326 - val_loss: 0.6282 - val_accuracy: 0.8177\n",
            "Epoch 37/1000\n",
            "67/71 [===========================>..] - ETA: 0s - loss: 1.0381 - accuracy: 0.6399\n",
            "Epoch 37: saving model to models\\keypoint_classifier.hdf5\n",
            "71/71 [==============================] - 0s 5ms/step - loss: 1.0372 - accuracy: 0.6412 - val_loss: 0.7193 - val_accuracy: 0.7827\n",
            "Epoch 38/1000\n",
            "70/71 [============================>.] - ETA: 0s - loss: 1.0205 - accuracy: 0.6432\n",
            "Epoch 38: saving model to models\\keypoint_classifier.hdf5\n",
            "71/71 [==============================] - 0s 4ms/step - loss: 1.0218 - accuracy: 0.6429 - val_loss: 0.7281 - val_accuracy: 0.7647\n",
            "Epoch 39/1000\n",
            "68/71 [===========================>..] - ETA: 0s - loss: 1.0040 - accuracy: 0.6481\n",
            "Epoch 39: saving model to models\\keypoint_classifier.hdf5\n",
            "71/71 [==============================] - 0s 5ms/step - loss: 1.0042 - accuracy: 0.6478 - val_loss: 0.6649 - val_accuracy: 0.7733\n",
            "Epoch 40/1000\n",
            "70/71 [============================>.] - ETA: 0s - loss: 1.0040 - accuracy: 0.6513\n",
            "Epoch 40: saving model to models\\keypoint_classifier.hdf5\n",
            "71/71 [==============================] - 0s 5ms/step - loss: 1.0040 - accuracy: 0.6514 - val_loss: 0.9654 - val_accuracy: 0.6433\n",
            "Epoch 41/1000\n",
            "56/71 [======================>.......] - ETA: 0s - loss: 0.9775 - accuracy: 0.6582\n",
            "Epoch 41: saving model to models\\keypoint_classifier.hdf5\n",
            "71/71 [==============================] - 0s 4ms/step - loss: 0.9823 - accuracy: 0.6574 - val_loss: 0.8316 - val_accuracy: 0.7333\n",
            "Epoch 42/1000\n",
            "55/71 [======================>.......] - ETA: 0s - loss: 0.9699 - accuracy: 0.6658\n",
            "Epoch 42: saving model to models\\keypoint_classifier.hdf5\n",
            "71/71 [==============================] - 0s 4ms/step - loss: 0.9630 - accuracy: 0.6650 - val_loss: 0.6661 - val_accuracy: 0.7973\n",
            "Epoch 43/1000\n",
            "56/71 [======================>.......] - ETA: 0s - loss: 0.9673 - accuracy: 0.6624\n",
            "Epoch 43: saving model to models\\keypoint_classifier.hdf5\n",
            "71/71 [==============================] - 0s 4ms/step - loss: 0.9599 - accuracy: 0.6649 - val_loss: 0.5639 - val_accuracy: 0.8353\n",
            "Epoch 44/1000\n",
            "56/71 [======================>.......] - ETA: 0s - loss: 0.9230 - accuracy: 0.6794\n",
            "Epoch 44: saving model to models\\keypoint_classifier.hdf5\n",
            "71/71 [==============================] - 0s 4ms/step - loss: 0.9297 - accuracy: 0.6749 - val_loss: 0.6239 - val_accuracy: 0.8237\n",
            "Epoch 45/1000\n",
            "53/71 [=====================>........] - ETA: 0s - loss: 0.9406 - accuracy: 0.6669\n",
            "Epoch 45: saving model to models\\keypoint_classifier.hdf5\n",
            "71/71 [==============================] - 0s 4ms/step - loss: 0.9465 - accuracy: 0.6637 - val_loss: 0.8188 - val_accuracy: 0.7480\n",
            "Epoch 46/1000\n",
            "57/71 [=======================>......] - ETA: 0s - loss: 0.9173 - accuracy: 0.6737\n",
            "Epoch 46: saving model to models\\keypoint_classifier.hdf5\n",
            "71/71 [==============================] - 0s 4ms/step - loss: 0.9185 - accuracy: 0.6752 - val_loss: 0.7254 - val_accuracy: 0.7443\n",
            "Epoch 47/1000\n",
            "57/71 [=======================>......] - ETA: 0s - loss: 0.9131 - accuracy: 0.6816\n",
            "Epoch 47: saving model to models\\keypoint_classifier.hdf5\n",
            "71/71 [==============================] - 0s 5ms/step - loss: 0.9148 - accuracy: 0.6807 - val_loss: 0.5920 - val_accuracy: 0.8227\n",
            "Epoch 48/1000\n",
            "56/71 [======================>.......] - ETA: 0s - loss: 0.9069 - accuracy: 0.6867\n",
            "Epoch 48: saving model to models\\keypoint_classifier.hdf5\n",
            "71/71 [==============================] - 0s 4ms/step - loss: 0.9072 - accuracy: 0.6851 - val_loss: 0.5703 - val_accuracy: 0.8413\n",
            "Epoch 49/1000\n",
            "55/71 [======================>.......] - ETA: 0s - loss: 0.9031 - accuracy: 0.6859\n",
            "Epoch 49: saving model to models\\keypoint_classifier.hdf5\n",
            "71/71 [==============================] - 0s 4ms/step - loss: 0.8997 - accuracy: 0.6873 - val_loss: 0.5799 - val_accuracy: 0.8420\n",
            "Epoch 50/1000\n",
            "56/71 [======================>.......] - ETA: 0s - loss: 0.8704 - accuracy: 0.6991\n",
            "Epoch 50: saving model to models\\keypoint_classifier.hdf5\n",
            "71/71 [==============================] - 0s 4ms/step - loss: 0.8691 - accuracy: 0.7008 - val_loss: 0.7140 - val_accuracy: 0.7473\n",
            "Epoch 51/1000\n",
            "56/71 [======================>.......] - ETA: 0s - loss: 0.8807 - accuracy: 0.6936\n",
            "Epoch 51: saving model to models\\keypoint_classifier.hdf5\n",
            "71/71 [==============================] - 0s 4ms/step - loss: 0.8721 - accuracy: 0.6952 - val_loss: 0.6053 - val_accuracy: 0.8243\n",
            "Epoch 52/1000\n",
            "56/71 [======================>.......] - ETA: 0s - loss: 0.8641 - accuracy: 0.6959\n",
            "Epoch 52: saving model to models\\keypoint_classifier.hdf5\n",
            "71/71 [==============================] - 0s 4ms/step - loss: 0.8588 - accuracy: 0.6999 - val_loss: 0.5177 - val_accuracy: 0.8500\n",
            "Epoch 53/1000\n",
            "56/71 [======================>.......] - ETA: 0s - loss: 0.8536 - accuracy: 0.7015\n",
            "Epoch 53: saving model to models\\keypoint_classifier.hdf5\n",
            "71/71 [==============================] - 0s 4ms/step - loss: 0.8457 - accuracy: 0.7063 - val_loss: 0.4927 - val_accuracy: 0.8483\n",
            "Epoch 54/1000\n",
            "56/71 [======================>.......] - ETA: 0s - loss: 0.8431 - accuracy: 0.7084\n",
            "Epoch 54: saving model to models\\keypoint_classifier.hdf5\n",
            "71/71 [==============================] - 0s 4ms/step - loss: 0.8369 - accuracy: 0.7101 - val_loss: 0.5915 - val_accuracy: 0.8290\n",
            "Epoch 55/1000\n",
            "71/71 [==============================] - ETA: 0s - loss: 0.8348 - accuracy: 0.7061\n",
            "Epoch 55: saving model to models\\keypoint_classifier.hdf5\n",
            "71/71 [==============================] - 0s 4ms/step - loss: 0.8348 - accuracy: 0.7061 - val_loss: 0.4794 - val_accuracy: 0.8593\n",
            "Epoch 56/1000\n",
            "71/71 [==============================] - ETA: 0s - loss: 0.8087 - accuracy: 0.7142\n",
            "Epoch 56: saving model to models\\keypoint_classifier.hdf5\n",
            "71/71 [==============================] - 0s 4ms/step - loss: 0.8087 - accuracy: 0.7142 - val_loss: 0.6861 - val_accuracy: 0.7613\n",
            "Epoch 57/1000\n",
            "56/71 [======================>.......] - ETA: 0s - loss: 0.8281 - accuracy: 0.7119\n",
            "Epoch 57: saving model to models\\keypoint_classifier.hdf5\n",
            "71/71 [==============================] - 0s 4ms/step - loss: 0.8256 - accuracy: 0.7112 - val_loss: 0.5411 - val_accuracy: 0.8133\n",
            "Epoch 58/1000\n",
            "55/71 [======================>.......] - ETA: 0s - loss: 0.8176 - accuracy: 0.7125\n",
            "Epoch 58: saving model to models\\keypoint_classifier.hdf5\n",
            "71/71 [==============================] - 0s 4ms/step - loss: 0.8110 - accuracy: 0.7143 - val_loss: 0.5719 - val_accuracy: 0.8300\n",
            "Epoch 59/1000\n",
            "64/71 [==========================>...] - ETA: 0s - loss: 0.7941 - accuracy: 0.7220\n",
            "Epoch 59: saving model to models\\keypoint_classifier.hdf5\n",
            "71/71 [==============================] - 0s 5ms/step - loss: 0.7999 - accuracy: 0.7197 - val_loss: 0.5365 - val_accuracy: 0.8380\n",
            "Epoch 60/1000\n",
            "62/71 [=========================>....] - ETA: 0s - loss: 0.7962 - accuracy: 0.7224\n",
            "Epoch 60: saving model to models\\keypoint_classifier.hdf5\n",
            "71/71 [==============================] - 0s 5ms/step - loss: 0.7962 - accuracy: 0.7206 - val_loss: 0.4579 - val_accuracy: 0.8487\n",
            "Epoch 61/1000\n",
            "59/71 [=======================>......] - ETA: 0s - loss: 0.7925 - accuracy: 0.7272\n",
            "Epoch 61: saving model to models\\keypoint_classifier.hdf5\n",
            "71/71 [==============================] - 0s 4ms/step - loss: 0.7903 - accuracy: 0.7253 - val_loss: 0.4903 - val_accuracy: 0.8463\n",
            "Epoch 62/1000\n",
            "57/71 [=======================>......] - ETA: 0s - loss: 0.7735 - accuracy: 0.7282\n",
            "Epoch 62: saving model to models\\keypoint_classifier.hdf5\n",
            "71/71 [==============================] - 0s 4ms/step - loss: 0.7782 - accuracy: 0.7276 - val_loss: 0.5322 - val_accuracy: 0.8283\n",
            "Epoch 63/1000\n",
            "58/71 [=======================>......] - ETA: 0s - loss: 0.7611 - accuracy: 0.7325\n",
            "Epoch 63: saving model to models\\keypoint_classifier.hdf5\n",
            "71/71 [==============================] - 0s 4ms/step - loss: 0.7686 - accuracy: 0.7313 - val_loss: 0.4910 - val_accuracy: 0.8530\n",
            "Epoch 64/1000\n",
            "57/71 [=======================>......] - ETA: 0s - loss: 0.7802 - accuracy: 0.7256\n",
            "Epoch 64: saving model to models\\keypoint_classifier.hdf5\n",
            "71/71 [==============================] - 0s 4ms/step - loss: 0.7755 - accuracy: 0.7277 - val_loss: 0.5495 - val_accuracy: 0.8307\n",
            "Epoch 65/1000\n",
            "56/71 [======================>.......] - ETA: 0s - loss: 0.7566 - accuracy: 0.7295\n",
            "Epoch 65: saving model to models\\keypoint_classifier.hdf5\n",
            "71/71 [==============================] - 0s 4ms/step - loss: 0.7695 - accuracy: 0.7274 - val_loss: 0.5318 - val_accuracy: 0.8447\n",
            "Epoch 66/1000\n",
            "56/71 [======================>.......] - ETA: 0s - loss: 0.7628 - accuracy: 0.7327\n",
            "Epoch 66: saving model to models\\keypoint_classifier.hdf5\n",
            "71/71 [==============================] - 0s 4ms/step - loss: 0.7604 - accuracy: 0.7318 - val_loss: 0.5430 - val_accuracy: 0.8233\n",
            "Epoch 67/1000\n",
            "71/71 [==============================] - ETA: 0s - loss: 0.7554 - accuracy: 0.7347\n",
            "Epoch 67: saving model to models\\keypoint_classifier.hdf5\n",
            "71/71 [==============================] - 0s 4ms/step - loss: 0.7554 - accuracy: 0.7347 - val_loss: 0.5145 - val_accuracy: 0.8357\n",
            "Epoch 68/1000\n",
            "61/71 [========================>.....] - ETA: 0s - loss: 0.7501 - accuracy: 0.7359\n",
            "Epoch 68: saving model to models\\keypoint_classifier.hdf5\n",
            "71/71 [==============================] - 0s 5ms/step - loss: 0.7436 - accuracy: 0.7370 - val_loss: 0.5134 - val_accuracy: 0.8503\n",
            "Epoch 69/1000\n",
            "68/71 [===========================>..] - ETA: 0s - loss: 0.7444 - accuracy: 0.7391\n",
            "Epoch 69: saving model to models\\keypoint_classifier.hdf5\n",
            "71/71 [==============================] - 0s 5ms/step - loss: 0.7438 - accuracy: 0.7398 - val_loss: 0.4984 - val_accuracy: 0.8310\n",
            "Epoch 70/1000\n",
            "71/71 [==============================] - ETA: 0s - loss: 0.7459 - accuracy: 0.7431\n",
            "Epoch 70: saving model to models\\keypoint_classifier.hdf5\n",
            "71/71 [==============================] - 0s 4ms/step - loss: 0.7459 - accuracy: 0.7431 - val_loss: 0.5049 - val_accuracy: 0.8487\n",
            "Epoch 71/1000\n",
            "54/71 [=====================>........] - ETA: 0s - loss: 0.7179 - accuracy: 0.7504\n",
            "Epoch 71: saving model to models\\keypoint_classifier.hdf5\n",
            "71/71 [==============================] - 0s 4ms/step - loss: 0.7227 - accuracy: 0.7490 - val_loss: 0.4616 - val_accuracy: 0.8420\n",
            "Epoch 72/1000\n",
            "56/71 [======================>.......] - ETA: 0s - loss: 0.7235 - accuracy: 0.7497\n",
            "Epoch 72: saving model to models\\keypoint_classifier.hdf5\n",
            "71/71 [==============================] - 0s 4ms/step - loss: 0.7232 - accuracy: 0.7482 - val_loss: 0.4876 - val_accuracy: 0.8550\n",
            "Epoch 73/1000\n",
            "66/71 [==========================>...] - ETA: 0s - loss: 0.7257 - accuracy: 0.7420\n",
            "Epoch 73: saving model to models\\keypoint_classifier.hdf5\n",
            "71/71 [==============================] - 0s 5ms/step - loss: 0.7293 - accuracy: 0.7408 - val_loss: 0.6218 - val_accuracy: 0.7940\n",
            "Epoch 74/1000\n",
            "55/71 [======================>.......] - ETA: 0s - loss: 0.7399 - accuracy: 0.7386\n",
            "Epoch 74: saving model to models\\keypoint_classifier.hdf5\n",
            "71/71 [==============================] - 0s 4ms/step - loss: 0.7347 - accuracy: 0.7419 - val_loss: 0.5050 - val_accuracy: 0.8513\n",
            "Epoch 75/1000\n",
            "68/71 [===========================>..] - ETA: 0s - loss: 0.7151 - accuracy: 0.7516\n",
            "Epoch 75: saving model to models\\keypoint_classifier.hdf5\n",
            "71/71 [==============================] - 0s 5ms/step - loss: 0.7178 - accuracy: 0.7512 - val_loss: 0.5170 - val_accuracy: 0.8467\n",
            "Epoch 76/1000\n",
            "55/71 [======================>.......] - ETA: 0s - loss: 0.7191 - accuracy: 0.7460\n",
            "Epoch 76: saving model to models\\keypoint_classifier.hdf5\n",
            "71/71 [==============================] - 0s 4ms/step - loss: 0.7221 - accuracy: 0.7422 - val_loss: 0.4864 - val_accuracy: 0.8617\n",
            "Epoch 77/1000\n",
            "70/71 [============================>.] - ETA: 0s - loss: 0.7019 - accuracy: 0.7468\n",
            "Epoch 77: saving model to models\\keypoint_classifier.hdf5\n",
            "71/71 [==============================] - 0s 4ms/step - loss: 0.7018 - accuracy: 0.7468 - val_loss: 0.4542 - val_accuracy: 0.8540\n",
            "Epoch 78/1000\n",
            "54/71 [=====================>........] - ETA: 0s - loss: 0.6992 - accuracy: 0.7470\n",
            "Epoch 78: saving model to models\\keypoint_classifier.hdf5\n",
            "71/71 [==============================] - 0s 4ms/step - loss: 0.7076 - accuracy: 0.7490 - val_loss: 0.4311 - val_accuracy: 0.8723\n",
            "Epoch 79/1000\n",
            "54/71 [=====================>........] - ETA: 0s - loss: 0.7141 - accuracy: 0.7457\n",
            "Epoch 79: saving model to models\\keypoint_classifier.hdf5\n",
            "71/71 [==============================] - 0s 4ms/step - loss: 0.7168 - accuracy: 0.7461 - val_loss: 0.4307 - val_accuracy: 0.8727\n",
            "Epoch 80/1000\n",
            "56/71 [======================>.......] - ETA: 0s - loss: 0.7002 - accuracy: 0.7518\n",
            "Epoch 80: saving model to models\\keypoint_classifier.hdf5\n",
            "71/71 [==============================] - 0s 4ms/step - loss: 0.6960 - accuracy: 0.7527 - val_loss: 0.4314 - val_accuracy: 0.8733\n",
            "Epoch 81/1000\n",
            "56/71 [======================>.......] - ETA: 0s - loss: 0.7067 - accuracy: 0.7538\n",
            "Epoch 81: saving model to models\\keypoint_classifier.hdf5\n",
            "71/71 [==============================] - 0s 4ms/step - loss: 0.7037 - accuracy: 0.7544 - val_loss: 0.5695 - val_accuracy: 0.8143\n",
            "Epoch 82/1000\n",
            "54/71 [=====================>........] - ETA: 0s - loss: 0.6956 - accuracy: 0.7520\n",
            "Epoch 82: saving model to models\\keypoint_classifier.hdf5\n",
            "71/71 [==============================] - 0s 4ms/step - loss: 0.7081 - accuracy: 0.7486 - val_loss: 0.6191 - val_accuracy: 0.8007\n",
            "Epoch 83/1000\n",
            "55/71 [======================>.......] - ETA: 0s - loss: 0.6952 - accuracy: 0.7571\n",
            "Epoch 83: saving model to models\\keypoint_classifier.hdf5\n",
            "71/71 [==============================] - 0s 4ms/step - loss: 0.6953 - accuracy: 0.7563 - val_loss: 0.4075 - val_accuracy: 0.8703\n",
            "Epoch 84/1000\n",
            "66/71 [==========================>...] - ETA: 0s - loss: 0.6767 - accuracy: 0.7614\n",
            "Epoch 84: saving model to models\\keypoint_classifier.hdf5\n",
            "71/71 [==============================] - 0s 5ms/step - loss: 0.6763 - accuracy: 0.7604 - val_loss: 0.4898 - val_accuracy: 0.8457\n",
            "Epoch 85/1000\n",
            "60/71 [========================>.....] - ETA: 0s - loss: 0.6854 - accuracy: 0.7579\n",
            "Epoch 85: saving model to models\\keypoint_classifier.hdf5\n",
            "71/71 [==============================] - 0s 5ms/step - loss: 0.6859 - accuracy: 0.7572 - val_loss: 0.5626 - val_accuracy: 0.8173\n",
            "Epoch 86/1000\n",
            "55/71 [======================>.......] - ETA: 0s - loss: 0.6588 - accuracy: 0.7608\n",
            "Epoch 86: saving model to models\\keypoint_classifier.hdf5\n",
            "71/71 [==============================] - 0s 4ms/step - loss: 0.6695 - accuracy: 0.7581 - val_loss: 0.5194 - val_accuracy: 0.8460\n",
            "Epoch 87/1000\n",
            "56/71 [======================>.......] - ETA: 0s - loss: 0.6837 - accuracy: 0.7624\n",
            "Epoch 87: saving model to models\\keypoint_classifier.hdf5\n",
            "71/71 [==============================] - 0s 4ms/step - loss: 0.6855 - accuracy: 0.7606 - val_loss: 0.4428 - val_accuracy: 0.8640\n",
            "Epoch 88/1000\n",
            "53/71 [=====================>........] - ETA: 0s - loss: 0.6873 - accuracy: 0.7590\n",
            "Epoch 88: saving model to models\\keypoint_classifier.hdf5\n",
            "71/71 [==============================] - 0s 4ms/step - loss: 0.6818 - accuracy: 0.7589 - val_loss: 0.5675 - val_accuracy: 0.8227\n",
            "Epoch 89/1000\n",
            "54/71 [=====================>........] - ETA: 0s - loss: 0.6808 - accuracy: 0.7601\n",
            "Epoch 89: saving model to models\\keypoint_classifier.hdf5\n",
            "71/71 [==============================] - 0s 4ms/step - loss: 0.6759 - accuracy: 0.7627 - val_loss: 0.5025 - val_accuracy: 0.8103\n",
            "Epoch 90/1000\n",
            "67/71 [===========================>..] - ETA: 0s - loss: 0.6786 - accuracy: 0.7571\n",
            "Epoch 90: saving model to models\\keypoint_classifier.hdf5\n",
            "71/71 [==============================] - 0s 6ms/step - loss: 0.6813 - accuracy: 0.7563 - val_loss: 0.5361 - val_accuracy: 0.8133\n",
            "Epoch 91/1000\n",
            "63/71 [=========================>....] - ETA: 0s - loss: 0.6784 - accuracy: 0.7597\n",
            "Epoch 91: saving model to models\\keypoint_classifier.hdf5\n",
            "71/71 [==============================] - 0s 5ms/step - loss: 0.6844 - accuracy: 0.7581 - val_loss: 0.5891 - val_accuracy: 0.7990\n",
            "Epoch 92/1000\n",
            "69/71 [============================>.] - ETA: 0s - loss: 0.6806 - accuracy: 0.7586\n",
            "Epoch 92: saving model to models\\keypoint_classifier.hdf5\n",
            "71/71 [==============================] - 0s 5ms/step - loss: 0.6810 - accuracy: 0.7580 - val_loss: 0.5301 - val_accuracy: 0.8423\n",
            "Epoch 93/1000\n",
            "70/71 [============================>.] - ETA: 0s - loss: 0.6787 - accuracy: 0.7584\n",
            "Epoch 93: saving model to models\\keypoint_classifier.hdf5\n",
            "71/71 [==============================] - 0s 4ms/step - loss: 0.6792 - accuracy: 0.7586 - val_loss: 0.6806 - val_accuracy: 0.7743\n",
            "Epoch 94/1000\n",
            "68/71 [===========================>..] - ETA: 0s - loss: 0.6772 - accuracy: 0.7601\n",
            "Epoch 94: saving model to models\\keypoint_classifier.hdf5\n",
            "71/71 [==============================] - 0s 5ms/step - loss: 0.6786 - accuracy: 0.7589 - val_loss: 0.6664 - val_accuracy: 0.7643\n",
            "Epoch 95/1000\n",
            "65/71 [==========================>...] - ETA: 0s - loss: 0.6526 - accuracy: 0.7663\n",
            "Epoch 95: saving model to models\\keypoint_classifier.hdf5\n",
            "71/71 [==============================] - 0s 5ms/step - loss: 0.6583 - accuracy: 0.7658 - val_loss: 0.4888 - val_accuracy: 0.8433\n",
            "Epoch 96/1000\n",
            "67/71 [===========================>..] - ETA: 0s - loss: 0.6602 - accuracy: 0.7624\n",
            "Epoch 96: saving model to models\\keypoint_classifier.hdf5\n",
            "71/71 [==============================] - 0s 5ms/step - loss: 0.6582 - accuracy: 0.7632 - val_loss: 0.4254 - val_accuracy: 0.8760\n",
            "Epoch 97/1000\n",
            "60/71 [========================>.....] - ETA: 0s - loss: 0.6487 - accuracy: 0.7656\n",
            "Epoch 97: saving model to models\\keypoint_classifier.hdf5\n",
            "71/71 [==============================] - 0s 4ms/step - loss: 0.6469 - accuracy: 0.7696 - val_loss: 0.4745 - val_accuracy: 0.8480\n",
            "Epoch 98/1000\n",
            "59/71 [=======================>......] - ETA: 0s - loss: 0.6529 - accuracy: 0.7662\n",
            "Epoch 98: saving model to models\\keypoint_classifier.hdf5\n",
            "71/71 [==============================] - 0s 4ms/step - loss: 0.6518 - accuracy: 0.7668 - val_loss: 0.4543 - val_accuracy: 0.8520\n",
            "Epoch 99/1000\n",
            "60/71 [========================>.....] - ETA: 0s - loss: 0.6501 - accuracy: 0.7672\n",
            "Epoch 99: saving model to models\\keypoint_classifier.hdf5\n",
            "71/71 [==============================] - 0s 4ms/step - loss: 0.6524 - accuracy: 0.7648 - val_loss: 0.4655 - val_accuracy: 0.8417\n",
            "Epoch 100/1000\n",
            "58/71 [=======================>......] - ETA: 0s - loss: 0.6381 - accuracy: 0.7765\n",
            "Epoch 100: saving model to models\\keypoint_classifier.hdf5\n",
            "71/71 [==============================] - 0s 4ms/step - loss: 0.6432 - accuracy: 0.7747 - val_loss: 0.5879 - val_accuracy: 0.8020\n",
            "Epoch 101/1000\n",
            "59/71 [=======================>......] - ETA: 0s - loss: 0.6604 - accuracy: 0.7643\n",
            "Epoch 101: saving model to models\\keypoint_classifier.hdf5\n",
            "71/71 [==============================] - 0s 4ms/step - loss: 0.6604 - accuracy: 0.7636 - val_loss: 0.5639 - val_accuracy: 0.8043\n",
            "Epoch 102/1000\n",
            "59/71 [=======================>......] - ETA: 0s - loss: 0.6235 - accuracy: 0.7782\n",
            "Epoch 102: saving model to models\\keypoint_classifier.hdf5\n",
            "71/71 [==============================] - 0s 4ms/step - loss: 0.6318 - accuracy: 0.7763 - val_loss: 0.5612 - val_accuracy: 0.8070\n",
            "Epoch 103/1000\n",
            "60/71 [========================>.....] - ETA: 0s - loss: 0.6388 - accuracy: 0.7732\n",
            "Epoch 103: saving model to models\\keypoint_classifier.hdf5\n",
            "71/71 [==============================] - 0s 4ms/step - loss: 0.6437 - accuracy: 0.7727 - val_loss: 0.3760 - val_accuracy: 0.8777\n",
            "Epoch 104/1000\n",
            "59/71 [=======================>......] - ETA: 0s - loss: 0.6363 - accuracy: 0.7753\n",
            "Epoch 104: saving model to models\\keypoint_classifier.hdf5\n",
            "71/71 [==============================] - 0s 4ms/step - loss: 0.6350 - accuracy: 0.7748 - val_loss: 0.5055 - val_accuracy: 0.8323\n",
            "Epoch 105/1000\n",
            "59/71 [=======================>......] - ETA: 0s - loss: 0.6378 - accuracy: 0.7691\n",
            "Epoch 105: saving model to models\\keypoint_classifier.hdf5\n",
            "71/71 [==============================] - 0s 4ms/step - loss: 0.6362 - accuracy: 0.7703 - val_loss: 0.4401 - val_accuracy: 0.8493\n",
            "Epoch 106/1000\n",
            "59/71 [=======================>......] - ETA: 0s - loss: 0.6218 - accuracy: 0.7736\n",
            "Epoch 106: saving model to models\\keypoint_classifier.hdf5\n",
            "71/71 [==============================] - 0s 4ms/step - loss: 0.6305 - accuracy: 0.7718 - val_loss: 0.4411 - val_accuracy: 0.8473\n",
            "Epoch 107/1000\n",
            "60/71 [========================>.....] - ETA: 0s - loss: 0.6567 - accuracy: 0.7691\n",
            "Epoch 107: saving model to models\\keypoint_classifier.hdf5\n",
            "71/71 [==============================] - 0s 4ms/step - loss: 0.6528 - accuracy: 0.7707 - val_loss: 0.5965 - val_accuracy: 0.7990\n",
            "Epoch 108/1000\n",
            "64/71 [==========================>...] - ETA: 0s - loss: 0.6448 - accuracy: 0.7708\n",
            "Epoch 108: saving model to models\\keypoint_classifier.hdf5\n",
            "71/71 [==============================] - 0s 5ms/step - loss: 0.6433 - accuracy: 0.7721 - val_loss: 0.4290 - val_accuracy: 0.8533\n",
            "Epoch 109/1000\n",
            "56/71 [======================>.......] - ETA: 0s - loss: 0.6167 - accuracy: 0.7699\n",
            "Epoch 109: saving model to models\\keypoint_classifier.hdf5\n",
            "71/71 [==============================] - 0s 4ms/step - loss: 0.6144 - accuracy: 0.7739 - val_loss: 0.5275 - val_accuracy: 0.8093\n",
            "Epoch 110/1000\n",
            "60/71 [========================>.....] - ETA: 0s - loss: 0.6174 - accuracy: 0.7759\n",
            "Epoch 110: saving model to models\\keypoint_classifier.hdf5\n",
            "71/71 [==============================] - 0s 4ms/step - loss: 0.6144 - accuracy: 0.7772 - val_loss: 0.4967 - val_accuracy: 0.8123\n",
            "Epoch 111/1000\n",
            "60/71 [========================>.....] - ETA: 0s - loss: 0.6350 - accuracy: 0.7723\n",
            "Epoch 111: saving model to models\\keypoint_classifier.hdf5\n",
            "71/71 [==============================] - 0s 4ms/step - loss: 0.6345 - accuracy: 0.7717 - val_loss: 0.4216 - val_accuracy: 0.8657\n",
            "Epoch 112/1000\n",
            "58/71 [=======================>......] - ETA: 0s - loss: 0.6134 - accuracy: 0.7757\n",
            "Epoch 112: saving model to models\\keypoint_classifier.hdf5\n",
            "71/71 [==============================] - 0s 4ms/step - loss: 0.6185 - accuracy: 0.7728 - val_loss: 0.4304 - val_accuracy: 0.8510\n",
            "Epoch 113/1000\n",
            "57/71 [=======================>......] - ETA: 0s - loss: 0.6249 - accuracy: 0.7769\n",
            "Epoch 113: saving model to models\\keypoint_classifier.hdf5\n",
            "71/71 [==============================] - 0s 4ms/step - loss: 0.6168 - accuracy: 0.7793 - val_loss: 0.4124 - val_accuracy: 0.8610\n",
            "Epoch 114/1000\n",
            "58/71 [=======================>......] - ETA: 0s - loss: 0.6142 - accuracy: 0.7765\n",
            "Epoch 114: saving model to models\\keypoint_classifier.hdf5\n",
            "71/71 [==============================] - 0s 4ms/step - loss: 0.6170 - accuracy: 0.7751 - val_loss: 0.4707 - val_accuracy: 0.8450\n",
            "Epoch 115/1000\n",
            "58/71 [=======================>......] - ETA: 0s - loss: 0.6171 - accuracy: 0.7791\n",
            "Epoch 115: saving model to models\\keypoint_classifier.hdf5\n",
            "71/71 [==============================] - 0s 4ms/step - loss: 0.6152 - accuracy: 0.7810 - val_loss: 0.4362 - val_accuracy: 0.8557\n",
            "Epoch 116/1000\n",
            "59/71 [=======================>......] - ETA: 0s - loss: 0.6217 - accuracy: 0.7779\n",
            "Epoch 116: saving model to models\\keypoint_classifier.hdf5\n",
            "71/71 [==============================] - 0s 4ms/step - loss: 0.6152 - accuracy: 0.7796 - val_loss: 0.5482 - val_accuracy: 0.8133\n",
            "Epoch 117/1000\n",
            "58/71 [=======================>......] - ETA: 0s - loss: 0.6086 - accuracy: 0.7835\n",
            "Epoch 117: saving model to models\\keypoint_classifier.hdf5\n",
            "71/71 [==============================] - 0s 4ms/step - loss: 0.6044 - accuracy: 0.7830 - val_loss: 0.5162 - val_accuracy: 0.8313\n",
            "Epoch 118/1000\n",
            "60/71 [========================>.....] - ETA: 0s - loss: 0.6253 - accuracy: 0.7797\n",
            "Epoch 118: saving model to models\\keypoint_classifier.hdf5\n",
            "71/71 [==============================] - 0s 4ms/step - loss: 0.6240 - accuracy: 0.7799 - val_loss: 0.6133 - val_accuracy: 0.7900\n",
            "Epoch 119/1000\n",
            "59/71 [=======================>......] - ETA: 0s - loss: 0.5813 - accuracy: 0.7897\n",
            "Epoch 119: saving model to models\\keypoint_classifier.hdf5\n",
            "71/71 [==============================] - 0s 4ms/step - loss: 0.5986 - accuracy: 0.7847 - val_loss: 0.4612 - val_accuracy: 0.8507\n",
            "Epoch 120/1000\n",
            "62/71 [=========================>....] - ETA: 0s - loss: 0.6115 - accuracy: 0.7811\n",
            "Epoch 120: saving model to models\\keypoint_classifier.hdf5\n",
            "71/71 [==============================] - 0s 5ms/step - loss: 0.6041 - accuracy: 0.7831 - val_loss: 0.4660 - val_accuracy: 0.8397\n",
            "Epoch 121/1000\n",
            "61/71 [========================>.....] - ETA: 0s - loss: 0.5989 - accuracy: 0.7878\n",
            "Epoch 121: saving model to models\\keypoint_classifier.hdf5\n",
            "71/71 [==============================] - 0s 4ms/step - loss: 0.6003 - accuracy: 0.7874 - val_loss: 0.4479 - val_accuracy: 0.8540\n",
            "Epoch 122/1000\n",
            "59/71 [=======================>......] - ETA: 0s - loss: 0.6121 - accuracy: 0.7802\n",
            "Epoch 122: saving model to models\\keypoint_classifier.hdf5\n",
            "71/71 [==============================] - 0s 4ms/step - loss: 0.6089 - accuracy: 0.7820 - val_loss: 0.4052 - val_accuracy: 0.8597\n",
            "Epoch 123/1000\n",
            "60/71 [========================>.....] - ETA: 0s - loss: 0.6140 - accuracy: 0.7767\n",
            "Epoch 123: saving model to models\\keypoint_classifier.hdf5\n",
            "71/71 [==============================] - 0s 4ms/step - loss: 0.6068 - accuracy: 0.7797 - val_loss: 0.4999 - val_accuracy: 0.8250\n",
            "Epoch 123: early stopping\n"
          ]
        },
        {
          "data": {
            "text/plain": [
              "<keras.src.callbacks.History at 0x235bd529c90>"
            ]
          },
          "execution_count": 16,
          "metadata": {},
          "output_type": "execute_result"
        }
      ],
      "source": [
        "model.fit(\n",
        "    X_train,\n",
        "    y_train,\n",
        "    epochs=1000,\n",
        "    batch_size=128,\n",
        "    validation_data=(X_test, y_test),\n",
        "    callbacks=[cp_callback, es_callback]\n",
        ")"
      ]
    },
    {
      "cell_type": "code",
      "execution_count": 17,
      "metadata": {
        "colab": {
          "base_uri": "https://localhost:8080/"
        },
        "id": "pxvb2Y299hE3",
        "outputId": "59eb3185-2e37-4b9e-bc9d-ab1b8ac29b7f"
      },
      "outputs": [
        {
          "name": "stdout",
          "output_type": "stream",
          "text": [
            " 1/24 [>.............................] - ETA: 0s - loss: 0.4126 - accuracy: 0.8828"
          ]
        },
        {
          "name": "stdout",
          "output_type": "stream",
          "text": [
            "24/24 [==============================] - 0s 2ms/step - loss: 0.4999 - accuracy: 0.8250\n"
          ]
        }
      ],
      "source": [
        "# Model evaluation\n",
        "val_loss, val_acc = model.evaluate(X_test, y_test, batch_size=128)"
      ]
    },
    {
      "cell_type": "code",
      "execution_count": 18,
      "metadata": {
        "id": "RBkmDeUW9hE4"
      },
      "outputs": [],
      "source": [
        "# Loading the saved model\n",
        "model = tf.keras.models.load_model(model_save_path)"
      ]
    },
    {
      "cell_type": "code",
      "execution_count": 19,
      "metadata": {
        "colab": {
          "base_uri": "https://localhost:8080/"
        },
        "id": "tFz9Tb0I9hE4",
        "outputId": "1c3b3528-54ae-4ee2-ab04-77429211cbef"
      },
      "outputs": [
        {
          "name": "stdout",
          "output_type": "stream",
          "text": [
            "1/1 [==============================] - 0s 163ms/step\n",
            "[4.5257248e-10 9.9914014e-01 4.3536192e-09 6.8680452e-12 9.1773718e-09\n",
            " 4.8753654e-04 1.4703615e-10 2.8830566e-04 2.9390394e-08 4.7135174e-07\n",
            " 6.7338668e-05 1.6101207e-05]\n",
            "1\n"
          ]
        }
      ],
      "source": [
        "# Inference test\n",
        "predict_result = model.predict(np.array([X_test[0]]))\n",
        "print(np.squeeze(predict_result))\n",
        "print(np.argmax(np.squeeze(predict_result)))"
      ]
    },
    {
      "cell_type": "markdown",
      "metadata": {
        "id": "S3U4yNWx9hE4"
      },
      "source": [
        "# Confusion matrix"
      ]
    },
    {
      "cell_type": "code",
      "execution_count": 20,
      "metadata": {
        "colab": {
          "base_uri": "https://localhost:8080/",
          "height": 582
        },
        "id": "AP1V6SCk9hE5",
        "outputId": "08e41a80-7a4a-4619-8125-ecc371368d19"
      },
      "outputs": [
        {
          "name": "stdout",
          "output_type": "stream",
          "text": [
            "94/94 [==============================] - 0s 1ms/step\n"
          ]
        },
        {
          "data": {
            "image/png": "[encoded data removed]",
            "text/plain": [
              "<Figure size 700x600 with 2 Axes>"
            ]
          },
          "metadata": {},
          "output_type": "display_data"
        },
        {
          "name": "stdout",
          "output_type": "stream",
          "text": [
            "Classification Report\n",
            "              precision    recall  f1-score   support\n",
            "\n",
            "           0       0.75      0.85      0.80       250\n",
            "           1       0.95      0.94      0.94       248\n",
            "           2       0.78      0.97      0.86       254\n",
            "           3       0.95      0.55      0.70       259\n",
            "           4       0.93      0.73      0.82       255\n",
            "           5       0.98      0.98      0.98       261\n",
            "           6       0.80      0.62      0.70       239\n",
            "           7       0.78      0.71      0.75       235\n",
            "           8       0.99      0.80      0.88       254\n",
            "           9       0.65      0.99      0.79       236\n",
            "          10       0.64      0.89      0.75       264\n",
            "          11       0.98      0.87      0.92       245\n",
            "\n",
            "    accuracy                           0.82      3000\n",
            "   macro avg       0.85      0.82      0.82      3000\n",
            "weighted avg       0.85      0.82      0.82      3000\n",
            "\n"
          ]
        }
      ],
      "source": [
        "import pandas as pd\n",
        "import seaborn as sns\n",
        "import matplotlib.pyplot as plt\n",
        "from sklearn.metrics import confusion_matrix, classification_report\n",
        "\n",
        "def print_confusion_matrix(y_true, y_pred, report=True):\n",
        "    labels = sorted(list(set(y_true)))\n",
        "    cmx_data = confusion_matrix(y_true, y_pred, labels=labels)\n",
        "    \n",
        "    df_cmx = pd.DataFrame(cmx_data, index=labels, columns=labels)\n",
        " \n",
        "    fig, ax = plt.subplots(figsize=(7, 6))\n",
        "    sns.heatmap(df_cmx, annot=True, fmt='g' ,square=False)\n",
        "    ax.set_ylim(len(set(y_true)), 0)\n",
        "    plt.show()\n",
        "    \n",
        "    if report:\n",
        "        print('Classification Report')\n",
        "        print(classification_report(y_test, y_pred))\n",
        "\n",
        "Y_pred = model.predict(X_test)\n",
        "y_pred = np.argmax(Y_pred, axis=1)\n",
        "\n",
        "print_confusion_matrix(y_test, y_pred)"
      ]
    },
    {
      "cell_type": "markdown",
      "metadata": {
        "id": "FNP6aqzc9hE5"
      },
      "source": [
        "# Convert to model for Tensorflow-Lite"
      ]
    },
    {
      "cell_type": "code",
      "execution_count": 21,
      "metadata": {
        "id": "ODjnYyld9hE6"
      },
      "outputs": [
        {
          "name": "stderr",
          "output_type": "stream",
          "text": [
            "c:\\Users\\Ian\\git\\553.806_Capstone_HandGesture\\.venv\\Lib\\site-packages\\keras\\src\\engine\\training.py:3103: UserWarning: You are saving your model as an HDF5 file via `model.save()`. This file format is considered legacy. We recommend using instead the native Keras format, e.g. `model.save('my_model.keras')`.\n",
            "  saving_api.save_model(\n"
          ]
        }
      ],
      "source": [
        "# Save as a model dedicated to inference\n",
        "model.save(model_save_path, include_optimizer=False)"
      ]
    },
    {
      "cell_type": "code",
      "execution_count": 22,
      "metadata": {
        "colab": {
          "base_uri": "https://localhost:8080/"
        },
        "id": "zRfuK8Y59hE6",
        "outputId": "a4ca585c-b5d5-4244-8291-8674063209bb"
      },
      "outputs": [
        {
          "name": "stdout",
          "output_type": "stream",
          "text": [
            "INFO:tensorflow:Assets written to: C:\\Users\\Ian\\AppData\\Local\\Temp\\tmp3e8q0xrz\\assets\n"
          ]
        },
        {
          "name": "stderr",
          "output_type": "stream",
          "text": [
            "INFO:tensorflow:Assets written to: C:\\Users\\Ian\\AppData\\Local\\Temp\\tmp3e8q0xrz\\assets\n"
          ]
        },
        {
          "data": {
            "text/plain": [
              "23992"
            ]
          },
          "execution_count": 22,
          "metadata": {},
          "output_type": "execute_result"
        }
      ],
      "source": [
        "# Transform model (quantization)\n",
        "\n",
        "converter = tf.lite.TFLiteConverter.from_keras_model(model)\n",
        "converter.optimizations = [tf.lite.Optimize.DEFAULT]\n",
        "tflite_quantized_model = converter.convert()\n",
        "\n",
        "open(tflite_save_path, 'wb').write(tflite_quantized_model)"
      ]
    },
    {
      "cell_type": "markdown",
      "metadata": {
        "id": "CHBPBXdx9hE6"
      },
      "source": [
        "# Inference test"
      ]
    },
    {
      "cell_type": "code",
      "execution_count": 23,
      "metadata": {
        "id": "mGAzLocO9hE7"
      },
      "outputs": [],
      "source": [
        "interpreter = tf.lite.Interpreter(model_path=tflite_save_path)\n",
        "interpreter.allocate_tensors()"
      ]
    },
    {
      "cell_type": "code",
      "execution_count": 24,
      "metadata": {
        "id": "oQuDK8YS9hE7"
      },
      "outputs": [],
      "source": [
        "# Get I / O tensor\n",
        "input_details = interpreter.get_input_details()\n",
        "output_details = interpreter.get_output_details()"
      ]
    },
    {
      "cell_type": "code",
      "execution_count": 25,
      "metadata": {
        "id": "2_ixAf_l9hE7"
      },
      "outputs": [],
      "source": [
        "interpreter.set_tensor(input_details[0]['index'], np.array([X_test[0]]))"
      ]
    },
    {
      "cell_type": "code",
      "execution_count": 26,
      "metadata": {
        "colab": {
          "base_uri": "https://localhost:8080/"
        },
        "id": "s4FoAnuc9hE7",
        "outputId": "91f18257-8d8b-4ef3-c558-e9b5f94fabbf",
        "scrolled": true
      },
      "outputs": [
        {
          "name": "stdout",
          "output_type": "stream",
          "text": [
            "CPU times: total: 0 ns\n",
            "Wall time: 0 ns\n"
          ]
        }
      ],
      "source": [
        "%%time\n",
        "# Inference implementation\n",
        "interpreter.invoke()\n",
        "tflite_results = interpreter.get_tensor(output_details[0]['index'])"
      ]
    },
    {
      "cell_type": "code",
      "execution_count": 27,
      "metadata": {
        "colab": {
          "base_uri": "https://localhost:8080/"
        },
        "id": "vONjp19J9hE8",
        "outputId": "77205e24-fd00-42c4-f7b6-e06e527c2cba"
      },
      "outputs": [
        {
          "name": "stdout",
          "output_type": "stream",
          "text": [
            "[3.3879448e-09 9.9917823e-01 1.6797740e-08 9.0715838e-11 3.6345028e-07\n",
            " 1.8464272e-04 7.9039069e-09 5.1925163e-04 8.6744258e-08 1.0973359e-05\n",
            " 7.9646234e-05 2.6701917e-05]\n",
            "1\n"
          ]
        }
      ],
      "source": [
        "print(np.squeeze(tflite_results))\n",
        "print(np.argmax(np.squeeze(tflite_results)))"
      ]
    }
  ],
  "metadata": {
    "accelerator": "GPU",
    "colab": {
      "collapsed_sections": [],
      "name": "keypoint_classification_EN.ipynb",
      "provenance": [],
      "toc_visible": true
    },
    "kernelspec": {
      "display_name": "Python 3",
      "language": "python",
      "name": "python3"
    },
    "language_info": {
      "codemirror_mode": {
        "name": "ipython",
        "version": 3
      },
      "file_extension": ".py",
      "mimetype": "text/x-python",
      "name": "python",
      "nbconvert_exporter": "python",
      "pygments_lexer": "ipython3",
      "version": "3.11.8"
    }
  },
  "nbformat": 4,
  "nbformat_minor": 0
}
