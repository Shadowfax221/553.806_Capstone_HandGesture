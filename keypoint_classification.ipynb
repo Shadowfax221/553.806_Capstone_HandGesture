{
  "cells": [
    {
      "cell_type": "code",
      "execution_count": 1,
      "metadata": {
        "id": "igMyGnjE9hEp"
      },
      "outputs": [
        {
          "name": "stdout",
          "output_type": "stream",
          "text": [
            "WARNING:tensorflow:From c:\\Users\\Ian\\git\\553.806_Capstone_HandGesture\\.venv\\Lib\\site-packages\\keras\\src\\losses.py:2976: The name tf.losses.sparse_softmax_cross_entropy is deprecated. Please use tf.compat.v1.losses.sparse_softmax_cross_entropy instead.\n",
            "\n"
          ]
        }
      ],
      "source": [
        "import csv\n",
        "\n",
        "import numpy as np\n",
        "import tensorflow as tf\n",
        "from sklearn.model_selection import train_test_split\n",
        "\n",
        "RANDOM_SEED = 42"
      ]
    },
    {
      "cell_type": "code",
      "execution_count": 2,
      "metadata": {
        "id": "9NvZP2Zn9hEy"
      },
      "outputs": [],
      "source": [
        "dataset = 'datasets/keypoint1000.csv'\n",
        "model_save_path = 'models/keypoint_classifier.hdf5'\n",
        "tflite_save_path = 'models/keypoint_classifier_part1.tflite'\n",
        "tflite_save_path2 = 'models/keypoint_classifier_part2.tflite'"
      ]
    },
    {
      "cell_type": "markdown",
      "metadata": {
        "id": "s5oMH7x19hEz"
      },
      "source": [
        "# Set number of classes"
      ]
    },
    {
      "cell_type": "code",
      "execution_count": 3,
      "metadata": {
        "id": "du4kodXL9hEz"
      },
      "outputs": [],
      "source": [
        "NUM_CLASSES = 12\n",
        "LABELS = ['call', 'dislike', 'fist', 'like', 'mute', 'ok', 'one', 'palm', 'peace', 'rock', 'stop', 'stop_inverted'] "
      ]
    },
    {
      "cell_type": "markdown",
      "metadata": {
        "id": "XjnL0uso9hEz"
      },
      "source": [
        "# Dataset reading"
      ]
    },
    {
      "cell_type": "code",
      "execution_count": 4,
      "metadata": {},
      "outputs": [],
      "source": [
        "def apply_rotation(label, points):\n",
        "    num_points = 21\n",
        "    point_0 = points[0]\n",
        "    point_8 = points[8]\n",
        "\n",
        "    if label == 'dislike' or label == 'like':\n",
        "        return points  # No rotation\n",
        "    elif label == 'call':\n",
        "        # Rotate to be parallel with X-axis\n",
        "        line = point_8 - point_0\n",
        "        angle = np.arctan2(line[2], line[0])  # Consider the X-Z plane\n",
        "        rotation_matrix = np.array([\n",
        "            [1, 0, 0],\n",
        "            [0, np.cos(angle), -np.sin(angle)],\n",
        "            [0, np.sin(angle), np.cos(angle)]\n",
        "        ])\n",
        "    else:\n",
        "        # Rotate to be parallel with Y-axis\n",
        "        line = point_8 - point_0\n",
        "        angle = np.arctan2(line[2], line[1])  # Consider the Y-Z plane\n",
        "        rotation_matrix = np.array([\n",
        "            [np.cos(angle), 0, np.sin(angle)],\n",
        "            [0, 1, 0],\n",
        "            [-np.sin(angle), 0, np.cos(angle)]\n",
        "        ])\n",
        "    \n",
        "    # Apply rotation\n",
        "    for i in range(num_points):\n",
        "        points[i] = np.dot(rotation_matrix, points[i])\n",
        "\n",
        "    return points\n"
      ]
    },
    {
      "cell_type": "code",
      "execution_count": 5,
      "metadata": {},
      "outputs": [],
      "source": [
        "def pre_process_dataset(X_dataset, y_dataset):\n",
        "    # Reshape to 3D\n",
        "    num_points = 21\n",
        "    reshaped_dataset = X_dataset.reshape(-1, num_points, 3)\n",
        "\n",
        "    # Shift coordinates\n",
        "    for i in range(len(reshaped_dataset)):\n",
        "        base_point = reshaped_dataset[i, 0]  # ID:0\n",
        "        for j in range(num_points):\n",
        "            reshaped_dataset[i, j] -= base_point\n",
        "\n",
        "    # # Rotation\n",
        "    # for i in range(len(reshaped_dataset)):\n",
        "    #     label = LABELS[y_dataset[i]]\n",
        "    #     reshaped_dataset[i] = apply_rotation(label, reshaped_dataset[i])\n",
        "\n",
        "    # Flatten\n",
        "    flattened_dataset = reshaped_dataset.reshape(-1, num_points * 3)\n",
        "\n",
        "    # Normalization\n",
        "    max_abs_value = np.max(np.abs(flattened_dataset))\n",
        "    normalized_dataset = flattened_dataset / max_abs_value\n",
        "\n",
        "    return normalized_dataset"
      ]
    },
    {
      "cell_type": "code",
      "execution_count": 6,
      "metadata": {
        "id": "QT5ZqtEz9hE0"
      },
      "outputs": [],
      "source": [
        "X_dataset = np.loadtxt(dataset, delimiter=',', dtype='float32', usecols=list(range(1, (21 * 3) + 1)))"
      ]
    },
    {
      "cell_type": "code",
      "execution_count": 7,
      "metadata": {
        "id": "QmoKFsp49hE0"
      },
      "outputs": [],
      "source": [
        "y_dataset = np.loadtxt(dataset, delimiter=',', dtype='int32', usecols=(0))"
      ]
    },
    {
      "cell_type": "code",
      "execution_count": 8,
      "metadata": {},
      "outputs": [],
      "source": [
        "X_dataset_preprocessed = pre_process_dataset(X_dataset, y_dataset)"
      ]
    },
    {
      "cell_type": "code",
      "execution_count": 9,
      "metadata": {
        "id": "xQU7JTZ_9hE0"
      },
      "outputs": [],
      "source": [
        "X_train, X_test, y_train, y_test = train_test_split(X_dataset_preprocessed, y_dataset, train_size=0.75, random_state=RANDOM_SEED)"
      ]
    },
    {
      "cell_type": "markdown",
      "metadata": {
        "id": "mxK_lETT9hE0"
      },
      "source": [
        "# Model building"
      ]
    },
    {
      "cell_type": "code",
      "execution_count": 10,
      "metadata": {
        "id": "vHBmUf1t9hE1"
      },
      "outputs": [
        {
          "name": "stdout",
          "output_type": "stream",
          "text": [
            "WARNING:tensorflow:From c:\\Users\\Ian\\git\\553.806_Capstone_HandGesture\\.venv\\Lib\\site-packages\\keras\\src\\backend.py:1398: The name tf.executing_eagerly_outside_functions is deprecated. Please use tf.compat.v1.executing_eagerly_outside_functions instead.\n",
            "\n"
          ]
        }
      ],
      "source": [
        "model = tf.keras.models.Sequential([\n",
        "    tf.keras.layers.Input((21 * 3, )),\n",
        "    tf.keras.layers.Dropout(0.1),\n",
        "    tf.keras.layers.Dense(128, activation='relu'),  # Increased units\n",
        "    tf.keras.layers.BatchNormalization(),  # Added Batch Normalization\n",
        "    tf.keras.layers.Dropout(0.1),  # Adjusted dropout rate\n",
        "    tf.keras.layers.Dense(128, activation='relu'),  # Increased units\n",
        "    tf.keras.layers.BatchNormalization(),  # Added Batch Normalization\n",
        "    tf.keras.layers.Dense(64, activation='relu'),  # Increased units\n",
        "    tf.keras.layers.Dense(NUM_CLASSES, activation='softmax')\n",
        "])"
      ]
    },
    {
      "cell_type": "code",
      "execution_count": 11,
      "metadata": {
        "colab": {
          "base_uri": "https://localhost:8080/"
        },
        "id": "ypqky9tc9hE1",
        "outputId": "5db082bb-30e3-4110-bf63-a1ee777ecd46"
      },
      "outputs": [
        {
          "name": "stdout",
          "output_type": "stream",
          "text": [
            "Model: \"sequential\"\n",
            "_________________________________________________________________\n",
            " Layer (type)                Output Shape              Param #   \n",
            "=================================================================\n",
            " dropout (Dropout)           (None, 63)                0         \n",
            "                                                                 \n",
            " dense (Dense)               (None, 128)               8192      \n",
            "                                                                 \n",
            " batch_normalization (Batch  (None, 128)               512       \n",
            " Normalization)                                                  \n",
            "                                                                 \n",
            " dropout_1 (Dropout)         (None, 128)               0         \n",
            "                                                                 \n",
            " dense_1 (Dense)             (None, 128)               16512     \n",
            "                                                                 \n",
            " batch_normalization_1 (Bat  (None, 128)               512       \n",
            " chNormalization)                                                \n",
            "                                                                 \n",
            " dense_2 (Dense)             (None, 64)                8256      \n",
            "                                                                 \n",
            " dense_3 (Dense)             (None, 12)                780       \n",
            "                                                                 \n",
            "=================================================================\n",
            "Total params: 34764 (135.80 KB)\n",
            "Trainable params: 34252 (133.80 KB)\n",
            "Non-trainable params: 512 (2.00 KB)\n",
            "_________________________________________________________________\n"
          ]
        }
      ],
      "source": [
        "model.summary()  # tf.keras.utils.plot_model(model, show_shapes=True)"
      ]
    },
    {
      "cell_type": "code",
      "execution_count": 12,
      "metadata": {
        "id": "MbMjOflQ9hE1"
      },
      "outputs": [],
      "source": [
        "# Model checkpoint callback\n",
        "cp_callback = tf.keras.callbacks.ModelCheckpoint(\n",
        "    model_save_path, verbose=1, save_weights_only=False)\n",
        "# Callback for early stopping\n",
        "es_callback = tf.keras.callbacks.EarlyStopping(patience=30, verbose=1)"
      ]
    },
    {
      "cell_type": "code",
      "execution_count": 13,
      "metadata": {
        "id": "c3Dac0M_9hE2"
      },
      "outputs": [
        {
          "name": "stdout",
          "output_type": "stream",
          "text": [
            "WARNING:tensorflow:From c:\\Users\\Ian\\git\\553.806_Capstone_HandGesture\\.venv\\Lib\\site-packages\\keras\\src\\optimizers\\__init__.py:309: The name tf.train.Optimizer is deprecated. Please use tf.compat.v1.train.Optimizer instead.\n",
            "\n"
          ]
        }
      ],
      "source": [
        "# Model compilation\n",
        "model.compile(\n",
        "    optimizer='adam',\n",
        "    loss='sparse_categorical_crossentropy',\n",
        "    metrics=['accuracy']\n",
        ")"
      ]
    },
    {
      "cell_type": "markdown",
      "metadata": {
        "id": "7XI0j1Iu9hE2"
      },
      "source": [
        "# Model training"
      ]
    },
    {
      "cell_type": "code",
      "execution_count": 14,
      "metadata": {},
      "outputs": [
        {
          "data": {
            "text/plain": [
              "<keras.src.callbacks.EarlyStopping at 0x1c8d5787bd0>"
            ]
          },
          "execution_count": 14,
          "metadata": {},
          "output_type": "execute_result"
        }
      ],
      "source": [
        "es_callback"
      ]
    },
    {
      "cell_type": "code",
      "execution_count": 15,
      "metadata": {
        "colab": {
          "base_uri": "https://localhost:8080/"
        },
        "id": "WirBl-JE9hE3",
        "outputId": "71b30ca2-8294-4d9d-8aa2-800d90d399de",
        "scrolled": true
      },
      "outputs": [
        {
          "name": "stdout",
          "output_type": "stream",
          "text": [
            "Epoch 1/1000\n"
          ]
        },
        {
          "name": "stdout",
          "output_type": "stream",
          "text": [
            "WARNING:tensorflow:From c:\\Users\\Ian\\git\\553.806_Capstone_HandGesture\\.venv\\Lib\\site-packages\\keras\\src\\utils\\tf_utils.py:492: The name tf.ragged.RaggedTensorValue is deprecated. Please use tf.compat.v1.ragged.RaggedTensorValue instead.\n",
            "\n",
            "WARNING:tensorflow:From c:\\Users\\Ian\\git\\553.806_Capstone_HandGesture\\.venv\\Lib\\site-packages\\keras\\src\\engine\\base_layer_utils.py:384: The name tf.executing_eagerly_outside_functions is deprecated. Please use tf.compat.v1.executing_eagerly_outside_functions instead.\n",
            "\n",
            "71/71 [==============================] - ETA: 0s - loss: 2.3809 - accuracy: 0.1854\n",
            "Epoch 1: saving model to models\\keypoint_classifier.hdf5\n",
            "71/71 [==============================] - 3s 8ms/step - loss: 2.3809 - accuracy: 0.1854 - val_loss: 2.4155 - val_accuracy: 0.1667\n",
            "Epoch 2/1000\n",
            "37/71 [==============>...............] - ETA: 0s - loss: 2.0863 - accuracy: 0.2741"
          ]
        },
        {
          "name": "stderr",
          "output_type": "stream",
          "text": [
            "c:\\Users\\Ian\\git\\553.806_Capstone_HandGesture\\.venv\\Lib\\site-packages\\keras\\src\\engine\\training.py:3103: UserWarning: You are saving your model as an HDF5 file via `model.save()`. This file format is considered legacy. We recommend using instead the native Keras format, e.g. `model.save('my_model.keras')`.\n",
            "  saving_api.save_model(\n"
          ]
        },
        {
          "name": "stdout",
          "output_type": "stream",
          "text": [
            "55/71 [======================>.......] - ETA: 0s - loss: 2.0460 - accuracy: 0.2920\n",
            "Epoch 2: saving model to models\\keypoint_classifier.hdf5\n",
            "71/71 [==============================] - 0s 4ms/step - loss: 2.0318 - accuracy: 0.2972 - val_loss: 2.2780 - val_accuracy: 0.1893\n",
            "Epoch 3/1000\n",
            "55/71 [======================>.......] - ETA: 0s - loss: 1.8888 - accuracy: 0.3562\n",
            "Epoch 3: saving model to models\\keypoint_classifier.hdf5\n",
            "71/71 [==============================] - 0s 4ms/step - loss: 1.8782 - accuracy: 0.3598 - val_loss: 2.0504 - val_accuracy: 0.2930\n",
            "Epoch 4/1000\n",
            "55/71 [======================>.......] - ETA: 0s - loss: 1.7570 - accuracy: 0.4010\n",
            "Epoch 4: saving model to models\\keypoint_classifier.hdf5\n",
            "71/71 [==============================] - 0s 4ms/step - loss: 1.7562 - accuracy: 0.3988 - val_loss: 1.8079 - val_accuracy: 0.4287\n",
            "Epoch 5/1000\n",
            "56/71 [======================>.......] - ETA: 0s - loss: 1.6225 - accuracy: 0.4484\n",
            "Epoch 5: saving model to models\\keypoint_classifier.hdf5\n",
            "71/71 [==============================] - 0s 4ms/step - loss: 1.6137 - accuracy: 0.4523 - val_loss: 1.5389 - val_accuracy: 0.5303\n",
            "Epoch 6/1000\n",
            "57/71 [=======================>......] - ETA: 0s - loss: 1.4911 - accuracy: 0.4941\n",
            "Epoch 6: saving model to models\\keypoint_classifier.hdf5\n",
            "71/71 [==============================] - 0s 4ms/step - loss: 1.4783 - accuracy: 0.4990 - val_loss: 1.2752 - val_accuracy: 0.6403\n",
            "Epoch 7/1000\n",
            "56/71 [======================>.......] - ETA: 0s - loss: 1.3459 - accuracy: 0.5467\n",
            "Epoch 7: saving model to models\\keypoint_classifier.hdf5\n",
            "71/71 [==============================] - 0s 4ms/step - loss: 1.3265 - accuracy: 0.5522 - val_loss: 1.0287 - val_accuracy: 0.6737\n",
            "Epoch 8/1000\n",
            "55/71 [======================>.......] - ETA: 0s - loss: 1.2218 - accuracy: 0.5801\n",
            "Epoch 8: saving model to models\\keypoint_classifier.hdf5\n",
            "71/71 [==============================] - 0s 4ms/step - loss: 1.1984 - accuracy: 0.5881 - val_loss: 1.0171 - val_accuracy: 0.6747\n",
            "Epoch 9/1000\n",
            "55/71 [======================>.......] - ETA: 0s - loss: 1.0775 - accuracy: 0.6393\n",
            "Epoch 9: saving model to models\\keypoint_classifier.hdf5\n",
            "71/71 [==============================] - 0s 4ms/step - loss: 1.0661 - accuracy: 0.6422 - val_loss: 0.6133 - val_accuracy: 0.8107\n",
            "Epoch 10/1000\n",
            "57/71 [=======================>......] - ETA: 0s - loss: 0.9624 - accuracy: 0.6779\n",
            "Epoch 10: saving model to models\\keypoint_classifier.hdf5\n",
            "71/71 [==============================] - 0s 4ms/step - loss: 0.9586 - accuracy: 0.6762 - val_loss: 0.4894 - val_accuracy: 0.8377\n",
            "Epoch 11/1000\n",
            "57/71 [=======================>......] - ETA: 0s - loss: 0.8768 - accuracy: 0.6992\n",
            "Epoch 11: saving model to models\\keypoint_classifier.hdf5\n",
            "71/71 [==============================] - 0s 4ms/step - loss: 0.8716 - accuracy: 0.7037 - val_loss: 0.5908 - val_accuracy: 0.7910\n",
            "Epoch 12/1000\n",
            "57/71 [=======================>......] - ETA: 0s - loss: 0.8090 - accuracy: 0.7219\n",
            "Epoch 12: saving model to models\\keypoint_classifier.hdf5\n",
            "71/71 [==============================] - 0s 5ms/step - loss: 0.8136 - accuracy: 0.7187 - val_loss: 0.4257 - val_accuracy: 0.8543\n",
            "Epoch 13/1000\n",
            "58/71 [=======================>......] - ETA: 0s - loss: 0.7841 - accuracy: 0.7218\n",
            "Epoch 13: saving model to models\\keypoint_classifier.hdf5\n",
            "71/71 [==============================] - 0s 4ms/step - loss: 0.7735 - accuracy: 0.7252 - val_loss: 0.4130 - val_accuracy: 0.8667\n",
            "Epoch 14/1000\n",
            "56/71 [======================>.......] - ETA: 0s - loss: 0.7294 - accuracy: 0.7517\n",
            "Epoch 14: saving model to models\\keypoint_classifier.hdf5\n",
            "71/71 [==============================] - 0s 4ms/step - loss: 0.7289 - accuracy: 0.7519 - val_loss: 0.4756 - val_accuracy: 0.8387\n",
            "Epoch 15/1000\n",
            "57/71 [=======================>......] - ETA: 0s - loss: 0.7026 - accuracy: 0.7588\n",
            "Epoch 15: saving model to models\\keypoint_classifier.hdf5\n",
            "71/71 [==============================] - 0s 4ms/step - loss: 0.7031 - accuracy: 0.7572 - val_loss: 0.3434 - val_accuracy: 0.8940\n",
            "Epoch 16/1000\n",
            "57/71 [=======================>......] - ETA: 0s - loss: 0.6732 - accuracy: 0.7659\n",
            "Epoch 16: saving model to models\\keypoint_classifier.hdf5\n",
            "71/71 [==============================] - 0s 4ms/step - loss: 0.6667 - accuracy: 0.7656 - val_loss: 0.3129 - val_accuracy: 0.9003\n",
            "Epoch 17/1000\n",
            "55/71 [======================>.......] - ETA: 0s - loss: 0.6539 - accuracy: 0.7686\n",
            "Epoch 17: saving model to models\\keypoint_classifier.hdf5\n",
            "71/71 [==============================] - 0s 4ms/step - loss: 0.6474 - accuracy: 0.7741 - val_loss: 0.4532 - val_accuracy: 0.8380\n",
            "Epoch 18/1000\n",
            "57/71 [=======================>......] - ETA: 0s - loss: 0.6372 - accuracy: 0.7778\n",
            "Epoch 18: saving model to models\\keypoint_classifier.hdf5\n",
            "71/71 [==============================] - 0s 4ms/step - loss: 0.6311 - accuracy: 0.7793 - val_loss: 0.3180 - val_accuracy: 0.8880\n",
            "Epoch 19/1000\n",
            "71/71 [==============================] - ETA: 0s - loss: 0.5959 - accuracy: 0.7960\n",
            "Epoch 19: saving model to models\\keypoint_classifier.hdf5\n",
            "71/71 [==============================] - 0s 4ms/step - loss: 0.5959 - accuracy: 0.7960 - val_loss: 0.4670 - val_accuracy: 0.8497\n",
            "Epoch 20/1000\n",
            "57/71 [=======================>......] - ETA: 0s - loss: 0.6118 - accuracy: 0.7892\n",
            "Epoch 20: saving model to models\\keypoint_classifier.hdf5\n",
            "71/71 [==============================] - 0s 4ms/step - loss: 0.6034 - accuracy: 0.7918 - val_loss: 0.4759 - val_accuracy: 0.8493\n",
            "Epoch 21/1000\n",
            "56/71 [======================>.......] - ETA: 0s - loss: 0.5733 - accuracy: 0.7948\n",
            "Epoch 21: saving model to models\\keypoint_classifier.hdf5\n",
            "71/71 [==============================] - 0s 4ms/step - loss: 0.5705 - accuracy: 0.7967 - val_loss: 0.3208 - val_accuracy: 0.8923\n",
            "Epoch 22/1000\n",
            "56/71 [======================>.......] - ETA: 0s - loss: 0.5641 - accuracy: 0.8006\n",
            "Epoch 22: saving model to models\\keypoint_classifier.hdf5\n",
            "71/71 [==============================] - 0s 4ms/step - loss: 0.5615 - accuracy: 0.8017 - val_loss: 0.3126 - val_accuracy: 0.9033\n",
            "Epoch 23/1000\n",
            "57/71 [=======================>......] - ETA: 0s - loss: 0.5469 - accuracy: 0.8102\n",
            "Epoch 23: saving model to models\\keypoint_classifier.hdf5\n",
            "71/71 [==============================] - 0s 4ms/step - loss: 0.5398 - accuracy: 0.8127 - val_loss: 0.2496 - val_accuracy: 0.9270\n",
            "Epoch 24/1000\n",
            "57/71 [=======================>......] - ETA: 0s - loss: 0.5436 - accuracy: 0.8083\n",
            "Epoch 24: saving model to models\\keypoint_classifier.hdf5\n",
            "71/71 [==============================] - 0s 4ms/step - loss: 0.5378 - accuracy: 0.8094 - val_loss: 0.2849 - val_accuracy: 0.9087\n",
            "Epoch 25/1000\n",
            "57/71 [=======================>......] - ETA: 0s - loss: 0.5367 - accuracy: 0.8110\n",
            "Epoch 25: saving model to models\\keypoint_classifier.hdf5\n",
            "71/71 [==============================] - 0s 4ms/step - loss: 0.5372 - accuracy: 0.8126 - val_loss: 0.3619 - val_accuracy: 0.8787\n",
            "Epoch 26/1000\n",
            "56/71 [======================>.......] - ETA: 0s - loss: 0.5164 - accuracy: 0.8179\n",
            "Epoch 26: saving model to models\\keypoint_classifier.hdf5\n",
            "71/71 [==============================] - 0s 4ms/step - loss: 0.5109 - accuracy: 0.8192 - val_loss: 0.2781 - val_accuracy: 0.9110\n",
            "Epoch 27/1000\n",
            "57/71 [=======================>......] - ETA: 0s - loss: 0.5219 - accuracy: 0.8191\n",
            "Epoch 27: saving model to models\\keypoint_classifier.hdf5\n",
            "71/71 [==============================] - 0s 4ms/step - loss: 0.5189 - accuracy: 0.8182 - val_loss: 0.3003 - val_accuracy: 0.8980\n",
            "Epoch 28/1000\n",
            "58/71 [=======================>......] - ETA: 0s - loss: 0.5032 - accuracy: 0.8178\n",
            "Epoch 28: saving model to models\\keypoint_classifier.hdf5\n",
            "71/71 [==============================] - 0s 4ms/step - loss: 0.4996 - accuracy: 0.8191 - val_loss: 0.2565 - val_accuracy: 0.9207\n",
            "Epoch 29/1000\n",
            "57/71 [=======================>......] - ETA: 0s - loss: 0.4744 - accuracy: 0.8336\n",
            "Epoch 29: saving model to models\\keypoint_classifier.hdf5\n",
            "71/71 [==============================] - 0s 4ms/step - loss: 0.4710 - accuracy: 0.8348 - val_loss: 0.2847 - val_accuracy: 0.9103\n",
            "Epoch 30/1000\n",
            "57/71 [=======================>......] - ETA: 0s - loss: 0.4688 - accuracy: 0.8326\n",
            "Epoch 30: saving model to models\\keypoint_classifier.hdf5\n",
            "71/71 [==============================] - 0s 4ms/step - loss: 0.4647 - accuracy: 0.8343 - val_loss: 0.3794 - val_accuracy: 0.8717\n",
            "Epoch 31/1000\n",
            "58/71 [=======================>......] - ETA: 0s - loss: 0.4679 - accuracy: 0.8373\n",
            "Epoch 31: saving model to models\\keypoint_classifier.hdf5\n",
            "71/71 [==============================] - 0s 4ms/step - loss: 0.4678 - accuracy: 0.8383 - val_loss: 0.3229 - val_accuracy: 0.8867\n",
            "Epoch 32/1000\n",
            "58/71 [=======================>......] - ETA: 0s - loss: 0.4650 - accuracy: 0.8354\n",
            "Epoch 32: saving model to models\\keypoint_classifier.hdf5\n",
            "71/71 [==============================] - 0s 4ms/step - loss: 0.4623 - accuracy: 0.8367 - val_loss: 0.2448 - val_accuracy: 0.9213\n",
            "Epoch 33/1000\n",
            "58/71 [=======================>......] - ETA: 0s - loss: 0.4528 - accuracy: 0.8425\n",
            "Epoch 33: saving model to models\\keypoint_classifier.hdf5\n",
            "71/71 [==============================] - 0s 4ms/step - loss: 0.4538 - accuracy: 0.8424 - val_loss: 0.3284 - val_accuracy: 0.8817\n",
            "Epoch 34/1000\n",
            "58/71 [=======================>......] - ETA: 0s - loss: 0.4451 - accuracy: 0.8489\n",
            "Epoch 34: saving model to models\\keypoint_classifier.hdf5\n",
            "71/71 [==============================] - 0s 4ms/step - loss: 0.4428 - accuracy: 0.8481 - val_loss: 0.2738 - val_accuracy: 0.9143\n",
            "Epoch 35/1000\n",
            "58/71 [=======================>......] - ETA: 0s - loss: 0.4502 - accuracy: 0.8432\n",
            "Epoch 35: saving model to models\\keypoint_classifier.hdf5\n",
            "71/71 [==============================] - 0s 4ms/step - loss: 0.4426 - accuracy: 0.8448 - val_loss: 0.2949 - val_accuracy: 0.8903\n",
            "Epoch 36/1000\n",
            "58/71 [=======================>......] - ETA: 0s - loss: 0.4377 - accuracy: 0.8442\n",
            "Epoch 36: saving model to models\\keypoint_classifier.hdf5\n",
            "71/71 [==============================] - 0s 4ms/step - loss: 0.4436 - accuracy: 0.8438 - val_loss: 0.2616 - val_accuracy: 0.9153\n",
            "Epoch 37/1000\n",
            "57/71 [=======================>......] - ETA: 0s - loss: 0.4205 - accuracy: 0.8505\n",
            "Epoch 37: saving model to models\\keypoint_classifier.hdf5\n",
            "71/71 [==============================] - 0s 4ms/step - loss: 0.4202 - accuracy: 0.8508 - val_loss: 0.2954 - val_accuracy: 0.9033\n",
            "Epoch 38/1000\n",
            "60/71 [========================>.....] - ETA: 0s - loss: 0.4181 - accuracy: 0.8488\n",
            "Epoch 38: saving model to models\\keypoint_classifier.hdf5\n",
            "71/71 [==============================] - 0s 5ms/step - loss: 0.4158 - accuracy: 0.8502 - val_loss: 0.2926 - val_accuracy: 0.8947\n",
            "Epoch 39/1000\n",
            "58/71 [=======================>......] - ETA: 0s - loss: 0.4158 - accuracy: 0.8544\n",
            "Epoch 39: saving model to models\\keypoint_classifier.hdf5\n",
            "71/71 [==============================] - 0s 4ms/step - loss: 0.4143 - accuracy: 0.8542 - val_loss: 0.2697 - val_accuracy: 0.9123\n",
            "Epoch 40/1000\n",
            "58/71 [=======================>......] - ETA: 0s - loss: 0.4114 - accuracy: 0.8514\n",
            "Epoch 40: saving model to models\\keypoint_classifier.hdf5\n",
            "71/71 [==============================] - 0s 4ms/step - loss: 0.4065 - accuracy: 0.8544 - val_loss: 0.2487 - val_accuracy: 0.9220\n",
            "Epoch 41/1000\n",
            "58/71 [=======================>......] - ETA: 0s - loss: 0.4070 - accuracy: 0.8561\n",
            "Epoch 41: saving model to models\\keypoint_classifier.hdf5\n",
            "71/71 [==============================] - 0s 4ms/step - loss: 0.4063 - accuracy: 0.8559 - val_loss: 0.2879 - val_accuracy: 0.8997\n",
            "Epoch 42/1000\n",
            "58/71 [=======================>......] - ETA: 0s - loss: 0.4053 - accuracy: 0.8516\n",
            "Epoch 42: saving model to models\\keypoint_classifier.hdf5\n",
            "71/71 [==============================] - 0s 4ms/step - loss: 0.4093 - accuracy: 0.8521 - val_loss: 0.2784 - val_accuracy: 0.9160\n",
            "Epoch 43/1000\n",
            "58/71 [=======================>......] - ETA: 0s - loss: 0.3949 - accuracy: 0.8575\n",
            "Epoch 43: saving model to models\\keypoint_classifier.hdf5\n",
            "71/71 [==============================] - 0s 4ms/step - loss: 0.4017 - accuracy: 0.8556 - val_loss: 0.2552 - val_accuracy: 0.9230\n",
            "Epoch 44/1000\n",
            "53/71 [=====================>........] - ETA: 0s - loss: 0.3954 - accuracy: 0.8585\n",
            "Epoch 44: saving model to models\\keypoint_classifier.hdf5\n",
            "71/71 [==============================] - 0s 4ms/step - loss: 0.3953 - accuracy: 0.8580 - val_loss: 0.2953 - val_accuracy: 0.9080\n",
            "Epoch 45/1000\n",
            "58/71 [=======================>......] - ETA: 0s - loss: 0.3891 - accuracy: 0.8584\n",
            "Epoch 45: saving model to models\\keypoint_classifier.hdf5\n",
            "71/71 [==============================] - 0s 4ms/step - loss: 0.3934 - accuracy: 0.8586 - val_loss: 0.3784 - val_accuracy: 0.8840\n",
            "Epoch 46/1000\n",
            "58/71 [=======================>......] - ETA: 0s - loss: 0.3874 - accuracy: 0.8605\n",
            "Epoch 46: saving model to models\\keypoint_classifier.hdf5\n",
            "71/71 [==============================] - 0s 4ms/step - loss: 0.3774 - accuracy: 0.8636 - val_loss: 0.2665 - val_accuracy: 0.9070\n",
            "Epoch 47/1000\n",
            "57/71 [=======================>......] - ETA: 0s - loss: 0.3786 - accuracy: 0.8651\n",
            "Epoch 47: saving model to models\\keypoint_classifier.hdf5\n",
            "71/71 [==============================] - 0s 4ms/step - loss: 0.3774 - accuracy: 0.8669 - val_loss: 0.3207 - val_accuracy: 0.8947\n",
            "Epoch 48/1000\n",
            "58/71 [=======================>......] - ETA: 0s - loss: 0.3687 - accuracy: 0.8664\n",
            "Epoch 48: saving model to models\\keypoint_classifier.hdf5\n",
            "71/71 [==============================] - 0s 4ms/step - loss: 0.3662 - accuracy: 0.8683 - val_loss: 0.2149 - val_accuracy: 0.9370\n",
            "Epoch 49/1000\n",
            "58/71 [=======================>......] - ETA: 0s - loss: 0.3760 - accuracy: 0.8657\n",
            "Epoch 49: saving model to models\\keypoint_classifier.hdf5\n",
            "71/71 [==============================] - 0s 4ms/step - loss: 0.3772 - accuracy: 0.8642 - val_loss: 0.2929 - val_accuracy: 0.9117\n",
            "Epoch 50/1000\n",
            "58/71 [=======================>......] - ETA: 0s - loss: 0.3735 - accuracy: 0.8689\n",
            "Epoch 50: saving model to models\\keypoint_classifier.hdf5\n",
            "71/71 [==============================] - 0s 4ms/step - loss: 0.3711 - accuracy: 0.8691 - val_loss: 0.2026 - val_accuracy: 0.9407\n",
            "Epoch 51/1000\n",
            "56/71 [======================>.......] - ETA: 0s - loss: 0.3589 - accuracy: 0.8712\n",
            "Epoch 51: saving model to models\\keypoint_classifier.hdf5\n",
            "71/71 [==============================] - 0s 4ms/step - loss: 0.3680 - accuracy: 0.8679 - val_loss: 0.3276 - val_accuracy: 0.8793\n",
            "Epoch 52/1000\n",
            "71/71 [==============================] - ETA: 0s - loss: 0.3520 - accuracy: 0.8754\n",
            "Epoch 52: saving model to models\\keypoint_classifier.hdf5\n",
            "71/71 [==============================] - 0s 5ms/step - loss: 0.3520 - accuracy: 0.8754 - val_loss: 0.3197 - val_accuracy: 0.8993\n",
            "Epoch 53/1000\n",
            "68/71 [===========================>..] - ETA: 0s - loss: 0.3643 - accuracy: 0.8678\n",
            "Epoch 53: saving model to models\\keypoint_classifier.hdf5\n",
            "71/71 [==============================] - 0s 5ms/step - loss: 0.3632 - accuracy: 0.8688 - val_loss: 0.2934 - val_accuracy: 0.9023\n",
            "Epoch 54/1000\n",
            "65/71 [==========================>...] - ETA: 0s - loss: 0.3544 - accuracy: 0.8725\n",
            "Epoch 54: saving model to models\\keypoint_classifier.hdf5\n",
            "71/71 [==============================] - 0s 6ms/step - loss: 0.3582 - accuracy: 0.8723 - val_loss: 0.2344 - val_accuracy: 0.9223\n",
            "Epoch 55/1000\n",
            "64/71 [==========================>...] - ETA: 0s - loss: 0.3482 - accuracy: 0.8730\n",
            "Epoch 55: saving model to models\\keypoint_classifier.hdf5\n",
            "71/71 [==============================] - 0s 5ms/step - loss: 0.3554 - accuracy: 0.8722 - val_loss: 0.3766 - val_accuracy: 0.8700\n",
            "Epoch 56/1000\n",
            "64/71 [==========================>...] - ETA: 0s - loss: 0.3497 - accuracy: 0.8699\n",
            "Epoch 56: saving model to models\\keypoint_classifier.hdf5\n",
            "71/71 [==============================] - 0s 5ms/step - loss: 0.3521 - accuracy: 0.8701 - val_loss: 0.1970 - val_accuracy: 0.9410\n",
            "Epoch 57/1000\n",
            "64/71 [==========================>...] - ETA: 0s - loss: 0.3408 - accuracy: 0.8773\n",
            "Epoch 57: saving model to models\\keypoint_classifier.hdf5\n",
            "71/71 [==============================] - 0s 5ms/step - loss: 0.3399 - accuracy: 0.8784 - val_loss: 0.2953 - val_accuracy: 0.9047\n",
            "Epoch 58/1000\n",
            "71/71 [==============================] - ETA: 0s - loss: 0.3613 - accuracy: 0.8698\n",
            "Epoch 58: saving model to models\\keypoint_classifier.hdf5\n",
            "71/71 [==============================] - 0s 5ms/step - loss: 0.3613 - accuracy: 0.8698 - val_loss: 0.2006 - val_accuracy: 0.9463\n",
            "Epoch 59/1000\n",
            "63/71 [=========================>....] - ETA: 0s - loss: 0.3510 - accuracy: 0.8718\n",
            "Epoch 59: saving model to models\\keypoint_classifier.hdf5\n",
            "71/71 [==============================] - 0s 5ms/step - loss: 0.3481 - accuracy: 0.8728 - val_loss: 0.2788 - val_accuracy: 0.9067\n",
            "Epoch 60/1000\n",
            "66/71 [==========================>...] - ETA: 0s - loss: 0.3360 - accuracy: 0.8788\n",
            "Epoch 60: saving model to models\\keypoint_classifier.hdf5\n",
            "71/71 [==============================] - 0s 5ms/step - loss: 0.3408 - accuracy: 0.8773 - val_loss: 0.2564 - val_accuracy: 0.9180\n",
            "Epoch 61/1000\n",
            "61/71 [========================>.....] - ETA: 0s - loss: 0.3439 - accuracy: 0.8741\n",
            "Epoch 61: saving model to models\\keypoint_classifier.hdf5\n",
            "71/71 [==============================] - 0s 5ms/step - loss: 0.3419 - accuracy: 0.8754 - val_loss: 0.2363 - val_accuracy: 0.9240\n",
            "Epoch 62/1000\n",
            "65/71 [==========================>...] - ETA: 0s - loss: 0.3319 - accuracy: 0.8770\n",
            "Epoch 62: saving model to models\\keypoint_classifier.hdf5\n",
            "71/71 [==============================] - 0s 5ms/step - loss: 0.3323 - accuracy: 0.8770 - val_loss: 0.2245 - val_accuracy: 0.9270\n",
            "Epoch 63/1000\n",
            "69/71 [============================>.] - ETA: 0s - loss: 0.3458 - accuracy: 0.8701\n",
            "Epoch 63: saving model to models\\keypoint_classifier.hdf5\n",
            "71/71 [==============================] - 0s 5ms/step - loss: 0.3457 - accuracy: 0.8707 - val_loss: 0.3392 - val_accuracy: 0.8803\n",
            "Epoch 64/1000\n",
            "71/71 [==============================] - ETA: 0s - loss: 0.3277 - accuracy: 0.8813\n",
            "Epoch 64: saving model to models\\keypoint_classifier.hdf5\n",
            "71/71 [==============================] - 0s 4ms/step - loss: 0.3277 - accuracy: 0.8813 - val_loss: 0.2903 - val_accuracy: 0.8897\n",
            "Epoch 65/1000\n",
            "54/71 [=====================>........] - ETA: 0s - loss: 0.3391 - accuracy: 0.8789\n",
            "Epoch 65: saving model to models\\keypoint_classifier.hdf5\n",
            "71/71 [==============================] - 0s 4ms/step - loss: 0.3313 - accuracy: 0.8813 - val_loss: 0.2996 - val_accuracy: 0.9033\n",
            "Epoch 66/1000\n",
            "67/71 [===========================>..] - ETA: 0s - loss: 0.3385 - accuracy: 0.8801\n",
            "Epoch 66: saving model to models\\keypoint_classifier.hdf5\n",
            "71/71 [==============================] - 0s 5ms/step - loss: 0.3365 - accuracy: 0.8806 - val_loss: 0.2608 - val_accuracy: 0.9100\n",
            "Epoch 67/1000\n",
            "67/71 [===========================>..] - ETA: 0s - loss: 0.3359 - accuracy: 0.8799\n",
            "Epoch 67: saving model to models\\keypoint_classifier.hdf5\n",
            "71/71 [==============================] - 0s 4ms/step - loss: 0.3359 - accuracy: 0.8794 - val_loss: 0.4549 - val_accuracy: 0.8547\n",
            "Epoch 68/1000\n",
            "70/71 [============================>.] - ETA: 0s - loss: 0.3373 - accuracy: 0.8808\n",
            "Epoch 68: saving model to models\\keypoint_classifier.hdf5\n",
            "71/71 [==============================] - 0s 4ms/step - loss: 0.3392 - accuracy: 0.8808 - val_loss: 0.2961 - val_accuracy: 0.8930\n",
            "Epoch 69/1000\n",
            "53/71 [=====================>........] - ETA: 0s - loss: 0.3242 - accuracy: 0.8837\n",
            "Epoch 69: saving model to models\\keypoint_classifier.hdf5\n",
            "71/71 [==============================] - 0s 4ms/step - loss: 0.3208 - accuracy: 0.8833 - val_loss: 0.2148 - val_accuracy: 0.9363\n",
            "Epoch 70/1000\n",
            "66/71 [==========================>...] - ETA: 0s - loss: 0.3042 - accuracy: 0.8880\n",
            "Epoch 70: saving model to models\\keypoint_classifier.hdf5\n",
            "71/71 [==============================] - 0s 5ms/step - loss: 0.3059 - accuracy: 0.8884 - val_loss: 0.1836 - val_accuracy: 0.9490\n",
            "Epoch 71/1000\n",
            "65/71 [==========================>...] - ETA: 0s - loss: 0.3234 - accuracy: 0.8862\n",
            "Epoch 71: saving model to models\\keypoint_classifier.hdf5\n",
            "71/71 [==============================] - 0s 6ms/step - loss: 0.3241 - accuracy: 0.8859 - val_loss: 0.2438 - val_accuracy: 0.9263\n",
            "Epoch 72/1000\n",
            "64/71 [==========================>...] - ETA: 0s - loss: 0.3321 - accuracy: 0.8794\n",
            "Epoch 72: saving model to models\\keypoint_classifier.hdf5\n",
            "71/71 [==============================] - 0s 5ms/step - loss: 0.3313 - accuracy: 0.8793 - val_loss: 0.2034 - val_accuracy: 0.9387\n",
            "Epoch 73/1000\n",
            "67/71 [===========================>..] - ETA: 0s - loss: 0.3024 - accuracy: 0.8892\n",
            "Epoch 73: saving model to models\\keypoint_classifier.hdf5\n",
            "71/71 [==============================] - 0s 5ms/step - loss: 0.3058 - accuracy: 0.8886 - val_loss: 0.3235 - val_accuracy: 0.8907\n",
            "Epoch 74/1000\n",
            "67/71 [===========================>..] - ETA: 0s - loss: 0.3267 - accuracy: 0.8795\n",
            "Epoch 74: saving model to models\\keypoint_classifier.hdf5\n",
            "71/71 [==============================] - 0s 6ms/step - loss: 0.3258 - accuracy: 0.8801 - val_loss: 0.3007 - val_accuracy: 0.8977\n",
            "Epoch 75/1000\n",
            "62/71 [=========================>....] - ETA: 0s - loss: 0.3196 - accuracy: 0.8876\n",
            "Epoch 75: saving model to models\\keypoint_classifier.hdf5\n",
            "71/71 [==============================] - 0s 5ms/step - loss: 0.3172 - accuracy: 0.8882 - val_loss: 0.3409 - val_accuracy: 0.8903\n",
            "Epoch 76/1000\n",
            "68/71 [===========================>..] - ETA: 0s - loss: 0.3178 - accuracy: 0.8840\n",
            "Epoch 76: saving model to models\\keypoint_classifier.hdf5\n",
            "71/71 [==============================] - 0s 5ms/step - loss: 0.3187 - accuracy: 0.8841 - val_loss: 0.2292 - val_accuracy: 0.9173\n",
            "Epoch 77/1000\n",
            "70/71 [============================>.] - ETA: 0s - loss: 0.3080 - accuracy: 0.8892\n",
            "Epoch 77: saving model to models\\keypoint_classifier.hdf5\n",
            "71/71 [==============================] - 0s 4ms/step - loss: 0.3073 - accuracy: 0.8897 - val_loss: 0.2774 - val_accuracy: 0.9097\n",
            "Epoch 78/1000\n",
            "70/71 [============================>.] - ETA: 0s - loss: 0.3215 - accuracy: 0.8876\n",
            "Epoch 78: saving model to models\\keypoint_classifier.hdf5\n",
            "71/71 [==============================] - 0s 4ms/step - loss: 0.3214 - accuracy: 0.8879 - val_loss: 0.2366 - val_accuracy: 0.9223\n",
            "Epoch 79/1000\n",
            "70/71 [============================>.] - ETA: 0s - loss: 0.3104 - accuracy: 0.8886\n",
            "Epoch 79: saving model to models\\keypoint_classifier.hdf5\n",
            "71/71 [==============================] - 0s 4ms/step - loss: 0.3100 - accuracy: 0.8887 - val_loss: 0.2185 - val_accuracy: 0.9230\n",
            "Epoch 80/1000\n",
            "57/71 [=======================>......] - ETA: 0s - loss: 0.3209 - accuracy: 0.8809\n",
            "Epoch 80: saving model to models\\keypoint_classifier.hdf5\n",
            "71/71 [==============================] - 0s 5ms/step - loss: 0.3180 - accuracy: 0.8840 - val_loss: 0.2397 - val_accuracy: 0.9210\n",
            "Epoch 81/1000\n",
            "56/71 [======================>.......] - ETA: 0s - loss: 0.3063 - accuracy: 0.8877\n",
            "Epoch 81: saving model to models\\keypoint_classifier.hdf5\n",
            "71/71 [==============================] - 0s 4ms/step - loss: 0.3040 - accuracy: 0.8893 - val_loss: 0.2276 - val_accuracy: 0.9303\n",
            "Epoch 82/1000\n",
            "55/71 [======================>.......] - ETA: 0s - loss: 0.3057 - accuracy: 0.8896\n",
            "Epoch 82: saving model to models\\keypoint_classifier.hdf5\n",
            "71/71 [==============================] - 0s 4ms/step - loss: 0.3004 - accuracy: 0.8911 - val_loss: 0.2604 - val_accuracy: 0.9103\n",
            "Epoch 83/1000\n",
            "55/71 [======================>.......] - ETA: 0s - loss: 0.2899 - accuracy: 0.9009\n",
            "Epoch 83: saving model to models\\keypoint_classifier.hdf5\n",
            "71/71 [==============================] - 0s 4ms/step - loss: 0.2949 - accuracy: 0.8974 - val_loss: 0.2564 - val_accuracy: 0.9150\n",
            "Epoch 84/1000\n",
            "55/71 [======================>.......] - ETA: 0s - loss: 0.2981 - accuracy: 0.8938\n",
            "Epoch 84: saving model to models\\keypoint_classifier.hdf5\n",
            "71/71 [==============================] - 0s 4ms/step - loss: 0.2986 - accuracy: 0.8914 - val_loss: 0.3291 - val_accuracy: 0.8880\n",
            "Epoch 85/1000\n",
            "55/71 [======================>.......] - ETA: 0s - loss: 0.2949 - accuracy: 0.8939\n",
            "Epoch 85: saving model to models\\keypoint_classifier.hdf5\n",
            "71/71 [==============================] - 0s 4ms/step - loss: 0.2930 - accuracy: 0.8968 - val_loss: 0.2354 - val_accuracy: 0.9260\n",
            "Epoch 86/1000\n",
            "56/71 [======================>.......] - ETA: 0s - loss: 0.3021 - accuracy: 0.8931\n",
            "Epoch 86: saving model to models\\keypoint_classifier.hdf5\n",
            "71/71 [==============================] - 0s 4ms/step - loss: 0.3058 - accuracy: 0.8921 - val_loss: 0.1774 - val_accuracy: 0.9457\n",
            "Epoch 87/1000\n",
            "55/71 [======================>.......] - ETA: 0s - loss: 0.3051 - accuracy: 0.8909\n",
            "Epoch 87: saving model to models\\keypoint_classifier.hdf5\n",
            "71/71 [==============================] - 0s 4ms/step - loss: 0.2950 - accuracy: 0.8928 - val_loss: 0.2771 - val_accuracy: 0.9023\n",
            "Epoch 88/1000\n",
            "57/71 [=======================>......] - ETA: 0s - loss: 0.2927 - accuracy: 0.8919\n",
            "Epoch 88: saving model to models\\keypoint_classifier.hdf5\n",
            "71/71 [==============================] - 0s 4ms/step - loss: 0.2938 - accuracy: 0.8933 - val_loss: 0.2207 - val_accuracy: 0.9303\n",
            "Epoch 89/1000\n",
            "55/71 [======================>.......] - ETA: 0s - loss: 0.3002 - accuracy: 0.8928\n",
            "Epoch 89: saving model to models\\keypoint_classifier.hdf5\n",
            "71/71 [==============================] - 0s 4ms/step - loss: 0.3002 - accuracy: 0.8927 - val_loss: 0.3260 - val_accuracy: 0.8757\n",
            "Epoch 90/1000\n",
            "55/71 [======================>.......] - ETA: 0s - loss: 0.3083 - accuracy: 0.8908\n",
            "Epoch 90: saving model to models\\keypoint_classifier.hdf5\n",
            "71/71 [==============================] - 0s 4ms/step - loss: 0.3004 - accuracy: 0.8947 - val_loss: 0.2431 - val_accuracy: 0.9153\n",
            "Epoch 91/1000\n",
            "57/71 [=======================>......] - ETA: 0s - loss: 0.2965 - accuracy: 0.8941\n",
            "Epoch 91: saving model to models\\keypoint_classifier.hdf5\n",
            "71/71 [==============================] - 0s 4ms/step - loss: 0.2976 - accuracy: 0.8932 - val_loss: 0.2927 - val_accuracy: 0.9033\n",
            "Epoch 92/1000\n",
            "55/71 [======================>.......] - ETA: 0s - loss: 0.2785 - accuracy: 0.8989\n",
            "Epoch 92: saving model to models\\keypoint_classifier.hdf5\n",
            "71/71 [==============================] - 0s 4ms/step - loss: 0.2887 - accuracy: 0.8954 - val_loss: 0.1775 - val_accuracy: 0.9520\n",
            "Epoch 93/1000\n",
            "56/71 [======================>.......] - ETA: 0s - loss: 0.2904 - accuracy: 0.8979\n",
            "Epoch 93: saving model to models\\keypoint_classifier.hdf5\n",
            "71/71 [==============================] - 0s 4ms/step - loss: 0.2999 - accuracy: 0.8952 - val_loss: 0.2671 - val_accuracy: 0.9027\n",
            "Epoch 94/1000\n",
            "55/71 [======================>.......] - ETA: 0s - loss: 0.2896 - accuracy: 0.8946\n",
            "Epoch 94: saving model to models\\keypoint_classifier.hdf5\n",
            "71/71 [==============================] - 0s 4ms/step - loss: 0.2944 - accuracy: 0.8930 - val_loss: 0.2556 - val_accuracy: 0.9160\n",
            "Epoch 95/1000\n",
            "62/71 [=========================>....] - ETA: 0s - loss: 0.2947 - accuracy: 0.8983\n",
            "Epoch 95: saving model to models\\keypoint_classifier.hdf5\n",
            "71/71 [==============================] - 0s 5ms/step - loss: 0.2957 - accuracy: 0.8969 - val_loss: 0.1992 - val_accuracy: 0.9313\n",
            "Epoch 96/1000\n",
            "57/71 [=======================>......] - ETA: 0s - loss: 0.2812 - accuracy: 0.8932\n",
            "Epoch 96: saving model to models\\keypoint_classifier.hdf5\n",
            "71/71 [==============================] - 0s 4ms/step - loss: 0.2870 - accuracy: 0.8939 - val_loss: 0.2224 - val_accuracy: 0.9273\n",
            "Epoch 97/1000\n",
            "57/71 [=======================>......] - ETA: 0s - loss: 0.2998 - accuracy: 0.8965\n",
            "Epoch 97: saving model to models\\keypoint_classifier.hdf5\n",
            "71/71 [==============================] - 0s 4ms/step - loss: 0.2981 - accuracy: 0.8953 - val_loss: 0.2615 - val_accuracy: 0.9097\n",
            "Epoch 98/1000\n",
            "56/71 [======================>.......] - ETA: 0s - loss: 0.2896 - accuracy: 0.8982\n",
            "Epoch 98: saving model to models\\keypoint_classifier.hdf5\n",
            "71/71 [==============================] - 0s 4ms/step - loss: 0.2888 - accuracy: 0.8979 - val_loss: 0.2180 - val_accuracy: 0.9177\n",
            "Epoch 99/1000\n",
            "55/71 [======================>.......] - ETA: 0s - loss: 0.2928 - accuracy: 0.8946\n",
            "Epoch 99: saving model to models\\keypoint_classifier.hdf5\n",
            "71/71 [==============================] - 0s 4ms/step - loss: 0.2900 - accuracy: 0.8953 - val_loss: 0.1937 - val_accuracy: 0.9457\n",
            "Epoch 100/1000\n",
            "56/71 [======================>.......] - ETA: 0s - loss: 0.2935 - accuracy: 0.8922\n",
            "Epoch 100: saving model to models\\keypoint_classifier.hdf5\n",
            "71/71 [==============================] - 0s 4ms/step - loss: 0.2863 - accuracy: 0.8947 - val_loss: 0.3182 - val_accuracy: 0.8913\n",
            "Epoch 101/1000\n",
            "57/71 [=======================>......] - ETA: 0s - loss: 0.2825 - accuracy: 0.8964\n",
            "Epoch 101: saving model to models\\keypoint_classifier.hdf5\n",
            "71/71 [==============================] - 0s 4ms/step - loss: 0.2791 - accuracy: 0.8996 - val_loss: 0.1773 - val_accuracy: 0.9503\n",
            "Epoch 102/1000\n",
            "56/71 [======================>.......] - ETA: 0s - loss: 0.2802 - accuracy: 0.9008\n",
            "Epoch 102: saving model to models\\keypoint_classifier.hdf5\n",
            "71/71 [==============================] - 0s 4ms/step - loss: 0.2760 - accuracy: 0.9013 - val_loss: 0.1938 - val_accuracy: 0.9417\n",
            "Epoch 103/1000\n",
            "58/71 [=======================>......] - ETA: 0s - loss: 0.2760 - accuracy: 0.9003\n",
            "Epoch 103: saving model to models\\keypoint_classifier.hdf5\n",
            "71/71 [==============================] - 0s 4ms/step - loss: 0.2756 - accuracy: 0.8993 - val_loss: 0.2141 - val_accuracy: 0.9240\n",
            "Epoch 104/1000\n",
            "57/71 [=======================>......] - ETA: 0s - loss: 0.2887 - accuracy: 0.8939\n",
            "Epoch 104: saving model to models\\keypoint_classifier.hdf5\n",
            "71/71 [==============================] - 0s 4ms/step - loss: 0.2799 - accuracy: 0.8962 - val_loss: 0.2903 - val_accuracy: 0.8993\n",
            "Epoch 105/1000\n",
            "58/71 [=======================>......] - ETA: 0s - loss: 0.2759 - accuracy: 0.9027\n",
            "Epoch 105: saving model to models\\keypoint_classifier.hdf5\n",
            "71/71 [==============================] - 0s 4ms/step - loss: 0.2764 - accuracy: 0.9013 - val_loss: 0.1665 - val_accuracy: 0.9567\n",
            "Epoch 106/1000\n",
            "58/71 [=======================>......] - ETA: 0s - loss: 0.2740 - accuracy: 0.9032\n",
            "Epoch 106: saving model to models\\keypoint_classifier.hdf5\n",
            "71/71 [==============================] - 0s 4ms/step - loss: 0.2735 - accuracy: 0.9023 - val_loss: 0.2432 - val_accuracy: 0.9150\n",
            "Epoch 107/1000\n",
            "55/71 [======================>.......] - ETA: 0s - loss: 0.2648 - accuracy: 0.9043\n",
            "Epoch 107: saving model to models\\keypoint_classifier.hdf5\n",
            "71/71 [==============================] - 0s 4ms/step - loss: 0.2612 - accuracy: 0.9061 - val_loss: 0.1674 - val_accuracy: 0.9493\n",
            "Epoch 108/1000\n",
            "58/71 [=======================>......] - ETA: 0s - loss: 0.2733 - accuracy: 0.9027\n",
            "Epoch 108: saving model to models\\keypoint_classifier.hdf5\n",
            "71/71 [==============================] - 0s 4ms/step - loss: 0.2789 - accuracy: 0.9014 - val_loss: 0.2093 - val_accuracy: 0.9330\n",
            "Epoch 109/1000\n",
            "56/71 [======================>.......] - ETA: 0s - loss: 0.2742 - accuracy: 0.9018\n",
            "Epoch 109: saving model to models\\keypoint_classifier.hdf5\n",
            "71/71 [==============================] - 0s 4ms/step - loss: 0.2705 - accuracy: 0.9042 - val_loss: 0.2437 - val_accuracy: 0.9137\n",
            "Epoch 110/1000\n",
            "61/71 [========================>.....] - ETA: 0s - loss: 0.2644 - accuracy: 0.9084\n",
            "Epoch 110: saving model to models\\keypoint_classifier.hdf5\n",
            "71/71 [==============================] - 0s 5ms/step - loss: 0.2666 - accuracy: 0.9074 - val_loss: 0.1772 - val_accuracy: 0.9493\n",
            "Epoch 111/1000\n",
            "57/71 [=======================>......] - ETA: 0s - loss: 0.2649 - accuracy: 0.9019\n",
            "Epoch 111: saving model to models\\keypoint_classifier.hdf5\n",
            "71/71 [==============================] - 0s 4ms/step - loss: 0.2656 - accuracy: 0.9003 - val_loss: 0.2166 - val_accuracy: 0.9207\n",
            "Epoch 112/1000\n",
            "58/71 [=======================>......] - ETA: 0s - loss: 0.2781 - accuracy: 0.8998\n",
            "Epoch 112: saving model to models\\keypoint_classifier.hdf5\n",
            "71/71 [==============================] - 0s 4ms/step - loss: 0.2788 - accuracy: 0.9004 - val_loss: 0.2014 - val_accuracy: 0.9293\n",
            "Epoch 113/1000\n",
            "57/71 [=======================>......] - ETA: 0s - loss: 0.2622 - accuracy: 0.9039\n",
            "Epoch 113: saving model to models\\keypoint_classifier.hdf5\n",
            "71/71 [==============================] - 0s 4ms/step - loss: 0.2658 - accuracy: 0.9032 - val_loss: 0.2057 - val_accuracy: 0.9410\n",
            "Epoch 114/1000\n",
            "53/71 [=====================>........] - ETA: 0s - loss: 0.2660 - accuracy: 0.9034\n",
            "Epoch 114: saving model to models\\keypoint_classifier.hdf5\n",
            "71/71 [==============================] - 0s 4ms/step - loss: 0.2652 - accuracy: 0.9031 - val_loss: 0.1789 - val_accuracy: 0.9480\n",
            "Epoch 115/1000\n",
            "55/71 [======================>.......] - ETA: 0s - loss: 0.2625 - accuracy: 0.9081\n",
            "Epoch 115: saving model to models\\keypoint_classifier.hdf5\n",
            "71/71 [==============================] - 0s 4ms/step - loss: 0.2643 - accuracy: 0.9071 - val_loss: 0.2883 - val_accuracy: 0.9067\n",
            "Epoch 116/1000\n",
            "54/71 [=====================>........] - ETA: 0s - loss: 0.2588 - accuracy: 0.9071\n",
            "Epoch 116: saving model to models\\keypoint_classifier.hdf5\n",
            "71/71 [==============================] - 0s 4ms/step - loss: 0.2605 - accuracy: 0.9050 - val_loss: 0.2063 - val_accuracy: 0.9357\n",
            "Epoch 117/1000\n",
            "58/71 [=======================>......] - ETA: 0s - loss: 0.2739 - accuracy: 0.9022\n",
            "Epoch 117: saving model to models\\keypoint_classifier.hdf5\n",
            "71/71 [==============================] - 0s 4ms/step - loss: 0.2681 - accuracy: 0.9047 - val_loss: 0.3201 - val_accuracy: 0.8837\n",
            "Epoch 118/1000\n",
            "53/71 [=====================>........] - ETA: 0s - loss: 0.2545 - accuracy: 0.9071\n",
            "Epoch 118: saving model to models\\keypoint_classifier.hdf5\n",
            "71/71 [==============================] - 0s 4ms/step - loss: 0.2539 - accuracy: 0.9072 - val_loss: 0.3130 - val_accuracy: 0.8880\n",
            "Epoch 119/1000\n",
            "66/71 [==========================>...] - ETA: 0s - loss: 0.2743 - accuracy: 0.9049\n",
            "Epoch 119: saving model to models\\keypoint_classifier.hdf5\n",
            "71/71 [==============================] - 0s 5ms/step - loss: 0.2764 - accuracy: 0.9044 - val_loss: 0.1708 - val_accuracy: 0.9500\n",
            "Epoch 120/1000\n",
            "64/71 [==========================>...] - ETA: 0s - loss: 0.2629 - accuracy: 0.9042\n",
            "Epoch 120: saving model to models\\keypoint_classifier.hdf5\n",
            "71/71 [==============================] - 0s 5ms/step - loss: 0.2654 - accuracy: 0.9030 - val_loss: 0.2552 - val_accuracy: 0.9143\n",
            "Epoch 121/1000\n",
            "71/71 [==============================] - ETA: 0s - loss: 0.2583 - accuracy: 0.9057\n",
            "Epoch 121: saving model to models\\keypoint_classifier.hdf5\n",
            "71/71 [==============================] - 0s 4ms/step - loss: 0.2583 - accuracy: 0.9057 - val_loss: 0.1757 - val_accuracy: 0.9527\n",
            "Epoch 122/1000\n",
            "68/71 [===========================>..] - ETA: 0s - loss: 0.2625 - accuracy: 0.9061\n",
            "Epoch 122: saving model to models\\keypoint_classifier.hdf5\n",
            "71/71 [==============================] - 0s 5ms/step - loss: 0.2621 - accuracy: 0.9063 - val_loss: 0.1887 - val_accuracy: 0.9443\n",
            "Epoch 123/1000\n",
            "54/71 [=====================>........] - ETA: 0s - loss: 0.2526 - accuracy: 0.9087\n",
            "Epoch 123: saving model to models\\keypoint_classifier.hdf5\n",
            "71/71 [==============================] - 0s 4ms/step - loss: 0.2546 - accuracy: 0.9081 - val_loss: 0.2607 - val_accuracy: 0.9073\n",
            "Epoch 124/1000\n",
            "54/71 [=====================>........] - ETA: 0s - loss: 0.2592 - accuracy: 0.9097\n",
            "Epoch 124: saving model to models\\keypoint_classifier.hdf5\n",
            "71/71 [==============================] - 0s 4ms/step - loss: 0.2536 - accuracy: 0.9124 - val_loss: 0.1496 - val_accuracy: 0.9603\n",
            "Epoch 125/1000\n",
            "55/71 [======================>.......] - ETA: 0s - loss: 0.2488 - accuracy: 0.9134\n",
            "Epoch 125: saving model to models\\keypoint_classifier.hdf5\n",
            "71/71 [==============================] - 0s 4ms/step - loss: 0.2512 - accuracy: 0.9103 - val_loss: 0.1689 - val_accuracy: 0.9553\n",
            "Epoch 126/1000\n",
            "54/71 [=====================>........] - ETA: 0s - loss: 0.2470 - accuracy: 0.9112\n",
            "Epoch 126: saving model to models\\keypoint_classifier.hdf5\n",
            "71/71 [==============================] - 0s 4ms/step - loss: 0.2495 - accuracy: 0.9100 - val_loss: 0.2415 - val_accuracy: 0.9153\n",
            "Epoch 127/1000\n",
            "67/71 [===========================>..] - ETA: 0s - loss: 0.2516 - accuracy: 0.9068\n",
            "Epoch 127: saving model to models\\keypoint_classifier.hdf5\n",
            "71/71 [==============================] - 0s 4ms/step - loss: 0.2519 - accuracy: 0.9072 - val_loss: 0.3239 - val_accuracy: 0.8887\n",
            "Epoch 128/1000\n",
            "70/71 [============================>.] - ETA: 0s - loss: 0.2629 - accuracy: 0.9048\n",
            "Epoch 128: saving model to models\\keypoint_classifier.hdf5\n",
            "71/71 [==============================] - 0s 5ms/step - loss: 0.2626 - accuracy: 0.9049 - val_loss: 0.1964 - val_accuracy: 0.9387\n",
            "Epoch 129/1000\n",
            "70/71 [============================>.] - ETA: 0s - loss: 0.2561 - accuracy: 0.9046\n",
            "Epoch 129: saving model to models\\keypoint_classifier.hdf5\n",
            "71/71 [==============================] - 0s 4ms/step - loss: 0.2569 - accuracy: 0.9046 - val_loss: 0.1657 - val_accuracy: 0.9527\n",
            "Epoch 130/1000\n",
            "71/71 [==============================] - ETA: 0s - loss: 0.2410 - accuracy: 0.9130\n",
            "Epoch 130: saving model to models\\keypoint_classifier.hdf5\n",
            "71/71 [==============================] - 0s 4ms/step - loss: 0.2410 - accuracy: 0.9130 - val_loss: 0.2229 - val_accuracy: 0.9337\n",
            "Epoch 131/1000\n",
            "54/71 [=====================>........] - ETA: 0s - loss: 0.2566 - accuracy: 0.9074\n",
            "Epoch 131: saving model to models\\keypoint_classifier.hdf5\n",
            "71/71 [==============================] - 0s 4ms/step - loss: 0.2530 - accuracy: 0.9067 - val_loss: 0.1613 - val_accuracy: 0.9567\n",
            "Epoch 132/1000\n",
            "55/71 [======================>.......] - ETA: 0s - loss: 0.2654 - accuracy: 0.9065\n",
            "Epoch 132: saving model to models\\keypoint_classifier.hdf5\n",
            "71/71 [==============================] - 0s 4ms/step - loss: 0.2585 - accuracy: 0.9079 - val_loss: 0.2284 - val_accuracy: 0.9180\n",
            "Epoch 133/1000\n",
            "68/71 [===========================>..] - ETA: 0s - loss: 0.2521 - accuracy: 0.9095\n",
            "Epoch 133: saving model to models\\keypoint_classifier.hdf5\n",
            "71/71 [==============================] - 0s 5ms/step - loss: 0.2525 - accuracy: 0.9094 - val_loss: 0.1701 - val_accuracy: 0.9467\n",
            "Epoch 134/1000\n",
            "55/71 [======================>.......] - ETA: 0s - loss: 0.2553 - accuracy: 0.9060\n",
            "Epoch 134: saving model to models\\keypoint_classifier.hdf5\n",
            "71/71 [==============================] - 0s 4ms/step - loss: 0.2517 - accuracy: 0.9079 - val_loss: 0.1952 - val_accuracy: 0.9393\n",
            "Epoch 135/1000\n",
            "61/71 [========================>.....] - ETA: 0s - loss: 0.2449 - accuracy: 0.9141\n",
            "Epoch 135: saving model to models\\keypoint_classifier.hdf5\n",
            "71/71 [==============================] - 0s 5ms/step - loss: 0.2448 - accuracy: 0.9148 - val_loss: 0.1707 - val_accuracy: 0.9417\n",
            "Epoch 136/1000\n",
            "70/71 [============================>.] - ETA: 0s - loss: 0.2546 - accuracy: 0.9086\n",
            "Epoch 136: saving model to models\\keypoint_classifier.hdf5\n",
            "71/71 [==============================] - 0s 4ms/step - loss: 0.2553 - accuracy: 0.9083 - val_loss: 0.2247 - val_accuracy: 0.9237\n",
            "Epoch 137/1000\n",
            "71/71 [==============================] - ETA: 0s - loss: 0.2488 - accuracy: 0.9127\n",
            "Epoch 137: saving model to models\\keypoint_classifier.hdf5\n",
            "71/71 [==============================] - 0s 5ms/step - loss: 0.2488 - accuracy: 0.9127 - val_loss: 0.2607 - val_accuracy: 0.9130\n",
            "Epoch 138/1000\n",
            "66/71 [==========================>...] - ETA: 0s - loss: 0.2467 - accuracy: 0.9124\n",
            "Epoch 138: saving model to models\\keypoint_classifier.hdf5\n",
            "71/71 [==============================] - 0s 5ms/step - loss: 0.2473 - accuracy: 0.9122 - val_loss: 0.4943 - val_accuracy: 0.8450\n",
            "Epoch 139/1000\n",
            "71/71 [==============================] - ETA: 0s - loss: 0.2518 - accuracy: 0.9061\n",
            "Epoch 139: saving model to models\\keypoint_classifier.hdf5\n",
            "71/71 [==============================] - 0s 4ms/step - loss: 0.2518 - accuracy: 0.9061 - val_loss: 0.1507 - val_accuracy: 0.9580\n",
            "Epoch 140/1000\n",
            "64/71 [==========================>...] - ETA: 0s - loss: 0.2511 - accuracy: 0.9089\n",
            "Epoch 140: saving model to models\\keypoint_classifier.hdf5\n",
            "71/71 [==============================] - 0s 5ms/step - loss: 0.2470 - accuracy: 0.9101 - val_loss: 0.2898 - val_accuracy: 0.9073\n",
            "Epoch 141/1000\n",
            "64/71 [==========================>...] - ETA: 0s - loss: 0.2368 - accuracy: 0.9164\n",
            "Epoch 141: saving model to models\\keypoint_classifier.hdf5\n",
            "71/71 [==============================] - 0s 5ms/step - loss: 0.2360 - accuracy: 0.9158 - val_loss: 0.1955 - val_accuracy: 0.9407\n",
            "Epoch 142/1000\n",
            "55/71 [======================>.......] - ETA: 0s - loss: 0.2397 - accuracy: 0.9161\n",
            "Epoch 142: saving model to models\\keypoint_classifier.hdf5\n",
            "71/71 [==============================] - 0s 4ms/step - loss: 0.2437 - accuracy: 0.9134 - val_loss: 0.1799 - val_accuracy: 0.9357\n",
            "Epoch 143/1000\n",
            "67/71 [===========================>..] - ETA: 0s - loss: 0.2376 - accuracy: 0.9114\n",
            "Epoch 143: saving model to models\\keypoint_classifier.hdf5\n",
            "71/71 [==============================] - 0s 5ms/step - loss: 0.2392 - accuracy: 0.9112 - val_loss: 0.1503 - val_accuracy: 0.9550\n",
            "Epoch 144/1000\n",
            "71/71 [==============================] - ETA: 0s - loss: 0.2395 - accuracy: 0.9171\n",
            "Epoch 144: saving model to models\\keypoint_classifier.hdf5\n",
            "71/71 [==============================] - 0s 4ms/step - loss: 0.2395 - accuracy: 0.9171 - val_loss: 0.1632 - val_accuracy: 0.9520\n",
            "Epoch 145/1000\n",
            "70/71 [============================>.] - ETA: 0s - loss: 0.2467 - accuracy: 0.9103\n",
            "Epoch 145: saving model to models\\keypoint_classifier.hdf5\n",
            "71/71 [==============================] - 0s 5ms/step - loss: 0.2470 - accuracy: 0.9102 - val_loss: 0.1645 - val_accuracy: 0.9487\n",
            "Epoch 146/1000\n",
            "71/71 [==============================] - ETA: 0s - loss: 0.2444 - accuracy: 0.9134\n",
            "Epoch 146: saving model to models\\keypoint_classifier.hdf5\n",
            "71/71 [==============================] - 0s 5ms/step - loss: 0.2444 - accuracy: 0.9134 - val_loss: 0.2448 - val_accuracy: 0.9213\n",
            "Epoch 147/1000\n",
            "71/71 [==============================] - ETA: 0s - loss: 0.2421 - accuracy: 0.9118\n",
            "Epoch 147: saving model to models\\keypoint_classifier.hdf5\n",
            "71/71 [==============================] - 0s 5ms/step - loss: 0.2421 - accuracy: 0.9118 - val_loss: 0.2470 - val_accuracy: 0.9173\n",
            "Epoch 148/1000\n",
            "70/71 [============================>.] - ETA: 0s - loss: 0.2319 - accuracy: 0.9158\n",
            "Epoch 148: saving model to models\\keypoint_classifier.hdf5\n",
            "71/71 [==============================] - 0s 4ms/step - loss: 0.2322 - accuracy: 0.9158 - val_loss: 0.2046 - val_accuracy: 0.9330\n",
            "Epoch 149/1000\n",
            "62/71 [=========================>....] - ETA: 0s - loss: 0.2243 - accuracy: 0.9223\n",
            "Epoch 149: saving model to models\\keypoint_classifier.hdf5\n",
            "71/71 [==============================] - 0s 5ms/step - loss: 0.2234 - accuracy: 0.9219 - val_loss: 0.1757 - val_accuracy: 0.9507\n",
            "Epoch 150/1000\n",
            "68/71 [===========================>..] - ETA: 0s - loss: 0.2493 - accuracy: 0.9100\n",
            "Epoch 150: saving model to models\\keypoint_classifier.hdf5\n",
            "71/71 [==============================] - 0s 5ms/step - loss: 0.2490 - accuracy: 0.9103 - val_loss: 0.1708 - val_accuracy: 0.9420\n",
            "Epoch 151/1000\n",
            "65/71 [==========================>...] - ETA: 0s - loss: 0.2436 - accuracy: 0.9119\n",
            "Epoch 151: saving model to models\\keypoint_classifier.hdf5\n",
            "71/71 [==============================] - 0s 5ms/step - loss: 0.2432 - accuracy: 0.9116 - val_loss: 0.2326 - val_accuracy: 0.9320\n",
            "Epoch 152/1000\n",
            "71/71 [==============================] - ETA: 0s - loss: 0.2426 - accuracy: 0.9106\n",
            "Epoch 152: saving model to models\\keypoint_classifier.hdf5\n",
            "71/71 [==============================] - 0s 4ms/step - loss: 0.2426 - accuracy: 0.9106 - val_loss: 0.1961 - val_accuracy: 0.9290\n",
            "Epoch 153/1000\n",
            "55/71 [======================>.......] - ETA: 0s - loss: 0.2437 - accuracy: 0.9163\n",
            "Epoch 153: saving model to models\\keypoint_classifier.hdf5\n",
            "71/71 [==============================] - 0s 4ms/step - loss: 0.2384 - accuracy: 0.9177 - val_loss: 0.1474 - val_accuracy: 0.9573\n",
            "Epoch 154/1000\n",
            "56/71 [======================>.......] - ETA: 0s - loss: 0.2394 - accuracy: 0.9122\n",
            "Epoch 154: saving model to models\\keypoint_classifier.hdf5\n",
            "71/71 [==============================] - 0s 4ms/step - loss: 0.2408 - accuracy: 0.9133 - val_loss: 0.1645 - val_accuracy: 0.9547\n",
            "Epoch 155/1000\n",
            "54/71 [=====================>........] - ETA: 0s - loss: 0.2533 - accuracy: 0.9087\n",
            "Epoch 155: saving model to models\\keypoint_classifier.hdf5\n",
            "71/71 [==============================] - 0s 5ms/step - loss: 0.2482 - accuracy: 0.9100 - val_loss: 0.2101 - val_accuracy: 0.9360\n",
            "Epoch 156/1000\n",
            "71/71 [==============================] - ETA: 0s - loss: 0.2344 - accuracy: 0.9167\n",
            "Epoch 156: saving model to models\\keypoint_classifier.hdf5\n",
            "71/71 [==============================] - 0s 4ms/step - loss: 0.2344 - accuracy: 0.9167 - val_loss: 0.1855 - val_accuracy: 0.9470\n",
            "Epoch 157/1000\n",
            "54/71 [=====================>........] - ETA: 0s - loss: 0.2118 - accuracy: 0.9217\n",
            "Epoch 157: saving model to models\\keypoint_classifier.hdf5\n",
            "71/71 [==============================] - 0s 5ms/step - loss: 0.2136 - accuracy: 0.9222 - val_loss: 0.2452 - val_accuracy: 0.9220\n",
            "Epoch 158/1000\n",
            "54/71 [=====================>........] - ETA: 0s - loss: 0.2358 - accuracy: 0.9180\n",
            "Epoch 158: saving model to models\\keypoint_classifier.hdf5\n",
            "71/71 [==============================] - 0s 5ms/step - loss: 0.2350 - accuracy: 0.9156 - val_loss: 0.1966 - val_accuracy: 0.9377\n",
            "Epoch 159/1000\n",
            "54/71 [=====================>........] - ETA: 0s - loss: 0.2368 - accuracy: 0.9144\n",
            "Epoch 159: saving model to models\\keypoint_classifier.hdf5\n",
            "71/71 [==============================] - 0s 5ms/step - loss: 0.2362 - accuracy: 0.9144 - val_loss: 0.2954 - val_accuracy: 0.8857\n",
            "Epoch 160/1000\n",
            "68/71 [===========================>..] - ETA: 0s - loss: 0.2309 - accuracy: 0.9169\n",
            "Epoch 160: saving model to models\\keypoint_classifier.hdf5\n",
            "71/71 [==============================] - 0s 5ms/step - loss: 0.2323 - accuracy: 0.9166 - val_loss: 0.2941 - val_accuracy: 0.8913\n",
            "Epoch 161/1000\n",
            "71/71 [==============================] - ETA: 0s - loss: 0.2353 - accuracy: 0.9130\n",
            "Epoch 161: saving model to models\\keypoint_classifier.hdf5\n",
            "71/71 [==============================] - 0s 5ms/step - loss: 0.2353 - accuracy: 0.9130 - val_loss: 0.2780 - val_accuracy: 0.9063\n",
            "Epoch 162/1000\n",
            "55/71 [======================>.......] - ETA: 0s - loss: 0.2254 - accuracy: 0.9182\n",
            "Epoch 162: saving model to models\\keypoint_classifier.hdf5\n",
            "71/71 [==============================] - 0s 5ms/step - loss: 0.2336 - accuracy: 0.9160 - val_loss: 0.4627 - val_accuracy: 0.8423\n",
            "Epoch 163/1000\n",
            "70/71 [============================>.] - ETA: 0s - loss: 0.2360 - accuracy: 0.9181\n",
            "Epoch 163: saving model to models\\keypoint_classifier.hdf5\n",
            "71/71 [==============================] - 0s 5ms/step - loss: 0.2358 - accuracy: 0.9182 - val_loss: 0.2684 - val_accuracy: 0.9047\n",
            "Epoch 164/1000\n",
            "71/71 [==============================] - ETA: 0s - loss: 0.2224 - accuracy: 0.9189\n",
            "Epoch 164: saving model to models\\keypoint_classifier.hdf5\n",
            "71/71 [==============================] - 0s 5ms/step - loss: 0.2224 - accuracy: 0.9189 - val_loss: 0.2529 - val_accuracy: 0.9167\n",
            "Epoch 165/1000\n",
            "55/71 [======================>.......] - ETA: 0s - loss: 0.2323 - accuracy: 0.9175\n",
            "Epoch 165: saving model to models\\keypoint_classifier.hdf5\n",
            "71/71 [==============================] - 0s 4ms/step - loss: 0.2373 - accuracy: 0.9158 - val_loss: 0.1789 - val_accuracy: 0.9463\n",
            "Epoch 166/1000\n",
            "54/71 [=====================>........] - ETA: 0s - loss: 0.2275 - accuracy: 0.9190\n",
            "Epoch 166: saving model to models\\keypoint_classifier.hdf5\n",
            "71/71 [==============================] - 0s 4ms/step - loss: 0.2255 - accuracy: 0.9189 - val_loss: 0.1513 - val_accuracy: 0.9620\n",
            "Epoch 167/1000\n",
            "54/71 [=====================>........] - ETA: 0s - loss: 0.2281 - accuracy: 0.9159\n",
            "Epoch 167: saving model to models\\keypoint_classifier.hdf5\n",
            "71/71 [==============================] - 0s 5ms/step - loss: 0.2321 - accuracy: 0.9151 - val_loss: 0.1889 - val_accuracy: 0.9357\n",
            "Epoch 168/1000\n",
            "54/71 [=====================>........] - ETA: 0s - loss: 0.2312 - accuracy: 0.9207\n",
            "Epoch 168: saving model to models\\keypoint_classifier.hdf5\n",
            "71/71 [==============================] - 0s 5ms/step - loss: 0.2307 - accuracy: 0.9211 - val_loss: 0.2610 - val_accuracy: 0.9140\n",
            "Epoch 169/1000\n",
            "70/71 [============================>.] - ETA: 0s - loss: 0.2211 - accuracy: 0.9200\n",
            "Epoch 169: saving model to models\\keypoint_classifier.hdf5\n",
            "71/71 [==============================] - 0s 4ms/step - loss: 0.2209 - accuracy: 0.9198 - val_loss: 0.1831 - val_accuracy: 0.9350\n",
            "Epoch 170/1000\n",
            "70/71 [============================>.] - ETA: 0s - loss: 0.2228 - accuracy: 0.9204\n",
            "Epoch 170: saving model to models\\keypoint_classifier.hdf5\n",
            "71/71 [==============================] - 0s 4ms/step - loss: 0.2227 - accuracy: 0.9206 - val_loss: 0.1585 - val_accuracy: 0.9547\n",
            "Epoch 171/1000\n",
            "55/71 [======================>.......] - ETA: 0s - loss: 0.2205 - accuracy: 0.9210\n",
            "Epoch 171: saving model to models\\keypoint_classifier.hdf5\n",
            "71/71 [==============================] - 0s 5ms/step - loss: 0.2233 - accuracy: 0.9207 - val_loss: 0.3640 - val_accuracy: 0.8687\n",
            "Epoch 172/1000\n",
            "70/71 [============================>.] - ETA: 0s - loss: 0.2262 - accuracy: 0.9212\n",
            "Epoch 172: saving model to models\\keypoint_classifier.hdf5\n",
            "71/71 [==============================] - 0s 4ms/step - loss: 0.2265 - accuracy: 0.9213 - val_loss: 0.2612 - val_accuracy: 0.9193\n",
            "Epoch 173/1000\n",
            "70/71 [============================>.] - ETA: 0s - loss: 0.2187 - accuracy: 0.9184\n",
            "Epoch 173: saving model to models\\keypoint_classifier.hdf5\n",
            "71/71 [==============================] - 0s 4ms/step - loss: 0.2192 - accuracy: 0.9182 - val_loss: 0.1875 - val_accuracy: 0.9407\n",
            "Epoch 174/1000\n",
            "71/71 [==============================] - ETA: 0s - loss: 0.2248 - accuracy: 0.9214\n",
            "Epoch 174: saving model to models\\keypoint_classifier.hdf5\n",
            "71/71 [==============================] - 0s 4ms/step - loss: 0.2248 - accuracy: 0.9214 - val_loss: 0.1995 - val_accuracy: 0.9383\n",
            "Epoch 175/1000\n",
            "71/71 [==============================] - ETA: 0s - loss: 0.2147 - accuracy: 0.9231\n",
            "Epoch 175: saving model to models\\keypoint_classifier.hdf5\n",
            "71/71 [==============================] - 0s 4ms/step - loss: 0.2147 - accuracy: 0.9231 - val_loss: 0.1647 - val_accuracy: 0.9507\n",
            "Epoch 176/1000\n",
            "71/71 [==============================] - ETA: 0s - loss: 0.2218 - accuracy: 0.9193\n",
            "Epoch 176: saving model to models\\keypoint_classifier.hdf5\n",
            "71/71 [==============================] - 0s 5ms/step - loss: 0.2218 - accuracy: 0.9193 - val_loss: 0.1843 - val_accuracy: 0.9347\n",
            "Epoch 177/1000\n",
            "71/71 [==============================] - ETA: 0s - loss: 0.2269 - accuracy: 0.9179\n",
            "Epoch 177: saving model to models\\keypoint_classifier.hdf5\n",
            "71/71 [==============================] - 0s 4ms/step - loss: 0.2269 - accuracy: 0.9179 - val_loss: 0.1626 - val_accuracy: 0.9533\n",
            "Epoch 178/1000\n",
            "54/71 [=====================>........] - ETA: 0s - loss: 0.2400 - accuracy: 0.9138\n",
            "Epoch 178: saving model to models\\keypoint_classifier.hdf5\n",
            "71/71 [==============================] - 0s 5ms/step - loss: 0.2363 - accuracy: 0.9138 - val_loss: 0.2191 - val_accuracy: 0.9343\n",
            "Epoch 179/1000\n",
            "68/71 [===========================>..] - ETA: 0s - loss: 0.2222 - accuracy: 0.9203\n",
            "Epoch 179: saving model to models\\keypoint_classifier.hdf5\n",
            "71/71 [==============================] - 0s 5ms/step - loss: 0.2209 - accuracy: 0.9213 - val_loss: 0.1941 - val_accuracy: 0.9327\n",
            "Epoch 180/1000\n",
            "69/71 [============================>.] - ETA: 0s - loss: 0.2139 - accuracy: 0.9230\n",
            "Epoch 180: saving model to models\\keypoint_classifier.hdf5\n",
            "71/71 [==============================] - 0s 5ms/step - loss: 0.2151 - accuracy: 0.9222 - val_loss: 0.2069 - val_accuracy: 0.9263\n",
            "Epoch 181/1000\n",
            "67/71 [===========================>..] - ETA: 0s - loss: 0.2150 - accuracy: 0.9226\n",
            "Epoch 181: saving model to models\\keypoint_classifier.hdf5\n",
            "71/71 [==============================] - 0s 5ms/step - loss: 0.2145 - accuracy: 0.9228 - val_loss: 0.1554 - val_accuracy: 0.9617\n",
            "Epoch 182/1000\n",
            "71/71 [==============================] - ETA: 0s - loss: 0.2253 - accuracy: 0.9166\n",
            "Epoch 182: saving model to models\\keypoint_classifier.hdf5\n",
            "71/71 [==============================] - 0s 5ms/step - loss: 0.2253 - accuracy: 0.9166 - val_loss: 0.1729 - val_accuracy: 0.9480\n",
            "Epoch 183/1000\n",
            "55/71 [======================>.......] - ETA: 0s - loss: 0.2077 - accuracy: 0.9243\n",
            "Epoch 183: saving model to models\\keypoint_classifier.hdf5\n",
            "71/71 [==============================] - 0s 4ms/step - loss: 0.2148 - accuracy: 0.9213 - val_loss: 0.2488 - val_accuracy: 0.9277\n",
            "Epoch 183: early stopping\n"
          ]
        },
        {
          "data": {
            "text/plain": [
              "<keras.src.callbacks.History at 0x1c890e65310>"
            ]
          },
          "execution_count": 15,
          "metadata": {},
          "output_type": "execute_result"
        }
      ],
      "source": [
        "model.fit(\n",
        "    X_train,\n",
        "    y_train,\n",
        "    epochs=1000,\n",
        "    batch_size=128,\n",
        "    validation_data=(X_test, y_test),\n",
        "    callbacks=[cp_callback, es_callback]\n",
        ")"
      ]
    },
    {
      "cell_type": "code",
      "execution_count": 16,
      "metadata": {
        "colab": {
          "base_uri": "https://localhost:8080/"
        },
        "id": "pxvb2Y299hE3",
        "outputId": "59eb3185-2e37-4b9e-bc9d-ab1b8ac29b7f"
      },
      "outputs": [
        {
          "name": "stdout",
          "output_type": "stream",
          "text": [
            "24/24 [==============================] - 0s 1ms/step - loss: 0.2488 - accuracy: 0.9277\n"
          ]
        }
      ],
      "source": [
        "# Model evaluation\n",
        "val_loss, val_acc = model.evaluate(X_test, y_test, batch_size=128)"
      ]
    },
    {
      "cell_type": "code",
      "execution_count": 17,
      "metadata": {
        "id": "RBkmDeUW9hE4"
      },
      "outputs": [],
      "source": [
        "# Loading the saved model\n",
        "model = tf.keras.models.load_model(model_save_path)"
      ]
    },
    {
      "cell_type": "code",
      "execution_count": 18,
      "metadata": {
        "colab": {
          "base_uri": "https://localhost:8080/"
        },
        "id": "tFz9Tb0I9hE4",
        "outputId": "1c3b3528-54ae-4ee2-ab04-77429211cbef"
      },
      "outputs": [
        {
          "name": "stdout",
          "output_type": "stream",
          "text": [
            "1/1 [==============================] - 0s 177ms/step\n",
            "[3.6583618e-09 1.0000000e+00 1.1888172e-14 4.5477760e-20 9.9171235e-13\n",
            " 5.6399617e-08 6.8367820e-16 6.5060768e-10 1.2168829e-12 1.6563619e-11\n",
            " 8.8271760e-12 1.6093557e-15]\n",
            "1\n"
          ]
        }
      ],
      "source": [
        "# Inference test\n",
        "predict_result = model.predict(np.array([X_test[0]]))\n",
        "print(np.squeeze(predict_result))\n",
        "print(np.argmax(np.squeeze(predict_result)))"
      ]
    },
    {
      "cell_type": "markdown",
      "metadata": {},
      "source": [
        "# Integrate with secondary model"
      ]
    },
    {
      "cell_type": "code",
      "execution_count": 19,
      "metadata": {},
      "outputs": [],
      "source": [
        "# Determine the index of 'stop' and 'palm'\n",
        "label_stop = LABELS.index('stop')\n",
        "label_palm = LABELS.index('palm')\n",
        "\n",
        "# Filter out samples for 'stop' and 'palm'\n",
        "secondary_X = X_dataset_preprocessed[np.logical_or(y_dataset == label_stop, y_dataset == label_palm)]\n",
        "secondary_y = y_dataset[np.logical_or(y_dataset == label_stop, y_dataset == label_palm)]\n",
        "\n",
        "# Create binary labels (0 and 1) for 'stop' and 'palm'\n",
        "secondary_y = np.where(secondary_y == label_stop, 0, 1)  # Set 'stop' to 0, 'palm' to 1\n",
        "\n",
        "# Split secondary data sets\n",
        "X_train_secondary, X_test_secondary, y_train_secondary, y_test_secondary = train_test_split(\n",
        "    secondary_X, secondary_y, train_size=0.75, random_state=RANDOM_SEED\n",
        ")"
      ]
    },
    {
      "cell_type": "code",
      "execution_count": 20,
      "metadata": {},
      "outputs": [
        {
          "name": "stdout",
          "output_type": "stream",
          "text": [
            "Epoch 1/100\n",
            "47/47 [==============================] - 1s 7ms/step - loss: 0.7013 - accuracy: 0.4927 - val_loss: 0.6899 - val_accuracy: 0.5420\n",
            "Epoch 2/100\n",
            "47/47 [==============================] - 0s 2ms/step - loss: 0.6840 - accuracy: 0.5553 - val_loss: 0.6748 - val_accuracy: 0.6920\n",
            "Epoch 3/100\n",
            "47/47 [==============================] - 0s 2ms/step - loss: 0.6751 - accuracy: 0.6233 - val_loss: 0.6638 - val_accuracy: 0.6920\n",
            "Epoch 4/100\n",
            "47/47 [==============================] - 0s 2ms/step - loss: 0.6607 - accuracy: 0.6407 - val_loss: 0.6536 - val_accuracy: 0.6180\n",
            "Epoch 5/100\n",
            "47/47 [==============================] - 0s 2ms/step - loss: 0.6461 - accuracy: 0.6353 - val_loss: 0.6300 - val_accuracy: 0.7020\n",
            "Epoch 6/100\n",
            "47/47 [==============================] - 0s 2ms/step - loss: 0.6305 - accuracy: 0.6600 - val_loss: 0.6095 - val_accuracy: 0.7080\n",
            "Epoch 7/100\n",
            "47/47 [==============================] - 0s 2ms/step - loss: 0.6146 - accuracy: 0.6853 - val_loss: 0.5908 - val_accuracy: 0.7180\n",
            "Epoch 8/100\n",
            "47/47 [==============================] - 0s 2ms/step - loss: 0.6127 - accuracy: 0.6873 - val_loss: 0.6127 - val_accuracy: 0.6380\n",
            "Epoch 9/100\n",
            "47/47 [==============================] - 0s 2ms/step - loss: 0.5965 - accuracy: 0.6860 - val_loss: 0.5701 - val_accuracy: 0.7300\n",
            "Epoch 10/100\n",
            "47/47 [==============================] - 0s 2ms/step - loss: 0.5822 - accuracy: 0.6987 - val_loss: 0.5669 - val_accuracy: 0.7160\n",
            "Epoch 11/100\n",
            "47/47 [==============================] - 0s 2ms/step - loss: 0.5907 - accuracy: 0.6973 - val_loss: 0.5827 - val_accuracy: 0.6860\n",
            "Epoch 12/100\n",
            "47/47 [==============================] - 0s 2ms/step - loss: 0.5716 - accuracy: 0.7187 - val_loss: 0.5621 - val_accuracy: 0.6960\n",
            "Epoch 13/100\n",
            "47/47 [==============================] - 0s 2ms/step - loss: 0.5642 - accuracy: 0.7207 - val_loss: 0.5636 - val_accuracy: 0.7100\n",
            "Epoch 14/100\n",
            "47/47 [==============================] - 0s 2ms/step - loss: 0.5711 - accuracy: 0.7007 - val_loss: 0.5306 - val_accuracy: 0.7540\n",
            "Epoch 15/100\n",
            "47/47 [==============================] - 0s 2ms/step - loss: 0.5472 - accuracy: 0.7300 - val_loss: 0.5197 - val_accuracy: 0.7560\n",
            "Epoch 16/100\n",
            "47/47 [==============================] - 0s 2ms/step - loss: 0.5355 - accuracy: 0.7367 - val_loss: 0.5173 - val_accuracy: 0.7640\n",
            "Epoch 17/100\n",
            "47/47 [==============================] - 0s 2ms/step - loss: 0.5321 - accuracy: 0.7480 - val_loss: 0.4974 - val_accuracy: 0.7820\n",
            "Epoch 18/100\n",
            "47/47 [==============================] - 0s 2ms/step - loss: 0.5148 - accuracy: 0.7680 - val_loss: 0.4892 - val_accuracy: 0.7800\n",
            "Epoch 19/100\n",
            "47/47 [==============================] - 0s 2ms/step - loss: 0.5052 - accuracy: 0.7740 - val_loss: 0.4788 - val_accuracy: 0.7960\n",
            "Epoch 20/100\n",
            "47/47 [==============================] - 0s 3ms/step - loss: 0.5005 - accuracy: 0.7600 - val_loss: 0.5336 - val_accuracy: 0.7360\n",
            "Epoch 21/100\n",
            "47/47 [==============================] - 0s 3ms/step - loss: 0.5134 - accuracy: 0.7493 - val_loss: 0.4748 - val_accuracy: 0.7880\n",
            "Epoch 22/100\n",
            "47/47 [==============================] - 0s 2ms/step - loss: 0.4821 - accuracy: 0.7800 - val_loss: 0.4455 - val_accuracy: 0.8140\n",
            "Epoch 23/100\n",
            "47/47 [==============================] - 0s 2ms/step - loss: 0.4832 - accuracy: 0.7667 - val_loss: 0.4348 - val_accuracy: 0.8360\n",
            "Epoch 24/100\n",
            "47/47 [==============================] - 0s 2ms/step - loss: 0.4550 - accuracy: 0.8007 - val_loss: 0.4309 - val_accuracy: 0.8240\n",
            "Epoch 25/100\n",
            "47/47 [==============================] - 0s 2ms/step - loss: 0.4615 - accuracy: 0.7840 - val_loss: 0.4277 - val_accuracy: 0.8080\n",
            "Epoch 26/100\n",
            "47/47 [==============================] - 0s 2ms/step - loss: 0.4460 - accuracy: 0.8093 - val_loss: 0.4317 - val_accuracy: 0.7980\n",
            "Epoch 27/100\n",
            "47/47 [==============================] - 0s 2ms/step - loss: 0.4316 - accuracy: 0.8153 - val_loss: 0.4625 - val_accuracy: 0.7580\n",
            "Epoch 28/100\n",
            "47/47 [==============================] - 0s 2ms/step - loss: 0.4217 - accuracy: 0.8167 - val_loss: 0.3834 - val_accuracy: 0.8480\n",
            "Epoch 29/100\n",
            "47/47 [==============================] - 0s 2ms/step - loss: 0.4133 - accuracy: 0.8213 - val_loss: 0.3697 - val_accuracy: 0.8600\n",
            "Epoch 30/100\n",
            "47/47 [==============================] - 0s 2ms/step - loss: 0.3947 - accuracy: 0.8333 - val_loss: 0.3790 - val_accuracy: 0.8400\n",
            "Epoch 31/100\n",
            "47/47 [==============================] - 0s 2ms/step - loss: 0.3736 - accuracy: 0.8527 - val_loss: 0.3480 - val_accuracy: 0.8720\n",
            "Epoch 32/100\n",
            "47/47 [==============================] - 0s 2ms/step - loss: 0.3723 - accuracy: 0.8500 - val_loss: 0.3472 - val_accuracy: 0.8660\n",
            "Epoch 33/100\n",
            "47/47 [==============================] - 0s 2ms/step - loss: 0.3619 - accuracy: 0.8640 - val_loss: 0.3312 - val_accuracy: 0.8740\n",
            "Epoch 34/100\n",
            "47/47 [==============================] - 0s 2ms/step - loss: 0.3402 - accuracy: 0.8760 - val_loss: 0.3054 - val_accuracy: 0.8980\n",
            "Epoch 35/100\n",
            "47/47 [==============================] - 0s 2ms/step - loss: 0.3223 - accuracy: 0.8893 - val_loss: 0.5150 - val_accuracy: 0.7140\n",
            "Epoch 36/100\n",
            "47/47 [==============================] - 0s 2ms/step - loss: 0.3301 - accuracy: 0.8713 - val_loss: 0.2915 - val_accuracy: 0.9080\n",
            "Epoch 37/100\n",
            "47/47 [==============================] - 0s 2ms/step - loss: 0.3099 - accuracy: 0.8973 - val_loss: 0.3455 - val_accuracy: 0.8400\n",
            "Epoch 38/100\n",
            "47/47 [==============================] - 0s 2ms/step - loss: 0.3162 - accuracy: 0.8840 - val_loss: 0.2875 - val_accuracy: 0.8980\n",
            "Epoch 39/100\n",
            "47/47 [==============================] - 0s 2ms/step - loss: 0.2945 - accuracy: 0.9000 - val_loss: 0.3299 - val_accuracy: 0.8460\n",
            "Epoch 40/100\n",
            "47/47 [==============================] - 0s 2ms/step - loss: 0.2867 - accuracy: 0.8953 - val_loss: 0.2734 - val_accuracy: 0.9020\n",
            "Epoch 41/100\n",
            "47/47 [==============================] - 0s 2ms/step - loss: 0.2719 - accuracy: 0.9080 - val_loss: 0.2858 - val_accuracy: 0.8760\n",
            "Epoch 42/100\n",
            "47/47 [==============================] - 0s 2ms/step - loss: 0.2802 - accuracy: 0.8960 - val_loss: 0.2881 - val_accuracy: 0.8820\n",
            "Epoch 43/100\n",
            "47/47 [==============================] - 0s 2ms/step - loss: 0.2496 - accuracy: 0.9173 - val_loss: 0.2948 - val_accuracy: 0.8680\n",
            "Epoch 44/100\n",
            "47/47 [==============================] - 0s 2ms/step - loss: 0.2719 - accuracy: 0.8927 - val_loss: 0.3049 - val_accuracy: 0.8460\n",
            "Epoch 45/100\n",
            "47/47 [==============================] - 0s 2ms/step - loss: 0.2518 - accuracy: 0.9067 - val_loss: 0.2379 - val_accuracy: 0.9300\n",
            "Epoch 46/100\n",
            "47/47 [==============================] - 0s 2ms/step - loss: 0.2664 - accuracy: 0.8927 - val_loss: 0.2450 - val_accuracy: 0.9060\n",
            "Epoch 47/100\n",
            "47/47 [==============================] - 0s 2ms/step - loss: 0.2436 - accuracy: 0.9173 - val_loss: 0.2532 - val_accuracy: 0.8960\n",
            "Epoch 48/100\n",
            "47/47 [==============================] - 0s 2ms/step - loss: 0.2164 - accuracy: 0.9380 - val_loss: 0.2184 - val_accuracy: 0.9340\n",
            "Epoch 49/100\n",
            "47/47 [==============================] - 0s 2ms/step - loss: 0.2539 - accuracy: 0.9020 - val_loss: 0.2242 - val_accuracy: 0.9160\n",
            "Epoch 50/100\n",
            "47/47 [==============================] - 0s 2ms/step - loss: 0.2269 - accuracy: 0.9187 - val_loss: 0.1934 - val_accuracy: 0.9420\n",
            "Epoch 51/100\n",
            "47/47 [==============================] - 0s 2ms/step - loss: 0.2082 - accuracy: 0.9347 - val_loss: 0.2027 - val_accuracy: 0.9320\n",
            "Epoch 52/100\n",
            "47/47 [==============================] - 0s 2ms/step - loss: 0.2043 - accuracy: 0.9360 - val_loss: 0.2734 - val_accuracy: 0.8900\n",
            "Epoch 53/100\n",
            "47/47 [==============================] - 0s 2ms/step - loss: 0.2255 - accuracy: 0.9147 - val_loss: 0.1854 - val_accuracy: 0.9460\n",
            "Epoch 54/100\n",
            "47/47 [==============================] - 0s 2ms/step - loss: 0.2053 - accuracy: 0.9240 - val_loss: 0.1928 - val_accuracy: 0.9360\n",
            "Epoch 55/100\n",
            "47/47 [==============================] - 0s 2ms/step - loss: 0.1891 - accuracy: 0.9460 - val_loss: 0.1805 - val_accuracy: 0.9440\n",
            "Epoch 56/100\n",
            "47/47 [==============================] - 0s 2ms/step - loss: 0.1917 - accuracy: 0.9367 - val_loss: 0.1634 - val_accuracy: 0.9560\n",
            "Epoch 57/100\n",
            "47/47 [==============================] - 0s 2ms/step - loss: 0.1855 - accuracy: 0.9473 - val_loss: 0.2030 - val_accuracy: 0.9320\n",
            "Epoch 58/100\n",
            "47/47 [==============================] - 0s 2ms/step - loss: 0.1839 - accuracy: 0.9413 - val_loss: 0.1793 - val_accuracy: 0.9540\n",
            "Epoch 59/100\n",
            "47/47 [==============================] - 0s 2ms/step - loss: 0.2134 - accuracy: 0.9200 - val_loss: 0.2421 - val_accuracy: 0.9000\n",
            "Epoch 60/100\n",
            "47/47 [==============================] - 0s 2ms/step - loss: 0.1877 - accuracy: 0.9300 - val_loss: 0.1820 - val_accuracy: 0.9340\n",
            "Epoch 61/100\n",
            "47/47 [==============================] - 0s 2ms/step - loss: 0.1771 - accuracy: 0.9387 - val_loss: 0.1614 - val_accuracy: 0.9540\n",
            "Epoch 62/100\n",
            "47/47 [==============================] - 0s 2ms/step - loss: 0.1897 - accuracy: 0.9313 - val_loss: 0.1646 - val_accuracy: 0.9440\n",
            "Epoch 63/100\n",
            "47/47 [==============================] - 0s 2ms/step - loss: 0.1815 - accuracy: 0.9393 - val_loss: 0.1489 - val_accuracy: 0.9600\n",
            "Epoch 64/100\n",
            "47/47 [==============================] - 0s 2ms/step - loss: 0.1726 - accuracy: 0.9373 - val_loss: 0.2286 - val_accuracy: 0.9260\n",
            "Epoch 65/100\n",
            "47/47 [==============================] - 0s 2ms/step - loss: 0.1646 - accuracy: 0.9467 - val_loss: 0.1369 - val_accuracy: 0.9680\n",
            "Epoch 66/100\n",
            "47/47 [==============================] - 0s 2ms/step - loss: 0.1531 - accuracy: 0.9553 - val_loss: 0.1431 - val_accuracy: 0.9560\n",
            "Epoch 67/100\n",
            "47/47 [==============================] - 0s 2ms/step - loss: 0.1519 - accuracy: 0.9520 - val_loss: 0.1653 - val_accuracy: 0.9540\n",
            "Epoch 68/100\n",
            "47/47 [==============================] - 0s 2ms/step - loss: 0.1594 - accuracy: 0.9487 - val_loss: 0.1974 - val_accuracy: 0.9260\n",
            "Epoch 69/100\n",
            "47/47 [==============================] - 0s 2ms/step - loss: 0.1718 - accuracy: 0.9393 - val_loss: 0.2559 - val_accuracy: 0.8960\n",
            "Epoch 70/100\n",
            "47/47 [==============================] - 0s 2ms/step - loss: 0.1615 - accuracy: 0.9480 - val_loss: 0.2138 - val_accuracy: 0.9160\n",
            "Epoch 71/100\n",
            "47/47 [==============================] - 0s 2ms/step - loss: 0.1837 - accuracy: 0.9307 - val_loss: 0.2367 - val_accuracy: 0.9200\n",
            "Epoch 72/100\n",
            "47/47 [==============================] - 0s 2ms/step - loss: 0.1646 - accuracy: 0.9460 - val_loss: 0.1491 - val_accuracy: 0.9460\n",
            "Epoch 73/100\n",
            "47/47 [==============================] - 0s 2ms/step - loss: 0.1653 - accuracy: 0.9493 - val_loss: 0.1404 - val_accuracy: 0.9660\n",
            "Epoch 74/100\n",
            "47/47 [==============================] - 0s 2ms/step - loss: 0.1605 - accuracy: 0.9427 - val_loss: 0.2364 - val_accuracy: 0.9120\n",
            "Epoch 75/100\n",
            "47/47 [==============================] - 0s 2ms/step - loss: 0.1900 - accuracy: 0.9260 - val_loss: 0.1309 - val_accuracy: 0.9600\n",
            "Epoch 76/100\n",
            "47/47 [==============================] - 0s 2ms/step - loss: 0.1427 - accuracy: 0.9480 - val_loss: 0.1478 - val_accuracy: 0.9520\n",
            "Epoch 77/100\n",
            "47/47 [==============================] - 0s 2ms/step - loss: 0.1652 - accuracy: 0.9360 - val_loss: 0.1602 - val_accuracy: 0.9360\n",
            "Epoch 78/100\n",
            "47/47 [==============================] - 0s 2ms/step - loss: 0.1500 - accuracy: 0.9467 - val_loss: 0.1321 - val_accuracy: 0.9660\n",
            "Epoch 79/100\n",
            "47/47 [==============================] - 0s 2ms/step - loss: 0.1356 - accuracy: 0.9567 - val_loss: 0.1259 - val_accuracy: 0.9660\n",
            "Epoch 80/100\n",
            "47/47 [==============================] - 0s 2ms/step - loss: 0.1340 - accuracy: 0.9600 - val_loss: 0.1274 - val_accuracy: 0.9680\n",
            "Epoch 81/100\n",
            "47/47 [==============================] - 0s 2ms/step - loss: 0.1499 - accuracy: 0.9487 - val_loss: 0.1711 - val_accuracy: 0.9200\n",
            "Epoch 82/100\n",
            "47/47 [==============================] - 0s 2ms/step - loss: 0.1411 - accuracy: 0.9520 - val_loss: 0.1278 - val_accuracy: 0.9700\n",
            "Epoch 83/100\n",
            "47/47 [==============================] - 0s 2ms/step - loss: 0.1412 - accuracy: 0.9547 - val_loss: 0.1246 - val_accuracy: 0.9620\n",
            "Epoch 84/100\n",
            "47/47 [==============================] - 0s 2ms/step - loss: 0.1413 - accuracy: 0.9527 - val_loss: 0.1255 - val_accuracy: 0.9620\n",
            "Epoch 85/100\n",
            "47/47 [==============================] - 0s 2ms/step - loss: 0.1360 - accuracy: 0.9593 - val_loss: 0.1101 - val_accuracy: 0.9720\n",
            "Epoch 86/100\n",
            "47/47 [==============================] - 0s 2ms/step - loss: 0.1386 - accuracy: 0.9513 - val_loss: 0.1090 - val_accuracy: 0.9720\n",
            "Epoch 87/100\n",
            "47/47 [==============================] - 0s 2ms/step - loss: 0.1271 - accuracy: 0.9560 - val_loss: 0.1790 - val_accuracy: 0.9400\n",
            "Epoch 88/100\n",
            "47/47 [==============================] - 0s 2ms/step - loss: 0.1324 - accuracy: 0.9600 - val_loss: 0.1120 - val_accuracy: 0.9740\n",
            "Epoch 89/100\n",
            "47/47 [==============================] - 0s 2ms/step - loss: 0.1625 - accuracy: 0.9347 - val_loss: 0.2918 - val_accuracy: 0.8740\n",
            "Epoch 90/100\n",
            "47/47 [==============================] - 0s 2ms/step - loss: 0.1474 - accuracy: 0.9473 - val_loss: 0.1603 - val_accuracy: 0.9520\n",
            "Epoch 91/100\n",
            "47/47 [==============================] - 0s 2ms/step - loss: 0.1445 - accuracy: 0.9460 - val_loss: 0.3122 - val_accuracy: 0.8800\n",
            "Epoch 92/100\n",
            "47/47 [==============================] - 0s 2ms/step - loss: 0.1630 - accuracy: 0.9367 - val_loss: 0.1092 - val_accuracy: 0.9700\n",
            "Epoch 93/100\n",
            "47/47 [==============================] - 0s 2ms/step - loss: 0.1316 - accuracy: 0.9587 - val_loss: 0.1389 - val_accuracy: 0.9560\n",
            "Epoch 94/100\n",
            "47/47 [==============================] - 0s 2ms/step - loss: 0.1234 - accuracy: 0.9580 - val_loss: 0.1101 - val_accuracy: 0.9660\n",
            "Epoch 95/100\n",
            "47/47 [==============================] - 0s 2ms/step - loss: 0.1127 - accuracy: 0.9673 - val_loss: 0.1125 - val_accuracy: 0.9720\n",
            "Epoch 96/100\n",
            "47/47 [==============================] - 0s 2ms/step - loss: 0.1231 - accuracy: 0.9600 - val_loss: 0.1183 - val_accuracy: 0.9520\n",
            "Epoch 97/100\n",
            "47/47 [==============================] - 0s 2ms/step - loss: 0.1195 - accuracy: 0.9560 - val_loss: 0.4302 - val_accuracy: 0.8140\n",
            "Epoch 98/100\n",
            "47/47 [==============================] - 0s 2ms/step - loss: 0.1260 - accuracy: 0.9547 - val_loss: 0.1112 - val_accuracy: 0.9660\n",
            "Epoch 99/100\n",
            "47/47 [==============================] - 0s 3ms/step - loss: 0.1165 - accuracy: 0.9620 - val_loss: 0.1136 - val_accuracy: 0.9640\n",
            "Epoch 100/100\n",
            "47/47 [==============================] - 0s 3ms/step - loss: 0.1155 - accuracy: 0.9647 - val_loss: 0.0971 - val_accuracy: 0.9700\n"
          ]
        },
        {
          "data": {
            "text/plain": [
              "<keras.src.callbacks.History at 0x1c894924390>"
            ]
          },
          "execution_count": 20,
          "metadata": {},
          "output_type": "execute_result"
        }
      ],
      "source": [
        "# Build a secondary classifier\n",
        "secondary_model = tf.keras.models.Sequential([\n",
        "    tf.keras.layers.Dense(64, activation='relu', input_shape=(X_train_secondary.shape[1],)),\n",
        "    tf.keras.layers.Dense(32, activation='relu'),\n",
        "    tf.keras.layers.Dense(2, activation='softmax')  # Binary classification\n",
        "])\n",
        "\n",
        "# Compile secondary model\n",
        "secondary_model.compile(optimizer='adam', loss='sparse_categorical_crossentropy', metrics=['accuracy'])\n",
        "\n",
        "# Train a secondary model\n",
        "secondary_model.fit(X_train_secondary, y_train_secondary, epochs=100, batch_size=32, validation_data=(X_test_secondary, y_test_secondary))\n"
      ]
    },
    {
      "cell_type": "code",
      "execution_count": 21,
      "metadata": {},
      "outputs": [],
      "source": [
        "def integrated_prediction(primary_model, secondary_model, input_data, threshold=0.5):\n",
        "    primary_pred = primary_model.predict(input_data)\n",
        "    primary_label = np.argmax(primary_pred, axis=1)\n",
        "    \n",
        "    # For samples predicted as 'stop' or 'palm' by the primary model, use the secondary model for judgment.\n",
        "    secondary_indices = np.logical_or(primary_label == label_stop, primary_label == label_palm)\n",
        "    secondary_pred = secondary_model.predict(input_data[secondary_indices])\n",
        "    secondary_label = np.argmax(secondary_pred, axis=1)\n",
        "\n",
        "    # Update predictions from the main model\n",
        "    primary_label[secondary_indices] = np.where(secondary_label == 0, label_stop, label_palm)\n",
        "    \n",
        "    return primary_label"
      ]
    },
    {
      "cell_type": "markdown",
      "metadata": {
        "id": "S3U4yNWx9hE4"
      },
      "source": [
        "# Confusion matrix"
      ]
    },
    {
      "cell_type": "code",
      "execution_count": 22,
      "metadata": {
        "colab": {
          "base_uri": "https://localhost:8080/",
          "height": 582
        },
        "id": "AP1V6SCk9hE5",
        "outputId": "08e41a80-7a4a-4619-8125-ecc371368d19"
      },
      "outputs": [
        {
          "name": "stdout",
          "output_type": "stream",
          "text": [
            "94/94 [==============================] - 0s 1ms/step\n",
            "15/15 [==============================] - 0s 1ms/step\n"
          ]
        },
        {
          "data": {
            "image/png": "[encoded data removed]",
            "text/plain": [
              "<Figure size 700x600 with 2 Axes>"
            ]
          },
          "metadata": {},
          "output_type": "display_data"
        },
        {
          "name": "stdout",
          "output_type": "stream",
          "text": [
            "Classification Report\n",
            "              precision    recall  f1-score   support\n",
            "\n",
            "           0       0.85      0.97      0.91       250\n",
            "           1       0.89      0.98      0.93       248\n",
            "           2       0.92      0.96      0.94       254\n",
            "           3       0.89      0.96      0.92       259\n",
            "           4       0.97      0.79      0.87       255\n",
            "           5       0.92      0.98      0.95       261\n",
            "           6       0.90      0.89      0.89       239\n",
            "           7       0.98      0.87      0.92       235\n",
            "           8       0.99      0.96      0.97       254\n",
            "           9       1.00      0.97      0.99       236\n",
            "          10       0.93      0.90      0.91       264\n",
            "          11       0.97      0.92      0.95       245\n",
            "\n",
            "    accuracy                           0.93      3000\n",
            "   macro avg       0.93      0.93      0.93      3000\n",
            "weighted avg       0.93      0.93      0.93      3000\n",
            "\n"
          ]
        }
      ],
      "source": [
        "import pandas as pd\n",
        "import seaborn as sns\n",
        "import matplotlib.pyplot as plt\n",
        "from sklearn.metrics import confusion_matrix, classification_report\n",
        "\n",
        "def print_confusion_matrix(y_true, y_pred, report=True):\n",
        "    labels = sorted(list(set(y_true)))\n",
        "    cmx_data = confusion_matrix(y_true, y_pred, labels=labels)\n",
        "    \n",
        "    df_cmx = pd.DataFrame(cmx_data, index=labels, columns=labels)\n",
        " \n",
        "    fig, ax = plt.subplots(figsize=(7, 6))\n",
        "    sns.heatmap(df_cmx, annot=True, fmt='g' ,square=False)\n",
        "    ax.set_ylim(len(set(y_true)), 0)\n",
        "    plt.show()\n",
        "    \n",
        "    if report:\n",
        "        print('Classification Report')\n",
        "        print(classification_report(y_test, y_pred))\n",
        "\n",
        "# Y_pred = model.predict(X_test)\n",
        "# y_pred = np.argmax(Y_pred, axis=1)\n",
        "\n",
        "y_pred = integrated_prediction(model, secondary_model, X_test)  # Integrated prediction\n",
        "\n",
        "print_confusion_matrix(y_test, y_pred)"
      ]
    },
    {
      "cell_type": "markdown",
      "metadata": {
        "id": "FNP6aqzc9hE5"
      },
      "source": [
        "# Convert to model for Tensorflow-Lite"
      ]
    },
    {
      "cell_type": "code",
      "execution_count": 23,
      "metadata": {
        "id": "ODjnYyld9hE6"
      },
      "outputs": [
        {
          "name": "stderr",
          "output_type": "stream",
          "text": [
            "c:\\Users\\Ian\\git\\553.806_Capstone_HandGesture\\.venv\\Lib\\site-packages\\keras\\src\\engine\\training.py:3103: UserWarning: You are saving your model as an HDF5 file via `model.save()`. This file format is considered legacy. We recommend using instead the native Keras format, e.g. `model.save('my_model.keras')`.\n",
            "  saving_api.save_model(\n"
          ]
        }
      ],
      "source": [
        "# Save as a model dedicated to inference\n",
        "model.save(model_save_path, include_optimizer=False)"
      ]
    },
    {
      "cell_type": "code",
      "execution_count": 24,
      "metadata": {
        "colab": {
          "base_uri": "https://localhost:8080/"
        },
        "id": "zRfuK8Y59hE6",
        "outputId": "a4ca585c-b5d5-4244-8291-8674063209bb"
      },
      "outputs": [
        {
          "name": "stdout",
          "output_type": "stream",
          "text": [
            "INFO:tensorflow:Assets written to: C:\\Users\\Ian\\AppData\\Local\\Temp\\tmpv7443592\\assets\n"
          ]
        },
        {
          "name": "stderr",
          "output_type": "stream",
          "text": [
            "INFO:tensorflow:Assets written to: C:\\Users\\Ian\\AppData\\Local\\Temp\\tmpv7443592\\assets\n"
          ]
        },
        {
          "data": {
            "text/plain": [
              "40248"
            ]
          },
          "execution_count": 24,
          "metadata": {},
          "output_type": "execute_result"
        }
      ],
      "source": [
        "# Transform model (quantization)\n",
        "\n",
        "converter = tf.lite.TFLiteConverter.from_keras_model(model)\n",
        "converter.optimizations = [tf.lite.Optimize.DEFAULT]\n",
        "tflite_quantized_model = converter.convert()\n",
        "\n",
        "open(tflite_save_path, 'wb').write(tflite_quantized_model)"
      ]
    },
    {
      "cell_type": "code",
      "execution_count": 25,
      "metadata": {},
      "outputs": [],
      "source": [
        "# Save secondary model\n",
        "\n",
        "# secondary_model.save(model_save_path, include_optimizer=False)"
      ]
    },
    {
      "cell_type": "code",
      "execution_count": 26,
      "metadata": {},
      "outputs": [
        {
          "name": "stdout",
          "output_type": "stream",
          "text": [
            "INFO:tensorflow:Assets written to: C:\\Users\\Ian\\AppData\\Local\\Temp\\tmpepxqcof9\\assets\n"
          ]
        },
        {
          "name": "stderr",
          "output_type": "stream",
          "text": [
            "INFO:tensorflow:Assets written to: C:\\Users\\Ian\\AppData\\Local\\Temp\\tmpepxqcof9\\assets\n"
          ]
        },
        {
          "data": {
            "text/plain": [
              "8984"
            ]
          },
          "execution_count": 26,
          "metadata": {},
          "output_type": "execute_result"
        }
      ],
      "source": [
        "# Transform model (quantization)\n",
        "\n",
        "converter = tf.lite.TFLiteConverter.from_keras_model(secondary_model)\n",
        "converter.optimizations = [tf.lite.Optimize.DEFAULT]\n",
        "tflite_quantized_model = converter.convert()\n",
        "\n",
        "open(tflite_save_path2, 'wb').write(tflite_quantized_model)"
      ]
    },
    {
      "cell_type": "markdown",
      "metadata": {
        "id": "CHBPBXdx9hE6"
      },
      "source": [
        "# Inference test"
      ]
    },
    {
      "cell_type": "code",
      "execution_count": 27,
      "metadata": {
        "id": "mGAzLocO9hE7"
      },
      "outputs": [],
      "source": [
        "interpreter = tf.lite.Interpreter(model_path=tflite_save_path)\n",
        "interpreter.allocate_tensors()"
      ]
    },
    {
      "cell_type": "code",
      "execution_count": 28,
      "metadata": {
        "id": "oQuDK8YS9hE7"
      },
      "outputs": [],
      "source": [
        "# Get I / O tensor\n",
        "input_details = interpreter.get_input_details()\n",
        "output_details = interpreter.get_output_details()"
      ]
    },
    {
      "cell_type": "code",
      "execution_count": 29,
      "metadata": {},
      "outputs": [
        {
          "data": {
            "text/plain": [
              "()"
            ]
          },
          "execution_count": 29,
          "metadata": {},
          "output_type": "execute_result"
        }
      ],
      "source": [
        "X_test[0][0].shape"
      ]
    },
    {
      "cell_type": "code",
      "execution_count": null,
      "metadata": {
        "id": "2_ixAf_l9hE7"
      },
      "outputs": [],
      "source": [
        "interpreter.set_tensor(input_details[0]['index'], np.array([X_test[0]]))"
      ]
    },
    {
      "cell_type": "code",
      "execution_count": null,
      "metadata": {
        "colab": {
          "base_uri": "https://localhost:8080/"
        },
        "id": "s4FoAnuc9hE7",
        "outputId": "91f18257-8d8b-4ef3-c558-e9b5f94fabbf",
        "scrolled": true
      },
      "outputs": [
        {
          "name": "stdout",
          "output_type": "stream",
          "text": [
            "CPU times: total: 0 ns\n",
            "Wall time: 2 ms\n"
          ]
        }
      ],
      "source": [
        "%%time\n",
        "# Inference implementation\n",
        "interpreter.invoke()\n",
        "tflite_results = interpreter.get_tensor(output_details[0]['index'])"
      ]
    },
    {
      "cell_type": "code",
      "execution_count": null,
      "metadata": {
        "colab": {
          "base_uri": "https://localhost:8080/"
        },
        "id": "vONjp19J9hE8",
        "outputId": "77205e24-fd00-42c4-f7b6-e06e527c2cba"
      },
      "outputs": [
        {
          "name": "stdout",
          "output_type": "stream",
          "text": [
            "[1.3130225e-10 9.9999988e-01 1.5021509e-16 5.4812503e-20 4.6601127e-15\n",
            " 6.1134841e-08 3.5118028e-16 2.0307404e-08 1.4411691e-13 9.2801001e-12\n",
            " 6.0290120e-11 1.2075810e-12]\n",
            "1\n"
          ]
        }
      ],
      "source": [
        "print(np.squeeze(tflite_results))\n",
        "print(np.argmax(np.squeeze(tflite_results)))"
      ]
    }
  ],
  "metadata": {
    "accelerator": "GPU",
    "colab": {
      "collapsed_sections": [],
      "name": "keypoint_classification_EN.ipynb",
      "provenance": [],
      "toc_visible": true
    },
    "kernelspec": {
      "display_name": "Python 3",
      "language": "python",
      "name": "python3"
    },
    "language_info": {
      "codemirror_mode": {
        "name": "ipython",
        "version": 3
      },
      "file_extension": ".py",
      "mimetype": "text/x-python",
      "name": "python",
      "nbconvert_exporter": "python",
      "pygments_lexer": "ipython3",
      "version": "3.11.8"
    }
  },
  "nbformat": 4,
  "nbformat_minor": 0
}
