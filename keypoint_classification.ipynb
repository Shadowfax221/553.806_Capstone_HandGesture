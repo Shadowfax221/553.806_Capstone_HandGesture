{
  "cells": [
    {
      "cell_type": "code",
      "execution_count": 1,
      "metadata": {
        "id": "igMyGnjE9hEp"
      },
      "outputs": [
        {
          "name": "stdout",
          "output_type": "stream",
          "text": [
            "WARNING:tensorflow:From c:\\Users\\Ian\\git\\553.806_Capstone_HandGesture\\.venv\\Lib\\site-packages\\keras\\src\\losses.py:2976: The name tf.losses.sparse_softmax_cross_entropy is deprecated. Please use tf.compat.v1.losses.sparse_softmax_cross_entropy instead.\n",
            "\n"
          ]
        }
      ],
      "source": [
        "import csv\n",
        "\n",
        "import numpy as np\n",
        "import tensorflow as tf\n",
        "from sklearn.model_selection import train_test_split\n",
        "\n",
        "RANDOM_SEED = 42"
      ]
    },
    {
      "cell_type": "code",
      "execution_count": 2,
      "metadata": {
        "id": "9NvZP2Zn9hEy"
      },
      "outputs": [],
      "source": [
        "dataset = 'keypoint.csv'\n",
        "model_save_path = 'models/keypoint_classifier.hdf5'\n",
        "tflite_save_path = 'models/keypoint_classifier.tflite'"
      ]
    },
    {
      "cell_type": "markdown",
      "metadata": {
        "id": "s5oMH7x19hEz"
      },
      "source": [
        "# Set number of classes"
      ]
    },
    {
      "cell_type": "code",
      "execution_count": 3,
      "metadata": {
        "id": "du4kodXL9hEz"
      },
      "outputs": [],
      "source": [
        "NUM_CLASSES = 12"
      ]
    },
    {
      "cell_type": "markdown",
      "metadata": {
        "id": "XjnL0uso9hEz"
      },
      "source": [
        "# Dataset reading"
      ]
    },
    {
      "cell_type": "code",
      "execution_count": 4,
      "metadata": {
        "id": "QT5ZqtEz9hE0"
      },
      "outputs": [],
      "source": [
        "X_dataset = np.loadtxt(dataset, delimiter=',', dtype='float32', usecols=list(range(1, (21 * 3) + 1)))"
      ]
    },
    {
      "cell_type": "code",
      "execution_count": 5,
      "metadata": {
        "id": "QmoKFsp49hE0"
      },
      "outputs": [],
      "source": [
        "y_dataset = np.loadtxt(dataset, delimiter=',', dtype='int32', usecols=(0))"
      ]
    },
    {
      "cell_type": "code",
      "execution_count": 6,
      "metadata": {
        "id": "xQU7JTZ_9hE0"
      },
      "outputs": [],
      "source": [
        "X_train, X_test, y_train, y_test = train_test_split(X_dataset, y_dataset, train_size=0.75, random_state=RANDOM_SEED)"
      ]
    },
    {
      "cell_type": "markdown",
      "metadata": {
        "id": "mxK_lETT9hE0"
      },
      "source": [
        "# Model building"
      ]
    },
    {
      "cell_type": "code",
      "execution_count": 7,
      "metadata": {
        "id": "vHBmUf1t9hE1"
      },
      "outputs": [
        {
          "name": "stdout",
          "output_type": "stream",
          "text": [
            "WARNING:tensorflow:From c:\\Users\\Ian\\git\\553.806_Capstone_HandGesture\\.venv\\Lib\\site-packages\\keras\\src\\backend.py:1398: The name tf.executing_eagerly_outside_functions is deprecated. Please use tf.compat.v1.executing_eagerly_outside_functions instead.\n",
            "\n"
          ]
        }
      ],
      "source": [
        "model = tf.keras.models.Sequential([\n",
        "    tf.keras.layers.Input((21 * 3, )),\n",
        "    tf.keras.layers.Dropout(0.2),\n",
        "    tf.keras.layers.Dense(128, activation='relu'),  # Increased units\n",
        "    tf.keras.layers.BatchNormalization(),  # Added Batch Normalization\n",
        "    tf.keras.layers.Dropout(0.3),  # Adjusted dropout rate\n",
        "    tf.keras.layers.Dense(64, activation='relu'),  # Increased units\n",
        "    tf.keras.layers.BatchNormalization(),  # Added Batch Normalization\n",
        "    tf.keras.layers.Dense(32, activation='relu'),  # Increased units\n",
        "    tf.keras.layers.Dense(NUM_CLASSES, activation='softmax')\n",
        "])"
      ]
    },
    {
      "cell_type": "code",
      "execution_count": 8,
      "metadata": {
        "colab": {
          "base_uri": "https://localhost:8080/"
        },
        "id": "ypqky9tc9hE1",
        "outputId": "5db082bb-30e3-4110-bf63-a1ee777ecd46"
      },
      "outputs": [
        {
          "name": "stdout",
          "output_type": "stream",
          "text": [
            "Model: \"sequential\"\n",
            "_________________________________________________________________\n",
            " Layer (type)                Output Shape              Param #   \n",
            "=================================================================\n",
            " dropout (Dropout)           (None, 63)                0         \n",
            "                                                                 \n",
            " dense (Dense)               (None, 128)               8192      \n",
            "                                                                 \n",
            " batch_normalization (Batch  (None, 128)               512       \n",
            " Normalization)                                                  \n",
            "                                                                 \n",
            " dropout_1 (Dropout)         (None, 128)               0         \n",
            "                                                                 \n",
            " dense_1 (Dense)             (None, 64)                8256      \n",
            "                                                                 \n",
            " batch_normalization_1 (Bat  (None, 64)                256       \n",
            " chNormalization)                                                \n",
            "                                                                 \n",
            " dense_2 (Dense)             (None, 32)                2080      \n",
            "                                                                 \n",
            " dense_3 (Dense)             (None, 12)                396       \n",
            "                                                                 \n",
            "=================================================================\n",
            "Total params: 19692 (76.92 KB)\n",
            "Trainable params: 19308 (75.42 KB)\n",
            "Non-trainable params: 384 (1.50 KB)\n",
            "_________________________________________________________________\n"
          ]
        }
      ],
      "source": [
        "model.summary()  # tf.keras.utils.plot_model(model, show_shapes=True)"
      ]
    },
    {
      "cell_type": "code",
      "execution_count": 9,
      "metadata": {
        "id": "MbMjOflQ9hE1"
      },
      "outputs": [],
      "source": [
        "# Model checkpoint callback\n",
        "cp_callback = tf.keras.callbacks.ModelCheckpoint(\n",
        "    model_save_path, verbose=1, save_weights_only=False)\n",
        "# Callback for early stopping\n",
        "es_callback = tf.keras.callbacks.EarlyStopping(patience=20, verbose=1)"
      ]
    },
    {
      "cell_type": "code",
      "execution_count": 10,
      "metadata": {
        "id": "c3Dac0M_9hE2"
      },
      "outputs": [
        {
          "name": "stdout",
          "output_type": "stream",
          "text": [
            "WARNING:tensorflow:From c:\\Users\\Ian\\git\\553.806_Capstone_HandGesture\\.venv\\Lib\\site-packages\\keras\\src\\optimizers\\__init__.py:309: The name tf.train.Optimizer is deprecated. Please use tf.compat.v1.train.Optimizer instead.\n",
            "\n"
          ]
        }
      ],
      "source": [
        "# Model compilation\n",
        "model.compile(\n",
        "    optimizer='adam',\n",
        "    loss='sparse_categorical_crossentropy',\n",
        "    metrics=['accuracy']\n",
        ")"
      ]
    },
    {
      "cell_type": "markdown",
      "metadata": {
        "id": "7XI0j1Iu9hE2"
      },
      "source": [
        "# Model training"
      ]
    },
    {
      "cell_type": "code",
      "execution_count": 11,
      "metadata": {},
      "outputs": [
        {
          "data": {
            "text/plain": [
              "<keras.src.callbacks.EarlyStopping at 0x1a7583cdad0>"
            ]
          },
          "execution_count": 11,
          "metadata": {},
          "output_type": "execute_result"
        }
      ],
      "source": [
        "es_callback"
      ]
    },
    {
      "cell_type": "code",
      "execution_count": 12,
      "metadata": {
        "colab": {
          "base_uri": "https://localhost:8080/"
        },
        "id": "WirBl-JE9hE3",
        "outputId": "71b30ca2-8294-4d9d-8aa2-800d90d399de",
        "scrolled": true
      },
      "outputs": [
        {
          "name": "stdout",
          "output_type": "stream",
          "text": [
            "Epoch 1/1000\n",
            "WARNING:tensorflow:From c:\\Users\\Ian\\git\\553.806_Capstone_HandGesture\\.venv\\Lib\\site-packages\\keras\\src\\utils\\tf_utils.py:492: The name tf.ragged.RaggedTensorValue is deprecated. Please use tf.compat.v1.ragged.RaggedTensorValue instead.\n",
            "\n",
            "WARNING:tensorflow:From c:\\Users\\Ian\\git\\553.806_Capstone_HandGesture\\.venv\\Lib\\site-packages\\keras\\src\\engine\\base_layer_utils.py:384: The name tf.executing_eagerly_outside_functions is deprecated. Please use tf.compat.v1.executing_eagerly_outside_functions instead.\n",
            "\n",
            "66/71 [==========================>...] - ETA: 0s - loss: 2.5930 - accuracy: 0.1097\n",
            "Epoch 1: saving model to models\\keypoint_classifier.hdf5\n",
            "71/71 [==============================] - 3s 9ms/step - loss: 2.5844 - accuracy: 0.1119 - val_loss: 2.4562 - val_accuracy: 0.1563\n",
            "Epoch 2/1000\n",
            "36/71 [==============>...............] - ETA: 0s - loss: 2.3912 - accuracy: 0.1621"
          ]
        },
        {
          "name": "stderr",
          "output_type": "stream",
          "text": [
            "c:\\Users\\Ian\\git\\553.806_Capstone_HandGesture\\.venv\\Lib\\site-packages\\keras\\src\\engine\\training.py:3103: UserWarning: You are saving your model as an HDF5 file via `model.save()`. This file format is considered legacy. We recommend using instead the native Keras format, e.g. `model.save('my_model.keras')`.\n",
            "  saving_api.save_model(\n"
          ]
        },
        {
          "name": "stdout",
          "output_type": "stream",
          "text": [
            "71/71 [==============================] - ETA: 0s - loss: 2.3715 - accuracy: 0.1682\n",
            "Epoch 2: saving model to models\\keypoint_classifier.hdf5\n",
            "71/71 [==============================] - 0s 4ms/step - loss: 2.3715 - accuracy: 0.1682 - val_loss: 2.4066 - val_accuracy: 0.1580\n",
            "Epoch 3/1000\n",
            "58/71 [=======================>......] - ETA: 0s - loss: 2.2793 - accuracy: 0.2091\n",
            "Epoch 3: saving model to models\\keypoint_classifier.hdf5\n",
            "71/71 [==============================] - 0s 4ms/step - loss: 2.2781 - accuracy: 0.2063 - val_loss: 2.2783 - val_accuracy: 0.2427\n",
            "Epoch 4/1000\n",
            "71/71 [==============================] - ETA: 0s - loss: 2.2215 - accuracy: 0.2217\n",
            "Epoch 4: saving model to models\\keypoint_classifier.hdf5\n",
            "71/71 [==============================] - 0s 4ms/step - loss: 2.2215 - accuracy: 0.2217 - val_loss: 2.1318 - val_accuracy: 0.2807\n",
            "Epoch 5/1000\n",
            "58/71 [=======================>......] - ETA: 0s - loss: 2.1767 - accuracy: 0.2392\n",
            "Epoch 5: saving model to models\\keypoint_classifier.hdf5\n",
            "71/71 [==============================] - 0s 5ms/step - loss: 2.1726 - accuracy: 0.2380 - val_loss: 1.9853 - val_accuracy: 0.3320\n",
            "Epoch 6/1000\n",
            "58/71 [=======================>......] - ETA: 0s - loss: 2.1249 - accuracy: 0.2582\n",
            "Epoch 6: saving model to models\\keypoint_classifier.hdf5\n",
            "71/71 [==============================] - 0s 4ms/step - loss: 2.1217 - accuracy: 0.2596 - val_loss: 1.9141 - val_accuracy: 0.3890\n",
            "Epoch 7/1000\n",
            "68/71 [===========================>..] - ETA: 0s - loss: 2.0538 - accuracy: 0.2861\n",
            "Epoch 7: saving model to models\\keypoint_classifier.hdf5\n",
            "71/71 [==============================] - 0s 4ms/step - loss: 2.0557 - accuracy: 0.2859 - val_loss: 1.8799 - val_accuracy: 0.3710\n",
            "Epoch 8/1000\n",
            "63/71 [=========================>....] - ETA: 0s - loss: 1.9993 - accuracy: 0.3074\n",
            "Epoch 8: saving model to models\\keypoint_classifier.hdf5\n",
            "71/71 [==============================] - 0s 4ms/step - loss: 1.9994 - accuracy: 0.3049 - val_loss: 1.8309 - val_accuracy: 0.3980\n",
            "Epoch 9/1000\n",
            "58/71 [=======================>......] - ETA: 0s - loss: 1.9555 - accuracy: 0.3157\n",
            "Epoch 9: saving model to models\\keypoint_classifier.hdf5\n",
            "71/71 [==============================] - 0s 4ms/step - loss: 1.9508 - accuracy: 0.3169 - val_loss: 1.6587 - val_accuracy: 0.4700\n",
            "Epoch 10/1000\n",
            "59/71 [=======================>......] - ETA: 0s - loss: 1.8953 - accuracy: 0.3391\n",
            "Epoch 10: saving model to models\\keypoint_classifier.hdf5\n",
            "71/71 [==============================] - 0s 4ms/step - loss: 1.8938 - accuracy: 0.3390 - val_loss: 1.6181 - val_accuracy: 0.4463\n",
            "Epoch 11/1000\n",
            "62/71 [=========================>....] - ETA: 0s - loss: 1.8540 - accuracy: 0.3548\n",
            "Epoch 11: saving model to models\\keypoint_classifier.hdf5\n",
            "71/71 [==============================] - 0s 5ms/step - loss: 1.8512 - accuracy: 0.3543 - val_loss: 1.5421 - val_accuracy: 0.5077\n",
            "Epoch 12/1000\n",
            "55/71 [======================>.......] - ETA: 0s - loss: 1.8244 - accuracy: 0.3589\n",
            "Epoch 12: saving model to models\\keypoint_classifier.hdf5\n",
            "71/71 [==============================] - 0s 4ms/step - loss: 1.8230 - accuracy: 0.3580 - val_loss: 1.5396 - val_accuracy: 0.4930\n",
            "Epoch 13/1000\n",
            "58/71 [=======================>......] - ETA: 0s - loss: 1.7786 - accuracy: 0.3815\n",
            "Epoch 13: saving model to models\\keypoint_classifier.hdf5\n",
            "71/71 [==============================] - 0s 4ms/step - loss: 1.7778 - accuracy: 0.3798 - val_loss: 1.5166 - val_accuracy: 0.5063\n",
            "Epoch 14/1000\n",
            "55/71 [======================>.......] - ETA: 0s - loss: 1.7489 - accuracy: 0.3793\n",
            "Epoch 14: saving model to models\\keypoint_classifier.hdf5\n",
            "71/71 [==============================] - 0s 4ms/step - loss: 1.7557 - accuracy: 0.3758 - val_loss: 1.4636 - val_accuracy: 0.5393\n",
            "Epoch 15/1000\n",
            "64/71 [==========================>...] - ETA: 0s - loss: 1.7491 - accuracy: 0.3851\n",
            "Epoch 15: saving model to models\\keypoint_classifier.hdf5\n",
            "71/71 [==============================] - 0s 5ms/step - loss: 1.7499 - accuracy: 0.3848 - val_loss: 1.3894 - val_accuracy: 0.5553\n",
            "Epoch 16/1000\n",
            "66/71 [==========================>...] - ETA: 0s - loss: 1.7270 - accuracy: 0.3971\n",
            "Epoch 16: saving model to models\\keypoint_classifier.hdf5\n",
            "71/71 [==============================] - 0s 5ms/step - loss: 1.7257 - accuracy: 0.3968 - val_loss: 1.3385 - val_accuracy: 0.5907\n",
            "Epoch 17/1000\n",
            "55/71 [======================>.......] - ETA: 0s - loss: 1.7023 - accuracy: 0.3974\n",
            "Epoch 17: saving model to models\\keypoint_classifier.hdf5\n",
            "71/71 [==============================] - 0s 4ms/step - loss: 1.6922 - accuracy: 0.4021 - val_loss: 1.3931 - val_accuracy: 0.5580\n",
            "Epoch 18/1000\n",
            "57/71 [=======================>......] - ETA: 0s - loss: 1.6665 - accuracy: 0.4191\n",
            "Epoch 18: saving model to models\\keypoint_classifier.hdf5\n",
            "71/71 [==============================] - 0s 4ms/step - loss: 1.6521 - accuracy: 0.4229 - val_loss: 1.3190 - val_accuracy: 0.6123\n",
            "Epoch 19/1000\n",
            "56/71 [======================>.......] - ETA: 0s - loss: 1.6164 - accuracy: 0.4383\n",
            "Epoch 19: saving model to models\\keypoint_classifier.hdf5\n",
            "71/71 [==============================] - 0s 4ms/step - loss: 1.6026 - accuracy: 0.4408 - val_loss: 1.3590 - val_accuracy: 0.5443\n",
            "Epoch 20/1000\n",
            "57/71 [=======================>......] - ETA: 0s - loss: 1.6030 - accuracy: 0.4346\n",
            "Epoch 20: saving model to models\\keypoint_classifier.hdf5\n",
            "71/71 [==============================] - 0s 4ms/step - loss: 1.5963 - accuracy: 0.4380 - val_loss: 1.3083 - val_accuracy: 0.5970\n",
            "Epoch 21/1000\n",
            "60/71 [========================>.....] - ETA: 0s - loss: 1.5637 - accuracy: 0.4607\n",
            "Epoch 21: saving model to models\\keypoint_classifier.hdf5\n",
            "71/71 [==============================] - 0s 4ms/step - loss: 1.5657 - accuracy: 0.4579 - val_loss: 1.3512 - val_accuracy: 0.5803\n",
            "Epoch 22/1000\n",
            "55/71 [======================>.......] - ETA: 0s - loss: 1.5247 - accuracy: 0.4649\n",
            "Epoch 22: saving model to models\\keypoint_classifier.hdf5\n",
            "71/71 [==============================] - 0s 4ms/step - loss: 1.5226 - accuracy: 0.4631 - val_loss: 1.2424 - val_accuracy: 0.5910\n",
            "Epoch 23/1000\n",
            "59/71 [=======================>......] - ETA: 0s - loss: 1.5255 - accuracy: 0.4678\n",
            "Epoch 23: saving model to models\\keypoint_classifier.hdf5\n",
            "71/71 [==============================] - 0s 4ms/step - loss: 1.5179 - accuracy: 0.4683 - val_loss: 1.2929 - val_accuracy: 0.6010\n",
            "Epoch 24/1000\n",
            "61/71 [========================>.....] - ETA: 0s - loss: 1.4553 - accuracy: 0.4926\n",
            "Epoch 24: saving model to models\\keypoint_classifier.hdf5\n",
            "71/71 [==============================] - 0s 4ms/step - loss: 1.4630 - accuracy: 0.4881 - val_loss: 1.3590 - val_accuracy: 0.5740\n",
            "Epoch 25/1000\n",
            "71/71 [==============================] - ETA: 0s - loss: 1.4504 - accuracy: 0.4941\n",
            "Epoch 25: saving model to models\\keypoint_classifier.hdf5\n",
            "71/71 [==============================] - 0s 4ms/step - loss: 1.4504 - accuracy: 0.4941 - val_loss: 1.2184 - val_accuracy: 0.6030\n",
            "Epoch 26/1000\n",
            "61/71 [========================>.....] - ETA: 0s - loss: 1.4356 - accuracy: 0.5122\n",
            "Epoch 26: saving model to models\\keypoint_classifier.hdf5\n",
            "71/71 [==============================] - 0s 4ms/step - loss: 1.4232 - accuracy: 0.5157 - val_loss: 1.3463 - val_accuracy: 0.5647\n",
            "Epoch 27/1000\n",
            "62/71 [=========================>....] - ETA: 0s - loss: 1.3856 - accuracy: 0.5186\n",
            "Epoch 27: saving model to models\\keypoint_classifier.hdf5\n",
            "71/71 [==============================] - 0s 4ms/step - loss: 1.3817 - accuracy: 0.5178 - val_loss: 1.1229 - val_accuracy: 0.6773\n",
            "Epoch 28/1000\n",
            "55/71 [======================>.......] - ETA: 0s - loss: 1.3279 - accuracy: 0.5366\n",
            "Epoch 28: saving model to models\\keypoint_classifier.hdf5\n",
            "71/71 [==============================] - 0s 4ms/step - loss: 1.3354 - accuracy: 0.5334 - val_loss: 1.1258 - val_accuracy: 0.6633\n",
            "Epoch 29/1000\n",
            "59/71 [=======================>......] - ETA: 0s - loss: 1.3183 - accuracy: 0.5445\n",
            "Epoch 29: saving model to models\\keypoint_classifier.hdf5\n",
            "71/71 [==============================] - 0s 4ms/step - loss: 1.3177 - accuracy: 0.5457 - val_loss: 0.9318 - val_accuracy: 0.7463\n",
            "Epoch 30/1000\n",
            "63/71 [=========================>....] - ETA: 0s - loss: 1.2690 - accuracy: 0.5619\n",
            "Epoch 30: saving model to models\\keypoint_classifier.hdf5\n",
            "71/71 [==============================] - 0s 4ms/step - loss: 1.2664 - accuracy: 0.5612 - val_loss: 0.9384 - val_accuracy: 0.7133\n",
            "Epoch 31/1000\n",
            "58/71 [=======================>......] - ETA: 0s - loss: 1.2419 - accuracy: 0.5686\n",
            "Epoch 31: saving model to models\\keypoint_classifier.hdf5\n",
            "71/71 [==============================] - 0s 4ms/step - loss: 1.2404 - accuracy: 0.5691 - val_loss: 0.9368 - val_accuracy: 0.6830\n",
            "Epoch 32/1000\n",
            "59/71 [=======================>......] - ETA: 0s - loss: 1.1960 - accuracy: 0.5776\n",
            "Epoch 32: saving model to models\\keypoint_classifier.hdf5\n",
            "71/71 [==============================] - 0s 4ms/step - loss: 1.1998 - accuracy: 0.5769 - val_loss: 0.8608 - val_accuracy: 0.7423\n",
            "Epoch 33/1000\n",
            "64/71 [==========================>...] - ETA: 0s - loss: 1.1515 - accuracy: 0.5984\n",
            "Epoch 33: saving model to models\\keypoint_classifier.hdf5\n",
            "71/71 [==============================] - 0s 4ms/step - loss: 1.1560 - accuracy: 0.5981 - val_loss: 0.8813 - val_accuracy: 0.7333\n",
            "Epoch 34/1000\n",
            "62/71 [=========================>....] - ETA: 0s - loss: 1.1506 - accuracy: 0.5980\n",
            "Epoch 34: saving model to models\\keypoint_classifier.hdf5\n",
            "71/71 [==============================] - 0s 4ms/step - loss: 1.1457 - accuracy: 0.6004 - val_loss: 0.7730 - val_accuracy: 0.7980\n",
            "Epoch 35/1000\n",
            "56/71 [======================>.......] - ETA: 0s - loss: 1.1084 - accuracy: 0.6200\n",
            "Epoch 35: saving model to models\\keypoint_classifier.hdf5\n",
            "71/71 [==============================] - 0s 4ms/step - loss: 1.1051 - accuracy: 0.6194 - val_loss: 0.7441 - val_accuracy: 0.7613\n",
            "Epoch 36/1000\n",
            "58/71 [=======================>......] - ETA: 0s - loss: 1.0713 - accuracy: 0.6235\n",
            "Epoch 36: saving model to models\\keypoint_classifier.hdf5\n",
            "71/71 [==============================] - 0s 4ms/step - loss: 1.0767 - accuracy: 0.6218 - val_loss: 0.7962 - val_accuracy: 0.7777\n",
            "Epoch 37/1000\n",
            "61/71 [========================>.....] - ETA: 0s - loss: 1.0592 - accuracy: 0.6332\n",
            "Epoch 37: saving model to models\\keypoint_classifier.hdf5\n",
            "71/71 [==============================] - 0s 4ms/step - loss: 1.0671 - accuracy: 0.6293 - val_loss: 0.8497 - val_accuracy: 0.7307\n",
            "Epoch 38/1000\n",
            "62/71 [=========================>....] - ETA: 0s - loss: 1.0449 - accuracy: 0.6370\n",
            "Epoch 38: saving model to models\\keypoint_classifier.hdf5\n",
            "71/71 [==============================] - 0s 6ms/step - loss: 1.0457 - accuracy: 0.6368 - val_loss: 0.7593 - val_accuracy: 0.7703\n",
            "Epoch 39/1000\n",
            "55/71 [======================>.......] - ETA: 0s - loss: 1.0176 - accuracy: 0.6504\n",
            "Epoch 39: saving model to models\\keypoint_classifier.hdf5\n",
            "71/71 [==============================] - 0s 4ms/step - loss: 1.0244 - accuracy: 0.6494 - val_loss: 0.7363 - val_accuracy: 0.8003\n",
            "Epoch 40/1000\n",
            "59/71 [=======================>......] - ETA: 0s - loss: 1.0107 - accuracy: 0.6516\n",
            "Epoch 40: saving model to models\\keypoint_classifier.hdf5\n",
            "71/71 [==============================] - 0s 4ms/step - loss: 1.0035 - accuracy: 0.6552 - val_loss: 0.6881 - val_accuracy: 0.7700\n",
            "Epoch 41/1000\n",
            "62/71 [=========================>....] - ETA: 0s - loss: 0.9926 - accuracy: 0.6568\n",
            "Epoch 41: saving model to models\\keypoint_classifier.hdf5\n",
            "71/71 [==============================] - 0s 4ms/step - loss: 0.9944 - accuracy: 0.6567 - val_loss: 0.7510 - val_accuracy: 0.7917\n",
            "Epoch 42/1000\n",
            "65/71 [==========================>...] - ETA: 0s - loss: 0.9619 - accuracy: 0.6692\n",
            "Epoch 42: saving model to models\\keypoint_classifier.hdf5\n",
            "71/71 [==============================] - 0s 5ms/step - loss: 0.9645 - accuracy: 0.6689 - val_loss: 0.9871 - val_accuracy: 0.6203\n",
            "Epoch 43/1000\n",
            "65/71 [==========================>...] - ETA: 0s - loss: 0.9650 - accuracy: 0.6649\n",
            "Epoch 43: saving model to models\\keypoint_classifier.hdf5\n",
            "71/71 [==============================] - 0s 5ms/step - loss: 0.9578 - accuracy: 0.6671 - val_loss: 0.6577 - val_accuracy: 0.8090\n",
            "Epoch 44/1000\n",
            "66/71 [==========================>...] - ETA: 0s - loss: 0.9326 - accuracy: 0.6705\n",
            "Epoch 44: saving model to models\\keypoint_classifier.hdf5\n",
            "71/71 [==============================] - 0s 5ms/step - loss: 0.9313 - accuracy: 0.6724 - val_loss: 0.6221 - val_accuracy: 0.8110\n",
            "Epoch 45/1000\n",
            "55/71 [======================>.......] - ETA: 0s - loss: 0.9399 - accuracy: 0.6741\n",
            "Epoch 45: saving model to models\\keypoint_classifier.hdf5\n",
            "71/71 [==============================] - 0s 4ms/step - loss: 0.9357 - accuracy: 0.6757 - val_loss: 0.6607 - val_accuracy: 0.8237\n",
            "Epoch 46/1000\n",
            "56/71 [======================>.......] - ETA: 0s - loss: 0.9260 - accuracy: 0.6819\n",
            "Epoch 46: saving model to models\\keypoint_classifier.hdf5\n",
            "71/71 [==============================] - 0s 4ms/step - loss: 0.9221 - accuracy: 0.6830 - val_loss: 0.5743 - val_accuracy: 0.8413\n",
            "Epoch 47/1000\n",
            "57/71 [=======================>......] - ETA: 0s - loss: 0.8903 - accuracy: 0.6974\n",
            "Epoch 47: saving model to models\\keypoint_classifier.hdf5\n",
            "71/71 [==============================] - 0s 4ms/step - loss: 0.8983 - accuracy: 0.6942 - val_loss: 0.6739 - val_accuracy: 0.8010\n",
            "Epoch 48/1000\n",
            "55/71 [======================>.......] - ETA: 0s - loss: 0.8890 - accuracy: 0.6922\n",
            "Epoch 48: saving model to models\\keypoint_classifier.hdf5\n",
            "71/71 [==============================] - 0s 4ms/step - loss: 0.8959 - accuracy: 0.6916 - val_loss: 0.7838 - val_accuracy: 0.7373\n",
            "Epoch 49/1000\n",
            "61/71 [========================>.....] - ETA: 0s - loss: 0.8757 - accuracy: 0.6968\n",
            "Epoch 49: saving model to models\\keypoint_classifier.hdf5\n",
            "71/71 [==============================] - 0s 4ms/step - loss: 0.8727 - accuracy: 0.6972 - val_loss: 0.5290 - val_accuracy: 0.8540\n",
            "Epoch 50/1000\n",
            "61/71 [========================>.....] - ETA: 0s - loss: 0.8671 - accuracy: 0.6972\n",
            "Epoch 50: saving model to models\\keypoint_classifier.hdf5\n",
            "71/71 [==============================] - 0s 4ms/step - loss: 0.8708 - accuracy: 0.6958 - val_loss: 0.7115 - val_accuracy: 0.7593\n",
            "Epoch 51/1000\n",
            "57/71 [=======================>......] - ETA: 0s - loss: 0.8911 - accuracy: 0.6915\n",
            "Epoch 51: saving model to models\\keypoint_classifier.hdf5\n",
            "71/71 [==============================] - 0s 4ms/step - loss: 0.8826 - accuracy: 0.6952 - val_loss: 0.5895 - val_accuracy: 0.8287\n",
            "Epoch 52/1000\n",
            "61/71 [========================>.....] - ETA: 0s - loss: 0.8432 - accuracy: 0.7030\n",
            "Epoch 52: saving model to models\\keypoint_classifier.hdf5\n",
            "71/71 [==============================] - 0s 4ms/step - loss: 0.8461 - accuracy: 0.7042 - val_loss: 0.7665 - val_accuracy: 0.7540\n",
            "Epoch 53/1000\n",
            "54/71 [=====================>........] - ETA: 0s - loss: 0.8376 - accuracy: 0.7102\n",
            "Epoch 53: saving model to models\\keypoint_classifier.hdf5\n",
            "71/71 [==============================] - 0s 4ms/step - loss: 0.8364 - accuracy: 0.7127 - val_loss: 0.6360 - val_accuracy: 0.7787\n",
            "Epoch 54/1000\n",
            "55/71 [======================>.......] - ETA: 0s - loss: 0.8372 - accuracy: 0.7013\n",
            "Epoch 54: saving model to models\\keypoint_classifier.hdf5\n",
            "71/71 [==============================] - 0s 4ms/step - loss: 0.8356 - accuracy: 0.7020 - val_loss: 0.7528 - val_accuracy: 0.7250\n",
            "Epoch 55/1000\n",
            "57/71 [=======================>......] - ETA: 0s - loss: 0.8446 - accuracy: 0.7023\n",
            "Epoch 55: saving model to models\\keypoint_classifier.hdf5\n",
            "71/71 [==============================] - 0s 5ms/step - loss: 0.8367 - accuracy: 0.7047 - val_loss: 0.6924 - val_accuracy: 0.7693\n",
            "Epoch 56/1000\n",
            "63/71 [=========================>....] - ETA: 0s - loss: 0.8071 - accuracy: 0.7155\n",
            "Epoch 56: saving model to models\\keypoint_classifier.hdf5\n",
            "71/71 [==============================] - 0s 4ms/step - loss: 0.7985 - accuracy: 0.7189 - val_loss: 0.5385 - val_accuracy: 0.8347\n",
            "Epoch 57/1000\n",
            "61/71 [========================>.....] - ETA: 0s - loss: 0.8012 - accuracy: 0.7181\n",
            "Epoch 57: saving model to models\\keypoint_classifier.hdf5\n",
            "71/71 [==============================] - 0s 4ms/step - loss: 0.7968 - accuracy: 0.7203 - val_loss: 0.7429 - val_accuracy: 0.7270\n",
            "Epoch 58/1000\n",
            "61/71 [========================>.....] - ETA: 0s - loss: 0.7891 - accuracy: 0.7269\n",
            "Epoch 58: saving model to models\\keypoint_classifier.hdf5\n",
            "71/71 [==============================] - 0s 4ms/step - loss: 0.7873 - accuracy: 0.7272 - val_loss: 0.4495 - val_accuracy: 0.8693\n",
            "Epoch 59/1000\n",
            "63/71 [=========================>....] - ETA: 0s - loss: 0.7894 - accuracy: 0.7253\n",
            "Epoch 59: saving model to models\\keypoint_classifier.hdf5\n",
            "71/71 [==============================] - 0s 4ms/step - loss: 0.7912 - accuracy: 0.7252 - val_loss: 0.5016 - val_accuracy: 0.8457\n",
            "Epoch 60/1000\n",
            "61/71 [========================>.....] - ETA: 0s - loss: 0.7924 - accuracy: 0.7193\n",
            "Epoch 60: saving model to models\\keypoint_classifier.hdf5\n",
            "71/71 [==============================] - 0s 4ms/step - loss: 0.7875 - accuracy: 0.7208 - val_loss: 0.4870 - val_accuracy: 0.8617\n",
            "Epoch 61/1000\n",
            "62/71 [=========================>....] - ETA: 0s - loss: 0.7642 - accuracy: 0.7335\n",
            "Epoch 61: saving model to models\\keypoint_classifier.hdf5\n",
            "71/71 [==============================] - 0s 4ms/step - loss: 0.7713 - accuracy: 0.7326 - val_loss: 0.5971 - val_accuracy: 0.7890\n",
            "Epoch 62/1000\n",
            "64/71 [==========================>...] - ETA: 0s - loss: 0.7737 - accuracy: 0.7266\n",
            "Epoch 62: saving model to models\\keypoint_classifier.hdf5\n",
            "71/71 [==============================] - 0s 4ms/step - loss: 0.7742 - accuracy: 0.7260 - val_loss: 0.6042 - val_accuracy: 0.7963\n",
            "Epoch 63/1000\n",
            "61/71 [========================>.....] - ETA: 0s - loss: 0.7845 - accuracy: 0.7222\n",
            "Epoch 63: saving model to models\\keypoint_classifier.hdf5\n",
            "71/71 [==============================] - 0s 4ms/step - loss: 0.7832 - accuracy: 0.7233 - val_loss: 1.0400 - val_accuracy: 0.6273\n",
            "Epoch 64/1000\n",
            "58/71 [=======================>......] - ETA: 0s - loss: 0.7593 - accuracy: 0.7361\n",
            "Epoch 64: saving model to models\\keypoint_classifier.hdf5\n",
            "71/71 [==============================] - 0s 4ms/step - loss: 0.7575 - accuracy: 0.7362 - val_loss: 0.5506 - val_accuracy: 0.8230\n",
            "Epoch 65/1000\n",
            "60/71 [========================>.....] - ETA: 0s - loss: 0.7651 - accuracy: 0.7353\n",
            "Epoch 65: saving model to models\\keypoint_classifier.hdf5\n",
            "71/71 [==============================] - 0s 4ms/step - loss: 0.7666 - accuracy: 0.7342 - val_loss: 0.4903 - val_accuracy: 0.8593\n",
            "Epoch 66/1000\n",
            "57/71 [=======================>......] - ETA: 0s - loss: 0.7596 - accuracy: 0.7314\n",
            "Epoch 66: saving model to models\\keypoint_classifier.hdf5\n",
            "71/71 [==============================] - 0s 4ms/step - loss: 0.7589 - accuracy: 0.7319 - val_loss: 0.5802 - val_accuracy: 0.7997\n",
            "Epoch 67/1000\n",
            "64/71 [==========================>...] - ETA: 0s - loss: 0.7505 - accuracy: 0.7430\n",
            "Epoch 67: saving model to models\\keypoint_classifier.hdf5\n",
            "71/71 [==============================] - 0s 4ms/step - loss: 0.7470 - accuracy: 0.7448 - val_loss: 0.4414 - val_accuracy: 0.8730\n",
            "Epoch 68/1000\n",
            "64/71 [==========================>...] - ETA: 0s - loss: 0.7376 - accuracy: 0.7405\n",
            "Epoch 68: saving model to models\\keypoint_classifier.hdf5\n",
            "71/71 [==============================] - 0s 4ms/step - loss: 0.7445 - accuracy: 0.7377 - val_loss: 0.7700 - val_accuracy: 0.7287\n",
            "Epoch 69/1000\n",
            "63/71 [=========================>....] - ETA: 0s - loss: 0.7417 - accuracy: 0.7370\n",
            "Epoch 69: saving model to models\\keypoint_classifier.hdf5\n",
            "71/71 [==============================] - 0s 4ms/step - loss: 0.7385 - accuracy: 0.7390 - val_loss: 0.5196 - val_accuracy: 0.8303\n",
            "Epoch 70/1000\n",
            "63/71 [=========================>....] - ETA: 0s - loss: 0.7421 - accuracy: 0.7421\n",
            "Epoch 70: saving model to models\\keypoint_classifier.hdf5\n",
            "71/71 [==============================] - 0s 4ms/step - loss: 0.7416 - accuracy: 0.7418 - val_loss: 0.5866 - val_accuracy: 0.8023\n",
            "Epoch 71/1000\n",
            "64/71 [==========================>...] - ETA: 0s - loss: 0.7338 - accuracy: 0.7380\n",
            "Epoch 71: saving model to models\\keypoint_classifier.hdf5\n",
            "71/71 [==============================] - 0s 4ms/step - loss: 0.7339 - accuracy: 0.7389 - val_loss: 0.7039 - val_accuracy: 0.7493\n",
            "Epoch 72/1000\n",
            "61/71 [========================>.....] - ETA: 0s - loss: 0.7184 - accuracy: 0.7455\n",
            "Epoch 72: saving model to models\\keypoint_classifier.hdf5\n",
            "71/71 [==============================] - 0s 4ms/step - loss: 0.7172 - accuracy: 0.7467 - val_loss: 0.5516 - val_accuracy: 0.8233\n",
            "Epoch 73/1000\n",
            "56/71 [======================>.......] - ETA: 0s - loss: 0.7065 - accuracy: 0.7478\n",
            "Epoch 73: saving model to models\\keypoint_classifier.hdf5\n",
            "71/71 [==============================] - 0s 4ms/step - loss: 0.7134 - accuracy: 0.7469 - val_loss: 0.5227 - val_accuracy: 0.8347\n",
            "Epoch 74/1000\n",
            "58/71 [=======================>......] - ETA: 0s - loss: 0.7186 - accuracy: 0.7499\n",
            "Epoch 74: saving model to models\\keypoint_classifier.hdf5\n",
            "71/71 [==============================] - 0s 4ms/step - loss: 0.7201 - accuracy: 0.7480 - val_loss: 0.4958 - val_accuracy: 0.8433\n",
            "Epoch 75/1000\n",
            "62/71 [=========================>....] - ETA: 0s - loss: 0.7136 - accuracy: 0.7479\n",
            "Epoch 75: saving model to models\\keypoint_classifier.hdf5\n",
            "71/71 [==============================] - 0s 4ms/step - loss: 0.7119 - accuracy: 0.7487 - val_loss: 0.4400 - val_accuracy: 0.8737\n",
            "Epoch 76/1000\n",
            "61/71 [========================>.....] - ETA: 0s - loss: 0.7047 - accuracy: 0.7486\n",
            "Epoch 76: saving model to models\\keypoint_classifier.hdf5\n",
            "71/71 [==============================] - 0s 4ms/step - loss: 0.7043 - accuracy: 0.7500 - val_loss: 0.5141 - val_accuracy: 0.8193\n",
            "Epoch 77/1000\n",
            "54/71 [=====================>........] - ETA: 0s - loss: 0.6929 - accuracy: 0.7497\n",
            "Epoch 77: saving model to models\\keypoint_classifier.hdf5\n",
            "71/71 [==============================] - 0s 4ms/step - loss: 0.6908 - accuracy: 0.7526 - val_loss: 0.4583 - val_accuracy: 0.8660\n",
            "Epoch 78/1000\n",
            "62/71 [=========================>....] - ETA: 0s - loss: 0.6998 - accuracy: 0.7544\n",
            "Epoch 78: saving model to models\\keypoint_classifier.hdf5\n",
            "71/71 [==============================] - 0s 4ms/step - loss: 0.7078 - accuracy: 0.7509 - val_loss: 0.4326 - val_accuracy: 0.8683\n",
            "Epoch 79/1000\n",
            "63/71 [=========================>....] - ETA: 0s - loss: 0.7129 - accuracy: 0.7434\n",
            "Epoch 79: saving model to models\\keypoint_classifier.hdf5\n",
            "71/71 [==============================] - 0s 4ms/step - loss: 0.7172 - accuracy: 0.7412 - val_loss: 0.4615 - val_accuracy: 0.8570\n",
            "Epoch 80/1000\n",
            "61/71 [========================>.....] - ETA: 0s - loss: 0.6849 - accuracy: 0.7586\n",
            "Epoch 80: saving model to models\\keypoint_classifier.hdf5\n",
            "71/71 [==============================] - 0s 4ms/step - loss: 0.6902 - accuracy: 0.7577 - val_loss: 0.4882 - val_accuracy: 0.8353\n",
            "Epoch 81/1000\n",
            "61/71 [========================>.....] - ETA: 0s - loss: 0.6875 - accuracy: 0.7537\n",
            "Epoch 81: saving model to models\\keypoint_classifier.hdf5\n",
            "71/71 [==============================] - 0s 4ms/step - loss: 0.6927 - accuracy: 0.7518 - val_loss: 0.5024 - val_accuracy: 0.8437\n",
            "Epoch 82/1000\n",
            "63/71 [=========================>....] - ETA: 0s - loss: 0.6806 - accuracy: 0.7572\n",
            "Epoch 82: saving model to models\\keypoint_classifier.hdf5\n",
            "71/71 [==============================] - 0s 4ms/step - loss: 0.6807 - accuracy: 0.7572 - val_loss: 0.6697 - val_accuracy: 0.7643\n",
            "Epoch 83/1000\n",
            "64/71 [==========================>...] - ETA: 0s - loss: 0.6727 - accuracy: 0.7615\n",
            "Epoch 83: saving model to models\\keypoint_classifier.hdf5\n",
            "71/71 [==============================] - 0s 4ms/step - loss: 0.6713 - accuracy: 0.7630 - val_loss: 0.4456 - val_accuracy: 0.8640\n",
            "Epoch 84/1000\n",
            "62/71 [=========================>....] - ETA: 0s - loss: 0.6658 - accuracy: 0.7668\n",
            "Epoch 84: saving model to models\\keypoint_classifier.hdf5\n",
            "71/71 [==============================] - 0s 4ms/step - loss: 0.6688 - accuracy: 0.7652 - val_loss: 0.4790 - val_accuracy: 0.8353\n",
            "Epoch 85/1000\n",
            "62/71 [=========================>....] - ETA: 0s - loss: 0.6809 - accuracy: 0.7618\n",
            "Epoch 85: saving model to models\\keypoint_classifier.hdf5\n",
            "71/71 [==============================] - 0s 4ms/step - loss: 0.6800 - accuracy: 0.7603 - val_loss: 0.5433 - val_accuracy: 0.8270\n",
            "Epoch 86/1000\n",
            "62/71 [=========================>....] - ETA: 0s - loss: 0.7002 - accuracy: 0.7495\n",
            "Epoch 86: saving model to models\\keypoint_classifier.hdf5\n",
            "71/71 [==============================] - 0s 4ms/step - loss: 0.6926 - accuracy: 0.7527 - val_loss: 0.6580 - val_accuracy: 0.7717\n",
            "Epoch 87/1000\n",
            "63/71 [=========================>....] - ETA: 0s - loss: 0.6777 - accuracy: 0.7679\n",
            "Epoch 87: saving model to models\\keypoint_classifier.hdf5\n",
            "71/71 [==============================] - 0s 4ms/step - loss: 0.6820 - accuracy: 0.7658 - val_loss: 0.4515 - val_accuracy: 0.8617\n",
            "Epoch 88/1000\n",
            "61/71 [========================>.....] - ETA: 0s - loss: 0.6740 - accuracy: 0.7565\n",
            "Epoch 88: saving model to models\\keypoint_classifier.hdf5\n",
            "71/71 [==============================] - 0s 4ms/step - loss: 0.6701 - accuracy: 0.7590 - val_loss: 0.4282 - val_accuracy: 0.8643\n",
            "Epoch 89/1000\n",
            "63/71 [=========================>....] - ETA: 0s - loss: 0.6690 - accuracy: 0.7634\n",
            "Epoch 89: saving model to models\\keypoint_classifier.hdf5\n",
            "71/71 [==============================] - 0s 4ms/step - loss: 0.6754 - accuracy: 0.7590 - val_loss: 0.4505 - val_accuracy: 0.8643\n",
            "Epoch 90/1000\n",
            "63/71 [=========================>....] - ETA: 0s - loss: 0.6474 - accuracy: 0.7674\n",
            "Epoch 90: saving model to models\\keypoint_classifier.hdf5\n",
            "71/71 [==============================] - 0s 4ms/step - loss: 0.6573 - accuracy: 0.7652 - val_loss: 0.5120 - val_accuracy: 0.8273\n",
            "Epoch 91/1000\n",
            "64/71 [==========================>...] - ETA: 0s - loss: 0.6610 - accuracy: 0.7656\n",
            "Epoch 91: saving model to models\\keypoint_classifier.hdf5\n",
            "71/71 [==============================] - 0s 4ms/step - loss: 0.6586 - accuracy: 0.7686 - val_loss: 0.6096 - val_accuracy: 0.7827\n",
            "Epoch 92/1000\n",
            "60/71 [========================>.....] - ETA: 0s - loss: 0.6551 - accuracy: 0.7721\n",
            "Epoch 92: saving model to models\\keypoint_classifier.hdf5\n",
            "71/71 [==============================] - 0s 4ms/step - loss: 0.6528 - accuracy: 0.7722 - val_loss: 0.5242 - val_accuracy: 0.8257\n",
            "Epoch 93/1000\n",
            "62/71 [=========================>....] - ETA: 0s - loss: 0.6523 - accuracy: 0.7715\n",
            "Epoch 93: saving model to models\\keypoint_classifier.hdf5\n",
            "71/71 [==============================] - 0s 4ms/step - loss: 0.6556 - accuracy: 0.7694 - val_loss: 0.4920 - val_accuracy: 0.8437\n",
            "Epoch 94/1000\n",
            "63/71 [=========================>....] - ETA: 0s - loss: 0.6553 - accuracy: 0.7685\n",
            "Epoch 94: saving model to models\\keypoint_classifier.hdf5\n",
            "71/71 [==============================] - 0s 4ms/step - loss: 0.6548 - accuracy: 0.7704 - val_loss: 0.5587 - val_accuracy: 0.8053\n",
            "Epoch 95/1000\n",
            "64/71 [==========================>...] - ETA: 0s - loss: 0.6358 - accuracy: 0.7712\n",
            "Epoch 95: saving model to models\\keypoint_classifier.hdf5\n",
            "71/71 [==============================] - 0s 4ms/step - loss: 0.6411 - accuracy: 0.7708 - val_loss: 0.5703 - val_accuracy: 0.8043\n",
            "Epoch 96/1000\n",
            "63/71 [=========================>....] - ETA: 0s - loss: 0.6337 - accuracy: 0.7715\n",
            "Epoch 96: saving model to models\\keypoint_classifier.hdf5\n",
            "71/71 [==============================] - 0s 4ms/step - loss: 0.6297 - accuracy: 0.7722 - val_loss: 0.5060 - val_accuracy: 0.8257\n",
            "Epoch 97/1000\n",
            "61/71 [========================>.....] - ETA: 0s - loss: 0.6452 - accuracy: 0.7732\n",
            "Epoch 97: saving model to models\\keypoint_classifier.hdf5\n",
            "71/71 [==============================] - 0s 4ms/step - loss: 0.6532 - accuracy: 0.7707 - val_loss: 0.4646 - val_accuracy: 0.8580\n",
            "Epoch 98/1000\n",
            "54/71 [=====================>........] - ETA: 0s - loss: 0.6380 - accuracy: 0.7716\n",
            "Epoch 98: saving model to models\\keypoint_classifier.hdf5\n",
            "71/71 [==============================] - 0s 4ms/step - loss: 0.6365 - accuracy: 0.7709 - val_loss: 0.4292 - val_accuracy: 0.8593\n",
            "Epoch 99/1000\n",
            "62/71 [=========================>....] - ETA: 0s - loss: 0.6400 - accuracy: 0.7729\n",
            "Epoch 99: saving model to models\\keypoint_classifier.hdf5\n",
            "71/71 [==============================] - 0s 4ms/step - loss: 0.6394 - accuracy: 0.7730 - val_loss: 0.4323 - val_accuracy: 0.8497\n",
            "Epoch 100/1000\n",
            "62/71 [=========================>....] - ETA: 0s - loss: 0.6250 - accuracy: 0.7761\n",
            "Epoch 100: saving model to models\\keypoint_classifier.hdf5\n",
            "71/71 [==============================] - 0s 4ms/step - loss: 0.6303 - accuracy: 0.7737 - val_loss: 0.4001 - val_accuracy: 0.8693\n",
            "Epoch 101/1000\n",
            "64/71 [==========================>...] - ETA: 0s - loss: 0.6270 - accuracy: 0.7754\n",
            "Epoch 101: saving model to models\\keypoint_classifier.hdf5\n",
            "71/71 [==============================] - 0s 4ms/step - loss: 0.6255 - accuracy: 0.7773 - val_loss: 0.4570 - val_accuracy: 0.8520\n",
            "Epoch 102/1000\n",
            "63/71 [=========================>....] - ETA: 0s - loss: 0.6283 - accuracy: 0.7777\n",
            "Epoch 102: saving model to models\\keypoint_classifier.hdf5\n",
            "71/71 [==============================] - 0s 4ms/step - loss: 0.6274 - accuracy: 0.7790 - val_loss: 0.5647 - val_accuracy: 0.8070\n",
            "Epoch 103/1000\n",
            "53/71 [=====================>........] - ETA: 0s - loss: 0.6330 - accuracy: 0.7698\n",
            "Epoch 103: saving model to models\\keypoint_classifier.hdf5\n",
            "71/71 [==============================] - 0s 4ms/step - loss: 0.6252 - accuracy: 0.7741 - val_loss: 0.4444 - val_accuracy: 0.8587\n",
            "Epoch 104/1000\n",
            "60/71 [========================>.....] - ETA: 0s - loss: 0.6335 - accuracy: 0.7690\n",
            "Epoch 104: saving model to models\\keypoint_classifier.hdf5\n",
            "71/71 [==============================] - 0s 4ms/step - loss: 0.6351 - accuracy: 0.7680 - val_loss: 0.4688 - val_accuracy: 0.8387\n",
            "Epoch 105/1000\n",
            "63/71 [=========================>....] - ETA: 0s - loss: 0.6405 - accuracy: 0.7671\n",
            "Epoch 105: saving model to models\\keypoint_classifier.hdf5\n",
            "71/71 [==============================] - 0s 4ms/step - loss: 0.6375 - accuracy: 0.7682 - val_loss: 0.4356 - val_accuracy: 0.8690\n",
            "Epoch 106/1000\n",
            "62/71 [=========================>....] - ETA: 0s - loss: 0.6244 - accuracy: 0.7758\n",
            "Epoch 106: saving model to models\\keypoint_classifier.hdf5\n",
            "71/71 [==============================] - 0s 4ms/step - loss: 0.6239 - accuracy: 0.7741 - val_loss: 0.3924 - val_accuracy: 0.8757\n",
            "Epoch 107/1000\n",
            "64/71 [==========================>...] - ETA: 0s - loss: 0.6190 - accuracy: 0.7747\n",
            "Epoch 107: saving model to models\\keypoint_classifier.hdf5\n",
            "71/71 [==============================] - 0s 4ms/step - loss: 0.6286 - accuracy: 0.7712 - val_loss: 0.5381 - val_accuracy: 0.8160\n",
            "Epoch 108/1000\n",
            "61/71 [========================>.....] - ETA: 0s - loss: 0.6268 - accuracy: 0.7701\n",
            "Epoch 108: saving model to models\\keypoint_classifier.hdf5\n",
            "71/71 [==============================] - 0s 4ms/step - loss: 0.6297 - accuracy: 0.7714 - val_loss: 0.4785 - val_accuracy: 0.8410\n",
            "Epoch 109/1000\n",
            "58/71 [=======================>......] - ETA: 0s - loss: 0.6336 - accuracy: 0.7776\n",
            "Epoch 109: saving model to models\\keypoint_classifier.hdf5\n",
            "71/71 [==============================] - 0s 4ms/step - loss: 0.6255 - accuracy: 0.7780 - val_loss: 0.4407 - val_accuracy: 0.8577\n",
            "Epoch 110/1000\n",
            "62/71 [=========================>....] - ETA: 0s - loss: 0.5962 - accuracy: 0.7858\n",
            "Epoch 110: saving model to models\\keypoint_classifier.hdf5\n",
            "71/71 [==============================] - 0s 4ms/step - loss: 0.6001 - accuracy: 0.7848 - val_loss: 0.4521 - val_accuracy: 0.8530\n",
            "Epoch 111/1000\n",
            "62/71 [=========================>....] - ETA: 0s - loss: 0.6142 - accuracy: 0.7828\n",
            "Epoch 111: saving model to models\\keypoint_classifier.hdf5\n",
            "71/71 [==============================] - 0s 5ms/step - loss: 0.6168 - accuracy: 0.7830 - val_loss: 0.4655 - val_accuracy: 0.8517\n",
            "Epoch 112/1000\n",
            "63/71 [=========================>....] - ETA: 0s - loss: 0.6151 - accuracy: 0.7851\n",
            "Epoch 112: saving model to models\\keypoint_classifier.hdf5\n",
            "71/71 [==============================] - 0s 4ms/step - loss: 0.6169 - accuracy: 0.7846 - val_loss: 0.4821 - val_accuracy: 0.8380\n",
            "Epoch 113/1000\n",
            "61/71 [========================>.....] - ETA: 0s - loss: 0.6416 - accuracy: 0.7702\n",
            "Epoch 113: saving model to models\\keypoint_classifier.hdf5\n",
            "71/71 [==============================] - 0s 4ms/step - loss: 0.6336 - accuracy: 0.7727 - val_loss: 0.4364 - val_accuracy: 0.8587\n",
            "Epoch 114/1000\n",
            "60/71 [========================>.....] - ETA: 0s - loss: 0.6019 - accuracy: 0.7875\n",
            "Epoch 114: saving model to models\\keypoint_classifier.hdf5\n",
            "71/71 [==============================] - 0s 4ms/step - loss: 0.6014 - accuracy: 0.7881 - val_loss: 0.3961 - val_accuracy: 0.8767\n",
            "Epoch 115/1000\n",
            "64/71 [==========================>...] - ETA: 0s - loss: 0.6044 - accuracy: 0.7834\n",
            "Epoch 115: saving model to models\\keypoint_classifier.hdf5\n",
            "71/71 [==============================] - 0s 4ms/step - loss: 0.6050 - accuracy: 0.7839 - val_loss: 0.4258 - val_accuracy: 0.8597\n",
            "Epoch 116/1000\n",
            "63/71 [=========================>....] - ETA: 0s - loss: 0.6027 - accuracy: 0.7826\n",
            "Epoch 116: saving model to models\\keypoint_classifier.hdf5\n",
            "71/71 [==============================] - 0s 4ms/step - loss: 0.6019 - accuracy: 0.7827 - val_loss: 0.4925 - val_accuracy: 0.8410\n",
            "Epoch 117/1000\n",
            "63/71 [=========================>....] - ETA: 0s - loss: 0.6011 - accuracy: 0.7848\n",
            "Epoch 117: saving model to models\\keypoint_classifier.hdf5\n",
            "71/71 [==============================] - 0s 4ms/step - loss: 0.6054 - accuracy: 0.7832 - val_loss: 0.4205 - val_accuracy: 0.8697\n",
            "Epoch 118/1000\n",
            "60/71 [========================>.....] - ETA: 0s - loss: 0.5908 - accuracy: 0.7887\n",
            "Epoch 118: saving model to models\\keypoint_classifier.hdf5\n",
            "71/71 [==============================] - 0s 4ms/step - loss: 0.5879 - accuracy: 0.7909 - val_loss: 0.6699 - val_accuracy: 0.7693\n",
            "Epoch 119/1000\n",
            "62/71 [=========================>....] - ETA: 0s - loss: 0.5918 - accuracy: 0.7836\n",
            "Epoch 119: saving model to models\\keypoint_classifier.hdf5\n",
            "71/71 [==============================] - 0s 4ms/step - loss: 0.5932 - accuracy: 0.7837 - val_loss: 0.4760 - val_accuracy: 0.8540\n",
            "Epoch 120/1000\n",
            "63/71 [=========================>....] - ETA: 0s - loss: 0.6060 - accuracy: 0.7845\n",
            "Epoch 120: saving model to models\\keypoint_classifier.hdf5\n",
            "71/71 [==============================] - 0s 4ms/step - loss: 0.6048 - accuracy: 0.7850 - val_loss: 0.4202 - val_accuracy: 0.8580\n",
            "Epoch 121/1000\n",
            "64/71 [==========================>...] - ETA: 0s - loss: 0.6092 - accuracy: 0.7848\n",
            "Epoch 121: saving model to models\\keypoint_classifier.hdf5\n",
            "71/71 [==============================] - 0s 4ms/step - loss: 0.6133 - accuracy: 0.7838 - val_loss: 0.4611 - val_accuracy: 0.8403\n",
            "Epoch 122/1000\n",
            "63/71 [=========================>....] - ETA: 0s - loss: 0.6136 - accuracy: 0.7762\n",
            "Epoch 122: saving model to models\\keypoint_classifier.hdf5\n",
            "71/71 [==============================] - 0s 4ms/step - loss: 0.6094 - accuracy: 0.7796 - val_loss: 0.4620 - val_accuracy: 0.8507\n",
            "Epoch 123/1000\n",
            "61/71 [========================>.....] - ETA: 0s - loss: 0.5923 - accuracy: 0.7926\n",
            "Epoch 123: saving model to models\\keypoint_classifier.hdf5\n",
            "71/71 [==============================] - 0s 4ms/step - loss: 0.5976 - accuracy: 0.7903 - val_loss: 0.4112 - val_accuracy: 0.8583\n",
            "Epoch 124/1000\n",
            "62/71 [=========================>....] - ETA: 0s - loss: 0.5954 - accuracy: 0.7867\n",
            "Epoch 124: saving model to models\\keypoint_classifier.hdf5\n",
            "71/71 [==============================] - 0s 4ms/step - loss: 0.5922 - accuracy: 0.7874 - val_loss: 0.3890 - val_accuracy: 0.8753\n",
            "Epoch 125/1000\n",
            "63/71 [=========================>....] - ETA: 0s - loss: 0.5820 - accuracy: 0.7914\n",
            "Epoch 125: saving model to models\\keypoint_classifier.hdf5\n",
            "71/71 [==============================] - 0s 4ms/step - loss: 0.5873 - accuracy: 0.7898 - val_loss: 0.3618 - val_accuracy: 0.8757\n",
            "Epoch 126/1000\n",
            "63/71 [=========================>....] - ETA: 0s - loss: 0.5926 - accuracy: 0.7943\n",
            "Epoch 126: saving model to models\\keypoint_classifier.hdf5\n",
            "71/71 [==============================] - 0s 4ms/step - loss: 0.5892 - accuracy: 0.7942 - val_loss: 0.5076 - val_accuracy: 0.8307\n",
            "Epoch 127/1000\n",
            "63/71 [=========================>....] - ETA: 0s - loss: 0.5833 - accuracy: 0.7866\n",
            "Epoch 127: saving model to models\\keypoint_classifier.hdf5\n",
            "71/71 [==============================] - 0s 4ms/step - loss: 0.5929 - accuracy: 0.7848 - val_loss: 0.4326 - val_accuracy: 0.8527\n",
            "Epoch 128/1000\n",
            "70/71 [============================>.] - ETA: 0s - loss: 0.5848 - accuracy: 0.7907\n",
            "Epoch 128: saving model to models\\keypoint_classifier.hdf5\n",
            "71/71 [==============================] - 0s 4ms/step - loss: 0.5849 - accuracy: 0.7910 - val_loss: 0.5153 - val_accuracy: 0.8217\n",
            "Epoch 129/1000\n",
            "63/71 [=========================>....] - ETA: 0s - loss: 0.5859 - accuracy: 0.7865\n",
            "Epoch 129: saving model to models\\keypoint_classifier.hdf5\n",
            "71/71 [==============================] - 0s 4ms/step - loss: 0.5849 - accuracy: 0.7876 - val_loss: 0.4600 - val_accuracy: 0.8437\n",
            "Epoch 130/1000\n",
            "63/71 [=========================>....] - ETA: 0s - loss: 0.5937 - accuracy: 0.7852\n",
            "Epoch 130: saving model to models\\keypoint_classifier.hdf5\n",
            "71/71 [==============================] - 0s 4ms/step - loss: 0.5943 - accuracy: 0.7831 - val_loss: 0.4621 - val_accuracy: 0.8627\n",
            "Epoch 131/1000\n",
            "63/71 [=========================>....] - ETA: 0s - loss: 0.5886 - accuracy: 0.7907\n",
            "Epoch 131: saving model to models\\keypoint_classifier.hdf5\n",
            "71/71 [==============================] - 0s 4ms/step - loss: 0.5885 - accuracy: 0.7904 - val_loss: 0.4901 - val_accuracy: 0.8157\n",
            "Epoch 132/1000\n",
            "64/71 [==========================>...] - ETA: 0s - loss: 0.5766 - accuracy: 0.7979\n",
            "Epoch 132: saving model to models\\keypoint_classifier.hdf5\n",
            "71/71 [==============================] - 0s 4ms/step - loss: 0.5798 - accuracy: 0.7973 - val_loss: 0.3788 - val_accuracy: 0.8753\n",
            "Epoch 133/1000\n",
            "61/71 [========================>.....] - ETA: 0s - loss: 0.5747 - accuracy: 0.7964\n",
            "Epoch 133: saving model to models\\keypoint_classifier.hdf5\n",
            "71/71 [==============================] - 0s 4ms/step - loss: 0.5810 - accuracy: 0.7922 - val_loss: 0.4951 - val_accuracy: 0.8210\n",
            "Epoch 134/1000\n",
            "63/71 [=========================>....] - ETA: 0s - loss: 0.5815 - accuracy: 0.7850\n",
            "Epoch 134: saving model to models\\keypoint_classifier.hdf5\n",
            "71/71 [==============================] - 0s 4ms/step - loss: 0.5859 - accuracy: 0.7829 - val_loss: 0.5205 - val_accuracy: 0.8283\n",
            "Epoch 135/1000\n",
            "63/71 [=========================>....] - ETA: 0s - loss: 0.5854 - accuracy: 0.7906\n",
            "Epoch 135: saving model to models\\keypoint_classifier.hdf5\n",
            "71/71 [==============================] - 0s 4ms/step - loss: 0.5852 - accuracy: 0.7907 - val_loss: 0.5000 - val_accuracy: 0.8187\n",
            "Epoch 136/1000\n",
            "63/71 [=========================>....] - ETA: 0s - loss: 0.5821 - accuracy: 0.7919\n",
            "Epoch 136: saving model to models\\keypoint_classifier.hdf5\n",
            "71/71 [==============================] - 0s 4ms/step - loss: 0.5821 - accuracy: 0.7922 - val_loss: 0.4166 - val_accuracy: 0.8623\n",
            "Epoch 137/1000\n",
            "61/71 [========================>.....] - ETA: 0s - loss: 0.5628 - accuracy: 0.7965\n",
            "Epoch 137: saving model to models\\keypoint_classifier.hdf5\n",
            "71/71 [==============================] - 0s 4ms/step - loss: 0.5672 - accuracy: 0.7960 - val_loss: 0.5271 - val_accuracy: 0.8167\n",
            "Epoch 138/1000\n",
            "62/71 [=========================>....] - ETA: 0s - loss: 0.5720 - accuracy: 0.7920\n",
            "Epoch 138: saving model to models\\keypoint_classifier.hdf5\n",
            "71/71 [==============================] - 0s 4ms/step - loss: 0.5771 - accuracy: 0.7919 - val_loss: 0.4602 - val_accuracy: 0.8350\n",
            "Epoch 139/1000\n",
            "63/71 [=========================>....] - ETA: 0s - loss: 0.5792 - accuracy: 0.7893\n",
            "Epoch 139: saving model to models\\keypoint_classifier.hdf5\n",
            "71/71 [==============================] - 0s 4ms/step - loss: 0.5802 - accuracy: 0.7892 - val_loss: 0.4733 - val_accuracy: 0.8410\n",
            "Epoch 140/1000\n",
            "63/71 [=========================>....] - ETA: 0s - loss: 0.5738 - accuracy: 0.7965\n",
            "Epoch 140: saving model to models\\keypoint_classifier.hdf5\n",
            "71/71 [==============================] - 0s 5ms/step - loss: 0.5756 - accuracy: 0.7956 - val_loss: 0.5305 - val_accuracy: 0.8170\n",
            "Epoch 141/1000\n",
            "56/71 [======================>.......] - ETA: 0s - loss: 0.5791 - accuracy: 0.7920\n",
            "Epoch 141: saving model to models\\keypoint_classifier.hdf5\n",
            "71/71 [==============================] - 0s 4ms/step - loss: 0.5774 - accuracy: 0.7924 - val_loss: 0.3885 - val_accuracy: 0.8657\n",
            "Epoch 142/1000\n",
            "59/71 [=======================>......] - ETA: 0s - loss: 0.5743 - accuracy: 0.7938\n",
            "Epoch 142: saving model to models\\keypoint_classifier.hdf5\n",
            "71/71 [==============================] - 0s 4ms/step - loss: 0.5738 - accuracy: 0.7917 - val_loss: 0.3811 - val_accuracy: 0.8733\n",
            "Epoch 143/1000\n",
            "67/71 [===========================>..] - ETA: 0s - loss: 0.5810 - accuracy: 0.7908\n",
            "Epoch 143: saving model to models\\keypoint_classifier.hdf5\n",
            "71/71 [==============================] - 0s 5ms/step - loss: 0.5792 - accuracy: 0.7903 - val_loss: 0.4423 - val_accuracy: 0.8557\n",
            "Epoch 144/1000\n",
            "69/71 [============================>.] - ETA: 0s - loss: 0.5622 - accuracy: 0.8012\n",
            "Epoch 144: saving model to models\\keypoint_classifier.hdf5\n",
            "71/71 [==============================] - 0s 5ms/step - loss: 0.5623 - accuracy: 0.8011 - val_loss: 0.4676 - val_accuracy: 0.8393\n",
            "Epoch 145/1000\n",
            "65/71 [==========================>...] - ETA: 0s - loss: 0.5853 - accuracy: 0.7897\n",
            "Epoch 145: saving model to models\\keypoint_classifier.hdf5\n",
            "71/71 [==============================] - 0s 4ms/step - loss: 0.5791 - accuracy: 0.7907 - val_loss: 0.4381 - val_accuracy: 0.8560\n",
            "Epoch 145: early stopping\n"
          ]
        },
        {
          "data": {
            "text/plain": [
              "<keras.src.callbacks.History at 0x1a758799850>"
            ]
          },
          "execution_count": 12,
          "metadata": {},
          "output_type": "execute_result"
        }
      ],
      "source": [
        "model.fit(\n",
        "    X_train,\n",
        "    y_train,\n",
        "    epochs=1000,\n",
        "    batch_size=128,\n",
        "    validation_data=(X_test, y_test),\n",
        "    callbacks=[cp_callback, es_callback]\n",
        ")"
      ]
    },
    {
      "cell_type": "code",
      "execution_count": 13,
      "metadata": {
        "colab": {
          "base_uri": "https://localhost:8080/"
        },
        "id": "pxvb2Y299hE3",
        "outputId": "59eb3185-2e37-4b9e-bc9d-ab1b8ac29b7f"
      },
      "outputs": [
        {
          "name": "stdout",
          "output_type": "stream",
          "text": [
            "24/24 [==============================] - 0s 2ms/step - loss: 0.4381 - accuracy: 0.8560\n"
          ]
        }
      ],
      "source": [
        "# Model evaluation\n",
        "val_loss, val_acc = model.evaluate(X_test, y_test, batch_size=128)"
      ]
    },
    {
      "cell_type": "code",
      "execution_count": 14,
      "metadata": {
        "id": "RBkmDeUW9hE4"
      },
      "outputs": [],
      "source": [
        "# Loading the saved model\n",
        "model = tf.keras.models.load_model(model_save_path)"
      ]
    },
    {
      "cell_type": "code",
      "execution_count": 15,
      "metadata": {
        "colab": {
          "base_uri": "https://localhost:8080/"
        },
        "id": "tFz9Tb0I9hE4",
        "outputId": "1c3b3528-54ae-4ee2-ab04-77429211cbef"
      },
      "outputs": [
        {
          "name": "stdout",
          "output_type": "stream",
          "text": [
            "1/1 [==============================] - 0s 153ms/step\n",
            "[2.4567898e-11 9.9956924e-01 1.1343422e-08 5.0430519e-12 4.3117744e-08\n",
            " 9.9456076e-05 1.3477579e-09 2.5532951e-04 7.4877008e-08 9.7403040e-07\n",
            " 7.4076233e-05 6.9196875e-07]\n",
            "1\n"
          ]
        }
      ],
      "source": [
        "# Inference test\n",
        "predict_result = model.predict(np.array([X_test[0]]))\n",
        "print(np.squeeze(predict_result))\n",
        "print(np.argmax(np.squeeze(predict_result)))"
      ]
    },
    {
      "cell_type": "markdown",
      "metadata": {
        "id": "S3U4yNWx9hE4"
      },
      "source": [
        "# Confusion matrix"
      ]
    },
    {
      "cell_type": "code",
      "execution_count": 16,
      "metadata": {
        "colab": {
          "base_uri": "https://localhost:8080/",
          "height": 582
        },
        "id": "AP1V6SCk9hE5",
        "outputId": "08e41a80-7a4a-4619-8125-ecc371368d19"
      },
      "outputs": [
        {
          "name": "stdout",
          "output_type": "stream",
          "text": [
            "94/94 [==============================] - 0s 2ms/step\n"
          ]
        },
        {
          "data": {
            "image/png": "[encoded data removed]",
            "text/plain": [
              "<Figure size 700x600 with 2 Axes>"
            ]
          },
          "metadata": {},
          "output_type": "display_data"
        },
        {
          "name": "stdout",
          "output_type": "stream",
          "text": [
            "Classification Report\n",
            "              precision    recall  f1-score   support\n",
            "\n",
            "           0       0.92      0.78      0.84       250\n",
            "           1       0.98      0.90      0.93       248\n",
            "           2       0.90      0.89      0.89       254\n",
            "           3       0.86      0.85      0.85       259\n",
            "           4       0.93      0.79      0.85       255\n",
            "           5       1.00      0.87      0.93       261\n",
            "           6       0.78      0.84      0.81       239\n",
            "           7       0.83      0.64      0.72       235\n",
            "           8       0.99      0.90      0.94       254\n",
            "           9       0.78      1.00      0.87       236\n",
            "          10       0.59      0.90      0.71       264\n",
            "          11       0.95      0.93      0.94       245\n",
            "\n",
            "    accuracy                           0.86      3000\n",
            "   macro avg       0.88      0.86      0.86      3000\n",
            "weighted avg       0.88      0.86      0.86      3000\n",
            "\n"
          ]
        }
      ],
      "source": [
        "import pandas as pd\n",
        "import seaborn as sns\n",
        "import matplotlib.pyplot as plt\n",
        "from sklearn.metrics import confusion_matrix, classification_report\n",
        "\n",
        "def print_confusion_matrix(y_true, y_pred, report=True):\n",
        "    labels = sorted(list(set(y_true)))\n",
        "    cmx_data = confusion_matrix(y_true, y_pred, labels=labels)\n",
        "    \n",
        "    df_cmx = pd.DataFrame(cmx_data, index=labels, columns=labels)\n",
        " \n",
        "    fig, ax = plt.subplots(figsize=(7, 6))\n",
        "    sns.heatmap(df_cmx, annot=True, fmt='g' ,square=False)\n",
        "    ax.set_ylim(len(set(y_true)), 0)\n",
        "    plt.show()\n",
        "    \n",
        "    if report:\n",
        "        print('Classification Report')\n",
        "        print(classification_report(y_test, y_pred))\n",
        "\n",
        "Y_pred = model.predict(X_test)\n",
        "y_pred = np.argmax(Y_pred, axis=1)\n",
        "\n",
        "print_confusion_matrix(y_test, y_pred)"
      ]
    },
    {
      "cell_type": "markdown",
      "metadata": {
        "id": "FNP6aqzc9hE5"
      },
      "source": [
        "# Convert to model for Tensorflow-Lite"
      ]
    },
    {
      "cell_type": "code",
      "execution_count": 17,
      "metadata": {
        "id": "ODjnYyld9hE6"
      },
      "outputs": [
        {
          "name": "stderr",
          "output_type": "stream",
          "text": [
            "c:\\Users\\Ian\\git\\553.806_Capstone_HandGesture\\.venv\\Lib\\site-packages\\keras\\src\\engine\\training.py:3103: UserWarning: You are saving your model as an HDF5 file via `model.save()`. This file format is considered legacy. We recommend using instead the native Keras format, e.g. `model.save('my_model.keras')`.\n",
            "  saving_api.save_model(\n"
          ]
        }
      ],
      "source": [
        "# Save as a model dedicated to inference\n",
        "model.save(model_save_path, include_optimizer=False)"
      ]
    },
    {
      "cell_type": "code",
      "execution_count": 18,
      "metadata": {
        "colab": {
          "base_uri": "https://localhost:8080/"
        },
        "id": "zRfuK8Y59hE6",
        "outputId": "a4ca585c-b5d5-4244-8291-8674063209bb"
      },
      "outputs": [
        {
          "name": "stdout",
          "output_type": "stream",
          "text": [
            "INFO:tensorflow:Assets written to: C:\\Users\\Ian\\AppData\\Local\\Temp\\tmpc16wvi8t\\assets\n"
          ]
        },
        {
          "name": "stderr",
          "output_type": "stream",
          "text": [
            "INFO:tensorflow:Assets written to: C:\\Users\\Ian\\AppData\\Local\\Temp\\tmpc16wvi8t\\assets\n"
          ]
        },
        {
          "data": {
            "text/plain": [
              "23992"
            ]
          },
          "execution_count": 18,
          "metadata": {},
          "output_type": "execute_result"
        }
      ],
      "source": [
        "# Transform model (quantization)\n",
        "\n",
        "converter = tf.lite.TFLiteConverter.from_keras_model(model)\n",
        "converter.optimizations = [tf.lite.Optimize.DEFAULT]\n",
        "tflite_quantized_model = converter.convert()\n",
        "\n",
        "open(tflite_save_path, 'wb').write(tflite_quantized_model)"
      ]
    },
    {
      "cell_type": "markdown",
      "metadata": {
        "id": "CHBPBXdx9hE6"
      },
      "source": [
        "# Inference test"
      ]
    },
    {
      "cell_type": "code",
      "execution_count": 19,
      "metadata": {
        "id": "mGAzLocO9hE7"
      },
      "outputs": [],
      "source": [
        "interpreter = tf.lite.Interpreter(model_path=tflite_save_path)\n",
        "interpreter.allocate_tensors()"
      ]
    },
    {
      "cell_type": "code",
      "execution_count": 20,
      "metadata": {
        "id": "oQuDK8YS9hE7"
      },
      "outputs": [],
      "source": [
        "# Get I / O tensor\n",
        "input_details = interpreter.get_input_details()\n",
        "output_details = interpreter.get_output_details()"
      ]
    },
    {
      "cell_type": "code",
      "execution_count": 21,
      "metadata": {
        "id": "2_ixAf_l9hE7"
      },
      "outputs": [],
      "source": [
        "interpreter.set_tensor(input_details[0]['index'], np.array([X_test[0]]))"
      ]
    },
    {
      "cell_type": "code",
      "execution_count": 22,
      "metadata": {
        "colab": {
          "base_uri": "https://localhost:8080/"
        },
        "id": "s4FoAnuc9hE7",
        "outputId": "91f18257-8d8b-4ef3-c558-e9b5f94fabbf",
        "scrolled": true
      },
      "outputs": [
        {
          "name": "stdout",
          "output_type": "stream",
          "text": [
            "CPU times: total: 0 ns\n",
            "Wall time: 2 ms\n"
          ]
        }
      ],
      "source": [
        "%%time\n",
        "# Inference implementation\n",
        "interpreter.invoke()\n",
        "tflite_results = interpreter.get_tensor(output_details[0]['index'])"
      ]
    },
    {
      "cell_type": "code",
      "execution_count": 23,
      "metadata": {
        "colab": {
          "base_uri": "https://localhost:8080/"
        },
        "id": "vONjp19J9hE8",
        "outputId": "77205e24-fd00-42c4-f7b6-e06e527c2cba"
      },
      "outputs": [
        {
          "name": "stdout",
          "output_type": "stream",
          "text": [
            "[1.17465083e-11 9.99178469e-01 9.25303922e-09 2.32308335e-12\n",
            " 1.58941713e-08 3.74722120e-04 3.95073696e-10 3.40353465e-04\n",
            " 1.39949904e-07 1.90146267e-07 1.05727464e-04 2.99181153e-07]\n",
            "1\n"
          ]
        }
      ],
      "source": [
        "print(np.squeeze(tflite_results))\n",
        "print(np.argmax(np.squeeze(tflite_results)))"
      ]
    }
  ],
  "metadata": {
    "accelerator": "GPU",
    "colab": {
      "collapsed_sections": [],
      "name": "keypoint_classification_EN.ipynb",
      "provenance": [],
      "toc_visible": true
    },
    "kernelspec": {
      "display_name": "Python 3",
      "language": "python",
      "name": "python3"
    },
    "language_info": {
      "codemirror_mode": {
        "name": "ipython",
        "version": 3
      },
      "file_extension": ".py",
      "mimetype": "text/x-python",
      "name": "python",
      "nbconvert_exporter": "python",
      "pygments_lexer": "ipython3",
      "version": "3.11.8"
    }
  },
  "nbformat": 4,
  "nbformat_minor": 0
}
