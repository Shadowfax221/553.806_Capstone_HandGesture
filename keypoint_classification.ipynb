{
  "cells": [
    {
      "cell_type": "code",
      "execution_count": 1,
      "metadata": {
        "id": "igMyGnjE9hEp"
      },
      "outputs": [
        {
          "name": "stdout",
          "output_type": "stream",
          "text": [
            "WARNING:tensorflow:From c:\\Users\\Ian\\git\\553.806_Capstone_HandGesture\\.venv\\Lib\\site-packages\\keras\\src\\losses.py:2976: The name tf.losses.sparse_softmax_cross_entropy is deprecated. Please use tf.compat.v1.losses.sparse_softmax_cross_entropy instead.\n",
            "\n"
          ]
        }
      ],
      "source": [
        "import csv\n",
        "\n",
        "import numpy as np\n",
        "import tensorflow as tf\n",
        "from sklearn.model_selection import train_test_split\n",
        "\n",
        "RANDOM_SEED = 42"
      ]
    },
    {
      "cell_type": "code",
      "execution_count": 2,
      "metadata": {
        "id": "9NvZP2Zn9hEy"
      },
      "outputs": [],
      "source": [
        "dataset = 'datasets/keypoint1000.csv'\n",
        "model_save_path = 'models/keypoint_classifier.hdf5'\n",
        "tflite_save_path = 'models/keypoint_classifier.tflite'"
      ]
    },
    {
      "cell_type": "markdown",
      "metadata": {
        "id": "s5oMH7x19hEz"
      },
      "source": [
        "# Set number of classes"
      ]
    },
    {
      "cell_type": "code",
      "execution_count": 3,
      "metadata": {
        "id": "du4kodXL9hEz"
      },
      "outputs": [],
      "source": [
        "NUM_CLASSES = 12\n",
        "LABELS = ['call', 'dislike', 'fist', 'like', 'mute', 'ok', 'one', 'palm', 'peace', 'rock', 'stop', 'stop_inverted'] "
      ]
    },
    {
      "cell_type": "markdown",
      "metadata": {
        "id": "XjnL0uso9hEz"
      },
      "source": [
        "# Dataset reading"
      ]
    },
    {
      "cell_type": "code",
      "execution_count": 4,
      "metadata": {},
      "outputs": [],
      "source": [
        "def apply_rotation(label, points):\n",
        "    num_points = 21\n",
        "    point_0 = points[0]\n",
        "    point_8 = points[8]\n",
        "\n",
        "    if label == 'dislike' or label == 'like':\n",
        "        return points  # No rotation\n",
        "    elif label == 'call':\n",
        "        # Rotate to be parallel with X-axis\n",
        "        line = point_8 - point_0\n",
        "        angle = np.arctan2(line[2], line[0])  # Consider the X-Z plane\n",
        "        rotation_matrix = np.array([\n",
        "            [1, 0, 0],\n",
        "            [0, np.cos(angle), -np.sin(angle)],\n",
        "            [0, np.sin(angle), np.cos(angle)]\n",
        "        ])\n",
        "    else:\n",
        "        # Rotate to be parallel with Y-axis\n",
        "        line = point_8 - point_0\n",
        "        angle = np.arctan2(line[2], line[1])  # Consider the Y-Z plane\n",
        "        rotation_matrix = np.array([\n",
        "            [np.cos(angle), 0, np.sin(angle)],\n",
        "            [0, 1, 0],\n",
        "            [-np.sin(angle), 0, np.cos(angle)]\n",
        "        ])\n",
        "    \n",
        "    # Apply rotation\n",
        "    for i in range(num_points):\n",
        "        points[i] = np.dot(rotation_matrix, points[i])\n",
        "\n",
        "    return points\n"
      ]
    },
    {
      "cell_type": "code",
      "execution_count": 5,
      "metadata": {},
      "outputs": [],
      "source": [
        "def pre_process_dataset(X_dataset, y_dataset):\n",
        "    # Reshape to 3D\n",
        "    num_points = 21\n",
        "    reshaped_dataset = X_dataset.reshape(-1, num_points, 3)\n",
        "\n",
        "    # Shift coordinates\n",
        "    for i in range(len(reshaped_dataset)):\n",
        "        base_point = reshaped_dataset[i, 0]  # ID:0\n",
        "        for j in range(num_points):\n",
        "            reshaped_dataset[i, j] -= base_point\n",
        "\n",
        "    # # Rotation\n",
        "    # for i in range(len(reshaped_dataset)):\n",
        "    #     label = LABELS[y_dataset[i]]\n",
        "    #     reshaped_dataset[i] = apply_rotation(label, reshaped_dataset[i])\n",
        "\n",
        "    # Flatten\n",
        "    flattened_dataset = reshaped_dataset.reshape(-1, num_points * 3)\n",
        "\n",
        "    # Normalization\n",
        "    max_abs_value = np.max(np.abs(flattened_dataset))\n",
        "    normalized_dataset = flattened_dataset / max_abs_value\n",
        "\n",
        "    return normalized_dataset"
      ]
    },
    {
      "cell_type": "code",
      "execution_count": 6,
      "metadata": {
        "id": "QT5ZqtEz9hE0"
      },
      "outputs": [],
      "source": [
        "X_dataset = np.loadtxt(dataset, delimiter=',', dtype='float32', usecols=list(range(1, (21 * 3) + 1)))"
      ]
    },
    {
      "cell_type": "code",
      "execution_count": 7,
      "metadata": {
        "id": "QmoKFsp49hE0"
      },
      "outputs": [],
      "source": [
        "y_dataset = np.loadtxt(dataset, delimiter=',', dtype='int32', usecols=(0))"
      ]
    },
    {
      "cell_type": "code",
      "execution_count": 8,
      "metadata": {},
      "outputs": [],
      "source": [
        "X_dataset_preprocessed = pre_process_dataset(X_dataset, y_dataset)"
      ]
    },
    {
      "cell_type": "code",
      "execution_count": 9,
      "metadata": {
        "id": "xQU7JTZ_9hE0"
      },
      "outputs": [],
      "source": [
        "X_train, X_test, y_train, y_test = train_test_split(X_dataset_preprocessed, y_dataset, train_size=0.75, random_state=RANDOM_SEED)"
      ]
    },
    {
      "cell_type": "markdown",
      "metadata": {
        "id": "mxK_lETT9hE0"
      },
      "source": [
        "# Model building"
      ]
    },
    {
      "cell_type": "code",
      "execution_count": 10,
      "metadata": {
        "id": "vHBmUf1t9hE1"
      },
      "outputs": [
        {
          "name": "stdout",
          "output_type": "stream",
          "text": [
            "WARNING:tensorflow:From c:\\Users\\Ian\\git\\553.806_Capstone_HandGesture\\.venv\\Lib\\site-packages\\keras\\src\\backend.py:1398: The name tf.executing_eagerly_outside_functions is deprecated. Please use tf.compat.v1.executing_eagerly_outside_functions instead.\n",
            "\n"
          ]
        }
      ],
      "source": [
        "model = tf.keras.models.Sequential([\n",
        "    tf.keras.layers.Input((21 * 3, )),\n",
        "    tf.keras.layers.Dropout(0.1),\n",
        "    tf.keras.layers.Dense(128, activation='relu'),  # Increased units\n",
        "    tf.keras.layers.BatchNormalization(),  # Added Batch Normalization\n",
        "    tf.keras.layers.Dropout(0.1),  # Adjusted dropout rate\n",
        "    tf.keras.layers.Dense(128, activation='relu'),  # Increased units\n",
        "    tf.keras.layers.BatchNormalization(),  # Added Batch Normalization\n",
        "    tf.keras.layers.Dense(64, activation='relu'),  # Increased units\n",
        "    tf.keras.layers.Dense(NUM_CLASSES, activation='softmax')\n",
        "])"
      ]
    },
    {
      "cell_type": "code",
      "execution_count": 11,
      "metadata": {
        "colab": {
          "base_uri": "https://localhost:8080/"
        },
        "id": "ypqky9tc9hE1",
        "outputId": "5db082bb-30e3-4110-bf63-a1ee777ecd46"
      },
      "outputs": [
        {
          "name": "stdout",
          "output_type": "stream",
          "text": [
            "Model: \"sequential\"\n",
            "_________________________________________________________________\n",
            " Layer (type)                Output Shape              Param #   \n",
            "=================================================================\n",
            " dropout (Dropout)           (None, 63)                0         \n",
            "                                                                 \n",
            " dense (Dense)               (None, 128)               8192      \n",
            "                                                                 \n",
            " batch_normalization (Batch  (None, 128)               512       \n",
            " Normalization)                                                  \n",
            "                                                                 \n",
            " dropout_1 (Dropout)         (None, 128)               0         \n",
            "                                                                 \n",
            " dense_1 (Dense)             (None, 128)               16512     \n",
            "                                                                 \n",
            " batch_normalization_1 (Bat  (None, 128)               512       \n",
            " chNormalization)                                                \n",
            "                                                                 \n",
            " dense_2 (Dense)             (None, 64)                8256      \n",
            "                                                                 \n",
            " dense_3 (Dense)             (None, 12)                780       \n",
            "                                                                 \n",
            "=================================================================\n",
            "Total params: 34764 (135.80 KB)\n",
            "Trainable params: 34252 (133.80 KB)\n",
            "Non-trainable params: 512 (2.00 KB)\n",
            "_________________________________________________________________\n"
          ]
        }
      ],
      "source": [
        "model.summary()  # tf.keras.utils.plot_model(model, show_shapes=True)"
      ]
    },
    {
      "cell_type": "code",
      "execution_count": 12,
      "metadata": {
        "id": "MbMjOflQ9hE1"
      },
      "outputs": [],
      "source": [
        "# Model checkpoint callback\n",
        "cp_callback = tf.keras.callbacks.ModelCheckpoint(\n",
        "    model_save_path, verbose=1, save_weights_only=False)\n",
        "# Callback for early stopping\n",
        "es_callback = tf.keras.callbacks.EarlyStopping(patience=30, verbose=1)"
      ]
    },
    {
      "cell_type": "code",
      "execution_count": 13,
      "metadata": {
        "id": "c3Dac0M_9hE2"
      },
      "outputs": [
        {
          "name": "stdout",
          "output_type": "stream",
          "text": [
            "WARNING:tensorflow:From c:\\Users\\Ian\\git\\553.806_Capstone_HandGesture\\.venv\\Lib\\site-packages\\keras\\src\\optimizers\\__init__.py:309: The name tf.train.Optimizer is deprecated. Please use tf.compat.v1.train.Optimizer instead.\n",
            "\n"
          ]
        }
      ],
      "source": [
        "# Model compilation\n",
        "model.compile(\n",
        "    optimizer='adam',\n",
        "    loss='sparse_categorical_crossentropy',\n",
        "    metrics=['accuracy']\n",
        ")"
      ]
    },
    {
      "cell_type": "markdown",
      "metadata": {
        "id": "7XI0j1Iu9hE2"
      },
      "source": [
        "# Model training"
      ]
    },
    {
      "cell_type": "code",
      "execution_count": 14,
      "metadata": {},
      "outputs": [
        {
          "data": {
            "text/plain": [
              "<keras.src.callbacks.EarlyStopping at 0x23770df0f90>"
            ]
          },
          "execution_count": 14,
          "metadata": {},
          "output_type": "execute_result"
        }
      ],
      "source": [
        "es_callback"
      ]
    },
    {
      "cell_type": "code",
      "execution_count": 15,
      "metadata": {
        "colab": {
          "base_uri": "https://localhost:8080/"
        },
        "id": "WirBl-JE9hE3",
        "outputId": "71b30ca2-8294-4d9d-8aa2-800d90d399de",
        "scrolled": true
      },
      "outputs": [
        {
          "name": "stdout",
          "output_type": "stream",
          "text": [
            "Epoch 1/1000\n",
            "WARNING:tensorflow:From c:\\Users\\Ian\\git\\553.806_Capstone_HandGesture\\.venv\\Lib\\site-packages\\keras\\src\\utils\\tf_utils.py:492: The name tf.ragged.RaggedTensorValue is deprecated. Please use tf.compat.v1.ragged.RaggedTensorValue instead.\n",
            "\n",
            "WARNING:tensorflow:From c:\\Users\\Ian\\git\\553.806_Capstone_HandGesture\\.venv\\Lib\\site-packages\\keras\\src\\engine\\base_layer_utils.py:384: The name tf.executing_eagerly_outside_functions is deprecated. Please use tf.compat.v1.executing_eagerly_outside_functions instead.\n",
            "\n",
            "70/71 [============================>.] - ETA: 0s - loss: 2.3915 - accuracy: 0.1873\n",
            "Epoch 1: saving model to models\\keypoint_classifier.hdf5\n",
            "71/71 [==============================] - 3s 9ms/step - loss: 2.3905 - accuracy: 0.1876 - val_loss: 2.4395 - val_accuracy: 0.1433\n",
            "Epoch 2/1000\n",
            "28/71 [==========>...................] - ETA: 0s - loss: 2.0743 - accuracy: 0.2846"
          ]
        },
        {
          "name": "stderr",
          "output_type": "stream",
          "text": [
            "c:\\Users\\Ian\\git\\553.806_Capstone_HandGesture\\.venv\\Lib\\site-packages\\keras\\src\\engine\\training.py:3103: UserWarning: You are saving your model as an HDF5 file via `model.save()`. This file format is considered legacy. We recommend using instead the native Keras format, e.g. `model.save('my_model.keras')`.\n",
            "  saving_api.save_model(\n"
          ]
        },
        {
          "name": "stdout",
          "output_type": "stream",
          "text": [
            "65/71 [==========================>...] - ETA: 0s - loss: 2.0422 - accuracy: 0.3049\n",
            "Epoch 2: saving model to models\\keypoint_classifier.hdf5\n",
            "71/71 [==============================] - 0s 6ms/step - loss: 2.0335 - accuracy: 0.3069 - val_loss: 2.3285 - val_accuracy: 0.1567\n",
            "Epoch 3/1000\n",
            "63/71 [=========================>....] - ETA: 0s - loss: 1.8841 - accuracy: 0.3508\n",
            "Epoch 3: saving model to models\\keypoint_classifier.hdf5\n",
            "71/71 [==============================] - 0s 5ms/step - loss: 1.8777 - accuracy: 0.3550 - val_loss: 2.0361 - val_accuracy: 0.2920\n",
            "Epoch 4/1000\n",
            "66/71 [==========================>...] - ETA: 0s - loss: 1.7332 - accuracy: 0.4092\n",
            "Epoch 4: saving model to models\\keypoint_classifier.hdf5\n",
            "71/71 [==============================] - 0s 5ms/step - loss: 1.7289 - accuracy: 0.4117 - val_loss: 1.8890 - val_accuracy: 0.3650\n",
            "Epoch 5/1000\n",
            "65/71 [==========================>...] - ETA: 0s - loss: 1.5868 - accuracy: 0.4625\n",
            "Epoch 5: saving model to models\\keypoint_classifier.hdf5\n",
            "71/71 [==============================] - 0s 5ms/step - loss: 1.5829 - accuracy: 0.4634 - val_loss: 1.6409 - val_accuracy: 0.4927\n",
            "Epoch 6/1000\n",
            "66/71 [==========================>...] - ETA: 0s - loss: 1.4225 - accuracy: 0.5192\n",
            "Epoch 6: saving model to models\\keypoint_classifier.hdf5\n",
            "71/71 [==============================] - 0s 5ms/step - loss: 1.4178 - accuracy: 0.5229 - val_loss: 1.1629 - val_accuracy: 0.6417\n",
            "Epoch 7/1000\n",
            "69/71 [============================>.] - ETA: 0s - loss: 1.2930 - accuracy: 0.5628\n",
            "Epoch 7: saving model to models\\keypoint_classifier.hdf5\n",
            "71/71 [==============================] - 0s 5ms/step - loss: 1.2880 - accuracy: 0.5640 - val_loss: 0.9641 - val_accuracy: 0.7103\n",
            "Epoch 8/1000\n",
            "56/71 [======================>.......] - ETA: 0s - loss: 1.1714 - accuracy: 0.6078\n",
            "Epoch 8: saving model to models\\keypoint_classifier.hdf5\n",
            "71/71 [==============================] - 0s 4ms/step - loss: 1.1488 - accuracy: 0.6141 - val_loss: 0.7282 - val_accuracy: 0.7650\n",
            "Epoch 9/1000\n",
            "65/71 [==========================>...] - ETA: 0s - loss: 1.0179 - accuracy: 0.6561\n",
            "Epoch 9: saving model to models\\keypoint_classifier.hdf5\n",
            "71/71 [==============================] - 0s 5ms/step - loss: 1.0147 - accuracy: 0.6568 - val_loss: 0.4940 - val_accuracy: 0.8700\n",
            "Epoch 10/1000\n",
            "68/71 [===========================>..] - ETA: 0s - loss: 0.9505 - accuracy: 0.6753\n",
            "Epoch 10: saving model to models\\keypoint_classifier.hdf5\n",
            "71/71 [==============================] - 0s 5ms/step - loss: 0.9492 - accuracy: 0.6752 - val_loss: 0.5053 - val_accuracy: 0.8630\n",
            "Epoch 11/1000\n",
            "54/71 [=====================>........] - ETA: 0s - loss: 0.8788 - accuracy: 0.7012\n",
            "Epoch 11: saving model to models\\keypoint_classifier.hdf5\n",
            "71/71 [==============================] - 0s 4ms/step - loss: 0.8632 - accuracy: 0.7066 - val_loss: 0.5166 - val_accuracy: 0.8237\n",
            "Epoch 12/1000\n",
            "71/71 [==============================] - ETA: 0s - loss: 0.7897 - accuracy: 0.7260\n",
            "Epoch 12: saving model to models\\keypoint_classifier.hdf5\n",
            "71/71 [==============================] - 0s 4ms/step - loss: 0.7897 - accuracy: 0.7260 - val_loss: 0.3862 - val_accuracy: 0.8940\n",
            "Epoch 13/1000\n",
            "68/71 [===========================>..] - ETA: 0s - loss: 0.7704 - accuracy: 0.7358\n",
            "Epoch 13: saving model to models\\keypoint_classifier.hdf5\n",
            "71/71 [==============================] - 0s 4ms/step - loss: 0.7700 - accuracy: 0.7356 - val_loss: 0.3795 - val_accuracy: 0.8790\n",
            "Epoch 14/1000\n",
            "69/71 [============================>.] - ETA: 0s - loss: 0.7503 - accuracy: 0.7394\n",
            "Epoch 14: saving model to models\\keypoint_classifier.hdf5\n",
            "71/71 [==============================] - 0s 5ms/step - loss: 0.7493 - accuracy: 0.7398 - val_loss: 0.3584 - val_accuracy: 0.8900\n",
            "Epoch 15/1000\n",
            "55/71 [======================>.......] - ETA: 0s - loss: 0.7180 - accuracy: 0.7484\n",
            "Epoch 15: saving model to models\\keypoint_classifier.hdf5\n",
            "71/71 [==============================] - 0s 4ms/step - loss: 0.7130 - accuracy: 0.7507 - val_loss: 0.3991 - val_accuracy: 0.8750\n",
            "Epoch 16/1000\n",
            "55/71 [======================>.......] - ETA: 0s - loss: 0.6912 - accuracy: 0.7651\n",
            "Epoch 16: saving model to models\\keypoint_classifier.hdf5\n",
            "71/71 [==============================] - 0s 4ms/step - loss: 0.6838 - accuracy: 0.7660 - val_loss: 0.6447 - val_accuracy: 0.7773\n",
            "Epoch 17/1000\n",
            "70/71 [============================>.] - ETA: 0s - loss: 0.6435 - accuracy: 0.7740\n",
            "Epoch 17: saving model to models\\keypoint_classifier.hdf5\n",
            "71/71 [==============================] - 0s 4ms/step - loss: 0.6442 - accuracy: 0.7739 - val_loss: 0.3752 - val_accuracy: 0.8793\n",
            "Epoch 18/1000\n",
            "68/71 [===========================>..] - ETA: 0s - loss: 0.6060 - accuracy: 0.7881\n",
            "Epoch 18: saving model to models\\keypoint_classifier.hdf5\n",
            "71/71 [==============================] - 0s 4ms/step - loss: 0.6091 - accuracy: 0.7874 - val_loss: 0.3667 - val_accuracy: 0.8770\n",
            "Epoch 19/1000\n",
            "69/71 [============================>.] - ETA: 0s - loss: 0.6132 - accuracy: 0.7873\n",
            "Epoch 19: saving model to models\\keypoint_classifier.hdf5\n",
            "71/71 [==============================] - 0s 4ms/step - loss: 0.6095 - accuracy: 0.7882 - val_loss: 0.3306 - val_accuracy: 0.8827\n",
            "Epoch 20/1000\n",
            "64/71 [==========================>...] - ETA: 0s - loss: 0.5928 - accuracy: 0.7935\n",
            "Epoch 20: saving model to models\\keypoint_classifier.hdf5\n",
            "71/71 [==============================] - 0s 5ms/step - loss: 0.5959 - accuracy: 0.7927 - val_loss: 0.3489 - val_accuracy: 0.8807\n",
            "Epoch 21/1000\n",
            "61/71 [========================>.....] - ETA: 0s - loss: 0.5547 - accuracy: 0.8101\n",
            "Epoch 21: saving model to models\\keypoint_classifier.hdf5\n",
            "71/71 [==============================] - 0s 5ms/step - loss: 0.5573 - accuracy: 0.8094 - val_loss: 0.4293 - val_accuracy: 0.8597\n",
            "Epoch 22/1000\n",
            "69/71 [============================>.] - ETA: 0s - loss: 0.5518 - accuracy: 0.8037\n",
            "Epoch 22: saving model to models\\keypoint_classifier.hdf5\n",
            "71/71 [==============================] - 0s 4ms/step - loss: 0.5536 - accuracy: 0.8034 - val_loss: 0.3489 - val_accuracy: 0.8823\n",
            "Epoch 23/1000\n",
            "54/71 [=====================>........] - ETA: 0s - loss: 0.5549 - accuracy: 0.8022\n",
            "Epoch 23: saving model to models\\keypoint_classifier.hdf5\n",
            "71/71 [==============================] - 0s 4ms/step - loss: 0.5537 - accuracy: 0.8037 - val_loss: 0.3837 - val_accuracy: 0.8623\n",
            "Epoch 24/1000\n",
            "54/71 [=====================>........] - ETA: 0s - loss: 0.5438 - accuracy: 0.8128\n",
            "Epoch 24: saving model to models\\keypoint_classifier.hdf5\n",
            "71/71 [==============================] - 0s 4ms/step - loss: 0.5381 - accuracy: 0.8153 - val_loss: 0.3063 - val_accuracy: 0.8970\n",
            "Epoch 25/1000\n",
            "54/71 [=====================>........] - ETA: 0s - loss: 0.5374 - accuracy: 0.8119\n",
            "Epoch 25: saving model to models\\keypoint_classifier.hdf5\n",
            "71/71 [==============================] - 0s 4ms/step - loss: 0.5316 - accuracy: 0.8138 - val_loss: 0.2740 - val_accuracy: 0.9167\n",
            "Epoch 26/1000\n",
            "56/71 [======================>.......] - ETA: 0s - loss: 0.4994 - accuracy: 0.8291\n",
            "Epoch 26: saving model to models\\keypoint_classifier.hdf5\n",
            "71/71 [==============================] - 0s 4ms/step - loss: 0.5018 - accuracy: 0.8268 - val_loss: 0.3459 - val_accuracy: 0.8783\n",
            "Epoch 27/1000\n",
            "65/71 [==========================>...] - ETA: 0s - loss: 0.4950 - accuracy: 0.8263\n",
            "Epoch 27: saving model to models\\keypoint_classifier.hdf5\n",
            "71/71 [==============================] - 0s 5ms/step - loss: 0.4932 - accuracy: 0.8269 - val_loss: 0.4363 - val_accuracy: 0.8377\n",
            "Epoch 28/1000\n",
            "54/71 [=====================>........] - ETA: 0s - loss: 0.4923 - accuracy: 0.8358\n",
            "Epoch 28: saving model to models\\keypoint_classifier.hdf5\n",
            "71/71 [==============================] - 0s 4ms/step - loss: 0.4829 - accuracy: 0.8380 - val_loss: 0.2821 - val_accuracy: 0.9017\n",
            "Epoch 29/1000\n",
            "56/71 [======================>.......] - ETA: 0s - loss: 0.4568 - accuracy: 0.8373\n",
            "Epoch 29: saving model to models\\keypoint_classifier.hdf5\n",
            "71/71 [==============================] - 0s 4ms/step - loss: 0.4728 - accuracy: 0.8330 - val_loss: 0.2972 - val_accuracy: 0.9090\n",
            "Epoch 30/1000\n",
            "55/71 [======================>.......] - ETA: 0s - loss: 0.4668 - accuracy: 0.8322\n",
            "Epoch 30: saving model to models\\keypoint_classifier.hdf5\n",
            "71/71 [==============================] - 0s 4ms/step - loss: 0.4712 - accuracy: 0.8320 - val_loss: 0.2646 - val_accuracy: 0.9120\n",
            "Epoch 31/1000\n",
            "54/71 [=====================>........] - ETA: 0s - loss: 0.4766 - accuracy: 0.8358\n",
            "Epoch 31: saving model to models\\keypoint_classifier.hdf5\n",
            "71/71 [==============================] - 0s 4ms/step - loss: 0.4758 - accuracy: 0.8349 - val_loss: 0.2611 - val_accuracy: 0.9247\n",
            "Epoch 32/1000\n",
            "54/71 [=====================>........] - ETA: 0s - loss: 0.4624 - accuracy: 0.8372\n",
            "Epoch 32: saving model to models\\keypoint_classifier.hdf5\n",
            "71/71 [==============================] - 0s 4ms/step - loss: 0.4544 - accuracy: 0.8387 - val_loss: 0.2468 - val_accuracy: 0.9270\n",
            "Epoch 33/1000\n",
            "69/71 [============================>.] - ETA: 0s - loss: 0.4532 - accuracy: 0.8396\n",
            "Epoch 33: saving model to models\\keypoint_classifier.hdf5\n",
            "71/71 [==============================] - 0s 4ms/step - loss: 0.4535 - accuracy: 0.8398 - val_loss: 0.3862 - val_accuracy: 0.8673\n",
            "Epoch 34/1000\n",
            "54/71 [=====================>........] - ETA: 0s - loss: 0.4312 - accuracy: 0.8442\n",
            "Epoch 34: saving model to models\\keypoint_classifier.hdf5\n",
            "71/71 [==============================] - 0s 4ms/step - loss: 0.4359 - accuracy: 0.8420 - val_loss: 0.2696 - val_accuracy: 0.9123\n",
            "Epoch 35/1000\n",
            "55/71 [======================>.......] - ETA: 0s - loss: 0.4487 - accuracy: 0.8401\n",
            "Epoch 35: saving model to models\\keypoint_classifier.hdf5\n",
            "71/71 [==============================] - 0s 4ms/step - loss: 0.4385 - accuracy: 0.8431 - val_loss: 0.2387 - val_accuracy: 0.9273\n",
            "Epoch 36/1000\n",
            "54/71 [=====================>........] - ETA: 0s - loss: 0.4195 - accuracy: 0.8495\n",
            "Epoch 36: saving model to models\\keypoint_classifier.hdf5\n",
            "71/71 [==============================] - 0s 4ms/step - loss: 0.4291 - accuracy: 0.8482 - val_loss: 0.3439 - val_accuracy: 0.8847\n",
            "Epoch 37/1000\n",
            "54/71 [=====================>........] - ETA: 0s - loss: 0.4270 - accuracy: 0.8511\n",
            "Epoch 37: saving model to models\\keypoint_classifier.hdf5\n",
            "71/71 [==============================] - 0s 4ms/step - loss: 0.4223 - accuracy: 0.8513 - val_loss: 0.3759 - val_accuracy: 0.8783\n",
            "Epoch 38/1000\n",
            "70/71 [============================>.] - ETA: 0s - loss: 0.4160 - accuracy: 0.8516\n",
            "Epoch 38: saving model to models\\keypoint_classifier.hdf5\n",
            "71/71 [==============================] - 0s 4ms/step - loss: 0.4160 - accuracy: 0.8516 - val_loss: 0.3009 - val_accuracy: 0.9047\n",
            "Epoch 39/1000\n",
            "55/71 [======================>.......] - ETA: 0s - loss: 0.4270 - accuracy: 0.8469\n",
            "Epoch 39: saving model to models\\keypoint_classifier.hdf5\n",
            "71/71 [==============================] - 0s 4ms/step - loss: 0.4278 - accuracy: 0.8469 - val_loss: 0.3145 - val_accuracy: 0.8973\n",
            "Epoch 40/1000\n",
            "54/71 [=====================>........] - ETA: 0s - loss: 0.4120 - accuracy: 0.8556\n",
            "Epoch 40: saving model to models\\keypoint_classifier.hdf5\n",
            "71/71 [==============================] - 0s 4ms/step - loss: 0.4082 - accuracy: 0.8554 - val_loss: 0.2137 - val_accuracy: 0.9303\n",
            "Epoch 41/1000\n",
            "54/71 [=====================>........] - ETA: 0s - loss: 0.4145 - accuracy: 0.8477\n",
            "Epoch 41: saving model to models\\keypoint_classifier.hdf5\n",
            "71/71 [==============================] - 0s 4ms/step - loss: 0.4132 - accuracy: 0.8481 - val_loss: 0.2279 - val_accuracy: 0.9287\n",
            "Epoch 42/1000\n",
            "54/71 [=====================>........] - ETA: 0s - loss: 0.4012 - accuracy: 0.8571\n",
            "Epoch 42: saving model to models\\keypoint_classifier.hdf5\n",
            "71/71 [==============================] - 0s 4ms/step - loss: 0.4016 - accuracy: 0.8557 - val_loss: 0.6521 - val_accuracy: 0.7977\n",
            "Epoch 43/1000\n",
            "54/71 [=====================>........] - ETA: 0s - loss: 0.4039 - accuracy: 0.8571\n",
            "Epoch 43: saving model to models\\keypoint_classifier.hdf5\n",
            "71/71 [==============================] - 0s 4ms/step - loss: 0.4073 - accuracy: 0.8559 - val_loss: 0.2748 - val_accuracy: 0.9023\n",
            "Epoch 44/1000\n",
            "54/71 [=====================>........] - ETA: 0s - loss: 0.3989 - accuracy: 0.8566\n",
            "Epoch 44: saving model to models\\keypoint_classifier.hdf5\n",
            "71/71 [==============================] - 0s 4ms/step - loss: 0.3982 - accuracy: 0.8570 - val_loss: 0.3150 - val_accuracy: 0.8860\n",
            "Epoch 45/1000\n",
            "66/71 [==========================>...] - ETA: 0s - loss: 0.4036 - accuracy: 0.8562\n",
            "Epoch 45: saving model to models\\keypoint_classifier.hdf5\n",
            "71/71 [==============================] - 0s 4ms/step - loss: 0.4002 - accuracy: 0.8570 - val_loss: 0.2917 - val_accuracy: 0.8983\n",
            "Epoch 46/1000\n",
            "55/71 [======================>.......] - ETA: 0s - loss: 0.3767 - accuracy: 0.8707\n",
            "Epoch 46: saving model to models\\keypoint_classifier.hdf5\n",
            "71/71 [==============================] - 0s 4ms/step - loss: 0.3791 - accuracy: 0.8687 - val_loss: 0.3311 - val_accuracy: 0.8903\n",
            "Epoch 47/1000\n",
            "54/71 [=====================>........] - ETA: 0s - loss: 0.3856 - accuracy: 0.8568\n",
            "Epoch 47: saving model to models\\keypoint_classifier.hdf5\n",
            "71/71 [==============================] - 0s 4ms/step - loss: 0.3834 - accuracy: 0.8581 - val_loss: 0.3472 - val_accuracy: 0.8883\n",
            "Epoch 48/1000\n",
            "54/71 [=====================>........] - ETA: 0s - loss: 0.3803 - accuracy: 0.8588\n",
            "Epoch 48: saving model to models\\keypoint_classifier.hdf5\n",
            "71/71 [==============================] - 0s 4ms/step - loss: 0.3786 - accuracy: 0.8589 - val_loss: 0.3682 - val_accuracy: 0.8550\n",
            "Epoch 49/1000\n",
            "55/71 [======================>.......] - ETA: 0s - loss: 0.3734 - accuracy: 0.8714\n",
            "Epoch 49: saving model to models\\keypoint_classifier.hdf5\n",
            "71/71 [==============================] - 0s 4ms/step - loss: 0.3649 - accuracy: 0.8737 - val_loss: 0.2688 - val_accuracy: 0.9067\n",
            "Epoch 50/1000\n",
            "54/71 [=====================>........] - ETA: 0s - loss: 0.3732 - accuracy: 0.8678\n",
            "Epoch 50: saving model to models\\keypoint_classifier.hdf5\n",
            "71/71 [==============================] - 0s 4ms/step - loss: 0.3737 - accuracy: 0.8681 - val_loss: 0.3347 - val_accuracy: 0.8830\n",
            "Epoch 51/1000\n",
            "55/71 [======================>.......] - ETA: 0s - loss: 0.3812 - accuracy: 0.8612\n",
            "Epoch 51: saving model to models\\keypoint_classifier.hdf5\n",
            "71/71 [==============================] - 0s 4ms/step - loss: 0.3807 - accuracy: 0.8598 - val_loss: 0.2321 - val_accuracy: 0.9270\n",
            "Epoch 52/1000\n",
            "54/71 [=====================>........] - ETA: 0s - loss: 0.3754 - accuracy: 0.8663\n",
            "Epoch 52: saving model to models\\keypoint_classifier.hdf5\n",
            "71/71 [==============================] - 0s 4ms/step - loss: 0.3799 - accuracy: 0.8664 - val_loss: 0.2784 - val_accuracy: 0.9047\n",
            "Epoch 53/1000\n",
            "54/71 [=====================>........] - ETA: 0s - loss: 0.3868 - accuracy: 0.8610\n",
            "Epoch 53: saving model to models\\keypoint_classifier.hdf5\n",
            "71/71 [==============================] - 0s 4ms/step - loss: 0.3820 - accuracy: 0.8629 - val_loss: 0.3119 - val_accuracy: 0.8960\n",
            "Epoch 54/1000\n",
            "54/71 [=====================>........] - ETA: 0s - loss: 0.3468 - accuracy: 0.8662\n",
            "Epoch 54: saving model to models\\keypoint_classifier.hdf5\n",
            "71/71 [==============================] - 0s 4ms/step - loss: 0.3502 - accuracy: 0.8669 - val_loss: 0.2823 - val_accuracy: 0.9030\n",
            "Epoch 55/1000\n",
            "55/71 [======================>.......] - ETA: 0s - loss: 0.3382 - accuracy: 0.8824\n",
            "Epoch 55: saving model to models\\keypoint_classifier.hdf5\n",
            "71/71 [==============================] - 0s 4ms/step - loss: 0.3509 - accuracy: 0.8780 - val_loss: 0.3019 - val_accuracy: 0.8937\n",
            "Epoch 56/1000\n",
            "55/71 [======================>.......] - ETA: 0s - loss: 0.3584 - accuracy: 0.8729\n",
            "Epoch 56: saving model to models\\keypoint_classifier.hdf5\n",
            "71/71 [==============================] - 0s 4ms/step - loss: 0.3607 - accuracy: 0.8714 - val_loss: 0.3090 - val_accuracy: 0.8787\n",
            "Epoch 57/1000\n",
            "70/71 [============================>.] - ETA: 0s - loss: 0.3521 - accuracy: 0.8721\n",
            "Epoch 57: saving model to models\\keypoint_classifier.hdf5\n",
            "71/71 [==============================] - 0s 5ms/step - loss: 0.3524 - accuracy: 0.8719 - val_loss: 0.2100 - val_accuracy: 0.9323\n",
            "Epoch 58/1000\n",
            "71/71 [==============================] - ETA: 0s - loss: 0.3385 - accuracy: 0.8754\n",
            "Epoch 58: saving model to models\\keypoint_classifier.hdf5\n",
            "71/71 [==============================] - 0s 4ms/step - loss: 0.3385 - accuracy: 0.8754 - val_loss: 0.2058 - val_accuracy: 0.9333\n",
            "Epoch 59/1000\n",
            "53/71 [=====================>........] - ETA: 0s - loss: 0.3472 - accuracy: 0.8732\n",
            "Epoch 59: saving model to models\\keypoint_classifier.hdf5\n",
            "71/71 [==============================] - 0s 4ms/step - loss: 0.3432 - accuracy: 0.8761 - val_loss: 0.3533 - val_accuracy: 0.8787\n",
            "Epoch 60/1000\n",
            "63/71 [=========================>....] - ETA: 0s - loss: 0.3539 - accuracy: 0.8739\n",
            "Epoch 60: saving model to models\\keypoint_classifier.hdf5\n",
            "71/71 [==============================] - 0s 5ms/step - loss: 0.3482 - accuracy: 0.8762 - val_loss: 0.3104 - val_accuracy: 0.8777\n",
            "Epoch 61/1000\n",
            "55/71 [======================>.......] - ETA: 0s - loss: 0.3364 - accuracy: 0.8791\n",
            "Epoch 61: saving model to models\\keypoint_classifier.hdf5\n",
            "71/71 [==============================] - 0s 4ms/step - loss: 0.3486 - accuracy: 0.8763 - val_loss: 0.2111 - val_accuracy: 0.9303\n",
            "Epoch 62/1000\n",
            "54/71 [=====================>........] - ETA: 0s - loss: 0.3378 - accuracy: 0.8798\n",
            "Epoch 62: saving model to models\\keypoint_classifier.hdf5\n",
            "71/71 [==============================] - 0s 4ms/step - loss: 0.3296 - accuracy: 0.8824 - val_loss: 0.2225 - val_accuracy: 0.9367\n",
            "Epoch 63/1000\n",
            "54/71 [=====================>........] - ETA: 0s - loss: 0.3366 - accuracy: 0.8767\n",
            "Epoch 63: saving model to models\\keypoint_classifier.hdf5\n",
            "71/71 [==============================] - 0s 4ms/step - loss: 0.3390 - accuracy: 0.8761 - val_loss: 0.3939 - val_accuracy: 0.8620\n",
            "Epoch 64/1000\n",
            "61/71 [========================>.....] - ETA: 0s - loss: 0.3385 - accuracy: 0.8790\n",
            "Epoch 64: saving model to models\\keypoint_classifier.hdf5\n",
            "71/71 [==============================] - 0s 5ms/step - loss: 0.3386 - accuracy: 0.8790 - val_loss: 0.2709 - val_accuracy: 0.9150\n",
            "Epoch 65/1000\n",
            "58/71 [=======================>......] - ETA: 0s - loss: 0.3391 - accuracy: 0.8747\n",
            "Epoch 65: saving model to models\\keypoint_classifier.hdf5\n",
            "71/71 [==============================] - 0s 5ms/step - loss: 0.3386 - accuracy: 0.8751 - val_loss: 0.2710 - val_accuracy: 0.9007\n",
            "Epoch 66/1000\n",
            "63/71 [=========================>....] - ETA: 0s - loss: 0.3388 - accuracy: 0.8765\n",
            "Epoch 66: saving model to models\\keypoint_classifier.hdf5\n",
            "71/71 [==============================] - 0s 6ms/step - loss: 0.3424 - accuracy: 0.8762 - val_loss: 0.2185 - val_accuracy: 0.9300\n",
            "Epoch 67/1000\n",
            "59/71 [=======================>......] - ETA: 0s - loss: 0.3342 - accuracy: 0.8784\n",
            "Epoch 67: saving model to models\\keypoint_classifier.hdf5\n",
            "71/71 [==============================] - 0s 5ms/step - loss: 0.3286 - accuracy: 0.8796 - val_loss: 0.2799 - val_accuracy: 0.9010\n",
            "Epoch 68/1000\n",
            "68/71 [===========================>..] - ETA: 0s - loss: 0.3184 - accuracy: 0.8883\n",
            "Epoch 68: saving model to models\\keypoint_classifier.hdf5\n",
            "71/71 [==============================] - 0s 5ms/step - loss: 0.3153 - accuracy: 0.8896 - val_loss: 0.2068 - val_accuracy: 0.9353\n",
            "Epoch 69/1000\n",
            "57/71 [=======================>......] - ETA: 0s - loss: 0.3278 - accuracy: 0.8851\n",
            "Epoch 69: saving model to models\\keypoint_classifier.hdf5\n",
            "71/71 [==============================] - 0s 5ms/step - loss: 0.3277 - accuracy: 0.8857 - val_loss: 0.1939 - val_accuracy: 0.9457\n",
            "Epoch 70/1000\n",
            "62/71 [=========================>....] - ETA: 0s - loss: 0.3268 - accuracy: 0.8845\n",
            "Epoch 70: saving model to models\\keypoint_classifier.hdf5\n",
            "71/71 [==============================] - 0s 6ms/step - loss: 0.3222 - accuracy: 0.8849 - val_loss: 0.2740 - val_accuracy: 0.9067\n",
            "Epoch 71/1000\n",
            "61/71 [========================>.....] - ETA: 0s - loss: 0.3100 - accuracy: 0.8877\n",
            "Epoch 71: saving model to models\\keypoint_classifier.hdf5\n",
            "71/71 [==============================] - 0s 6ms/step - loss: 0.3113 - accuracy: 0.8883 - val_loss: 0.3282 - val_accuracy: 0.8843\n",
            "Epoch 72/1000\n",
            "61/71 [========================>.....] - ETA: 0s - loss: 0.3230 - accuracy: 0.8899\n",
            "Epoch 72: saving model to models\\keypoint_classifier.hdf5\n",
            "71/71 [==============================] - 0s 6ms/step - loss: 0.3211 - accuracy: 0.8897 - val_loss: 0.3587 - val_accuracy: 0.8690\n",
            "Epoch 73/1000\n",
            "62/71 [=========================>....] - ETA: 0s - loss: 0.3157 - accuracy: 0.8872\n",
            "Epoch 73: saving model to models\\keypoint_classifier.hdf5\n",
            "71/71 [==============================] - 0s 6ms/step - loss: 0.3129 - accuracy: 0.8884 - val_loss: 0.2454 - val_accuracy: 0.9237\n",
            "Epoch 74/1000\n",
            "69/71 [============================>.] - ETA: 0s - loss: 0.3157 - accuracy: 0.8863\n",
            "Epoch 74: saving model to models\\keypoint_classifier.hdf5\n",
            "71/71 [==============================] - 0s 5ms/step - loss: 0.3157 - accuracy: 0.8871 - val_loss: 0.2197 - val_accuracy: 0.9307\n",
            "Epoch 75/1000\n",
            "65/71 [==========================>...] - ETA: 0s - loss: 0.3086 - accuracy: 0.8894\n",
            "Epoch 75: saving model to models\\keypoint_classifier.hdf5\n",
            "71/71 [==============================] - 0s 5ms/step - loss: 0.3139 - accuracy: 0.8887 - val_loss: 0.3401 - val_accuracy: 0.8823\n",
            "Epoch 76/1000\n",
            "61/71 [========================>.....] - ETA: 0s - loss: 0.3152 - accuracy: 0.8874\n",
            "Epoch 76: saving model to models\\keypoint_classifier.hdf5\n",
            "71/71 [==============================] - 0s 5ms/step - loss: 0.3143 - accuracy: 0.8879 - val_loss: 0.4675 - val_accuracy: 0.8340\n",
            "Epoch 77/1000\n",
            "70/71 [============================>.] - ETA: 0s - loss: 0.3234 - accuracy: 0.8829\n",
            "Epoch 77: saving model to models\\keypoint_classifier.hdf5\n",
            "71/71 [==============================] - 0s 5ms/step - loss: 0.3230 - accuracy: 0.8830 - val_loss: 0.2875 - val_accuracy: 0.9013\n",
            "Epoch 78/1000\n",
            "64/71 [==========================>...] - ETA: 0s - loss: 0.3075 - accuracy: 0.8876\n",
            "Epoch 78: saving model to models\\keypoint_classifier.hdf5\n",
            "71/71 [==============================] - 0s 5ms/step - loss: 0.3092 - accuracy: 0.8881 - val_loss: 0.2856 - val_accuracy: 0.8993\n",
            "Epoch 79/1000\n",
            "69/71 [============================>.] - ETA: 0s - loss: 0.3056 - accuracy: 0.8916\n",
            "Epoch 79: saving model to models\\keypoint_classifier.hdf5\n",
            "71/71 [==============================] - 0s 5ms/step - loss: 0.3054 - accuracy: 0.8913 - val_loss: 0.2592 - val_accuracy: 0.9003\n",
            "Epoch 80/1000\n",
            "64/71 [==========================>...] - ETA: 0s - loss: 0.2938 - accuracy: 0.8936\n",
            "Epoch 80: saving model to models\\keypoint_classifier.hdf5\n",
            "71/71 [==============================] - 0s 5ms/step - loss: 0.2982 - accuracy: 0.8919 - val_loss: 0.2237 - val_accuracy: 0.9263\n",
            "Epoch 81/1000\n",
            "61/71 [========================>.....] - ETA: 0s - loss: 0.3022 - accuracy: 0.8888\n",
            "Epoch 81: saving model to models\\keypoint_classifier.hdf5\n",
            "71/71 [==============================] - 0s 5ms/step - loss: 0.3009 - accuracy: 0.8891 - val_loss: 0.2582 - val_accuracy: 0.9190\n",
            "Epoch 82/1000\n",
            "55/71 [======================>.......] - ETA: 0s - loss: 0.2960 - accuracy: 0.8938\n",
            "Epoch 82: saving model to models\\keypoint_classifier.hdf5\n",
            "71/71 [==============================] - 0s 5ms/step - loss: 0.2983 - accuracy: 0.8921 - val_loss: 0.2449 - val_accuracy: 0.9213\n",
            "Epoch 83/1000\n",
            "64/71 [==========================>...] - ETA: 0s - loss: 0.3076 - accuracy: 0.8922\n",
            "Epoch 83: saving model to models\\keypoint_classifier.hdf5\n",
            "71/71 [==============================] - 0s 5ms/step - loss: 0.3052 - accuracy: 0.8916 - val_loss: 0.2148 - val_accuracy: 0.9263\n",
            "Epoch 84/1000\n",
            "60/71 [========================>.....] - ETA: 0s - loss: 0.3128 - accuracy: 0.8862\n",
            "Epoch 84: saving model to models\\keypoint_classifier.hdf5\n",
            "71/71 [==============================] - 0s 5ms/step - loss: 0.3155 - accuracy: 0.8846 - val_loss: 0.2649 - val_accuracy: 0.9143\n",
            "Epoch 85/1000\n",
            "64/71 [==========================>...] - ETA: 0s - loss: 0.3092 - accuracy: 0.8865\n",
            "Epoch 85: saving model to models\\keypoint_classifier.hdf5\n",
            "71/71 [==============================] - 0s 5ms/step - loss: 0.3111 - accuracy: 0.8860 - val_loss: 0.2625 - val_accuracy: 0.9133\n",
            "Epoch 86/1000\n",
            "64/71 [==========================>...] - ETA: 0s - loss: 0.2971 - accuracy: 0.8960\n",
            "Epoch 86: saving model to models\\keypoint_classifier.hdf5\n",
            "71/71 [==============================] - 0s 5ms/step - loss: 0.2991 - accuracy: 0.8942 - val_loss: 0.2607 - val_accuracy: 0.9140\n",
            "Epoch 87/1000\n",
            "62/71 [=========================>....] - ETA: 0s - loss: 0.3039 - accuracy: 0.8919\n",
            "Epoch 87: saving model to models\\keypoint_classifier.hdf5\n",
            "71/71 [==============================] - 0s 5ms/step - loss: 0.3006 - accuracy: 0.8927 - val_loss: 0.2862 - val_accuracy: 0.8870\n",
            "Epoch 88/1000\n",
            "63/71 [=========================>....] - ETA: 0s - loss: 0.2988 - accuracy: 0.8900\n",
            "Epoch 88: saving model to models\\keypoint_classifier.hdf5\n",
            "71/71 [==============================] - 0s 5ms/step - loss: 0.3019 - accuracy: 0.8896 - val_loss: 0.1764 - val_accuracy: 0.9513\n",
            "Epoch 89/1000\n",
            "63/71 [=========================>....] - ETA: 0s - loss: 0.2965 - accuracy: 0.8926\n",
            "Epoch 89: saving model to models\\keypoint_classifier.hdf5\n",
            "71/71 [==============================] - 0s 5ms/step - loss: 0.3025 - accuracy: 0.8916 - val_loss: 0.4486 - val_accuracy: 0.8457\n",
            "Epoch 90/1000\n",
            "62/71 [=========================>....] - ETA: 0s - loss: 0.2967 - accuracy: 0.8945\n",
            "Epoch 90: saving model to models\\keypoint_classifier.hdf5\n",
            "71/71 [==============================] - 0s 5ms/step - loss: 0.2948 - accuracy: 0.8953 - val_loss: 0.3228 - val_accuracy: 0.8877\n",
            "Epoch 91/1000\n",
            "71/71 [==============================] - ETA: 0s - loss: 0.2941 - accuracy: 0.8918\n",
            "Epoch 91: saving model to models\\keypoint_classifier.hdf5\n",
            "71/71 [==============================] - 0s 5ms/step - loss: 0.2941 - accuracy: 0.8918 - val_loss: 0.3352 - val_accuracy: 0.8803\n",
            "Epoch 92/1000\n",
            "61/71 [========================>.....] - ETA: 0s - loss: 0.2900 - accuracy: 0.8978\n",
            "Epoch 92: saving model to models\\keypoint_classifier.hdf5\n",
            "71/71 [==============================] - 0s 5ms/step - loss: 0.2915 - accuracy: 0.8988 - val_loss: 0.2716 - val_accuracy: 0.9023\n",
            "Epoch 93/1000\n",
            "62/71 [=========================>....] - ETA: 0s - loss: 0.3009 - accuracy: 0.8897\n",
            "Epoch 93: saving model to models\\keypoint_classifier.hdf5\n",
            "71/71 [==============================] - 0s 6ms/step - loss: 0.2988 - accuracy: 0.8914 - val_loss: 0.1997 - val_accuracy: 0.9300\n",
            "Epoch 94/1000\n",
            "71/71 [==============================] - ETA: 0s - loss: 0.2931 - accuracy: 0.8946\n",
            "Epoch 94: saving model to models\\keypoint_classifier.hdf5\n",
            "71/71 [==============================] - 0s 7ms/step - loss: 0.2931 - accuracy: 0.8946 - val_loss: 0.1772 - val_accuracy: 0.9417\n",
            "Epoch 95/1000\n",
            "64/71 [==========================>...] - ETA: 0s - loss: 0.2928 - accuracy: 0.8961\n",
            "Epoch 95: saving model to models\\keypoint_classifier.hdf5\n",
            "71/71 [==============================] - 0s 6ms/step - loss: 0.2924 - accuracy: 0.8964 - val_loss: 0.3109 - val_accuracy: 0.8883\n",
            "Epoch 96/1000\n",
            "58/71 [=======================>......] - ETA: 0s - loss: 0.2769 - accuracy: 0.8979\n",
            "Epoch 96: saving model to models\\keypoint_classifier.hdf5\n",
            "71/71 [==============================] - 0s 5ms/step - loss: 0.2857 - accuracy: 0.8956 - val_loss: 0.2456 - val_accuracy: 0.9183\n",
            "Epoch 97/1000\n",
            "69/71 [============================>.] - ETA: 0s - loss: 0.2862 - accuracy: 0.8991\n",
            "Epoch 97: saving model to models\\keypoint_classifier.hdf5\n",
            "71/71 [==============================] - 0s 7ms/step - loss: 0.2856 - accuracy: 0.8992 - val_loss: 0.2227 - val_accuracy: 0.9270\n",
            "Epoch 98/1000\n",
            "59/71 [=======================>......] - ETA: 0s - loss: 0.2747 - accuracy: 0.9008\n",
            "Epoch 98: saving model to models\\keypoint_classifier.hdf5\n",
            "71/71 [==============================] - 0s 5ms/step - loss: 0.2727 - accuracy: 0.9010 - val_loss: 0.2013 - val_accuracy: 0.9350\n",
            "Epoch 99/1000\n",
            "64/71 [==========================>...] - ETA: 0s - loss: 0.2792 - accuracy: 0.9017\n",
            "Epoch 99: saving model to models\\keypoint_classifier.hdf5\n",
            "71/71 [==============================] - 0s 5ms/step - loss: 0.2802 - accuracy: 0.9008 - val_loss: 0.2332 - val_accuracy: 0.9193\n",
            "Epoch 100/1000\n",
            "67/71 [===========================>..] - ETA: 0s - loss: 0.2810 - accuracy: 0.9001\n",
            "Epoch 100: saving model to models\\keypoint_classifier.hdf5\n",
            "71/71 [==============================] - 0s 6ms/step - loss: 0.2806 - accuracy: 0.8993 - val_loss: 0.1839 - val_accuracy: 0.9413\n",
            "Epoch 101/1000\n",
            "64/71 [==========================>...] - ETA: 0s - loss: 0.2798 - accuracy: 0.8976\n",
            "Epoch 101: saving model to models\\keypoint_classifier.hdf5\n",
            "71/71 [==============================] - 0s 5ms/step - loss: 0.2756 - accuracy: 0.8988 - val_loss: 0.1922 - val_accuracy: 0.9413\n",
            "Epoch 102/1000\n",
            "69/71 [============================>.] - ETA: 0s - loss: 0.2775 - accuracy: 0.9012\n",
            "Epoch 102: saving model to models\\keypoint_classifier.hdf5\n",
            "71/71 [==============================] - 0s 4ms/step - loss: 0.2785 - accuracy: 0.9010 - val_loss: 0.2552 - val_accuracy: 0.9067\n",
            "Epoch 103/1000\n",
            "71/71 [==============================] - ETA: 0s - loss: 0.2738 - accuracy: 0.9010\n",
            "Epoch 103: saving model to models\\keypoint_classifier.hdf5\n",
            "71/71 [==============================] - 0s 4ms/step - loss: 0.2738 - accuracy: 0.9010 - val_loss: 0.1921 - val_accuracy: 0.9463\n",
            "Epoch 104/1000\n",
            "63/71 [=========================>....] - ETA: 0s - loss: 0.2664 - accuracy: 0.9036\n",
            "Epoch 104: saving model to models\\keypoint_classifier.hdf5\n",
            "71/71 [==============================] - 0s 5ms/step - loss: 0.2701 - accuracy: 0.9022 - val_loss: 0.2360 - val_accuracy: 0.9237\n",
            "Epoch 105/1000\n",
            "70/71 [============================>.] - ETA: 0s - loss: 0.2682 - accuracy: 0.9087\n",
            "Epoch 105: saving model to models\\keypoint_classifier.hdf5\n",
            "71/71 [==============================] - 0s 5ms/step - loss: 0.2680 - accuracy: 0.9086 - val_loss: 0.2007 - val_accuracy: 0.9327\n",
            "Epoch 106/1000\n",
            "69/71 [============================>.] - ETA: 0s - loss: 0.2655 - accuracy: 0.9059\n",
            "Epoch 106: saving model to models\\keypoint_classifier.hdf5\n",
            "71/71 [==============================] - 0s 4ms/step - loss: 0.2654 - accuracy: 0.9058 - val_loss: 0.4147 - val_accuracy: 0.8463\n",
            "Epoch 107/1000\n",
            "66/71 [==========================>...] - ETA: 0s - loss: 0.2887 - accuracy: 0.8954\n",
            "Epoch 107: saving model to models\\keypoint_classifier.hdf5\n",
            "71/71 [==============================] - 0s 5ms/step - loss: 0.2884 - accuracy: 0.8963 - val_loss: 0.2303 - val_accuracy: 0.9163\n",
            "Epoch 108/1000\n",
            "59/71 [=======================>......] - ETA: 0s - loss: 0.2855 - accuracy: 0.8966\n",
            "Epoch 108: saving model to models\\keypoint_classifier.hdf5\n",
            "71/71 [==============================] - 0s 6ms/step - loss: 0.2797 - accuracy: 0.8991 - val_loss: 0.3600 - val_accuracy: 0.8773\n",
            "Epoch 109/1000\n",
            "66/71 [==========================>...] - ETA: 0s - loss: 0.2684 - accuracy: 0.9027\n",
            "Epoch 109: saving model to models\\keypoint_classifier.hdf5\n",
            "71/71 [==============================] - 0s 5ms/step - loss: 0.2677 - accuracy: 0.9019 - val_loss: 0.2304 - val_accuracy: 0.9227\n",
            "Epoch 110/1000\n",
            "64/71 [==========================>...] - ETA: 0s - loss: 0.2644 - accuracy: 0.9044\n",
            "Epoch 110: saving model to models\\keypoint_classifier.hdf5\n",
            "71/71 [==============================] - 0s 5ms/step - loss: 0.2652 - accuracy: 0.9041 - val_loss: 0.1868 - val_accuracy: 0.9427\n",
            "Epoch 111/1000\n",
            "62/71 [=========================>....] - ETA: 0s - loss: 0.2763 - accuracy: 0.9032\n",
            "Epoch 111: saving model to models\\keypoint_classifier.hdf5\n",
            "71/71 [==============================] - 0s 5ms/step - loss: 0.2714 - accuracy: 0.9048 - val_loss: 0.1757 - val_accuracy: 0.9450\n",
            "Epoch 112/1000\n",
            "66/71 [==========================>...] - ETA: 0s - loss: 0.2758 - accuracy: 0.9032\n",
            "Epoch 112: saving model to models\\keypoint_classifier.hdf5\n",
            "71/71 [==============================] - 0s 6ms/step - loss: 0.2756 - accuracy: 0.9029 - val_loss: 0.2396 - val_accuracy: 0.9200\n",
            "Epoch 113/1000\n",
            "68/71 [===========================>..] - ETA: 0s - loss: 0.2732 - accuracy: 0.8998\n",
            "Epoch 113: saving model to models\\keypoint_classifier.hdf5\n",
            "71/71 [==============================] - 0s 6ms/step - loss: 0.2747 - accuracy: 0.8994 - val_loss: 0.2111 - val_accuracy: 0.9353\n",
            "Epoch 114/1000\n",
            "69/71 [============================>.] - ETA: 0s - loss: 0.2539 - accuracy: 0.9099\n",
            "Epoch 114: saving model to models\\keypoint_classifier.hdf5\n",
            "71/71 [==============================] - 0s 6ms/step - loss: 0.2541 - accuracy: 0.9098 - val_loss: 0.2073 - val_accuracy: 0.9350\n",
            "Epoch 115/1000\n",
            "59/71 [=======================>......] - ETA: 0s - loss: 0.2649 - accuracy: 0.9023\n",
            "Epoch 115: saving model to models\\keypoint_classifier.hdf5\n",
            "71/71 [==============================] - 0s 5ms/step - loss: 0.2707 - accuracy: 0.9013 - val_loss: 0.2023 - val_accuracy: 0.9377\n",
            "Epoch 116/1000\n",
            "65/71 [==========================>...] - ETA: 0s - loss: 0.2566 - accuracy: 0.9085\n",
            "Epoch 116: saving model to models\\keypoint_classifier.hdf5\n",
            "71/71 [==============================] - 0s 6ms/step - loss: 0.2580 - accuracy: 0.9090 - val_loss: 0.3128 - val_accuracy: 0.8820\n",
            "Epoch 117/1000\n",
            "63/71 [=========================>....] - ETA: 0s - loss: 0.2652 - accuracy: 0.9071\n",
            "Epoch 117: saving model to models\\keypoint_classifier.hdf5\n",
            "71/71 [==============================] - 0s 6ms/step - loss: 0.2660 - accuracy: 0.9063 - val_loss: 0.2408 - val_accuracy: 0.9157\n",
            "Epoch 118/1000\n",
            "71/71 [==============================] - ETA: 0s - loss: 0.2626 - accuracy: 0.9063\n",
            "Epoch 118: saving model to models\\keypoint_classifier.hdf5\n",
            "71/71 [==============================] - 0s 5ms/step - loss: 0.2626 - accuracy: 0.9063 - val_loss: 0.2027 - val_accuracy: 0.9270\n",
            "Epoch 119/1000\n",
            "58/71 [=======================>......] - ETA: 0s - loss: 0.2657 - accuracy: 0.9049\n",
            "Epoch 119: saving model to models\\keypoint_classifier.hdf5\n",
            "71/71 [==============================] - 0s 5ms/step - loss: 0.2600 - accuracy: 0.9077 - val_loss: 0.2336 - val_accuracy: 0.9180\n",
            "Epoch 120/1000\n",
            "66/71 [==========================>...] - ETA: 0s - loss: 0.2714 - accuracy: 0.9020\n",
            "Epoch 120: saving model to models\\keypoint_classifier.hdf5\n",
            "71/71 [==============================] - 0s 5ms/step - loss: 0.2697 - accuracy: 0.9028 - val_loss: 0.1995 - val_accuracy: 0.9373\n",
            "Epoch 121/1000\n",
            "70/71 [============================>.] - ETA: 0s - loss: 0.2509 - accuracy: 0.9122\n",
            "Epoch 121: saving model to models\\keypoint_classifier.hdf5\n",
            "71/71 [==============================] - 0s 7ms/step - loss: 0.2521 - accuracy: 0.9117 - val_loss: 0.4440 - val_accuracy: 0.8387\n",
            "Epoch 122/1000\n",
            "60/71 [========================>.....] - ETA: 0s - loss: 0.2542 - accuracy: 0.9099\n",
            "Epoch 122: saving model to models\\keypoint_classifier.hdf5\n",
            "71/71 [==============================] - 0s 7ms/step - loss: 0.2542 - accuracy: 0.9104 - val_loss: 0.4467 - val_accuracy: 0.8407\n",
            "Epoch 123/1000\n",
            "71/71 [==============================] - ETA: 0s - loss: 0.2566 - accuracy: 0.9089\n",
            "Epoch 123: saving model to models\\keypoint_classifier.hdf5\n",
            "71/71 [==============================] - 0s 6ms/step - loss: 0.2566 - accuracy: 0.9089 - val_loss: 0.2177 - val_accuracy: 0.9280\n",
            "Epoch 124/1000\n",
            "67/71 [===========================>..] - ETA: 0s - loss: 0.2561 - accuracy: 0.9083\n",
            "Epoch 124: saving model to models\\keypoint_classifier.hdf5\n",
            "71/71 [==============================] - 0s 5ms/step - loss: 0.2570 - accuracy: 0.9078 - val_loss: 0.2317 - val_accuracy: 0.9307\n",
            "Epoch 125/1000\n",
            "59/71 [=======================>......] - ETA: 0s - loss: 0.2494 - accuracy: 0.9113\n",
            "Epoch 125: saving model to models\\keypoint_classifier.hdf5\n",
            "71/71 [==============================] - 0s 5ms/step - loss: 0.2495 - accuracy: 0.9127 - val_loss: 0.2155 - val_accuracy: 0.9287\n",
            "Epoch 126/1000\n",
            "62/71 [=========================>....] - ETA: 0s - loss: 0.2654 - accuracy: 0.9051\n",
            "Epoch 126: saving model to models\\keypoint_classifier.hdf5\n",
            "71/71 [==============================] - 0s 5ms/step - loss: 0.2644 - accuracy: 0.9067 - val_loss: 0.1920 - val_accuracy: 0.9413\n",
            "Epoch 127/1000\n",
            "63/71 [=========================>....] - ETA: 0s - loss: 0.2528 - accuracy: 0.9096\n",
            "Epoch 127: saving model to models\\keypoint_classifier.hdf5\n",
            "71/71 [==============================] - 0s 5ms/step - loss: 0.2526 - accuracy: 0.9097 - val_loss: 0.1775 - val_accuracy: 0.9423\n",
            "Epoch 128/1000\n",
            "62/71 [=========================>....] - ETA: 0s - loss: 0.2511 - accuracy: 0.9070\n",
            "Epoch 128: saving model to models\\keypoint_classifier.hdf5\n",
            "71/71 [==============================] - 0s 5ms/step - loss: 0.2529 - accuracy: 0.9062 - val_loss: 0.2459 - val_accuracy: 0.9137\n",
            "Epoch 129/1000\n",
            "59/71 [=======================>......] - ETA: 0s - loss: 0.2435 - accuracy: 0.9122\n",
            "Epoch 129: saving model to models\\keypoint_classifier.hdf5\n",
            "71/71 [==============================] - 0s 6ms/step - loss: 0.2514 - accuracy: 0.9107 - val_loss: 0.1881 - val_accuracy: 0.9347\n",
            "Epoch 130/1000\n",
            "60/71 [========================>.....] - ETA: 0s - loss: 0.2529 - accuracy: 0.9056\n",
            "Epoch 130: saving model to models\\keypoint_classifier.hdf5\n",
            "71/71 [==============================] - 0s 5ms/step - loss: 0.2531 - accuracy: 0.9060 - val_loss: 0.2498 - val_accuracy: 0.9233\n",
            "Epoch 131/1000\n",
            "69/71 [============================>.] - ETA: 0s - loss: 0.2551 - accuracy: 0.9123\n",
            "Epoch 131: saving model to models\\keypoint_classifier.hdf5\n",
            "71/71 [==============================] - 0s 6ms/step - loss: 0.2567 - accuracy: 0.9120 - val_loss: 0.3275 - val_accuracy: 0.8920\n",
            "Epoch 132/1000\n",
            "69/71 [============================>.] - ETA: 0s - loss: 0.2565 - accuracy: 0.9077\n",
            "Epoch 132: saving model to models\\keypoint_classifier.hdf5\n",
            "71/71 [==============================] - 0s 5ms/step - loss: 0.2566 - accuracy: 0.9074 - val_loss: 0.2160 - val_accuracy: 0.9247\n",
            "Epoch 133/1000\n",
            "59/71 [=======================>......] - ETA: 0s - loss: 0.2462 - accuracy: 0.9098\n",
            "Epoch 133: saving model to models\\keypoint_classifier.hdf5\n",
            "71/71 [==============================] - 0s 5ms/step - loss: 0.2517 - accuracy: 0.9081 - val_loss: 0.1807 - val_accuracy: 0.9393\n",
            "Epoch 134/1000\n",
            "62/71 [=========================>....] - ETA: 0s - loss: 0.2512 - accuracy: 0.9085\n",
            "Epoch 134: saving model to models\\keypoint_classifier.hdf5\n",
            "71/71 [==============================] - 0s 5ms/step - loss: 0.2520 - accuracy: 0.9086 - val_loss: 0.2404 - val_accuracy: 0.9177\n",
            "Epoch 135/1000\n",
            "63/71 [=========================>....] - ETA: 0s - loss: 0.2490 - accuracy: 0.9106\n",
            "Epoch 135: saving model to models\\keypoint_classifier.hdf5\n",
            "71/71 [==============================] - 0s 5ms/step - loss: 0.2529 - accuracy: 0.9092 - val_loss: 0.2544 - val_accuracy: 0.9167\n",
            "Epoch 136/1000\n",
            "62/71 [=========================>....] - ETA: 0s - loss: 0.2468 - accuracy: 0.9113\n",
            "Epoch 136: saving model to models\\keypoint_classifier.hdf5\n",
            "71/71 [==============================] - 0s 5ms/step - loss: 0.2477 - accuracy: 0.9112 - val_loss: 0.2550 - val_accuracy: 0.9213\n",
            "Epoch 137/1000\n",
            "62/71 [=========================>....] - ETA: 0s - loss: 0.2417 - accuracy: 0.9099\n",
            "Epoch 137: saving model to models\\keypoint_classifier.hdf5\n",
            "71/71 [==============================] - 0s 5ms/step - loss: 0.2430 - accuracy: 0.9103 - val_loss: 0.2021 - val_accuracy: 0.9293\n",
            "Epoch 138/1000\n",
            "60/71 [========================>.....] - ETA: 0s - loss: 0.2394 - accuracy: 0.9143\n",
            "Epoch 138: saving model to models\\keypoint_classifier.hdf5\n",
            "71/71 [==============================] - 0s 5ms/step - loss: 0.2445 - accuracy: 0.9136 - val_loss: 0.2888 - val_accuracy: 0.8977\n",
            "Epoch 139/1000\n",
            "64/71 [==========================>...] - ETA: 0s - loss: 0.2456 - accuracy: 0.9141\n",
            "Epoch 139: saving model to models\\keypoint_classifier.hdf5\n",
            "71/71 [==============================] - 0s 5ms/step - loss: 0.2461 - accuracy: 0.9132 - val_loss: 0.1671 - val_accuracy: 0.9543\n",
            "Epoch 140/1000\n",
            "63/71 [=========================>....] - ETA: 0s - loss: 0.2429 - accuracy: 0.9143\n",
            "Epoch 140: saving model to models\\keypoint_classifier.hdf5\n",
            "71/71 [==============================] - 0s 5ms/step - loss: 0.2447 - accuracy: 0.9137 - val_loss: 0.1497 - val_accuracy: 0.9580\n",
            "Epoch 141/1000\n",
            "64/71 [==========================>...] - ETA: 0s - loss: 0.2490 - accuracy: 0.9127\n",
            "Epoch 141: saving model to models\\keypoint_classifier.hdf5\n",
            "71/71 [==============================] - 0s 5ms/step - loss: 0.2457 - accuracy: 0.9141 - val_loss: 0.4398 - val_accuracy: 0.8363\n",
            "Epoch 142/1000\n",
            "64/71 [==========================>...] - ETA: 0s - loss: 0.2418 - accuracy: 0.9136\n",
            "Epoch 142: saving model to models\\keypoint_classifier.hdf5\n",
            "71/71 [==============================] - 0s 5ms/step - loss: 0.2412 - accuracy: 0.9141 - val_loss: 0.2021 - val_accuracy: 0.9410\n",
            "Epoch 143/1000\n",
            "63/71 [=========================>....] - ETA: 0s - loss: 0.2419 - accuracy: 0.9125\n",
            "Epoch 143: saving model to models\\keypoint_classifier.hdf5\n",
            "71/71 [==============================] - 0s 5ms/step - loss: 0.2442 - accuracy: 0.9121 - val_loss: 0.3702 - val_accuracy: 0.8673\n",
            "Epoch 144/1000\n",
            "57/71 [=======================>......] - ETA: 0s - loss: 0.2434 - accuracy: 0.9109\n",
            "Epoch 144: saving model to models\\keypoint_classifier.hdf5\n",
            "71/71 [==============================] - 0s 5ms/step - loss: 0.2476 - accuracy: 0.9110 - val_loss: 0.2293 - val_accuracy: 0.9217\n",
            "Epoch 145/1000\n",
            "60/71 [========================>.....] - ETA: 0s - loss: 0.2413 - accuracy: 0.9141\n",
            "Epoch 145: saving model to models\\keypoint_classifier.hdf5\n",
            "71/71 [==============================] - 0s 6ms/step - loss: 0.2427 - accuracy: 0.9137 - val_loss: 0.2027 - val_accuracy: 0.9373\n",
            "Epoch 146/1000\n",
            "63/71 [=========================>....] - ETA: 0s - loss: 0.2395 - accuracy: 0.9143\n",
            "Epoch 146: saving model to models\\keypoint_classifier.hdf5\n",
            "71/71 [==============================] - 0s 6ms/step - loss: 0.2379 - accuracy: 0.9152 - val_loss: 0.1800 - val_accuracy: 0.9450\n",
            "Epoch 147/1000\n",
            "62/71 [=========================>....] - ETA: 0s - loss: 0.2454 - accuracy: 0.9139\n",
            "Epoch 147: saving model to models\\keypoint_classifier.hdf5\n",
            "71/71 [==============================] - 0s 6ms/step - loss: 0.2477 - accuracy: 0.9131 - val_loss: 0.1663 - val_accuracy: 0.9513\n",
            "Epoch 148/1000\n",
            "66/71 [==========================>...] - ETA: 0s - loss: 0.2394 - accuracy: 0.9109\n",
            "Epoch 148: saving model to models\\keypoint_classifier.hdf5\n",
            "71/71 [==============================] - 0s 6ms/step - loss: 0.2404 - accuracy: 0.9111 - val_loss: 0.1940 - val_accuracy: 0.9383\n",
            "Epoch 149/1000\n",
            "66/71 [==========================>...] - ETA: 0s - loss: 0.2429 - accuracy: 0.9093\n",
            "Epoch 149: saving model to models\\keypoint_classifier.hdf5\n",
            "71/71 [==============================] - 0s 6ms/step - loss: 0.2431 - accuracy: 0.9099 - val_loss: 0.2284 - val_accuracy: 0.9250\n",
            "Epoch 150/1000\n",
            "63/71 [=========================>....] - ETA: 0s - loss: 0.2365 - accuracy: 0.9121\n",
            "Epoch 150: saving model to models\\keypoint_classifier.hdf5\n",
            "71/71 [==============================] - 0s 6ms/step - loss: 0.2336 - accuracy: 0.9136 - val_loss: 0.1713 - val_accuracy: 0.9493\n",
            "Epoch 151/1000\n",
            "58/71 [=======================>......] - ETA: 0s - loss: 0.2400 - accuracy: 0.9130\n",
            "Epoch 151: saving model to models\\keypoint_classifier.hdf5\n",
            "71/71 [==============================] - 0s 6ms/step - loss: 0.2432 - accuracy: 0.9119 - val_loss: 0.1829 - val_accuracy: 0.9353\n",
            "Epoch 152/1000\n",
            "64/71 [==========================>...] - ETA: 0s - loss: 0.2352 - accuracy: 0.9150\n",
            "Epoch 152: saving model to models\\keypoint_classifier.hdf5\n",
            "71/71 [==============================] - 0s 6ms/step - loss: 0.2356 - accuracy: 0.9138 - val_loss: 0.1734 - val_accuracy: 0.9460\n",
            "Epoch 153/1000\n",
            "58/71 [=======================>......] - ETA: 0s - loss: 0.2325 - accuracy: 0.9143\n",
            "Epoch 153: saving model to models\\keypoint_classifier.hdf5\n",
            "71/71 [==============================] - 0s 6ms/step - loss: 0.2387 - accuracy: 0.9108 - val_loss: 0.2076 - val_accuracy: 0.9327\n",
            "Epoch 154/1000\n",
            "60/71 [========================>.....] - ETA: 0s - loss: 0.2398 - accuracy: 0.9158\n",
            "Epoch 154: saving model to models\\keypoint_classifier.hdf5\n",
            "71/71 [==============================] - 0s 6ms/step - loss: 0.2360 - accuracy: 0.9169 - val_loss: 0.2252 - val_accuracy: 0.9217\n",
            "Epoch 155/1000\n",
            "62/71 [=========================>....] - ETA: 0s - loss: 0.2278 - accuracy: 0.9178\n",
            "Epoch 155: saving model to models\\keypoint_classifier.hdf5\n",
            "71/71 [==============================] - 0s 6ms/step - loss: 0.2322 - accuracy: 0.9166 - val_loss: 0.1988 - val_accuracy: 0.9427\n",
            "Epoch 156/1000\n",
            "59/71 [=======================>......] - ETA: 0s - loss: 0.2399 - accuracy: 0.9121\n",
            "Epoch 156: saving model to models\\keypoint_classifier.hdf5\n",
            "71/71 [==============================] - 0s 5ms/step - loss: 0.2397 - accuracy: 0.9138 - val_loss: 0.1687 - val_accuracy: 0.9477\n",
            "Epoch 157/1000\n",
            "56/71 [======================>.......] - ETA: 0s - loss: 0.2527 - accuracy: 0.9109\n",
            "Epoch 157: saving model to models\\keypoint_classifier.hdf5\n",
            "71/71 [==============================] - 0s 5ms/step - loss: 0.2567 - accuracy: 0.9087 - val_loss: 0.2235 - val_accuracy: 0.9207\n",
            "Epoch 158/1000\n",
            "63/71 [=========================>....] - ETA: 0s - loss: 0.2295 - accuracy: 0.9213\n",
            "Epoch 158: saving model to models\\keypoint_classifier.hdf5\n",
            "71/71 [==============================] - 0s 5ms/step - loss: 0.2339 - accuracy: 0.9183 - val_loss: 0.1992 - val_accuracy: 0.9357\n",
            "Epoch 159/1000\n",
            "66/71 [==========================>...] - ETA: 0s - loss: 0.2469 - accuracy: 0.9126\n",
            "Epoch 159: saving model to models\\keypoint_classifier.hdf5\n",
            "71/71 [==============================] - 0s 6ms/step - loss: 0.2440 - accuracy: 0.9131 - val_loss: 0.2085 - val_accuracy: 0.9290\n",
            "Epoch 160/1000\n",
            "69/71 [============================>.] - ETA: 0s - loss: 0.2394 - accuracy: 0.9143\n",
            "Epoch 160: saving model to models\\keypoint_classifier.hdf5\n",
            "71/71 [==============================] - 0s 6ms/step - loss: 0.2389 - accuracy: 0.9147 - val_loss: 0.2889 - val_accuracy: 0.9023\n",
            "Epoch 161/1000\n",
            "62/71 [=========================>....] - ETA: 0s - loss: 0.2368 - accuracy: 0.9157\n",
            "Epoch 161: saving model to models\\keypoint_classifier.hdf5\n",
            "71/71 [==============================] - 0s 5ms/step - loss: 0.2340 - accuracy: 0.9176 - val_loss: 0.1769 - val_accuracy: 0.9433\n",
            "Epoch 162/1000\n",
            "71/71 [==============================] - ETA: 0s - loss: 0.2306 - accuracy: 0.9169\n",
            "Epoch 162: saving model to models\\keypoint_classifier.hdf5\n",
            "71/71 [==============================] - 0s 5ms/step - loss: 0.2306 - accuracy: 0.9169 - val_loss: 0.3548 - val_accuracy: 0.8753\n",
            "Epoch 163/1000\n",
            "65/71 [==========================>...] - ETA: 0s - loss: 0.2399 - accuracy: 0.9156\n",
            "Epoch 163: saving model to models\\keypoint_classifier.hdf5\n",
            "71/71 [==============================] - 0s 5ms/step - loss: 0.2367 - accuracy: 0.9166 - val_loss: 0.2246 - val_accuracy: 0.9250\n",
            "Epoch 164/1000\n",
            "67/71 [===========================>..] - ETA: 0s - loss: 0.2201 - accuracy: 0.9201\n",
            "Epoch 164: saving model to models\\keypoint_classifier.hdf5\n",
            "71/71 [==============================] - 0s 5ms/step - loss: 0.2227 - accuracy: 0.9196 - val_loss: 0.1742 - val_accuracy: 0.9463\n",
            "Epoch 165/1000\n",
            "61/71 [========================>.....] - ETA: 0s - loss: 0.2519 - accuracy: 0.9069\n",
            "Epoch 165: saving model to models\\keypoint_classifier.hdf5\n",
            "71/71 [==============================] - 0s 5ms/step - loss: 0.2496 - accuracy: 0.9084 - val_loss: 0.2362 - val_accuracy: 0.9200\n",
            "Epoch 166/1000\n",
            "65/71 [==========================>...] - ETA: 0s - loss: 0.2424 - accuracy: 0.9137\n",
            "Epoch 166: saving model to models\\keypoint_classifier.hdf5\n",
            "71/71 [==============================] - 0s 5ms/step - loss: 0.2399 - accuracy: 0.9144 - val_loss: 0.3131 - val_accuracy: 0.8977\n",
            "Epoch 167/1000\n",
            "64/71 [==========================>...] - ETA: 0s - loss: 0.2351 - accuracy: 0.9161\n",
            "Epoch 167: saving model to models\\keypoint_classifier.hdf5\n",
            "71/71 [==============================] - 0s 6ms/step - loss: 0.2342 - accuracy: 0.9167 - val_loss: 0.2024 - val_accuracy: 0.9323\n",
            "Epoch 168/1000\n",
            "58/71 [=======================>......] - ETA: 0s - loss: 0.2373 - accuracy: 0.9161\n",
            "Epoch 168: saving model to models\\keypoint_classifier.hdf5\n",
            "71/71 [==============================] - 0s 6ms/step - loss: 0.2364 - accuracy: 0.9148 - val_loss: 0.2002 - val_accuracy: 0.9387\n",
            "Epoch 169/1000\n",
            "62/71 [=========================>....] - ETA: 0s - loss: 0.2379 - accuracy: 0.9153\n",
            "Epoch 169: saving model to models\\keypoint_classifier.hdf5\n",
            "71/71 [==============================] - 0s 5ms/step - loss: 0.2388 - accuracy: 0.9147 - val_loss: 0.2012 - val_accuracy: 0.9343\n",
            "Epoch 170/1000\n",
            "62/71 [=========================>....] - ETA: 0s - loss: 0.2251 - accuracy: 0.9172\n",
            "Epoch 170: saving model to models\\keypoint_classifier.hdf5\n",
            "71/71 [==============================] - 0s 6ms/step - loss: 0.2231 - accuracy: 0.9184 - val_loss: 0.1500 - val_accuracy: 0.9570\n",
            "Epoch 170: early stopping\n"
          ]
        },
        {
          "data": {
            "text/plain": [
              "<keras.src.callbacks.History at 0x2377441ac90>"
            ]
          },
          "execution_count": 15,
          "metadata": {},
          "output_type": "execute_result"
        }
      ],
      "source": [
        "model.fit(\n",
        "    X_train,\n",
        "    y_train,\n",
        "    epochs=1000,\n",
        "    batch_size=128,\n",
        "    validation_data=(X_test, y_test),\n",
        "    callbacks=[cp_callback, es_callback]\n",
        ")"
      ]
    },
    {
      "cell_type": "code",
      "execution_count": 16,
      "metadata": {
        "colab": {
          "base_uri": "https://localhost:8080/"
        },
        "id": "pxvb2Y299hE3",
        "outputId": "59eb3185-2e37-4b9e-bc9d-ab1b8ac29b7f"
      },
      "outputs": [
        {
          "name": "stdout",
          "output_type": "stream",
          "text": [
            "24/24 [==============================] - 0s 3ms/step - loss: 0.1500 - accuracy: 0.9570\n"
          ]
        }
      ],
      "source": [
        "# Model evaluation\n",
        "val_loss, val_acc = model.evaluate(X_test, y_test, batch_size=128)"
      ]
    },
    {
      "cell_type": "code",
      "execution_count": 17,
      "metadata": {
        "id": "RBkmDeUW9hE4"
      },
      "outputs": [],
      "source": [
        "# Loading the saved model\n",
        "model = tf.keras.models.load_model(model_save_path)"
      ]
    },
    {
      "cell_type": "code",
      "execution_count": 18,
      "metadata": {
        "colab": {
          "base_uri": "https://localhost:8080/"
        },
        "id": "tFz9Tb0I9hE4",
        "outputId": "1c3b3528-54ae-4ee2-ab04-77429211cbef"
      },
      "outputs": [
        {
          "name": "stdout",
          "output_type": "stream",
          "text": [
            "1/1 [==============================] - 0s 261ms/step\n",
            "[3.4150882e-10 9.9999976e-01 1.7332845e-15 2.8691778e-19 9.8605890e-14\n",
            " 2.2085612e-07 9.7518543e-16 4.4248778e-09 5.6058490e-14 1.6992963e-11\n",
            " 6.7389813e-12 2.9830663e-13]\n",
            "1\n"
          ]
        }
      ],
      "source": [
        "# Inference test\n",
        "predict_result = model.predict(np.array([X_test[0]]))\n",
        "print(np.squeeze(predict_result))\n",
        "print(np.argmax(np.squeeze(predict_result)))"
      ]
    },
    {
      "cell_type": "markdown",
      "metadata": {},
      "source": [
        "# Integrate with secondary model"
      ]
    },
    {
      "cell_type": "code",
      "execution_count": 19,
      "metadata": {},
      "outputs": [],
      "source": [
        "# Determine the index of 'stop' and 'palm'\n",
        "label_stop = LABELS.index('stop')\n",
        "label_palm = LABELS.index('palm')\n",
        "\n",
        "# Filter out samples for 'stop' and 'palm'\n",
        "secondary_X = X_dataset_preprocessed[np.logical_or(y_dataset == label_stop, y_dataset == label_palm)]\n",
        "secondary_y = y_dataset[np.logical_or(y_dataset == label_stop, y_dataset == label_palm)]\n",
        "\n",
        "# Create binary labels (0 and 1) for 'stop' and 'palm'\n",
        "secondary_y = np.where(secondary_y == label_stop, 0, 1)  # Set 'stop' to 0, 'palm' to 1\n",
        "\n",
        "# Split secondary data sets\n",
        "X_train_secondary, X_test_secondary, y_train_secondary, y_test_secondary = train_test_split(\n",
        "    secondary_X, secondary_y, train_size=0.75, random_state=RANDOM_SEED\n",
        ")"
      ]
    },
    {
      "cell_type": "code",
      "execution_count": 20,
      "metadata": {},
      "outputs": [
        {
          "name": "stdout",
          "output_type": "stream",
          "text": [
            "Epoch 1/100\n",
            "47/47 [==============================] - 1s 8ms/step - loss: 0.6893 - accuracy: 0.5540 - val_loss: 0.6806 - val_accuracy: 0.5620\n",
            "Epoch 2/100\n",
            "47/47 [==============================] - 0s 2ms/step - loss: 0.6796 - accuracy: 0.5780 - val_loss: 0.6769 - val_accuracy: 0.5800\n",
            "Epoch 3/100\n",
            "47/47 [==============================] - 0s 2ms/step - loss: 0.6717 - accuracy: 0.5887 - val_loss: 0.6722 - val_accuracy: 0.5580\n",
            "Epoch 4/100\n",
            "47/47 [==============================] - 0s 3ms/step - loss: 0.6544 - accuracy: 0.6420 - val_loss: 0.6403 - val_accuracy: 0.6820\n",
            "Epoch 5/100\n",
            "47/47 [==============================] - 0s 3ms/step - loss: 0.6401 - accuracy: 0.6533 - val_loss: 0.6414 - val_accuracy: 0.6100\n",
            "Epoch 6/100\n",
            "47/47 [==============================] - 0s 3ms/step - loss: 0.6369 - accuracy: 0.6413 - val_loss: 0.6359 - val_accuracy: 0.6140\n",
            "Epoch 7/100\n",
            "47/47 [==============================] - 0s 3ms/step - loss: 0.6293 - accuracy: 0.6580 - val_loss: 0.6045 - val_accuracy: 0.6920\n",
            "Epoch 8/100\n",
            "47/47 [==============================] - 0s 3ms/step - loss: 0.6160 - accuracy: 0.6687 - val_loss: 0.5958 - val_accuracy: 0.7020\n",
            "Epoch 9/100\n",
            "47/47 [==============================] - 0s 3ms/step - loss: 0.6102 - accuracy: 0.6740 - val_loss: 0.6342 - val_accuracy: 0.6040\n",
            "Epoch 10/100\n",
            "47/47 [==============================] - 0s 2ms/step - loss: 0.5956 - accuracy: 0.7013 - val_loss: 0.5747 - val_accuracy: 0.7160\n",
            "Epoch 11/100\n",
            "47/47 [==============================] - 0s 3ms/step - loss: 0.5972 - accuracy: 0.6907 - val_loss: 0.5720 - val_accuracy: 0.7200\n",
            "Epoch 12/100\n",
            "47/47 [==============================] - 0s 4ms/step - loss: 0.5855 - accuracy: 0.6947 - val_loss: 0.5680 - val_accuracy: 0.7120\n",
            "Epoch 13/100\n",
            "47/47 [==============================] - 0s 3ms/step - loss: 0.5733 - accuracy: 0.7080 - val_loss: 0.5639 - val_accuracy: 0.7180\n",
            "Epoch 14/100\n",
            "47/47 [==============================] - 0s 3ms/step - loss: 0.5666 - accuracy: 0.7240 - val_loss: 0.5426 - val_accuracy: 0.7460\n",
            "Epoch 15/100\n",
            "47/47 [==============================] - 0s 2ms/step - loss: 0.5586 - accuracy: 0.7260 - val_loss: 0.5532 - val_accuracy: 0.7180\n",
            "Epoch 16/100\n",
            "47/47 [==============================] - 0s 2ms/step - loss: 0.5564 - accuracy: 0.7267 - val_loss: 0.5273 - val_accuracy: 0.7540\n",
            "Epoch 17/100\n",
            "47/47 [==============================] - 0s 3ms/step - loss: 0.5633 - accuracy: 0.7107 - val_loss: 0.5216 - val_accuracy: 0.7680\n",
            "Epoch 18/100\n",
            "47/47 [==============================] - 0s 3ms/step - loss: 0.5433 - accuracy: 0.7347 - val_loss: 0.5251 - val_accuracy: 0.7480\n",
            "Epoch 19/100\n",
            "47/47 [==============================] - 0s 3ms/step - loss: 0.5481 - accuracy: 0.7347 - val_loss: 0.5166 - val_accuracy: 0.7640\n",
            "Epoch 20/100\n",
            "47/47 [==============================] - 0s 3ms/step - loss: 0.5405 - accuracy: 0.7340 - val_loss: 0.5516 - val_accuracy: 0.7120\n",
            "Epoch 21/100\n",
            "47/47 [==============================] - 0s 3ms/step - loss: 0.5312 - accuracy: 0.7473 - val_loss: 0.4964 - val_accuracy: 0.7760\n",
            "Epoch 22/100\n",
            "47/47 [==============================] - 0s 3ms/step - loss: 0.5207 - accuracy: 0.7487 - val_loss: 0.5000 - val_accuracy: 0.7520\n",
            "Epoch 23/100\n",
            "47/47 [==============================] - 0s 3ms/step - loss: 0.5067 - accuracy: 0.7647 - val_loss: 0.4785 - val_accuracy: 0.8100\n",
            "Epoch 24/100\n",
            "47/47 [==============================] - 0s 3ms/step - loss: 0.4951 - accuracy: 0.7807 - val_loss: 0.4694 - val_accuracy: 0.7920\n",
            "Epoch 25/100\n",
            "47/47 [==============================] - 0s 3ms/step - loss: 0.4883 - accuracy: 0.7767 - val_loss: 0.4752 - val_accuracy: 0.7880\n",
            "Epoch 26/100\n",
            "47/47 [==============================] - 0s 3ms/step - loss: 0.4771 - accuracy: 0.7873 - val_loss: 0.4468 - val_accuracy: 0.8120\n",
            "Epoch 27/100\n",
            "47/47 [==============================] - 0s 2ms/step - loss: 0.4813 - accuracy: 0.7680 - val_loss: 0.4702 - val_accuracy: 0.7660\n",
            "Epoch 28/100\n",
            "47/47 [==============================] - 0s 2ms/step - loss: 0.4602 - accuracy: 0.7967 - val_loss: 0.5086 - val_accuracy: 0.7320\n",
            "Epoch 29/100\n",
            "47/47 [==============================] - 0s 2ms/step - loss: 0.4706 - accuracy: 0.7720 - val_loss: 0.4259 - val_accuracy: 0.8260\n",
            "Epoch 30/100\n",
            "47/47 [==============================] - 0s 2ms/step - loss: 0.4367 - accuracy: 0.8133 - val_loss: 0.4244 - val_accuracy: 0.8020\n",
            "Epoch 31/100\n",
            "47/47 [==============================] - 0s 2ms/step - loss: 0.4445 - accuracy: 0.8027 - val_loss: 0.5180 - val_accuracy: 0.7180\n",
            "Epoch 32/100\n",
            "47/47 [==============================] - 0s 3ms/step - loss: 0.4346 - accuracy: 0.8067 - val_loss: 0.3959 - val_accuracy: 0.8560\n",
            "Epoch 33/100\n",
            "47/47 [==============================] - 0s 3ms/step - loss: 0.4110 - accuracy: 0.8353 - val_loss: 0.4820 - val_accuracy: 0.7580\n",
            "Epoch 34/100\n",
            "47/47 [==============================] - 0s 2ms/step - loss: 0.4176 - accuracy: 0.8147 - val_loss: 0.4429 - val_accuracy: 0.7680\n",
            "Epoch 35/100\n",
            "47/47 [==============================] - 0s 2ms/step - loss: 0.4089 - accuracy: 0.8193 - val_loss: 0.4226 - val_accuracy: 0.7880\n",
            "Epoch 36/100\n",
            "47/47 [==============================] - 0s 2ms/step - loss: 0.3794 - accuracy: 0.8460 - val_loss: 0.3603 - val_accuracy: 0.8660\n",
            "Epoch 37/100\n",
            "47/47 [==============================] - 0s 2ms/step - loss: 0.3903 - accuracy: 0.8387 - val_loss: 0.3685 - val_accuracy: 0.8520\n",
            "Epoch 38/100\n",
            "47/47 [==============================] - 0s 2ms/step - loss: 0.3684 - accuracy: 0.8600 - val_loss: 0.4219 - val_accuracy: 0.7980\n",
            "Epoch 39/100\n",
            "47/47 [==============================] - 0s 2ms/step - loss: 0.3827 - accuracy: 0.8307 - val_loss: 0.3461 - val_accuracy: 0.8640\n",
            "Epoch 40/100\n",
            "47/47 [==============================] - 0s 3ms/step - loss: 0.3780 - accuracy: 0.8440 - val_loss: 0.3307 - val_accuracy: 0.8740\n",
            "Epoch 41/100\n",
            "47/47 [==============================] - 0s 3ms/step - loss: 0.3522 - accuracy: 0.8560 - val_loss: 0.3185 - val_accuracy: 0.8800\n",
            "Epoch 42/100\n",
            "47/47 [==============================] - 0s 3ms/step - loss: 0.3393 - accuracy: 0.8833 - val_loss: 0.3203 - val_accuracy: 0.8740\n",
            "Epoch 43/100\n",
            "47/47 [==============================] - 0s 2ms/step - loss: 0.3512 - accuracy: 0.8507 - val_loss: 0.3631 - val_accuracy: 0.8240\n",
            "Epoch 44/100\n",
            "47/47 [==============================] - 0s 2ms/step - loss: 0.3211 - accuracy: 0.8700 - val_loss: 0.2914 - val_accuracy: 0.9040\n",
            "Epoch 45/100\n",
            "47/47 [==============================] - 0s 3ms/step - loss: 0.3102 - accuracy: 0.8820 - val_loss: 0.2857 - val_accuracy: 0.9020\n",
            "Epoch 46/100\n",
            "47/47 [==============================] - 0s 3ms/step - loss: 0.2947 - accuracy: 0.8993 - val_loss: 0.2741 - val_accuracy: 0.9120\n",
            "Epoch 47/100\n",
            "47/47 [==============================] - 0s 2ms/step - loss: 0.2927 - accuracy: 0.8920 - val_loss: 0.2729 - val_accuracy: 0.9140\n",
            "Epoch 48/100\n",
            "47/47 [==============================] - 0s 2ms/step - loss: 0.3034 - accuracy: 0.8733 - val_loss: 0.2897 - val_accuracy: 0.8820\n",
            "Epoch 49/100\n",
            "47/47 [==============================] - 0s 2ms/step - loss: 0.2925 - accuracy: 0.8907 - val_loss: 0.2749 - val_accuracy: 0.8960\n",
            "Epoch 50/100\n",
            "47/47 [==============================] - 0s 3ms/step - loss: 0.2698 - accuracy: 0.9093 - val_loss: 0.2754 - val_accuracy: 0.8860\n",
            "Epoch 51/100\n",
            "47/47 [==============================] - 0s 2ms/step - loss: 0.2931 - accuracy: 0.8760 - val_loss: 0.3496 - val_accuracy: 0.8300\n",
            "Epoch 52/100\n",
            "47/47 [==============================] - 0s 3ms/step - loss: 0.2772 - accuracy: 0.8920 - val_loss: 0.2371 - val_accuracy: 0.9260\n",
            "Epoch 53/100\n",
            "47/47 [==============================] - 0s 3ms/step - loss: 0.2392 - accuracy: 0.9207 - val_loss: 0.2248 - val_accuracy: 0.9320\n",
            "Epoch 54/100\n",
            "47/47 [==============================] - 0s 3ms/step - loss: 0.2296 - accuracy: 0.9280 - val_loss: 0.2143 - val_accuracy: 0.9400\n",
            "Epoch 55/100\n",
            "47/47 [==============================] - 0s 3ms/step - loss: 0.2468 - accuracy: 0.9007 - val_loss: 0.2062 - val_accuracy: 0.9440\n",
            "Epoch 56/100\n",
            "47/47 [==============================] - 0s 3ms/step - loss: 0.2848 - accuracy: 0.8760 - val_loss: 0.2261 - val_accuracy: 0.9440\n",
            "Epoch 57/100\n",
            "47/47 [==============================] - 0s 2ms/step - loss: 0.2130 - accuracy: 0.9367 - val_loss: 0.2162 - val_accuracy: 0.9360\n",
            "Epoch 58/100\n",
            "47/47 [==============================] - 0s 2ms/step - loss: 0.2123 - accuracy: 0.9347 - val_loss: 0.2070 - val_accuracy: 0.9360\n",
            "Epoch 59/100\n",
            "47/47 [==============================] - 0s 2ms/step - loss: 0.2342 - accuracy: 0.9073 - val_loss: 0.1900 - val_accuracy: 0.9460\n",
            "Epoch 60/100\n",
            "47/47 [==============================] - 0s 3ms/step - loss: 0.1993 - accuracy: 0.9387 - val_loss: 0.2181 - val_accuracy: 0.9140\n",
            "Epoch 61/100\n",
            "47/47 [==============================] - 0s 3ms/step - loss: 0.1941 - accuracy: 0.9420 - val_loss: 0.1737 - val_accuracy: 0.9580\n",
            "Epoch 62/100\n",
            "47/47 [==============================] - 0s 3ms/step - loss: 0.2009 - accuracy: 0.9347 - val_loss: 0.2057 - val_accuracy: 0.9400\n",
            "Epoch 63/100\n",
            "47/47 [==============================] - 0s 3ms/step - loss: 0.1998 - accuracy: 0.9287 - val_loss: 0.1826 - val_accuracy: 0.9540\n",
            "Epoch 64/100\n",
            "47/47 [==============================] - 0s 3ms/step - loss: 0.1900 - accuracy: 0.9393 - val_loss: 0.1937 - val_accuracy: 0.9280\n",
            "Epoch 65/100\n",
            "47/47 [==============================] - 0s 3ms/step - loss: 0.1796 - accuracy: 0.9480 - val_loss: 0.1901 - val_accuracy: 0.9500\n",
            "Epoch 66/100\n",
            "47/47 [==============================] - 0s 3ms/step - loss: 0.1817 - accuracy: 0.9413 - val_loss: 0.1617 - val_accuracy: 0.9520\n",
            "Epoch 67/100\n",
            "47/47 [==============================] - 0s 3ms/step - loss: 0.1672 - accuracy: 0.9553 - val_loss: 0.1713 - val_accuracy: 0.9540\n",
            "Epoch 68/100\n",
            "47/47 [==============================] - 0s 3ms/step - loss: 0.1540 - accuracy: 0.9573 - val_loss: 0.1436 - val_accuracy: 0.9640\n",
            "Epoch 69/100\n",
            "47/47 [==============================] - 0s 3ms/step - loss: 0.1591 - accuracy: 0.9553 - val_loss: 0.1432 - val_accuracy: 0.9680\n",
            "Epoch 70/100\n",
            "47/47 [==============================] - 0s 3ms/step - loss: 0.1617 - accuracy: 0.9513 - val_loss: 0.1384 - val_accuracy: 0.9600\n",
            "Epoch 71/100\n",
            "47/47 [==============================] - 0s 3ms/step - loss: 0.1767 - accuracy: 0.9313 - val_loss: 0.1655 - val_accuracy: 0.9380\n",
            "Epoch 72/100\n",
            "47/47 [==============================] - 0s 2ms/step - loss: 0.1481 - accuracy: 0.9533 - val_loss: 0.1526 - val_accuracy: 0.9500\n",
            "Epoch 73/100\n",
            "47/47 [==============================] - 0s 3ms/step - loss: 0.1447 - accuracy: 0.9573 - val_loss: 0.1676 - val_accuracy: 0.9460\n",
            "Epoch 74/100\n",
            "47/47 [==============================] - 0s 2ms/step - loss: 0.1655 - accuracy: 0.9447 - val_loss: 0.2009 - val_accuracy: 0.9180\n",
            "Epoch 75/100\n",
            "47/47 [==============================] - 0s 2ms/step - loss: 0.1584 - accuracy: 0.9447 - val_loss: 0.1221 - val_accuracy: 0.9680\n",
            "Epoch 76/100\n",
            "47/47 [==============================] - 0s 2ms/step - loss: 0.1473 - accuracy: 0.9587 - val_loss: 0.2470 - val_accuracy: 0.8900\n",
            "Epoch 77/100\n",
            "47/47 [==============================] - 0s 2ms/step - loss: 0.1750 - accuracy: 0.9373 - val_loss: 0.1803 - val_accuracy: 0.9420\n",
            "Epoch 78/100\n",
            "47/47 [==============================] - 0s 2ms/step - loss: 0.1362 - accuracy: 0.9560 - val_loss: 0.1319 - val_accuracy: 0.9680\n",
            "Epoch 79/100\n",
            "47/47 [==============================] - 0s 2ms/step - loss: 0.1399 - accuracy: 0.9520 - val_loss: 0.1484 - val_accuracy: 0.9440\n",
            "Epoch 80/100\n",
            "47/47 [==============================] - 0s 3ms/step - loss: 0.1621 - accuracy: 0.9367 - val_loss: 0.1919 - val_accuracy: 0.9200\n",
            "Epoch 81/100\n",
            "47/47 [==============================] - 0s 5ms/step - loss: 0.1556 - accuracy: 0.9413 - val_loss: 0.1320 - val_accuracy: 0.9640\n",
            "Epoch 82/100\n",
            "47/47 [==============================] - 0s 2ms/step - loss: 0.1383 - accuracy: 0.9527 - val_loss: 0.1127 - val_accuracy: 0.9720\n",
            "Epoch 83/100\n",
            "47/47 [==============================] - 0s 2ms/step - loss: 0.1410 - accuracy: 0.9527 - val_loss: 0.1186 - val_accuracy: 0.9660\n",
            "Epoch 84/100\n",
            "47/47 [==============================] - 0s 2ms/step - loss: 0.1301 - accuracy: 0.9567 - val_loss: 0.1282 - val_accuracy: 0.9600\n",
            "Epoch 85/100\n",
            "47/47 [==============================] - 0s 2ms/step - loss: 0.1211 - accuracy: 0.9647 - val_loss: 0.1223 - val_accuracy: 0.9600\n",
            "Epoch 86/100\n",
            "47/47 [==============================] - 0s 2ms/step - loss: 0.1152 - accuracy: 0.9673 - val_loss: 0.1061 - val_accuracy: 0.9700\n",
            "Epoch 87/100\n",
            "47/47 [==============================] - 0s 2ms/step - loss: 0.1156 - accuracy: 0.9673 - val_loss: 0.1692 - val_accuracy: 0.9400\n",
            "Epoch 88/100\n",
            "47/47 [==============================] - 0s 2ms/step - loss: 0.1504 - accuracy: 0.9427 - val_loss: 0.1265 - val_accuracy: 0.9560\n",
            "Epoch 89/100\n",
            "47/47 [==============================] - 0s 2ms/step - loss: 0.1272 - accuracy: 0.9553 - val_loss: 0.1081 - val_accuracy: 0.9740\n",
            "Epoch 90/100\n",
            "47/47 [==============================] - 0s 2ms/step - loss: 0.1196 - accuracy: 0.9613 - val_loss: 0.1113 - val_accuracy: 0.9580\n",
            "Epoch 91/100\n",
            "47/47 [==============================] - 0s 2ms/step - loss: 0.1299 - accuracy: 0.9527 - val_loss: 0.1268 - val_accuracy: 0.9640\n",
            "Epoch 92/100\n",
            "47/47 [==============================] - 0s 2ms/step - loss: 0.1156 - accuracy: 0.9567 - val_loss: 0.1399 - val_accuracy: 0.9580\n",
            "Epoch 93/100\n",
            "47/47 [==============================] - 0s 2ms/step - loss: 0.1339 - accuracy: 0.9527 - val_loss: 0.2232 - val_accuracy: 0.9120\n",
            "Epoch 94/100\n",
            "47/47 [==============================] - 0s 2ms/step - loss: 0.1578 - accuracy: 0.9353 - val_loss: 0.1038 - val_accuracy: 0.9660\n",
            "Epoch 95/100\n",
            "47/47 [==============================] - 0s 2ms/step - loss: 0.1175 - accuracy: 0.9627 - val_loss: 0.1174 - val_accuracy: 0.9600\n",
            "Epoch 96/100\n",
            "47/47 [==============================] - 0s 2ms/step - loss: 0.1269 - accuracy: 0.9600 - val_loss: 0.1224 - val_accuracy: 0.9640\n",
            "Epoch 97/100\n",
            "47/47 [==============================] - 0s 2ms/step - loss: 0.1534 - accuracy: 0.9420 - val_loss: 0.2567 - val_accuracy: 0.8940\n",
            "Epoch 98/100\n",
            "47/47 [==============================] - 0s 2ms/step - loss: 0.1198 - accuracy: 0.9547 - val_loss: 0.1472 - val_accuracy: 0.9500\n",
            "Epoch 99/100\n",
            "47/47 [==============================] - 0s 2ms/step - loss: 0.1536 - accuracy: 0.9407 - val_loss: 0.1706 - val_accuracy: 0.9340\n",
            "Epoch 100/100\n",
            "47/47 [==============================] - 0s 3ms/step - loss: 0.1853 - accuracy: 0.9247 - val_loss: 0.0996 - val_accuracy: 0.9740\n"
          ]
        },
        {
          "data": {
            "text/plain": [
              "<keras.src.callbacks.History at 0x23778426910>"
            ]
          },
          "execution_count": 20,
          "metadata": {},
          "output_type": "execute_result"
        }
      ],
      "source": [
        "# Build a secondary classifier\n",
        "secondary_model = tf.keras.models.Sequential([\n",
        "    tf.keras.layers.Dense(64, activation='relu', input_shape=(X_train_secondary.shape[1],)),\n",
        "    tf.keras.layers.Dense(32, activation='relu'),\n",
        "    tf.keras.layers.Dense(2, activation='softmax')  # Binary classification\n",
        "])\n",
        "\n",
        "# Compile secondary model\n",
        "secondary_model.compile(optimizer='adam', loss='sparse_categorical_crossentropy', metrics=['accuracy'])\n",
        "\n",
        "# Train a secondary model\n",
        "secondary_model.fit(X_train_secondary, y_train_secondary, epochs=100, batch_size=32, validation_data=(X_test_secondary, y_test_secondary))\n"
      ]
    },
    {
      "cell_type": "code",
      "execution_count": 21,
      "metadata": {},
      "outputs": [],
      "source": [
        "def integrated_prediction(primary_model, secondary_model, input_data, threshold=0.5):\n",
        "    primary_pred = primary_model.predict(input_data)\n",
        "    primary_label = np.argmax(primary_pred, axis=1)\n",
        "    \n",
        "    # For samples predicted as 'stop' or 'palm' by the primary model, use the secondary model for judgment.\n",
        "    secondary_indices = np.logical_or(primary_label == label_stop, primary_label == label_palm)\n",
        "    secondary_pred = secondary_model.predict(input_data[secondary_indices])\n",
        "    secondary_label = np.argmax(secondary_pred, axis=1)\n",
        "\n",
        "    # Update predictions from the main model\n",
        "    primary_label[secondary_indices] = np.where(secondary_label == 0, label_stop, label_palm)\n",
        "    \n",
        "    return primary_label"
      ]
    },
    {
      "cell_type": "markdown",
      "metadata": {
        "id": "S3U4yNWx9hE4"
      },
      "source": [
        "# Confusion matrix"
      ]
    },
    {
      "cell_type": "code",
      "execution_count": 22,
      "metadata": {
        "colab": {
          "base_uri": "https://localhost:8080/",
          "height": 582
        },
        "id": "AP1V6SCk9hE5",
        "outputId": "08e41a80-7a4a-4619-8125-ecc371368d19"
      },
      "outputs": [
        {
          "name": "stdout",
          "output_type": "stream",
          "text": [
            "94/94 [==============================] - 0s 1ms/step\n",
            "16/16 [==============================] - 0s 1ms/step\n"
          ]
        },
        {
          "data": {
            "image/png": "[encoded data removed]",
            "text/plain": [
              "<Figure size 700x600 with 2 Axes>"
            ]
          },
          "metadata": {},
          "output_type": "display_data"
        },
        {
          "name": "stdout",
          "output_type": "stream",
          "text": [
            "Classification Report\n",
            "              precision    recall  f1-score   support\n",
            "\n",
            "           0       0.98      0.89      0.94       250\n",
            "           1       0.98      0.97      0.97       248\n",
            "           2       0.95      1.00      0.97       254\n",
            "           3       0.89      0.98      0.93       259\n",
            "           4       0.98      0.92      0.95       255\n",
            "           5       1.00      0.99      0.99       261\n",
            "           6       0.96      0.96      0.96       239\n",
            "           7       0.94      0.93      0.93       235\n",
            "           8       0.99      0.96      0.98       254\n",
            "           9       0.97      0.99      0.98       236\n",
            "          10       0.92      0.98      0.95       264\n",
            "          11       0.97      0.96      0.96       245\n",
            "\n",
            "    accuracy                           0.96      3000\n",
            "   macro avg       0.96      0.96      0.96      3000\n",
            "weighted avg       0.96      0.96      0.96      3000\n",
            "\n"
          ]
        }
      ],
      "source": [
        "import pandas as pd\n",
        "import seaborn as sns\n",
        "import matplotlib.pyplot as plt\n",
        "from sklearn.metrics import confusion_matrix, classification_report\n",
        "\n",
        "def print_confusion_matrix(y_true, y_pred, report=True):\n",
        "    labels = sorted(list(set(y_true)))\n",
        "    cmx_data = confusion_matrix(y_true, y_pred, labels=labels)\n",
        "    \n",
        "    df_cmx = pd.DataFrame(cmx_data, index=labels, columns=labels)\n",
        " \n",
        "    fig, ax = plt.subplots(figsize=(7, 6))\n",
        "    sns.heatmap(df_cmx, annot=True, fmt='g' ,square=False)\n",
        "    ax.set_ylim(len(set(y_true)), 0)\n",
        "    plt.show()\n",
        "    \n",
        "    if report:\n",
        "        print('Classification Report')\n",
        "        print(classification_report(y_test, y_pred))\n",
        "\n",
        "# Y_pred = model.predict(X_test)\n",
        "# y_pred = np.argmax(Y_pred, axis=1)\n",
        "\n",
        "y_pred = integrated_prediction(model, secondary_model, X_test)  # Integrated prediction\n",
        "\n",
        "print_confusion_matrix(y_test, y_pred)"
      ]
    },
    {
      "cell_type": "markdown",
      "metadata": {
        "id": "FNP6aqzc9hE5"
      },
      "source": [
        "# Convert to model for Tensorflow-Lite"
      ]
    },
    {
      "cell_type": "code",
      "execution_count": 23,
      "metadata": {
        "id": "ODjnYyld9hE6"
      },
      "outputs": [
        {
          "name": "stderr",
          "output_type": "stream",
          "text": [
            "c:\\Users\\Ian\\git\\553.806_Capstone_HandGesture\\.venv\\Lib\\site-packages\\keras\\src\\engine\\training.py:3103: UserWarning: You are saving your model as an HDF5 file via `model.save()`. This file format is considered legacy. We recommend using instead the native Keras format, e.g. `model.save('my_model.keras')`.\n",
            "  saving_api.save_model(\n"
          ]
        }
      ],
      "source": [
        "# Save as a model dedicated to inference\n",
        "model.save(model_save_path, include_optimizer=False)"
      ]
    },
    {
      "cell_type": "code",
      "execution_count": 24,
      "metadata": {
        "colab": {
          "base_uri": "https://localhost:8080/"
        },
        "id": "zRfuK8Y59hE6",
        "outputId": "a4ca585c-b5d5-4244-8291-8674063209bb"
      },
      "outputs": [
        {
          "name": "stdout",
          "output_type": "stream",
          "text": [
            "INFO:tensorflow:Assets written to: C:\\Users\\Ian\\AppData\\Local\\Temp\\tmpu9he8mb8\\assets\n"
          ]
        },
        {
          "name": "stderr",
          "output_type": "stream",
          "text": [
            "INFO:tensorflow:Assets written to: C:\\Users\\Ian\\AppData\\Local\\Temp\\tmpu9he8mb8\\assets\n"
          ]
        },
        {
          "data": {
            "text/plain": [
              "40248"
            ]
          },
          "execution_count": 24,
          "metadata": {},
          "output_type": "execute_result"
        }
      ],
      "source": [
        "# Transform model (quantization)\n",
        "\n",
        "converter = tf.lite.TFLiteConverter.from_keras_model(model)\n",
        "converter.optimizations = [tf.lite.Optimize.DEFAULT]\n",
        "tflite_quantized_model = converter.convert()\n",
        "\n",
        "open(tflite_save_path, 'wb').write(tflite_quantized_model)"
      ]
    },
    {
      "cell_type": "code",
      "execution_count": 25,
      "metadata": {},
      "outputs": [],
      "source": [
        "# Save secondary model\n",
        "\n",
        "# secondary_model.save(model_save_path, include_optimizer=False)"
      ]
    },
    {
      "cell_type": "markdown",
      "metadata": {
        "id": "CHBPBXdx9hE6"
      },
      "source": [
        "# Inference test"
      ]
    },
    {
      "cell_type": "code",
      "execution_count": 26,
      "metadata": {
        "id": "mGAzLocO9hE7"
      },
      "outputs": [],
      "source": [
        "interpreter = tf.lite.Interpreter(model_path=tflite_save_path)\n",
        "interpreter.allocate_tensors()"
      ]
    },
    {
      "cell_type": "code",
      "execution_count": 27,
      "metadata": {
        "id": "oQuDK8YS9hE7"
      },
      "outputs": [],
      "source": [
        "# Get I / O tensor\n",
        "input_details = interpreter.get_input_details()\n",
        "output_details = interpreter.get_output_details()"
      ]
    },
    {
      "cell_type": "code",
      "execution_count": 28,
      "metadata": {
        "id": "2_ixAf_l9hE7"
      },
      "outputs": [],
      "source": [
        "interpreter.set_tensor(input_details[0]['index'], np.array([X_test[0]]))"
      ]
    },
    {
      "cell_type": "code",
      "execution_count": 29,
      "metadata": {
        "colab": {
          "base_uri": "https://localhost:8080/"
        },
        "id": "s4FoAnuc9hE7",
        "outputId": "91f18257-8d8b-4ef3-c558-e9b5f94fabbf",
        "scrolled": true
      },
      "outputs": [
        {
          "name": "stdout",
          "output_type": "stream",
          "text": [
            "CPU times: total: 0 ns\n",
            "Wall time: 2 ms\n"
          ]
        }
      ],
      "source": [
        "%%time\n",
        "# Inference implementation\n",
        "interpreter.invoke()\n",
        "tflite_results = interpreter.get_tensor(output_details[0]['index'])"
      ]
    },
    {
      "cell_type": "code",
      "execution_count": 30,
      "metadata": {
        "colab": {
          "base_uri": "https://localhost:8080/"
        },
        "id": "vONjp19J9hE8",
        "outputId": "77205e24-fd00-42c4-f7b6-e06e527c2cba"
      },
      "outputs": [
        {
          "name": "stdout",
          "output_type": "stream",
          "text": [
            "[1.3130225e-10 9.9999988e-01 1.5021509e-16 5.4812503e-20 4.6601127e-15\n",
            " 6.1134841e-08 3.5118028e-16 2.0307404e-08 1.4411691e-13 9.2801001e-12\n",
            " 6.0290120e-11 1.2075810e-12]\n",
            "1\n"
          ]
        }
      ],
      "source": [
        "print(np.squeeze(tflite_results))\n",
        "print(np.argmax(np.squeeze(tflite_results)))"
      ]
    }
  ],
  "metadata": {
    "accelerator": "GPU",
    "colab": {
      "collapsed_sections": [],
      "name": "keypoint_classification_EN.ipynb",
      "provenance": [],
      "toc_visible": true
    },
    "kernelspec": {
      "display_name": "Python 3",
      "language": "python",
      "name": "python3"
    },
    "language_info": {
      "codemirror_mode": {
        "name": "ipython",
        "version": 3
      },
      "file_extension": ".py",
      "mimetype": "text/x-python",
      "name": "python",
      "nbconvert_exporter": "python",
      "pygments_lexer": "ipython3",
      "version": "3.11.8"
    }
  },
  "nbformat": 4,
  "nbformat_minor": 0
}
