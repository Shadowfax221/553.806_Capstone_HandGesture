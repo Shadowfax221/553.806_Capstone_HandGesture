{
  "cells": [
    {
      "cell_type": "code",
      "execution_count": 1,
      "metadata": {
        "id": "igMyGnjE9hEp"
      },
      "outputs": [
        {
          "name": "stdout",
          "output_type": "stream",
          "text": [
            "WARNING:tensorflow:From c:\\Users\\Ian\\git\\553.806_Capstone_HandGesture\\.venv\\Lib\\site-packages\\keras\\src\\losses.py:2976: The name tf.losses.sparse_softmax_cross_entropy is deprecated. Please use tf.compat.v1.losses.sparse_softmax_cross_entropy instead.\n",
            "\n"
          ]
        }
      ],
      "source": [
        "import csv\n",
        "\n",
        "import numpy as np\n",
        "import tensorflow as tf\n",
        "from sklearn.model_selection import train_test_split\n",
        "\n",
        "RANDOM_SEED = 42"
      ]
    },
    {
      "cell_type": "code",
      "execution_count": 2,
      "metadata": {
        "id": "9NvZP2Zn9hEy"
      },
      "outputs": [],
      "source": [
        "dataset = 'datasets/keypoint1000.csv'\n",
        "model_save_path = 'models/keypoint_classifier.hdf5'\n",
        "tflite_save_path = 'models/keypoint_classifier_part1.tflite'\n",
        "tflite_save_path2 = 'models/keypoint_classifier_part2.tflite'"
      ]
    },
    {
      "cell_type": "markdown",
      "metadata": {
        "id": "s5oMH7x19hEz"
      },
      "source": [
        "# Set number of classes"
      ]
    },
    {
      "cell_type": "code",
      "execution_count": 3,
      "metadata": {
        "id": "du4kodXL9hEz"
      },
      "outputs": [],
      "source": [
        "NUM_CLASSES = 12\n",
        "LABELS = ['call', 'dislike', 'fist', 'like', 'mute', 'ok', 'one', 'palm', 'peace', 'rock', 'stop', 'stop_inverted'] "
      ]
    },
    {
      "cell_type": "markdown",
      "metadata": {
        "id": "XjnL0uso9hEz"
      },
      "source": [
        "# Dataset reading"
      ]
    },
    {
      "cell_type": "code",
      "execution_count": 4,
      "metadata": {},
      "outputs": [],
      "source": [
        "def apply_rotation(label, points):\n",
        "    num_points = 21\n",
        "    point_0 = points[0]\n",
        "    point_8 = points[8]\n",
        "\n",
        "    if label == 'dislike' or label == 'like':\n",
        "        return points  # No rotation\n",
        "    elif label == 'call':\n",
        "        # Rotate to be parallel with X-axis\n",
        "        line = point_8 - point_0\n",
        "        angle = np.arctan2(line[2], line[0])  # Consider the X-Z plane\n",
        "        rotation_matrix = np.array([\n",
        "            [1, 0, 0],\n",
        "            [0, np.cos(angle), -np.sin(angle)],\n",
        "            [0, np.sin(angle), np.cos(angle)]\n",
        "        ])\n",
        "    else:\n",
        "        # Rotate to be parallel with Y-axis\n",
        "        line = point_8 - point_0\n",
        "        angle = np.arctan2(line[2], line[1])  # Consider the Y-Z plane\n",
        "        rotation_matrix = np.array([\n",
        "            [np.cos(angle), 0, np.sin(angle)],\n",
        "            [0, 1, 0],\n",
        "            [-np.sin(angle), 0, np.cos(angle)]\n",
        "        ])\n",
        "    \n",
        "    # Apply rotation\n",
        "    for i in range(num_points):\n",
        "        points[i] = np.dot(rotation_matrix, points[i])\n",
        "\n",
        "    return points\n"
      ]
    },
    {
      "cell_type": "code",
      "execution_count": 5,
      "metadata": {},
      "outputs": [],
      "source": [
        "def pre_process_dataset(X_dataset, y_dataset):\n",
        "    # Reshape to 3D\n",
        "    num_points = 21\n",
        "    # reshaped_dataset = X_dataset.reshape(-1, num_points, 3)\n",
        "\n",
        "    # # Shift coordinates\n",
        "    # for i in range(len(reshaped_dataset)):\n",
        "    #     base_point = reshaped_dataset[i, 0]  # ID:0\n",
        "    #     for j in range(num_points):\n",
        "    #         reshaped_dataset[i, j] -= base_point\n",
        "\n",
        "    # # Rotation\n",
        "    # for i in range(len(reshaped_dataset)):\n",
        "    #     label = LABELS[y_dataset[i]]\n",
        "    #     reshaped_dataset[i] = apply_rotation(label, reshaped_dataset[i])\n",
        "\n",
        "    # Flatten\n",
        "    # flattened_dataset = reshaped_dataset.reshape(-1, num_points * 3)\n",
        "\n",
        "    # # Normalization\n",
        "    # max_abs_value = np.max(np.abs(flattened_dataset))\n",
        "    # normalized_dataset = flattened_dataset / max_abs_value\n",
        "\n",
        "    X_dataset[2] = 0\n",
        "\n",
        "    return X_dataset"
      ]
    },
    {
      "cell_type": "code",
      "execution_count": 6,
      "metadata": {
        "id": "QT5ZqtEz9hE0"
      },
      "outputs": [],
      "source": [
        "X_dataset = np.loadtxt(dataset, delimiter=',', dtype='float32', usecols=list(range(1, (21 * 3) + 1)))"
      ]
    },
    {
      "cell_type": "code",
      "execution_count": 7,
      "metadata": {
        "id": "QmoKFsp49hE0"
      },
      "outputs": [],
      "source": [
        "y_dataset = np.loadtxt(dataset, delimiter=',', dtype='int32', usecols=(0))"
      ]
    },
    {
      "cell_type": "code",
      "execution_count": 8,
      "metadata": {},
      "outputs": [],
      "source": [
        "X_dataset_preprocessed = pre_process_dataset(X_dataset, y_dataset)"
      ]
    },
    {
      "cell_type": "code",
      "execution_count": 9,
      "metadata": {
        "id": "xQU7JTZ_9hE0"
      },
      "outputs": [],
      "source": [
        "X_train, X_test, y_train, y_test = train_test_split(X_dataset_preprocessed, y_dataset, train_size=0.75, random_state=RANDOM_SEED)"
      ]
    },
    {
      "cell_type": "markdown",
      "metadata": {
        "id": "mxK_lETT9hE0"
      },
      "source": [
        "# Model building"
      ]
    },
    {
      "cell_type": "code",
      "execution_count": 10,
      "metadata": {
        "id": "vHBmUf1t9hE1"
      },
      "outputs": [
        {
          "name": "stdout",
          "output_type": "stream",
          "text": [
            "WARNING:tensorflow:From c:\\Users\\Ian\\git\\553.806_Capstone_HandGesture\\.venv\\Lib\\site-packages\\keras\\src\\backend.py:1398: The name tf.executing_eagerly_outside_functions is deprecated. Please use tf.compat.v1.executing_eagerly_outside_functions instead.\n",
            "\n"
          ]
        }
      ],
      "source": [
        "model = tf.keras.models.Sequential([\n",
        "    tf.keras.layers.Input((21 * 3, )),\n",
        "    tf.keras.layers.Dropout(0.1),\n",
        "    tf.keras.layers.Dense(128, activation='relu'),  # Increased units\n",
        "    tf.keras.layers.BatchNormalization(),  # Added Batch Normalization\n",
        "    tf.keras.layers.Dropout(0.1),  # Adjusted dropout rate\n",
        "    tf.keras.layers.Dense(128, activation='relu'),  # Increased units\n",
        "    tf.keras.layers.BatchNormalization(),  # Added Batch Normalization\n",
        "    tf.keras.layers.Dense(64, activation='relu'),  # Increased units\n",
        "    tf.keras.layers.Dense(NUM_CLASSES, activation='softmax')\n",
        "])"
      ]
    },
    {
      "cell_type": "code",
      "execution_count": 11,
      "metadata": {
        "colab": {
          "base_uri": "https://localhost:8080/"
        },
        "id": "ypqky9tc9hE1",
        "outputId": "5db082bb-30e3-4110-bf63-a1ee777ecd46"
      },
      "outputs": [
        {
          "name": "stdout",
          "output_type": "stream",
          "text": [
            "Model: \"sequential\"\n",
            "_________________________________________________________________\n",
            " Layer (type)                Output Shape              Param #   \n",
            "=================================================================\n",
            " dropout (Dropout)           (None, 63)                0         \n",
            "                                                                 \n",
            " dense (Dense)               (None, 128)               8192      \n",
            "                                                                 \n",
            " batch_normalization (Batch  (None, 128)               512       \n",
            " Normalization)                                                  \n",
            "                                                                 \n",
            " dropout_1 (Dropout)         (None, 128)               0         \n",
            "                                                                 \n",
            " dense_1 (Dense)             (None, 128)               16512     \n",
            "                                                                 \n",
            " batch_normalization_1 (Bat  (None, 128)               512       \n",
            " chNormalization)                                                \n",
            "                                                                 \n",
            " dense_2 (Dense)             (None, 64)                8256      \n",
            "                                                                 \n",
            " dense_3 (Dense)             (None, 12)                780       \n",
            "                                                                 \n",
            "=================================================================\n",
            "Total params: 34764 (135.80 KB)\n",
            "Trainable params: 34252 (133.80 KB)\n",
            "Non-trainable params: 512 (2.00 KB)\n",
            "_________________________________________________________________\n"
          ]
        }
      ],
      "source": [
        "model.summary()  # tf.keras.utils.plot_model(model, show_shapes=True)"
      ]
    },
    {
      "cell_type": "code",
      "execution_count": 12,
      "metadata": {
        "id": "MbMjOflQ9hE1"
      },
      "outputs": [],
      "source": [
        "# Model checkpoint callback\n",
        "cp_callback = tf.keras.callbacks.ModelCheckpoint(\n",
        "    model_save_path, verbose=1, save_weights_only=False)\n",
        "# Callback for early stopping\n",
        "es_callback = tf.keras.callbacks.EarlyStopping(patience=30, verbose=1)"
      ]
    },
    {
      "cell_type": "code",
      "execution_count": 13,
      "metadata": {
        "id": "c3Dac0M_9hE2"
      },
      "outputs": [
        {
          "name": "stdout",
          "output_type": "stream",
          "text": [
            "WARNING:tensorflow:From c:\\Users\\Ian\\git\\553.806_Capstone_HandGesture\\.venv\\Lib\\site-packages\\keras\\src\\optimizers\\__init__.py:309: The name tf.train.Optimizer is deprecated. Please use tf.compat.v1.train.Optimizer instead.\n",
            "\n"
          ]
        }
      ],
      "source": [
        "# Model compilation\n",
        "model.compile(\n",
        "    optimizer='adam',\n",
        "    loss='sparse_categorical_crossentropy',\n",
        "    metrics=['accuracy']\n",
        ")"
      ]
    },
    {
      "cell_type": "markdown",
      "metadata": {
        "id": "7XI0j1Iu9hE2"
      },
      "source": [
        "# Model training"
      ]
    },
    {
      "cell_type": "code",
      "execution_count": 14,
      "metadata": {},
      "outputs": [
        {
          "data": {
            "text/plain": [
              "<keras.src.callbacks.EarlyStopping at 0x1401dffda10>"
            ]
          },
          "execution_count": 14,
          "metadata": {},
          "output_type": "execute_result"
        }
      ],
      "source": [
        "es_callback"
      ]
    },
    {
      "cell_type": "code",
      "execution_count": 15,
      "metadata": {
        "colab": {
          "base_uri": "https://localhost:8080/"
        },
        "id": "WirBl-JE9hE3",
        "outputId": "71b30ca2-8294-4d9d-8aa2-800d90d399de",
        "scrolled": true
      },
      "outputs": [
        {
          "name": "stdout",
          "output_type": "stream",
          "text": [
            "Epoch 1/1000\n",
            "WARNING:tensorflow:From c:\\Users\\Ian\\git\\553.806_Capstone_HandGesture\\.venv\\Lib\\site-packages\\keras\\src\\utils\\tf_utils.py:492: The name tf.ragged.RaggedTensorValue is deprecated. Please use tf.compat.v1.ragged.RaggedTensorValue instead.\n",
            "\n"
          ]
        },
        {
          "name": "stdout",
          "output_type": "stream",
          "text": [
            "WARNING:tensorflow:From c:\\Users\\Ian\\git\\553.806_Capstone_HandGesture\\.venv\\Lib\\site-packages\\keras\\src\\engine\\base_layer_utils.py:384: The name tf.executing_eagerly_outside_functions is deprecated. Please use tf.compat.v1.executing_eagerly_outside_functions instead.\n",
            "\n",
            "71/71 [==============================] - ETA: 0s - loss: 2.3848 - accuracy: 0.1909\n",
            "Epoch 1: saving model to models\\keypoint_classifier.hdf5\n",
            "71/71 [==============================] - 3s 8ms/step - loss: 2.3848 - accuracy: 0.1909 - val_loss: 2.4232 - val_accuracy: 0.2060\n",
            "Epoch 2/1000\n",
            "37/71 [==============>...............] - ETA: 0s - loss: 2.1006 - accuracy: 0.2793"
          ]
        },
        {
          "name": "stderr",
          "output_type": "stream",
          "text": [
            "c:\\Users\\Ian\\git\\553.806_Capstone_HandGesture\\.venv\\Lib\\site-packages\\keras\\src\\engine\\training.py:3103: UserWarning: You are saving your model as an HDF5 file via `model.save()`. This file format is considered legacy. We recommend using instead the native Keras format, e.g. `model.save('my_model.keras')`.\n",
            "  saving_api.save_model(\n"
          ]
        },
        {
          "name": "stdout",
          "output_type": "stream",
          "text": [
            "69/71 [============================>.] - ETA: 0s - loss: 2.0525 - accuracy: 0.2904\n",
            "Epoch 2: saving model to models\\keypoint_classifier.hdf5\n",
            "71/71 [==============================] - 0s 5ms/step - loss: 2.0498 - accuracy: 0.2910 - val_loss: 2.2424 - val_accuracy: 0.2790\n",
            "Epoch 3/1000\n",
            "70/71 [============================>.] - ETA: 0s - loss: 1.8521 - accuracy: 0.3666\n",
            "Epoch 3: saving model to models\\keypoint_classifier.hdf5\n",
            "71/71 [==============================] - 0s 4ms/step - loss: 1.8525 - accuracy: 0.3666 - val_loss: 1.9515 - val_accuracy: 0.3730\n",
            "Epoch 4/1000\n",
            "67/71 [===========================>..] - ETA: 0s - loss: 1.7173 - accuracy: 0.4256\n",
            "Epoch 4: saving model to models\\keypoint_classifier.hdf5\n",
            "71/71 [==============================] - 0s 5ms/step - loss: 1.7166 - accuracy: 0.4248 - val_loss: 1.8035 - val_accuracy: 0.3727\n",
            "Epoch 5/1000\n",
            "55/71 [======================>.......] - ETA: 0s - loss: 1.5658 - accuracy: 0.4700\n",
            "Epoch 5: saving model to models\\keypoint_classifier.hdf5\n",
            "71/71 [==============================] - 0s 4ms/step - loss: 1.5478 - accuracy: 0.4772 - val_loss: 1.5749 - val_accuracy: 0.4483\n",
            "Epoch 6/1000\n",
            "55/71 [======================>.......] - ETA: 0s - loss: 1.4045 - accuracy: 0.5261\n",
            "Epoch 6: saving model to models\\keypoint_classifier.hdf5\n",
            "71/71 [==============================] - 0s 4ms/step - loss: 1.3836 - accuracy: 0.5332 - val_loss: 1.2636 - val_accuracy: 0.5730\n",
            "Epoch 7/1000\n",
            "56/71 [======================>.......] - ETA: 0s - loss: 1.2577 - accuracy: 0.5760\n",
            "Epoch 7: saving model to models\\keypoint_classifier.hdf5\n",
            "71/71 [==============================] - 0s 4ms/step - loss: 1.2390 - accuracy: 0.5788 - val_loss: 1.0605 - val_accuracy: 0.6053\n",
            "Epoch 8/1000\n",
            "53/71 [=====================>........] - ETA: 0s - loss: 1.1299 - accuracy: 0.6151\n",
            "Epoch 8: saving model to models\\keypoint_classifier.hdf5\n",
            "71/71 [==============================] - 0s 4ms/step - loss: 1.1223 - accuracy: 0.6176 - val_loss: 1.0783 - val_accuracy: 0.5803\n",
            "Epoch 9/1000\n",
            "67/71 [===========================>..] - ETA: 0s - loss: 0.9949 - accuracy: 0.6601\n",
            "Epoch 9: saving model to models\\keypoint_classifier.hdf5\n",
            "71/71 [==============================] - 0s 5ms/step - loss: 0.9916 - accuracy: 0.6608 - val_loss: 0.7609 - val_accuracy: 0.7383\n",
            "Epoch 10/1000\n",
            "71/71 [==============================] - ETA: 0s - loss: 0.9040 - accuracy: 0.6797\n",
            "Epoch 10: saving model to models\\keypoint_classifier.hdf5\n",
            "71/71 [==============================] - 0s 4ms/step - loss: 0.9040 - accuracy: 0.6797 - val_loss: 0.4939 - val_accuracy: 0.8577\n",
            "Epoch 11/1000\n",
            "58/71 [=======================>......] - ETA: 0s - loss: 0.8329 - accuracy: 0.7134\n",
            "Epoch 11: saving model to models\\keypoint_classifier.hdf5\n",
            "71/71 [==============================] - 0s 4ms/step - loss: 0.8297 - accuracy: 0.7149 - val_loss: 0.4736 - val_accuracy: 0.8473\n",
            "Epoch 12/1000\n",
            "57/71 [=======================>......] - ETA: 0s - loss: 0.7781 - accuracy: 0.7279\n",
            "Epoch 12: saving model to models\\keypoint_classifier.hdf5\n",
            "71/71 [==============================] - 0s 4ms/step - loss: 0.7747 - accuracy: 0.7287 - val_loss: 0.5123 - val_accuracy: 0.8073\n",
            "Epoch 13/1000\n",
            "69/71 [============================>.] - ETA: 0s - loss: 0.7559 - accuracy: 0.7370\n",
            "Epoch 13: saving model to models\\keypoint_classifier.hdf5\n",
            "71/71 [==============================] - 0s 4ms/step - loss: 0.7547 - accuracy: 0.7371 - val_loss: 0.5125 - val_accuracy: 0.8080\n",
            "Epoch 14/1000\n",
            "58/71 [=======================>......] - ETA: 0s - loss: 0.7023 - accuracy: 0.7558\n",
            "Epoch 14: saving model to models\\keypoint_classifier.hdf5\n",
            "71/71 [==============================] - 0s 4ms/step - loss: 0.7058 - accuracy: 0.7539 - val_loss: 0.5639 - val_accuracy: 0.8090\n",
            "Epoch 15/1000\n",
            "58/71 [=======================>......] - ETA: 0s - loss: 0.6770 - accuracy: 0.7697\n",
            "Epoch 15: saving model to models\\keypoint_classifier.hdf5\n",
            "71/71 [==============================] - 0s 4ms/step - loss: 0.6758 - accuracy: 0.7690 - val_loss: 0.5115 - val_accuracy: 0.8140\n",
            "Epoch 16/1000\n",
            "58/71 [=======================>......] - ETA: 0s - loss: 0.6371 - accuracy: 0.7821\n",
            "Epoch 16: saving model to models\\keypoint_classifier.hdf5\n",
            "71/71 [==============================] - 0s 4ms/step - loss: 0.6356 - accuracy: 0.7827 - val_loss: 0.3320 - val_accuracy: 0.8850\n",
            "Epoch 17/1000\n",
            "56/71 [======================>.......] - ETA: 0s - loss: 0.6224 - accuracy: 0.7843\n",
            "Epoch 17: saving model to models\\keypoint_classifier.hdf5\n",
            "71/71 [==============================] - 0s 4ms/step - loss: 0.6208 - accuracy: 0.7819 - val_loss: 0.3146 - val_accuracy: 0.9000\n",
            "Epoch 18/1000\n",
            "55/71 [======================>.......] - ETA: 0s - loss: 0.6055 - accuracy: 0.7876\n",
            "Epoch 18: saving model to models\\keypoint_classifier.hdf5\n",
            "71/71 [==============================] - 0s 4ms/step - loss: 0.6062 - accuracy: 0.7861 - val_loss: 0.3531 - val_accuracy: 0.8920\n",
            "Epoch 19/1000\n",
            "56/71 [======================>.......] - ETA: 0s - loss: 0.5750 - accuracy: 0.7976\n",
            "Epoch 19: saving model to models\\keypoint_classifier.hdf5\n",
            "71/71 [==============================] - 0s 4ms/step - loss: 0.5790 - accuracy: 0.7964 - val_loss: 0.3282 - val_accuracy: 0.8927\n",
            "Epoch 20/1000\n",
            "55/71 [======================>.......] - ETA: 0s - loss: 0.5784 - accuracy: 0.7935\n",
            "Epoch 20: saving model to models\\keypoint_classifier.hdf5\n",
            "71/71 [==============================] - 0s 4ms/step - loss: 0.5767 - accuracy: 0.7929 - val_loss: 0.3146 - val_accuracy: 0.8807\n",
            "Epoch 21/1000\n",
            "56/71 [======================>.......] - ETA: 0s - loss: 0.5769 - accuracy: 0.7977\n",
            "Epoch 21: saving model to models\\keypoint_classifier.hdf5\n",
            "71/71 [==============================] - 0s 4ms/step - loss: 0.5757 - accuracy: 0.7977 - val_loss: 0.3085 - val_accuracy: 0.9010\n",
            "Epoch 22/1000\n",
            "70/71 [============================>.] - ETA: 0s - loss: 0.5439 - accuracy: 0.8062\n",
            "Epoch 22: saving model to models\\keypoint_classifier.hdf5\n",
            "71/71 [==============================] - 0s 4ms/step - loss: 0.5446 - accuracy: 0.8058 - val_loss: 0.3124 - val_accuracy: 0.8987\n",
            "Epoch 23/1000\n",
            "68/71 [===========================>..] - ETA: 0s - loss: 0.5345 - accuracy: 0.8128\n",
            "Epoch 23: saving model to models\\keypoint_classifier.hdf5\n",
            "71/71 [==============================] - 0s 4ms/step - loss: 0.5334 - accuracy: 0.8126 - val_loss: 0.3940 - val_accuracy: 0.8663\n",
            "Epoch 24/1000\n",
            "56/71 [======================>.......] - ETA: 0s - loss: 0.5199 - accuracy: 0.8128\n",
            "Epoch 24: saving model to models\\keypoint_classifier.hdf5\n",
            "71/71 [==============================] - 0s 4ms/step - loss: 0.5188 - accuracy: 0.8122 - val_loss: 0.3632 - val_accuracy: 0.8603\n",
            "Epoch 25/1000\n",
            "54/71 [=====================>........] - ETA: 0s - loss: 0.5224 - accuracy: 0.8168\n",
            "Epoch 25: saving model to models\\keypoint_classifier.hdf5\n",
            "71/71 [==============================] - 0s 4ms/step - loss: 0.5140 - accuracy: 0.8181 - val_loss: 0.2669 - val_accuracy: 0.9083\n",
            "Epoch 26/1000\n",
            "55/71 [======================>.......] - ETA: 0s - loss: 0.5087 - accuracy: 0.8207\n",
            "Epoch 26: saving model to models\\keypoint_classifier.hdf5\n",
            "71/71 [==============================] - 0s 4ms/step - loss: 0.5090 - accuracy: 0.8198 - val_loss: 0.3571 - val_accuracy: 0.8840\n",
            "Epoch 27/1000\n",
            "53/71 [=====================>........] - ETA: 0s - loss: 0.5027 - accuracy: 0.8246\n",
            "Epoch 27: saving model to models\\keypoint_classifier.hdf5\n",
            "71/71 [==============================] - 0s 4ms/step - loss: 0.4988 - accuracy: 0.8241 - val_loss: 0.3856 - val_accuracy: 0.8703\n",
            "Epoch 28/1000\n",
            "54/71 [=====================>........] - ETA: 0s - loss: 0.4890 - accuracy: 0.8235\n",
            "Epoch 28: saving model to models\\keypoint_classifier.hdf5\n",
            "71/71 [==============================] - 0s 4ms/step - loss: 0.4829 - accuracy: 0.8276 - val_loss: 0.2940 - val_accuracy: 0.9070\n",
            "Epoch 29/1000\n",
            "55/71 [======================>.......] - ETA: 0s - loss: 0.4799 - accuracy: 0.8327\n",
            "Epoch 29: saving model to models\\keypoint_classifier.hdf5\n",
            "71/71 [==============================] - 0s 4ms/step - loss: 0.4802 - accuracy: 0.8311 - val_loss: 0.2622 - val_accuracy: 0.9187\n",
            "Epoch 30/1000\n",
            "55/71 [======================>.......] - ETA: 0s - loss: 0.4920 - accuracy: 0.8227\n",
            "Epoch 30: saving model to models\\keypoint_classifier.hdf5\n",
            "71/71 [==============================] - 0s 4ms/step - loss: 0.4890 - accuracy: 0.8254 - val_loss: 0.3664 - val_accuracy: 0.8797\n",
            "Epoch 31/1000\n",
            "57/71 [=======================>......] - ETA: 0s - loss: 0.4639 - accuracy: 0.8344\n",
            "Epoch 31: saving model to models\\keypoint_classifier.hdf5\n",
            "71/71 [==============================] - 0s 4ms/step - loss: 0.4590 - accuracy: 0.8372 - val_loss: 0.2745 - val_accuracy: 0.9017\n",
            "Epoch 32/1000\n",
            "55/71 [======================>.......] - ETA: 0s - loss: 0.4654 - accuracy: 0.8338\n",
            "Epoch 32: saving model to models\\keypoint_classifier.hdf5\n",
            "71/71 [==============================] - 0s 4ms/step - loss: 0.4634 - accuracy: 0.8373 - val_loss: 0.2728 - val_accuracy: 0.9150\n",
            "Epoch 33/1000\n",
            "62/71 [=========================>....] - ETA: 0s - loss: 0.4425 - accuracy: 0.8395\n",
            "Epoch 33: saving model to models\\keypoint_classifier.hdf5\n",
            "71/71 [==============================] - 0s 5ms/step - loss: 0.4406 - accuracy: 0.8408 - val_loss: 0.2975 - val_accuracy: 0.9040\n",
            "Epoch 34/1000\n",
            "60/71 [========================>.....] - ETA: 0s - loss: 0.4558 - accuracy: 0.8391\n",
            "Epoch 34: saving model to models\\keypoint_classifier.hdf5\n",
            "71/71 [==============================] - 0s 5ms/step - loss: 0.4528 - accuracy: 0.8412 - val_loss: 0.2829 - val_accuracy: 0.9110\n",
            "Epoch 35/1000\n",
            "68/71 [===========================>..] - ETA: 0s - loss: 0.4434 - accuracy: 0.8417\n",
            "Epoch 35: saving model to models\\keypoint_classifier.hdf5\n",
            "71/71 [==============================] - 0s 5ms/step - loss: 0.4432 - accuracy: 0.8428 - val_loss: 0.2888 - val_accuracy: 0.9070\n",
            "Epoch 36/1000\n",
            "69/71 [============================>.] - ETA: 0s - loss: 0.4294 - accuracy: 0.8433\n",
            "Epoch 36: saving model to models\\keypoint_classifier.hdf5\n",
            "71/71 [==============================] - 0s 6ms/step - loss: 0.4321 - accuracy: 0.8422 - val_loss: 0.3006 - val_accuracy: 0.9047\n",
            "Epoch 37/1000\n",
            "64/71 [==========================>...] - ETA: 0s - loss: 0.4564 - accuracy: 0.8434\n",
            "Epoch 37: saving model to models\\keypoint_classifier.hdf5\n",
            "71/71 [==============================] - 0s 5ms/step - loss: 0.4582 - accuracy: 0.8410 - val_loss: 0.3117 - val_accuracy: 0.8947\n",
            "Epoch 38/1000\n",
            "69/71 [============================>.] - ETA: 0s - loss: 0.4488 - accuracy: 0.8398\n",
            "Epoch 38: saving model to models\\keypoint_classifier.hdf5\n",
            "71/71 [==============================] - 0s 5ms/step - loss: 0.4497 - accuracy: 0.8396 - val_loss: 0.2663 - val_accuracy: 0.9173\n",
            "Epoch 39/1000\n",
            "65/71 [==========================>...] - ETA: 0s - loss: 0.4343 - accuracy: 0.8411\n",
            "Epoch 39: saving model to models\\keypoint_classifier.hdf5\n",
            "71/71 [==============================] - 0s 5ms/step - loss: 0.4300 - accuracy: 0.8430 - val_loss: 0.2711 - val_accuracy: 0.9117\n",
            "Epoch 40/1000\n",
            "61/71 [========================>.....] - ETA: 0s - loss: 0.4295 - accuracy: 0.8484\n",
            "Epoch 40: saving model to models\\keypoint_classifier.hdf5\n",
            "71/71 [==============================] - 0s 5ms/step - loss: 0.4252 - accuracy: 0.8494 - val_loss: 0.3564 - val_accuracy: 0.8897\n",
            "Epoch 41/1000\n",
            "66/71 [==========================>...] - ETA: 0s - loss: 0.4093 - accuracy: 0.8531\n",
            "Epoch 41: saving model to models\\keypoint_classifier.hdf5\n",
            "71/71 [==============================] - 0s 5ms/step - loss: 0.4121 - accuracy: 0.8523 - val_loss: 0.2379 - val_accuracy: 0.9227\n",
            "Epoch 42/1000\n",
            "54/71 [=====================>........] - ETA: 0s - loss: 0.4092 - accuracy: 0.8565\n",
            "Epoch 42: saving model to models\\keypoint_classifier.hdf5\n",
            "71/71 [==============================] - 0s 4ms/step - loss: 0.4072 - accuracy: 0.8567 - val_loss: 0.2345 - val_accuracy: 0.9260\n",
            "Epoch 43/1000\n",
            "70/71 [============================>.] - ETA: 0s - loss: 0.4170 - accuracy: 0.8540\n",
            "Epoch 43: saving model to models\\keypoint_classifier.hdf5\n",
            "71/71 [==============================] - 0s 4ms/step - loss: 0.4169 - accuracy: 0.8538 - val_loss: 0.2828 - val_accuracy: 0.9007\n",
            "Epoch 44/1000\n",
            "66/71 [==========================>...] - ETA: 0s - loss: 0.4102 - accuracy: 0.8520\n",
            "Epoch 44: saving model to models\\keypoint_classifier.hdf5\n",
            "71/71 [==============================] - 0s 5ms/step - loss: 0.4093 - accuracy: 0.8514 - val_loss: 0.3102 - val_accuracy: 0.8860\n",
            "Epoch 45/1000\n",
            "63/71 [=========================>....] - ETA: 0s - loss: 0.4005 - accuracy: 0.8584\n",
            "Epoch 45: saving model to models\\keypoint_classifier.hdf5\n",
            "71/71 [==============================] - 0s 5ms/step - loss: 0.4032 - accuracy: 0.8578 - val_loss: 0.2200 - val_accuracy: 0.9267\n",
            "Epoch 46/1000\n",
            "64/71 [==========================>...] - ETA: 0s - loss: 0.4028 - accuracy: 0.8555\n",
            "Epoch 46: saving model to models\\keypoint_classifier.hdf5\n",
            "71/71 [==============================] - 0s 5ms/step - loss: 0.3988 - accuracy: 0.8563 - val_loss: 0.4143 - val_accuracy: 0.8587\n",
            "Epoch 47/1000\n",
            "63/71 [=========================>....] - ETA: 0s - loss: 0.4046 - accuracy: 0.8493\n",
            "Epoch 47: saving model to models\\keypoint_classifier.hdf5\n",
            "71/71 [==============================] - 0s 5ms/step - loss: 0.3982 - accuracy: 0.8514 - val_loss: 0.2554 - val_accuracy: 0.9180\n",
            "Epoch 48/1000\n",
            "70/71 [============================>.] - ETA: 0s - loss: 0.3992 - accuracy: 0.8555\n",
            "Epoch 48: saving model to models\\keypoint_classifier.hdf5\n",
            "71/71 [==============================] - 0s 5ms/step - loss: 0.3998 - accuracy: 0.8551 - val_loss: 0.2661 - val_accuracy: 0.9010\n",
            "Epoch 49/1000\n",
            "68/71 [===========================>..] - ETA: 0s - loss: 0.3800 - accuracy: 0.8618\n",
            "Epoch 49: saving model to models\\keypoint_classifier.hdf5\n",
            "71/71 [==============================] - 0s 6ms/step - loss: 0.3790 - accuracy: 0.8623 - val_loss: 0.3095 - val_accuracy: 0.8913\n",
            "Epoch 50/1000\n",
            "63/71 [=========================>....] - ETA: 0s - loss: 0.3660 - accuracy: 0.8671\n",
            "Epoch 50: saving model to models\\keypoint_classifier.hdf5\n",
            "71/71 [==============================] - 0s 5ms/step - loss: 0.3698 - accuracy: 0.8663 - val_loss: 0.2876 - val_accuracy: 0.8983\n",
            "Epoch 51/1000\n",
            "65/71 [==========================>...] - ETA: 0s - loss: 0.3907 - accuracy: 0.8581\n",
            "Epoch 51: saving model to models\\keypoint_classifier.hdf5\n",
            "71/71 [==============================] - 0s 5ms/step - loss: 0.3864 - accuracy: 0.8584 - val_loss: 0.2502 - val_accuracy: 0.9117\n",
            "Epoch 52/1000\n",
            "71/71 [==============================] - ETA: 0s - loss: 0.3804 - accuracy: 0.8649\n",
            "Epoch 52: saving model to models\\keypoint_classifier.hdf5\n",
            "71/71 [==============================] - 0s 4ms/step - loss: 0.3804 - accuracy: 0.8649 - val_loss: 0.2943 - val_accuracy: 0.9080\n",
            "Epoch 53/1000\n",
            "70/71 [============================>.] - ETA: 0s - loss: 0.3842 - accuracy: 0.8642\n",
            "Epoch 53: saving model to models\\keypoint_classifier.hdf5\n",
            "71/71 [==============================] - 0s 4ms/step - loss: 0.3849 - accuracy: 0.8636 - val_loss: 0.2314 - val_accuracy: 0.9293\n",
            "Epoch 54/1000\n",
            "70/71 [============================>.] - ETA: 0s - loss: 0.3805 - accuracy: 0.8689\n",
            "Epoch 54: saving model to models\\keypoint_classifier.hdf5\n",
            "71/71 [==============================] - 0s 4ms/step - loss: 0.3818 - accuracy: 0.8681 - val_loss: 0.2809 - val_accuracy: 0.9123\n",
            "Epoch 55/1000\n",
            "55/71 [======================>.......] - ETA: 0s - loss: 0.3800 - accuracy: 0.8635\n",
            "Epoch 55: saving model to models\\keypoint_classifier.hdf5\n",
            "71/71 [==============================] - 0s 4ms/step - loss: 0.3774 - accuracy: 0.8630 - val_loss: 0.2886 - val_accuracy: 0.8967\n",
            "Epoch 56/1000\n",
            "54/71 [=====================>........] - ETA: 0s - loss: 0.3727 - accuracy: 0.8652\n",
            "Epoch 56: saving model to models\\keypoint_classifier.hdf5\n",
            "71/71 [==============================] - 0s 4ms/step - loss: 0.3686 - accuracy: 0.8672 - val_loss: 0.2399 - val_accuracy: 0.9243\n",
            "Epoch 57/1000\n",
            "70/71 [============================>.] - ETA: 0s - loss: 0.3642 - accuracy: 0.8682\n",
            "Epoch 57: saving model to models\\keypoint_classifier.hdf5\n",
            "71/71 [==============================] - 0s 4ms/step - loss: 0.3643 - accuracy: 0.8679 - val_loss: 0.2239 - val_accuracy: 0.9203\n",
            "Epoch 58/1000\n",
            "55/71 [======================>.......] - ETA: 0s - loss: 0.3699 - accuracy: 0.8614\n",
            "Epoch 58: saving model to models\\keypoint_classifier.hdf5\n",
            "71/71 [==============================] - 0s 4ms/step - loss: 0.3685 - accuracy: 0.8630 - val_loss: 0.3170 - val_accuracy: 0.8897\n",
            "Epoch 59/1000\n",
            "54/71 [=====================>........] - ETA: 0s - loss: 0.3617 - accuracy: 0.8665\n",
            "Epoch 59: saving model to models\\keypoint_classifier.hdf5\n",
            "71/71 [==============================] - 0s 4ms/step - loss: 0.3654 - accuracy: 0.8674 - val_loss: 0.2131 - val_accuracy: 0.9367\n",
            "Epoch 60/1000\n",
            "68/71 [===========================>..] - ETA: 0s - loss: 0.3672 - accuracy: 0.8665\n",
            "Epoch 60: saving model to models\\keypoint_classifier.hdf5\n",
            "71/71 [==============================] - 0s 5ms/step - loss: 0.3660 - accuracy: 0.8678 - val_loss: 0.2155 - val_accuracy: 0.9357\n",
            "Epoch 61/1000\n",
            "55/71 [======================>.......] - ETA: 0s - loss: 0.3559 - accuracy: 0.8693\n",
            "Epoch 61: saving model to models\\keypoint_classifier.hdf5\n",
            "71/71 [==============================] - 0s 4ms/step - loss: 0.3556 - accuracy: 0.8704 - val_loss: 0.2075 - val_accuracy: 0.9383\n",
            "Epoch 62/1000\n",
            "54/71 [=====================>........] - ETA: 0s - loss: 0.3602 - accuracy: 0.8692\n",
            "Epoch 62: saving model to models\\keypoint_classifier.hdf5\n",
            "71/71 [==============================] - 0s 4ms/step - loss: 0.3507 - accuracy: 0.8726 - val_loss: 0.3394 - val_accuracy: 0.8777\n",
            "Epoch 63/1000\n",
            "54/71 [=====================>........] - ETA: 0s - loss: 0.3416 - accuracy: 0.8766\n",
            "Epoch 63: saving model to models\\keypoint_classifier.hdf5\n",
            "71/71 [==============================] - 0s 4ms/step - loss: 0.3457 - accuracy: 0.8752 - val_loss: 0.2639 - val_accuracy: 0.9123\n",
            "Epoch 64/1000\n",
            "54/71 [=====================>........] - ETA: 0s - loss: 0.3572 - accuracy: 0.8669\n",
            "Epoch 64: saving model to models\\keypoint_classifier.hdf5\n",
            "71/71 [==============================] - 0s 4ms/step - loss: 0.3548 - accuracy: 0.8693 - val_loss: 0.2088 - val_accuracy: 0.9357\n",
            "Epoch 65/1000\n",
            "71/71 [==============================] - ETA: 0s - loss: 0.3468 - accuracy: 0.8763\n",
            "Epoch 65: saving model to models\\keypoint_classifier.hdf5\n",
            "71/71 [==============================] - 0s 4ms/step - loss: 0.3468 - accuracy: 0.8763 - val_loss: 0.2262 - val_accuracy: 0.9283\n",
            "Epoch 66/1000\n",
            "54/71 [=====================>........] - ETA: 0s - loss: 0.3465 - accuracy: 0.8809\n",
            "Epoch 66: saving model to models\\keypoint_classifier.hdf5\n",
            "71/71 [==============================] - 0s 4ms/step - loss: 0.3481 - accuracy: 0.8788 - val_loss: 0.2355 - val_accuracy: 0.9120\n",
            "Epoch 67/1000\n",
            "70/71 [============================>.] - ETA: 0s - loss: 0.3418 - accuracy: 0.8773\n",
            "Epoch 67: saving model to models\\keypoint_classifier.hdf5\n",
            "71/71 [==============================] - 0s 4ms/step - loss: 0.3421 - accuracy: 0.8771 - val_loss: 0.2497 - val_accuracy: 0.9190\n",
            "Epoch 68/1000\n",
            "71/71 [==============================] - ETA: 0s - loss: 0.3450 - accuracy: 0.8753\n",
            "Epoch 68: saving model to models\\keypoint_classifier.hdf5\n",
            "71/71 [==============================] - 0s 4ms/step - loss: 0.3450 - accuracy: 0.8753 - val_loss: 0.2722 - val_accuracy: 0.9127\n",
            "Epoch 69/1000\n",
            "55/71 [======================>.......] - ETA: 0s - loss: 0.3490 - accuracy: 0.8707\n",
            "Epoch 69: saving model to models\\keypoint_classifier.hdf5\n",
            "71/71 [==============================] - 0s 4ms/step - loss: 0.3425 - accuracy: 0.8737 - val_loss: 0.2054 - val_accuracy: 0.9350\n",
            "Epoch 70/1000\n",
            "71/71 [==============================] - ETA: 0s - loss: 0.3380 - accuracy: 0.8791\n",
            "Epoch 70: saving model to models\\keypoint_classifier.hdf5\n",
            "71/71 [==============================] - 0s 4ms/step - loss: 0.3380 - accuracy: 0.8791 - val_loss: 0.2623 - val_accuracy: 0.9113\n",
            "Epoch 71/1000\n",
            "70/71 [============================>.] - ETA: 0s - loss: 0.3539 - accuracy: 0.8786\n",
            "Epoch 71: saving model to models\\keypoint_classifier.hdf5\n",
            "71/71 [==============================] - 0s 4ms/step - loss: 0.3529 - accuracy: 0.8791 - val_loss: 0.3360 - val_accuracy: 0.8783\n",
            "Epoch 72/1000\n",
            "54/71 [=====================>........] - ETA: 0s - loss: 0.3375 - accuracy: 0.8795\n",
            "Epoch 72: saving model to models\\keypoint_classifier.hdf5\n",
            "71/71 [==============================] - 0s 4ms/step - loss: 0.3305 - accuracy: 0.8802 - val_loss: 0.2622 - val_accuracy: 0.9090\n",
            "Epoch 73/1000\n",
            "71/71 [==============================] - ETA: 0s - loss: 0.3354 - accuracy: 0.8773\n",
            "Epoch 73: saving model to models\\keypoint_classifier.hdf5\n",
            "71/71 [==============================] - 0s 4ms/step - loss: 0.3354 - accuracy: 0.8773 - val_loss: 0.2452 - val_accuracy: 0.9217\n",
            "Epoch 74/1000\n",
            "54/71 [=====================>........] - ETA: 0s - loss: 0.3355 - accuracy: 0.8834\n",
            "Epoch 74: saving model to models\\keypoint_classifier.hdf5\n",
            "71/71 [==============================] - 0s 4ms/step - loss: 0.3369 - accuracy: 0.8811 - val_loss: 0.4267 - val_accuracy: 0.8603\n",
            "Epoch 75/1000\n",
            "55/71 [======================>.......] - ETA: 0s - loss: 0.3436 - accuracy: 0.8761\n",
            "Epoch 75: saving model to models\\keypoint_classifier.hdf5\n",
            "71/71 [==============================] - 0s 4ms/step - loss: 0.3456 - accuracy: 0.8773 - val_loss: 0.2759 - val_accuracy: 0.9073\n",
            "Epoch 76/1000\n",
            "68/71 [===========================>..] - ETA: 0s - loss: 0.3302 - accuracy: 0.8770\n",
            "Epoch 76: saving model to models\\keypoint_classifier.hdf5\n",
            "71/71 [==============================] - 0s 4ms/step - loss: 0.3307 - accuracy: 0.8770 - val_loss: 0.2436 - val_accuracy: 0.9203\n",
            "Epoch 77/1000\n",
            "55/71 [======================>.......] - ETA: 0s - loss: 0.3331 - accuracy: 0.8830\n",
            "Epoch 77: saving model to models\\keypoint_classifier.hdf5\n",
            "71/71 [==============================] - 0s 4ms/step - loss: 0.3310 - accuracy: 0.8820 - val_loss: 0.3316 - val_accuracy: 0.8737\n",
            "Epoch 78/1000\n",
            "54/71 [=====================>........] - ETA: 0s - loss: 0.3439 - accuracy: 0.8754\n",
            "Epoch 78: saving model to models\\keypoint_classifier.hdf5\n",
            "71/71 [==============================] - 0s 4ms/step - loss: 0.3440 - accuracy: 0.8737 - val_loss: 0.2234 - val_accuracy: 0.9210\n",
            "Epoch 79/1000\n",
            "55/71 [======================>.......] - ETA: 0s - loss: 0.3237 - accuracy: 0.8838\n",
            "Epoch 79: saving model to models\\keypoint_classifier.hdf5\n",
            "71/71 [==============================] - 0s 4ms/step - loss: 0.3243 - accuracy: 0.8850 - val_loss: 0.2065 - val_accuracy: 0.9320\n",
            "Epoch 80/1000\n",
            "64/71 [==========================>...] - ETA: 0s - loss: 0.3305 - accuracy: 0.8839\n",
            "Epoch 80: saving model to models\\keypoint_classifier.hdf5\n",
            "71/71 [==============================] - 0s 5ms/step - loss: 0.3332 - accuracy: 0.8832 - val_loss: 0.2679 - val_accuracy: 0.9017\n",
            "Epoch 81/1000\n",
            "65/71 [==========================>...] - ETA: 0s - loss: 0.3105 - accuracy: 0.8864\n",
            "Epoch 81: saving model to models\\keypoint_classifier.hdf5\n",
            "71/71 [==============================] - 0s 5ms/step - loss: 0.3081 - accuracy: 0.8862 - val_loss: 0.2204 - val_accuracy: 0.9307\n",
            "Epoch 82/1000\n",
            "54/71 [=====================>........] - ETA: 0s - loss: 0.3301 - accuracy: 0.8780\n",
            "Epoch 82: saving model to models\\keypoint_classifier.hdf5\n",
            "71/71 [==============================] - 0s 4ms/step - loss: 0.3311 - accuracy: 0.8792 - val_loss: 0.2426 - val_accuracy: 0.9193\n",
            "Epoch 83/1000\n",
            "71/71 [==============================] - ETA: 0s - loss: 0.3340 - accuracy: 0.8778\n",
            "Epoch 83: saving model to models\\keypoint_classifier.hdf5\n",
            "71/71 [==============================] - 0s 4ms/step - loss: 0.3340 - accuracy: 0.8778 - val_loss: 0.2473 - val_accuracy: 0.9190\n",
            "Epoch 84/1000\n",
            "55/71 [======================>.......] - ETA: 0s - loss: 0.3191 - accuracy: 0.8862\n",
            "Epoch 84: saving model to models\\keypoint_classifier.hdf5\n",
            "71/71 [==============================] - 0s 4ms/step - loss: 0.3155 - accuracy: 0.8862 - val_loss: 0.1942 - val_accuracy: 0.9377\n",
            "Epoch 85/1000\n",
            "56/71 [======================>.......] - ETA: 0s - loss: 0.3106 - accuracy: 0.8878\n",
            "Epoch 85: saving model to models\\keypoint_classifier.hdf5\n",
            "71/71 [==============================] - 0s 4ms/step - loss: 0.3155 - accuracy: 0.8866 - val_loss: 0.2567 - val_accuracy: 0.9083\n",
            "Epoch 86/1000\n",
            "54/71 [=====================>........] - ETA: 0s - loss: 0.3238 - accuracy: 0.8818\n",
            "Epoch 86: saving model to models\\keypoint_classifier.hdf5\n",
            "71/71 [==============================] - 0s 4ms/step - loss: 0.3194 - accuracy: 0.8816 - val_loss: 0.3706 - val_accuracy: 0.8650\n",
            "Epoch 87/1000\n",
            "55/71 [======================>.......] - ETA: 0s - loss: 0.3103 - accuracy: 0.8866\n",
            "Epoch 87: saving model to models\\keypoint_classifier.hdf5\n",
            "71/71 [==============================] - 0s 4ms/step - loss: 0.3146 - accuracy: 0.8846 - val_loss: 0.2784 - val_accuracy: 0.8973\n",
            "Epoch 88/1000\n",
            "54/71 [=====================>........] - ETA: 0s - loss: 0.2993 - accuracy: 0.8883\n",
            "Epoch 88: saving model to models\\keypoint_classifier.hdf5\n",
            "71/71 [==============================] - 0s 4ms/step - loss: 0.3024 - accuracy: 0.8874 - val_loss: 0.1830 - val_accuracy: 0.9403\n",
            "Epoch 89/1000\n",
            "69/71 [============================>.] - ETA: 0s - loss: 0.3050 - accuracy: 0.8885\n",
            "Epoch 89: saving model to models\\keypoint_classifier.hdf5\n",
            "71/71 [==============================] - 0s 4ms/step - loss: 0.3064 - accuracy: 0.8881 - val_loss: 0.2356 - val_accuracy: 0.9233\n",
            "Epoch 90/1000\n",
            "56/71 [======================>.......] - ETA: 0s - loss: 0.3023 - accuracy: 0.8877\n",
            "Epoch 90: saving model to models\\keypoint_classifier.hdf5\n",
            "71/71 [==============================] - 0s 4ms/step - loss: 0.2992 - accuracy: 0.8892 - val_loss: 0.2759 - val_accuracy: 0.9003\n",
            "Epoch 91/1000\n",
            "55/71 [======================>.......] - ETA: 0s - loss: 0.3140 - accuracy: 0.8885\n",
            "Epoch 91: saving model to models\\keypoint_classifier.hdf5\n",
            "71/71 [==============================] - 0s 4ms/step - loss: 0.3173 - accuracy: 0.8871 - val_loss: 0.2059 - val_accuracy: 0.9330\n",
            "Epoch 92/1000\n",
            "55/71 [======================>.......] - ETA: 0s - loss: 0.3175 - accuracy: 0.8835\n",
            "Epoch 92: saving model to models\\keypoint_classifier.hdf5\n",
            "71/71 [==============================] - 0s 4ms/step - loss: 0.3215 - accuracy: 0.8819 - val_loss: 0.2616 - val_accuracy: 0.9030\n",
            "Epoch 93/1000\n",
            "54/71 [=====================>........] - ETA: 0s - loss: 0.3162 - accuracy: 0.8832\n",
            "Epoch 93: saving model to models\\keypoint_classifier.hdf5\n",
            "71/71 [==============================] - 0s 4ms/step - loss: 0.3116 - accuracy: 0.8864 - val_loss: 0.1819 - val_accuracy: 0.9423\n",
            "Epoch 94/1000\n",
            "54/71 [=====================>........] - ETA: 0s - loss: 0.3083 - accuracy: 0.8915\n",
            "Epoch 94: saving model to models\\keypoint_classifier.hdf5\n",
            "71/71 [==============================] - 0s 4ms/step - loss: 0.3106 - accuracy: 0.8887 - val_loss: 0.2646 - val_accuracy: 0.9143\n",
            "Epoch 95/1000\n",
            "56/71 [======================>.......] - ETA: 0s - loss: 0.3063 - accuracy: 0.8888\n",
            "Epoch 95: saving model to models\\keypoint_classifier.hdf5\n",
            "71/71 [==============================] - 0s 4ms/step - loss: 0.3029 - accuracy: 0.8901 - val_loss: 0.2495 - val_accuracy: 0.9137\n",
            "Epoch 96/1000\n",
            "56/71 [======================>.......] - ETA: 0s - loss: 0.3133 - accuracy: 0.8884\n",
            "Epoch 96: saving model to models\\keypoint_classifier.hdf5\n",
            "71/71 [==============================] - 0s 4ms/step - loss: 0.3119 - accuracy: 0.8887 - val_loss: 0.3016 - val_accuracy: 0.8757\n",
            "Epoch 97/1000\n",
            "55/71 [======================>.......] - ETA: 0s - loss: 0.2985 - accuracy: 0.8913\n",
            "Epoch 97: saving model to models\\keypoint_classifier.hdf5\n",
            "71/71 [==============================] - 0s 4ms/step - loss: 0.2952 - accuracy: 0.8919 - val_loss: 0.2427 - val_accuracy: 0.9187\n",
            "Epoch 98/1000\n",
            "65/71 [==========================>...] - ETA: 0s - loss: 0.3013 - accuracy: 0.8886\n",
            "Epoch 98: saving model to models\\keypoint_classifier.hdf5\n",
            "71/71 [==============================] - 0s 5ms/step - loss: 0.3008 - accuracy: 0.8888 - val_loss: 0.2583 - val_accuracy: 0.9087\n",
            "Epoch 99/1000\n",
            "54/71 [=====================>........] - ETA: 0s - loss: 0.3069 - accuracy: 0.8887\n",
            "Epoch 99: saving model to models\\keypoint_classifier.hdf5\n",
            "71/71 [==============================] - 0s 4ms/step - loss: 0.3090 - accuracy: 0.8891 - val_loss: 0.2055 - val_accuracy: 0.9383\n",
            "Epoch 100/1000\n",
            "55/71 [======================>.......] - ETA: 0s - loss: 0.2839 - accuracy: 0.8888\n",
            "Epoch 100: saving model to models\\keypoint_classifier.hdf5\n",
            "71/71 [==============================] - 0s 4ms/step - loss: 0.2901 - accuracy: 0.8878 - val_loss: 0.2248 - val_accuracy: 0.9157\n",
            "Epoch 101/1000\n",
            "54/71 [=====================>........] - ETA: 0s - loss: 0.3095 - accuracy: 0.8885\n",
            "Epoch 101: saving model to models\\keypoint_classifier.hdf5\n",
            "71/71 [==============================] - 0s 4ms/step - loss: 0.3102 - accuracy: 0.8873 - val_loss: 0.3468 - val_accuracy: 0.8793\n",
            "Epoch 102/1000\n",
            "54/71 [=====================>........] - ETA: 0s - loss: 0.3163 - accuracy: 0.8796\n",
            "Epoch 102: saving model to models\\keypoint_classifier.hdf5\n",
            "71/71 [==============================] - 0s 4ms/step - loss: 0.3092 - accuracy: 0.8832 - val_loss: 0.1939 - val_accuracy: 0.9377\n",
            "Epoch 103/1000\n",
            "55/71 [======================>.......] - ETA: 0s - loss: 0.3016 - accuracy: 0.8919\n",
            "Epoch 103: saving model to models\\keypoint_classifier.hdf5\n",
            "71/71 [==============================] - 0s 4ms/step - loss: 0.2964 - accuracy: 0.8928 - val_loss: 0.2330 - val_accuracy: 0.9147\n",
            "Epoch 104/1000\n",
            "54/71 [=====================>........] - ETA: 0s - loss: 0.2864 - accuracy: 0.8934\n",
            "Epoch 104: saving model to models\\keypoint_classifier.hdf5\n",
            "71/71 [==============================] - 0s 4ms/step - loss: 0.2885 - accuracy: 0.8941 - val_loss: 0.2973 - val_accuracy: 0.9057\n",
            "Epoch 105/1000\n",
            "55/71 [======================>.......] - ETA: 0s - loss: 0.2835 - accuracy: 0.8997\n",
            "Epoch 105: saving model to models\\keypoint_classifier.hdf5\n",
            "71/71 [==============================] - 0s 4ms/step - loss: 0.2878 - accuracy: 0.8979 - val_loss: 0.2526 - val_accuracy: 0.9130\n",
            "Epoch 106/1000\n",
            "55/71 [======================>.......] - ETA: 0s - loss: 0.2895 - accuracy: 0.8963\n",
            "Epoch 106: saving model to models\\keypoint_classifier.hdf5\n",
            "71/71 [==============================] - 0s 4ms/step - loss: 0.2937 - accuracy: 0.8941 - val_loss: 0.2702 - val_accuracy: 0.9040\n",
            "Epoch 107/1000\n",
            "67/71 [===========================>..] - ETA: 0s - loss: 0.2855 - accuracy: 0.8968\n",
            "Epoch 107: saving model to models\\keypoint_classifier.hdf5\n",
            "71/71 [==============================] - 0s 4ms/step - loss: 0.2857 - accuracy: 0.8968 - val_loss: 0.2139 - val_accuracy: 0.9310\n",
            "Epoch 108/1000\n",
            "54/71 [=====================>........] - ETA: 0s - loss: 0.2899 - accuracy: 0.8941\n",
            "Epoch 108: saving model to models\\keypoint_classifier.hdf5\n",
            "71/71 [==============================] - 0s 4ms/step - loss: 0.2886 - accuracy: 0.8959 - val_loss: 0.1733 - val_accuracy: 0.9480\n",
            "Epoch 109/1000\n",
            "55/71 [======================>.......] - ETA: 0s - loss: 0.3005 - accuracy: 0.8899\n",
            "Epoch 109: saving model to models\\keypoint_classifier.hdf5\n",
            "71/71 [==============================] - 0s 4ms/step - loss: 0.2956 - accuracy: 0.8922 - val_loss: 0.4976 - val_accuracy: 0.8297\n",
            "Epoch 110/1000\n",
            "55/71 [======================>.......] - ETA: 0s - loss: 0.2836 - accuracy: 0.8952\n",
            "Epoch 110: saving model to models\\keypoint_classifier.hdf5\n",
            "71/71 [==============================] - 0s 4ms/step - loss: 0.2791 - accuracy: 0.8972 - val_loss: 0.2843 - val_accuracy: 0.8883\n",
            "Epoch 111/1000\n",
            "56/71 [======================>.......] - ETA: 0s - loss: 0.2924 - accuracy: 0.8913\n",
            "Epoch 111: saving model to models\\keypoint_classifier.hdf5\n",
            "71/71 [==============================] - 0s 4ms/step - loss: 0.2871 - accuracy: 0.8929 - val_loss: 0.2519 - val_accuracy: 0.9187\n",
            "Epoch 112/1000\n",
            "55/71 [======================>.......] - ETA: 0s - loss: 0.2868 - accuracy: 0.8919\n",
            "Epoch 112: saving model to models\\keypoint_classifier.hdf5\n",
            "71/71 [==============================] - 0s 4ms/step - loss: 0.2868 - accuracy: 0.8930 - val_loss: 0.3597 - val_accuracy: 0.8793\n",
            "Epoch 113/1000\n",
            "55/71 [======================>.......] - ETA: 0s - loss: 0.2864 - accuracy: 0.8950\n",
            "Epoch 113: saving model to models\\keypoint_classifier.hdf5\n",
            "71/71 [==============================] - 0s 4ms/step - loss: 0.2797 - accuracy: 0.8974 - val_loss: 0.2180 - val_accuracy: 0.9270\n",
            "Epoch 114/1000\n",
            "55/71 [======================>.......] - ETA: 0s - loss: 0.3008 - accuracy: 0.8902\n",
            "Epoch 114: saving model to models\\keypoint_classifier.hdf5\n",
            "71/71 [==============================] - 0s 4ms/step - loss: 0.2947 - accuracy: 0.8938 - val_loss: 0.1891 - val_accuracy: 0.9363\n",
            "Epoch 115/1000\n",
            "54/71 [=====================>........] - ETA: 0s - loss: 0.2862 - accuracy: 0.8977\n",
            "Epoch 115: saving model to models\\keypoint_classifier.hdf5\n",
            "71/71 [==============================] - 0s 4ms/step - loss: 0.2844 - accuracy: 0.8964 - val_loss: 0.2754 - val_accuracy: 0.9033\n",
            "Epoch 116/1000\n",
            "71/71 [==============================] - ETA: 0s - loss: 0.2799 - accuracy: 0.8977\n",
            "Epoch 116: saving model to models\\keypoint_classifier.hdf5\n",
            "71/71 [==============================] - 0s 5ms/step - loss: 0.2799 - accuracy: 0.8977 - val_loss: 0.2101 - val_accuracy: 0.9283\n",
            "Epoch 117/1000\n",
            "55/71 [======================>.......] - ETA: 0s - loss: 0.2910 - accuracy: 0.8911\n",
            "Epoch 117: saving model to models\\keypoint_classifier.hdf5\n",
            "71/71 [==============================] - 0s 4ms/step - loss: 0.2820 - accuracy: 0.8949 - val_loss: 0.2753 - val_accuracy: 0.8957\n",
            "Epoch 118/1000\n",
            "55/71 [======================>.......] - ETA: 0s - loss: 0.2802 - accuracy: 0.8980\n",
            "Epoch 118: saving model to models\\keypoint_classifier.hdf5\n",
            "71/71 [==============================] - 0s 4ms/step - loss: 0.2843 - accuracy: 0.8952 - val_loss: 0.2490 - val_accuracy: 0.9120\n",
            "Epoch 119/1000\n",
            "56/71 [======================>.......] - ETA: 0s - loss: 0.2822 - accuracy: 0.8983\n",
            "Epoch 119: saving model to models\\keypoint_classifier.hdf5\n",
            "71/71 [==============================] - 0s 4ms/step - loss: 0.2778 - accuracy: 0.8996 - val_loss: 0.2554 - val_accuracy: 0.9110\n",
            "Epoch 120/1000\n",
            "55/71 [======================>.......] - ETA: 0s - loss: 0.2791 - accuracy: 0.8959\n",
            "Epoch 120: saving model to models\\keypoint_classifier.hdf5\n",
            "71/71 [==============================] - 0s 4ms/step - loss: 0.2746 - accuracy: 0.8969 - val_loss: 0.2020 - val_accuracy: 0.9320\n",
            "Epoch 121/1000\n",
            "55/71 [======================>.......] - ETA: 0s - loss: 0.2849 - accuracy: 0.8922\n",
            "Epoch 121: saving model to models\\keypoint_classifier.hdf5\n",
            "71/71 [==============================] - 0s 4ms/step - loss: 0.2828 - accuracy: 0.8942 - val_loss: 0.2084 - val_accuracy: 0.9283\n",
            "Epoch 122/1000\n",
            "56/71 [======================>.......] - ETA: 0s - loss: 0.2771 - accuracy: 0.8969\n",
            "Epoch 122: saving model to models\\keypoint_classifier.hdf5\n",
            "71/71 [==============================] - 0s 4ms/step - loss: 0.2764 - accuracy: 0.8964 - val_loss: 0.2009 - val_accuracy: 0.9343\n",
            "Epoch 123/1000\n",
            "54/71 [=====================>........] - ETA: 0s - loss: 0.2751 - accuracy: 0.9006\n",
            "Epoch 123: saving model to models\\keypoint_classifier.hdf5\n",
            "71/71 [==============================] - 0s 4ms/step - loss: 0.2742 - accuracy: 0.8984 - val_loss: 0.2689 - val_accuracy: 0.8997\n",
            "Epoch 124/1000\n",
            "54/71 [=====================>........] - ETA: 0s - loss: 0.2603 - accuracy: 0.9049\n",
            "Epoch 124: saving model to models\\keypoint_classifier.hdf5\n",
            "71/71 [==============================] - 0s 4ms/step - loss: 0.2639 - accuracy: 0.9032 - val_loss: 0.2207 - val_accuracy: 0.9300\n",
            "Epoch 125/1000\n",
            "55/71 [======================>.......] - ETA: 0s - loss: 0.2952 - accuracy: 0.8918\n",
            "Epoch 125: saving model to models\\keypoint_classifier.hdf5\n",
            "71/71 [==============================] - 0s 4ms/step - loss: 0.2852 - accuracy: 0.8956 - val_loss: 0.2945 - val_accuracy: 0.9053\n",
            "Epoch 126/1000\n",
            "54/71 [=====================>........] - ETA: 0s - loss: 0.2714 - accuracy: 0.9044\n",
            "Epoch 126: saving model to models\\keypoint_classifier.hdf5\n",
            "71/71 [==============================] - 0s 4ms/step - loss: 0.2747 - accuracy: 0.9027 - val_loss: 0.4003 - val_accuracy: 0.8590\n",
            "Epoch 127/1000\n",
            "55/71 [======================>.......] - ETA: 0s - loss: 0.2628 - accuracy: 0.9057\n",
            "Epoch 127: saving model to models\\keypoint_classifier.hdf5\n",
            "71/71 [==============================] - 0s 4ms/step - loss: 0.2671 - accuracy: 0.9026 - val_loss: 0.2399 - val_accuracy: 0.9180\n",
            "Epoch 128/1000\n",
            "71/71 [==============================] - ETA: 0s - loss: 0.2732 - accuracy: 0.9027\n",
            "Epoch 128: saving model to models\\keypoint_classifier.hdf5\n",
            "71/71 [==============================] - 0s 4ms/step - loss: 0.2732 - accuracy: 0.9027 - val_loss: 0.5071 - val_accuracy: 0.8207\n",
            "Epoch 129/1000\n",
            "65/71 [==========================>...] - ETA: 0s - loss: 0.2793 - accuracy: 0.8965\n",
            "Epoch 129: saving model to models\\keypoint_classifier.hdf5\n",
            "71/71 [==============================] - 0s 5ms/step - loss: 0.2744 - accuracy: 0.8988 - val_loss: 0.2522 - val_accuracy: 0.9203\n",
            "Epoch 130/1000\n",
            "55/71 [======================>.......] - ETA: 0s - loss: 0.2595 - accuracy: 0.9041\n",
            "Epoch 130: saving model to models\\keypoint_classifier.hdf5\n",
            "71/71 [==============================] - 0s 4ms/step - loss: 0.2635 - accuracy: 0.9030 - val_loss: 0.3304 - val_accuracy: 0.8900\n",
            "Epoch 131/1000\n",
            "55/71 [======================>.......] - ETA: 0s - loss: 0.2723 - accuracy: 0.9038\n",
            "Epoch 131: saving model to models\\keypoint_classifier.hdf5\n",
            "71/71 [==============================] - 0s 4ms/step - loss: 0.2764 - accuracy: 0.9008 - val_loss: 0.2790 - val_accuracy: 0.9140\n",
            "Epoch 132/1000\n",
            "55/71 [======================>.......] - ETA: 0s - loss: 0.2738 - accuracy: 0.9000\n",
            "Epoch 132: saving model to models\\keypoint_classifier.hdf5\n",
            "71/71 [==============================] - 0s 4ms/step - loss: 0.2808 - accuracy: 0.8987 - val_loss: 0.2282 - val_accuracy: 0.9153\n",
            "Epoch 133/1000\n",
            "65/71 [==========================>...] - ETA: 0s - loss: 0.2579 - accuracy: 0.9075\n",
            "Epoch 133: saving model to models\\keypoint_classifier.hdf5\n",
            "71/71 [==============================] - 0s 5ms/step - loss: 0.2634 - accuracy: 0.9056 - val_loss: 0.1975 - val_accuracy: 0.9337\n",
            "Epoch 134/1000\n",
            "54/71 [=====================>........] - ETA: 0s - loss: 0.2696 - accuracy: 0.8999\n",
            "Epoch 134: saving model to models\\keypoint_classifier.hdf5\n",
            "71/71 [==============================] - 0s 4ms/step - loss: 0.2663 - accuracy: 0.9014 - val_loss: 0.2453 - val_accuracy: 0.9027\n",
            "Epoch 135/1000\n",
            "55/71 [======================>.......] - ETA: 0s - loss: 0.2726 - accuracy: 0.9021\n",
            "Epoch 135: saving model to models\\keypoint_classifier.hdf5\n",
            "71/71 [==============================] - 0s 4ms/step - loss: 0.2713 - accuracy: 0.9023 - val_loss: 0.1892 - val_accuracy: 0.9403\n",
            "Epoch 136/1000\n",
            "56/71 [======================>.......] - ETA: 0s - loss: 0.2757 - accuracy: 0.8973\n",
            "Epoch 136: saving model to models\\keypoint_classifier.hdf5\n",
            "71/71 [==============================] - 0s 4ms/step - loss: 0.2755 - accuracy: 0.8980 - val_loss: 0.2307 - val_accuracy: 0.9253\n",
            "Epoch 137/1000\n",
            "57/71 [=======================>......] - ETA: 0s - loss: 0.2701 - accuracy: 0.9025\n",
            "Epoch 137: saving model to models\\keypoint_classifier.hdf5\n",
            "71/71 [==============================] - 0s 4ms/step - loss: 0.2708 - accuracy: 0.9016 - val_loss: 0.2277 - val_accuracy: 0.9287\n",
            "Epoch 138/1000\n",
            "55/71 [======================>.......] - ETA: 0s - loss: 0.2764 - accuracy: 0.8983\n",
            "Epoch 138: saving model to models\\keypoint_classifier.hdf5\n",
            "71/71 [==============================] - 0s 4ms/step - loss: 0.2781 - accuracy: 0.8970 - val_loss: 0.1947 - val_accuracy: 0.9370\n",
            "Epoch 138: early stopping\n"
          ]
        },
        {
          "data": {
            "text/plain": [
              "<keras.src.callbacks.History at 0x14021aefb90>"
            ]
          },
          "execution_count": 15,
          "metadata": {},
          "output_type": "execute_result"
        }
      ],
      "source": [
        "model.fit(\n",
        "    X_train,\n",
        "    y_train,\n",
        "    epochs=1000,\n",
        "    batch_size=128,\n",
        "    validation_data=(X_test, y_test),\n",
        "    callbacks=[cp_callback, es_callback]\n",
        ")"
      ]
    },
    {
      "cell_type": "code",
      "execution_count": 16,
      "metadata": {
        "colab": {
          "base_uri": "https://localhost:8080/"
        },
        "id": "pxvb2Y299hE3",
        "outputId": "59eb3185-2e37-4b9e-bc9d-ab1b8ac29b7f"
      },
      "outputs": [
        {
          "name": "stdout",
          "output_type": "stream",
          "text": [
            "24/24 [==============================] - 0s 2ms/step - loss: 0.1947 - accuracy: 0.9370\n"
          ]
        }
      ],
      "source": [
        "# Model evaluation\n",
        "val_loss, val_acc = model.evaluate(X_test, y_test, batch_size=128)"
      ]
    },
    {
      "cell_type": "code",
      "execution_count": 17,
      "metadata": {
        "id": "RBkmDeUW9hE4"
      },
      "outputs": [],
      "source": [
        "# Loading the saved model\n",
        "model = tf.keras.models.load_model(model_save_path)"
      ]
    },
    {
      "cell_type": "code",
      "execution_count": 18,
      "metadata": {
        "colab": {
          "base_uri": "https://localhost:8080/"
        },
        "id": "tFz9Tb0I9hE4",
        "outputId": "1c3b3528-54ae-4ee2-ab04-77429211cbef"
      },
      "outputs": [
        {
          "name": "stdout",
          "output_type": "stream",
          "text": [
            "1/1 [==============================] - 0s 236ms/step\n",
            "[1.1085393e-14 1.0000000e+00 2.4829828e-18 6.2351522e-25 1.6857799e-15\n",
            " 2.2048191e-08 3.8851145e-20 6.2395555e-09 4.2636382e-15 1.2483049e-11\n",
            " 4.7252317e-13 1.1648966e-18]\n",
            "1\n"
          ]
        }
      ],
      "source": [
        "# Inference test\n",
        "predict_result = model.predict(np.array([X_test[0]]))\n",
        "print(np.squeeze(predict_result))\n",
        "print(np.argmax(np.squeeze(predict_result)))"
      ]
    },
    {
      "cell_type": "markdown",
      "metadata": {},
      "source": [
        "# Integrate with secondary model"
      ]
    },
    {
      "cell_type": "code",
      "execution_count": 19,
      "metadata": {},
      "outputs": [],
      "source": [
        "# Determine the index of 'stop' and 'palm'\n",
        "label_stop = LABELS.index('stop')\n",
        "label_palm = LABELS.index('palm')\n",
        "\n",
        "# Filter out samples for 'stop' and 'palm'\n",
        "secondary_X = X_dataset_preprocessed[np.logical_or(y_dataset == label_stop, y_dataset == label_palm)]\n",
        "secondary_y = y_dataset[np.logical_or(y_dataset == label_stop, y_dataset == label_palm)]\n",
        "\n",
        "# Create binary labels (0 and 1) for 'stop' and 'palm'\n",
        "secondary_y = np.where(secondary_y == label_stop, 0, 1)  # Set 'stop' to 0, 'palm' to 1\n",
        "\n",
        "# Split secondary data sets\n",
        "X_train_secondary, X_test_secondary, y_train_secondary, y_test_secondary = train_test_split(\n",
        "    secondary_X, secondary_y, train_size=0.75, random_state=RANDOM_SEED\n",
        ")"
      ]
    },
    {
      "cell_type": "code",
      "execution_count": 20,
      "metadata": {},
      "outputs": [
        {
          "name": "stdout",
          "output_type": "stream",
          "text": [
            "Epoch 1/100\n"
          ]
        },
        {
          "name": "stdout",
          "output_type": "stream",
          "text": [
            "47/47 [==============================] - 1s 6ms/step - loss: 0.6929 - accuracy: 0.5440 - val_loss: 0.6872 - val_accuracy: 0.5700\n",
            "Epoch 2/100\n",
            "47/47 [==============================] - 0s 2ms/step - loss: 0.6837 - accuracy: 0.5713 - val_loss: 0.6772 - val_accuracy: 0.6520\n",
            "Epoch 3/100\n",
            "47/47 [==============================] - 0s 2ms/step - loss: 0.6753 - accuracy: 0.5753 - val_loss: 0.6764 - val_accuracy: 0.5280\n",
            "Epoch 4/100\n",
            "47/47 [==============================] - 0s 2ms/step - loss: 0.6594 - accuracy: 0.6340 - val_loss: 0.6715 - val_accuracy: 0.5440\n",
            "Epoch 5/100\n",
            "47/47 [==============================] - 0s 2ms/step - loss: 0.6480 - accuracy: 0.6347 - val_loss: 0.6293 - val_accuracy: 0.6900\n",
            "Epoch 6/100\n",
            "47/47 [==============================] - 0s 3ms/step - loss: 0.6272 - accuracy: 0.6827 - val_loss: 0.6140 - val_accuracy: 0.6800\n",
            "Epoch 7/100\n",
            "47/47 [==============================] - 0s 2ms/step - loss: 0.6105 - accuracy: 0.6820 - val_loss: 0.5949 - val_accuracy: 0.6920\n",
            "Epoch 8/100\n",
            "47/47 [==============================] - 0s 2ms/step - loss: 0.5980 - accuracy: 0.6940 - val_loss: 0.5758 - val_accuracy: 0.7220\n",
            "Epoch 9/100\n",
            "47/47 [==============================] - 0s 2ms/step - loss: 0.5826 - accuracy: 0.7007 - val_loss: 0.6031 - val_accuracy: 0.6800\n",
            "Epoch 10/100\n",
            "47/47 [==============================] - 0s 2ms/step - loss: 0.5835 - accuracy: 0.7053 - val_loss: 0.5590 - val_accuracy: 0.7360\n",
            "Epoch 11/100\n",
            "47/47 [==============================] - 0s 2ms/step - loss: 0.5656 - accuracy: 0.7213 - val_loss: 0.5469 - val_accuracy: 0.7440\n",
            "Epoch 12/100\n",
            "47/47 [==============================] - 0s 3ms/step - loss: 0.5570 - accuracy: 0.7293 - val_loss: 0.5546 - val_accuracy: 0.7140\n",
            "Epoch 13/100\n",
            "47/47 [==============================] - 0s 2ms/step - loss: 0.5574 - accuracy: 0.7300 - val_loss: 0.5536 - val_accuracy: 0.6900\n",
            "Epoch 14/100\n",
            "47/47 [==============================] - 0s 2ms/step - loss: 0.5462 - accuracy: 0.7347 - val_loss: 0.5300 - val_accuracy: 0.7440\n",
            "Epoch 15/100\n",
            "47/47 [==============================] - 0s 2ms/step - loss: 0.5325 - accuracy: 0.7587 - val_loss: 0.5360 - val_accuracy: 0.7120\n",
            "Epoch 16/100\n",
            "47/47 [==============================] - 0s 2ms/step - loss: 0.5312 - accuracy: 0.7447 - val_loss: 0.5085 - val_accuracy: 0.7560\n",
            "Epoch 17/100\n",
            "47/47 [==============================] - 0s 2ms/step - loss: 0.5148 - accuracy: 0.7680 - val_loss: 0.4890 - val_accuracy: 0.7900\n",
            "Epoch 18/100\n",
            "47/47 [==============================] - 0s 2ms/step - loss: 0.5109 - accuracy: 0.7527 - val_loss: 0.4811 - val_accuracy: 0.8000\n",
            "Epoch 19/100\n",
            "47/47 [==============================] - 0s 2ms/step - loss: 0.4994 - accuracy: 0.7753 - val_loss: 0.4718 - val_accuracy: 0.7980\n",
            "Epoch 20/100\n",
            "47/47 [==============================] - 0s 2ms/step - loss: 0.5424 - accuracy: 0.7287 - val_loss: 0.4960 - val_accuracy: 0.7740\n",
            "Epoch 21/100\n",
            "47/47 [==============================] - 0s 2ms/step - loss: 0.4977 - accuracy: 0.7793 - val_loss: 0.4736 - val_accuracy: 0.7760\n",
            "Epoch 22/100\n",
            "47/47 [==============================] - 0s 2ms/step - loss: 0.4880 - accuracy: 0.7833 - val_loss: 0.4703 - val_accuracy: 0.7760\n",
            "Epoch 23/100\n",
            "47/47 [==============================] - 0s 2ms/step - loss: 0.4752 - accuracy: 0.7933 - val_loss: 0.4430 - val_accuracy: 0.8200\n",
            "Epoch 24/100\n",
            "47/47 [==============================] - 0s 2ms/step - loss: 0.4680 - accuracy: 0.7980 - val_loss: 0.4482 - val_accuracy: 0.7960\n",
            "Epoch 25/100\n",
            "47/47 [==============================] - 0s 2ms/step - loss: 0.4569 - accuracy: 0.8053 - val_loss: 0.4321 - val_accuracy: 0.8260\n",
            "Epoch 26/100\n",
            "47/47 [==============================] - 0s 2ms/step - loss: 0.4429 - accuracy: 0.8173 - val_loss: 0.4369 - val_accuracy: 0.8020\n",
            "Epoch 27/100\n",
            "47/47 [==============================] - 0s 2ms/step - loss: 0.4495 - accuracy: 0.8087 - val_loss: 0.4122 - val_accuracy: 0.8300\n",
            "Epoch 28/100\n",
            "47/47 [==============================] - 0s 2ms/step - loss: 0.4512 - accuracy: 0.7953 - val_loss: 0.4574 - val_accuracy: 0.7680\n",
            "Epoch 29/100\n",
            "47/47 [==============================] - 0s 2ms/step - loss: 0.4127 - accuracy: 0.8300 - val_loss: 0.4053 - val_accuracy: 0.8160\n",
            "Epoch 30/100\n",
            "47/47 [==============================] - 0s 2ms/step - loss: 0.4198 - accuracy: 0.8233 - val_loss: 0.3823 - val_accuracy: 0.8640\n",
            "Epoch 31/100\n",
            "47/47 [==============================] - 0s 2ms/step - loss: 0.3963 - accuracy: 0.8360 - val_loss: 0.4183 - val_accuracy: 0.7940\n",
            "Epoch 32/100\n",
            "47/47 [==============================] - 0s 2ms/step - loss: 0.3865 - accuracy: 0.8407 - val_loss: 0.3657 - val_accuracy: 0.8620\n",
            "Epoch 33/100\n",
            "47/47 [==============================] - 0s 2ms/step - loss: 0.3795 - accuracy: 0.8460 - val_loss: 0.4226 - val_accuracy: 0.7880\n",
            "Epoch 34/100\n",
            "47/47 [==============================] - 0s 2ms/step - loss: 0.3717 - accuracy: 0.8653 - val_loss: 0.3333 - val_accuracy: 0.8880\n",
            "Epoch 35/100\n",
            "47/47 [==============================] - 0s 2ms/step - loss: 0.3490 - accuracy: 0.8680 - val_loss: 0.3680 - val_accuracy: 0.8360\n",
            "Epoch 36/100\n",
            "47/47 [==============================] - 0s 2ms/step - loss: 0.3440 - accuracy: 0.8720 - val_loss: 0.3256 - val_accuracy: 0.8800\n",
            "Epoch 37/100\n",
            "47/47 [==============================] - 0s 2ms/step - loss: 0.3720 - accuracy: 0.8387 - val_loss: 0.3158 - val_accuracy: 0.8820\n",
            "Epoch 38/100\n",
            "47/47 [==============================] - 0s 2ms/step - loss: 0.3216 - accuracy: 0.8847 - val_loss: 0.3181 - val_accuracy: 0.8640\n",
            "Epoch 39/100\n",
            "47/47 [==============================] - 0s 2ms/step - loss: 0.3147 - accuracy: 0.8813 - val_loss: 0.3063 - val_accuracy: 0.8880\n",
            "Epoch 40/100\n",
            "47/47 [==============================] - 0s 2ms/step - loss: 0.3029 - accuracy: 0.8893 - val_loss: 0.3996 - val_accuracy: 0.8000\n",
            "Epoch 41/100\n",
            "47/47 [==============================] - 0s 2ms/step - loss: 0.3109 - accuracy: 0.8687 - val_loss: 0.2674 - val_accuracy: 0.9080\n",
            "Epoch 42/100\n",
            "47/47 [==============================] - 0s 2ms/step - loss: 0.3054 - accuracy: 0.8720 - val_loss: 0.3077 - val_accuracy: 0.8700\n",
            "Epoch 43/100\n",
            "47/47 [==============================] - 0s 2ms/step - loss: 0.2718 - accuracy: 0.9087 - val_loss: 0.2478 - val_accuracy: 0.9200\n",
            "Epoch 44/100\n",
            "47/47 [==============================] - 0s 2ms/step - loss: 0.3012 - accuracy: 0.8780 - val_loss: 0.2363 - val_accuracy: 0.9380\n",
            "Epoch 45/100\n",
            "47/47 [==============================] - 0s 2ms/step - loss: 0.2727 - accuracy: 0.8967 - val_loss: 0.2328 - val_accuracy: 0.9480\n",
            "Epoch 46/100\n",
            "47/47 [==============================] - 0s 2ms/step - loss: 0.2420 - accuracy: 0.9167 - val_loss: 0.2400 - val_accuracy: 0.9140\n",
            "Epoch 47/100\n",
            "47/47 [==============================] - 0s 2ms/step - loss: 0.2426 - accuracy: 0.9167 - val_loss: 0.2270 - val_accuracy: 0.9260\n",
            "Epoch 48/100\n",
            "47/47 [==============================] - 0s 2ms/step - loss: 0.2457 - accuracy: 0.9087 - val_loss: 0.2123 - val_accuracy: 0.9440\n",
            "Epoch 49/100\n",
            "47/47 [==============================] - 0s 2ms/step - loss: 0.2235 - accuracy: 0.9293 - val_loss: 0.2113 - val_accuracy: 0.9300\n",
            "Epoch 50/100\n",
            "47/47 [==============================] - 0s 2ms/step - loss: 0.2163 - accuracy: 0.9360 - val_loss: 0.1932 - val_accuracy: 0.9500\n",
            "Epoch 51/100\n",
            "47/47 [==============================] - 0s 2ms/step - loss: 0.2173 - accuracy: 0.9313 - val_loss: 0.1943 - val_accuracy: 0.9560\n",
            "Epoch 52/100\n",
            "47/47 [==============================] - 0s 2ms/step - loss: 0.2230 - accuracy: 0.9080 - val_loss: 0.1835 - val_accuracy: 0.9580\n",
            "Epoch 53/100\n",
            "47/47 [==============================] - 0s 2ms/step - loss: 0.1973 - accuracy: 0.9340 - val_loss: 0.1827 - val_accuracy: 0.9540\n",
            "Epoch 54/100\n",
            "47/47 [==============================] - 0s 2ms/step - loss: 0.1876 - accuracy: 0.9480 - val_loss: 0.2357 - val_accuracy: 0.8940\n",
            "Epoch 55/100\n",
            "47/47 [==============================] - 0s 2ms/step - loss: 0.1873 - accuracy: 0.9387 - val_loss: 0.1953 - val_accuracy: 0.9340\n",
            "Epoch 56/100\n",
            "47/47 [==============================] - 0s 2ms/step - loss: 0.1874 - accuracy: 0.9413 - val_loss: 0.1838 - val_accuracy: 0.9420\n",
            "Epoch 57/100\n",
            "47/47 [==============================] - 0s 3ms/step - loss: 0.1718 - accuracy: 0.9440 - val_loss: 0.1628 - val_accuracy: 0.9500\n",
            "Epoch 58/100\n",
            "47/47 [==============================] - 0s 3ms/step - loss: 0.1774 - accuracy: 0.9340 - val_loss: 0.1502 - val_accuracy: 0.9680\n",
            "Epoch 59/100\n",
            "47/47 [==============================] - 0s 2ms/step - loss: 0.1675 - accuracy: 0.9480 - val_loss: 0.1765 - val_accuracy: 0.9400\n",
            "Epoch 60/100\n",
            "47/47 [==============================] - 0s 2ms/step - loss: 0.1627 - accuracy: 0.9520 - val_loss: 0.2160 - val_accuracy: 0.9060\n",
            "Epoch 61/100\n",
            "47/47 [==============================] - 0s 2ms/step - loss: 0.1723 - accuracy: 0.9453 - val_loss: 0.2032 - val_accuracy: 0.9220\n",
            "Epoch 62/100\n",
            "47/47 [==============================] - 0s 2ms/step - loss: 0.1600 - accuracy: 0.9513 - val_loss: 0.2254 - val_accuracy: 0.9040\n",
            "Epoch 63/100\n",
            "47/47 [==============================] - 0s 3ms/step - loss: 0.1992 - accuracy: 0.9153 - val_loss: 0.2469 - val_accuracy: 0.8980\n",
            "Epoch 64/100\n",
            "47/47 [==============================] - 0s 3ms/step - loss: 0.1587 - accuracy: 0.9493 - val_loss: 0.1632 - val_accuracy: 0.9560\n",
            "Epoch 65/100\n",
            "47/47 [==============================] - 0s 2ms/step - loss: 0.1448 - accuracy: 0.9593 - val_loss: 0.1233 - val_accuracy: 0.9680\n",
            "Epoch 66/100\n",
            "47/47 [==============================] - 0s 2ms/step - loss: 0.1378 - accuracy: 0.9627 - val_loss: 0.1643 - val_accuracy: 0.9500\n",
            "Epoch 67/100\n",
            "47/47 [==============================] - 0s 2ms/step - loss: 0.1537 - accuracy: 0.9440 - val_loss: 0.1618 - val_accuracy: 0.9540\n",
            "Epoch 68/100\n",
            "47/47 [==============================] - 0s 2ms/step - loss: 0.1441 - accuracy: 0.9547 - val_loss: 0.1152 - val_accuracy: 0.9700\n",
            "Epoch 69/100\n",
            "47/47 [==============================] - 0s 2ms/step - loss: 0.1405 - accuracy: 0.9527 - val_loss: 0.2115 - val_accuracy: 0.9180\n",
            "Epoch 70/100\n",
            "47/47 [==============================] - 0s 2ms/step - loss: 0.1367 - accuracy: 0.9560 - val_loss: 0.1096 - val_accuracy: 0.9680\n",
            "Epoch 71/100\n",
            "47/47 [==============================] - 0s 2ms/step - loss: 0.1257 - accuracy: 0.9667 - val_loss: 0.1127 - val_accuracy: 0.9680\n",
            "Epoch 72/100\n",
            "47/47 [==============================] - 0s 2ms/step - loss: 0.1254 - accuracy: 0.9627 - val_loss: 0.1784 - val_accuracy: 0.9380\n",
            "Epoch 73/100\n",
            "47/47 [==============================] - 0s 2ms/step - loss: 0.1417 - accuracy: 0.9580 - val_loss: 0.1566 - val_accuracy: 0.9480\n",
            "Epoch 74/100\n",
            "47/47 [==============================] - 0s 2ms/step - loss: 0.1335 - accuracy: 0.9607 - val_loss: 0.1550 - val_accuracy: 0.9480\n",
            "Epoch 75/100\n",
            "47/47 [==============================] - 0s 2ms/step - loss: 0.1876 - accuracy: 0.9213 - val_loss: 0.2109 - val_accuracy: 0.9180\n",
            "Epoch 76/100\n",
            "47/47 [==============================] - 0s 2ms/step - loss: 0.1484 - accuracy: 0.9433 - val_loss: 0.1174 - val_accuracy: 0.9560\n",
            "Epoch 77/100\n",
            "47/47 [==============================] - 0s 2ms/step - loss: 0.1276 - accuracy: 0.9540 - val_loss: 0.1939 - val_accuracy: 0.9240\n",
            "Epoch 78/100\n",
            "47/47 [==============================] - 0s 2ms/step - loss: 0.1169 - accuracy: 0.9680 - val_loss: 0.1135 - val_accuracy: 0.9620\n",
            "Epoch 79/100\n",
            "47/47 [==============================] - 0s 2ms/step - loss: 0.1072 - accuracy: 0.9713 - val_loss: 0.1527 - val_accuracy: 0.9460\n",
            "Epoch 80/100\n",
            "47/47 [==============================] - 0s 2ms/step - loss: 0.1522 - accuracy: 0.9447 - val_loss: 0.1583 - val_accuracy: 0.9440\n",
            "Epoch 81/100\n",
            "47/47 [==============================] - 0s 2ms/step - loss: 0.1498 - accuracy: 0.9480 - val_loss: 0.1957 - val_accuracy: 0.9260\n",
            "Epoch 82/100\n",
            "47/47 [==============================] - 0s 2ms/step - loss: 0.1221 - accuracy: 0.9627 - val_loss: 0.1152 - val_accuracy: 0.9660\n",
            "Epoch 83/100\n",
            "47/47 [==============================] - 0s 2ms/step - loss: 0.1064 - accuracy: 0.9707 - val_loss: 0.1038 - val_accuracy: 0.9660\n",
            "Epoch 84/100\n",
            "47/47 [==============================] - 0s 2ms/step - loss: 0.1117 - accuracy: 0.9673 - val_loss: 0.1371 - val_accuracy: 0.9500\n",
            "Epoch 85/100\n",
            "47/47 [==============================] - 0s 2ms/step - loss: 0.1102 - accuracy: 0.9647 - val_loss: 0.1458 - val_accuracy: 0.9420\n",
            "Epoch 86/100\n",
            "47/47 [==============================] - 0s 2ms/step - loss: 0.1062 - accuracy: 0.9680 - val_loss: 0.0966 - val_accuracy: 0.9740\n",
            "Epoch 87/100\n",
            "47/47 [==============================] - 0s 3ms/step - loss: 0.0990 - accuracy: 0.9733 - val_loss: 0.1011 - val_accuracy: 0.9660\n",
            "Epoch 88/100\n",
            "47/47 [==============================] - 0s 2ms/step - loss: 0.1114 - accuracy: 0.9667 - val_loss: 0.1046 - val_accuracy: 0.9700\n",
            "Epoch 89/100\n",
            "47/47 [==============================] - 0s 2ms/step - loss: 0.1271 - accuracy: 0.9560 - val_loss: 0.1214 - val_accuracy: 0.9600\n",
            "Epoch 90/100\n",
            "47/47 [==============================] - 0s 2ms/step - loss: 0.1109 - accuracy: 0.9607 - val_loss: 0.0879 - val_accuracy: 0.9640\n",
            "Epoch 91/100\n",
            "47/47 [==============================] - 0s 2ms/step - loss: 0.1013 - accuracy: 0.9713 - val_loss: 0.1140 - val_accuracy: 0.9620\n",
            "Epoch 92/100\n",
            "47/47 [==============================] - 0s 2ms/step - loss: 0.0931 - accuracy: 0.9713 - val_loss: 0.1226 - val_accuracy: 0.9560\n",
            "Epoch 93/100\n",
            "47/47 [==============================] - 0s 2ms/step - loss: 0.1494 - accuracy: 0.9440 - val_loss: 0.1690 - val_accuracy: 0.9400\n",
            "Epoch 94/100\n",
            "47/47 [==============================] - 0s 2ms/step - loss: 0.1376 - accuracy: 0.9473 - val_loss: 0.0878 - val_accuracy: 0.9720\n",
            "Epoch 95/100\n",
            "47/47 [==============================] - 0s 2ms/step - loss: 0.1253 - accuracy: 0.9513 - val_loss: 0.0778 - val_accuracy: 0.9800\n",
            "Epoch 96/100\n",
            "47/47 [==============================] - 0s 2ms/step - loss: 0.1072 - accuracy: 0.9647 - val_loss: 0.0884 - val_accuracy: 0.9660\n",
            "Epoch 97/100\n",
            "47/47 [==============================] - 0s 2ms/step - loss: 0.1189 - accuracy: 0.9553 - val_loss: 0.1440 - val_accuracy: 0.9360\n",
            "Epoch 98/100\n",
            "47/47 [==============================] - 0s 2ms/step - loss: 0.1238 - accuracy: 0.9573 - val_loss: 0.0744 - val_accuracy: 0.9780\n",
            "Epoch 99/100\n",
            "47/47 [==============================] - 0s 2ms/step - loss: 0.1110 - accuracy: 0.9627 - val_loss: 0.0845 - val_accuracy: 0.9780\n",
            "Epoch 100/100\n",
            "47/47 [==============================] - 0s 2ms/step - loss: 0.0936 - accuracy: 0.9713 - val_loss: 0.1006 - val_accuracy: 0.9680\n"
          ]
        },
        {
          "data": {
            "text/plain": [
              "<keras.src.callbacks.History at 0x14026116b90>"
            ]
          },
          "execution_count": 20,
          "metadata": {},
          "output_type": "execute_result"
        }
      ],
      "source": [
        "# Build a secondary classifier\n",
        "secondary_model = tf.keras.models.Sequential([\n",
        "    tf.keras.layers.Dense(64, activation='relu', input_shape=(X_train_secondary.shape[1],)),\n",
        "    tf.keras.layers.Dense(32, activation='relu'),\n",
        "    tf.keras.layers.Dense(2, activation='softmax')  # Binary classification\n",
        "])\n",
        "\n",
        "# Compile secondary model\n",
        "secondary_model.compile(optimizer='adam', loss='sparse_categorical_crossentropy', metrics=['accuracy'])\n",
        "\n",
        "# Train a secondary model\n",
        "secondary_model.fit(X_train_secondary, y_train_secondary, epochs=100, batch_size=32, validation_data=(X_test_secondary, y_test_secondary))\n"
      ]
    },
    {
      "cell_type": "code",
      "execution_count": 21,
      "metadata": {},
      "outputs": [],
      "source": [
        "def integrated_prediction(primary_model, secondary_model, input_data, threshold=0.5):\n",
        "    primary_pred = primary_model.predict(input_data)\n",
        "    primary_label = np.argmax(primary_pred, axis=1)\n",
        "    \n",
        "    # For samples predicted as 'stop' or 'palm' by the primary model, use the secondary model for judgment.\n",
        "    secondary_indices = np.logical_or(primary_label == label_stop, primary_label == label_palm)\n",
        "    secondary_pred = secondary_model.predict(input_data[secondary_indices])\n",
        "    secondary_label = np.argmax(secondary_pred, axis=1)\n",
        "\n",
        "    # Update predictions from the main model\n",
        "    primary_label[secondary_indices] = np.where(secondary_label == 0, label_stop, label_palm)\n",
        "    \n",
        "    return primary_label"
      ]
    },
    {
      "cell_type": "markdown",
      "metadata": {
        "id": "S3U4yNWx9hE4"
      },
      "source": [
        "# Confusion matrix"
      ]
    },
    {
      "cell_type": "code",
      "execution_count": 22,
      "metadata": {
        "colab": {
          "base_uri": "https://localhost:8080/",
          "height": 582
        },
        "id": "AP1V6SCk9hE5",
        "outputId": "08e41a80-7a4a-4619-8125-ecc371368d19"
      },
      "outputs": [
        {
          "name": "stdout",
          "output_type": "stream",
          "text": [
            "94/94 [==============================] - 0s 1ms/step\n",
            "16/16 [==============================] - 0s 934us/step\n"
          ]
        },
        {
          "data": {
            "image/png": "[encoded data removed]",
            "text/plain": [
              "<Figure size 700x600 with 2 Axes>"
            ]
          },
          "metadata": {},
          "output_type": "display_data"
        },
        {
          "name": "stdout",
          "output_type": "stream",
          "text": [
            "Classification Report\n",
            "              precision    recall  f1-score   support\n",
            "\n",
            "           0       0.86      0.92      0.89       250\n",
            "           1       0.97      0.98      0.98       248\n",
            "           2       0.98      0.98      0.98       254\n",
            "           3       0.92      0.86      0.89       259\n",
            "           4       0.92      0.95      0.93       255\n",
            "           5       1.00      0.98      0.99       261\n",
            "           6       0.92      0.92      0.92       239\n",
            "           7       0.98      0.91      0.94       235\n",
            "           8       0.97      0.98      0.98       254\n",
            "           9       1.00      0.95      0.97       236\n",
            "          10       0.90      0.98      0.94       264\n",
            "          11       0.99      0.96      0.98       245\n",
            "\n",
            "    accuracy                           0.95      3000\n",
            "   macro avg       0.95      0.95      0.95      3000\n",
            "weighted avg       0.95      0.95      0.95      3000\n",
            "\n"
          ]
        }
      ],
      "source": [
        "import pandas as pd\n",
        "import seaborn as sns\n",
        "import matplotlib.pyplot as plt\n",
        "from sklearn.metrics import confusion_matrix, classification_report\n",
        "\n",
        "def print_confusion_matrix(y_true, y_pred, report=True):\n",
        "    labels = sorted(list(set(y_true)))\n",
        "    cmx_data = confusion_matrix(y_true, y_pred, labels=labels)\n",
        "    \n",
        "    df_cmx = pd.DataFrame(cmx_data, index=labels, columns=labels)\n",
        " \n",
        "    fig, ax = plt.subplots(figsize=(7, 6))\n",
        "    sns.heatmap(df_cmx, annot=True, fmt='g' ,square=False)\n",
        "    ax.set_ylim(len(set(y_true)), 0)\n",
        "    plt.show()\n",
        "    \n",
        "    if report:\n",
        "        print('Classification Report')\n",
        "        print(classification_report(y_test, y_pred))\n",
        "\n",
        "# Y_pred = model.predict(X_test)\n",
        "# y_pred = np.argmax(Y_pred, axis=1)\n",
        "\n",
        "y_pred = integrated_prediction(model, secondary_model, X_test)  # Integrated prediction\n",
        "\n",
        "print_confusion_matrix(y_test, y_pred)"
      ]
    },
    {
      "cell_type": "markdown",
      "metadata": {
        "id": "FNP6aqzc9hE5"
      },
      "source": [
        "# Convert to model for Tensorflow-Lite"
      ]
    },
    {
      "cell_type": "code",
      "execution_count": 23,
      "metadata": {
        "id": "ODjnYyld9hE6"
      },
      "outputs": [
        {
          "name": "stderr",
          "output_type": "stream",
          "text": [
            "c:\\Users\\Ian\\git\\553.806_Capstone_HandGesture\\.venv\\Lib\\site-packages\\keras\\src\\engine\\training.py:3103: UserWarning: You are saving your model as an HDF5 file via `model.save()`. This file format is considered legacy. We recommend using instead the native Keras format, e.g. `model.save('my_model.keras')`.\n",
            "  saving_api.save_model(\n"
          ]
        }
      ],
      "source": [
        "# Save as a model dedicated to inference\n",
        "model.save(model_save_path, include_optimizer=False)"
      ]
    },
    {
      "cell_type": "code",
      "execution_count": 24,
      "metadata": {
        "colab": {
          "base_uri": "https://localhost:8080/"
        },
        "id": "zRfuK8Y59hE6",
        "outputId": "a4ca585c-b5d5-4244-8291-8674063209bb"
      },
      "outputs": [
        {
          "name": "stdout",
          "output_type": "stream",
          "text": [
            "INFO:tensorflow:Assets written to: C:\\Users\\Ian\\AppData\\Local\\Temp\\tmp1068wc5f\\assets\n"
          ]
        },
        {
          "name": "stderr",
          "output_type": "stream",
          "text": [
            "INFO:tensorflow:Assets written to: C:\\Users\\Ian\\AppData\\Local\\Temp\\tmp1068wc5f\\assets\n"
          ]
        },
        {
          "data": {
            "text/plain": [
              "40248"
            ]
          },
          "execution_count": 24,
          "metadata": {},
          "output_type": "execute_result"
        }
      ],
      "source": [
        "# Transform model (quantization)\n",
        "\n",
        "converter = tf.lite.TFLiteConverter.from_keras_model(model)\n",
        "converter.optimizations = [tf.lite.Optimize.DEFAULT]\n",
        "tflite_quantized_model = converter.convert()\n",
        "\n",
        "open(tflite_save_path, 'wb').write(tflite_quantized_model)"
      ]
    },
    {
      "cell_type": "code",
      "execution_count": 25,
      "metadata": {},
      "outputs": [],
      "source": [
        "# Save secondary model\n",
        "\n",
        "# secondary_model.save(model_save_path, include_optimizer=False)"
      ]
    },
    {
      "cell_type": "code",
      "execution_count": 26,
      "metadata": {},
      "outputs": [
        {
          "name": "stdout",
          "output_type": "stream",
          "text": [
            "INFO:tensorflow:Assets written to: C:\\Users\\Ian\\AppData\\Local\\Temp\\tmpscg6v5zg\\assets\n"
          ]
        },
        {
          "name": "stderr",
          "output_type": "stream",
          "text": [
            "INFO:tensorflow:Assets written to: C:\\Users\\Ian\\AppData\\Local\\Temp\\tmpscg6v5zg\\assets\n"
          ]
        },
        {
          "data": {
            "text/plain": [
              "8984"
            ]
          },
          "execution_count": 26,
          "metadata": {},
          "output_type": "execute_result"
        }
      ],
      "source": [
        "# Transform model (quantization)\n",
        "\n",
        "converter = tf.lite.TFLiteConverter.from_keras_model(secondary_model)\n",
        "converter.optimizations = [tf.lite.Optimize.DEFAULT]\n",
        "tflite_quantized_model = converter.convert()\n",
        "\n",
        "open(tflite_save_path2, 'wb').write(tflite_quantized_model)"
      ]
    },
    {
      "cell_type": "markdown",
      "metadata": {
        "id": "CHBPBXdx9hE6"
      },
      "source": [
        "# Inference test"
      ]
    },
    {
      "cell_type": "code",
      "execution_count": 27,
      "metadata": {
        "id": "mGAzLocO9hE7"
      },
      "outputs": [],
      "source": [
        "interpreter = tf.lite.Interpreter(model_path=tflite_save_path)\n",
        "interpreter.allocate_tensors()"
      ]
    },
    {
      "cell_type": "code",
      "execution_count": 28,
      "metadata": {
        "id": "oQuDK8YS9hE7"
      },
      "outputs": [],
      "source": [
        "# Get I / O tensor\n",
        "input_details = interpreter.get_input_details()\n",
        "output_details = interpreter.get_output_details()"
      ]
    },
    {
      "cell_type": "code",
      "execution_count": 29,
      "metadata": {},
      "outputs": [
        {
          "data": {
            "text/plain": [
              "()"
            ]
          },
          "execution_count": 29,
          "metadata": {},
          "output_type": "execute_result"
        }
      ],
      "source": [
        "X_test[0][0].shape"
      ]
    },
    {
      "cell_type": "code",
      "execution_count": 30,
      "metadata": {
        "id": "2_ixAf_l9hE7"
      },
      "outputs": [],
      "source": [
        "interpreter.set_tensor(input_details[0]['index'], np.array([X_test[0]]))"
      ]
    },
    {
      "cell_type": "code",
      "execution_count": 31,
      "metadata": {
        "colab": {
          "base_uri": "https://localhost:8080/"
        },
        "id": "s4FoAnuc9hE7",
        "outputId": "91f18257-8d8b-4ef3-c558-e9b5f94fabbf",
        "scrolled": true
      },
      "outputs": [
        {
          "name": "stdout",
          "output_type": "stream",
          "text": [
            "CPU times: total: 0 ns\n",
            "Wall time: 0 ns\n"
          ]
        }
      ],
      "source": [
        "%%time\n",
        "# Inference implementation\n",
        "interpreter.invoke()\n",
        "tflite_results = interpreter.get_tensor(output_details[0]['index'])"
      ]
    },
    {
      "cell_type": "code",
      "execution_count": 32,
      "metadata": {
        "colab": {
          "base_uri": "https://localhost:8080/"
        },
        "id": "vONjp19J9hE8",
        "outputId": "77205e24-fd00-42c4-f7b6-e06e527c2cba"
      },
      "outputs": [
        {
          "name": "stdout",
          "output_type": "stream",
          "text": [
            "[1.3103730e-14 1.0000000e+00 5.9158520e-19 1.0268541e-24 8.2806551e-15\n",
            " 7.4813711e-09 2.4880724e-19 3.0076581e-08 2.6693600e-14 2.9259244e-11\n",
            " 1.4153912e-12 1.3714222e-17]\n",
            "1\n"
          ]
        }
      ],
      "source": [
        "print(np.squeeze(tflite_results))\n",
        "print(np.argmax(np.squeeze(tflite_results)))"
      ]
    }
  ],
  "metadata": {
    "accelerator": "GPU",
    "colab": {
      "collapsed_sections": [],
      "name": "keypoint_classification_EN.ipynb",
      "provenance": [],
      "toc_visible": true
    },
    "kernelspec": {
      "display_name": "Python 3",
      "language": "python",
      "name": "python3"
    },
    "language_info": {
      "codemirror_mode": {
        "name": "ipython",
        "version": 3
      },
      "file_extension": ".py",
      "mimetype": "text/x-python",
      "name": "python",
      "nbconvert_exporter": "python",
      "pygments_lexer": "ipython3",
      "version": "3.11.8"
    }
  },
  "nbformat": 4,
  "nbformat_minor": 0
}
