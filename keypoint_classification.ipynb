{
  "cells": [
    {
      "cell_type": "code",
      "execution_count": 1,
      "metadata": {
        "id": "igMyGnjE9hEp"
      },
      "outputs": [
        {
          "name": "stdout",
          "output_type": "stream",
          "text": [
            "WARNING:tensorflow:From c:\\Users\\Ian\\git\\553.806_Capstone_HandGesture\\.venv\\Lib\\site-packages\\keras\\src\\losses.py:2976: The name tf.losses.sparse_softmax_cross_entropy is deprecated. Please use tf.compat.v1.losses.sparse_softmax_cross_entropy instead.\n",
            "\n"
          ]
        }
      ],
      "source": [
        "import csv\n",
        "\n",
        "import numpy as np\n",
        "import tensorflow as tf\n",
        "from sklearn.model_selection import train_test_split\n",
        "\n",
        "RANDOM_SEED = 42"
      ]
    },
    {
      "cell_type": "code",
      "execution_count": 2,
      "metadata": {
        "id": "9NvZP2Zn9hEy"
      },
      "outputs": [],
      "source": [
        "dataset = 'datasets/keypoint1000.csv'\n",
        "model_save_path = 'models/keypoint_classifier.hdf5'\n",
        "tflite_save_path = 'models/keypoint_classifier_part1.tflite'\n",
        "tflite_save_path2 = 'models/keypoint_classifier_part2.tflite'"
      ]
    },
    {
      "cell_type": "markdown",
      "metadata": {
        "id": "s5oMH7x19hEz"
      },
      "source": [
        "# Set number of classes"
      ]
    },
    {
      "cell_type": "code",
      "execution_count": 3,
      "metadata": {
        "id": "du4kodXL9hEz"
      },
      "outputs": [],
      "source": [
        "NUM_CLASSES = 12\n",
        "LABELS = ['call', 'dislike', 'fist', 'like', 'mute', 'ok', 'one', 'palm', 'peace', 'rock', 'stop', 'stop_inverted'] "
      ]
    },
    {
      "cell_type": "markdown",
      "metadata": {
        "id": "XjnL0uso9hEz"
      },
      "source": [
        "# Dataset reading"
      ]
    },
    {
      "cell_type": "code",
      "execution_count": 4,
      "metadata": {},
      "outputs": [],
      "source": [
        "def apply_rotation(label, points):\n",
        "    num_points = 21\n",
        "    point_0 = points[0]\n",
        "    point_8 = points[8]\n",
        "\n",
        "    if label == 'dislike' or label == 'like':\n",
        "        return points  # No rotation\n",
        "    elif label == 'call':\n",
        "        # Rotate to be parallel with X-axis\n",
        "        line = point_8 - point_0\n",
        "        angle = np.arctan2(line[2], line[0])  # Consider the X-Z plane\n",
        "        rotation_matrix = np.array([\n",
        "            [1, 0, 0],\n",
        "            [0, np.cos(angle), -np.sin(angle)],\n",
        "            [0, np.sin(angle), np.cos(angle)]\n",
        "        ])\n",
        "    else:\n",
        "        # Rotate to be parallel with Y-axis\n",
        "        line = point_8 - point_0\n",
        "        angle = np.arctan2(line[2], line[1])  # Consider the Y-Z plane\n",
        "        rotation_matrix = np.array([\n",
        "            [np.cos(angle), 0, np.sin(angle)],\n",
        "            [0, 1, 0],\n",
        "            [-np.sin(angle), 0, np.cos(angle)]\n",
        "        ])\n",
        "    \n",
        "    # Apply rotation\n",
        "    for i in range(num_points):\n",
        "        points[i] = np.dot(rotation_matrix, points[i])\n",
        "\n",
        "    return points\n"
      ]
    },
    {
      "cell_type": "code",
      "execution_count": 5,
      "metadata": {},
      "outputs": [],
      "source": [
        "def pre_process_dataset(X_dataset, y_dataset):\n",
        "    # Reshape to 3D\n",
        "    num_points = 21\n",
        "    reshaped_dataset = X_dataset.reshape(-1, num_points, 3)\n",
        "\n",
        "    # Shift coordinates\n",
        "    for i in range(len(reshaped_dataset)):\n",
        "        base_point = reshaped_dataset[i, 0]  # ID:0\n",
        "        for j in range(num_points):\n",
        "            reshaped_dataset[i, j] -= base_point\n",
        "\n",
        "    # # Rotation\n",
        "    for i in range(len(reshaped_dataset)):\n",
        "        label = LABELS[y_dataset[i]]\n",
        "        reshaped_dataset[i] = apply_rotation(label, reshaped_dataset[i])\n",
        "\n",
        "    # Flatten\n",
        "    flattened_dataset = reshaped_dataset.reshape(-1, num_points * 3)\n",
        "\n",
        "    # Normalization\n",
        "    max_abs_value = np.max(np.abs(flattened_dataset))\n",
        "    normalized_dataset = flattened_dataset / max_abs_value\n",
        "\n",
        "    return normalized_dataset"
      ]
    },
    {
      "cell_type": "code",
      "execution_count": 6,
      "metadata": {
        "id": "QT5ZqtEz9hE0"
      },
      "outputs": [],
      "source": [
        "X_dataset = np.loadtxt(dataset, delimiter=',', dtype='float32', usecols=list(range(1, (21 * 3) + 1)))"
      ]
    },
    {
      "cell_type": "code",
      "execution_count": 7,
      "metadata": {
        "id": "QmoKFsp49hE0"
      },
      "outputs": [],
      "source": [
        "y_dataset = np.loadtxt(dataset, delimiter=',', dtype='int32', usecols=(0))"
      ]
    },
    {
      "cell_type": "code",
      "execution_count": 8,
      "metadata": {},
      "outputs": [],
      "source": [
        "X_dataset_preprocessed = pre_process_dataset(X_dataset, y_dataset)"
      ]
    },
    {
      "cell_type": "code",
      "execution_count": 9,
      "metadata": {
        "id": "xQU7JTZ_9hE0"
      },
      "outputs": [],
      "source": [
        "X_train, X_test, y_train, y_test = train_test_split(X_dataset_preprocessed, y_dataset, train_size=0.75, random_state=RANDOM_SEED)"
      ]
    },
    {
      "cell_type": "markdown",
      "metadata": {
        "id": "mxK_lETT9hE0"
      },
      "source": [
        "# Model building"
      ]
    },
    {
      "cell_type": "code",
      "execution_count": 10,
      "metadata": {
        "id": "vHBmUf1t9hE1"
      },
      "outputs": [
        {
          "name": "stdout",
          "output_type": "stream",
          "text": [
            "WARNING:tensorflow:From c:\\Users\\Ian\\git\\553.806_Capstone_HandGesture\\.venv\\Lib\\site-packages\\keras\\src\\backend.py:1398: The name tf.executing_eagerly_outside_functions is deprecated. Please use tf.compat.v1.executing_eagerly_outside_functions instead.\n",
            "\n"
          ]
        }
      ],
      "source": [
        "model = tf.keras.models.Sequential([\n",
        "    tf.keras.layers.Input((21 * 3, )),\n",
        "    tf.keras.layers.Dropout(0.1),\n",
        "    tf.keras.layers.Dense(128, activation='relu'),  # Increased units\n",
        "    tf.keras.layers.BatchNormalization(),  # Added Batch Normalization\n",
        "    tf.keras.layers.Dropout(0.1),  # Adjusted dropout rate\n",
        "    tf.keras.layers.Dense(128, activation='relu'),  # Increased units\n",
        "    tf.keras.layers.BatchNormalization(),  # Added Batch Normalization\n",
        "    tf.keras.layers.Dense(64, activation='relu'),  # Increased units\n",
        "    tf.keras.layers.Dense(NUM_CLASSES, activation='softmax')\n",
        "])"
      ]
    },
    {
      "cell_type": "code",
      "execution_count": 11,
      "metadata": {
        "colab": {
          "base_uri": "https://localhost:8080/"
        },
        "id": "ypqky9tc9hE1",
        "outputId": "5db082bb-30e3-4110-bf63-a1ee777ecd46"
      },
      "outputs": [
        {
          "name": "stdout",
          "output_type": "stream",
          "text": [
            "Model: \"sequential\"\n",
            "_________________________________________________________________\n",
            " Layer (type)                Output Shape              Param #   \n",
            "=================================================================\n",
            " dropout (Dropout)           (None, 63)                0         \n",
            "                                                                 \n",
            " dense (Dense)               (None, 128)               8192      \n",
            "                                                                 \n",
            " batch_normalization (Batch  (None, 128)               512       \n",
            " Normalization)                                                  \n",
            "                                                                 \n",
            " dropout_1 (Dropout)         (None, 128)               0         \n",
            "                                                                 \n",
            " dense_1 (Dense)             (None, 128)               16512     \n",
            "                                                                 \n",
            " batch_normalization_1 (Bat  (None, 128)               512       \n",
            " chNormalization)                                                \n",
            "                                                                 \n",
            " dense_2 (Dense)             (None, 64)                8256      \n",
            "                                                                 \n",
            " dense_3 (Dense)             (None, 12)                780       \n",
            "                                                                 \n",
            "=================================================================\n",
            "Total params: 34764 (135.80 KB)\n",
            "Trainable params: 34252 (133.80 KB)\n",
            "Non-trainable params: 512 (2.00 KB)\n",
            "_________________________________________________________________\n"
          ]
        }
      ],
      "source": [
        "model.summary()  # tf.keras.utils.plot_model(model, show_shapes=True)"
      ]
    },
    {
      "cell_type": "code",
      "execution_count": 12,
      "metadata": {
        "id": "MbMjOflQ9hE1"
      },
      "outputs": [],
      "source": [
        "# Model checkpoint callback\n",
        "cp_callback = tf.keras.callbacks.ModelCheckpoint(\n",
        "    model_save_path, verbose=1, save_weights_only=False)\n",
        "# Callback for early stopping\n",
        "es_callback = tf.keras.callbacks.EarlyStopping(patience=30, verbose=1)"
      ]
    },
    {
      "cell_type": "code",
      "execution_count": 13,
      "metadata": {
        "id": "c3Dac0M_9hE2"
      },
      "outputs": [
        {
          "name": "stdout",
          "output_type": "stream",
          "text": [
            "WARNING:tensorflow:From c:\\Users\\Ian\\git\\553.806_Capstone_HandGesture\\.venv\\Lib\\site-packages\\keras\\src\\optimizers\\__init__.py:309: The name tf.train.Optimizer is deprecated. Please use tf.compat.v1.train.Optimizer instead.\n",
            "\n"
          ]
        }
      ],
      "source": [
        "# Model compilation\n",
        "model.compile(\n",
        "    optimizer='adam',\n",
        "    loss='sparse_categorical_crossentropy',\n",
        "    metrics=['accuracy']\n",
        ")"
      ]
    },
    {
      "cell_type": "markdown",
      "metadata": {
        "id": "7XI0j1Iu9hE2"
      },
      "source": [
        "# Model training"
      ]
    },
    {
      "cell_type": "code",
      "execution_count": 14,
      "metadata": {},
      "outputs": [
        {
          "data": {
            "text/plain": [
              "<keras.src.callbacks.EarlyStopping at 0x1ab17cac750>"
            ]
          },
          "execution_count": 14,
          "metadata": {},
          "output_type": "execute_result"
        }
      ],
      "source": [
        "es_callback"
      ]
    },
    {
      "cell_type": "code",
      "execution_count": 15,
      "metadata": {
        "colab": {
          "base_uri": "https://localhost:8080/"
        },
        "id": "WirBl-JE9hE3",
        "outputId": "71b30ca2-8294-4d9d-8aa2-800d90d399de",
        "scrolled": true
      },
      "outputs": [
        {
          "name": "stdout",
          "output_type": "stream",
          "text": [
            "Epoch 1/1000\n"
          ]
        },
        {
          "name": "stdout",
          "output_type": "stream",
          "text": [
            "WARNING:tensorflow:From c:\\Users\\Ian\\git\\553.806_Capstone_HandGesture\\.venv\\Lib\\site-packages\\keras\\src\\utils\\tf_utils.py:492: The name tf.ragged.RaggedTensorValue is deprecated. Please use tf.compat.v1.ragged.RaggedTensorValue instead.\n",
            "\n",
            "WARNING:tensorflow:From c:\\Users\\Ian\\git\\553.806_Capstone_HandGesture\\.venv\\Lib\\site-packages\\keras\\src\\engine\\base_layer_utils.py:384: The name tf.executing_eagerly_outside_functions is deprecated. Please use tf.compat.v1.executing_eagerly_outside_functions instead.\n",
            "\n",
            "69/71 [============================>.] - ETA: 0s - loss: 2.3824 - accuracy: 0.1791\n",
            "Epoch 1: saving model to models\\keypoint_classifier.hdf5\n",
            "71/71 [==============================] - 3s 8ms/step - loss: 2.3770 - accuracy: 0.1806 - val_loss: 2.4317 - val_accuracy: 0.1630\n",
            "Epoch 2/1000\n",
            "36/71 [==============>...............] - ETA: 0s - loss: 2.0979 - accuracy: 0.2873"
          ]
        },
        {
          "name": "stderr",
          "output_type": "stream",
          "text": [
            "c:\\Users\\Ian\\git\\553.806_Capstone_HandGesture\\.venv\\Lib\\site-packages\\keras\\src\\engine\\training.py:3103: UserWarning: You are saving your model as an HDF5 file via `model.save()`. This file format is considered legacy. We recommend using instead the native Keras format, e.g. `model.save('my_model.keras')`.\n",
            "  saving_api.save_model(\n"
          ]
        },
        {
          "name": "stdout",
          "output_type": "stream",
          "text": [
            "68/71 [===========================>..] - ETA: 0s - loss: 2.0481 - accuracy: 0.3033\n",
            "Epoch 2: saving model to models\\keypoint_classifier.hdf5\n",
            "71/71 [==============================] - 0s 4ms/step - loss: 2.0472 - accuracy: 0.3031 - val_loss: 2.2945 - val_accuracy: 0.2443\n",
            "Epoch 3/1000\n",
            "70/71 [============================>.] - ETA: 0s - loss: 1.8710 - accuracy: 0.3590\n",
            "Epoch 3: saving model to models\\keypoint_classifier.hdf5\n",
            "71/71 [==============================] - 0s 5ms/step - loss: 1.8702 - accuracy: 0.3596 - val_loss: 2.0135 - val_accuracy: 0.3107\n",
            "Epoch 4/1000\n",
            "54/71 [=====================>........] - ETA: 0s - loss: 1.7336 - accuracy: 0.4058\n",
            "Epoch 4: saving model to models\\keypoint_classifier.hdf5\n",
            "71/71 [==============================] - 0s 4ms/step - loss: 1.7111 - accuracy: 0.4162 - val_loss: 1.7202 - val_accuracy: 0.4083\n",
            "Epoch 5/1000\n",
            "54/71 [=====================>........] - ETA: 0s - loss: 1.5530 - accuracy: 0.4627\n",
            "Epoch 5: saving model to models\\keypoint_classifier.hdf5\n",
            "71/71 [==============================] - 0s 4ms/step - loss: 1.5390 - accuracy: 0.4697 - val_loss: 1.5708 - val_accuracy: 0.4180\n",
            "Epoch 6/1000\n",
            "68/71 [===========================>..] - ETA: 0s - loss: 1.4289 - accuracy: 0.5170\n",
            "Epoch 6: saving model to models\\keypoint_classifier.hdf5\n",
            "71/71 [==============================] - 0s 5ms/step - loss: 1.4269 - accuracy: 0.5160 - val_loss: 1.4001 - val_accuracy: 0.5053\n",
            "Epoch 7/1000\n",
            "56/71 [======================>.......] - ETA: 0s - loss: 1.2719 - accuracy: 0.5657\n",
            "Epoch 7: saving model to models\\keypoint_classifier.hdf5\n",
            "71/71 [==============================] - 0s 4ms/step - loss: 1.2674 - accuracy: 0.5671 - val_loss: 0.9567 - val_accuracy: 0.6670\n",
            "Epoch 8/1000\n",
            "68/71 [===========================>..] - ETA: 0s - loss: 1.1397 - accuracy: 0.6101\n",
            "Epoch 8: saving model to models\\keypoint_classifier.hdf5\n",
            "71/71 [==============================] - 0s 5ms/step - loss: 1.1357 - accuracy: 0.6112 - val_loss: 0.7362 - val_accuracy: 0.7513\n",
            "Epoch 9/1000\n",
            "67/71 [===========================>..] - ETA: 0s - loss: 1.0162 - accuracy: 0.6496\n",
            "Epoch 9: saving model to models\\keypoint_classifier.hdf5\n",
            "71/71 [==============================] - 0s 5ms/step - loss: 1.0149 - accuracy: 0.6493 - val_loss: 0.6138 - val_accuracy: 0.8003\n",
            "Epoch 10/1000\n",
            "70/71 [============================>.] - ETA: 0s - loss: 0.9459 - accuracy: 0.6762\n",
            "Epoch 10: saving model to models\\keypoint_classifier.hdf5\n",
            "71/71 [==============================] - 0s 4ms/step - loss: 0.9463 - accuracy: 0.6763 - val_loss: 0.5496 - val_accuracy: 0.8220\n",
            "Epoch 11/1000\n",
            "71/71 [==============================] - ETA: 0s - loss: 0.8596 - accuracy: 0.7032\n",
            "Epoch 11: saving model to models\\keypoint_classifier.hdf5\n",
            "71/71 [==============================] - 0s 4ms/step - loss: 0.8596 - accuracy: 0.7032 - val_loss: 0.6381 - val_accuracy: 0.7857\n",
            "Epoch 12/1000\n",
            "53/71 [=====================>........] - ETA: 0s - loss: 0.8349 - accuracy: 0.7098\n",
            "Epoch 12: saving model to models\\keypoint_classifier.hdf5\n",
            "71/71 [==============================] - 0s 4ms/step - loss: 0.8158 - accuracy: 0.7169 - val_loss: 0.5084 - val_accuracy: 0.8300\n",
            "Epoch 13/1000\n",
            "71/71 [==============================] - ETA: 0s - loss: 0.7692 - accuracy: 0.7321\n",
            "Epoch 13: saving model to models\\keypoint_classifier.hdf5\n",
            "71/71 [==============================] - 0s 4ms/step - loss: 0.7692 - accuracy: 0.7321 - val_loss: 0.4565 - val_accuracy: 0.8507\n",
            "Epoch 14/1000\n",
            "71/71 [==============================] - ETA: 0s - loss: 0.7314 - accuracy: 0.7390\n",
            "Epoch 14: saving model to models\\keypoint_classifier.hdf5\n",
            "71/71 [==============================] - 0s 4ms/step - loss: 0.7314 - accuracy: 0.7390 - val_loss: 0.6131 - val_accuracy: 0.7777\n",
            "Epoch 15/1000\n",
            "54/71 [=====================>........] - ETA: 0s - loss: 0.6888 - accuracy: 0.7650\n",
            "Epoch 15: saving model to models\\keypoint_classifier.hdf5\n",
            "71/71 [==============================] - 0s 4ms/step - loss: 0.6891 - accuracy: 0.7631 - val_loss: 0.3517 - val_accuracy: 0.8877\n",
            "Epoch 16/1000\n",
            "54/71 [=====================>........] - ETA: 0s - loss: 0.6834 - accuracy: 0.7627\n",
            "Epoch 16: saving model to models\\keypoint_classifier.hdf5\n",
            "71/71 [==============================] - 0s 4ms/step - loss: 0.6787 - accuracy: 0.7654 - val_loss: 0.3803 - val_accuracy: 0.8847\n",
            "Epoch 17/1000\n",
            "70/71 [============================>.] - ETA: 0s - loss: 0.6599 - accuracy: 0.7641\n",
            "Epoch 17: saving model to models\\keypoint_classifier.hdf5\n",
            "71/71 [==============================] - 0s 4ms/step - loss: 0.6600 - accuracy: 0.7642 - val_loss: 0.3924 - val_accuracy: 0.8757\n",
            "Epoch 18/1000\n",
            "70/71 [============================>.] - ETA: 0s - loss: 0.6374 - accuracy: 0.7770\n",
            "Epoch 18: saving model to models\\keypoint_classifier.hdf5\n",
            "71/71 [==============================] - 0s 4ms/step - loss: 0.6373 - accuracy: 0.7768 - val_loss: 0.3213 - val_accuracy: 0.8997\n",
            "Epoch 19/1000\n",
            "54/71 [=====================>........] - ETA: 0s - loss: 0.6131 - accuracy: 0.7904\n",
            "Epoch 19: saving model to models\\keypoint_classifier.hdf5\n",
            "71/71 [==============================] - 0s 4ms/step - loss: 0.6175 - accuracy: 0.7847 - val_loss: 0.5069 - val_accuracy: 0.8293\n",
            "Epoch 20/1000\n",
            "70/71 [============================>.] - ETA: 0s - loss: 0.5952 - accuracy: 0.7923\n",
            "Epoch 20: saving model to models\\keypoint_classifier.hdf5\n",
            "71/71 [==============================] - 0s 4ms/step - loss: 0.5958 - accuracy: 0.7923 - val_loss: 0.3699 - val_accuracy: 0.8770\n",
            "Epoch 21/1000\n",
            "70/71 [============================>.] - ETA: 0s - loss: 0.5789 - accuracy: 0.7940\n",
            "Epoch 21: saving model to models\\keypoint_classifier.hdf5\n",
            "71/71 [==============================] - 0s 4ms/step - loss: 0.5783 - accuracy: 0.7943 - val_loss: 0.4685 - val_accuracy: 0.8590\n",
            "Epoch 22/1000\n",
            "54/71 [=====================>........] - ETA: 0s - loss: 0.5696 - accuracy: 0.7982\n",
            "Epoch 22: saving model to models\\keypoint_classifier.hdf5\n",
            "71/71 [==============================] - 0s 4ms/step - loss: 0.5681 - accuracy: 0.7991 - val_loss: 0.3088 - val_accuracy: 0.9050\n",
            "Epoch 23/1000\n",
            "70/71 [============================>.] - ETA: 0s - loss: 0.5573 - accuracy: 0.8011\n",
            "Epoch 23: saving model to models\\keypoint_classifier.hdf5\n",
            "71/71 [==============================] - 0s 4ms/step - loss: 0.5588 - accuracy: 0.8004 - val_loss: 0.2934 - val_accuracy: 0.9033\n",
            "Epoch 24/1000\n",
            "69/71 [============================>.] - ETA: 0s - loss: 0.5502 - accuracy: 0.8105\n",
            "Epoch 24: saving model to models\\keypoint_classifier.hdf5\n",
            "71/71 [==============================] - 0s 4ms/step - loss: 0.5502 - accuracy: 0.8102 - val_loss: 0.4247 - val_accuracy: 0.8653\n",
            "Epoch 25/1000\n",
            "71/71 [==============================] - ETA: 0s - loss: 0.5450 - accuracy: 0.8106\n",
            "Epoch 25: saving model to models\\keypoint_classifier.hdf5\n",
            "71/71 [==============================] - 0s 4ms/step - loss: 0.5450 - accuracy: 0.8106 - val_loss: 0.3223 - val_accuracy: 0.8927\n",
            "Epoch 26/1000\n",
            "54/71 [=====================>........] - ETA: 0s - loss: 0.5183 - accuracy: 0.8190\n",
            "Epoch 26: saving model to models\\keypoint_classifier.hdf5\n",
            "71/71 [==============================] - 0s 4ms/step - loss: 0.5166 - accuracy: 0.8180 - val_loss: 0.2917 - val_accuracy: 0.9037\n",
            "Epoch 27/1000\n",
            "54/71 [=====================>........] - ETA: 0s - loss: 0.5082 - accuracy: 0.8170\n",
            "Epoch 27: saving model to models\\keypoint_classifier.hdf5\n",
            "71/71 [==============================] - 0s 4ms/step - loss: 0.5101 - accuracy: 0.8179 - val_loss: 0.2831 - val_accuracy: 0.9193\n",
            "Epoch 28/1000\n",
            "70/71 [============================>.] - ETA: 0s - loss: 0.4979 - accuracy: 0.8217\n",
            "Epoch 28: saving model to models\\keypoint_classifier.hdf5\n",
            "71/71 [==============================] - 0s 5ms/step - loss: 0.4978 - accuracy: 0.8216 - val_loss: 0.2868 - val_accuracy: 0.9143\n",
            "Epoch 29/1000\n",
            "70/71 [============================>.] - ETA: 0s - loss: 0.5051 - accuracy: 0.8223\n",
            "Epoch 29: saving model to models\\keypoint_classifier.hdf5\n",
            "71/71 [==============================] - 0s 4ms/step - loss: 0.5050 - accuracy: 0.8223 - val_loss: 0.3419 - val_accuracy: 0.8800\n",
            "Epoch 30/1000\n",
            "53/71 [=====================>........] - ETA: 0s - loss: 0.4829 - accuracy: 0.8269\n",
            "Epoch 30: saving model to models\\keypoint_classifier.hdf5\n",
            "71/71 [==============================] - 0s 4ms/step - loss: 0.4840 - accuracy: 0.8283 - val_loss: 0.2480 - val_accuracy: 0.9270\n",
            "Epoch 31/1000\n",
            "71/71 [==============================] - ETA: 0s - loss: 0.4788 - accuracy: 0.8313\n",
            "Epoch 31: saving model to models\\keypoint_classifier.hdf5\n",
            "71/71 [==============================] - 0s 4ms/step - loss: 0.4788 - accuracy: 0.8313 - val_loss: 0.2436 - val_accuracy: 0.9263\n",
            "Epoch 32/1000\n",
            "70/71 [============================>.] - ETA: 0s - loss: 0.4800 - accuracy: 0.8292\n",
            "Epoch 32: saving model to models\\keypoint_classifier.hdf5\n",
            "71/71 [==============================] - 0s 4ms/step - loss: 0.4797 - accuracy: 0.8294 - val_loss: 0.3383 - val_accuracy: 0.8717\n",
            "Epoch 33/1000\n",
            "71/71 [==============================] - ETA: 0s - loss: 0.4689 - accuracy: 0.8344\n",
            "Epoch 33: saving model to models\\keypoint_classifier.hdf5\n",
            "71/71 [==============================] - 0s 4ms/step - loss: 0.4689 - accuracy: 0.8344 - val_loss: 0.2753 - val_accuracy: 0.8980\n",
            "Epoch 34/1000\n",
            "71/71 [==============================] - ETA: 0s - loss: 0.4317 - accuracy: 0.8470\n",
            "Epoch 34: saving model to models\\keypoint_classifier.hdf5\n",
            "71/71 [==============================] - 0s 4ms/step - loss: 0.4317 - accuracy: 0.8470 - val_loss: 0.2819 - val_accuracy: 0.9093\n",
            "Epoch 35/1000\n",
            "54/71 [=====================>........] - ETA: 0s - loss: 0.4582 - accuracy: 0.8403\n",
            "Epoch 35: saving model to models\\keypoint_classifier.hdf5\n",
            "71/71 [==============================] - 0s 4ms/step - loss: 0.4544 - accuracy: 0.8430 - val_loss: 0.2497 - val_accuracy: 0.9210\n",
            "Epoch 36/1000\n",
            "71/71 [==============================] - ETA: 0s - loss: 0.4412 - accuracy: 0.8416\n",
            "Epoch 36: saving model to models\\keypoint_classifier.hdf5\n",
            "71/71 [==============================] - 0s 4ms/step - loss: 0.4412 - accuracy: 0.8416 - val_loss: 0.2599 - val_accuracy: 0.9180\n",
            "Epoch 37/1000\n",
            "69/71 [============================>.] - ETA: 0s - loss: 0.4410 - accuracy: 0.8410\n",
            "Epoch 37: saving model to models\\keypoint_classifier.hdf5\n",
            "71/71 [==============================] - 0s 4ms/step - loss: 0.4411 - accuracy: 0.8409 - val_loss: 0.2453 - val_accuracy: 0.9170\n",
            "Epoch 38/1000\n",
            "71/71 [==============================] - ETA: 0s - loss: 0.4601 - accuracy: 0.8406\n",
            "Epoch 38: saving model to models\\keypoint_classifier.hdf5\n",
            "71/71 [==============================] - 0s 4ms/step - loss: 0.4601 - accuracy: 0.8406 - val_loss: 0.2535 - val_accuracy: 0.9237\n",
            "Epoch 39/1000\n",
            "54/71 [=====================>........] - ETA: 0s - loss: 0.4421 - accuracy: 0.8410\n",
            "Epoch 39: saving model to models\\keypoint_classifier.hdf5\n",
            "71/71 [==============================] - 0s 4ms/step - loss: 0.4416 - accuracy: 0.8397 - val_loss: 0.3477 - val_accuracy: 0.8877\n",
            "Epoch 40/1000\n",
            "54/71 [=====================>........] - ETA: 0s - loss: 0.4508 - accuracy: 0.8313\n",
            "Epoch 40: saving model to models\\keypoint_classifier.hdf5\n",
            "71/71 [==============================] - 0s 4ms/step - loss: 0.4486 - accuracy: 0.8339 - val_loss: 0.3273 - val_accuracy: 0.8793\n",
            "Epoch 41/1000\n",
            "70/71 [============================>.] - ETA: 0s - loss: 0.4336 - accuracy: 0.8492\n",
            "Epoch 41: saving model to models\\keypoint_classifier.hdf5\n",
            "71/71 [==============================] - 0s 4ms/step - loss: 0.4352 - accuracy: 0.8486 - val_loss: 0.2506 - val_accuracy: 0.9283\n",
            "Epoch 42/1000\n",
            "69/71 [============================>.] - ETA: 0s - loss: 0.4259 - accuracy: 0.8438\n",
            "Epoch 42: saving model to models\\keypoint_classifier.hdf5\n",
            "71/71 [==============================] - 0s 4ms/step - loss: 0.4269 - accuracy: 0.8437 - val_loss: 0.3611 - val_accuracy: 0.8613\n",
            "Epoch 43/1000\n",
            "69/71 [============================>.] - ETA: 0s - loss: 0.4089 - accuracy: 0.8526\n",
            "Epoch 43: saving model to models\\keypoint_classifier.hdf5\n",
            "71/71 [==============================] - 0s 4ms/step - loss: 0.4091 - accuracy: 0.8522 - val_loss: 0.2528 - val_accuracy: 0.9213\n",
            "Epoch 44/1000\n",
            "70/71 [============================>.] - ETA: 0s - loss: 0.4121 - accuracy: 0.8523\n",
            "Epoch 44: saving model to models\\keypoint_classifier.hdf5\n",
            "71/71 [==============================] - 0s 4ms/step - loss: 0.4117 - accuracy: 0.8523 - val_loss: 0.2227 - val_accuracy: 0.9267\n",
            "Epoch 45/1000\n",
            "54/71 [=====================>........] - ETA: 0s - loss: 0.3924 - accuracy: 0.8572\n",
            "Epoch 45: saving model to models\\keypoint_classifier.hdf5\n",
            "71/71 [==============================] - 0s 4ms/step - loss: 0.3992 - accuracy: 0.8576 - val_loss: 0.2711 - val_accuracy: 0.9077\n",
            "Epoch 46/1000\n",
            "57/71 [=======================>......] - ETA: 0s - loss: 0.3971 - accuracy: 0.8575\n",
            "Epoch 46: saving model to models\\keypoint_classifier.hdf5\n",
            "71/71 [==============================] - 0s 5ms/step - loss: 0.3968 - accuracy: 0.8572 - val_loss: 0.2224 - val_accuracy: 0.9290\n",
            "Epoch 47/1000\n",
            "71/71 [==============================] - ETA: 0s - loss: 0.4008 - accuracy: 0.8581\n",
            "Epoch 47: saving model to models\\keypoint_classifier.hdf5\n",
            "71/71 [==============================] - 0s 4ms/step - loss: 0.4008 - accuracy: 0.8581 - val_loss: 0.2796 - val_accuracy: 0.8927\n",
            "Epoch 48/1000\n",
            "70/71 [============================>.] - ETA: 0s - loss: 0.3890 - accuracy: 0.8545\n",
            "Epoch 48: saving model to models\\keypoint_classifier.hdf5\n",
            "71/71 [==============================] - 0s 4ms/step - loss: 0.3888 - accuracy: 0.8544 - val_loss: 0.4536 - val_accuracy: 0.8463\n",
            "Epoch 49/1000\n",
            "54/71 [=====================>........] - ETA: 0s - loss: 0.4063 - accuracy: 0.8491\n",
            "Epoch 49: saving model to models\\keypoint_classifier.hdf5\n",
            "71/71 [==============================] - 0s 4ms/step - loss: 0.4059 - accuracy: 0.8492 - val_loss: 0.2781 - val_accuracy: 0.9133\n",
            "Epoch 50/1000\n",
            "54/71 [=====================>........] - ETA: 0s - loss: 0.3797 - accuracy: 0.8627\n",
            "Epoch 50: saving model to models\\keypoint_classifier.hdf5\n",
            "71/71 [==============================] - 0s 4ms/step - loss: 0.3837 - accuracy: 0.8620 - val_loss: 0.2187 - val_accuracy: 0.9343\n",
            "Epoch 51/1000\n",
            "70/71 [============================>.] - ETA: 0s - loss: 0.3906 - accuracy: 0.8594\n",
            "Epoch 51: saving model to models\\keypoint_classifier.hdf5\n",
            "71/71 [==============================] - 0s 4ms/step - loss: 0.3896 - accuracy: 0.8598 - val_loss: 0.2181 - val_accuracy: 0.9307\n",
            "Epoch 52/1000\n",
            "54/71 [=====================>........] - ETA: 0s - loss: 0.3829 - accuracy: 0.8611\n",
            "Epoch 52: saving model to models\\keypoint_classifier.hdf5\n",
            "71/71 [==============================] - 0s 4ms/step - loss: 0.3891 - accuracy: 0.8574 - val_loss: 0.2710 - val_accuracy: 0.9103\n",
            "Epoch 53/1000\n",
            "71/71 [==============================] - ETA: 0s - loss: 0.3882 - accuracy: 0.8589\n",
            "Epoch 53: saving model to models\\keypoint_classifier.hdf5\n",
            "71/71 [==============================] - 0s 4ms/step - loss: 0.3882 - accuracy: 0.8589 - val_loss: 0.2668 - val_accuracy: 0.9120\n",
            "Epoch 54/1000\n",
            "70/71 [============================>.] - ETA: 0s - loss: 0.3937 - accuracy: 0.8558\n",
            "Epoch 54: saving model to models\\keypoint_classifier.hdf5\n",
            "71/71 [==============================] - 0s 4ms/step - loss: 0.3936 - accuracy: 0.8558 - val_loss: 0.3033 - val_accuracy: 0.8883\n",
            "Epoch 55/1000\n",
            "70/71 [============================>.] - ETA: 0s - loss: 0.3753 - accuracy: 0.8635\n",
            "Epoch 55: saving model to models\\keypoint_classifier.hdf5\n",
            "71/71 [==============================] - 0s 4ms/step - loss: 0.3745 - accuracy: 0.8640 - val_loss: 0.3213 - val_accuracy: 0.8987\n",
            "Epoch 56/1000\n",
            "70/71 [============================>.] - ETA: 0s - loss: 0.3657 - accuracy: 0.8670\n",
            "Epoch 56: saving model to models\\keypoint_classifier.hdf5\n",
            "71/71 [==============================] - 0s 4ms/step - loss: 0.3668 - accuracy: 0.8667 - val_loss: 0.2520 - val_accuracy: 0.9127\n",
            "Epoch 57/1000\n",
            "54/71 [=====================>........] - ETA: 0s - loss: 0.3477 - accuracy: 0.8733\n",
            "Epoch 57: saving model to models\\keypoint_classifier.hdf5\n",
            "71/71 [==============================] - 0s 4ms/step - loss: 0.3537 - accuracy: 0.8729 - val_loss: 0.2321 - val_accuracy: 0.9257\n",
            "Epoch 58/1000\n",
            "69/71 [============================>.] - ETA: 0s - loss: 0.3729 - accuracy: 0.8632\n",
            "Epoch 58: saving model to models\\keypoint_classifier.hdf5\n",
            "71/71 [==============================] - 0s 4ms/step - loss: 0.3750 - accuracy: 0.8629 - val_loss: 0.2134 - val_accuracy: 0.9373\n",
            "Epoch 59/1000\n",
            "54/71 [=====================>........] - ETA: 0s - loss: 0.3686 - accuracy: 0.8673\n",
            "Epoch 59: saving model to models\\keypoint_classifier.hdf5\n",
            "71/71 [==============================] - 0s 4ms/step - loss: 0.3670 - accuracy: 0.8661 - val_loss: 0.2501 - val_accuracy: 0.9197\n",
            "Epoch 60/1000\n",
            "71/71 [==============================] - ETA: 0s - loss: 0.3619 - accuracy: 0.8714\n",
            "Epoch 60: saving model to models\\keypoint_classifier.hdf5\n",
            "71/71 [==============================] - 0s 4ms/step - loss: 0.3619 - accuracy: 0.8714 - val_loss: 0.2365 - val_accuracy: 0.9290\n",
            "Epoch 61/1000\n",
            "70/71 [============================>.] - ETA: 0s - loss: 0.3592 - accuracy: 0.8675\n",
            "Epoch 61: saving model to models\\keypoint_classifier.hdf5\n",
            "71/71 [==============================] - 0s 5ms/step - loss: 0.3621 - accuracy: 0.8669 - val_loss: 0.2800 - val_accuracy: 0.9140\n",
            "Epoch 62/1000\n",
            "70/71 [============================>.] - ETA: 0s - loss: 0.3759 - accuracy: 0.8645\n",
            "Epoch 62: saving model to models\\keypoint_classifier.hdf5\n",
            "71/71 [==============================] - 0s 4ms/step - loss: 0.3757 - accuracy: 0.8644 - val_loss: 0.2617 - val_accuracy: 0.9093\n",
            "Epoch 63/1000\n",
            "54/71 [=====================>........] - ETA: 0s - loss: 0.3469 - accuracy: 0.8731\n",
            "Epoch 63: saving model to models\\keypoint_classifier.hdf5\n",
            "71/71 [==============================] - 0s 4ms/step - loss: 0.3485 - accuracy: 0.8742 - val_loss: 0.2782 - val_accuracy: 0.9143\n",
            "Epoch 64/1000\n",
            "70/71 [============================>.] - ETA: 0s - loss: 0.3574 - accuracy: 0.8675\n",
            "Epoch 64: saving model to models\\keypoint_classifier.hdf5\n",
            "71/71 [==============================] - 0s 4ms/step - loss: 0.3577 - accuracy: 0.8677 - val_loss: 0.2332 - val_accuracy: 0.9200\n",
            "Epoch 65/1000\n",
            "70/71 [============================>.] - ETA: 0s - loss: 0.3573 - accuracy: 0.8711\n",
            "Epoch 65: saving model to models\\keypoint_classifier.hdf5\n",
            "71/71 [==============================] - 0s 4ms/step - loss: 0.3580 - accuracy: 0.8708 - val_loss: 0.2793 - val_accuracy: 0.9073\n",
            "Epoch 66/1000\n",
            "71/71 [==============================] - ETA: 0s - loss: 0.3573 - accuracy: 0.8690\n",
            "Epoch 66: saving model to models\\keypoint_classifier.hdf5\n",
            "71/71 [==============================] - 0s 4ms/step - loss: 0.3573 - accuracy: 0.8690 - val_loss: 0.2278 - val_accuracy: 0.9237\n",
            "Epoch 67/1000\n",
            "54/71 [=====================>........] - ETA: 0s - loss: 0.3571 - accuracy: 0.8676\n",
            "Epoch 67: saving model to models\\keypoint_classifier.hdf5\n",
            "71/71 [==============================] - 0s 4ms/step - loss: 0.3577 - accuracy: 0.8680 - val_loss: 0.2541 - val_accuracy: 0.9057\n",
            "Epoch 68/1000\n",
            "70/71 [============================>.] - ETA: 0s - loss: 0.3426 - accuracy: 0.8737\n",
            "Epoch 68: saving model to models\\keypoint_classifier.hdf5\n",
            "71/71 [==============================] - 0s 4ms/step - loss: 0.3433 - accuracy: 0.8734 - val_loss: 0.2331 - val_accuracy: 0.9140\n",
            "Epoch 69/1000\n",
            "69/71 [============================>.] - ETA: 0s - loss: 0.3508 - accuracy: 0.8707\n",
            "Epoch 69: saving model to models\\keypoint_classifier.hdf5\n",
            "71/71 [==============================] - 0s 4ms/step - loss: 0.3511 - accuracy: 0.8701 - val_loss: 0.3318 - val_accuracy: 0.8850\n",
            "Epoch 70/1000\n",
            "71/71 [==============================] - ETA: 0s - loss: 0.3492 - accuracy: 0.8708\n",
            "Epoch 70: saving model to models\\keypoint_classifier.hdf5\n",
            "71/71 [==============================] - 0s 4ms/step - loss: 0.3492 - accuracy: 0.8708 - val_loss: 0.2023 - val_accuracy: 0.9417\n",
            "Epoch 71/1000\n",
            "66/71 [==========================>...] - ETA: 0s - loss: 0.3510 - accuracy: 0.8748\n",
            "Epoch 71: saving model to models\\keypoint_classifier.hdf5\n",
            "71/71 [==============================] - 0s 5ms/step - loss: 0.3493 - accuracy: 0.8752 - val_loss: 0.3135 - val_accuracy: 0.8940\n",
            "Epoch 72/1000\n",
            "64/71 [==========================>...] - ETA: 0s - loss: 0.3353 - accuracy: 0.8788\n",
            "Epoch 72: saving model to models\\keypoint_classifier.hdf5\n",
            "71/71 [==============================] - 0s 6ms/step - loss: 0.3378 - accuracy: 0.8774 - val_loss: 0.2984 - val_accuracy: 0.8823\n",
            "Epoch 73/1000\n",
            "69/71 [============================>.] - ETA: 0s - loss: 0.3398 - accuracy: 0.8731\n",
            "Epoch 73: saving model to models\\keypoint_classifier.hdf5\n",
            "71/71 [==============================] - 0s 5ms/step - loss: 0.3412 - accuracy: 0.8726 - val_loss: 0.2345 - val_accuracy: 0.9160\n",
            "Epoch 74/1000\n",
            "66/71 [==========================>...] - ETA: 0s - loss: 0.3331 - accuracy: 0.8741\n",
            "Epoch 74: saving model to models\\keypoint_classifier.hdf5\n",
            "71/71 [==============================] - 0s 5ms/step - loss: 0.3314 - accuracy: 0.8753 - val_loss: 0.2002 - val_accuracy: 0.9340\n",
            "Epoch 75/1000\n",
            "71/71 [==============================] - ETA: 0s - loss: 0.3383 - accuracy: 0.8776\n",
            "Epoch 75: saving model to models\\keypoint_classifier.hdf5\n",
            "71/71 [==============================] - 0s 4ms/step - loss: 0.3383 - accuracy: 0.8776 - val_loss: 0.2031 - val_accuracy: 0.9377\n",
            "Epoch 76/1000\n",
            "70/71 [============================>.] - ETA: 0s - loss: 0.3485 - accuracy: 0.8725\n",
            "Epoch 76: saving model to models\\keypoint_classifier.hdf5\n",
            "71/71 [==============================] - 0s 4ms/step - loss: 0.3482 - accuracy: 0.8727 - val_loss: 0.2861 - val_accuracy: 0.9077\n",
            "Epoch 77/1000\n",
            "67/71 [===========================>..] - ETA: 0s - loss: 0.3256 - accuracy: 0.8790\n",
            "Epoch 77: saving model to models\\keypoint_classifier.hdf5\n",
            "71/71 [==============================] - 0s 4ms/step - loss: 0.3238 - accuracy: 0.8796 - val_loss: 0.2043 - val_accuracy: 0.9390\n",
            "Epoch 78/1000\n",
            "70/71 [============================>.] - ETA: 0s - loss: 0.3403 - accuracy: 0.8787\n",
            "Epoch 78: saving model to models\\keypoint_classifier.hdf5\n",
            "71/71 [==============================] - 0s 4ms/step - loss: 0.3407 - accuracy: 0.8788 - val_loss: 0.2180 - val_accuracy: 0.9283\n",
            "Epoch 79/1000\n",
            "55/71 [======================>.......] - ETA: 0s - loss: 0.3347 - accuracy: 0.8781\n",
            "Epoch 79: saving model to models\\keypoint_classifier.hdf5\n",
            "71/71 [==============================] - 0s 4ms/step - loss: 0.3276 - accuracy: 0.8799 - val_loss: 0.3291 - val_accuracy: 0.8830\n",
            "Epoch 80/1000\n",
            "66/71 [==========================>...] - ETA: 0s - loss: 0.3379 - accuracy: 0.8783\n",
            "Epoch 80: saving model to models\\keypoint_classifier.hdf5\n",
            "71/71 [==============================] - 0s 6ms/step - loss: 0.3427 - accuracy: 0.8764 - val_loss: 0.2406 - val_accuracy: 0.9207\n",
            "Epoch 81/1000\n",
            "66/71 [==========================>...] - ETA: 0s - loss: 0.3430 - accuracy: 0.8709\n",
            "Epoch 81: saving model to models\\keypoint_classifier.hdf5\n",
            "71/71 [==============================] - 0s 5ms/step - loss: 0.3428 - accuracy: 0.8718 - val_loss: 0.1897 - val_accuracy: 0.9417\n",
            "Epoch 82/1000\n",
            "63/71 [=========================>....] - ETA: 0s - loss: 0.3202 - accuracy: 0.8782\n",
            "Epoch 82: saving model to models\\keypoint_classifier.hdf5\n",
            "71/71 [==============================] - 0s 5ms/step - loss: 0.3168 - accuracy: 0.8800 - val_loss: 0.1840 - val_accuracy: 0.9467\n",
            "Epoch 83/1000\n",
            "69/71 [============================>.] - ETA: 0s - loss: 0.3283 - accuracy: 0.8827\n",
            "Epoch 83: saving model to models\\keypoint_classifier.hdf5\n",
            "71/71 [==============================] - 0s 4ms/step - loss: 0.3289 - accuracy: 0.8830 - val_loss: 0.2191 - val_accuracy: 0.9347\n",
            "Epoch 84/1000\n",
            "67/71 [===========================>..] - ETA: 0s - loss: 0.3293 - accuracy: 0.8790\n",
            "Epoch 84: saving model to models\\keypoint_classifier.hdf5\n",
            "71/71 [==============================] - 0s 4ms/step - loss: 0.3297 - accuracy: 0.8791 - val_loss: 0.3588 - val_accuracy: 0.8810\n",
            "Epoch 85/1000\n",
            "55/71 [======================>.......] - ETA: 0s - loss: 0.3358 - accuracy: 0.8774\n",
            "Epoch 85: saving model to models\\keypoint_classifier.hdf5\n",
            "71/71 [==============================] - 0s 4ms/step - loss: 0.3354 - accuracy: 0.8767 - val_loss: 0.2092 - val_accuracy: 0.9287\n",
            "Epoch 86/1000\n",
            "56/71 [======================>.......] - ETA: 0s - loss: 0.3218 - accuracy: 0.8834\n",
            "Epoch 86: saving model to models\\keypoint_classifier.hdf5\n",
            "71/71 [==============================] - 0s 4ms/step - loss: 0.3220 - accuracy: 0.8818 - val_loss: 0.1941 - val_accuracy: 0.9427\n",
            "Epoch 87/1000\n",
            "66/71 [==========================>...] - ETA: 0s - loss: 0.3277 - accuracy: 0.8815\n",
            "Epoch 87: saving model to models\\keypoint_classifier.hdf5\n",
            "71/71 [==============================] - 0s 5ms/step - loss: 0.3257 - accuracy: 0.8816 - val_loss: 0.2164 - val_accuracy: 0.9350\n",
            "Epoch 88/1000\n",
            "57/71 [=======================>......] - ETA: 0s - loss: 0.3216 - accuracy: 0.8784\n",
            "Epoch 88: saving model to models\\keypoint_classifier.hdf5\n",
            "71/71 [==============================] - 0s 5ms/step - loss: 0.3276 - accuracy: 0.8787 - val_loss: 0.2185 - val_accuracy: 0.9363\n",
            "Epoch 89/1000\n",
            "61/71 [========================>.....] - ETA: 0s - loss: 0.3240 - accuracy: 0.8819\n",
            "Epoch 89: saving model to models\\keypoint_classifier.hdf5\n",
            "71/71 [==============================] - 0s 5ms/step - loss: 0.3235 - accuracy: 0.8810 - val_loss: 0.2754 - val_accuracy: 0.9093\n",
            "Epoch 90/1000\n",
            "59/71 [=======================>......] - ETA: 0s - loss: 0.3240 - accuracy: 0.8808\n",
            "Epoch 90: saving model to models\\keypoint_classifier.hdf5\n",
            "71/71 [==============================] - 0s 6ms/step - loss: 0.3218 - accuracy: 0.8812 - val_loss: 0.2821 - val_accuracy: 0.8940\n",
            "Epoch 91/1000\n",
            "57/71 [=======================>......] - ETA: 0s - loss: 0.3193 - accuracy: 0.8817\n",
            "Epoch 91: saving model to models\\keypoint_classifier.hdf5\n",
            "71/71 [==============================] - 0s 5ms/step - loss: 0.3144 - accuracy: 0.8831 - val_loss: 0.2203 - val_accuracy: 0.9370\n",
            "Epoch 92/1000\n",
            "60/71 [========================>.....] - ETA: 0s - loss: 0.3291 - accuracy: 0.8763\n",
            "Epoch 92: saving model to models\\keypoint_classifier.hdf5\n",
            "71/71 [==============================] - 0s 5ms/step - loss: 0.3280 - accuracy: 0.8784 - val_loss: 0.2611 - val_accuracy: 0.9163\n",
            "Epoch 93/1000\n",
            "64/71 [==========================>...] - ETA: 0s - loss: 0.3165 - accuracy: 0.8854\n",
            "Epoch 93: saving model to models\\keypoint_classifier.hdf5\n",
            "71/71 [==============================] - 0s 5ms/step - loss: 0.3183 - accuracy: 0.8847 - val_loss: 0.2928 - val_accuracy: 0.8993\n",
            "Epoch 94/1000\n",
            "61/71 [========================>.....] - ETA: 0s - loss: 0.3021 - accuracy: 0.8918\n",
            "Epoch 94: saving model to models\\keypoint_classifier.hdf5\n",
            "71/71 [==============================] - 0s 5ms/step - loss: 0.3051 - accuracy: 0.8906 - val_loss: 0.2793 - val_accuracy: 0.9047\n",
            "Epoch 95/1000\n",
            "68/71 [===========================>..] - ETA: 0s - loss: 0.3151 - accuracy: 0.8851\n",
            "Epoch 95: saving model to models\\keypoint_classifier.hdf5\n",
            "71/71 [==============================] - 0s 4ms/step - loss: 0.3165 - accuracy: 0.8846 - val_loss: 0.2707 - val_accuracy: 0.9097\n",
            "Epoch 96/1000\n",
            "69/71 [============================>.] - ETA: 0s - loss: 0.3079 - accuracy: 0.8895\n",
            "Epoch 96: saving model to models\\keypoint_classifier.hdf5\n",
            "71/71 [==============================] - 0s 4ms/step - loss: 0.3091 - accuracy: 0.8884 - val_loss: 0.2429 - val_accuracy: 0.9227\n",
            "Epoch 97/1000\n",
            "70/71 [============================>.] - ETA: 0s - loss: 0.3040 - accuracy: 0.8879\n",
            "Epoch 97: saving model to models\\keypoint_classifier.hdf5\n",
            "71/71 [==============================] - 0s 4ms/step - loss: 0.3034 - accuracy: 0.8881 - val_loss: 0.2304 - val_accuracy: 0.9193\n",
            "Epoch 98/1000\n",
            "64/71 [==========================>...] - ETA: 0s - loss: 0.3019 - accuracy: 0.8890\n",
            "Epoch 98: saving model to models\\keypoint_classifier.hdf5\n",
            "71/71 [==============================] - 0s 5ms/step - loss: 0.3026 - accuracy: 0.8898 - val_loss: 0.3294 - val_accuracy: 0.8910\n",
            "Epoch 99/1000\n",
            "66/71 [==========================>...] - ETA: 0s - loss: 0.3054 - accuracy: 0.8864\n",
            "Epoch 99: saving model to models\\keypoint_classifier.hdf5\n",
            "71/71 [==============================] - 0s 4ms/step - loss: 0.3082 - accuracy: 0.8852 - val_loss: 0.3856 - val_accuracy: 0.8660\n",
            "Epoch 100/1000\n",
            "66/71 [==========================>...] - ETA: 0s - loss: 0.3101 - accuracy: 0.8859\n",
            "Epoch 100: saving model to models\\keypoint_classifier.hdf5\n",
            "71/71 [==============================] - 0s 5ms/step - loss: 0.3068 - accuracy: 0.8873 - val_loss: 0.2962 - val_accuracy: 0.9063\n",
            "Epoch 101/1000\n",
            "68/71 [===========================>..] - ETA: 0s - loss: 0.3120 - accuracy: 0.8891\n",
            "Epoch 101: saving model to models\\keypoint_classifier.hdf5\n",
            "71/71 [==============================] - 0s 4ms/step - loss: 0.3116 - accuracy: 0.8899 - val_loss: 0.2024 - val_accuracy: 0.9383\n",
            "Epoch 102/1000\n",
            "68/71 [===========================>..] - ETA: 0s - loss: 0.2979 - accuracy: 0.8864\n",
            "Epoch 102: saving model to models\\keypoint_classifier.hdf5\n",
            "71/71 [==============================] - 0s 4ms/step - loss: 0.3007 - accuracy: 0.8861 - val_loss: 0.2127 - val_accuracy: 0.9337\n",
            "Epoch 103/1000\n",
            "67/71 [===========================>..] - ETA: 0s - loss: 0.3051 - accuracy: 0.8868\n",
            "Epoch 103: saving model to models\\keypoint_classifier.hdf5\n",
            "71/71 [==============================] - 0s 4ms/step - loss: 0.3020 - accuracy: 0.8880 - val_loss: 0.1860 - val_accuracy: 0.9457\n",
            "Epoch 104/1000\n",
            "64/71 [==========================>...] - ETA: 0s - loss: 0.3038 - accuracy: 0.8895\n",
            "Epoch 104: saving model to models\\keypoint_classifier.hdf5\n",
            "71/71 [==============================] - 0s 5ms/step - loss: 0.3084 - accuracy: 0.8871 - val_loss: 0.2608 - val_accuracy: 0.9197\n",
            "Epoch 105/1000\n",
            "69/71 [============================>.] - ETA: 0s - loss: 0.3037 - accuracy: 0.8869\n",
            "Epoch 105: saving model to models\\keypoint_classifier.hdf5\n",
            "71/71 [==============================] - 0s 5ms/step - loss: 0.3033 - accuracy: 0.8869 - val_loss: 0.2060 - val_accuracy: 0.9300\n",
            "Epoch 106/1000\n",
            "70/71 [============================>.] - ETA: 0s - loss: 0.2984 - accuracy: 0.8895\n",
            "Epoch 106: saving model to models\\keypoint_classifier.hdf5\n",
            "71/71 [==============================] - 0s 4ms/step - loss: 0.2995 - accuracy: 0.8890 - val_loss: 0.2092 - val_accuracy: 0.9270\n",
            "Epoch 107/1000\n",
            "69/71 [============================>.] - ETA: 0s - loss: 0.2942 - accuracy: 0.8876\n",
            "Epoch 107: saving model to models\\keypoint_classifier.hdf5\n",
            "71/71 [==============================] - 0s 4ms/step - loss: 0.2947 - accuracy: 0.8880 - val_loss: 0.1860 - val_accuracy: 0.9397\n",
            "Epoch 108/1000\n",
            "69/71 [============================>.] - ETA: 0s - loss: 0.2918 - accuracy: 0.8925\n",
            "Epoch 108: saving model to models\\keypoint_classifier.hdf5\n",
            "71/71 [==============================] - 0s 4ms/step - loss: 0.2926 - accuracy: 0.8924 - val_loss: 0.1805 - val_accuracy: 0.9463\n",
            "Epoch 109/1000\n",
            "71/71 [==============================] - ETA: 0s - loss: 0.2983 - accuracy: 0.8917\n",
            "Epoch 109: saving model to models\\keypoint_classifier.hdf5\n",
            "71/71 [==============================] - 0s 4ms/step - loss: 0.2983 - accuracy: 0.8917 - val_loss: 0.1902 - val_accuracy: 0.9387\n",
            "Epoch 110/1000\n",
            "54/71 [=====================>........] - ETA: 0s - loss: 0.2884 - accuracy: 0.8945\n",
            "Epoch 110: saving model to models\\keypoint_classifier.hdf5\n",
            "71/71 [==============================] - 0s 4ms/step - loss: 0.2907 - accuracy: 0.8943 - val_loss: 0.2511 - val_accuracy: 0.9163\n",
            "Epoch 111/1000\n",
            "69/71 [============================>.] - ETA: 0s - loss: 0.2947 - accuracy: 0.8962\n",
            "Epoch 111: saving model to models\\keypoint_classifier.hdf5\n",
            "71/71 [==============================] - 0s 4ms/step - loss: 0.2955 - accuracy: 0.8958 - val_loss: 0.2639 - val_accuracy: 0.9110\n",
            "Epoch 112/1000\n",
            "70/71 [============================>.] - ETA: 0s - loss: 0.2967 - accuracy: 0.8904\n",
            "Epoch 112: saving model to models\\keypoint_classifier.hdf5\n",
            "71/71 [==============================] - 0s 4ms/step - loss: 0.2978 - accuracy: 0.8900 - val_loss: 0.3073 - val_accuracy: 0.8973\n",
            "Epoch 113/1000\n",
            "54/71 [=====================>........] - ETA: 0s - loss: 0.2978 - accuracy: 0.8912\n",
            "Epoch 113: saving model to models\\keypoint_classifier.hdf5\n",
            "71/71 [==============================] - 0s 4ms/step - loss: 0.2992 - accuracy: 0.8910 - val_loss: 0.2058 - val_accuracy: 0.9343\n",
            "Epoch 114/1000\n",
            "71/71 [==============================] - ETA: 0s - loss: 0.2979 - accuracy: 0.8896\n",
            "Epoch 114: saving model to models\\keypoint_classifier.hdf5\n",
            "71/71 [==============================] - 0s 4ms/step - loss: 0.2979 - accuracy: 0.8896 - val_loss: 0.3342 - val_accuracy: 0.8787\n",
            "Epoch 115/1000\n",
            "71/71 [==============================] - ETA: 0s - loss: 0.2938 - accuracy: 0.8900\n",
            "Epoch 115: saving model to models\\keypoint_classifier.hdf5\n",
            "71/71 [==============================] - 0s 5ms/step - loss: 0.2938 - accuracy: 0.8900 - val_loss: 0.2028 - val_accuracy: 0.9417\n",
            "Epoch 116/1000\n",
            "65/71 [==========================>...] - ETA: 0s - loss: 0.2957 - accuracy: 0.8901\n",
            "Epoch 116: saving model to models\\keypoint_classifier.hdf5\n",
            "71/71 [==============================] - 0s 5ms/step - loss: 0.2959 - accuracy: 0.8913 - val_loss: 0.2912 - val_accuracy: 0.9010\n",
            "Epoch 117/1000\n",
            "54/71 [=====================>........] - ETA: 0s - loss: 0.2903 - accuracy: 0.8954\n",
            "Epoch 117: saving model to models\\keypoint_classifier.hdf5\n",
            "71/71 [==============================] - 0s 4ms/step - loss: 0.2921 - accuracy: 0.8937 - val_loss: 0.1829 - val_accuracy: 0.9413\n",
            "Epoch 118/1000\n",
            "66/71 [==========================>...] - ETA: 0s - loss: 0.2931 - accuracy: 0.8933\n",
            "Epoch 118: saving model to models\\keypoint_classifier.hdf5\n",
            "71/71 [==============================] - 0s 4ms/step - loss: 0.2929 - accuracy: 0.8927 - val_loss: 0.2439 - val_accuracy: 0.9120\n",
            "Epoch 119/1000\n",
            "68/71 [===========================>..] - ETA: 0s - loss: 0.2991 - accuracy: 0.8905\n",
            "Epoch 119: saving model to models\\keypoint_classifier.hdf5\n",
            "71/71 [==============================] - 0s 4ms/step - loss: 0.2977 - accuracy: 0.8912 - val_loss: 0.2531 - val_accuracy: 0.9133\n",
            "Epoch 120/1000\n",
            "70/71 [============================>.] - ETA: 0s - loss: 0.2898 - accuracy: 0.8925\n",
            "Epoch 120: saving model to models\\keypoint_classifier.hdf5\n",
            "71/71 [==============================] - 0s 4ms/step - loss: 0.2899 - accuracy: 0.8924 - val_loss: 0.2198 - val_accuracy: 0.9253\n",
            "Epoch 121/1000\n",
            "71/71 [==============================] - ETA: 0s - loss: 0.2891 - accuracy: 0.8938\n",
            "Epoch 121: saving model to models\\keypoint_classifier.hdf5\n",
            "71/71 [==============================] - 0s 4ms/step - loss: 0.2891 - accuracy: 0.8938 - val_loss: 0.2091 - val_accuracy: 0.9283\n",
            "Epoch 122/1000\n",
            "70/71 [============================>.] - ETA: 0s - loss: 0.2968 - accuracy: 0.8906\n",
            "Epoch 122: saving model to models\\keypoint_classifier.hdf5\n",
            "71/71 [==============================] - 0s 4ms/step - loss: 0.2970 - accuracy: 0.8907 - val_loss: 0.2194 - val_accuracy: 0.9280\n",
            "Epoch 123/1000\n",
            "71/71 [==============================] - ETA: 0s - loss: 0.2912 - accuracy: 0.8951\n",
            "Epoch 123: saving model to models\\keypoint_classifier.hdf5\n",
            "71/71 [==============================] - 0s 4ms/step - loss: 0.2912 - accuracy: 0.8951 - val_loss: 0.2925 - val_accuracy: 0.9053\n",
            "Epoch 124/1000\n",
            "54/71 [=====================>........] - ETA: 0s - loss: 0.2892 - accuracy: 0.8958\n",
            "Epoch 124: saving model to models\\keypoint_classifier.hdf5\n",
            "71/71 [==============================] - 0s 4ms/step - loss: 0.2930 - accuracy: 0.8934 - val_loss: 0.2514 - val_accuracy: 0.9130\n",
            "Epoch 125/1000\n",
            "59/71 [=======================>......] - ETA: 0s - loss: 0.2975 - accuracy: 0.8900\n",
            "Epoch 125: saving model to models\\keypoint_classifier.hdf5\n",
            "71/71 [==============================] - 0s 5ms/step - loss: 0.2920 - accuracy: 0.8914 - val_loss: 0.2061 - val_accuracy: 0.9397\n",
            "Epoch 126/1000\n",
            "69/71 [============================>.] - ETA: 0s - loss: 0.2737 - accuracy: 0.8992\n",
            "Epoch 126: saving model to models\\keypoint_classifier.hdf5\n",
            "71/71 [==============================] - 0s 4ms/step - loss: 0.2772 - accuracy: 0.8981 - val_loss: 0.1991 - val_accuracy: 0.9393\n",
            "Epoch 127/1000\n",
            "55/71 [======================>.......] - ETA: 0s - loss: 0.2759 - accuracy: 0.8984\n",
            "Epoch 127: saving model to models\\keypoint_classifier.hdf5\n",
            "71/71 [==============================] - 0s 4ms/step - loss: 0.2806 - accuracy: 0.8960 - val_loss: 0.4157 - val_accuracy: 0.8553\n",
            "Epoch 128/1000\n",
            "53/71 [=====================>........] - ETA: 0s - loss: 0.2945 - accuracy: 0.8931\n",
            "Epoch 128: saving model to models\\keypoint_classifier.hdf5\n",
            "71/71 [==============================] - 0s 4ms/step - loss: 0.2931 - accuracy: 0.8929 - val_loss: 0.2939 - val_accuracy: 0.8963\n",
            "Epoch 129/1000\n",
            "70/71 [============================>.] - ETA: 0s - loss: 0.2801 - accuracy: 0.8983\n",
            "Epoch 129: saving model to models\\keypoint_classifier.hdf5\n",
            "71/71 [==============================] - 0s 4ms/step - loss: 0.2809 - accuracy: 0.8980 - val_loss: 0.1842 - val_accuracy: 0.9370\n",
            "Epoch 130/1000\n",
            "56/71 [======================>.......] - ETA: 0s - loss: 0.2844 - accuracy: 0.8962\n",
            "Epoch 130: saving model to models\\keypoint_classifier.hdf5\n",
            "71/71 [==============================] - 0s 5ms/step - loss: 0.2915 - accuracy: 0.8942 - val_loss: 0.1722 - val_accuracy: 0.9520\n",
            "Epoch 131/1000\n",
            "63/71 [=========================>....] - ETA: 0s - loss: 0.2766 - accuracy: 0.8943\n",
            "Epoch 131: saving model to models\\keypoint_classifier.hdf5\n",
            "71/71 [==============================] - 0s 5ms/step - loss: 0.2780 - accuracy: 0.8948 - val_loss: 0.2350 - val_accuracy: 0.9180\n",
            "Epoch 132/1000\n",
            "59/71 [=======================>......] - ETA: 0s - loss: 0.2833 - accuracy: 0.8974\n",
            "Epoch 132: saving model to models\\keypoint_classifier.hdf5\n",
            "71/71 [==============================] - 0s 5ms/step - loss: 0.2839 - accuracy: 0.8978 - val_loss: 0.2295 - val_accuracy: 0.9223\n",
            "Epoch 133/1000\n",
            "54/71 [=====================>........] - ETA: 0s - loss: 0.2887 - accuracy: 0.8916\n",
            "Epoch 133: saving model to models\\keypoint_classifier.hdf5\n",
            "71/71 [==============================] - 0s 4ms/step - loss: 0.2870 - accuracy: 0.8936 - val_loss: 0.3136 - val_accuracy: 0.8910\n",
            "Epoch 134/1000\n",
            "69/71 [============================>.] - ETA: 0s - loss: 0.2799 - accuracy: 0.8987\n",
            "Epoch 134: saving model to models\\keypoint_classifier.hdf5\n",
            "71/71 [==============================] - 0s 4ms/step - loss: 0.2795 - accuracy: 0.8984 - val_loss: 0.2216 - val_accuracy: 0.9277\n",
            "Epoch 135/1000\n",
            "71/71 [==============================] - ETA: 0s - loss: 0.2750 - accuracy: 0.9003\n",
            "Epoch 135: saving model to models\\keypoint_classifier.hdf5\n",
            "71/71 [==============================] - 0s 4ms/step - loss: 0.2750 - accuracy: 0.9003 - val_loss: 0.2015 - val_accuracy: 0.9333\n",
            "Epoch 136/1000\n",
            "67/71 [===========================>..] - ETA: 0s - loss: 0.2793 - accuracy: 0.8998\n",
            "Epoch 136: saving model to models\\keypoint_classifier.hdf5\n",
            "71/71 [==============================] - 0s 5ms/step - loss: 0.2796 - accuracy: 0.8996 - val_loss: 0.2289 - val_accuracy: 0.9273\n",
            "Epoch 137/1000\n",
            "67/71 [===========================>..] - ETA: 0s - loss: 0.2746 - accuracy: 0.8984\n",
            "Epoch 137: saving model to models\\keypoint_classifier.hdf5\n",
            "71/71 [==============================] - 0s 5ms/step - loss: 0.2792 - accuracy: 0.8972 - val_loss: 0.2035 - val_accuracy: 0.9350\n",
            "Epoch 138/1000\n",
            "54/71 [=====================>........] - ETA: 0s - loss: 0.2702 - accuracy: 0.9015\n",
            "Epoch 138: saving model to models\\keypoint_classifier.hdf5\n",
            "71/71 [==============================] - 0s 4ms/step - loss: 0.2704 - accuracy: 0.9019 - val_loss: 0.2176 - val_accuracy: 0.9357\n",
            "Epoch 139/1000\n",
            "54/71 [=====================>........] - ETA: 0s - loss: 0.2890 - accuracy: 0.8928\n",
            "Epoch 139: saving model to models\\keypoint_classifier.hdf5\n",
            "71/71 [==============================] - 0s 4ms/step - loss: 0.2849 - accuracy: 0.8921 - val_loss: 0.1965 - val_accuracy: 0.9410\n",
            "Epoch 140/1000\n",
            "71/71 [==============================] - ETA: 0s - loss: 0.2660 - accuracy: 0.9020\n",
            "Epoch 140: saving model to models\\keypoint_classifier.hdf5\n",
            "71/71 [==============================] - 0s 4ms/step - loss: 0.2660 - accuracy: 0.9020 - val_loss: 0.2055 - val_accuracy: 0.9313\n",
            "Epoch 141/1000\n",
            "54/71 [=====================>........] - ETA: 0s - loss: 0.2892 - accuracy: 0.8951\n",
            "Epoch 141: saving model to models\\keypoint_classifier.hdf5\n",
            "71/71 [==============================] - 0s 4ms/step - loss: 0.2901 - accuracy: 0.8928 - val_loss: 0.2012 - val_accuracy: 0.9350\n",
            "Epoch 142/1000\n",
            "60/71 [========================>.....] - ETA: 0s - loss: 0.2793 - accuracy: 0.8983\n",
            "Epoch 142: saving model to models\\keypoint_classifier.hdf5\n",
            "71/71 [==============================] - 0s 5ms/step - loss: 0.2806 - accuracy: 0.8972 - val_loss: 0.3773 - val_accuracy: 0.8623\n",
            "Epoch 143/1000\n",
            "55/71 [======================>.......] - ETA: 0s - loss: 0.2669 - accuracy: 0.9051\n",
            "Epoch 143: saving model to models\\keypoint_classifier.hdf5\n",
            "71/71 [==============================] - 0s 4ms/step - loss: 0.2759 - accuracy: 0.9010 - val_loss: 0.3505 - val_accuracy: 0.8700\n",
            "Epoch 144/1000\n",
            "54/71 [=====================>........] - ETA: 0s - loss: 0.2750 - accuracy: 0.9022\n",
            "Epoch 144: saving model to models\\keypoint_classifier.hdf5\n",
            "71/71 [==============================] - 0s 4ms/step - loss: 0.2771 - accuracy: 0.9019 - val_loss: 0.1990 - val_accuracy: 0.9357\n",
            "Epoch 145/1000\n",
            "53/71 [=====================>........] - ETA: 0s - loss: 0.2777 - accuracy: 0.8986\n",
            "Epoch 145: saving model to models\\keypoint_classifier.hdf5\n",
            "71/71 [==============================] - 0s 4ms/step - loss: 0.2724 - accuracy: 0.9006 - val_loss: 0.2431 - val_accuracy: 0.9163\n",
            "Epoch 146/1000\n",
            "71/71 [==============================] - ETA: 0s - loss: 0.2774 - accuracy: 0.8951\n",
            "Epoch 146: saving model to models\\keypoint_classifier.hdf5\n",
            "71/71 [==============================] - 0s 4ms/step - loss: 0.2774 - accuracy: 0.8951 - val_loss: 0.2211 - val_accuracy: 0.9227\n",
            "Epoch 147/1000\n",
            "70/71 [============================>.] - ETA: 0s - loss: 0.2727 - accuracy: 0.9006\n",
            "Epoch 147: saving model to models\\keypoint_classifier.hdf5\n",
            "71/71 [==============================] - 0s 4ms/step - loss: 0.2732 - accuracy: 0.9004 - val_loss: 0.2565 - val_accuracy: 0.9103\n",
            "Epoch 148/1000\n",
            "54/71 [=====================>........] - ETA: 0s - loss: 0.2750 - accuracy: 0.8968\n",
            "Epoch 148: saving model to models\\keypoint_classifier.hdf5\n",
            "71/71 [==============================] - 0s 4ms/step - loss: 0.2782 - accuracy: 0.8971 - val_loss: 0.1885 - val_accuracy: 0.9337\n",
            "Epoch 149/1000\n",
            "71/71 [==============================] - ETA: 0s - loss: 0.2825 - accuracy: 0.8977\n",
            "Epoch 149: saving model to models\\keypoint_classifier.hdf5\n",
            "71/71 [==============================] - 0s 4ms/step - loss: 0.2825 - accuracy: 0.8977 - val_loss: 0.2092 - val_accuracy: 0.9253\n",
            "Epoch 150/1000\n",
            "54/71 [=====================>........] - ETA: 0s - loss: 0.2732 - accuracy: 0.9023\n",
            "Epoch 150: saving model to models\\keypoint_classifier.hdf5\n",
            "71/71 [==============================] - 0s 4ms/step - loss: 0.2734 - accuracy: 0.9011 - val_loss: 0.2185 - val_accuracy: 0.9313\n",
            "Epoch 151/1000\n",
            "71/71 [==============================] - ETA: 0s - loss: 0.2588 - accuracy: 0.9013\n",
            "Epoch 151: saving model to models\\keypoint_classifier.hdf5\n",
            "71/71 [==============================] - 0s 5ms/step - loss: 0.2588 - accuracy: 0.9013 - val_loss: 0.2575 - val_accuracy: 0.9150\n",
            "Epoch 152/1000\n",
            "66/71 [==========================>...] - ETA: 0s - loss: 0.2726 - accuracy: 0.8994\n",
            "Epoch 152: saving model to models\\keypoint_classifier.hdf5\n",
            "71/71 [==============================] - 0s 5ms/step - loss: 0.2710 - accuracy: 0.9000 - val_loss: 0.2231 - val_accuracy: 0.9237\n",
            "Epoch 153/1000\n",
            "54/71 [=====================>........] - ETA: 0s - loss: 0.2644 - accuracy: 0.9028\n",
            "Epoch 153: saving model to models\\keypoint_classifier.hdf5\n",
            "71/71 [==============================] - 0s 4ms/step - loss: 0.2714 - accuracy: 0.9003 - val_loss: 0.2093 - val_accuracy: 0.9330\n",
            "Epoch 154/1000\n",
            "71/71 [==============================] - ETA: 0s - loss: 0.2660 - accuracy: 0.8999\n",
            "Epoch 154: saving model to models\\keypoint_classifier.hdf5\n",
            "71/71 [==============================] - 0s 4ms/step - loss: 0.2660 - accuracy: 0.8999 - val_loss: 0.2361 - val_accuracy: 0.9200\n",
            "Epoch 155/1000\n",
            "54/71 [=====================>........] - ETA: 0s - loss: 0.2599 - accuracy: 0.9002\n",
            "Epoch 155: saving model to models\\keypoint_classifier.hdf5\n",
            "71/71 [==============================] - 0s 4ms/step - loss: 0.2623 - accuracy: 0.9007 - val_loss: 0.2804 - val_accuracy: 0.9000\n",
            "Epoch 156/1000\n",
            "71/71 [==============================] - ETA: 0s - loss: 0.2598 - accuracy: 0.9039\n",
            "Epoch 156: saving model to models\\keypoint_classifier.hdf5\n",
            "71/71 [==============================] - 0s 4ms/step - loss: 0.2598 - accuracy: 0.9039 - val_loss: 0.3521 - val_accuracy: 0.8847\n",
            "Epoch 157/1000\n",
            "54/71 [=====================>........] - ETA: 0s - loss: 0.2718 - accuracy: 0.8995\n",
            "Epoch 157: saving model to models\\keypoint_classifier.hdf5\n",
            "71/71 [==============================] - 0s 4ms/step - loss: 0.2738 - accuracy: 0.8991 - val_loss: 0.2899 - val_accuracy: 0.9060\n",
            "Epoch 158/1000\n",
            "54/71 [=====================>........] - ETA: 0s - loss: 0.2626 - accuracy: 0.9031\n",
            "Epoch 158: saving model to models\\keypoint_classifier.hdf5\n",
            "71/71 [==============================] - 0s 4ms/step - loss: 0.2617 - accuracy: 0.9019 - val_loss: 0.2219 - val_accuracy: 0.9243\n",
            "Epoch 159/1000\n",
            "54/71 [=====================>........] - ETA: 0s - loss: 0.2605 - accuracy: 0.9039\n",
            "Epoch 159: saving model to models\\keypoint_classifier.hdf5\n",
            "71/71 [==============================] - 0s 4ms/step - loss: 0.2718 - accuracy: 0.8993 - val_loss: 0.2037 - val_accuracy: 0.9377\n",
            "Epoch 160/1000\n",
            "54/71 [=====================>........] - ETA: 0s - loss: 0.2676 - accuracy: 0.9015\n",
            "Epoch 160: saving model to models\\keypoint_classifier.hdf5\n",
            "71/71 [==============================] - 0s 4ms/step - loss: 0.2705 - accuracy: 0.9006 - val_loss: 0.2984 - val_accuracy: 0.8887\n",
            "Epoch 160: early stopping\n"
          ]
        },
        {
          "data": {
            "text/plain": [
              "<keras.src.callbacks.History at 0x1ab18047a90>"
            ]
          },
          "execution_count": 15,
          "metadata": {},
          "output_type": "execute_result"
        }
      ],
      "source": [
        "model.fit(\n",
        "    X_train,\n",
        "    y_train,\n",
        "    epochs=1000,\n",
        "    batch_size=128,\n",
        "    validation_data=(X_test, y_test),\n",
        "    callbacks=[cp_callback, es_callback]\n",
        ")"
      ]
    },
    {
      "cell_type": "code",
      "execution_count": 16,
      "metadata": {
        "colab": {
          "base_uri": "https://localhost:8080/"
        },
        "id": "pxvb2Y299hE3",
        "outputId": "59eb3185-2e37-4b9e-bc9d-ab1b8ac29b7f"
      },
      "outputs": [
        {
          "name": "stdout",
          "output_type": "stream",
          "text": [
            " 1/24 [>.............................] - ETA: 0s - loss: 0.2516 - accuracy: 0.8906"
          ]
        },
        {
          "name": "stdout",
          "output_type": "stream",
          "text": [
            "24/24 [==============================] - 0s 3ms/step - loss: 0.2984 - accuracy: 0.8887\n"
          ]
        }
      ],
      "source": [
        "# Model evaluation\n",
        "val_loss, val_acc = model.evaluate(X_test, y_test, batch_size=128)"
      ]
    },
    {
      "cell_type": "code",
      "execution_count": 17,
      "metadata": {
        "id": "RBkmDeUW9hE4"
      },
      "outputs": [],
      "source": [
        "# Loading the saved model\n",
        "model = tf.keras.models.load_model(model_save_path)"
      ]
    },
    {
      "cell_type": "code",
      "execution_count": 18,
      "metadata": {
        "colab": {
          "base_uri": "https://localhost:8080/"
        },
        "id": "tFz9Tb0I9hE4",
        "outputId": "1c3b3528-54ae-4ee2-ab04-77429211cbef"
      },
      "outputs": [
        {
          "name": "stdout",
          "output_type": "stream",
          "text": [
            "1/1 [==============================] - 0s 153ms/step\n",
            "[1.7569699e-12 1.0000000e+00 2.3137863e-17 2.2527264e-23 8.4813595e-15\n",
            " 2.6280535e-08 2.7577687e-18 3.9625339e-09 1.0358218e-14 1.5743983e-14\n",
            " 3.7568858e-13 1.7156748e-15]\n",
            "1\n"
          ]
        }
      ],
      "source": [
        "# Inference test\n",
        "predict_result = model.predict(np.array([X_test[0]]))\n",
        "print(np.squeeze(predict_result))\n",
        "print(np.argmax(np.squeeze(predict_result)))"
      ]
    },
    {
      "cell_type": "markdown",
      "metadata": {},
      "source": [
        "# Integrate with secondary model"
      ]
    },
    {
      "cell_type": "code",
      "execution_count": 19,
      "metadata": {},
      "outputs": [],
      "source": [
        "# Determine the index of 'stop' and 'palm'\n",
        "label_stop = LABELS.index('stop')\n",
        "label_palm = LABELS.index('palm')\n",
        "\n",
        "# Filter out samples for 'stop' and 'palm'\n",
        "secondary_X = X_dataset_preprocessed[np.logical_or(y_dataset == label_stop, y_dataset == label_palm)]\n",
        "secondary_y = y_dataset[np.logical_or(y_dataset == label_stop, y_dataset == label_palm)]\n",
        "\n",
        "# Create binary labels (0 and 1) for 'stop' and 'palm'\n",
        "secondary_y = np.where(secondary_y == label_stop, 0, 1)  # Set 'stop' to 0, 'palm' to 1\n",
        "\n",
        "# Split secondary data sets\n",
        "X_train_secondary, X_test_secondary, y_train_secondary, y_test_secondary = train_test_split(\n",
        "    secondary_X, secondary_y, train_size=0.75, random_state=RANDOM_SEED\n",
        ")"
      ]
    },
    {
      "cell_type": "code",
      "execution_count": 20,
      "metadata": {},
      "outputs": [
        {
          "name": "stdout",
          "output_type": "stream",
          "text": [
            "Epoch 1/100\n",
            "47/47 [==============================] - 1s 7ms/step - loss: 0.6908 - accuracy: 0.5293 - val_loss: 0.6834 - val_accuracy: 0.6000\n",
            "Epoch 2/100\n",
            "47/47 [==============================] - 0s 3ms/step - loss: 0.6858 - accuracy: 0.5653 - val_loss: 0.6758 - val_accuracy: 0.6660\n",
            "Epoch 3/100\n",
            "47/47 [==============================] - 0s 2ms/step - loss: 0.6754 - accuracy: 0.5973 - val_loss: 0.6639 - val_accuracy: 0.6640\n",
            "Epoch 4/100\n",
            "47/47 [==============================] - 0s 2ms/step - loss: 0.6606 - accuracy: 0.6513 - val_loss: 0.6453 - val_accuracy: 0.6860\n",
            "Epoch 5/100\n",
            "47/47 [==============================] - 0s 2ms/step - loss: 0.6463 - accuracy: 0.6667 - val_loss: 0.6291 - val_accuracy: 0.6800\n",
            "Epoch 6/100\n",
            "47/47 [==============================] - 0s 2ms/step - loss: 0.6361 - accuracy: 0.6587 - val_loss: 0.6124 - val_accuracy: 0.7080\n",
            "Epoch 7/100\n",
            "47/47 [==============================] - 0s 2ms/step - loss: 0.6314 - accuracy: 0.6467 - val_loss: 0.6121 - val_accuracy: 0.6760\n",
            "Epoch 8/100\n",
            "47/47 [==============================] - 0s 2ms/step - loss: 0.6161 - accuracy: 0.6720 - val_loss: 0.6074 - val_accuracy: 0.6620\n",
            "Epoch 9/100\n",
            "47/47 [==============================] - 0s 2ms/step - loss: 0.6089 - accuracy: 0.6787 - val_loss: 0.5823 - val_accuracy: 0.7200\n",
            "Epoch 10/100\n",
            "47/47 [==============================] - 0s 2ms/step - loss: 0.5933 - accuracy: 0.6920 - val_loss: 0.5752 - val_accuracy: 0.7220\n",
            "Epoch 11/100\n",
            "47/47 [==============================] - 0s 2ms/step - loss: 0.5847 - accuracy: 0.6993 - val_loss: 0.5700 - val_accuracy: 0.7100\n",
            "Epoch 12/100\n",
            "47/47 [==============================] - 0s 2ms/step - loss: 0.5810 - accuracy: 0.7120 - val_loss: 0.5527 - val_accuracy: 0.7460\n",
            "Epoch 13/100\n",
            "47/47 [==============================] - 0s 2ms/step - loss: 0.5709 - accuracy: 0.7187 - val_loss: 0.5537 - val_accuracy: 0.7080\n",
            "Epoch 14/100\n",
            "47/47 [==============================] - 0s 2ms/step - loss: 0.5638 - accuracy: 0.7220 - val_loss: 0.5443 - val_accuracy: 0.7180\n",
            "Epoch 15/100\n",
            "47/47 [==============================] - 0s 2ms/step - loss: 0.5523 - accuracy: 0.7200 - val_loss: 0.5368 - val_accuracy: 0.7360\n",
            "Epoch 16/100\n",
            "47/47 [==============================] - 0s 2ms/step - loss: 0.5427 - accuracy: 0.7313 - val_loss: 0.5175 - val_accuracy: 0.7780\n",
            "Epoch 17/100\n",
            "47/47 [==============================] - 0s 2ms/step - loss: 0.5420 - accuracy: 0.7240 - val_loss: 0.5166 - val_accuracy: 0.7400\n",
            "Epoch 18/100\n",
            "47/47 [==============================] - 0s 2ms/step - loss: 0.5289 - accuracy: 0.7447 - val_loss: 0.5025 - val_accuracy: 0.7720\n",
            "Epoch 19/100\n",
            "47/47 [==============================] - 0s 2ms/step - loss: 0.5263 - accuracy: 0.7507 - val_loss: 0.4953 - val_accuracy: 0.7580\n",
            "Epoch 20/100\n",
            "47/47 [==============================] - 0s 2ms/step - loss: 0.5086 - accuracy: 0.7653 - val_loss: 0.4830 - val_accuracy: 0.7760\n",
            "Epoch 21/100\n",
            "47/47 [==============================] - 0s 2ms/step - loss: 0.5034 - accuracy: 0.7667 - val_loss: 0.4955 - val_accuracy: 0.7380\n",
            "Epoch 22/100\n",
            "47/47 [==============================] - 0s 2ms/step - loss: 0.4909 - accuracy: 0.7713 - val_loss: 0.4732 - val_accuracy: 0.7740\n",
            "Epoch 23/100\n",
            "47/47 [==============================] - 0s 2ms/step - loss: 0.4842 - accuracy: 0.7753 - val_loss: 0.4798 - val_accuracy: 0.7720\n",
            "Epoch 24/100\n",
            "47/47 [==============================] - 0s 2ms/step - loss: 0.4685 - accuracy: 0.7967 - val_loss: 0.4426 - val_accuracy: 0.8160\n",
            "Epoch 25/100\n",
            "47/47 [==============================] - 0s 2ms/step - loss: 0.4710 - accuracy: 0.7840 - val_loss: 0.4422 - val_accuracy: 0.8120\n",
            "Epoch 26/100\n",
            "47/47 [==============================] - 0s 2ms/step - loss: 0.4505 - accuracy: 0.8007 - val_loss: 0.4458 - val_accuracy: 0.7800\n",
            "Epoch 27/100\n",
            "47/47 [==============================] - 0s 2ms/step - loss: 0.4433 - accuracy: 0.8067 - val_loss: 0.4189 - val_accuracy: 0.8140\n",
            "Epoch 28/100\n",
            "47/47 [==============================] - 0s 2ms/step - loss: 0.4340 - accuracy: 0.8140 - val_loss: 0.4111 - val_accuracy: 0.8260\n",
            "Epoch 29/100\n",
            "47/47 [==============================] - 0s 2ms/step - loss: 0.4377 - accuracy: 0.8067 - val_loss: 0.4123 - val_accuracy: 0.8040\n",
            "Epoch 30/100\n",
            "47/47 [==============================] - 0s 2ms/step - loss: 0.4205 - accuracy: 0.8153 - val_loss: 0.3813 - val_accuracy: 0.8380\n",
            "Epoch 31/100\n",
            "47/47 [==============================] - 0s 2ms/step - loss: 0.4004 - accuracy: 0.8353 - val_loss: 0.3802 - val_accuracy: 0.8280\n",
            "Epoch 32/100\n",
            "47/47 [==============================] - 0s 2ms/step - loss: 0.3929 - accuracy: 0.8440 - val_loss: 0.3613 - val_accuracy: 0.8500\n",
            "Epoch 33/100\n",
            "47/47 [==============================] - 0s 2ms/step - loss: 0.4125 - accuracy: 0.8153 - val_loss: 0.3638 - val_accuracy: 0.8520\n",
            "Epoch 34/100\n",
            "47/47 [==============================] - 0s 2ms/step - loss: 0.3813 - accuracy: 0.8407 - val_loss: 0.3535 - val_accuracy: 0.8580\n",
            "Epoch 35/100\n",
            "47/47 [==============================] - 0s 2ms/step - loss: 0.3947 - accuracy: 0.8247 - val_loss: 0.3718 - val_accuracy: 0.8460\n",
            "Epoch 36/100\n",
            "47/47 [==============================] - 0s 2ms/step - loss: 0.3794 - accuracy: 0.8420 - val_loss: 0.3527 - val_accuracy: 0.8580\n",
            "Epoch 37/100\n",
            "47/47 [==============================] - 0s 2ms/step - loss: 0.3650 - accuracy: 0.8453 - val_loss: 0.3562 - val_accuracy: 0.8600\n",
            "Epoch 38/100\n",
            "47/47 [==============================] - 0s 2ms/step - loss: 0.3537 - accuracy: 0.8593 - val_loss: 0.3209 - val_accuracy: 0.8780\n",
            "Epoch 39/100\n",
            "47/47 [==============================] - 0s 2ms/step - loss: 0.3949 - accuracy: 0.8273 - val_loss: 0.3717 - val_accuracy: 0.8220\n",
            "Epoch 40/100\n",
            "47/47 [==============================] - 0s 2ms/step - loss: 0.3299 - accuracy: 0.8787 - val_loss: 0.3143 - val_accuracy: 0.8760\n",
            "Epoch 41/100\n",
            "47/47 [==============================] - 0s 2ms/step - loss: 0.3268 - accuracy: 0.8813 - val_loss: 0.3501 - val_accuracy: 0.8480\n",
            "Epoch 42/100\n",
            "47/47 [==============================] - 0s 2ms/step - loss: 0.3837 - accuracy: 0.8247 - val_loss: 0.3331 - val_accuracy: 0.8680\n",
            "Epoch 43/100\n",
            "47/47 [==============================] - 0s 2ms/step - loss: 0.3392 - accuracy: 0.8553 - val_loss: 0.3090 - val_accuracy: 0.8720\n",
            "Epoch 44/100\n",
            "47/47 [==============================] - 0s 3ms/step - loss: 0.3105 - accuracy: 0.8840 - val_loss: 0.2883 - val_accuracy: 0.9040\n",
            "Epoch 45/100\n",
            "47/47 [==============================] - 0s 2ms/step - loss: 0.3173 - accuracy: 0.8827 - val_loss: 0.3599 - val_accuracy: 0.8320\n",
            "Epoch 46/100\n",
            "47/47 [==============================] - 0s 2ms/step - loss: 0.3048 - accuracy: 0.8827 - val_loss: 0.3049 - val_accuracy: 0.8820\n",
            "Epoch 47/100\n",
            "47/47 [==============================] - 0s 2ms/step - loss: 0.2949 - accuracy: 0.8947 - val_loss: 0.2835 - val_accuracy: 0.9000\n",
            "Epoch 48/100\n",
            "47/47 [==============================] - 0s 2ms/step - loss: 0.2885 - accuracy: 0.8953 - val_loss: 0.2623 - val_accuracy: 0.9140\n",
            "Epoch 49/100\n",
            "47/47 [==============================] - 0s 2ms/step - loss: 0.2841 - accuracy: 0.8913 - val_loss: 0.2480 - val_accuracy: 0.9240\n",
            "Epoch 50/100\n",
            "47/47 [==============================] - 0s 2ms/step - loss: 0.3142 - accuracy: 0.8660 - val_loss: 0.3299 - val_accuracy: 0.8480\n",
            "Epoch 51/100\n",
            "47/47 [==============================] - 0s 2ms/step - loss: 0.3105 - accuracy: 0.8707 - val_loss: 0.2596 - val_accuracy: 0.9080\n",
            "Epoch 52/100\n",
            "47/47 [==============================] - 0s 2ms/step - loss: 0.2732 - accuracy: 0.9000 - val_loss: 0.2553 - val_accuracy: 0.9080\n",
            "Epoch 53/100\n",
            "47/47 [==============================] - 0s 2ms/step - loss: 0.2566 - accuracy: 0.9153 - val_loss: 0.2382 - val_accuracy: 0.9160\n",
            "Epoch 54/100\n",
            "47/47 [==============================] - 0s 2ms/step - loss: 0.2480 - accuracy: 0.9180 - val_loss: 0.2258 - val_accuracy: 0.9280\n",
            "Epoch 55/100\n",
            "47/47 [==============================] - 0s 2ms/step - loss: 0.2535 - accuracy: 0.9173 - val_loss: 0.2220 - val_accuracy: 0.9420\n",
            "Epoch 56/100\n",
            "47/47 [==============================] - 0s 2ms/step - loss: 0.2404 - accuracy: 0.9200 - val_loss: 0.2415 - val_accuracy: 0.9200\n",
            "Epoch 57/100\n",
            "47/47 [==============================] - 0s 2ms/step - loss: 0.2617 - accuracy: 0.8960 - val_loss: 0.2119 - val_accuracy: 0.9380\n",
            "Epoch 58/100\n",
            "47/47 [==============================] - 0s 2ms/step - loss: 0.2344 - accuracy: 0.9187 - val_loss: 0.2540 - val_accuracy: 0.9160\n",
            "Epoch 59/100\n",
            "47/47 [==============================] - 0s 2ms/step - loss: 0.2959 - accuracy: 0.8667 - val_loss: 0.2164 - val_accuracy: 0.9320\n",
            "Epoch 60/100\n",
            "47/47 [==============================] - 0s 2ms/step - loss: 0.2476 - accuracy: 0.9113 - val_loss: 0.2263 - val_accuracy: 0.9280\n",
            "Epoch 61/100\n",
            "47/47 [==============================] - 0s 2ms/step - loss: 0.2393 - accuracy: 0.9133 - val_loss: 0.1964 - val_accuracy: 0.9480\n",
            "Epoch 62/100\n",
            "47/47 [==============================] - 0s 2ms/step - loss: 0.2376 - accuracy: 0.9120 - val_loss: 0.2113 - val_accuracy: 0.9400\n",
            "Epoch 63/100\n",
            "47/47 [==============================] - 0s 2ms/step - loss: 0.2084 - accuracy: 0.9300 - val_loss: 0.2184 - val_accuracy: 0.9200\n",
            "Epoch 64/100\n",
            "47/47 [==============================] - 0s 2ms/step - loss: 0.2093 - accuracy: 0.9353 - val_loss: 0.1957 - val_accuracy: 0.9440\n",
            "Epoch 65/100\n",
            "47/47 [==============================] - 0s 2ms/step - loss: 0.1967 - accuracy: 0.9387 - val_loss: 0.1811 - val_accuracy: 0.9440\n",
            "Epoch 66/100\n",
            "47/47 [==============================] - 0s 2ms/step - loss: 0.2083 - accuracy: 0.9340 - val_loss: 0.3100 - val_accuracy: 0.8660\n",
            "Epoch 67/100\n",
            "47/47 [==============================] - 0s 2ms/step - loss: 0.2127 - accuracy: 0.9267 - val_loss: 0.1860 - val_accuracy: 0.9540\n",
            "Epoch 68/100\n",
            "47/47 [==============================] - 0s 2ms/step - loss: 0.1980 - accuracy: 0.9380 - val_loss: 0.2377 - val_accuracy: 0.9080\n",
            "Epoch 69/100\n",
            "47/47 [==============================] - 0s 2ms/step - loss: 0.2225 - accuracy: 0.9147 - val_loss: 0.1780 - val_accuracy: 0.9420\n",
            "Epoch 70/100\n",
            "47/47 [==============================] - 0s 2ms/step - loss: 0.1911 - accuracy: 0.9393 - val_loss: 0.1932 - val_accuracy: 0.9300\n",
            "Epoch 71/100\n",
            "47/47 [==============================] - 0s 2ms/step - loss: 0.2000 - accuracy: 0.9347 - val_loss: 0.1851 - val_accuracy: 0.9440\n",
            "Epoch 72/100\n",
            "47/47 [==============================] - 0s 2ms/step - loss: 0.1939 - accuracy: 0.9280 - val_loss: 0.2207 - val_accuracy: 0.9280\n",
            "Epoch 73/100\n",
            "47/47 [==============================] - 0s 2ms/step - loss: 0.1884 - accuracy: 0.9340 - val_loss: 0.2742 - val_accuracy: 0.8720\n",
            "Epoch 74/100\n",
            "47/47 [==============================] - 0s 2ms/step - loss: 0.1958 - accuracy: 0.9287 - val_loss: 0.1692 - val_accuracy: 0.9400\n",
            "Epoch 75/100\n",
            "47/47 [==============================] - 0s 2ms/step - loss: 0.1968 - accuracy: 0.9227 - val_loss: 0.2556 - val_accuracy: 0.8880\n",
            "Epoch 76/100\n",
            "47/47 [==============================] - 0s 2ms/step - loss: 0.2733 - accuracy: 0.8840 - val_loss: 0.1893 - val_accuracy: 0.9500\n",
            "Epoch 77/100\n",
            "47/47 [==============================] - 0s 2ms/step - loss: 0.1806 - accuracy: 0.9420 - val_loss: 0.1534 - val_accuracy: 0.9640\n",
            "Epoch 78/100\n",
            "47/47 [==============================] - 0s 2ms/step - loss: 0.1936 - accuracy: 0.9320 - val_loss: 0.1671 - val_accuracy: 0.9440\n",
            "Epoch 79/100\n",
            "47/47 [==============================] - 0s 2ms/step - loss: 0.1757 - accuracy: 0.9433 - val_loss: 0.1804 - val_accuracy: 0.9480\n",
            "Epoch 80/100\n",
            "47/47 [==============================] - 0s 2ms/step - loss: 0.1658 - accuracy: 0.9500 - val_loss: 0.1873 - val_accuracy: 0.9280\n",
            "Epoch 81/100\n",
            "47/47 [==============================] - 0s 2ms/step - loss: 0.1774 - accuracy: 0.9380 - val_loss: 0.1622 - val_accuracy: 0.9500\n",
            "Epoch 82/100\n",
            "47/47 [==============================] - 0s 2ms/step - loss: 0.1598 - accuracy: 0.9553 - val_loss: 0.1889 - val_accuracy: 0.9420\n",
            "Epoch 83/100\n",
            "47/47 [==============================] - 0s 2ms/step - loss: 0.1905 - accuracy: 0.9300 - val_loss: 0.1450 - val_accuracy: 0.9620\n",
            "Epoch 84/100\n",
            "47/47 [==============================] - 0s 2ms/step - loss: 0.1581 - accuracy: 0.9533 - val_loss: 0.1541 - val_accuracy: 0.9640\n",
            "Epoch 85/100\n",
            "47/47 [==============================] - 0s 2ms/step - loss: 0.1622 - accuracy: 0.9453 - val_loss: 0.1533 - val_accuracy: 0.9620\n",
            "Epoch 86/100\n",
            "47/47 [==============================] - 0s 2ms/step - loss: 0.1771 - accuracy: 0.9387 - val_loss: 0.1838 - val_accuracy: 0.9400\n",
            "Epoch 87/100\n",
            "47/47 [==============================] - 0s 2ms/step - loss: 0.1604 - accuracy: 0.9433 - val_loss: 0.1778 - val_accuracy: 0.9340\n",
            "Epoch 88/100\n",
            "47/47 [==============================] - 0s 2ms/step - loss: 0.1589 - accuracy: 0.9540 - val_loss: 0.1436 - val_accuracy: 0.9640\n",
            "Epoch 89/100\n",
            "47/47 [==============================] - 0s 2ms/step - loss: 0.1835 - accuracy: 0.9273 - val_loss: 0.1621 - val_accuracy: 0.9480\n",
            "Epoch 90/100\n",
            "47/47 [==============================] - 0s 2ms/step - loss: 0.1580 - accuracy: 0.9467 - val_loss: 0.1355 - val_accuracy: 0.9640\n",
            "Epoch 91/100\n",
            "47/47 [==============================] - 0s 2ms/step - loss: 0.1754 - accuracy: 0.9353 - val_loss: 0.1922 - val_accuracy: 0.9260\n",
            "Epoch 92/100\n",
            "47/47 [==============================] - 0s 2ms/step - loss: 0.1447 - accuracy: 0.9553 - val_loss: 0.2144 - val_accuracy: 0.8940\n",
            "Epoch 93/100\n",
            "47/47 [==============================] - 0s 3ms/step - loss: 0.2186 - accuracy: 0.9140 - val_loss: 0.1385 - val_accuracy: 0.9600\n",
            "Epoch 94/100\n",
            "47/47 [==============================] - 0s 2ms/step - loss: 0.1529 - accuracy: 0.9427 - val_loss: 0.1621 - val_accuracy: 0.9380\n",
            "Epoch 95/100\n",
            "47/47 [==============================] - 0s 2ms/step - loss: 0.1828 - accuracy: 0.9327 - val_loss: 0.1396 - val_accuracy: 0.9540\n",
            "Epoch 96/100\n",
            "47/47 [==============================] - 0s 2ms/step - loss: 0.1723 - accuracy: 0.9387 - val_loss: 0.1574 - val_accuracy: 0.9420\n",
            "Epoch 97/100\n",
            "47/47 [==============================] - 0s 2ms/step - loss: 0.1564 - accuracy: 0.9460 - val_loss: 0.1624 - val_accuracy: 0.9500\n",
            "Epoch 98/100\n",
            "47/47 [==============================] - 0s 2ms/step - loss: 0.1527 - accuracy: 0.9440 - val_loss: 0.2098 - val_accuracy: 0.9200\n",
            "Epoch 99/100\n",
            "47/47 [==============================] - 0s 2ms/step - loss: 0.1484 - accuracy: 0.9487 - val_loss: 0.1299 - val_accuracy: 0.9640\n",
            "Epoch 100/100\n",
            "47/47 [==============================] - 0s 2ms/step - loss: 0.1390 - accuracy: 0.9560 - val_loss: 0.1396 - val_accuracy: 0.9620\n"
          ]
        },
        {
          "data": {
            "text/plain": [
              "<keras.src.callbacks.History at 0x1ab1c4e8110>"
            ]
          },
          "execution_count": 20,
          "metadata": {},
          "output_type": "execute_result"
        }
      ],
      "source": [
        "# Build a secondary classifier\n",
        "secondary_model = tf.keras.models.Sequential([\n",
        "    tf.keras.layers.Dense(64, activation='relu', input_shape=(X_train_secondary.shape[1],)),\n",
        "    tf.keras.layers.Dense(32, activation='relu'),\n",
        "    tf.keras.layers.Dense(2, activation='softmax')  # Binary classification\n",
        "])\n",
        "\n",
        "# Compile secondary model\n",
        "secondary_model.compile(optimizer='adam', loss='sparse_categorical_crossentropy', metrics=['accuracy'])\n",
        "\n",
        "# Train a secondary model\n",
        "secondary_model.fit(X_train_secondary, y_train_secondary, epochs=100, batch_size=32, validation_data=(X_test_secondary, y_test_secondary))\n"
      ]
    },
    {
      "cell_type": "code",
      "execution_count": 21,
      "metadata": {},
      "outputs": [],
      "source": [
        "def integrated_prediction(primary_model, secondary_model, input_data, threshold=0.5):\n",
        "    primary_pred = primary_model.predict(input_data)\n",
        "    primary_label = np.argmax(primary_pred, axis=1)\n",
        "    \n",
        "    # For samples predicted as 'stop' or 'palm' by the primary model, use the secondary model for judgment.\n",
        "    secondary_indices = np.logical_or(primary_label == label_stop, primary_label == label_palm)\n",
        "    secondary_pred = secondary_model.predict(input_data[secondary_indices])\n",
        "    secondary_label = np.argmax(secondary_pred, axis=1)\n",
        "\n",
        "    # Update predictions from the main model\n",
        "    primary_label[secondary_indices] = np.where(secondary_label == 0, label_stop, label_palm)\n",
        "    \n",
        "    return primary_label"
      ]
    },
    {
      "cell_type": "markdown",
      "metadata": {
        "id": "S3U4yNWx9hE4"
      },
      "source": [
        "# Confusion matrix"
      ]
    },
    {
      "cell_type": "code",
      "execution_count": 22,
      "metadata": {
        "colab": {
          "base_uri": "https://localhost:8080/",
          "height": 582
        },
        "id": "AP1V6SCk9hE5",
        "outputId": "08e41a80-7a4a-4619-8125-ecc371368d19"
      },
      "outputs": [
        {
          "name": "stdout",
          "output_type": "stream",
          "text": [
            "94/94 [==============================] - 0s 1ms/step\n",
            "13/13 [==============================] - 0s 1ms/step\n"
          ]
        },
        {
          "data": {
            "image/png": "[encoded data removed]",
            "text/plain": [
              "<Figure size 700x600 with 2 Axes>"
            ]
          },
          "metadata": {},
          "output_type": "display_data"
        },
        {
          "name": "stdout",
          "output_type": "stream",
          "text": [
            "Classification Report\n",
            "              precision    recall  f1-score   support\n",
            "\n",
            "           0       0.93      0.78      0.85       250\n",
            "           1       0.99      0.96      0.97       248\n",
            "           2       0.94      0.97      0.96       254\n",
            "           3       0.81      0.96      0.88       259\n",
            "           4       0.96      0.81      0.88       255\n",
            "           5       0.72      1.00      0.84       261\n",
            "           6       0.87      0.78      0.82       239\n",
            "           7       0.94      0.80      0.86       235\n",
            "           8       0.98      0.98      0.98       254\n",
            "           9       0.82      0.98      0.90       236\n",
            "          10       0.96      0.77      0.86       264\n",
            "          11       0.99      0.98      0.98       245\n",
            "\n",
            "    accuracy                           0.90      3000\n",
            "   macro avg       0.91      0.90      0.90      3000\n",
            "weighted avg       0.91      0.90      0.90      3000\n",
            "\n"
          ]
        }
      ],
      "source": [
        "import pandas as pd\n",
        "import seaborn as sns\n",
        "import matplotlib.pyplot as plt\n",
        "from sklearn.metrics import confusion_matrix, classification_report\n",
        "\n",
        "def print_confusion_matrix(y_true, y_pred, report=True):\n",
        "    labels = sorted(list(set(y_true)))\n",
        "    cmx_data = confusion_matrix(y_true, y_pred, labels=labels)\n",
        "    \n",
        "    df_cmx = pd.DataFrame(cmx_data, index=labels, columns=labels)\n",
        " \n",
        "    fig, ax = plt.subplots(figsize=(7, 6))\n",
        "    sns.heatmap(df_cmx, annot=True, fmt='g' ,square=False)\n",
        "    ax.set_ylim(len(set(y_true)), 0)\n",
        "    plt.show()\n",
        "    \n",
        "    if report:\n",
        "        print('Classification Report')\n",
        "        print(classification_report(y_test, y_pred))\n",
        "\n",
        "# Y_pred = model.predict(X_test)\n",
        "# y_pred = np.argmax(Y_pred, axis=1)\n",
        "\n",
        "y_pred = integrated_prediction(model, secondary_model, X_test)  # Integrated prediction\n",
        "\n",
        "print_confusion_matrix(y_test, y_pred)"
      ]
    },
    {
      "cell_type": "markdown",
      "metadata": {
        "id": "FNP6aqzc9hE5"
      },
      "source": [
        "# Convert to model for Tensorflow-Lite"
      ]
    },
    {
      "cell_type": "code",
      "execution_count": 23,
      "metadata": {
        "id": "ODjnYyld9hE6"
      },
      "outputs": [
        {
          "name": "stderr",
          "output_type": "stream",
          "text": [
            "c:\\Users\\Ian\\git\\553.806_Capstone_HandGesture\\.venv\\Lib\\site-packages\\keras\\src\\engine\\training.py:3103: UserWarning: You are saving your model as an HDF5 file via `model.save()`. This file format is considered legacy. We recommend using instead the native Keras format, e.g. `model.save('my_model.keras')`.\n",
            "  saving_api.save_model(\n"
          ]
        }
      ],
      "source": [
        "# Save as a model dedicated to inference\n",
        "model.save(model_save_path, include_optimizer=False)"
      ]
    },
    {
      "cell_type": "code",
      "execution_count": 24,
      "metadata": {
        "colab": {
          "base_uri": "https://localhost:8080/"
        },
        "id": "zRfuK8Y59hE6",
        "outputId": "a4ca585c-b5d5-4244-8291-8674063209bb"
      },
      "outputs": [
        {
          "name": "stdout",
          "output_type": "stream",
          "text": [
            "INFO:tensorflow:Assets written to: C:\\Users\\Ian\\AppData\\Local\\Temp\\tmpfq3saxqq\\assets\n"
          ]
        },
        {
          "name": "stderr",
          "output_type": "stream",
          "text": [
            "INFO:tensorflow:Assets written to: C:\\Users\\Ian\\AppData\\Local\\Temp\\tmpfq3saxqq\\assets\n"
          ]
        },
        {
          "data": {
            "text/plain": [
              "40248"
            ]
          },
          "execution_count": 24,
          "metadata": {},
          "output_type": "execute_result"
        }
      ],
      "source": [
        "# Transform model (quantization)\n",
        "\n",
        "converter = tf.lite.TFLiteConverter.from_keras_model(model)\n",
        "converter.optimizations = [tf.lite.Optimize.DEFAULT]\n",
        "tflite_quantized_model = converter.convert()\n",
        "\n",
        "open(tflite_save_path, 'wb').write(tflite_quantized_model)"
      ]
    },
    {
      "cell_type": "code",
      "execution_count": 25,
      "metadata": {},
      "outputs": [],
      "source": [
        "# Save secondary model\n",
        "\n",
        "# secondary_model.save(model_save_path, include_optimizer=False)"
      ]
    },
    {
      "cell_type": "code",
      "execution_count": 26,
      "metadata": {},
      "outputs": [
        {
          "name": "stdout",
          "output_type": "stream",
          "text": [
            "INFO:tensorflow:Assets written to: C:\\Users\\Ian\\AppData\\Local\\Temp\\tmpuh__bspo\\assets\n"
          ]
        },
        {
          "name": "stderr",
          "output_type": "stream",
          "text": [
            "INFO:tensorflow:Assets written to: C:\\Users\\Ian\\AppData\\Local\\Temp\\tmpuh__bspo\\assets\n"
          ]
        },
        {
          "data": {
            "text/plain": [
              "8984"
            ]
          },
          "execution_count": 26,
          "metadata": {},
          "output_type": "execute_result"
        }
      ],
      "source": [
        "# Transform model (quantization)\n",
        "\n",
        "converter = tf.lite.TFLiteConverter.from_keras_model(secondary_model)\n",
        "converter.optimizations = [tf.lite.Optimize.DEFAULT]\n",
        "tflite_quantized_model = converter.convert()\n",
        "\n",
        "open(tflite_save_path2, 'wb').write(tflite_quantized_model)"
      ]
    },
    {
      "cell_type": "markdown",
      "metadata": {
        "id": "CHBPBXdx9hE6"
      },
      "source": [
        "# Inference test"
      ]
    },
    {
      "cell_type": "code",
      "execution_count": 27,
      "metadata": {
        "id": "mGAzLocO9hE7"
      },
      "outputs": [],
      "source": [
        "interpreter = tf.lite.Interpreter(model_path=tflite_save_path)\n",
        "interpreter.allocate_tensors()"
      ]
    },
    {
      "cell_type": "code",
      "execution_count": 28,
      "metadata": {
        "id": "oQuDK8YS9hE7"
      },
      "outputs": [],
      "source": [
        "# Get I / O tensor\n",
        "input_details = interpreter.get_input_details()\n",
        "output_details = interpreter.get_output_details()"
      ]
    },
    {
      "cell_type": "code",
      "execution_count": 29,
      "metadata": {},
      "outputs": [
        {
          "data": {
            "text/plain": [
              "()"
            ]
          },
          "execution_count": 29,
          "metadata": {},
          "output_type": "execute_result"
        }
      ],
      "source": [
        "X_test[0][0].shape"
      ]
    },
    {
      "cell_type": "code",
      "execution_count": 30,
      "metadata": {},
      "outputs": [
        {
          "ename": "AttributeError",
          "evalue": "module 'numpy' has no attribute 'flo'",
          "output_type": "error",
          "traceback": [
            "\u001b[1;31m---------------------------------------------------------------------------\u001b[0m",
            "\u001b[1;31mAttributeError\u001b[0m                            Traceback (most recent call last)",
            "Cell \u001b[1;32mIn[30], line 1\u001b[0m\n\u001b[1;32m----> 1\u001b[0m np\u001b[38;5;241m.\u001b[39marray([X_test[\u001b[38;5;241m0\u001b[39m]])\u001b[38;5;241m.\u001b[39mastype(\u001b[43mnp\u001b[49m\u001b[38;5;241;43m.\u001b[39;49m\u001b[43mflo\u001b[49m)\n",
            "File \u001b[1;32mc:\\Users\\Ian\\git\\553.806_Capstone_HandGesture\\.venv\\Lib\\site-packages\\numpy\\__init__.py:347\u001b[0m, in \u001b[0;36m__getattr__\u001b[1;34m(attr)\u001b[0m\n\u001b[0;32m    344\u001b[0m     \u001b[38;5;124m\"\u001b[39m\u001b[38;5;124mRemoved in NumPy 1.25.0\u001b[39m\u001b[38;5;124m\"\u001b[39m\n\u001b[0;32m    345\u001b[0m     \u001b[38;5;28;01mraise\u001b[39;00m \u001b[38;5;167;01mRuntimeError\u001b[39;00m(\u001b[38;5;124m\"\u001b[39m\u001b[38;5;124mTester was removed in NumPy 1.25.\u001b[39m\u001b[38;5;124m\"\u001b[39m)\n\u001b[1;32m--> 347\u001b[0m \u001b[38;5;28;01mraise\u001b[39;00m \u001b[38;5;167;01mAttributeError\u001b[39;00m(\u001b[38;5;124m\"\u001b[39m\u001b[38;5;124mmodule \u001b[39m\u001b[38;5;132;01m{!r}\u001b[39;00m\u001b[38;5;124m has no attribute \u001b[39m\u001b[38;5;124m\"\u001b[39m\n\u001b[0;32m    348\u001b[0m                      \u001b[38;5;124m\"\u001b[39m\u001b[38;5;132;01m{!r}\u001b[39;00m\u001b[38;5;124m\"\u001b[39m\u001b[38;5;241m.\u001b[39mformat(\u001b[38;5;18m__name__\u001b[39m, attr))\n",
            "\u001b[1;31mAttributeError\u001b[0m: module 'numpy' has no attribute 'flo'"
          ]
        }
      ],
      "source": [
        "np.array([X_test[0]]).astype(np.flo)"
      ]
    },
    {
      "cell_type": "code",
      "execution_count": null,
      "metadata": {
        "id": "2_ixAf_l9hE7"
      },
      "outputs": [],
      "source": [
        "interpreter.set_tensor(input_details[0]['index'], np.array([X_test[0]]))"
      ]
    },
    {
      "cell_type": "code",
      "execution_count": null,
      "metadata": {
        "colab": {
          "base_uri": "https://localhost:8080/"
        },
        "id": "s4FoAnuc9hE7",
        "outputId": "91f18257-8d8b-4ef3-c558-e9b5f94fabbf",
        "scrolled": true
      },
      "outputs": [
        {
          "name": "stdout",
          "output_type": "stream",
          "text": [
            "CPU times: total: 0 ns\n",
            "Wall time: 2 ms\n"
          ]
        }
      ],
      "source": [
        "%%time\n",
        "# Inference implementation\n",
        "interpreter.invoke()\n",
        "tflite_results = interpreter.get_tensor(output_details[0]['index'])"
      ]
    },
    {
      "cell_type": "code",
      "execution_count": null,
      "metadata": {
        "colab": {
          "base_uri": "https://localhost:8080/"
        },
        "id": "vONjp19J9hE8",
        "outputId": "77205e24-fd00-42c4-f7b6-e06e527c2cba"
      },
      "outputs": [
        {
          "name": "stdout",
          "output_type": "stream",
          "text": [
            "[1.3130225e-10 9.9999988e-01 1.5021509e-16 5.4812503e-20 4.6601127e-15\n",
            " 6.1134841e-08 3.5118028e-16 2.0307404e-08 1.4411691e-13 9.2801001e-12\n",
            " 6.0290120e-11 1.2075810e-12]\n",
            "1\n"
          ]
        }
      ],
      "source": [
        "print(np.squeeze(tflite_results))\n",
        "print(np.argmax(np.squeeze(tflite_results)))"
      ]
    }
  ],
  "metadata": {
    "accelerator": "GPU",
    "colab": {
      "collapsed_sections": [],
      "name": "keypoint_classification_EN.ipynb",
      "provenance": [],
      "toc_visible": true
    },
    "kernelspec": {
      "display_name": "Python 3",
      "language": "python",
      "name": "python3"
    },
    "language_info": {
      "codemirror_mode": {
        "name": "ipython",
        "version": 3
      },
      "file_extension": ".py",
      "mimetype": "text/x-python",
      "name": "python",
      "nbconvert_exporter": "python",
      "pygments_lexer": "ipython3",
      "version": "3.11.8"
    }
  },
  "nbformat": 4,
  "nbformat_minor": 0
}
