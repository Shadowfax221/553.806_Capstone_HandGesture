{
  "cells": [
    {
      "cell_type": "code",
      "execution_count": 1,
      "metadata": {
        "id": "igMyGnjE9hEp"
      },
      "outputs": [
        {
          "name": "stdout",
          "output_type": "stream",
          "text": [
            "WARNING:tensorflow:From c:\\Users\\Ian\\git\\553.806_Capstone_HandGesture\\.venv\\Lib\\site-packages\\keras\\src\\losses.py:2976: The name tf.losses.sparse_softmax_cross_entropy is deprecated. Please use tf.compat.v1.losses.sparse_softmax_cross_entropy instead.\n",
            "\n"
          ]
        }
      ],
      "source": [
        "import csv\n",
        "\n",
        "import numpy as np\n",
        "import tensorflow as tf\n",
        "from sklearn.model_selection import train_test_split\n",
        "\n",
        "RANDOM_SEED = 42"
      ]
    },
    {
      "cell_type": "code",
      "execution_count": 2,
      "metadata": {
        "id": "9NvZP2Zn9hEy"
      },
      "outputs": [],
      "source": [
        "dataset = 'datasets/keypoint1000.csv'\n",
        "model_save_path = 'models/keypoint_classifier.hdf5'\n",
        "tflite_save_path = 'models/keypoint_classifier.tflite'"
      ]
    },
    {
      "cell_type": "markdown",
      "metadata": {
        "id": "s5oMH7x19hEz"
      },
      "source": [
        "# Set number of classes"
      ]
    },
    {
      "cell_type": "code",
      "execution_count": 3,
      "metadata": {
        "id": "du4kodXL9hEz"
      },
      "outputs": [],
      "source": [
        "NUM_CLASSES = 12\n",
        "LABELS = ['call', 'dislike', 'fist', 'like', 'mute', 'ok', 'one', 'palm', 'peace', 'rock', 'stop', 'stop_inverted'] "
      ]
    },
    {
      "cell_type": "markdown",
      "metadata": {
        "id": "XjnL0uso9hEz"
      },
      "source": [
        "# Dataset reading"
      ]
    },
    {
      "cell_type": "code",
      "execution_count": 4,
      "metadata": {},
      "outputs": [],
      "source": [
        "def apply_rotation(label, points):\n",
        "    num_points = 21\n",
        "    point_0 = points[0]\n",
        "    point_8 = points[8]\n",
        "\n",
        "    if label == 'dislike' or label == 'like':\n",
        "        return points  # No rotation\n",
        "    elif label == 'call':\n",
        "        # Rotate to be parallel with X-axis\n",
        "        line = point_8 - point_0\n",
        "        angle = np.arctan2(line[2], line[0])  # Consider the X-Z plane\n",
        "        rotation_matrix = np.array([\n",
        "            [1, 0, 0],\n",
        "            [0, np.cos(angle), -np.sin(angle)],\n",
        "            [0, np.sin(angle), np.cos(angle)]\n",
        "        ])\n",
        "    else:\n",
        "        # Rotate to be parallel with Y-axis\n",
        "        line = point_8 - point_0\n",
        "        angle = np.arctan2(line[2], line[1])  # Consider the Y-Z plane\n",
        "        rotation_matrix = np.array([\n",
        "            [np.cos(angle), 0, np.sin(angle)],\n",
        "            [0, 1, 0],\n",
        "            [-np.sin(angle), 0, np.cos(angle)]\n",
        "        ])\n",
        "    \n",
        "    # Apply rotation\n",
        "    for i in range(num_points):\n",
        "        points[i] = np.dot(rotation_matrix, points[i])\n",
        "\n",
        "    return points\n"
      ]
    },
    {
      "cell_type": "code",
      "execution_count": 5,
      "metadata": {},
      "outputs": [],
      "source": [
        "def pre_process_dataset(X_dataset, y_dataset):\n",
        "    # Reshape to 3D\n",
        "    num_points = 21\n",
        "    reshaped_dataset = X_dataset.reshape(-1, num_points, 3)\n",
        "\n",
        "    # Shift coordinates\n",
        "    for i in range(len(reshaped_dataset)):\n",
        "        base_point = reshaped_dataset[i, 0]  # ID:0\n",
        "        for j in range(num_points):\n",
        "            reshaped_dataset[i, j] -= base_point\n",
        "\n",
        "    # Rotation\n",
        "    for i in range(len(reshaped_dataset)):\n",
        "        label = LABELS[y_dataset[i]]\n",
        "        reshaped_dataset[i] = apply_rotation(label, reshaped_dataset[i])\n",
        "\n",
        "    # Flatten\n",
        "    flattened_dataset = reshaped_dataset.reshape(-1, num_points * 3)\n",
        "\n",
        "    # Normalization\n",
        "    max_abs_value = np.max(np.abs(flattened_dataset))\n",
        "    normalized_dataset = flattened_dataset / max_abs_value\n",
        "\n",
        "    return normalized_dataset"
      ]
    },
    {
      "cell_type": "code",
      "execution_count": 6,
      "metadata": {
        "id": "QT5ZqtEz9hE0"
      },
      "outputs": [],
      "source": [
        "X_dataset = np.loadtxt(dataset, delimiter=',', dtype='float32', usecols=list(range(1, (21 * 3) + 1)))"
      ]
    },
    {
      "cell_type": "code",
      "execution_count": 7,
      "metadata": {
        "id": "QmoKFsp49hE0"
      },
      "outputs": [],
      "source": [
        "y_dataset = np.loadtxt(dataset, delimiter=',', dtype='int32', usecols=(0))"
      ]
    },
    {
      "cell_type": "code",
      "execution_count": 8,
      "metadata": {},
      "outputs": [],
      "source": [
        "X_dataset_preprocessed = pre_process_dataset(X_dataset, y_dataset)"
      ]
    },
    {
      "cell_type": "code",
      "execution_count": 9,
      "metadata": {
        "id": "xQU7JTZ_9hE0"
      },
      "outputs": [],
      "source": [
        "X_train, X_test, y_train, y_test = train_test_split(X_dataset_preprocessed, y_dataset, train_size=0.75, random_state=RANDOM_SEED)"
      ]
    },
    {
      "cell_type": "markdown",
      "metadata": {
        "id": "mxK_lETT9hE0"
      },
      "source": [
        "# Model building"
      ]
    },
    {
      "cell_type": "code",
      "execution_count": 10,
      "metadata": {
        "id": "vHBmUf1t9hE1"
      },
      "outputs": [
        {
          "name": "stdout",
          "output_type": "stream",
          "text": [
            "WARNING:tensorflow:From c:\\Users\\Ian\\git\\553.806_Capstone_HandGesture\\.venv\\Lib\\site-packages\\keras\\src\\backend.py:1398: The name tf.executing_eagerly_outside_functions is deprecated. Please use tf.compat.v1.executing_eagerly_outside_functions instead.\n",
            "\n"
          ]
        }
      ],
      "source": [
        "model = tf.keras.models.Sequential([\n",
        "    tf.keras.layers.Input((21 * 3, )),\n",
        "    tf.keras.layers.Dropout(0.1),\n",
        "    tf.keras.layers.Dense(128, activation='relu'),  # Increased units\n",
        "    tf.keras.layers.BatchNormalization(),  # Added Batch Normalization\n",
        "    tf.keras.layers.Dropout(0.1),  # Adjusted dropout rate\n",
        "    tf.keras.layers.Dense(128, activation='relu'),  # Increased units\n",
        "    tf.keras.layers.BatchNormalization(),  # Added Batch Normalization\n",
        "    tf.keras.layers.Dense(64, activation='relu'),  # Increased units\n",
        "    tf.keras.layers.Dense(NUM_CLASSES, activation='softmax')\n",
        "])"
      ]
    },
    {
      "cell_type": "code",
      "execution_count": 11,
      "metadata": {
        "colab": {
          "base_uri": "https://localhost:8080/"
        },
        "id": "ypqky9tc9hE1",
        "outputId": "5db082bb-30e3-4110-bf63-a1ee777ecd46"
      },
      "outputs": [
        {
          "name": "stdout",
          "output_type": "stream",
          "text": [
            "Model: \"sequential\"\n",
            "_________________________________________________________________\n",
            " Layer (type)                Output Shape              Param #   \n",
            "=================================================================\n",
            " dropout (Dropout)           (None, 63)                0         \n",
            "                                                                 \n",
            " dense (Dense)               (None, 128)               8192      \n",
            "                                                                 \n",
            " batch_normalization (Batch  (None, 128)               512       \n",
            " Normalization)                                                  \n",
            "                                                                 \n",
            " dropout_1 (Dropout)         (None, 128)               0         \n",
            "                                                                 \n",
            " dense_1 (Dense)             (None, 128)               16512     \n",
            "                                                                 \n",
            " batch_normalization_1 (Bat  (None, 128)               512       \n",
            " chNormalization)                                                \n",
            "                                                                 \n",
            " dense_2 (Dense)             (None, 64)                8256      \n",
            "                                                                 \n",
            " dense_3 (Dense)             (None, 12)                780       \n",
            "                                                                 \n",
            "=================================================================\n",
            "Total params: 34764 (135.80 KB)\n",
            "Trainable params: 34252 (133.80 KB)\n",
            "Non-trainable params: 512 (2.00 KB)\n",
            "_________________________________________________________________\n"
          ]
        }
      ],
      "source": [
        "model.summary()  # tf.keras.utils.plot_model(model, show_shapes=True)"
      ]
    },
    {
      "cell_type": "code",
      "execution_count": 12,
      "metadata": {
        "id": "MbMjOflQ9hE1"
      },
      "outputs": [],
      "source": [
        "# Model checkpoint callback\n",
        "cp_callback = tf.keras.callbacks.ModelCheckpoint(\n",
        "    model_save_path, verbose=1, save_weights_only=False)\n",
        "# Callback for early stopping\n",
        "es_callback = tf.keras.callbacks.EarlyStopping(patience=30, verbose=1)"
      ]
    },
    {
      "cell_type": "code",
      "execution_count": 13,
      "metadata": {
        "id": "c3Dac0M_9hE2"
      },
      "outputs": [
        {
          "name": "stdout",
          "output_type": "stream",
          "text": [
            "WARNING:tensorflow:From c:\\Users\\Ian\\git\\553.806_Capstone_HandGesture\\.venv\\Lib\\site-packages\\keras\\src\\optimizers\\__init__.py:309: The name tf.train.Optimizer is deprecated. Please use tf.compat.v1.train.Optimizer instead.\n",
            "\n"
          ]
        }
      ],
      "source": [
        "# Model compilation\n",
        "model.compile(\n",
        "    optimizer='adam',\n",
        "    loss='sparse_categorical_crossentropy',\n",
        "    metrics=['accuracy']\n",
        ")"
      ]
    },
    {
      "cell_type": "markdown",
      "metadata": {
        "id": "7XI0j1Iu9hE2"
      },
      "source": [
        "# Model training"
      ]
    },
    {
      "cell_type": "code",
      "execution_count": 14,
      "metadata": {},
      "outputs": [
        {
          "data": {
            "text/plain": [
              "<keras.src.callbacks.EarlyStopping at 0x19b53b977d0>"
            ]
          },
          "execution_count": 14,
          "metadata": {},
          "output_type": "execute_result"
        }
      ],
      "source": [
        "es_callback"
      ]
    },
    {
      "cell_type": "code",
      "execution_count": 15,
      "metadata": {
        "colab": {
          "base_uri": "https://localhost:8080/"
        },
        "id": "WirBl-JE9hE3",
        "outputId": "71b30ca2-8294-4d9d-8aa2-800d90d399de",
        "scrolled": true
      },
      "outputs": [
        {
          "name": "stdout",
          "output_type": "stream",
          "text": [
            "Epoch 1/1000\n",
            "WARNING:tensorflow:From c:\\Users\\Ian\\git\\553.806_Capstone_HandGesture\\.venv\\Lib\\site-packages\\keras\\src\\utils\\tf_utils.py:492: The name tf.ragged.RaggedTensorValue is deprecated. Please use tf.compat.v1.ragged.RaggedTensorValue instead.\n",
            "\n",
            "WARNING:tensorflow:From c:\\Users\\Ian\\git\\553.806_Capstone_HandGesture\\.venv\\Lib\\site-packages\\keras\\src\\engine\\base_layer_utils.py:384: The name tf.executing_eagerly_outside_functions is deprecated. Please use tf.compat.v1.executing_eagerly_outside_functions instead.\n",
            "\n",
            "54/71 [=====================>........] - ETA: 0s - loss: 2.3763 - accuracy: 0.1929\n",
            "Epoch 1: saving model to models\\keypoint_classifier.hdf5\n",
            "71/71 [==============================] - 3s 9ms/step - loss: 2.2969 - accuracy: 0.2167 - val_loss: 2.3761 - val_accuracy: 0.1877\n",
            "Epoch 2/1000\n",
            "37/71 [==============>...............] - ETA: 0s - loss: 1.8817 - accuracy: 0.3342"
          ]
        },
        {
          "name": "stderr",
          "output_type": "stream",
          "text": [
            "c:\\Users\\Ian\\git\\553.806_Capstone_HandGesture\\.venv\\Lib\\site-packages\\keras\\src\\engine\\training.py:3103: UserWarning: You are saving your model as an HDF5 file via `model.save()`. This file format is considered legacy. We recommend using instead the native Keras format, e.g. `model.save('my_model.keras')`.\n",
            "  saving_api.save_model(\n"
          ]
        },
        {
          "name": "stdout",
          "output_type": "stream",
          "text": [
            "55/71 [======================>.......] - ETA: 0s - loss: 1.8370 - accuracy: 0.3516\n",
            "Epoch 2: saving model to models\\keypoint_classifier.hdf5\n",
            "71/71 [==============================] - 0s 4ms/step - loss: 1.8088 - accuracy: 0.3651 - val_loss: 2.1159 - val_accuracy: 0.2127\n",
            "Epoch 3/1000\n",
            "55/71 [======================>.......] - ETA: 0s - loss: 1.6127 - accuracy: 0.4314\n",
            "Epoch 3: saving model to models\\keypoint_classifier.hdf5\n",
            "71/71 [==============================] - 0s 4ms/step - loss: 1.6042 - accuracy: 0.4344 - val_loss: 1.8176 - val_accuracy: 0.3363\n",
            "Epoch 4/1000\n",
            "55/71 [======================>.......] - ETA: 0s - loss: 1.5104 - accuracy: 0.4699\n",
            "Epoch 4: saving model to models\\keypoint_classifier.hdf5\n",
            "71/71 [==============================] - 0s 4ms/step - loss: 1.5045 - accuracy: 0.4717 - val_loss: 1.4650 - val_accuracy: 0.5213\n",
            "Epoch 5/1000\n",
            "56/71 [======================>.......] - ETA: 0s - loss: 1.4107 - accuracy: 0.5086\n",
            "Epoch 5: saving model to models\\keypoint_classifier.hdf5\n",
            "71/71 [==============================] - 0s 4ms/step - loss: 1.4049 - accuracy: 0.5107 - val_loss: 1.3209 - val_accuracy: 0.5760\n",
            "Epoch 6/1000\n",
            "71/71 [==============================] - ETA: 0s - loss: 1.3198 - accuracy: 0.5411\n",
            "Epoch 6: saving model to models\\keypoint_classifier.hdf5\n",
            "71/71 [==============================] - 0s 4ms/step - loss: 1.3198 - accuracy: 0.5411 - val_loss: 1.1318 - val_accuracy: 0.6123\n",
            "Epoch 7/1000\n",
            "70/71 [============================>.] - ETA: 0s - loss: 1.2218 - accuracy: 0.5750\n",
            "Epoch 7: saving model to models\\keypoint_classifier.hdf5\n",
            "71/71 [==============================] - 0s 4ms/step - loss: 1.2222 - accuracy: 0.5752 - val_loss: 1.0346 - val_accuracy: 0.6703\n",
            "Epoch 8/1000\n",
            "54/71 [=====================>........] - ETA: 0s - loss: 1.1447 - accuracy: 0.5955\n",
            "Epoch 8: saving model to models\\keypoint_classifier.hdf5\n",
            "71/71 [==============================] - 0s 4ms/step - loss: 1.1296 - accuracy: 0.6003 - val_loss: 0.7774 - val_accuracy: 0.7507\n",
            "Epoch 9/1000\n",
            "55/71 [======================>.......] - ETA: 0s - loss: 1.0547 - accuracy: 0.6342\n",
            "Epoch 9: saving model to models\\keypoint_classifier.hdf5\n",
            "71/71 [==============================] - 0s 4ms/step - loss: 1.0440 - accuracy: 0.6372 - val_loss: 0.7256 - val_accuracy: 0.7780\n",
            "Epoch 10/1000\n",
            "56/71 [======================>.......] - ETA: 0s - loss: 0.9684 - accuracy: 0.6635\n",
            "Epoch 10: saving model to models\\keypoint_classifier.hdf5\n",
            "71/71 [==============================] - 0s 4ms/step - loss: 0.9695 - accuracy: 0.6636 - val_loss: 0.6118 - val_accuracy: 0.8063\n",
            "Epoch 11/1000\n",
            "71/71 [==============================] - ETA: 0s - loss: 0.9247 - accuracy: 0.6781\n",
            "Epoch 11: saving model to models\\keypoint_classifier.hdf5\n",
            "71/71 [==============================] - 0s 4ms/step - loss: 0.9247 - accuracy: 0.6781 - val_loss: 0.6392 - val_accuracy: 0.7633\n",
            "Epoch 12/1000\n",
            "69/71 [============================>.] - ETA: 0s - loss: 0.8538 - accuracy: 0.6986\n",
            "Epoch 12: saving model to models\\keypoint_classifier.hdf5\n",
            "71/71 [==============================] - 0s 4ms/step - loss: 0.8556 - accuracy: 0.6989 - val_loss: 0.5536 - val_accuracy: 0.8220\n",
            "Epoch 13/1000\n",
            "54/71 [=====================>........] - ETA: 0s - loss: 0.8058 - accuracy: 0.7151\n",
            "Epoch 13: saving model to models\\keypoint_classifier.hdf5\n",
            "71/71 [==============================] - 0s 4ms/step - loss: 0.8005 - accuracy: 0.7161 - val_loss: 0.4897 - val_accuracy: 0.8490\n",
            "Epoch 14/1000\n",
            "55/71 [======================>.......] - ETA: 0s - loss: 0.7609 - accuracy: 0.7345\n",
            "Epoch 14: saving model to models\\keypoint_classifier.hdf5\n",
            "71/71 [==============================] - 0s 4ms/step - loss: 0.7600 - accuracy: 0.7369 - val_loss: 0.4212 - val_accuracy: 0.8770\n",
            "Epoch 15/1000\n",
            "70/71 [============================>.] - ETA: 0s - loss: 0.7168 - accuracy: 0.7483\n",
            "Epoch 15: saving model to models\\keypoint_classifier.hdf5\n",
            "71/71 [==============================] - 0s 4ms/step - loss: 0.7170 - accuracy: 0.7484 - val_loss: 0.3800 - val_accuracy: 0.8807\n",
            "Epoch 16/1000\n",
            "54/71 [=====================>........] - ETA: 0s - loss: 0.7007 - accuracy: 0.7513\n",
            "Epoch 16: saving model to models\\keypoint_classifier.hdf5\n",
            "71/71 [==============================] - 0s 4ms/step - loss: 0.6968 - accuracy: 0.7523 - val_loss: 0.4389 - val_accuracy: 0.8450\n",
            "Epoch 17/1000\n",
            "54/71 [=====================>........] - ETA: 0s - loss: 0.6725 - accuracy: 0.7630\n",
            "Epoch 17: saving model to models\\keypoint_classifier.hdf5\n",
            "71/71 [==============================] - 0s 4ms/step - loss: 0.6669 - accuracy: 0.7641 - val_loss: 0.3564 - val_accuracy: 0.8807\n",
            "Epoch 18/1000\n",
            "55/71 [======================>.......] - ETA: 0s - loss: 0.6439 - accuracy: 0.7724\n",
            "Epoch 18: saving model to models\\keypoint_classifier.hdf5\n",
            "71/71 [==============================] - 0s 4ms/step - loss: 0.6405 - accuracy: 0.7719 - val_loss: 0.3274 - val_accuracy: 0.8950\n",
            "Epoch 19/1000\n",
            "68/71 [===========================>..] - ETA: 0s - loss: 0.6124 - accuracy: 0.7824\n",
            "Epoch 19: saving model to models\\keypoint_classifier.hdf5\n",
            "71/71 [==============================] - 0s 4ms/step - loss: 0.6103 - accuracy: 0.7827 - val_loss: 0.4691 - val_accuracy: 0.8347\n",
            "Epoch 20/1000\n",
            "55/71 [======================>.......] - ETA: 0s - loss: 0.6058 - accuracy: 0.7793\n",
            "Epoch 20: saving model to models\\keypoint_classifier.hdf5\n",
            "71/71 [==============================] - 0s 4ms/step - loss: 0.6095 - accuracy: 0.7796 - val_loss: 0.3490 - val_accuracy: 0.8793\n",
            "Epoch 21/1000\n",
            "54/71 [=====================>........] - ETA: 0s - loss: 0.5880 - accuracy: 0.7912\n",
            "Epoch 21: saving model to models\\keypoint_classifier.hdf5\n",
            "71/71 [==============================] - 0s 4ms/step - loss: 0.5865 - accuracy: 0.7918 - val_loss: 0.4469 - val_accuracy: 0.8373\n",
            "Epoch 22/1000\n",
            "55/71 [======================>.......] - ETA: 0s - loss: 0.5901 - accuracy: 0.7936\n",
            "Epoch 22: saving model to models\\keypoint_classifier.hdf5\n",
            "71/71 [==============================] - 0s 4ms/step - loss: 0.5834 - accuracy: 0.7959 - val_loss: 0.3069 - val_accuracy: 0.9017\n",
            "Epoch 23/1000\n",
            "55/71 [======================>.......] - ETA: 0s - loss: 0.5489 - accuracy: 0.8000\n",
            "Epoch 23: saving model to models\\keypoint_classifier.hdf5\n",
            "71/71 [==============================] - 0s 4ms/step - loss: 0.5499 - accuracy: 0.8014 - val_loss: 0.5432 - val_accuracy: 0.7893\n",
            "Epoch 24/1000\n",
            "54/71 [=====================>........] - ETA: 0s - loss: 0.5543 - accuracy: 0.8048\n",
            "Epoch 24: saving model to models\\keypoint_classifier.hdf5\n",
            "71/71 [==============================] - 0s 4ms/step - loss: 0.5537 - accuracy: 0.8026 - val_loss: 0.2624 - val_accuracy: 0.9097\n",
            "Epoch 25/1000\n",
            "55/71 [======================>.......] - ETA: 0s - loss: 0.5230 - accuracy: 0.8118\n",
            "Epoch 25: saving model to models\\keypoint_classifier.hdf5\n",
            "71/71 [==============================] - 0s 4ms/step - loss: 0.5256 - accuracy: 0.8120 - val_loss: 0.3323 - val_accuracy: 0.8803\n",
            "Epoch 26/1000\n",
            "56/71 [======================>.......] - ETA: 0s - loss: 0.5173 - accuracy: 0.8103\n",
            "Epoch 26: saving model to models\\keypoint_classifier.hdf5\n",
            "71/71 [==============================] - 0s 4ms/step - loss: 0.5235 - accuracy: 0.8093 - val_loss: 0.2856 - val_accuracy: 0.9033\n",
            "Epoch 27/1000\n",
            "57/71 [=======================>......] - ETA: 0s - loss: 0.5220 - accuracy: 0.8080\n",
            "Epoch 27: saving model to models\\keypoint_classifier.hdf5\n",
            "71/71 [==============================] - 0s 4ms/step - loss: 0.5258 - accuracy: 0.8090 - val_loss: 0.3645 - val_accuracy: 0.8713\n",
            "Epoch 28/1000\n",
            "57/71 [=======================>......] - ETA: 0s - loss: 0.5189 - accuracy: 0.8092\n",
            "Epoch 28: saving model to models\\keypoint_classifier.hdf5\n",
            "71/71 [==============================] - 0s 4ms/step - loss: 0.5144 - accuracy: 0.8117 - val_loss: 0.3203 - val_accuracy: 0.8863\n",
            "Epoch 29/1000\n",
            "58/71 [=======================>......] - ETA: 0s - loss: 0.4944 - accuracy: 0.8198\n",
            "Epoch 29: saving model to models\\keypoint_classifier.hdf5\n",
            "71/71 [==============================] - 0s 4ms/step - loss: 0.4937 - accuracy: 0.8184 - val_loss: 0.3092 - val_accuracy: 0.8977\n",
            "Epoch 30/1000\n",
            "58/71 [=======================>......] - ETA: 0s - loss: 0.4899 - accuracy: 0.8222\n",
            "Epoch 30: saving model to models\\keypoint_classifier.hdf5\n",
            "71/71 [==============================] - 0s 4ms/step - loss: 0.4876 - accuracy: 0.8227 - val_loss: 0.3600 - val_accuracy: 0.8663\n",
            "Epoch 31/1000\n",
            "58/71 [=======================>......] - ETA: 0s - loss: 0.4975 - accuracy: 0.8169\n",
            "Epoch 31: saving model to models\\keypoint_classifier.hdf5\n",
            "71/71 [==============================] - 0s 4ms/step - loss: 0.4978 - accuracy: 0.8163 - val_loss: 0.2986 - val_accuracy: 0.9057\n",
            "Epoch 32/1000\n",
            "55/71 [======================>.......] - ETA: 0s - loss: 0.4974 - accuracy: 0.8119\n",
            "Epoch 32: saving model to models\\keypoint_classifier.hdf5\n",
            "71/71 [==============================] - 0s 4ms/step - loss: 0.4876 - accuracy: 0.8158 - val_loss: 0.3793 - val_accuracy: 0.8563\n",
            "Epoch 33/1000\n",
            "55/71 [======================>.......] - ETA: 0s - loss: 0.4632 - accuracy: 0.8297\n",
            "Epoch 33: saving model to models\\keypoint_classifier.hdf5\n",
            "71/71 [==============================] - 0s 4ms/step - loss: 0.4653 - accuracy: 0.8280 - val_loss: 0.2483 - val_accuracy: 0.9107\n",
            "Epoch 34/1000\n",
            "56/71 [======================>.......] - ETA: 0s - loss: 0.4553 - accuracy: 0.8358\n",
            "Epoch 34: saving model to models\\keypoint_classifier.hdf5\n",
            "71/71 [==============================] - 0s 4ms/step - loss: 0.4566 - accuracy: 0.8337 - val_loss: 0.3087 - val_accuracy: 0.8977\n",
            "Epoch 35/1000\n",
            "55/71 [======================>.......] - ETA: 0s - loss: 0.4637 - accuracy: 0.8301\n",
            "Epoch 35: saving model to models\\keypoint_classifier.hdf5\n",
            "71/71 [==============================] - 0s 4ms/step - loss: 0.4613 - accuracy: 0.8293 - val_loss: 0.2683 - val_accuracy: 0.9123\n",
            "Epoch 36/1000\n",
            "56/71 [======================>.......] - ETA: 0s - loss: 0.4499 - accuracy: 0.8394\n",
            "Epoch 36: saving model to models\\keypoint_classifier.hdf5\n",
            "71/71 [==============================] - 0s 4ms/step - loss: 0.4545 - accuracy: 0.8381 - val_loss: 0.2520 - val_accuracy: 0.9157\n",
            "Epoch 37/1000\n",
            "56/71 [======================>.......] - ETA: 0s - loss: 0.4655 - accuracy: 0.8318\n",
            "Epoch 37: saving model to models\\keypoint_classifier.hdf5\n",
            "71/71 [==============================] - 0s 4ms/step - loss: 0.4582 - accuracy: 0.8313 - val_loss: 0.3494 - val_accuracy: 0.8733\n",
            "Epoch 38/1000\n",
            "70/71 [============================>.] - ETA: 0s - loss: 0.4417 - accuracy: 0.8349\n",
            "Epoch 38: saving model to models\\keypoint_classifier.hdf5\n",
            "71/71 [==============================] - 0s 4ms/step - loss: 0.4419 - accuracy: 0.8349 - val_loss: 0.3043 - val_accuracy: 0.8990\n",
            "Epoch 39/1000\n",
            "56/71 [======================>.......] - ETA: 0s - loss: 0.4379 - accuracy: 0.8352\n",
            "Epoch 39: saving model to models\\keypoint_classifier.hdf5\n",
            "71/71 [==============================] - 0s 4ms/step - loss: 0.4357 - accuracy: 0.8360 - val_loss: 0.2992 - val_accuracy: 0.8983\n",
            "Epoch 40/1000\n",
            "56/71 [======================>.......] - ETA: 0s - loss: 0.4273 - accuracy: 0.8440\n",
            "Epoch 40: saving model to models\\keypoint_classifier.hdf5\n",
            "71/71 [==============================] - 0s 4ms/step - loss: 0.4296 - accuracy: 0.8428 - val_loss: 0.2484 - val_accuracy: 0.9100\n",
            "Epoch 41/1000\n",
            "70/71 [============================>.] - ETA: 0s - loss: 0.4312 - accuracy: 0.8425\n",
            "Epoch 41: saving model to models\\keypoint_classifier.hdf5\n",
            "71/71 [==============================] - 0s 4ms/step - loss: 0.4324 - accuracy: 0.8422 - val_loss: 0.2914 - val_accuracy: 0.8953\n",
            "Epoch 42/1000\n",
            "56/71 [======================>.......] - ETA: 0s - loss: 0.4485 - accuracy: 0.8331\n",
            "Epoch 42: saving model to models\\keypoint_classifier.hdf5\n",
            "71/71 [==============================] - 0s 4ms/step - loss: 0.4409 - accuracy: 0.8374 - val_loss: 0.3374 - val_accuracy: 0.8890\n",
            "Epoch 43/1000\n",
            "57/71 [=======================>......] - ETA: 0s - loss: 0.4180 - accuracy: 0.8427\n",
            "Epoch 43: saving model to models\\keypoint_classifier.hdf5\n",
            "71/71 [==============================] - 0s 4ms/step - loss: 0.4204 - accuracy: 0.8436 - val_loss: 0.2722 - val_accuracy: 0.9087\n",
            "Epoch 44/1000\n",
            "57/71 [=======================>......] - ETA: 0s - loss: 0.4063 - accuracy: 0.8470\n",
            "Epoch 44: saving model to models\\keypoint_classifier.hdf5\n",
            "71/71 [==============================] - 0s 4ms/step - loss: 0.4090 - accuracy: 0.8460 - val_loss: 0.2209 - val_accuracy: 0.9280\n",
            "Epoch 45/1000\n",
            "57/71 [=======================>......] - ETA: 0s - loss: 0.3966 - accuracy: 0.8566\n",
            "Epoch 45: saving model to models\\keypoint_classifier.hdf5\n",
            "71/71 [==============================] - 0s 4ms/step - loss: 0.3988 - accuracy: 0.8538 - val_loss: 0.2256 - val_accuracy: 0.9207\n",
            "Epoch 46/1000\n",
            "57/71 [=======================>......] - ETA: 0s - loss: 0.4127 - accuracy: 0.8483\n",
            "Epoch 46: saving model to models\\keypoint_classifier.hdf5\n",
            "71/71 [==============================] - 0s 4ms/step - loss: 0.4056 - accuracy: 0.8497 - val_loss: 0.2582 - val_accuracy: 0.9077\n",
            "Epoch 47/1000\n",
            "56/71 [======================>.......] - ETA: 0s - loss: 0.4147 - accuracy: 0.8474\n",
            "Epoch 47: saving model to models\\keypoint_classifier.hdf5\n",
            "71/71 [==============================] - 0s 4ms/step - loss: 0.4121 - accuracy: 0.8473 - val_loss: 0.2716 - val_accuracy: 0.9090\n",
            "Epoch 48/1000\n",
            "56/71 [======================>.......] - ETA: 0s - loss: 0.4077 - accuracy: 0.8496\n",
            "Epoch 48: saving model to models\\keypoint_classifier.hdf5\n",
            "71/71 [==============================] - 0s 4ms/step - loss: 0.4101 - accuracy: 0.8487 - val_loss: 0.2419 - val_accuracy: 0.9187\n",
            "Epoch 49/1000\n",
            "57/71 [=======================>......] - ETA: 0s - loss: 0.4117 - accuracy: 0.8495\n",
            "Epoch 49: saving model to models\\keypoint_classifier.hdf5\n",
            "71/71 [==============================] - 0s 4ms/step - loss: 0.4032 - accuracy: 0.8520 - val_loss: 0.2652 - val_accuracy: 0.9087\n",
            "Epoch 50/1000\n",
            "56/71 [======================>.......] - ETA: 0s - loss: 0.3943 - accuracy: 0.8524\n",
            "Epoch 50: saving model to models\\keypoint_classifier.hdf5\n",
            "71/71 [==============================] - 0s 4ms/step - loss: 0.3910 - accuracy: 0.8524 - val_loss: 0.3713 - val_accuracy: 0.8687\n",
            "Epoch 51/1000\n",
            "57/71 [=======================>......] - ETA: 0s - loss: 0.3951 - accuracy: 0.8533\n",
            "Epoch 51: saving model to models\\keypoint_classifier.hdf5\n",
            "71/71 [==============================] - 0s 4ms/step - loss: 0.3954 - accuracy: 0.8531 - val_loss: 0.2301 - val_accuracy: 0.9307\n",
            "Epoch 52/1000\n",
            "57/71 [=======================>......] - ETA: 0s - loss: 0.3959 - accuracy: 0.8549\n",
            "Epoch 52: saving model to models\\keypoint_classifier.hdf5\n",
            "71/71 [==============================] - 0s 4ms/step - loss: 0.3974 - accuracy: 0.8534 - val_loss: 0.2917 - val_accuracy: 0.9047\n",
            "Epoch 53/1000\n",
            "57/71 [=======================>......] - ETA: 0s - loss: 0.3915 - accuracy: 0.8538\n",
            "Epoch 53: saving model to models\\keypoint_classifier.hdf5\n",
            "71/71 [==============================] - 0s 4ms/step - loss: 0.3964 - accuracy: 0.8512 - val_loss: 0.2389 - val_accuracy: 0.9117\n",
            "Epoch 54/1000\n",
            "57/71 [=======================>......] - ETA: 0s - loss: 0.3999 - accuracy: 0.8509\n",
            "Epoch 54: saving model to models\\keypoint_classifier.hdf5\n",
            "71/71 [==============================] - 0s 4ms/step - loss: 0.3979 - accuracy: 0.8542 - val_loss: 0.2444 - val_accuracy: 0.9100\n",
            "Epoch 55/1000\n",
            "65/71 [==========================>...] - ETA: 0s - loss: 0.3866 - accuracy: 0.8573\n",
            "Epoch 55: saving model to models\\keypoint_classifier.hdf5\n",
            "71/71 [==============================] - 0s 4ms/step - loss: 0.3866 - accuracy: 0.8567 - val_loss: 0.2166 - val_accuracy: 0.9160\n",
            "Epoch 56/1000\n",
            "58/71 [=======================>......] - ETA: 0s - loss: 0.3800 - accuracy: 0.8610\n",
            "Epoch 56: saving model to models\\keypoint_classifier.hdf5\n",
            "71/71 [==============================] - 0s 4ms/step - loss: 0.3779 - accuracy: 0.8619 - val_loss: 0.3035 - val_accuracy: 0.8920\n",
            "Epoch 57/1000\n",
            "58/71 [=======================>......] - ETA: 0s - loss: 0.3885 - accuracy: 0.8602\n",
            "Epoch 57: saving model to models\\keypoint_classifier.hdf5\n",
            "71/71 [==============================] - 0s 4ms/step - loss: 0.3878 - accuracy: 0.8609 - val_loss: 0.2530 - val_accuracy: 0.9157\n",
            "Epoch 58/1000\n",
            "57/71 [=======================>......] - ETA: 0s - loss: 0.3630 - accuracy: 0.8643\n",
            "Epoch 58: saving model to models\\keypoint_classifier.hdf5\n",
            "71/71 [==============================] - 0s 4ms/step - loss: 0.3641 - accuracy: 0.8627 - val_loss: 0.4045 - val_accuracy: 0.8360\n",
            "Epoch 59/1000\n",
            "57/71 [=======================>......] - ETA: 0s - loss: 0.3568 - accuracy: 0.8655\n",
            "Epoch 59: saving model to models\\keypoint_classifier.hdf5\n",
            "71/71 [==============================] - 0s 4ms/step - loss: 0.3630 - accuracy: 0.8639 - val_loss: 0.2921 - val_accuracy: 0.8863\n",
            "Epoch 60/1000\n",
            "57/71 [=======================>......] - ETA: 0s - loss: 0.3514 - accuracy: 0.8680\n",
            "Epoch 60: saving model to models\\keypoint_classifier.hdf5\n",
            "71/71 [==============================] - 0s 4ms/step - loss: 0.3595 - accuracy: 0.8650 - val_loss: 0.2514 - val_accuracy: 0.9060\n",
            "Epoch 61/1000\n",
            "57/71 [=======================>......] - ETA: 0s - loss: 0.3777 - accuracy: 0.8610\n",
            "Epoch 61: saving model to models\\keypoint_classifier.hdf5\n",
            "71/71 [==============================] - 0s 4ms/step - loss: 0.3768 - accuracy: 0.8616 - val_loss: 0.2134 - val_accuracy: 0.9313\n",
            "Epoch 62/1000\n",
            "56/71 [======================>.......] - ETA: 0s - loss: 0.3781 - accuracy: 0.8598\n",
            "Epoch 62: saving model to models\\keypoint_classifier.hdf5\n",
            "71/71 [==============================] - 0s 4ms/step - loss: 0.3685 - accuracy: 0.8628 - val_loss: 0.2319 - val_accuracy: 0.9043\n",
            "Epoch 63/1000\n",
            "57/71 [=======================>......] - ETA: 0s - loss: 0.3596 - accuracy: 0.8632\n",
            "Epoch 63: saving model to models\\keypoint_classifier.hdf5\n",
            "71/71 [==============================] - 0s 4ms/step - loss: 0.3574 - accuracy: 0.8639 - val_loss: 0.2649 - val_accuracy: 0.9070\n",
            "Epoch 64/1000\n",
            "56/71 [======================>.......] - ETA: 0s - loss: 0.3632 - accuracy: 0.8612\n",
            "Epoch 64: saving model to models\\keypoint_classifier.hdf5\n",
            "71/71 [==============================] - 0s 4ms/step - loss: 0.3630 - accuracy: 0.8621 - val_loss: 0.2969 - val_accuracy: 0.8800\n",
            "Epoch 65/1000\n",
            "54/71 [=====================>........] - ETA: 0s - loss: 0.3684 - accuracy: 0.8624\n",
            "Epoch 65: saving model to models\\keypoint_classifier.hdf5\n",
            "71/71 [==============================] - 0s 4ms/step - loss: 0.3671 - accuracy: 0.8648 - val_loss: 0.2946 - val_accuracy: 0.8997\n",
            "Epoch 66/1000\n",
            "55/71 [======================>.......] - ETA: 0s - loss: 0.3792 - accuracy: 0.8611\n",
            "Epoch 66: saving model to models\\keypoint_classifier.hdf5\n",
            "71/71 [==============================] - 0s 4ms/step - loss: 0.3757 - accuracy: 0.8632 - val_loss: 0.2203 - val_accuracy: 0.9277\n",
            "Epoch 67/1000\n",
            "57/71 [=======================>......] - ETA: 0s - loss: 0.3543 - accuracy: 0.8701\n",
            "Epoch 67: saving model to models\\keypoint_classifier.hdf5\n",
            "71/71 [==============================] - 0s 4ms/step - loss: 0.3542 - accuracy: 0.8692 - val_loss: 0.4259 - val_accuracy: 0.8333\n",
            "Epoch 68/1000\n",
            "58/71 [=======================>......] - ETA: 0s - loss: 0.3445 - accuracy: 0.8732\n",
            "Epoch 68: saving model to models\\keypoint_classifier.hdf5\n",
            "71/71 [==============================] - 0s 4ms/step - loss: 0.3445 - accuracy: 0.8741 - val_loss: 0.2415 - val_accuracy: 0.9110\n",
            "Epoch 69/1000\n",
            "57/71 [=======================>......] - ETA: 0s - loss: 0.3409 - accuracy: 0.8735\n",
            "Epoch 69: saving model to models\\keypoint_classifier.hdf5\n",
            "71/71 [==============================] - 0s 4ms/step - loss: 0.3429 - accuracy: 0.8730 - val_loss: 0.2271 - val_accuracy: 0.9320\n",
            "Epoch 70/1000\n",
            "57/71 [=======================>......] - ETA: 0s - loss: 0.3440 - accuracy: 0.8717\n",
            "Epoch 70: saving model to models\\keypoint_classifier.hdf5\n",
            "71/71 [==============================] - 0s 4ms/step - loss: 0.3432 - accuracy: 0.8722 - val_loss: 0.2482 - val_accuracy: 0.9120\n",
            "Epoch 71/1000\n",
            "70/71 [============================>.] - ETA: 0s - loss: 0.3488 - accuracy: 0.8719\n",
            "Epoch 71: saving model to models\\keypoint_classifier.hdf5\n",
            "71/71 [==============================] - 0s 5ms/step - loss: 0.3486 - accuracy: 0.8720 - val_loss: 0.2571 - val_accuracy: 0.9083\n",
            "Epoch 72/1000\n",
            "58/71 [=======================>......] - ETA: 0s - loss: 0.3374 - accuracy: 0.8751\n",
            "Epoch 72: saving model to models\\keypoint_classifier.hdf5\n",
            "71/71 [==============================] - 0s 4ms/step - loss: 0.3463 - accuracy: 0.8701 - val_loss: 0.4246 - val_accuracy: 0.8553\n",
            "Epoch 73/1000\n",
            "58/71 [=======================>......] - ETA: 0s - loss: 0.3308 - accuracy: 0.8769\n",
            "Epoch 73: saving model to models\\keypoint_classifier.hdf5\n",
            "71/71 [==============================] - 0s 4ms/step - loss: 0.3338 - accuracy: 0.8759 - val_loss: 0.4237 - val_accuracy: 0.8470\n",
            "Epoch 74/1000\n",
            "56/71 [======================>.......] - ETA: 0s - loss: 0.3510 - accuracy: 0.8698\n",
            "Epoch 74: saving model to models\\keypoint_classifier.hdf5\n",
            "71/71 [==============================] - 0s 4ms/step - loss: 0.3482 - accuracy: 0.8718 - val_loss: 0.1907 - val_accuracy: 0.9323\n",
            "Epoch 75/1000\n",
            "57/71 [=======================>......] - ETA: 0s - loss: 0.3324 - accuracy: 0.8758\n",
            "Epoch 75: saving model to models\\keypoint_classifier.hdf5\n",
            "71/71 [==============================] - 0s 4ms/step - loss: 0.3380 - accuracy: 0.8738 - val_loss: 0.2865 - val_accuracy: 0.8943\n",
            "Epoch 76/1000\n",
            "57/71 [=======================>......] - ETA: 0s - loss: 0.3274 - accuracy: 0.8761\n",
            "Epoch 76: saving model to models\\keypoint_classifier.hdf5\n",
            "71/71 [==============================] - 0s 4ms/step - loss: 0.3306 - accuracy: 0.8757 - val_loss: 0.2222 - val_accuracy: 0.9147\n",
            "Epoch 77/1000\n",
            "57/71 [=======================>......] - ETA: 0s - loss: 0.3373 - accuracy: 0.8766\n",
            "Epoch 77: saving model to models\\keypoint_classifier.hdf5\n",
            "71/71 [==============================] - 0s 4ms/step - loss: 0.3286 - accuracy: 0.8788 - val_loss: 0.2850 - val_accuracy: 0.8907\n",
            "Epoch 78/1000\n",
            "56/71 [======================>.......] - ETA: 0s - loss: 0.3343 - accuracy: 0.8733\n",
            "Epoch 78: saving model to models\\keypoint_classifier.hdf5\n",
            "71/71 [==============================] - 0s 4ms/step - loss: 0.3331 - accuracy: 0.8740 - val_loss: 0.2271 - val_accuracy: 0.9163\n",
            "Epoch 79/1000\n",
            "55/71 [======================>.......] - ETA: 0s - loss: 0.3383 - accuracy: 0.8764\n",
            "Epoch 79: saving model to models\\keypoint_classifier.hdf5\n",
            "71/71 [==============================] - 0s 4ms/step - loss: 0.3321 - accuracy: 0.8763 - val_loss: 0.6513 - val_accuracy: 0.7777\n",
            "Epoch 80/1000\n",
            "56/71 [======================>.......] - ETA: 0s - loss: 0.3311 - accuracy: 0.8806\n",
            "Epoch 80: saving model to models\\keypoint_classifier.hdf5\n",
            "71/71 [==============================] - 0s 4ms/step - loss: 0.3373 - accuracy: 0.8786 - val_loss: 0.2141 - val_accuracy: 0.9257\n",
            "Epoch 81/1000\n",
            "55/71 [======================>.......] - ETA: 0s - loss: 0.3375 - accuracy: 0.8717\n",
            "Epoch 81: saving model to models\\keypoint_classifier.hdf5\n",
            "71/71 [==============================] - 0s 4ms/step - loss: 0.3337 - accuracy: 0.8744 - val_loss: 0.2344 - val_accuracy: 0.9200\n",
            "Epoch 82/1000\n",
            "55/71 [======================>.......] - ETA: 0s - loss: 0.3250 - accuracy: 0.8805\n",
            "Epoch 82: saving model to models\\keypoint_classifier.hdf5\n",
            "71/71 [==============================] - 0s 4ms/step - loss: 0.3279 - accuracy: 0.8796 - val_loss: 0.2139 - val_accuracy: 0.9283\n",
            "Epoch 83/1000\n",
            "56/71 [======================>.......] - ETA: 0s - loss: 0.3301 - accuracy: 0.8781\n",
            "Epoch 83: saving model to models\\keypoint_classifier.hdf5\n",
            "71/71 [==============================] - 0s 4ms/step - loss: 0.3260 - accuracy: 0.8808 - val_loss: 0.4449 - val_accuracy: 0.8317\n",
            "Epoch 84/1000\n",
            "66/71 [==========================>...] - ETA: 0s - loss: 0.3105 - accuracy: 0.8834\n",
            "Epoch 84: saving model to models\\keypoint_classifier.hdf5\n",
            "71/71 [==============================] - 0s 5ms/step - loss: 0.3125 - accuracy: 0.8836 - val_loss: 0.2613 - val_accuracy: 0.9033\n",
            "Epoch 85/1000\n",
            "56/71 [======================>.......] - ETA: 0s - loss: 0.3065 - accuracy: 0.8855\n",
            "Epoch 85: saving model to models\\keypoint_classifier.hdf5\n",
            "71/71 [==============================] - 0s 4ms/step - loss: 0.3079 - accuracy: 0.8858 - val_loss: 0.2646 - val_accuracy: 0.9040\n",
            "Epoch 86/1000\n",
            "57/71 [=======================>......] - ETA: 0s - loss: 0.3181 - accuracy: 0.8850\n",
            "Epoch 86: saving model to models\\keypoint_classifier.hdf5\n",
            "71/71 [==============================] - 0s 4ms/step - loss: 0.3113 - accuracy: 0.8873 - val_loss: 0.2676 - val_accuracy: 0.8910\n",
            "Epoch 87/1000\n",
            "56/71 [======================>.......] - ETA: 0s - loss: 0.3003 - accuracy: 0.8876\n",
            "Epoch 87: saving model to models\\keypoint_classifier.hdf5\n",
            "71/71 [==============================] - 0s 4ms/step - loss: 0.3030 - accuracy: 0.8850 - val_loss: 0.2675 - val_accuracy: 0.8893\n",
            "Epoch 88/1000\n",
            "56/71 [======================>.......] - ETA: 0s - loss: 0.3183 - accuracy: 0.8800\n",
            "Epoch 88: saving model to models\\keypoint_classifier.hdf5\n",
            "71/71 [==============================] - 0s 4ms/step - loss: 0.3119 - accuracy: 0.8830 - val_loss: 0.2209 - val_accuracy: 0.9137\n",
            "Epoch 89/1000\n",
            "57/71 [=======================>......] - ETA: 0s - loss: 0.3028 - accuracy: 0.8858\n",
            "Epoch 89: saving model to models\\keypoint_classifier.hdf5\n",
            "71/71 [==============================] - 0s 4ms/step - loss: 0.3006 - accuracy: 0.8892 - val_loss: 0.1864 - val_accuracy: 0.9330\n",
            "Epoch 90/1000\n",
            "57/71 [=======================>......] - ETA: 0s - loss: 0.3001 - accuracy: 0.8917\n",
            "Epoch 90: saving model to models\\keypoint_classifier.hdf5\n",
            "71/71 [==============================] - 0s 4ms/step - loss: 0.3097 - accuracy: 0.8892 - val_loss: 0.2962 - val_accuracy: 0.8977\n",
            "Epoch 91/1000\n",
            "55/71 [======================>.......] - ETA: 0s - loss: 0.3014 - accuracy: 0.8866\n",
            "Epoch 91: saving model to models\\keypoint_classifier.hdf5\n",
            "71/71 [==============================] - 0s 4ms/step - loss: 0.3018 - accuracy: 0.8886 - val_loss: 0.2818 - val_accuracy: 0.8963\n",
            "Epoch 92/1000\n",
            "55/71 [======================>.......] - ETA: 0s - loss: 0.2943 - accuracy: 0.8861\n",
            "Epoch 92: saving model to models\\keypoint_classifier.hdf5\n",
            "71/71 [==============================] - 0s 4ms/step - loss: 0.2952 - accuracy: 0.8878 - val_loss: 0.3252 - val_accuracy: 0.8747\n",
            "Epoch 93/1000\n",
            "57/71 [=======================>......] - ETA: 0s - loss: 0.3049 - accuracy: 0.8901\n",
            "Epoch 93: saving model to models\\keypoint_classifier.hdf5\n",
            "71/71 [==============================] - 0s 4ms/step - loss: 0.3077 - accuracy: 0.8883 - val_loss: 0.2174 - val_accuracy: 0.9273\n",
            "Epoch 94/1000\n",
            "57/71 [=======================>......] - ETA: 0s - loss: 0.3060 - accuracy: 0.8869\n",
            "Epoch 94: saving model to models\\keypoint_classifier.hdf5\n",
            "71/71 [==============================] - 0s 4ms/step - loss: 0.3018 - accuracy: 0.8884 - val_loss: 0.2677 - val_accuracy: 0.9110\n",
            "Epoch 95/1000\n",
            "56/71 [======================>.......] - ETA: 0s - loss: 0.3099 - accuracy: 0.8846\n",
            "Epoch 95: saving model to models\\keypoint_classifier.hdf5\n",
            "71/71 [==============================] - 0s 4ms/step - loss: 0.3086 - accuracy: 0.8852 - val_loss: 0.2024 - val_accuracy: 0.9413\n",
            "Epoch 96/1000\n",
            "56/71 [======================>.......] - ETA: 0s - loss: 0.2924 - accuracy: 0.8912\n",
            "Epoch 96: saving model to models\\keypoint_classifier.hdf5\n",
            "71/71 [==============================] - 0s 4ms/step - loss: 0.2954 - accuracy: 0.8893 - val_loss: 0.2927 - val_accuracy: 0.8867\n",
            "Epoch 97/1000\n",
            "64/71 [==========================>...] - ETA: 0s - loss: 0.2942 - accuracy: 0.8881\n",
            "Epoch 97: saving model to models\\keypoint_classifier.hdf5\n",
            "71/71 [==============================] - 0s 4ms/step - loss: 0.2988 - accuracy: 0.8858 - val_loss: 0.2103 - val_accuracy: 0.9190\n",
            "Epoch 98/1000\n",
            "57/71 [=======================>......] - ETA: 0s - loss: 0.2852 - accuracy: 0.8888\n",
            "Epoch 98: saving model to models\\keypoint_classifier.hdf5\n",
            "71/71 [==============================] - 0s 4ms/step - loss: 0.2851 - accuracy: 0.8894 - val_loss: 0.3717 - val_accuracy: 0.8640\n",
            "Epoch 99/1000\n",
            "55/71 [======================>.......] - ETA: 0s - loss: 0.2892 - accuracy: 0.8930\n",
            "Epoch 99: saving model to models\\keypoint_classifier.hdf5\n",
            "71/71 [==============================] - 0s 4ms/step - loss: 0.2853 - accuracy: 0.8957 - val_loss: 0.2255 - val_accuracy: 0.9143\n",
            "Epoch 100/1000\n",
            "56/71 [======================>.......] - ETA: 0s - loss: 0.2854 - accuracy: 0.8959\n",
            "Epoch 100: saving model to models\\keypoint_classifier.hdf5\n",
            "71/71 [==============================] - 0s 4ms/step - loss: 0.2852 - accuracy: 0.8956 - val_loss: 0.2367 - val_accuracy: 0.9020\n",
            "Epoch 101/1000\n",
            "58/71 [=======================>......] - ETA: 0s - loss: 0.2821 - accuracy: 0.8955\n",
            "Epoch 101: saving model to models\\keypoint_classifier.hdf5\n",
            "71/71 [==============================] - 0s 4ms/step - loss: 0.2848 - accuracy: 0.8950 - val_loss: 0.2090 - val_accuracy: 0.9270\n",
            "Epoch 102/1000\n",
            "56/71 [======================>.......] - ETA: 0s - loss: 0.2938 - accuracy: 0.8920\n",
            "Epoch 102: saving model to models\\keypoint_classifier.hdf5\n",
            "71/71 [==============================] - 0s 4ms/step - loss: 0.2881 - accuracy: 0.8942 - val_loss: 0.2237 - val_accuracy: 0.9170\n",
            "Epoch 103/1000\n",
            "58/71 [=======================>......] - ETA: 0s - loss: 0.2905 - accuracy: 0.8947\n",
            "Epoch 103: saving model to models\\keypoint_classifier.hdf5\n",
            "71/71 [==============================] - 0s 4ms/step - loss: 0.2901 - accuracy: 0.8927 - val_loss: 0.1772 - val_accuracy: 0.9367\n",
            "Epoch 104/1000\n",
            "56/71 [======================>.......] - ETA: 0s - loss: 0.2911 - accuracy: 0.8929\n",
            "Epoch 104: saving model to models\\keypoint_classifier.hdf5\n",
            "71/71 [==============================] - 0s 4ms/step - loss: 0.2884 - accuracy: 0.8952 - val_loss: 0.2158 - val_accuracy: 0.9203\n",
            "Epoch 105/1000\n",
            "57/71 [=======================>......] - ETA: 0s - loss: 0.2819 - accuracy: 0.8921\n",
            "Epoch 105: saving model to models\\keypoint_classifier.hdf5\n",
            "71/71 [==============================] - 0s 4ms/step - loss: 0.2802 - accuracy: 0.8940 - val_loss: 0.2286 - val_accuracy: 0.9170\n",
            "Epoch 106/1000\n",
            "57/71 [=======================>......] - ETA: 0s - loss: 0.2839 - accuracy: 0.8983\n",
            "Epoch 106: saving model to models\\keypoint_classifier.hdf5\n",
            "71/71 [==============================] - 0s 4ms/step - loss: 0.2839 - accuracy: 0.8972 - val_loss: 0.2247 - val_accuracy: 0.9217\n",
            "Epoch 107/1000\n",
            "58/71 [=======================>......] - ETA: 0s - loss: 0.2834 - accuracy: 0.8968\n",
            "Epoch 107: saving model to models\\keypoint_classifier.hdf5\n",
            "71/71 [==============================] - 0s 4ms/step - loss: 0.2774 - accuracy: 0.8983 - val_loss: 0.2196 - val_accuracy: 0.9247\n",
            "Epoch 108/1000\n",
            "56/71 [======================>.......] - ETA: 0s - loss: 0.2695 - accuracy: 0.8980\n",
            "Epoch 108: saving model to models\\keypoint_classifier.hdf5\n",
            "71/71 [==============================] - 0s 4ms/step - loss: 0.2729 - accuracy: 0.8974 - val_loss: 0.2014 - val_accuracy: 0.9303\n",
            "Epoch 109/1000\n",
            "66/71 [==========================>...] - ETA: 0s - loss: 0.2896 - accuracy: 0.8928\n",
            "Epoch 109: saving model to models\\keypoint_classifier.hdf5\n",
            "71/71 [==============================] - 0s 5ms/step - loss: 0.2843 - accuracy: 0.8951 - val_loss: 0.2783 - val_accuracy: 0.8967\n",
            "Epoch 110/1000\n",
            "56/71 [======================>.......] - ETA: 0s - loss: 0.2819 - accuracy: 0.8956\n",
            "Epoch 110: saving model to models\\keypoint_classifier.hdf5\n",
            "71/71 [==============================] - 0s 4ms/step - loss: 0.2829 - accuracy: 0.8959 - val_loss: 0.3112 - val_accuracy: 0.8813\n",
            "Epoch 111/1000\n",
            "58/71 [=======================>......] - ETA: 0s - loss: 0.2820 - accuracy: 0.8953\n",
            "Epoch 111: saving model to models\\keypoint_classifier.hdf5\n",
            "71/71 [==============================] - 0s 4ms/step - loss: 0.2756 - accuracy: 0.8980 - val_loss: 0.2587 - val_accuracy: 0.9047\n",
            "Epoch 112/1000\n",
            "57/71 [=======================>......] - ETA: 0s - loss: 0.2684 - accuracy: 0.9052\n",
            "Epoch 112: saving model to models\\keypoint_classifier.hdf5\n",
            "71/71 [==============================] - 0s 4ms/step - loss: 0.2720 - accuracy: 0.9027 - val_loss: 0.1726 - val_accuracy: 0.9380\n",
            "Epoch 113/1000\n",
            "58/71 [=======================>......] - ETA: 0s - loss: 0.2742 - accuracy: 0.9003\n",
            "Epoch 113: saving model to models\\keypoint_classifier.hdf5\n",
            "71/71 [==============================] - 0s 4ms/step - loss: 0.2763 - accuracy: 0.8982 - val_loss: 0.2058 - val_accuracy: 0.9237\n",
            "Epoch 114/1000\n",
            "56/71 [======================>.......] - ETA: 0s - loss: 0.2784 - accuracy: 0.8998\n",
            "Epoch 114: saving model to models\\keypoint_classifier.hdf5\n",
            "71/71 [==============================] - 0s 4ms/step - loss: 0.2728 - accuracy: 0.9012 - val_loss: 0.2095 - val_accuracy: 0.9273\n",
            "Epoch 115/1000\n",
            "55/71 [======================>.......] - ETA: 0s - loss: 0.2742 - accuracy: 0.8994\n",
            "Epoch 115: saving model to models\\keypoint_classifier.hdf5\n",
            "71/71 [==============================] - 0s 4ms/step - loss: 0.2705 - accuracy: 0.9014 - val_loss: 0.2311 - val_accuracy: 0.9207\n",
            "Epoch 116/1000\n",
            "57/71 [=======================>......] - ETA: 0s - loss: 0.2805 - accuracy: 0.8956\n",
            "Epoch 116: saving model to models\\keypoint_classifier.hdf5\n",
            "71/71 [==============================] - 0s 4ms/step - loss: 0.2762 - accuracy: 0.8964 - val_loss: 0.2697 - val_accuracy: 0.9037\n",
            "Epoch 117/1000\n",
            "55/71 [======================>.......] - ETA: 0s - loss: 0.2718 - accuracy: 0.8960\n",
            "Epoch 117: saving model to models\\keypoint_classifier.hdf5\n",
            "71/71 [==============================] - 0s 4ms/step - loss: 0.2695 - accuracy: 0.8981 - val_loss: 0.2792 - val_accuracy: 0.8937\n",
            "Epoch 118/1000\n",
            "58/71 [=======================>......] - ETA: 0s - loss: 0.2664 - accuracy: 0.9032\n",
            "Epoch 118: saving model to models\\keypoint_classifier.hdf5\n",
            "71/71 [==============================] - 0s 4ms/step - loss: 0.2733 - accuracy: 0.8989 - val_loss: 0.1921 - val_accuracy: 0.9320\n",
            "Epoch 119/1000\n",
            "56/71 [======================>.......] - ETA: 0s - loss: 0.2672 - accuracy: 0.8982\n",
            "Epoch 119: saving model to models\\keypoint_classifier.hdf5\n",
            "71/71 [==============================] - 0s 4ms/step - loss: 0.2725 - accuracy: 0.8966 - val_loss: 0.3842 - val_accuracy: 0.8573\n",
            "Epoch 120/1000\n",
            "57/71 [=======================>......] - ETA: 0s - loss: 0.2648 - accuracy: 0.9038\n",
            "Epoch 120: saving model to models\\keypoint_classifier.hdf5\n",
            "71/71 [==============================] - 0s 4ms/step - loss: 0.2635 - accuracy: 0.9029 - val_loss: 0.2330 - val_accuracy: 0.9213\n",
            "Epoch 121/1000\n",
            "57/71 [=======================>......] - ETA: 0s - loss: 0.2561 - accuracy: 0.9053\n",
            "Epoch 121: saving model to models\\keypoint_classifier.hdf5\n",
            "71/71 [==============================] - 0s 4ms/step - loss: 0.2599 - accuracy: 0.9034 - val_loss: 0.2133 - val_accuracy: 0.9313\n",
            "Epoch 122/1000\n",
            "55/71 [======================>.......] - ETA: 0s - loss: 0.2692 - accuracy: 0.9051\n",
            "Epoch 122: saving model to models\\keypoint_classifier.hdf5\n",
            "71/71 [==============================] - 0s 4ms/step - loss: 0.2664 - accuracy: 0.9053 - val_loss: 0.2097 - val_accuracy: 0.9213\n",
            "Epoch 123/1000\n",
            "66/71 [==========================>...] - ETA: 0s - loss: 0.2650 - accuracy: 0.9039\n",
            "Epoch 123: saving model to models\\keypoint_classifier.hdf5\n",
            "71/71 [==============================] - 0s 5ms/step - loss: 0.2647 - accuracy: 0.9040 - val_loss: 0.1906 - val_accuracy: 0.9383\n",
            "Epoch 124/1000\n",
            "58/71 [=======================>......] - ETA: 0s - loss: 0.2539 - accuracy: 0.9032\n",
            "Epoch 124: saving model to models\\keypoint_classifier.hdf5\n",
            "71/71 [==============================] - 0s 4ms/step - loss: 0.2534 - accuracy: 0.9034 - val_loss: 0.3087 - val_accuracy: 0.8897\n",
            "Epoch 125/1000\n",
            "56/71 [======================>.......] - ETA: 0s - loss: 0.2737 - accuracy: 0.8997\n",
            "Epoch 125: saving model to models\\keypoint_classifier.hdf5\n",
            "71/71 [==============================] - 0s 4ms/step - loss: 0.2723 - accuracy: 0.9014 - val_loss: 0.3010 - val_accuracy: 0.8837\n",
            "Epoch 126/1000\n",
            "57/71 [=======================>......] - ETA: 0s - loss: 0.2448 - accuracy: 0.9078\n",
            "Epoch 126: saving model to models\\keypoint_classifier.hdf5\n",
            "71/71 [==============================] - 0s 4ms/step - loss: 0.2440 - accuracy: 0.9078 - val_loss: 0.1792 - val_accuracy: 0.9417\n",
            "Epoch 127/1000\n",
            "69/71 [============================>.] - ETA: 0s - loss: 0.2610 - accuracy: 0.9046\n",
            "Epoch 127: saving model to models\\keypoint_classifier.hdf5\n",
            "71/71 [==============================] - 0s 4ms/step - loss: 0.2619 - accuracy: 0.9046 - val_loss: 0.2089 - val_accuracy: 0.9237\n",
            "Epoch 128/1000\n",
            "58/71 [=======================>......] - ETA: 0s - loss: 0.2684 - accuracy: 0.9018\n",
            "Epoch 128: saving model to models\\keypoint_classifier.hdf5\n",
            "71/71 [==============================] - 0s 4ms/step - loss: 0.2638 - accuracy: 0.9037 - val_loss: 0.2249 - val_accuracy: 0.9090\n",
            "Epoch 129/1000\n",
            "57/71 [=======================>......] - ETA: 0s - loss: 0.2406 - accuracy: 0.9109\n",
            "Epoch 129: saving model to models\\keypoint_classifier.hdf5\n",
            "71/71 [==============================] - 0s 4ms/step - loss: 0.2441 - accuracy: 0.9102 - val_loss: 0.1902 - val_accuracy: 0.9343\n",
            "Epoch 130/1000\n",
            "55/71 [======================>.......] - ETA: 0s - loss: 0.2540 - accuracy: 0.9062\n",
            "Epoch 130: saving model to models\\keypoint_classifier.hdf5\n",
            "71/71 [==============================] - 0s 4ms/step - loss: 0.2602 - accuracy: 0.9044 - val_loss: 0.2295 - val_accuracy: 0.9150\n",
            "Epoch 131/1000\n",
            "56/71 [======================>.......] - ETA: 0s - loss: 0.2485 - accuracy: 0.9100\n",
            "Epoch 131: saving model to models\\keypoint_classifier.hdf5\n",
            "71/71 [==============================] - 0s 4ms/step - loss: 0.2517 - accuracy: 0.9083 - val_loss: 0.2501 - val_accuracy: 0.9010\n",
            "Epoch 132/1000\n",
            "56/71 [======================>.......] - ETA: 0s - loss: 0.2556 - accuracy: 0.9049\n",
            "Epoch 132: saving model to models\\keypoint_classifier.hdf5\n",
            "71/71 [==============================] - 0s 4ms/step - loss: 0.2535 - accuracy: 0.9060 - val_loss: 0.1835 - val_accuracy: 0.9320\n",
            "Epoch 133/1000\n",
            "58/71 [=======================>......] - ETA: 0s - loss: 0.2567 - accuracy: 0.9056\n",
            "Epoch 133: saving model to models\\keypoint_classifier.hdf5\n",
            "71/71 [==============================] - 0s 4ms/step - loss: 0.2561 - accuracy: 0.9056 - val_loss: 0.3190 - val_accuracy: 0.9003\n",
            "Epoch 134/1000\n",
            "57/71 [=======================>......] - ETA: 0s - loss: 0.2428 - accuracy: 0.9108\n",
            "Epoch 134: saving model to models\\keypoint_classifier.hdf5\n",
            "71/71 [==============================] - 0s 4ms/step - loss: 0.2469 - accuracy: 0.9087 - val_loss: 0.1468 - val_accuracy: 0.9497\n",
            "Epoch 135/1000\n",
            "65/71 [==========================>...] - ETA: 0s - loss: 0.2608 - accuracy: 0.9043\n",
            "Epoch 135: saving model to models\\keypoint_classifier.hdf5\n",
            "71/71 [==============================] - 0s 5ms/step - loss: 0.2585 - accuracy: 0.9053 - val_loss: 0.1680 - val_accuracy: 0.9417\n",
            "Epoch 136/1000\n",
            "56/71 [======================>.......] - ETA: 0s - loss: 0.2542 - accuracy: 0.9054\n",
            "Epoch 136: saving model to models\\keypoint_classifier.hdf5\n",
            "71/71 [==============================] - 0s 4ms/step - loss: 0.2498 - accuracy: 0.9068 - val_loss: 0.3928 - val_accuracy: 0.8700\n",
            "Epoch 137/1000\n",
            "58/71 [=======================>......] - ETA: 0s - loss: 0.2490 - accuracy: 0.9058\n",
            "Epoch 137: saving model to models\\keypoint_classifier.hdf5\n",
            "71/71 [==============================] - 0s 4ms/step - loss: 0.2488 - accuracy: 0.9078 - val_loss: 0.3148 - val_accuracy: 0.8923\n",
            "Epoch 138/1000\n",
            "56/71 [======================>.......] - ETA: 0s - loss: 0.2563 - accuracy: 0.9029\n",
            "Epoch 138: saving model to models\\keypoint_classifier.hdf5\n",
            "71/71 [==============================] - 0s 4ms/step - loss: 0.2565 - accuracy: 0.9027 - val_loss: 0.2484 - val_accuracy: 0.9120\n",
            "Epoch 139/1000\n",
            "57/71 [=======================>......] - ETA: 0s - loss: 0.2398 - accuracy: 0.9101\n",
            "Epoch 139: saving model to models\\keypoint_classifier.hdf5\n",
            "71/71 [==============================] - 0s 4ms/step - loss: 0.2472 - accuracy: 0.9073 - val_loss: 0.2231 - val_accuracy: 0.9307\n",
            "Epoch 140/1000\n",
            "57/71 [=======================>......] - ETA: 0s - loss: 0.2502 - accuracy: 0.9084\n",
            "Epoch 140: saving model to models\\keypoint_classifier.hdf5\n",
            "71/71 [==============================] - 0s 4ms/step - loss: 0.2441 - accuracy: 0.9103 - val_loss: 0.2291 - val_accuracy: 0.9147\n",
            "Epoch 141/1000\n",
            "57/71 [=======================>......] - ETA: 0s - loss: 0.2503 - accuracy: 0.9108\n",
            "Epoch 141: saving model to models\\keypoint_classifier.hdf5\n",
            "71/71 [==============================] - 0s 4ms/step - loss: 0.2513 - accuracy: 0.9117 - val_loss: 0.1832 - val_accuracy: 0.9307\n",
            "Epoch 142/1000\n",
            "56/71 [======================>.......] - ETA: 0s - loss: 0.2441 - accuracy: 0.9099\n",
            "Epoch 142: saving model to models\\keypoint_classifier.hdf5\n",
            "71/71 [==============================] - 0s 4ms/step - loss: 0.2423 - accuracy: 0.9114 - val_loss: 0.2326 - val_accuracy: 0.9133\n",
            "Epoch 143/1000\n",
            "54/71 [=====================>........] - ETA: 0s - loss: 0.2345 - accuracy: 0.9119\n",
            "Epoch 143: saving model to models\\keypoint_classifier.hdf5\n",
            "71/71 [==============================] - 0s 4ms/step - loss: 0.2362 - accuracy: 0.9119 - val_loss: 0.1729 - val_accuracy: 0.9460\n",
            "Epoch 144/1000\n",
            "54/71 [=====================>........] - ETA: 0s - loss: 0.2378 - accuracy: 0.9142\n",
            "Epoch 144: saving model to models\\keypoint_classifier.hdf5\n",
            "71/71 [==============================] - 0s 4ms/step - loss: 0.2351 - accuracy: 0.9144 - val_loss: 0.1750 - val_accuracy: 0.9403\n",
            "Epoch 145/1000\n",
            "56/71 [======================>.......] - ETA: 0s - loss: 0.2428 - accuracy: 0.9085\n",
            "Epoch 145: saving model to models\\keypoint_classifier.hdf5\n",
            "71/71 [==============================] - 0s 4ms/step - loss: 0.2439 - accuracy: 0.9097 - val_loss: 0.2564 - val_accuracy: 0.9003\n",
            "Epoch 146/1000\n",
            "55/71 [======================>.......] - ETA: 0s - loss: 0.2339 - accuracy: 0.9121\n",
            "Epoch 146: saving model to models\\keypoint_classifier.hdf5\n",
            "71/71 [==============================] - 0s 4ms/step - loss: 0.2381 - accuracy: 0.9121 - val_loss: 0.1650 - val_accuracy: 0.9437\n",
            "Epoch 147/1000\n",
            "56/71 [======================>.......] - ETA: 0s - loss: 0.2463 - accuracy: 0.9081\n",
            "Epoch 147: saving model to models\\keypoint_classifier.hdf5\n",
            "71/71 [==============================] - 0s 4ms/step - loss: 0.2470 - accuracy: 0.9086 - val_loss: 0.1928 - val_accuracy: 0.9277\n",
            "Epoch 148/1000\n",
            "57/71 [=======================>......] - ETA: 0s - loss: 0.2326 - accuracy: 0.9164\n",
            "Epoch 148: saving model to models\\keypoint_classifier.hdf5\n",
            "71/71 [==============================] - 0s 4ms/step - loss: 0.2366 - accuracy: 0.9153 - val_loss: 0.2413 - val_accuracy: 0.9097\n",
            "Epoch 149/1000\n",
            "70/71 [============================>.] - ETA: 0s - loss: 0.2397 - accuracy: 0.9135\n",
            "Epoch 149: saving model to models\\keypoint_classifier.hdf5\n",
            "71/71 [==============================] - 0s 4ms/step - loss: 0.2397 - accuracy: 0.9137 - val_loss: 0.1928 - val_accuracy: 0.9380\n",
            "Epoch 150/1000\n",
            "55/71 [======================>.......] - ETA: 0s - loss: 0.2370 - accuracy: 0.9138\n",
            "Epoch 150: saving model to models\\keypoint_classifier.hdf5\n",
            "71/71 [==============================] - 0s 4ms/step - loss: 0.2440 - accuracy: 0.9118 - val_loss: 0.2708 - val_accuracy: 0.9013\n",
            "Epoch 151/1000\n",
            "57/71 [=======================>......] - ETA: 0s - loss: 0.2453 - accuracy: 0.9090\n",
            "Epoch 151: saving model to models\\keypoint_classifier.hdf5\n",
            "71/71 [==============================] - 0s 4ms/step - loss: 0.2467 - accuracy: 0.9086 - val_loss: 0.1736 - val_accuracy: 0.9403\n",
            "Epoch 152/1000\n",
            "57/71 [=======================>......] - ETA: 0s - loss: 0.2284 - accuracy: 0.9179\n",
            "Epoch 152: saving model to models\\keypoint_classifier.hdf5\n",
            "71/71 [==============================] - 0s 4ms/step - loss: 0.2287 - accuracy: 0.9171 - val_loss: 0.1630 - val_accuracy: 0.9447\n",
            "Epoch 153/1000\n",
            "58/71 [=======================>......] - ETA: 0s - loss: 0.2384 - accuracy: 0.9138\n",
            "Epoch 153: saving model to models\\keypoint_classifier.hdf5\n",
            "71/71 [==============================] - 0s 4ms/step - loss: 0.2369 - accuracy: 0.9138 - val_loss: 0.1755 - val_accuracy: 0.9413\n",
            "Epoch 154/1000\n",
            "55/71 [======================>.......] - ETA: 0s - loss: 0.2560 - accuracy: 0.9070\n",
            "Epoch 154: saving model to models\\keypoint_classifier.hdf5\n",
            "71/71 [==============================] - 0s 4ms/step - loss: 0.2498 - accuracy: 0.9073 - val_loss: 0.1895 - val_accuracy: 0.9357\n",
            "Epoch 155/1000\n",
            "56/71 [======================>.......] - ETA: 0s - loss: 0.2331 - accuracy: 0.9173\n",
            "Epoch 155: saving model to models\\keypoint_classifier.hdf5\n",
            "71/71 [==============================] - 0s 4ms/step - loss: 0.2338 - accuracy: 0.9172 - val_loss: 0.1887 - val_accuracy: 0.9320\n",
            "Epoch 156/1000\n",
            "56/71 [======================>.......] - ETA: 0s - loss: 0.2353 - accuracy: 0.9128\n",
            "Epoch 156: saving model to models\\keypoint_classifier.hdf5\n",
            "71/71 [==============================] - 0s 4ms/step - loss: 0.2349 - accuracy: 0.9138 - val_loss: 0.1532 - val_accuracy: 0.9470\n",
            "Epoch 157/1000\n",
            "56/71 [======================>.......] - ETA: 0s - loss: 0.2379 - accuracy: 0.9125\n",
            "Epoch 157: saving model to models\\keypoint_classifier.hdf5\n",
            "71/71 [==============================] - 0s 4ms/step - loss: 0.2393 - accuracy: 0.9123 - val_loss: 0.2016 - val_accuracy: 0.9327\n",
            "Epoch 158/1000\n",
            "57/71 [=======================>......] - ETA: 0s - loss: 0.2400 - accuracy: 0.9127\n",
            "Epoch 158: saving model to models\\keypoint_classifier.hdf5\n",
            "71/71 [==============================] - 0s 4ms/step - loss: 0.2396 - accuracy: 0.9117 - val_loss: 0.1723 - val_accuracy: 0.9413\n",
            "Epoch 159/1000\n",
            "58/71 [=======================>......] - ETA: 0s - loss: 0.2343 - accuracy: 0.9123\n",
            "Epoch 159: saving model to models\\keypoint_classifier.hdf5\n",
            "71/71 [==============================] - 0s 4ms/step - loss: 0.2337 - accuracy: 0.9143 - val_loss: 0.1952 - val_accuracy: 0.9310\n",
            "Epoch 160/1000\n",
            "55/71 [======================>.......] - ETA: 0s - loss: 0.2331 - accuracy: 0.9129\n",
            "Epoch 160: saving model to models\\keypoint_classifier.hdf5\n",
            "71/71 [==============================] - 0s 4ms/step - loss: 0.2378 - accuracy: 0.9112 - val_loss: 0.1938 - val_accuracy: 0.9293\n",
            "Epoch 161/1000\n",
            "55/71 [======================>.......] - ETA: 0s - loss: 0.2292 - accuracy: 0.9186\n",
            "Epoch 161: saving model to models\\keypoint_classifier.hdf5\n",
            "71/71 [==============================] - 0s 4ms/step - loss: 0.2328 - accuracy: 0.9166 - val_loss: 0.1689 - val_accuracy: 0.9393\n",
            "Epoch 162/1000\n",
            "57/71 [=======================>......] - ETA: 0s - loss: 0.2377 - accuracy: 0.9130\n",
            "Epoch 162: saving model to models\\keypoint_classifier.hdf5\n",
            "71/71 [==============================] - 0s 4ms/step - loss: 0.2400 - accuracy: 0.9119 - val_loss: 0.1733 - val_accuracy: 0.9377\n",
            "Epoch 163/1000\n",
            "56/71 [======================>.......] - ETA: 0s - loss: 0.2269 - accuracy: 0.9157\n",
            "Epoch 163: saving model to models\\keypoint_classifier.hdf5\n",
            "71/71 [==============================] - 0s 4ms/step - loss: 0.2268 - accuracy: 0.9163 - val_loss: 0.1549 - val_accuracy: 0.9437\n",
            "Epoch 164/1000\n",
            "55/71 [======================>.......] - ETA: 0s - loss: 0.2344 - accuracy: 0.9139\n",
            "Epoch 164: saving model to models\\keypoint_classifier.hdf5\n",
            "71/71 [==============================] - 0s 4ms/step - loss: 0.2330 - accuracy: 0.9157 - val_loss: 0.1720 - val_accuracy: 0.9437\n",
            "Epoch 164: early stopping\n"
          ]
        },
        {
          "data": {
            "text/plain": [
              "<keras.src.callbacks.History at 0x19b5487c950>"
            ]
          },
          "execution_count": 15,
          "metadata": {},
          "output_type": "execute_result"
        }
      ],
      "source": [
        "model.fit(\n",
        "    X_train,\n",
        "    y_train,\n",
        "    epochs=1000,\n",
        "    batch_size=128,\n",
        "    validation_data=(X_test, y_test),\n",
        "    callbacks=[cp_callback, es_callback]\n",
        ")"
      ]
    },
    {
      "cell_type": "code",
      "execution_count": 16,
      "metadata": {
        "colab": {
          "base_uri": "https://localhost:8080/"
        },
        "id": "pxvb2Y299hE3",
        "outputId": "59eb3185-2e37-4b9e-bc9d-ab1b8ac29b7f"
      },
      "outputs": [
        {
          "name": "stdout",
          "output_type": "stream",
          "text": [
            " 1/24 [>.............................] - ETA: 0s - loss: 0.1170 - accuracy: 0.9609"
          ]
        },
        {
          "name": "stdout",
          "output_type": "stream",
          "text": [
            "24/24 [==============================] - 0s 2ms/step - loss: 0.1720 - accuracy: 0.9437\n"
          ]
        }
      ],
      "source": [
        "# Model evaluation\n",
        "val_loss, val_acc = model.evaluate(X_test, y_test, batch_size=128)"
      ]
    },
    {
      "cell_type": "code",
      "execution_count": 17,
      "metadata": {
        "id": "RBkmDeUW9hE4"
      },
      "outputs": [],
      "source": [
        "# Loading the saved model\n",
        "model = tf.keras.models.load_model(model_save_path)"
      ]
    },
    {
      "cell_type": "code",
      "execution_count": 18,
      "metadata": {
        "colab": {
          "base_uri": "https://localhost:8080/"
        },
        "id": "tFz9Tb0I9hE4",
        "outputId": "1c3b3528-54ae-4ee2-ab04-77429211cbef"
      },
      "outputs": [
        {
          "name": "stdout",
          "output_type": "stream",
          "text": [
            "1/1 [==============================] - 0s 187ms/step\n",
            "[2.2360769e-09 1.0000000e+00 4.0830111e-13 1.1424379e-13 1.1838326e-10\n",
            " 1.2250827e-08 5.8053876e-13 2.6897911e-08 3.7686904e-10 5.8081460e-09\n",
            " 2.6168315e-10 1.2236867e-11]\n",
            "1\n"
          ]
        }
      ],
      "source": [
        "# Inference test\n",
        "predict_result = model.predict(np.array([X_test[0]]))\n",
        "print(np.squeeze(predict_result))\n",
        "print(np.argmax(np.squeeze(predict_result)))"
      ]
    },
    {
      "cell_type": "markdown",
      "metadata": {},
      "source": [
        "# Integrate with secondary model"
      ]
    },
    {
      "cell_type": "code",
      "execution_count": 19,
      "metadata": {},
      "outputs": [],
      "source": [
        "# Determine the index of 'stop' and 'palm'\n",
        "label_stop = LABELS.index('stop')\n",
        "label_palm = LABELS.index('palm')\n",
        "\n",
        "# Filter out samples for 'stop' and 'palm'\n",
        "secondary_X = X_dataset_preprocessed[np.logical_or(y_dataset == label_stop, y_dataset == label_palm)]\n",
        "secondary_y = y_dataset[np.logical_or(y_dataset == label_stop, y_dataset == label_palm)]\n",
        "\n",
        "# Create binary labels (0 and 1) for 'stop' and 'palm'\n",
        "secondary_y = np.where(secondary_y == label_stop, 0, 1)  # Set 'stop' to 0, 'palm' to 1\n",
        "\n",
        "# Split secondary data sets\n",
        "X_train_secondary, X_test_secondary, y_train_secondary, y_test_secondary = train_test_split(\n",
        "    secondary_X, secondary_y, train_size=0.75, random_state=RANDOM_SEED\n",
        ")"
      ]
    },
    {
      "cell_type": "code",
      "execution_count": 20,
      "metadata": {},
      "outputs": [
        {
          "name": "stdout",
          "output_type": "stream",
          "text": [
            "Epoch 1/100\n",
            "47/47 [==============================] - 1s 7ms/step - loss: 0.6972 - accuracy: 0.4860 - val_loss: 0.6917 - val_accuracy: 0.5360\n",
            "Epoch 2/100\n",
            "47/47 [==============================] - 0s 2ms/step - loss: 0.6909 - accuracy: 0.5407 - val_loss: 0.6896 - val_accuracy: 0.5300\n",
            "Epoch 3/100\n",
            "47/47 [==============================] - 0s 2ms/step - loss: 0.6889 - accuracy: 0.5467 - val_loss: 0.6854 - val_accuracy: 0.5540\n",
            "Epoch 4/100\n",
            "47/47 [==============================] - 0s 2ms/step - loss: 0.6867 - accuracy: 0.5667 - val_loss: 0.6808 - val_accuracy: 0.6560\n",
            "Epoch 5/100\n",
            "47/47 [==============================] - 0s 2ms/step - loss: 0.6840 - accuracy: 0.5840 - val_loss: 0.6867 - val_accuracy: 0.4960\n",
            "Epoch 6/100\n",
            "47/47 [==============================] - 0s 2ms/step - loss: 0.6795 - accuracy: 0.5847 - val_loss: 0.6744 - val_accuracy: 0.5580\n",
            "Epoch 7/100\n",
            "47/47 [==============================] - 0s 2ms/step - loss: 0.6786 - accuracy: 0.5607 - val_loss: 0.6819 - val_accuracy: 0.5240\n",
            "Epoch 8/100\n",
            "47/47 [==============================] - 0s 2ms/step - loss: 0.6722 - accuracy: 0.6093 - val_loss: 0.6616 - val_accuracy: 0.6620\n",
            "Epoch 9/100\n",
            "47/47 [==============================] - 0s 2ms/step - loss: 0.6602 - accuracy: 0.6453 - val_loss: 0.6518 - val_accuracy: 0.6900\n",
            "Epoch 10/100\n",
            "47/47 [==============================] - 0s 2ms/step - loss: 0.6506 - accuracy: 0.6533 - val_loss: 0.6455 - val_accuracy: 0.6180\n",
            "Epoch 11/100\n",
            "47/47 [==============================] - 0s 2ms/step - loss: 0.6417 - accuracy: 0.6767 - val_loss: 0.6412 - val_accuracy: 0.6060\n",
            "Epoch 12/100\n",
            "47/47 [==============================] - 0s 2ms/step - loss: 0.6352 - accuracy: 0.6460 - val_loss: 0.6201 - val_accuracy: 0.6800\n",
            "Epoch 13/100\n",
            "47/47 [==============================] - 0s 2ms/step - loss: 0.6125 - accuracy: 0.7153 - val_loss: 0.6435 - val_accuracy: 0.5920\n",
            "Epoch 14/100\n",
            "47/47 [==============================] - 0s 2ms/step - loss: 0.5974 - accuracy: 0.7373 - val_loss: 0.5801 - val_accuracy: 0.7280\n",
            "Epoch 15/100\n",
            "47/47 [==============================] - 0s 2ms/step - loss: 0.5879 - accuracy: 0.7140 - val_loss: 0.5650 - val_accuracy: 0.7540\n",
            "Epoch 16/100\n",
            "47/47 [==============================] - 0s 2ms/step - loss: 0.5679 - accuracy: 0.7387 - val_loss: 0.5687 - val_accuracy: 0.7260\n",
            "Epoch 17/100\n",
            "47/47 [==============================] - 0s 2ms/step - loss: 0.5499 - accuracy: 0.7487 - val_loss: 0.6088 - val_accuracy: 0.6320\n",
            "Epoch 18/100\n",
            "47/47 [==============================] - 0s 2ms/step - loss: 0.5488 - accuracy: 0.7400 - val_loss: 0.5255 - val_accuracy: 0.7640\n",
            "Epoch 19/100\n",
            "47/47 [==============================] - 0s 2ms/step - loss: 0.5412 - accuracy: 0.7440 - val_loss: 0.5008 - val_accuracy: 0.8280\n",
            "Epoch 20/100\n",
            "47/47 [==============================] - 0s 2ms/step - loss: 0.5170 - accuracy: 0.7653 - val_loss: 0.5093 - val_accuracy: 0.7660\n",
            "Epoch 21/100\n",
            "47/47 [==============================] - 0s 2ms/step - loss: 0.5004 - accuracy: 0.7927 - val_loss: 0.5208 - val_accuracy: 0.7220\n",
            "Epoch 22/100\n",
            "47/47 [==============================] - 0s 2ms/step - loss: 0.4876 - accuracy: 0.7907 - val_loss: 0.4686 - val_accuracy: 0.8100\n",
            "Epoch 23/100\n",
            "47/47 [==============================] - 0s 2ms/step - loss: 0.4637 - accuracy: 0.8313 - val_loss: 0.4480 - val_accuracy: 0.8500\n",
            "Epoch 24/100\n",
            "47/47 [==============================] - 0s 2ms/step - loss: 0.4646 - accuracy: 0.7980 - val_loss: 0.4529 - val_accuracy: 0.7880\n",
            "Epoch 25/100\n",
            "47/47 [==============================] - 0s 2ms/step - loss: 0.4437 - accuracy: 0.8233 - val_loss: 0.4186 - val_accuracy: 0.8640\n",
            "Epoch 26/100\n",
            "47/47 [==============================] - 0s 2ms/step - loss: 0.4351 - accuracy: 0.8193 - val_loss: 0.3958 - val_accuracy: 0.8800\n",
            "Epoch 27/100\n",
            "47/47 [==============================] - 0s 2ms/step - loss: 0.4201 - accuracy: 0.8393 - val_loss: 0.4198 - val_accuracy: 0.8100\n",
            "Epoch 28/100\n",
            "47/47 [==============================] - 0s 2ms/step - loss: 0.4080 - accuracy: 0.8373 - val_loss: 0.3848 - val_accuracy: 0.8560\n",
            "Epoch 29/100\n",
            "47/47 [==============================] - 0s 2ms/step - loss: 0.3798 - accuracy: 0.8673 - val_loss: 0.3652 - val_accuracy: 0.8760\n",
            "Epoch 30/100\n",
            "47/47 [==============================] - 0s 2ms/step - loss: 0.3924 - accuracy: 0.8427 - val_loss: 0.3825 - val_accuracy: 0.8600\n",
            "Epoch 31/100\n",
            "47/47 [==============================] - 0s 2ms/step - loss: 0.3833 - accuracy: 0.8533 - val_loss: 0.3899 - val_accuracy: 0.8200\n",
            "Epoch 32/100\n",
            "47/47 [==============================] - 0s 2ms/step - loss: 0.3620 - accuracy: 0.8667 - val_loss: 0.3271 - val_accuracy: 0.9160\n",
            "Epoch 33/100\n",
            "47/47 [==============================] - 0s 2ms/step - loss: 0.3404 - accuracy: 0.8847 - val_loss: 0.3237 - val_accuracy: 0.9100\n",
            "Epoch 34/100\n",
            "47/47 [==============================] - 0s 2ms/step - loss: 0.3388 - accuracy: 0.8800 - val_loss: 0.3271 - val_accuracy: 0.9000\n",
            "Epoch 35/100\n",
            "47/47 [==============================] - 0s 2ms/step - loss: 0.3222 - accuracy: 0.8893 - val_loss: 0.2947 - val_accuracy: 0.9240\n",
            "Epoch 36/100\n",
            "47/47 [==============================] - 0s 3ms/step - loss: 0.3107 - accuracy: 0.9020 - val_loss: 0.4142 - val_accuracy: 0.7820\n",
            "Epoch 37/100\n",
            "47/47 [==============================] - 0s 2ms/step - loss: 0.3043 - accuracy: 0.8993 - val_loss: 0.2779 - val_accuracy: 0.9300\n",
            "Epoch 38/100\n",
            "47/47 [==============================] - 0s 2ms/step - loss: 0.3064 - accuracy: 0.8853 - val_loss: 0.2797 - val_accuracy: 0.9260\n",
            "Epoch 39/100\n",
            "47/47 [==============================] - 0s 2ms/step - loss: 0.2834 - accuracy: 0.9120 - val_loss: 0.3026 - val_accuracy: 0.8680\n",
            "Epoch 40/100\n",
            "47/47 [==============================] - 0s 2ms/step - loss: 0.2990 - accuracy: 0.8780 - val_loss: 0.2553 - val_accuracy: 0.9360\n",
            "Epoch 41/100\n",
            "47/47 [==============================] - 0s 2ms/step - loss: 0.2677 - accuracy: 0.9167 - val_loss: 0.2470 - val_accuracy: 0.9300\n",
            "Epoch 42/100\n",
            "47/47 [==============================] - 0s 2ms/step - loss: 0.2587 - accuracy: 0.9193 - val_loss: 0.2598 - val_accuracy: 0.9160\n",
            "Epoch 43/100\n",
            "47/47 [==============================] - 0s 2ms/step - loss: 0.2543 - accuracy: 0.9147 - val_loss: 0.2357 - val_accuracy: 0.9420\n",
            "Epoch 44/100\n",
            "47/47 [==============================] - 0s 2ms/step - loss: 0.2495 - accuracy: 0.9167 - val_loss: 0.2572 - val_accuracy: 0.9240\n",
            "Epoch 45/100\n",
            "47/47 [==============================] - 0s 2ms/step - loss: 0.2440 - accuracy: 0.9187 - val_loss: 0.2313 - val_accuracy: 0.9380\n",
            "Epoch 46/100\n",
            "47/47 [==============================] - 0s 2ms/step - loss: 0.2585 - accuracy: 0.8927 - val_loss: 0.3307 - val_accuracy: 0.8420\n",
            "Epoch 47/100\n",
            "47/47 [==============================] - 0s 2ms/step - loss: 0.2385 - accuracy: 0.9227 - val_loss: 0.2209 - val_accuracy: 0.9280\n",
            "Epoch 48/100\n",
            "47/47 [==============================] - 0s 2ms/step - loss: 0.2494 - accuracy: 0.9040 - val_loss: 0.2779 - val_accuracy: 0.8840\n",
            "Epoch 49/100\n",
            "47/47 [==============================] - 0s 2ms/step - loss: 0.2383 - accuracy: 0.9140 - val_loss: 0.2356 - val_accuracy: 0.9140\n",
            "Epoch 50/100\n",
            "47/47 [==============================] - 0s 2ms/step - loss: 0.2429 - accuracy: 0.9027 - val_loss: 0.2639 - val_accuracy: 0.8800\n",
            "Epoch 51/100\n",
            "47/47 [==============================] - 0s 2ms/step - loss: 0.2148 - accuracy: 0.9347 - val_loss: 0.2146 - val_accuracy: 0.9260\n",
            "Epoch 52/100\n",
            "47/47 [==============================] - 0s 2ms/step - loss: 0.2156 - accuracy: 0.9293 - val_loss: 0.1876 - val_accuracy: 0.9480\n",
            "Epoch 53/100\n",
            "47/47 [==============================] - 0s 2ms/step - loss: 0.2017 - accuracy: 0.9340 - val_loss: 0.1828 - val_accuracy: 0.9540\n",
            "Epoch 54/100\n",
            "47/47 [==============================] - 0s 2ms/step - loss: 0.2062 - accuracy: 0.9400 - val_loss: 0.1833 - val_accuracy: 0.9480\n",
            "Epoch 55/100\n",
            "47/47 [==============================] - 0s 2ms/step - loss: 0.1974 - accuracy: 0.9347 - val_loss: 0.1722 - val_accuracy: 0.9520\n",
            "Epoch 56/100\n",
            "47/47 [==============================] - 0s 2ms/step - loss: 0.2183 - accuracy: 0.9253 - val_loss: 0.2133 - val_accuracy: 0.9320\n",
            "Epoch 57/100\n",
            "47/47 [==============================] - 0s 2ms/step - loss: 0.2226 - accuracy: 0.9113 - val_loss: 0.1784 - val_accuracy: 0.9540\n",
            "Epoch 58/100\n",
            "47/47 [==============================] - 0s 2ms/step - loss: 0.1977 - accuracy: 0.9367 - val_loss: 0.2110 - val_accuracy: 0.9140\n",
            "Epoch 59/100\n",
            "47/47 [==============================] - 0s 2ms/step - loss: 0.1772 - accuracy: 0.9513 - val_loss: 0.1663 - val_accuracy: 0.9560\n",
            "Epoch 60/100\n",
            "47/47 [==============================] - 0s 2ms/step - loss: 0.2147 - accuracy: 0.9180 - val_loss: 0.2223 - val_accuracy: 0.8980\n",
            "Epoch 61/100\n",
            "47/47 [==============================] - 0s 2ms/step - loss: 0.1780 - accuracy: 0.9413 - val_loss: 0.1617 - val_accuracy: 0.9520\n",
            "Epoch 62/100\n",
            "47/47 [==============================] - 0s 2ms/step - loss: 0.1731 - accuracy: 0.9493 - val_loss: 0.1744 - val_accuracy: 0.9480\n",
            "Epoch 63/100\n",
            "47/47 [==============================] - 0s 2ms/step - loss: 0.1809 - accuracy: 0.9387 - val_loss: 0.1620 - val_accuracy: 0.9580\n",
            "Epoch 64/100\n",
            "47/47 [==============================] - 0s 2ms/step - loss: 0.1720 - accuracy: 0.9493 - val_loss: 0.2312 - val_accuracy: 0.8900\n",
            "Epoch 65/100\n",
            "47/47 [==============================] - 0s 2ms/step - loss: 0.1894 - accuracy: 0.9287 - val_loss: 0.1472 - val_accuracy: 0.9580\n",
            "Epoch 66/100\n",
            "47/47 [==============================] - 0s 2ms/step - loss: 0.2416 - accuracy: 0.8993 - val_loss: 0.2198 - val_accuracy: 0.9040\n",
            "Epoch 67/100\n",
            "47/47 [==============================] - 0s 2ms/step - loss: 0.1684 - accuracy: 0.9480 - val_loss: 0.1508 - val_accuracy: 0.9600\n",
            "Epoch 68/100\n",
            "47/47 [==============================] - 0s 2ms/step - loss: 0.1653 - accuracy: 0.9473 - val_loss: 0.1668 - val_accuracy: 0.9500\n",
            "Epoch 69/100\n",
            "47/47 [==============================] - 0s 2ms/step - loss: 0.1505 - accuracy: 0.9573 - val_loss: 0.1374 - val_accuracy: 0.9620\n",
            "Epoch 70/100\n",
            "47/47 [==============================] - 0s 2ms/step - loss: 0.1616 - accuracy: 0.9513 - val_loss: 0.1399 - val_accuracy: 0.9560\n",
            "Epoch 71/100\n",
            "47/47 [==============================] - 0s 2ms/step - loss: 0.1767 - accuracy: 0.9333 - val_loss: 0.2147 - val_accuracy: 0.9040\n",
            "Epoch 72/100\n",
            "47/47 [==============================] - 0s 2ms/step - loss: 0.1731 - accuracy: 0.9407 - val_loss: 0.1473 - val_accuracy: 0.9540\n",
            "Epoch 73/100\n",
            "47/47 [==============================] - 0s 2ms/step - loss: 0.1613 - accuracy: 0.9453 - val_loss: 0.2822 - val_accuracy: 0.8540\n",
            "Epoch 74/100\n",
            "47/47 [==============================] - 0s 2ms/step - loss: 0.1515 - accuracy: 0.9507 - val_loss: 0.1692 - val_accuracy: 0.9340\n",
            "Epoch 75/100\n",
            "47/47 [==============================] - 0s 2ms/step - loss: 0.1597 - accuracy: 0.9413 - val_loss: 0.1712 - val_accuracy: 0.9420\n",
            "Epoch 76/100\n",
            "47/47 [==============================] - 0s 2ms/step - loss: 0.1552 - accuracy: 0.9500 - val_loss: 0.1495 - val_accuracy: 0.9560\n",
            "Epoch 77/100\n",
            "47/47 [==============================] - 0s 2ms/step - loss: 0.1380 - accuracy: 0.9600 - val_loss: 0.1339 - val_accuracy: 0.9520\n",
            "Epoch 78/100\n",
            "47/47 [==============================] - 0s 2ms/step - loss: 0.1369 - accuracy: 0.9580 - val_loss: 0.1482 - val_accuracy: 0.9500\n",
            "Epoch 79/100\n",
            "47/47 [==============================] - 0s 2ms/step - loss: 0.1516 - accuracy: 0.9540 - val_loss: 0.1414 - val_accuracy: 0.9580\n",
            "Epoch 80/100\n",
            "47/47 [==============================] - 0s 2ms/step - loss: 0.1357 - accuracy: 0.9527 - val_loss: 0.1498 - val_accuracy: 0.9560\n",
            "Epoch 81/100\n",
            "47/47 [==============================] - 0s 2ms/step - loss: 0.1433 - accuracy: 0.9580 - val_loss: 0.1200 - val_accuracy: 0.9600\n",
            "Epoch 82/100\n",
            "47/47 [==============================] - 0s 2ms/step - loss: 0.1378 - accuracy: 0.9547 - val_loss: 0.1391 - val_accuracy: 0.9600\n",
            "Epoch 83/100\n",
            "47/47 [==============================] - 0s 2ms/step - loss: 0.1332 - accuracy: 0.9553 - val_loss: 0.1277 - val_accuracy: 0.9660\n",
            "Epoch 84/100\n",
            "47/47 [==============================] - 0s 2ms/step - loss: 0.1364 - accuracy: 0.9540 - val_loss: 0.1876 - val_accuracy: 0.9220\n",
            "Epoch 85/100\n",
            "47/47 [==============================] - 0s 2ms/step - loss: 0.1254 - accuracy: 0.9653 - val_loss: 0.1172 - val_accuracy: 0.9620\n",
            "Epoch 86/100\n",
            "47/47 [==============================] - 0s 3ms/step - loss: 0.1184 - accuracy: 0.9653 - val_loss: 0.1456 - val_accuracy: 0.9460\n",
            "Epoch 87/100\n",
            "47/47 [==============================] - 0s 2ms/step - loss: 0.1560 - accuracy: 0.9460 - val_loss: 0.3098 - val_accuracy: 0.8640\n",
            "Epoch 88/100\n",
            "47/47 [==============================] - 0s 2ms/step - loss: 0.1729 - accuracy: 0.9287 - val_loss: 0.1586 - val_accuracy: 0.9420\n",
            "Epoch 89/100\n",
            "47/47 [==============================] - 0s 2ms/step - loss: 0.1182 - accuracy: 0.9620 - val_loss: 0.1353 - val_accuracy: 0.9620\n",
            "Epoch 90/100\n",
            "47/47 [==============================] - 0s 2ms/step - loss: 0.1305 - accuracy: 0.9573 - val_loss: 0.1115 - val_accuracy: 0.9600\n",
            "Epoch 91/100\n",
            "47/47 [==============================] - 0s 2ms/step - loss: 0.1368 - accuracy: 0.9527 - val_loss: 0.1153 - val_accuracy: 0.9620\n",
            "Epoch 92/100\n",
            "47/47 [==============================] - 0s 2ms/step - loss: 0.1100 - accuracy: 0.9707 - val_loss: 0.1921 - val_accuracy: 0.9280\n",
            "Epoch 93/100\n",
            "47/47 [==============================] - 0s 2ms/step - loss: 0.1333 - accuracy: 0.9580 - val_loss: 0.1117 - val_accuracy: 0.9600\n",
            "Epoch 94/100\n",
            "47/47 [==============================] - 0s 2ms/step - loss: 0.1117 - accuracy: 0.9600 - val_loss: 0.2026 - val_accuracy: 0.9220\n",
            "Epoch 95/100\n",
            "47/47 [==============================] - 0s 2ms/step - loss: 0.1461 - accuracy: 0.9480 - val_loss: 0.1009 - val_accuracy: 0.9640\n",
            "Epoch 96/100\n",
            "47/47 [==============================] - 0s 2ms/step - loss: 0.1173 - accuracy: 0.9693 - val_loss: 0.2543 - val_accuracy: 0.8720\n",
            "Epoch 97/100\n",
            "47/47 [==============================] - 0s 2ms/step - loss: 0.1529 - accuracy: 0.9447 - val_loss: 0.1085 - val_accuracy: 0.9680\n",
            "Epoch 98/100\n",
            "47/47 [==============================] - 0s 2ms/step - loss: 0.1052 - accuracy: 0.9707 - val_loss: 0.0976 - val_accuracy: 0.9640\n",
            "Epoch 99/100\n",
            "47/47 [==============================] - 0s 2ms/step - loss: 0.1190 - accuracy: 0.9627 - val_loss: 0.1219 - val_accuracy: 0.9640\n",
            "Epoch 100/100\n",
            "47/47 [==============================] - 0s 2ms/step - loss: 0.1195 - accuracy: 0.9653 - val_loss: 0.1159 - val_accuracy: 0.9640\n"
          ]
        },
        {
          "data": {
            "text/plain": [
              "<keras.src.callbacks.History at 0x19b581cd6d0>"
            ]
          },
          "execution_count": 20,
          "metadata": {},
          "output_type": "execute_result"
        }
      ],
      "source": [
        "# Build a secondary classifier\n",
        "secondary_model = tf.keras.models.Sequential([\n",
        "    tf.keras.layers.Dense(64, activation='relu', input_shape=(X_train_secondary.shape[1],)),\n",
        "    tf.keras.layers.Dense(32, activation='relu'),\n",
        "    tf.keras.layers.Dense(2, activation='softmax')  # Binary classification\n",
        "])\n",
        "\n",
        "# Compile secondary model\n",
        "secondary_model.compile(optimizer='adam', loss='sparse_categorical_crossentropy', metrics=['accuracy'])\n",
        "\n",
        "# Train a secondary model\n",
        "secondary_model.fit(X_train_secondary, y_train_secondary, epochs=100, batch_size=32, validation_data=(X_test_secondary, y_test_secondary))\n"
      ]
    },
    {
      "cell_type": "code",
      "execution_count": 21,
      "metadata": {},
      "outputs": [],
      "source": [
        "def integrated_prediction(primary_model, secondary_model, input_data, threshold=0.5):\n",
        "    primary_pred = primary_model.predict(input_data)\n",
        "    primary_label = np.argmax(primary_pred, axis=1)\n",
        "    \n",
        "    # For samples predicted as 'stop' or 'palm' by the primary model, use the secondary model for judgment.\n",
        "    secondary_indices = np.logical_or(primary_label == label_stop, primary_label == label_palm)\n",
        "    secondary_pred = secondary_model.predict(input_data[secondary_indices])\n",
        "    secondary_label = np.argmax(secondary_pred, axis=1)\n",
        "\n",
        "    # Update predictions from the main model\n",
        "    primary_label[secondary_indices] = np.where(secondary_label == 0, label_stop, label_palm)\n",
        "    \n",
        "    return primary_label"
      ]
    },
    {
      "cell_type": "markdown",
      "metadata": {
        "id": "S3U4yNWx9hE4"
      },
      "source": [
        "# Confusion matrix"
      ]
    },
    {
      "cell_type": "code",
      "execution_count": 22,
      "metadata": {
        "colab": {
          "base_uri": "https://localhost:8080/",
          "height": 582
        },
        "id": "AP1V6SCk9hE5",
        "outputId": "08e41a80-7a4a-4619-8125-ecc371368d19"
      },
      "outputs": [
        {
          "name": "stdout",
          "output_type": "stream",
          "text": [
            "94/94 [==============================] - 0s 1ms/step\n",
            "16/16 [==============================] - 0s 1ms/step\n"
          ]
        },
        {
          "data": {
            "image/png": "[encoded data removed]",
            "text/plain": [
              "<Figure size 700x600 with 2 Axes>"
            ]
          },
          "metadata": {},
          "output_type": "display_data"
        },
        {
          "name": "stdout",
          "output_type": "stream",
          "text": [
            "Classification Report\n",
            "              precision    recall  f1-score   support\n",
            "\n",
            "           0       0.98      0.96      0.97       250\n",
            "           1       1.00      0.98      0.99       248\n",
            "           2       0.95      0.99      0.97       254\n",
            "           3       0.97      0.97      0.97       259\n",
            "           4       0.93      0.94      0.94       255\n",
            "           5       1.00      0.98      0.99       261\n",
            "           6       0.94      0.91      0.93       239\n",
            "           7       0.96      0.97      0.97       235\n",
            "           8       0.99      0.99      0.99       254\n",
            "           9       0.92      0.99      0.95       236\n",
            "          10       0.98      0.95      0.96       264\n",
            "          11       0.98      0.98      0.98       245\n",
            "\n",
            "    accuracy                           0.97      3000\n",
            "   macro avg       0.97      0.97      0.97      3000\n",
            "weighted avg       0.97      0.97      0.97      3000\n",
            "\n"
          ]
        }
      ],
      "source": [
        "import pandas as pd\n",
        "import seaborn as sns\n",
        "import matplotlib.pyplot as plt\n",
        "from sklearn.metrics import confusion_matrix, classification_report\n",
        "\n",
        "def print_confusion_matrix(y_true, y_pred, report=True):\n",
        "    labels = sorted(list(set(y_true)))\n",
        "    cmx_data = confusion_matrix(y_true, y_pred, labels=labels)\n",
        "    \n",
        "    df_cmx = pd.DataFrame(cmx_data, index=labels, columns=labels)\n",
        " \n",
        "    fig, ax = plt.subplots(figsize=(7, 6))\n",
        "    sns.heatmap(df_cmx, annot=True, fmt='g' ,square=False)\n",
        "    ax.set_ylim(len(set(y_true)), 0)\n",
        "    plt.show()\n",
        "    \n",
        "    if report:\n",
        "        print('Classification Report')\n",
        "        print(classification_report(y_test, y_pred))\n",
        "\n",
        "# Y_pred = model.predict(X_test)\n",
        "# y_pred = np.argmax(Y_pred, axis=1)\n",
        "\n",
        "y_pred = integrated_prediction(model, secondary_model, X_test)  # Integrated prediction\n",
        "\n",
        "print_confusion_matrix(y_test, y_pred)"
      ]
    },
    {
      "cell_type": "markdown",
      "metadata": {
        "id": "FNP6aqzc9hE5"
      },
      "source": [
        "# Convert to model for Tensorflow-Lite"
      ]
    },
    {
      "cell_type": "code",
      "execution_count": 31,
      "metadata": {
        "id": "ODjnYyld9hE6"
      },
      "outputs": [],
      "source": [
        "# Save as a model dedicated to inference\n",
        "model.save(model_save_path, include_optimizer=False)"
      ]
    },
    {
      "cell_type": "code",
      "execution_count": 32,
      "metadata": {
        "colab": {
          "base_uri": "https://localhost:8080/"
        },
        "id": "zRfuK8Y59hE6",
        "outputId": "a4ca585c-b5d5-4244-8291-8674063209bb"
      },
      "outputs": [
        {
          "name": "stdout",
          "output_type": "stream",
          "text": [
            "INFO:tensorflow:Assets written to: C:\\Users\\Ian\\AppData\\Local\\Temp\\tmpp0z7rgla\\assets\n"
          ]
        },
        {
          "name": "stderr",
          "output_type": "stream",
          "text": [
            "INFO:tensorflow:Assets written to: C:\\Users\\Ian\\AppData\\Local\\Temp\\tmpp0z7rgla\\assets\n"
          ]
        },
        {
          "data": {
            "text/plain": [
              "40248"
            ]
          },
          "execution_count": 32,
          "metadata": {},
          "output_type": "execute_result"
        }
      ],
      "source": [
        "# Transform model (quantization)\n",
        "\n",
        "converter = tf.lite.TFLiteConverter.from_keras_model(model)\n",
        "converter.optimizations = [tf.lite.Optimize.DEFAULT]\n",
        "tflite_quantized_model = converter.convert()\n",
        "\n",
        "open(tflite_save_path, 'wb').write(tflite_quantized_model)"
      ]
    },
    {
      "cell_type": "code",
      "execution_count": 25,
      "metadata": {},
      "outputs": [
        {
          "name": "stderr",
          "output_type": "stream",
          "text": [
            "c:\\Users\\Ian\\git\\553.806_Capstone_HandGesture\\.venv\\Lib\\site-packages\\keras\\src\\engine\\training.py:3103: UserWarning: You are saving your model as an HDF5 file via `model.save()`. This file format is considered legacy. We recommend using instead the native Keras format, e.g. `model.save('my_model.keras')`.\n",
            "  saving_api.save_model(\n"
          ]
        }
      ],
      "source": [
        "# Save secondary model\n",
        "\n",
        "# secondary_model.save(model_save_path, include_optimizer=False)"
      ]
    },
    {
      "cell_type": "markdown",
      "metadata": {
        "id": "CHBPBXdx9hE6"
      },
      "source": [
        "# Inference test"
      ]
    },
    {
      "cell_type": "code",
      "execution_count": 33,
      "metadata": {
        "id": "mGAzLocO9hE7"
      },
      "outputs": [],
      "source": [
        "interpreter = tf.lite.Interpreter(model_path=tflite_save_path)\n",
        "interpreter.allocate_tensors()"
      ]
    },
    {
      "cell_type": "code",
      "execution_count": 34,
      "metadata": {
        "id": "oQuDK8YS9hE7"
      },
      "outputs": [],
      "source": [
        "# Get I / O tensor\n",
        "input_details = interpreter.get_input_details()\n",
        "output_details = interpreter.get_output_details()"
      ]
    },
    {
      "cell_type": "code",
      "execution_count": 35,
      "metadata": {
        "id": "2_ixAf_l9hE7"
      },
      "outputs": [],
      "source": [
        "interpreter.set_tensor(input_details[0]['index'], np.array([X_test[0]]))"
      ]
    },
    {
      "cell_type": "code",
      "execution_count": 36,
      "metadata": {
        "colab": {
          "base_uri": "https://localhost:8080/"
        },
        "id": "s4FoAnuc9hE7",
        "outputId": "91f18257-8d8b-4ef3-c558-e9b5f94fabbf",
        "scrolled": true
      },
      "outputs": [
        {
          "name": "stdout",
          "output_type": "stream",
          "text": [
            "CPU times: total: 0 ns\n",
            "Wall time: 0 ns\n"
          ]
        }
      ],
      "source": [
        "%%time\n",
        "# Inference implementation\n",
        "interpreter.invoke()\n",
        "tflite_results = interpreter.get_tensor(output_details[0]['index'])"
      ]
    },
    {
      "cell_type": "code",
      "execution_count": 37,
      "metadata": {
        "colab": {
          "base_uri": "https://localhost:8080/"
        },
        "id": "vONjp19J9hE8",
        "outputId": "77205e24-fd00-42c4-f7b6-e06e527c2cba"
      },
      "outputs": [
        {
          "name": "stdout",
          "output_type": "stream",
          "text": [
            "[3.0938380e-10 1.0000000e+00 3.7383135e-14 4.2880663e-14 8.7196167e-11\n",
            " 3.0346239e-09 2.5917479e-13 3.5385781e-08 8.7232793e-10 6.9048989e-09\n",
            " 5.0446036e-10 7.4965617e-11]\n",
            "1\n"
          ]
        }
      ],
      "source": [
        "print(np.squeeze(tflite_results))\n",
        "print(np.argmax(np.squeeze(tflite_results)))"
      ]
    }
  ],
  "metadata": {
    "accelerator": "GPU",
    "colab": {
      "collapsed_sections": [],
      "name": "keypoint_classification_EN.ipynb",
      "provenance": [],
      "toc_visible": true
    },
    "kernelspec": {
      "display_name": "Python 3",
      "language": "python",
      "name": "python3"
    },
    "language_info": {
      "codemirror_mode": {
        "name": "ipython",
        "version": 3
      },
      "file_extension": ".py",
      "mimetype": "text/x-python",
      "name": "python",
      "nbconvert_exporter": "python",
      "pygments_lexer": "ipython3",
      "version": "3.11.8"
    }
  },
  "nbformat": 4,
  "nbformat_minor": 0
}
