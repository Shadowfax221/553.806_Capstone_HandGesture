{
  "cells": [
    {
      "cell_type": "code",
      "execution_count": 1,
      "metadata": {
        "id": "igMyGnjE9hEp"
      },
      "outputs": [
        {
          "name": "stdout",
          "output_type": "stream",
          "text": [
            "WARNING:tensorflow:From c:\\Users\\Ian\\git\\553.806_Capstone_HandGesture\\.venv\\Lib\\site-packages\\keras\\src\\losses.py:2976: The name tf.losses.sparse_softmax_cross_entropy is deprecated. Please use tf.compat.v1.losses.sparse_softmax_cross_entropy instead.\n",
            "\n"
          ]
        }
      ],
      "source": [
        "import csv\n",
        "\n",
        "import numpy as np\n",
        "import tensorflow as tf\n",
        "from sklearn.model_selection import train_test_split\n",
        "\n",
        "RANDOM_SEED = 42"
      ]
    },
    {
      "cell_type": "code",
      "execution_count": 2,
      "metadata": {
        "id": "9NvZP2Zn9hEy"
      },
      "outputs": [],
      "source": [
        "dataset = 'datasets/keypoint1000.csv'\n",
        "model_save_path = 'models/keypoint_classifier.hdf5'\n",
        "tflite_save_path = 'models/keypoint_classifier.tflite'"
      ]
    },
    {
      "cell_type": "markdown",
      "metadata": {
        "id": "s5oMH7x19hEz"
      },
      "source": [
        "# Set number of classes"
      ]
    },
    {
      "cell_type": "code",
      "execution_count": 3,
      "metadata": {
        "id": "du4kodXL9hEz"
      },
      "outputs": [],
      "source": [
        "NUM_CLASSES = 12"
      ]
    },
    {
      "cell_type": "markdown",
      "metadata": {
        "id": "XjnL0uso9hEz"
      },
      "source": [
        "# Dataset reading"
      ]
    },
    {
      "cell_type": "code",
      "execution_count": null,
      "metadata": {},
      "outputs": [],
      "source": [
        "def pre_process_landmark(landmark_list):\n",
        "    temp_landmark_list = copy.deepcopy(landmark_list)\n",
        "\n",
        "    # Convert to relative coordinates\n",
        "    base_x, base_y = 0, 0\n",
        "    for index, landmark_point in enumerate(temp_landmark_list):\n",
        "        if index == 0:\n",
        "            base_x, base_y = landmark_point[0], landmark_point[1]\n",
        "\n",
        "        temp_landmark_list[index][0] = temp_landmark_list[index][0] - base_x\n",
        "        temp_landmark_list[index][1] = temp_landmark_list[index][1] - base_y\n",
        "\n",
        "    # Convert to a one-dimensional list\n",
        "    temp_landmark_list = list(\n",
        "        itertools.chain.from_iterable(temp_landmark_list))\n",
        "\n",
        "    # Normalization\n",
        "    max_value = max(list(map(abs, temp_landmark_list)))\n",
        "\n",
        "    def normalize_(n):\n",
        "        return n / max_value\n",
        "\n",
        "    temp_landmark_list = list(map(normalize_, temp_landmark_list))\n",
        "\n",
        "    return temp_landmark_list"
      ]
    },
    {
      "cell_type": "code",
      "execution_count": 4,
      "metadata": {
        "id": "QT5ZqtEz9hE0"
      },
      "outputs": [],
      "source": [
        "X_dataset = np.loadtxt(dataset, delimiter=',', dtype='float32', usecols=list(range(1, (21 * 3) + 1)))"
      ]
    },
    {
      "cell_type": "code",
      "execution_count": 5,
      "metadata": {
        "id": "QmoKFsp49hE0"
      },
      "outputs": [],
      "source": [
        "y_dataset = np.loadtxt(dataset, delimiter=',', dtype='int32', usecols=(0))"
      ]
    },
    {
      "cell_type": "code",
      "execution_count": 6,
      "metadata": {
        "id": "xQU7JTZ_9hE0"
      },
      "outputs": [],
      "source": [
        "X_train, X_test, y_train, y_test = train_test_split(X_dataset, y_dataset, train_size=0.75, random_state=RANDOM_SEED)"
      ]
    },
    {
      "cell_type": "markdown",
      "metadata": {
        "id": "mxK_lETT9hE0"
      },
      "source": [
        "# Model building"
      ]
    },
    {
      "cell_type": "code",
      "execution_count": 7,
      "metadata": {
        "id": "vHBmUf1t9hE1"
      },
      "outputs": [
        {
          "name": "stdout",
          "output_type": "stream",
          "text": [
            "WARNING:tensorflow:From c:\\Users\\Ian\\git\\553.806_Capstone_HandGesture\\.venv\\Lib\\site-packages\\keras\\src\\backend.py:1398: The name tf.executing_eagerly_outside_functions is deprecated. Please use tf.compat.v1.executing_eagerly_outside_functions instead.\n",
            "\n"
          ]
        }
      ],
      "source": [
        "model = tf.keras.models.Sequential([\n",
        "    tf.keras.layers.Input((21 * 3, )),\n",
        "    tf.keras.layers.Dropout(0.2),\n",
        "    tf.keras.layers.Dense(128, activation='relu'),  # Increased units\n",
        "    tf.keras.layers.BatchNormalization(),  # Added Batch Normalization\n",
        "    tf.keras.layers.Dropout(0.3),  # Adjusted dropout rate\n",
        "    tf.keras.layers.Dense(64, activation='relu'),  # Increased units\n",
        "    tf.keras.layers.BatchNormalization(),  # Added Batch Normalization\n",
        "    tf.keras.layers.Dense(32, activation='relu'),  # Increased units\n",
        "    tf.keras.layers.Dense(NUM_CLASSES, activation='softmax')\n",
        "])"
      ]
    },
    {
      "cell_type": "code",
      "execution_count": 8,
      "metadata": {
        "colab": {
          "base_uri": "https://localhost:8080/"
        },
        "id": "ypqky9tc9hE1",
        "outputId": "5db082bb-30e3-4110-bf63-a1ee777ecd46"
      },
      "outputs": [
        {
          "name": "stdout",
          "output_type": "stream",
          "text": [
            "Model: \"sequential\"\n",
            "_________________________________________________________________\n",
            " Layer (type)                Output Shape              Param #   \n",
            "=================================================================\n",
            " dropout (Dropout)           (None, 63)                0         \n",
            "                                                                 \n",
            " dense (Dense)               (None, 128)               8192      \n",
            "                                                                 \n",
            " batch_normalization (Batch  (None, 128)               512       \n",
            " Normalization)                                                  \n",
            "                                                                 \n",
            " dropout_1 (Dropout)         (None, 128)               0         \n",
            "                                                                 \n",
            " dense_1 (Dense)             (None, 64)                8256      \n",
            "                                                                 \n",
            " batch_normalization_1 (Bat  (None, 64)                256       \n",
            " chNormalization)                                                \n",
            "                                                                 \n",
            " dense_2 (Dense)             (None, 32)                2080      \n",
            "                                                                 \n",
            " dense_3 (Dense)             (None, 12)                396       \n",
            "                                                                 \n",
            "=================================================================\n",
            "Total params: 19692 (76.92 KB)\n",
            "Trainable params: 19308 (75.42 KB)\n",
            "Non-trainable params: 384 (1.50 KB)\n",
            "_________________________________________________________________\n"
          ]
        }
      ],
      "source": [
        "model.summary()  # tf.keras.utils.plot_model(model, show_shapes=True)"
      ]
    },
    {
      "cell_type": "code",
      "execution_count": 9,
      "metadata": {
        "id": "MbMjOflQ9hE1"
      },
      "outputs": [],
      "source": [
        "# Model checkpoint callback\n",
        "cp_callback = tf.keras.callbacks.ModelCheckpoint(\n",
        "    model_save_path, verbose=1, save_weights_only=False)\n",
        "# Callback for early stopping\n",
        "es_callback = tf.keras.callbacks.EarlyStopping(patience=20, verbose=1)"
      ]
    },
    {
      "cell_type": "code",
      "execution_count": 10,
      "metadata": {
        "id": "c3Dac0M_9hE2"
      },
      "outputs": [
        {
          "name": "stdout",
          "output_type": "stream",
          "text": [
            "WARNING:tensorflow:From c:\\Users\\Ian\\git\\553.806_Capstone_HandGesture\\.venv\\Lib\\site-packages\\keras\\src\\optimizers\\__init__.py:309: The name tf.train.Optimizer is deprecated. Please use tf.compat.v1.train.Optimizer instead.\n",
            "\n"
          ]
        }
      ],
      "source": [
        "# Model compilation\n",
        "model.compile(\n",
        "    optimizer='adam',\n",
        "    loss='sparse_categorical_crossentropy',\n",
        "    metrics=['accuracy']\n",
        ")"
      ]
    },
    {
      "cell_type": "markdown",
      "metadata": {
        "id": "7XI0j1Iu9hE2"
      },
      "source": [
        "# Model training"
      ]
    },
    {
      "cell_type": "code",
      "execution_count": 11,
      "metadata": {},
      "outputs": [
        {
          "data": {
            "text/plain": [
              "<keras.src.callbacks.EarlyStopping at 0x1f381468890>"
            ]
          },
          "execution_count": 11,
          "metadata": {},
          "output_type": "execute_result"
        }
      ],
      "source": [
        "es_callback"
      ]
    },
    {
      "cell_type": "code",
      "execution_count": 12,
      "metadata": {
        "colab": {
          "base_uri": "https://localhost:8080/"
        },
        "id": "WirBl-JE9hE3",
        "outputId": "71b30ca2-8294-4d9d-8aa2-800d90d399de",
        "scrolled": true
      },
      "outputs": [
        {
          "name": "stdout",
          "output_type": "stream",
          "text": [
            "Epoch 1/1000\n"
          ]
        },
        {
          "name": "stdout",
          "output_type": "stream",
          "text": [
            "WARNING:tensorflow:From c:\\Users\\Ian\\git\\553.806_Capstone_HandGesture\\.venv\\Lib\\site-packages\\keras\\src\\utils\\tf_utils.py:492: The name tf.ragged.RaggedTensorValue is deprecated. Please use tf.compat.v1.ragged.RaggedTensorValue instead.\n",
            "\n",
            "WARNING:tensorflow:From c:\\Users\\Ian\\git\\553.806_Capstone_HandGesture\\.venv\\Lib\\site-packages\\keras\\src\\engine\\base_layer_utils.py:384: The name tf.executing_eagerly_outside_functions is deprecated. Please use tf.compat.v1.executing_eagerly_outside_functions instead.\n",
            "\n",
            "71/71 [==============================] - ETA: 0s - loss: 2.5989 - accuracy: 0.1086\n",
            "Epoch 1: saving model to models\\keypoint_classifier.hdf5\n",
            "71/71 [==============================] - 3s 9ms/step - loss: 2.5989 - accuracy: 0.1086 - val_loss: 2.4621 - val_accuracy: 0.0870\n",
            "Epoch 2/1000\n",
            "59/71 [=======================>......] - ETA: 0s - loss: 2.4120 - accuracy: 0.1527"
          ]
        },
        {
          "name": "stderr",
          "output_type": "stream",
          "text": [
            "c:\\Users\\Ian\\git\\553.806_Capstone_HandGesture\\.venv\\Lib\\site-packages\\keras\\src\\engine\\training.py:3103: UserWarning: You are saving your model as an HDF5 file via `model.save()`. This file format is considered legacy. We recommend using instead the native Keras format, e.g. `model.save('my_model.keras')`.\n",
            "  saving_api.save_model(\n"
          ]
        },
        {
          "name": "stdout",
          "output_type": "stream",
          "text": [
            "\n",
            "Epoch 2: saving model to models\\keypoint_classifier.hdf5\n",
            "71/71 [==============================] - 0s 4ms/step - loss: 2.3989 - accuracy: 0.1569 - val_loss: 2.3929 - val_accuracy: 0.1613\n",
            "Epoch 3/1000\n",
            "57/71 [=======================>......] - ETA: 0s - loss: 2.3129 - accuracy: 0.1867\n",
            "Epoch 3: saving model to models\\keypoint_classifier.hdf5\n",
            "71/71 [==============================] - 0s 4ms/step - loss: 2.3017 - accuracy: 0.1898 - val_loss: 2.2881 - val_accuracy: 0.2170\n",
            "Epoch 4/1000\n",
            "59/71 [=======================>......] - ETA: 0s - loss: 2.2193 - accuracy: 0.2263\n",
            "Epoch 4: saving model to models\\keypoint_classifier.hdf5\n",
            "71/71 [==============================] - 0s 4ms/step - loss: 2.2106 - accuracy: 0.2254 - val_loss: 2.1277 - val_accuracy: 0.2910\n",
            "Epoch 5/1000\n",
            "59/71 [=======================>......] - ETA: 0s - loss: 2.1714 - accuracy: 0.2422\n",
            "Epoch 5: saving model to models\\keypoint_classifier.hdf5\n",
            "71/71 [==============================] - 0s 4ms/step - loss: 2.1660 - accuracy: 0.2462 - val_loss: 1.9916 - val_accuracy: 0.3423\n",
            "Epoch 6/1000\n",
            "60/71 [========================>.....] - ETA: 0s - loss: 2.1111 - accuracy: 0.2680\n",
            "Epoch 6: saving model to models\\keypoint_classifier.hdf5\n",
            "71/71 [==============================] - 0s 4ms/step - loss: 2.1101 - accuracy: 0.2697 - val_loss: 1.8483 - val_accuracy: 0.4373\n",
            "Epoch 7/1000\n",
            "56/71 [======================>.......] - ETA: 0s - loss: 2.0782 - accuracy: 0.2782\n",
            "Epoch 7: saving model to models\\keypoint_classifier.hdf5\n",
            "71/71 [==============================] - 0s 4ms/step - loss: 2.0721 - accuracy: 0.2819 - val_loss: 1.7422 - val_accuracy: 0.4687\n",
            "Epoch 8/1000\n",
            "61/71 [========================>.....] - ETA: 0s - loss: 2.0160 - accuracy: 0.3033\n",
            "Epoch 8: saving model to models\\keypoint_classifier.hdf5\n",
            "71/71 [==============================] - 0s 4ms/step - loss: 2.0112 - accuracy: 0.3082 - val_loss: 1.7567 - val_accuracy: 0.4150\n",
            "Epoch 9/1000\n",
            "60/71 [========================>.....] - ETA: 0s - loss: 1.9819 - accuracy: 0.3142\n",
            "Epoch 9: saving model to models\\keypoint_classifier.hdf5\n",
            "71/71 [==============================] - 0s 4ms/step - loss: 1.9758 - accuracy: 0.3170 - val_loss: 1.7696 - val_accuracy: 0.4073\n",
            "Epoch 10/1000\n",
            "55/71 [======================>.......] - ETA: 0s - loss: 1.9098 - accuracy: 0.3327\n",
            "Epoch 10: saving model to models\\keypoint_classifier.hdf5\n",
            "71/71 [==============================] - 0s 4ms/step - loss: 1.9059 - accuracy: 0.3340 - val_loss: 1.7358 - val_accuracy: 0.4087\n",
            "Epoch 11/1000\n",
            "60/71 [========================>.....] - ETA: 0s - loss: 1.8791 - accuracy: 0.3415\n",
            "Epoch 11: saving model to models\\keypoint_classifier.hdf5\n",
            "71/71 [==============================] - 0s 4ms/step - loss: 1.8669 - accuracy: 0.3466 - val_loss: 1.6093 - val_accuracy: 0.4467\n",
            "Epoch 12/1000\n",
            "58/71 [=======================>......] - ETA: 0s - loss: 1.8196 - accuracy: 0.3650\n",
            "Epoch 12: saving model to models\\keypoint_classifier.hdf5\n",
            "71/71 [==============================] - 0s 5ms/step - loss: 1.8194 - accuracy: 0.3658 - val_loss: 1.4357 - val_accuracy: 0.5510\n",
            "Epoch 13/1000\n",
            "60/71 [========================>.....] - ETA: 0s - loss: 1.7872 - accuracy: 0.3746\n",
            "Epoch 13: saving model to models\\keypoint_classifier.hdf5\n",
            "71/71 [==============================] - 0s 4ms/step - loss: 1.7874 - accuracy: 0.3764 - val_loss: 1.4719 - val_accuracy: 0.5117\n",
            "Epoch 14/1000\n",
            "60/71 [========================>.....] - ETA: 0s - loss: 1.7608 - accuracy: 0.3876\n",
            "Epoch 14: saving model to models\\keypoint_classifier.hdf5\n",
            "71/71 [==============================] - 0s 4ms/step - loss: 1.7563 - accuracy: 0.3881 - val_loss: 1.3832 - val_accuracy: 0.5607\n",
            "Epoch 15/1000\n",
            "59/71 [=======================>......] - ETA: 0s - loss: 1.7304 - accuracy: 0.3896\n",
            "Epoch 15: saving model to models\\keypoint_classifier.hdf5\n",
            "71/71 [==============================] - 0s 4ms/step - loss: 1.7263 - accuracy: 0.3908 - val_loss: 1.3550 - val_accuracy: 0.5580\n",
            "Epoch 16/1000\n",
            "70/71 [============================>.] - ETA: 0s - loss: 1.6756 - accuracy: 0.4187\n",
            "Epoch 16: saving model to models\\keypoint_classifier.hdf5\n",
            "71/71 [==============================] - 0s 4ms/step - loss: 1.6759 - accuracy: 0.4188 - val_loss: 1.2496 - val_accuracy: 0.6047\n",
            "Epoch 17/1000\n",
            "59/71 [=======================>......] - ETA: 0s - loss: 1.6294 - accuracy: 0.4281\n",
            "Epoch 17: saving model to models\\keypoint_classifier.hdf5\n",
            "71/71 [==============================] - 0s 4ms/step - loss: 1.6330 - accuracy: 0.4278 - val_loss: 1.2804 - val_accuracy: 0.5750\n",
            "Epoch 18/1000\n",
            "60/71 [========================>.....] - ETA: 0s - loss: 1.5917 - accuracy: 0.4483\n",
            "Epoch 18: saving model to models\\keypoint_classifier.hdf5\n",
            "71/71 [==============================] - 0s 4ms/step - loss: 1.5883 - accuracy: 0.4502 - val_loss: 1.2642 - val_accuracy: 0.5530\n",
            "Epoch 19/1000\n",
            "59/71 [=======================>......] - ETA: 0s - loss: 1.5546 - accuracy: 0.4587\n",
            "Epoch 19: saving model to models\\keypoint_classifier.hdf5\n",
            "71/71 [==============================] - 0s 4ms/step - loss: 1.5486 - accuracy: 0.4608 - val_loss: 1.1425 - val_accuracy: 0.6393\n",
            "Epoch 20/1000\n",
            "56/71 [======================>.......] - ETA: 0s - loss: 1.5202 - accuracy: 0.4696\n",
            "Epoch 20: saving model to models\\keypoint_classifier.hdf5\n",
            "71/71 [==============================] - 0s 4ms/step - loss: 1.5154 - accuracy: 0.4733 - val_loss: 1.1176 - val_accuracy: 0.6280\n",
            "Epoch 21/1000\n",
            "59/71 [=======================>......] - ETA: 0s - loss: 1.4867 - accuracy: 0.4832\n",
            "Epoch 21: saving model to models\\keypoint_classifier.hdf5\n",
            "71/71 [==============================] - 0s 4ms/step - loss: 1.4846 - accuracy: 0.4836 - val_loss: 1.0396 - val_accuracy: 0.6720\n",
            "Epoch 22/1000\n",
            "57/71 [=======================>......] - ETA: 0s - loss: 1.4152 - accuracy: 0.5052\n",
            "Epoch 22: saving model to models\\keypoint_classifier.hdf5\n",
            "71/71 [==============================] - 0s 4ms/step - loss: 1.4172 - accuracy: 0.5042 - val_loss: 1.0327 - val_accuracy: 0.6767\n",
            "Epoch 23/1000\n",
            "57/71 [=======================>......] - ETA: 0s - loss: 1.3810 - accuracy: 0.5217\n",
            "Epoch 23: saving model to models\\keypoint_classifier.hdf5\n",
            "71/71 [==============================] - 0s 4ms/step - loss: 1.3717 - accuracy: 0.5238 - val_loss: 0.9829 - val_accuracy: 0.6880\n",
            "Epoch 24/1000\n",
            "70/71 [============================>.] - ETA: 0s - loss: 1.3417 - accuracy: 0.5346\n",
            "Epoch 24: saving model to models\\keypoint_classifier.hdf5\n",
            "71/71 [==============================] - 0s 4ms/step - loss: 1.3418 - accuracy: 0.5349 - val_loss: 0.9795 - val_accuracy: 0.6640\n",
            "Epoch 25/1000\n",
            "71/71 [==============================] - ETA: 0s - loss: 1.2813 - accuracy: 0.5580\n",
            "Epoch 25: saving model to models\\keypoint_classifier.hdf5\n",
            "71/71 [==============================] - 0s 5ms/step - loss: 1.2813 - accuracy: 0.5580 - val_loss: 0.7719 - val_accuracy: 0.7803\n",
            "Epoch 26/1000\n",
            "56/71 [======================>.......] - ETA: 0s - loss: 1.2486 - accuracy: 0.5692\n",
            "Epoch 26: saving model to models\\keypoint_classifier.hdf5\n",
            "71/71 [==============================] - 0s 4ms/step - loss: 1.2339 - accuracy: 0.5752 - val_loss: 1.0182 - val_accuracy: 0.6687\n",
            "Epoch 27/1000\n",
            "59/71 [=======================>......] - ETA: 0s - loss: 1.2086 - accuracy: 0.5842\n",
            "Epoch 27: saving model to models\\keypoint_classifier.hdf5\n",
            "71/71 [==============================] - 0s 4ms/step - loss: 1.2159 - accuracy: 0.5813 - val_loss: 0.6939 - val_accuracy: 0.8143\n",
            "Epoch 28/1000\n",
            "55/71 [======================>.......] - ETA: 0s - loss: 1.1799 - accuracy: 0.5918\n",
            "Epoch 28: saving model to models\\keypoint_classifier.hdf5\n",
            "71/71 [==============================] - 0s 4ms/step - loss: 1.1738 - accuracy: 0.5940 - val_loss: 0.6602 - val_accuracy: 0.8153\n",
            "Epoch 29/1000\n",
            "57/71 [=======================>......] - ETA: 0s - loss: 1.1432 - accuracy: 0.6043\n",
            "Epoch 29: saving model to models\\keypoint_classifier.hdf5\n",
            "71/71 [==============================] - 0s 4ms/step - loss: 1.1370 - accuracy: 0.6078 - val_loss: 0.7393 - val_accuracy: 0.7687\n",
            "Epoch 30/1000\n",
            "59/71 [=======================>......] - ETA: 0s - loss: 1.0862 - accuracy: 0.6217\n",
            "Epoch 30: saving model to models\\keypoint_classifier.hdf5\n",
            "71/71 [==============================] - 0s 4ms/step - loss: 1.0882 - accuracy: 0.6197 - val_loss: 0.7581 - val_accuracy: 0.7743\n",
            "Epoch 31/1000\n",
            "57/71 [=======================>......] - ETA: 0s - loss: 1.0946 - accuracy: 0.6197\n",
            "Epoch 31: saving model to models\\keypoint_classifier.hdf5\n",
            "71/71 [==============================] - 0s 4ms/step - loss: 1.0795 - accuracy: 0.6249 - val_loss: 0.6562 - val_accuracy: 0.8127\n",
            "Epoch 32/1000\n",
            "59/71 [=======================>......] - ETA: 0s - loss: 1.0612 - accuracy: 0.6247\n",
            "Epoch 32: saving model to models\\keypoint_classifier.hdf5\n",
            "71/71 [==============================] - 0s 4ms/step - loss: 1.0660 - accuracy: 0.6241 - val_loss: 0.7089 - val_accuracy: 0.7613\n",
            "Epoch 33/1000\n",
            "59/71 [=======================>......] - ETA: 0s - loss: 1.0374 - accuracy: 0.6454\n",
            "Epoch 33: saving model to models\\keypoint_classifier.hdf5\n",
            "71/71 [==============================] - 0s 4ms/step - loss: 1.0398 - accuracy: 0.6447 - val_loss: 0.6807 - val_accuracy: 0.8057\n",
            "Epoch 34/1000\n",
            "58/71 [=======================>......] - ETA: 0s - loss: 1.0309 - accuracy: 0.6475\n",
            "Epoch 34: saving model to models\\keypoint_classifier.hdf5\n",
            "71/71 [==============================] - 0s 4ms/step - loss: 1.0258 - accuracy: 0.6509 - val_loss: 0.7444 - val_accuracy: 0.7590\n",
            "Epoch 35/1000\n",
            "58/71 [=======================>......] - ETA: 0s - loss: 0.9945 - accuracy: 0.6540\n",
            "Epoch 35: saving model to models\\keypoint_classifier.hdf5\n",
            "71/71 [==============================] - 0s 4ms/step - loss: 0.9865 - accuracy: 0.6563 - val_loss: 0.6538 - val_accuracy: 0.8150\n",
            "Epoch 36/1000\n",
            "58/71 [=======================>......] - ETA: 0s - loss: 0.9925 - accuracy: 0.6569\n",
            "Epoch 36: saving model to models\\keypoint_classifier.hdf5\n",
            "71/71 [==============================] - 0s 4ms/step - loss: 0.9960 - accuracy: 0.6570 - val_loss: 0.6036 - val_accuracy: 0.8277\n",
            "Epoch 37/1000\n",
            "60/71 [========================>.....] - ETA: 0s - loss: 0.9899 - accuracy: 0.6533\n",
            "Epoch 37: saving model to models\\keypoint_classifier.hdf5\n",
            "71/71 [==============================] - 0s 4ms/step - loss: 0.9823 - accuracy: 0.6561 - val_loss: 0.5243 - val_accuracy: 0.8643\n",
            "Epoch 38/1000\n",
            "60/71 [========================>.....] - ETA: 0s - loss: 0.9454 - accuracy: 0.6689\n",
            "Epoch 38: saving model to models\\keypoint_classifier.hdf5\n",
            "71/71 [==============================] - 0s 4ms/step - loss: 0.9479 - accuracy: 0.6671 - val_loss: 0.6370 - val_accuracy: 0.8177\n",
            "Epoch 39/1000\n",
            "60/71 [========================>.....] - ETA: 0s - loss: 0.9475 - accuracy: 0.6728\n",
            "Epoch 39: saving model to models\\keypoint_classifier.hdf5\n",
            "71/71 [==============================] - 0s 4ms/step - loss: 0.9421 - accuracy: 0.6749 - val_loss: 0.5448 - val_accuracy: 0.8567\n",
            "Epoch 40/1000\n",
            "58/71 [=======================>......] - ETA: 0s - loss: 0.9209 - accuracy: 0.6866\n",
            "Epoch 40: saving model to models\\keypoint_classifier.hdf5\n",
            "71/71 [==============================] - 0s 4ms/step - loss: 0.9169 - accuracy: 0.6867 - val_loss: 0.5676 - val_accuracy: 0.8270\n",
            "Epoch 41/1000\n",
            "60/71 [========================>.....] - ETA: 0s - loss: 0.9297 - accuracy: 0.6728\n",
            "Epoch 41: saving model to models\\keypoint_classifier.hdf5\n",
            "71/71 [==============================] - 0s 4ms/step - loss: 0.9300 - accuracy: 0.6731 - val_loss: 0.5821 - val_accuracy: 0.8247\n",
            "Epoch 42/1000\n",
            "57/71 [=======================>......] - ETA: 0s - loss: 0.9054 - accuracy: 0.6834\n",
            "Epoch 42: saving model to models\\keypoint_classifier.hdf5\n",
            "71/71 [==============================] - 0s 4ms/step - loss: 0.9060 - accuracy: 0.6837 - val_loss: 0.5258 - val_accuracy: 0.8463\n",
            "Epoch 43/1000\n",
            "58/71 [=======================>......] - ETA: 0s - loss: 0.8806 - accuracy: 0.6957\n",
            "Epoch 43: saving model to models\\keypoint_classifier.hdf5\n",
            "71/71 [==============================] - 0s 5ms/step - loss: 0.8884 - accuracy: 0.6919 - val_loss: 0.4796 - val_accuracy: 0.8663\n",
            "Epoch 44/1000\n",
            "60/71 [========================>.....] - ETA: 0s - loss: 0.8947 - accuracy: 0.6901\n",
            "Epoch 44: saving model to models\\keypoint_classifier.hdf5\n",
            "71/71 [==============================] - 0s 4ms/step - loss: 0.9010 - accuracy: 0.6869 - val_loss: 0.5753 - val_accuracy: 0.8343\n",
            "Epoch 45/1000\n",
            "59/71 [=======================>......] - ETA: 0s - loss: 0.8901 - accuracy: 0.6912\n",
            "Epoch 45: saving model to models\\keypoint_classifier.hdf5\n",
            "71/71 [==============================] - 0s 4ms/step - loss: 0.8885 - accuracy: 0.6924 - val_loss: 0.5478 - val_accuracy: 0.8340\n",
            "Epoch 46/1000\n",
            "58/71 [=======================>......] - ETA: 0s - loss: 0.8752 - accuracy: 0.6923\n",
            "Epoch 46: saving model to models\\keypoint_classifier.hdf5\n",
            "71/71 [==============================] - 0s 4ms/step - loss: 0.8742 - accuracy: 0.6924 - val_loss: 0.4919 - val_accuracy: 0.8527\n",
            "Epoch 47/1000\n",
            "60/71 [========================>.....] - ETA: 0s - loss: 0.8633 - accuracy: 0.6978\n",
            "Epoch 47: saving model to models\\keypoint_classifier.hdf5\n",
            "71/71 [==============================] - 0s 4ms/step - loss: 0.8623 - accuracy: 0.6988 - val_loss: 0.5931 - val_accuracy: 0.8030\n",
            "Epoch 48/1000\n",
            "60/71 [========================>.....] - ETA: 0s - loss: 0.8546 - accuracy: 0.7048\n",
            "Epoch 48: saving model to models\\keypoint_classifier.hdf5\n",
            "71/71 [==============================] - 0s 4ms/step - loss: 0.8559 - accuracy: 0.7041 - val_loss: 0.5565 - val_accuracy: 0.8207\n",
            "Epoch 49/1000\n",
            "60/71 [========================>.....] - ETA: 0s - loss: 0.8371 - accuracy: 0.7036\n",
            "Epoch 49: saving model to models\\keypoint_classifier.hdf5\n",
            "71/71 [==============================] - 0s 4ms/step - loss: 0.8382 - accuracy: 0.7041 - val_loss: 0.4892 - val_accuracy: 0.8657\n",
            "Epoch 50/1000\n",
            "59/71 [=======================>......] - ETA: 0s - loss: 0.8583 - accuracy: 0.6986\n",
            "Epoch 50: saving model to models\\keypoint_classifier.hdf5\n",
            "71/71 [==============================] - 0s 4ms/step - loss: 0.8500 - accuracy: 0.7000 - val_loss: 0.4230 - val_accuracy: 0.8780\n",
            "Epoch 51/1000\n",
            "59/71 [=======================>......] - ETA: 0s - loss: 0.8289 - accuracy: 0.7070\n",
            "Epoch 51: saving model to models\\keypoint_classifier.hdf5\n",
            "71/71 [==============================] - 0s 4ms/step - loss: 0.8337 - accuracy: 0.7054 - val_loss: 0.4362 - val_accuracy: 0.8660\n",
            "Epoch 52/1000\n",
            "58/71 [=======================>......] - ETA: 0s - loss: 0.8335 - accuracy: 0.7081\n",
            "Epoch 52: saving model to models\\keypoint_classifier.hdf5\n",
            "71/71 [==============================] - 0s 4ms/step - loss: 0.8278 - accuracy: 0.7088 - val_loss: 0.4856 - val_accuracy: 0.8560\n",
            "Epoch 53/1000\n",
            "60/71 [========================>.....] - ETA: 0s - loss: 0.8073 - accuracy: 0.7151\n",
            "Epoch 53: saving model to models\\keypoint_classifier.hdf5\n",
            "71/71 [==============================] - 0s 4ms/step - loss: 0.8088 - accuracy: 0.7146 - val_loss: 0.5760 - val_accuracy: 0.8097\n",
            "Epoch 54/1000\n",
            "58/71 [=======================>......] - ETA: 0s - loss: 0.8001 - accuracy: 0.7231\n",
            "Epoch 54: saving model to models\\keypoint_classifier.hdf5\n",
            "71/71 [==============================] - 0s 4ms/step - loss: 0.7926 - accuracy: 0.7244 - val_loss: 0.4795 - val_accuracy: 0.8650\n",
            "Epoch 55/1000\n",
            "59/71 [=======================>......] - ETA: 0s - loss: 0.7918 - accuracy: 0.7251\n",
            "Epoch 55: saving model to models\\keypoint_classifier.hdf5\n",
            "71/71 [==============================] - 0s 4ms/step - loss: 0.7929 - accuracy: 0.7257 - val_loss: 0.4970 - val_accuracy: 0.8453\n",
            "Epoch 56/1000\n",
            "59/71 [=======================>......] - ETA: 0s - loss: 0.7902 - accuracy: 0.7189\n",
            "Epoch 56: saving model to models\\keypoint_classifier.hdf5\n",
            "71/71 [==============================] - 0s 4ms/step - loss: 0.7853 - accuracy: 0.7222 - val_loss: 0.4734 - val_accuracy: 0.8513\n",
            "Epoch 57/1000\n",
            "59/71 [=======================>......] - ETA: 0s - loss: 0.7640 - accuracy: 0.7266\n",
            "Epoch 57: saving model to models\\keypoint_classifier.hdf5\n",
            "71/71 [==============================] - 0s 4ms/step - loss: 0.7701 - accuracy: 0.7258 - val_loss: 0.4835 - val_accuracy: 0.8423\n",
            "Epoch 58/1000\n",
            "61/71 [========================>.....] - ETA: 0s - loss: 0.7638 - accuracy: 0.7285\n",
            "Epoch 58: saving model to models\\keypoint_classifier.hdf5\n",
            "71/71 [==============================] - 0s 4ms/step - loss: 0.7693 - accuracy: 0.7274 - val_loss: 0.4704 - val_accuracy: 0.8543\n",
            "Epoch 59/1000\n",
            "59/71 [=======================>......] - ETA: 0s - loss: 0.7505 - accuracy: 0.7368\n",
            "Epoch 59: saving model to models\\keypoint_classifier.hdf5\n",
            "71/71 [==============================] - 0s 4ms/step - loss: 0.7549 - accuracy: 0.7354 - val_loss: 0.4295 - val_accuracy: 0.8697\n",
            "Epoch 60/1000\n",
            "70/71 [============================>.] - ETA: 0s - loss: 0.7453 - accuracy: 0.7419\n",
            "Epoch 60: saving model to models\\keypoint_classifier.hdf5\n",
            "71/71 [==============================] - 0s 5ms/step - loss: 0.7452 - accuracy: 0.7419 - val_loss: 0.5097 - val_accuracy: 0.8420\n",
            "Epoch 61/1000\n",
            "58/71 [=======================>......] - ETA: 0s - loss: 0.7430 - accuracy: 0.7404\n",
            "Epoch 61: saving model to models\\keypoint_classifier.hdf5\n",
            "71/71 [==============================] - 0s 4ms/step - loss: 0.7452 - accuracy: 0.7386 - val_loss: 0.4392 - val_accuracy: 0.8697\n",
            "Epoch 62/1000\n",
            "58/71 [=======================>......] - ETA: 0s - loss: 0.7562 - accuracy: 0.7310\n",
            "Epoch 62: saving model to models\\keypoint_classifier.hdf5\n",
            "71/71 [==============================] - 0s 4ms/step - loss: 0.7560 - accuracy: 0.7331 - val_loss: 0.5691 - val_accuracy: 0.8273\n",
            "Epoch 63/1000\n",
            "60/71 [========================>.....] - ETA: 0s - loss: 0.7429 - accuracy: 0.7365\n",
            "Epoch 63: saving model to models\\keypoint_classifier.hdf5\n",
            "71/71 [==============================] - 0s 4ms/step - loss: 0.7420 - accuracy: 0.7367 - val_loss: 0.4703 - val_accuracy: 0.8670\n",
            "Epoch 64/1000\n",
            "55/71 [======================>.......] - ETA: 0s - loss: 0.7473 - accuracy: 0.7337\n",
            "Epoch 64: saving model to models\\keypoint_classifier.hdf5\n",
            "71/71 [==============================] - 0s 4ms/step - loss: 0.7467 - accuracy: 0.7361 - val_loss: 0.4914 - val_accuracy: 0.8363\n",
            "Epoch 65/1000\n",
            "59/71 [=======================>......] - ETA: 0s - loss: 0.7156 - accuracy: 0.7423\n",
            "Epoch 65: saving model to models\\keypoint_classifier.hdf5\n",
            "71/71 [==============================] - 0s 4ms/step - loss: 0.7109 - accuracy: 0.7420 - val_loss: 0.4862 - val_accuracy: 0.8390\n",
            "Epoch 66/1000\n",
            "71/71 [==============================] - ETA: 0s - loss: 0.7191 - accuracy: 0.7494\n",
            "Epoch 66: saving model to models\\keypoint_classifier.hdf5\n",
            "71/71 [==============================] - 0s 4ms/step - loss: 0.7191 - accuracy: 0.7494 - val_loss: 0.4279 - val_accuracy: 0.8790\n",
            "Epoch 67/1000\n",
            "59/71 [=======================>......] - ETA: 0s - loss: 0.7135 - accuracy: 0.7523\n",
            "Epoch 67: saving model to models\\keypoint_classifier.hdf5\n",
            "71/71 [==============================] - 0s 4ms/step - loss: 0.7048 - accuracy: 0.7556 - val_loss: 0.4767 - val_accuracy: 0.8613\n",
            "Epoch 68/1000\n",
            "68/71 [===========================>..] - ETA: 0s - loss: 0.7049 - accuracy: 0.7485\n",
            "Epoch 68: saving model to models\\keypoint_classifier.hdf5\n",
            "71/71 [==============================] - 0s 5ms/step - loss: 0.7062 - accuracy: 0.7483 - val_loss: 0.4944 - val_accuracy: 0.8323\n",
            "Epoch 69/1000\n",
            "54/71 [=====================>........] - ETA: 0s - loss: 0.7108 - accuracy: 0.7517\n",
            "Epoch 69: saving model to models\\keypoint_classifier.hdf5\n",
            "71/71 [==============================] - 0s 4ms/step - loss: 0.7108 - accuracy: 0.7529 - val_loss: 0.4048 - val_accuracy: 0.8877\n",
            "Epoch 70/1000\n",
            "60/71 [========================>.....] - ETA: 0s - loss: 0.7018 - accuracy: 0.7525\n",
            "Epoch 70: saving model to models\\keypoint_classifier.hdf5\n",
            "71/71 [==============================] - 0s 4ms/step - loss: 0.7069 - accuracy: 0.7518 - val_loss: 0.5961 - val_accuracy: 0.7927\n",
            "Epoch 71/1000\n",
            "58/71 [=======================>......] - ETA: 0s - loss: 0.7142 - accuracy: 0.7499\n",
            "Epoch 71: saving model to models\\keypoint_classifier.hdf5\n",
            "71/71 [==============================] - 0s 4ms/step - loss: 0.7081 - accuracy: 0.7516 - val_loss: 0.4775 - val_accuracy: 0.8527\n",
            "Epoch 72/1000\n",
            "58/71 [=======================>......] - ETA: 0s - loss: 0.7086 - accuracy: 0.7511\n",
            "Epoch 72: saving model to models\\keypoint_classifier.hdf5\n",
            "71/71 [==============================] - 0s 4ms/step - loss: 0.7040 - accuracy: 0.7498 - val_loss: 0.4356 - val_accuracy: 0.8600\n",
            "Epoch 73/1000\n",
            "56/71 [======================>.......] - ETA: 0s - loss: 0.6798 - accuracy: 0.7552\n",
            "Epoch 73: saving model to models\\keypoint_classifier.hdf5\n",
            "71/71 [==============================] - 0s 4ms/step - loss: 0.6816 - accuracy: 0.7558 - val_loss: 0.3964 - val_accuracy: 0.8820\n",
            "Epoch 74/1000\n",
            "59/71 [=======================>......] - ETA: 0s - loss: 0.7068 - accuracy: 0.7491\n",
            "Epoch 74: saving model to models\\keypoint_classifier.hdf5\n",
            "71/71 [==============================] - 0s 4ms/step - loss: 0.7058 - accuracy: 0.7501 - val_loss: 0.5197 - val_accuracy: 0.8480\n",
            "Epoch 75/1000\n",
            "59/71 [=======================>......] - ETA: 0s - loss: 0.6904 - accuracy: 0.7605\n",
            "Epoch 75: saving model to models\\keypoint_classifier.hdf5\n",
            "71/71 [==============================] - 0s 5ms/step - loss: 0.6926 - accuracy: 0.7600 - val_loss: 0.4586 - val_accuracy: 0.8620\n",
            "Epoch 76/1000\n",
            "59/71 [=======================>......] - ETA: 0s - loss: 0.6846 - accuracy: 0.7617\n",
            "Epoch 76: saving model to models\\keypoint_classifier.hdf5\n",
            "71/71 [==============================] - 0s 4ms/step - loss: 0.6853 - accuracy: 0.7594 - val_loss: 0.5342 - val_accuracy: 0.8097\n",
            "Epoch 77/1000\n",
            "59/71 [=======================>......] - ETA: 0s - loss: 0.6853 - accuracy: 0.7528\n",
            "Epoch 77: saving model to models\\keypoint_classifier.hdf5\n",
            "71/71 [==============================] - 0s 4ms/step - loss: 0.6913 - accuracy: 0.7520 - val_loss: 0.6257 - val_accuracy: 0.7793\n",
            "Epoch 78/1000\n",
            "60/71 [========================>.....] - ETA: 0s - loss: 0.6842 - accuracy: 0.7565\n",
            "Epoch 78: saving model to models\\keypoint_classifier.hdf5\n",
            "71/71 [==============================] - 0s 4ms/step - loss: 0.6843 - accuracy: 0.7557 - val_loss: 0.4964 - val_accuracy: 0.8310\n",
            "Epoch 79/1000\n",
            "59/71 [=======================>......] - ETA: 0s - loss: 0.6825 - accuracy: 0.7557\n",
            "Epoch 79: saving model to models\\keypoint_classifier.hdf5\n",
            "71/71 [==============================] - 0s 4ms/step - loss: 0.6854 - accuracy: 0.7562 - val_loss: 0.4986 - val_accuracy: 0.8440\n",
            "Epoch 80/1000\n",
            "59/71 [=======================>......] - ETA: 0s - loss: 0.6600 - accuracy: 0.7666\n",
            "Epoch 80: saving model to models\\keypoint_classifier.hdf5\n",
            "71/71 [==============================] - 0s 4ms/step - loss: 0.6605 - accuracy: 0.7677 - val_loss: 0.5151 - val_accuracy: 0.8363\n",
            "Epoch 81/1000\n",
            "60/71 [========================>.....] - ETA: 0s - loss: 0.6777 - accuracy: 0.7592\n",
            "Epoch 81: saving model to models\\keypoint_classifier.hdf5\n",
            "71/71 [==============================] - 0s 4ms/step - loss: 0.6750 - accuracy: 0.7610 - val_loss: 0.3768 - val_accuracy: 0.8893\n",
            "Epoch 82/1000\n",
            "59/71 [=======================>......] - ETA: 0s - loss: 0.6516 - accuracy: 0.7683\n",
            "Epoch 82: saving model to models\\keypoint_classifier.hdf5\n",
            "71/71 [==============================] - 0s 4ms/step - loss: 0.6520 - accuracy: 0.7666 - val_loss: 0.3786 - val_accuracy: 0.8940\n",
            "Epoch 83/1000\n",
            "60/71 [========================>.....] - ETA: 0s - loss: 0.6665 - accuracy: 0.7628\n",
            "Epoch 83: saving model to models\\keypoint_classifier.hdf5\n",
            "71/71 [==============================] - 0s 4ms/step - loss: 0.6654 - accuracy: 0.7621 - val_loss: 0.4736 - val_accuracy: 0.8653\n",
            "Epoch 84/1000\n",
            "59/71 [=======================>......] - ETA: 0s - loss: 0.6552 - accuracy: 0.7640\n",
            "Epoch 84: saving model to models\\keypoint_classifier.hdf5\n",
            "71/71 [==============================] - 0s 4ms/step - loss: 0.6428 - accuracy: 0.7696 - val_loss: 0.4230 - val_accuracy: 0.8560\n",
            "Epoch 85/1000\n",
            "58/71 [=======================>......] - ETA: 0s - loss: 0.6665 - accuracy: 0.7685\n",
            "Epoch 85: saving model to models\\keypoint_classifier.hdf5\n",
            "71/71 [==============================] - 0s 4ms/step - loss: 0.6685 - accuracy: 0.7658 - val_loss: 0.4296 - val_accuracy: 0.8577\n",
            "Epoch 86/1000\n",
            "59/71 [=======================>......] - ETA: 0s - loss: 0.6693 - accuracy: 0.7630\n",
            "Epoch 86: saving model to models\\keypoint_classifier.hdf5\n",
            "71/71 [==============================] - 0s 4ms/step - loss: 0.6723 - accuracy: 0.7609 - val_loss: 0.4156 - val_accuracy: 0.8673\n",
            "Epoch 87/1000\n",
            "57/71 [=======================>......] - ETA: 0s - loss: 0.6478 - accuracy: 0.7730\n",
            "Epoch 87: saving model to models\\keypoint_classifier.hdf5\n",
            "71/71 [==============================] - 0s 4ms/step - loss: 0.6502 - accuracy: 0.7738 - val_loss: 0.4119 - val_accuracy: 0.8783\n",
            "Epoch 88/1000\n",
            "59/71 [=======================>......] - ETA: 0s - loss: 0.6476 - accuracy: 0.7668\n",
            "Epoch 88: saving model to models\\keypoint_classifier.hdf5\n",
            "71/71 [==============================] - 0s 4ms/step - loss: 0.6467 - accuracy: 0.7656 - val_loss: 0.4270 - val_accuracy: 0.8690\n",
            "Epoch 89/1000\n",
            "60/71 [========================>.....] - ETA: 0s - loss: 0.6631 - accuracy: 0.7618\n",
            "Epoch 89: saving model to models\\keypoint_classifier.hdf5\n",
            "71/71 [==============================] - 0s 5ms/step - loss: 0.6635 - accuracy: 0.7638 - val_loss: 0.4297 - val_accuracy: 0.8707\n",
            "Epoch 90/1000\n",
            "55/71 [======================>.......] - ETA: 0s - loss: 0.6365 - accuracy: 0.7764\n",
            "Epoch 90: saving model to models\\keypoint_classifier.hdf5\n",
            "71/71 [==============================] - 0s 4ms/step - loss: 0.6467 - accuracy: 0.7696 - val_loss: 0.4590 - val_accuracy: 0.8580\n",
            "Epoch 91/1000\n",
            "60/71 [========================>.....] - ETA: 0s - loss: 0.6371 - accuracy: 0.7702\n",
            "Epoch 91: saving model to models\\keypoint_classifier.hdf5\n",
            "71/71 [==============================] - 0s 4ms/step - loss: 0.6435 - accuracy: 0.7682 - val_loss: 0.4671 - val_accuracy: 0.8517\n",
            "Epoch 92/1000\n",
            "58/71 [=======================>......] - ETA: 0s - loss: 0.6621 - accuracy: 0.7671\n",
            "Epoch 92: saving model to models\\keypoint_classifier.hdf5\n",
            "71/71 [==============================] - 0s 4ms/step - loss: 0.6586 - accuracy: 0.7694 - val_loss: 0.3849 - val_accuracy: 0.8770\n",
            "Epoch 93/1000\n",
            "58/71 [=======================>......] - ETA: 0s - loss: 0.6477 - accuracy: 0.7726\n",
            "Epoch 93: saving model to models\\keypoint_classifier.hdf5\n",
            "71/71 [==============================] - 0s 4ms/step - loss: 0.6420 - accuracy: 0.7730 - val_loss: 0.4574 - val_accuracy: 0.8600\n",
            "Epoch 94/1000\n",
            "58/71 [=======================>......] - ETA: 0s - loss: 0.6198 - accuracy: 0.7771\n",
            "Epoch 94: saving model to models\\keypoint_classifier.hdf5\n",
            "71/71 [==============================] - 0s 4ms/step - loss: 0.6222 - accuracy: 0.7760 - val_loss: 0.7339 - val_accuracy: 0.7310\n",
            "Epoch 95/1000\n",
            "59/71 [=======================>......] - ETA: 0s - loss: 0.6372 - accuracy: 0.7773\n",
            "Epoch 95: saving model to models\\keypoint_classifier.hdf5\n",
            "71/71 [==============================] - 0s 4ms/step - loss: 0.6466 - accuracy: 0.7733 - val_loss: 0.5875 - val_accuracy: 0.7910\n",
            "Epoch 96/1000\n",
            "70/71 [============================>.] - ETA: 0s - loss: 0.6421 - accuracy: 0.7730\n",
            "Epoch 96: saving model to models\\keypoint_classifier.hdf5\n",
            "71/71 [==============================] - 0s 4ms/step - loss: 0.6430 - accuracy: 0.7728 - val_loss: 0.4671 - val_accuracy: 0.8430\n",
            "Epoch 97/1000\n",
            "53/71 [=====================>........] - ETA: 0s - loss: 0.6176 - accuracy: 0.7743\n",
            "Epoch 97: saving model to models\\keypoint_classifier.hdf5\n",
            "71/71 [==============================] - 0s 4ms/step - loss: 0.6241 - accuracy: 0.7763 - val_loss: 0.4309 - val_accuracy: 0.8610\n",
            "Epoch 98/1000\n",
            "69/71 [============================>.] - ETA: 0s - loss: 0.6307 - accuracy: 0.7705\n",
            "Epoch 98: saving model to models\\keypoint_classifier.hdf5\n",
            "71/71 [==============================] - 0s 4ms/step - loss: 0.6289 - accuracy: 0.7712 - val_loss: 0.3442 - val_accuracy: 0.8987\n",
            "Epoch 99/1000\n",
            "60/71 [========================>.....] - ETA: 0s - loss: 0.6467 - accuracy: 0.7720\n",
            "Epoch 99: saving model to models\\keypoint_classifier.hdf5\n",
            "71/71 [==============================] - 0s 4ms/step - loss: 0.6458 - accuracy: 0.7712 - val_loss: 0.4569 - val_accuracy: 0.8423\n",
            "Epoch 100/1000\n",
            "57/71 [=======================>......] - ETA: 0s - loss: 0.6286 - accuracy: 0.7765\n",
            "Epoch 100: saving model to models\\keypoint_classifier.hdf5\n",
            "71/71 [==============================] - 0s 4ms/step - loss: 0.6244 - accuracy: 0.7786 - val_loss: 0.4128 - val_accuracy: 0.8603\n",
            "Epoch 101/1000\n",
            "55/71 [======================>.......] - ETA: 0s - loss: 0.6364 - accuracy: 0.7747\n",
            "Epoch 101: saving model to models\\keypoint_classifier.hdf5\n",
            "71/71 [==============================] - 0s 4ms/step - loss: 0.6300 - accuracy: 0.7752 - val_loss: 0.3825 - val_accuracy: 0.8773\n",
            "Epoch 102/1000\n",
            "54/71 [=====================>........] - ETA: 0s - loss: 0.6216 - accuracy: 0.7794\n",
            "Epoch 102: saving model to models\\keypoint_classifier.hdf5\n",
            "71/71 [==============================] - 0s 5ms/step - loss: 0.6196 - accuracy: 0.7787 - val_loss: 0.3761 - val_accuracy: 0.8850\n",
            "Epoch 103/1000\n",
            "58/71 [=======================>......] - ETA: 0s - loss: 0.6166 - accuracy: 0.7818\n",
            "Epoch 103: saving model to models\\keypoint_classifier.hdf5\n",
            "71/71 [==============================] - 0s 4ms/step - loss: 0.6155 - accuracy: 0.7789 - val_loss: 0.3936 - val_accuracy: 0.8703\n",
            "Epoch 104/1000\n",
            "58/71 [=======================>......] - ETA: 0s - loss: 0.6415 - accuracy: 0.7720\n",
            "Epoch 104: saving model to models\\keypoint_classifier.hdf5\n",
            "71/71 [==============================] - 0s 4ms/step - loss: 0.6448 - accuracy: 0.7716 - val_loss: 0.3902 - val_accuracy: 0.8693\n",
            "Epoch 105/1000\n",
            "59/71 [=======================>......] - ETA: 0s - loss: 0.6170 - accuracy: 0.7801\n",
            "Epoch 105: saving model to models\\keypoint_classifier.hdf5\n",
            "71/71 [==============================] - 0s 4ms/step - loss: 0.6203 - accuracy: 0.7799 - val_loss: 0.3833 - val_accuracy: 0.8720\n",
            "Epoch 106/1000\n",
            "59/71 [=======================>......] - ETA: 0s - loss: 0.6106 - accuracy: 0.7814\n",
            "Epoch 106: saving model to models\\keypoint_classifier.hdf5\n",
            "71/71 [==============================] - 0s 4ms/step - loss: 0.6189 - accuracy: 0.7812 - val_loss: 0.4219 - val_accuracy: 0.8727\n",
            "Epoch 107/1000\n",
            "58/71 [=======================>......] - ETA: 0s - loss: 0.6266 - accuracy: 0.7741\n",
            "Epoch 107: saving model to models\\keypoint_classifier.hdf5\n",
            "71/71 [==============================] - 0s 4ms/step - loss: 0.6229 - accuracy: 0.7741 - val_loss: 0.4748 - val_accuracy: 0.8430\n",
            "Epoch 108/1000\n",
            "58/71 [=======================>......] - ETA: 0s - loss: 0.6041 - accuracy: 0.7842\n",
            "Epoch 108: saving model to models\\keypoint_classifier.hdf5\n",
            "71/71 [==============================] - 0s 4ms/step - loss: 0.5998 - accuracy: 0.7851 - val_loss: 0.3201 - val_accuracy: 0.9003\n",
            "Epoch 109/1000\n",
            "58/71 [=======================>......] - ETA: 0s - loss: 0.6330 - accuracy: 0.7744\n",
            "Epoch 109: saving model to models\\keypoint_classifier.hdf5\n",
            "71/71 [==============================] - 0s 4ms/step - loss: 0.6308 - accuracy: 0.7746 - val_loss: 0.5769 - val_accuracy: 0.8010\n",
            "Epoch 110/1000\n",
            "59/71 [=======================>......] - ETA: 0s - loss: 0.6327 - accuracy: 0.7778\n",
            "Epoch 110: saving model to models\\keypoint_classifier.hdf5\n",
            "71/71 [==============================] - 0s 4ms/step - loss: 0.6377 - accuracy: 0.7752 - val_loss: 0.5204 - val_accuracy: 0.8240\n",
            "Epoch 111/1000\n",
            "56/71 [======================>.......] - ETA: 0s - loss: 0.6249 - accuracy: 0.7755\n",
            "Epoch 111: saving model to models\\keypoint_classifier.hdf5\n",
            "71/71 [==============================] - 0s 4ms/step - loss: 0.6241 - accuracy: 0.7779 - val_loss: 0.3587 - val_accuracy: 0.8813\n",
            "Epoch 112/1000\n",
            "59/71 [=======================>......] - ETA: 0s - loss: 0.6060 - accuracy: 0.7868\n",
            "Epoch 112: saving model to models\\keypoint_classifier.hdf5\n",
            "71/71 [==============================] - 0s 4ms/step - loss: 0.6075 - accuracy: 0.7861 - val_loss: 0.3350 - val_accuracy: 0.9010\n",
            "Epoch 113/1000\n",
            "59/71 [=======================>......] - ETA: 0s - loss: 0.6090 - accuracy: 0.7816\n",
            "Epoch 113: saving model to models\\keypoint_classifier.hdf5\n",
            "71/71 [==============================] - 0s 4ms/step - loss: 0.6049 - accuracy: 0.7837 - val_loss: 0.4385 - val_accuracy: 0.8407\n",
            "Epoch 114/1000\n",
            "56/71 [======================>.......] - ETA: 0s - loss: 0.6033 - accuracy: 0.7842\n",
            "Epoch 114: saving model to models\\keypoint_classifier.hdf5\n",
            "71/71 [==============================] - 0s 5ms/step - loss: 0.5952 - accuracy: 0.7849 - val_loss: 0.4596 - val_accuracy: 0.8383\n",
            "Epoch 115/1000\n",
            "57/71 [=======================>......] - ETA: 0s - loss: 0.6161 - accuracy: 0.7799\n",
            "Epoch 115: saving model to models\\keypoint_classifier.hdf5\n",
            "71/71 [==============================] - 0s 4ms/step - loss: 0.6164 - accuracy: 0.7806 - val_loss: 0.3681 - val_accuracy: 0.8810\n",
            "Epoch 116/1000\n",
            "57/71 [=======================>......] - ETA: 0s - loss: 0.6021 - accuracy: 0.7863\n",
            "Epoch 116: saving model to models\\keypoint_classifier.hdf5\n",
            "71/71 [==============================] - 0s 4ms/step - loss: 0.6106 - accuracy: 0.7814 - val_loss: 0.4220 - val_accuracy: 0.8627\n",
            "Epoch 117/1000\n",
            "60/71 [========================>.....] - ETA: 0s - loss: 0.6185 - accuracy: 0.7772\n",
            "Epoch 117: saving model to models\\keypoint_classifier.hdf5\n",
            "71/71 [==============================] - 0s 4ms/step - loss: 0.6141 - accuracy: 0.7791 - val_loss: 0.4372 - val_accuracy: 0.8593\n",
            "Epoch 118/1000\n",
            "60/71 [========================>.....] - ETA: 0s - loss: 0.6138 - accuracy: 0.7823\n",
            "Epoch 118: saving model to models\\keypoint_classifier.hdf5\n",
            "71/71 [==============================] - 0s 4ms/step - loss: 0.6157 - accuracy: 0.7809 - val_loss: 0.3462 - val_accuracy: 0.8923\n",
            "Epoch 119/1000\n",
            "69/71 [============================>.] - ETA: 0s - loss: 0.5985 - accuracy: 0.7840\n",
            "Epoch 119: saving model to models\\keypoint_classifier.hdf5\n",
            "71/71 [==============================] - 0s 5ms/step - loss: 0.5981 - accuracy: 0.7840 - val_loss: 0.3898 - val_accuracy: 0.8817\n",
            "Epoch 120/1000\n",
            "53/71 [=====================>........] - ETA: 0s - loss: 0.6185 - accuracy: 0.7780\n",
            "Epoch 120: saving model to models\\keypoint_classifier.hdf5\n",
            "71/71 [==============================] - 0s 4ms/step - loss: 0.6199 - accuracy: 0.7774 - val_loss: 0.5433 - val_accuracy: 0.8090\n",
            "Epoch 121/1000\n",
            "58/71 [=======================>......] - ETA: 0s - loss: 0.6018 - accuracy: 0.7884\n",
            "Epoch 121: saving model to models\\keypoint_classifier.hdf5\n",
            "71/71 [==============================] - 0s 4ms/step - loss: 0.5971 - accuracy: 0.7900 - val_loss: 0.3927 - val_accuracy: 0.8737\n",
            "Epoch 122/1000\n",
            "58/71 [=======================>......] - ETA: 0s - loss: 0.5982 - accuracy: 0.7895\n",
            "Epoch 122: saving model to models\\keypoint_classifier.hdf5\n",
            "71/71 [==============================] - 0s 4ms/step - loss: 0.6068 - accuracy: 0.7863 - val_loss: 0.5007 - val_accuracy: 0.8417\n",
            "Epoch 123/1000\n",
            "57/71 [=======================>......] - ETA: 0s - loss: 0.5982 - accuracy: 0.7844\n",
            "Epoch 123: saving model to models\\keypoint_classifier.hdf5\n",
            "71/71 [==============================] - 0s 4ms/step - loss: 0.5977 - accuracy: 0.7848 - val_loss: 0.3967 - val_accuracy: 0.8703\n",
            "Epoch 124/1000\n",
            "54/71 [=====================>........] - ETA: 0s - loss: 0.5867 - accuracy: 0.7849\n",
            "Epoch 124: saving model to models\\keypoint_classifier.hdf5\n",
            "71/71 [==============================] - 0s 4ms/step - loss: 0.5798 - accuracy: 0.7879 - val_loss: 0.3857 - val_accuracy: 0.8737\n",
            "Epoch 125/1000\n",
            "66/71 [==========================>...] - ETA: 0s - loss: 0.5753 - accuracy: 0.7958\n",
            "Epoch 125: saving model to models\\keypoint_classifier.hdf5\n",
            "71/71 [==============================] - 0s 5ms/step - loss: 0.5771 - accuracy: 0.7958 - val_loss: 0.3842 - val_accuracy: 0.8700\n",
            "Epoch 126/1000\n",
            "59/71 [=======================>......] - ETA: 0s - loss: 0.5799 - accuracy: 0.7921\n",
            "Epoch 126: saving model to models\\keypoint_classifier.hdf5\n",
            "71/71 [==============================] - 0s 4ms/step - loss: 0.5822 - accuracy: 0.7896 - val_loss: 0.4636 - val_accuracy: 0.8273\n",
            "Epoch 127/1000\n",
            "59/71 [=======================>......] - ETA: 0s - loss: 0.5923 - accuracy: 0.7876\n",
            "Epoch 127: saving model to models\\keypoint_classifier.hdf5\n",
            "71/71 [==============================] - 0s 4ms/step - loss: 0.5846 - accuracy: 0.7899 - val_loss: 0.4096 - val_accuracy: 0.8720\n",
            "Epoch 128/1000\n",
            "56/71 [======================>.......] - ETA: 0s - loss: 0.5971 - accuracy: 0.7931\n",
            "Epoch 128: saving model to models\\keypoint_classifier.hdf5\n",
            "71/71 [==============================] - 0s 4ms/step - loss: 0.5939 - accuracy: 0.7916 - val_loss: 0.3735 - val_accuracy: 0.8807\n",
            "Epoch 128: early stopping\n"
          ]
        },
        {
          "data": {
            "text/plain": [
              "<keras.src.callbacks.History at 0x1f384155b50>"
            ]
          },
          "execution_count": 12,
          "metadata": {},
          "output_type": "execute_result"
        }
      ],
      "source": [
        "model.fit(\n",
        "    X_train,\n",
        "    y_train,\n",
        "    epochs=1000,\n",
        "    batch_size=128,\n",
        "    validation_data=(X_test, y_test),\n",
        "    callbacks=[cp_callback, es_callback]\n",
        ")"
      ]
    },
    {
      "cell_type": "code",
      "execution_count": 13,
      "metadata": {
        "colab": {
          "base_uri": "https://localhost:8080/"
        },
        "id": "pxvb2Y299hE3",
        "outputId": "59eb3185-2e37-4b9e-bc9d-ab1b8ac29b7f"
      },
      "outputs": [
        {
          "name": "stdout",
          "output_type": "stream",
          "text": [
            " 1/24 [>.............................] - ETA: 0s - loss: 0.3715 - accuracy: 0.8594"
          ]
        },
        {
          "name": "stdout",
          "output_type": "stream",
          "text": [
            "24/24 [==============================] - 0s 2ms/step - loss: 0.3735 - accuracy: 0.8807\n"
          ]
        }
      ],
      "source": [
        "# Model evaluation\n",
        "val_loss, val_acc = model.evaluate(X_test, y_test, batch_size=128)"
      ]
    },
    {
      "cell_type": "code",
      "execution_count": 14,
      "metadata": {
        "id": "RBkmDeUW9hE4"
      },
      "outputs": [],
      "source": [
        "# Loading the saved model\n",
        "model = tf.keras.models.load_model(model_save_path)"
      ]
    },
    {
      "cell_type": "code",
      "execution_count": 15,
      "metadata": {
        "colab": {
          "base_uri": "https://localhost:8080/"
        },
        "id": "tFz9Tb0I9hE4",
        "outputId": "1c3b3528-54ae-4ee2-ab04-77429211cbef"
      },
      "outputs": [
        {
          "name": "stdout",
          "output_type": "stream",
          "text": [
            "1/1 [==============================] - 0s 205ms/step\n",
            "[2.5457076e-12 9.8817140e-01 6.5431799e-10 5.9180308e-13 3.5159544e-09\n",
            " 6.6284970e-03 1.2950635e-10 4.8645926e-03 5.0591802e-07 5.4825126e-08\n",
            " 3.2753387e-04 7.4961440e-06]\n",
            "1\n"
          ]
        }
      ],
      "source": [
        "# Inference test\n",
        "predict_result = model.predict(np.array([X_test[0]]))\n",
        "print(np.squeeze(predict_result))\n",
        "print(np.argmax(np.squeeze(predict_result)))"
      ]
    },
    {
      "cell_type": "markdown",
      "metadata": {
        "id": "S3U4yNWx9hE4"
      },
      "source": [
        "# Confusion matrix"
      ]
    },
    {
      "cell_type": "code",
      "execution_count": 16,
      "metadata": {
        "colab": {
          "base_uri": "https://localhost:8080/",
          "height": 582
        },
        "id": "AP1V6SCk9hE5",
        "outputId": "08e41a80-7a4a-4619-8125-ecc371368d19"
      },
      "outputs": [
        {
          "name": "stdout",
          "output_type": "stream",
          "text": [
            "94/94 [==============================] - 0s 1ms/step\n"
          ]
        },
        {
          "data": {
            "image/png": "[encoded data removed]",
            "text/plain": [
              "<Figure size 700x600 with 2 Axes>"
            ]
          },
          "metadata": {},
          "output_type": "display_data"
        },
        {
          "name": "stdout",
          "output_type": "stream",
          "text": [
            "Classification Report\n",
            "              precision    recall  f1-score   support\n",
            "\n",
            "           0       0.73      0.95      0.83       250\n",
            "           1       0.98      0.83      0.90       248\n",
            "           2       0.97      0.96      0.96       254\n",
            "           3       0.93      0.67      0.78       259\n",
            "           4       0.90      0.96      0.93       255\n",
            "           5       0.93      0.97      0.95       261\n",
            "           6       0.96      0.87      0.92       239\n",
            "           7       0.73      0.82      0.77       235\n",
            "           8       0.98      0.80      0.88       254\n",
            "           9       0.99      0.95      0.97       236\n",
            "          10       0.74      0.84      0.78       264\n",
            "          11       0.87      0.96      0.91       245\n",
            "\n",
            "    accuracy                           0.88      3000\n",
            "   macro avg       0.89      0.88      0.88      3000\n",
            "weighted avg       0.89      0.88      0.88      3000\n",
            "\n"
          ]
        }
      ],
      "source": [
        "import pandas as pd\n",
        "import seaborn as sns\n",
        "import matplotlib.pyplot as plt\n",
        "from sklearn.metrics import confusion_matrix, classification_report\n",
        "\n",
        "def print_confusion_matrix(y_true, y_pred, report=True):\n",
        "    labels = sorted(list(set(y_true)))\n",
        "    cmx_data = confusion_matrix(y_true, y_pred, labels=labels)\n",
        "    \n",
        "    df_cmx = pd.DataFrame(cmx_data, index=labels, columns=labels)\n",
        " \n",
        "    fig, ax = plt.subplots(figsize=(7, 6))\n",
        "    sns.heatmap(df_cmx, annot=True, fmt='g' ,square=False)\n",
        "    ax.set_ylim(len(set(y_true)), 0)\n",
        "    plt.show()\n",
        "    \n",
        "    if report:\n",
        "        print('Classification Report')\n",
        "        print(classification_report(y_test, y_pred))\n",
        "\n",
        "Y_pred = model.predict(X_test)\n",
        "y_pred = np.argmax(Y_pred, axis=1)\n",
        "\n",
        "print_confusion_matrix(y_test, y_pred)"
      ]
    },
    {
      "cell_type": "markdown",
      "metadata": {
        "id": "FNP6aqzc9hE5"
      },
      "source": [
        "# Convert to model for Tensorflow-Lite"
      ]
    },
    {
      "cell_type": "code",
      "execution_count": 17,
      "metadata": {
        "id": "ODjnYyld9hE6"
      },
      "outputs": [
        {
          "name": "stderr",
          "output_type": "stream",
          "text": [
            "c:\\Users\\Ian\\git\\553.806_Capstone_HandGesture\\.venv\\Lib\\site-packages\\keras\\src\\engine\\training.py:3103: UserWarning: You are saving your model as an HDF5 file via `model.save()`. This file format is considered legacy. We recommend using instead the native Keras format, e.g. `model.save('my_model.keras')`.\n",
            "  saving_api.save_model(\n"
          ]
        }
      ],
      "source": [
        "# Save as a model dedicated to inference\n",
        "model.save(model_save_path, include_optimizer=False)"
      ]
    },
    {
      "cell_type": "code",
      "execution_count": 18,
      "metadata": {
        "colab": {
          "base_uri": "https://localhost:8080/"
        },
        "id": "zRfuK8Y59hE6",
        "outputId": "a4ca585c-b5d5-4244-8291-8674063209bb"
      },
      "outputs": [
        {
          "name": "stdout",
          "output_type": "stream",
          "text": [
            "INFO:tensorflow:Assets written to: C:\\Users\\Ian\\AppData\\Local\\Temp\\tmpo1_p0twa\\assets\n"
          ]
        },
        {
          "name": "stderr",
          "output_type": "stream",
          "text": [
            "INFO:tensorflow:Assets written to: C:\\Users\\Ian\\AppData\\Local\\Temp\\tmpo1_p0twa\\assets\n"
          ]
        },
        {
          "data": {
            "text/plain": [
              "23992"
            ]
          },
          "execution_count": 18,
          "metadata": {},
          "output_type": "execute_result"
        }
      ],
      "source": [
        "# Transform model (quantization)\n",
        "\n",
        "converter = tf.lite.TFLiteConverter.from_keras_model(model)\n",
        "converter.optimizations = [tf.lite.Optimize.DEFAULT]\n",
        "tflite_quantized_model = converter.convert()\n",
        "\n",
        "open(tflite_save_path, 'wb').write(tflite_quantized_model)"
      ]
    },
    {
      "cell_type": "markdown",
      "metadata": {
        "id": "CHBPBXdx9hE6"
      },
      "source": [
        "# Inference test"
      ]
    },
    {
      "cell_type": "code",
      "execution_count": 19,
      "metadata": {
        "id": "mGAzLocO9hE7"
      },
      "outputs": [],
      "source": [
        "interpreter = tf.lite.Interpreter(model_path=tflite_save_path)\n",
        "interpreter.allocate_tensors()"
      ]
    },
    {
      "cell_type": "code",
      "execution_count": 20,
      "metadata": {
        "id": "oQuDK8YS9hE7"
      },
      "outputs": [],
      "source": [
        "# Get I / O tensor\n",
        "input_details = interpreter.get_input_details()\n",
        "output_details = interpreter.get_output_details()"
      ]
    },
    {
      "cell_type": "code",
      "execution_count": 21,
      "metadata": {
        "id": "2_ixAf_l9hE7"
      },
      "outputs": [],
      "source": [
        "interpreter.set_tensor(input_details[0]['index'], np.array([X_test[0]]))"
      ]
    },
    {
      "cell_type": "code",
      "execution_count": 22,
      "metadata": {
        "colab": {
          "base_uri": "https://localhost:8080/"
        },
        "id": "s4FoAnuc9hE7",
        "outputId": "91f18257-8d8b-4ef3-c558-e9b5f94fabbf",
        "scrolled": true
      },
      "outputs": [
        {
          "name": "stdout",
          "output_type": "stream",
          "text": [
            "CPU times: total: 0 ns\n",
            "Wall time: 0 ns\n"
          ]
        }
      ],
      "source": [
        "%%time\n",
        "# Inference implementation\n",
        "interpreter.invoke()\n",
        "tflite_results = interpreter.get_tensor(output_details[0]['index'])"
      ]
    },
    {
      "cell_type": "code",
      "execution_count": 23,
      "metadata": {
        "colab": {
          "base_uri": "https://localhost:8080/"
        },
        "id": "vONjp19J9hE8",
        "outputId": "77205e24-fd00-42c4-f7b6-e06e527c2cba"
      },
      "outputs": [
        {
          "name": "stdout",
          "output_type": "stream",
          "text": [
            "[1.34496309e-12 9.73744452e-01 1.32897554e-10 4.04224126e-13\n",
            " 5.42117107e-09 1.10509722e-02 7.05611680e-11 1.43176615e-02\n",
            " 4.04954017e-06 9.00648534e-09 8.49897042e-04 3.28952119e-05]\n",
            "1\n"
          ]
        }
      ],
      "source": [
        "print(np.squeeze(tflite_results))\n",
        "print(np.argmax(np.squeeze(tflite_results)))"
      ]
    }
  ],
  "metadata": {
    "accelerator": "GPU",
    "colab": {
      "collapsed_sections": [],
      "name": "keypoint_classification_EN.ipynb",
      "provenance": [],
      "toc_visible": true
    },
    "kernelspec": {
      "display_name": "Python 3",
      "language": "python",
      "name": "python3"
    },
    "language_info": {
      "codemirror_mode": {
        "name": "ipython",
        "version": 3
      },
      "file_extension": ".py",
      "mimetype": "text/x-python",
      "name": "python",
      "nbconvert_exporter": "python",
      "pygments_lexer": "ipython3",
      "version": "3.11.8"
    }
  },
  "nbformat": 4,
  "nbformat_minor": 0
}
