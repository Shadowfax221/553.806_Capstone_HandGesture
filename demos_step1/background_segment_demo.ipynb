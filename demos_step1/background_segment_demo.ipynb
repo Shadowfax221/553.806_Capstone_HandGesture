{
 "cells": [
  {
   "cell_type": "code",
   "execution_count": 1,
   "metadata": {},
   "outputs": [
    {
     "ename": "KeyboardInterrupt",
     "evalue": "",
     "output_type": "error",
     "traceback": [
      "\u001b[1;31m---------------------------------------------------------------------------\u001b[0m",
      "\u001b[1;31mKeyboardInterrupt\u001b[0m                         Traceback (most recent call last)",
      "Cell \u001b[1;32mIn[1], line 11\u001b[0m\n\u001b[0;32m      9\u001b[0m \u001b[38;5;28;01mwith\u001b[39;00m mp_hands\u001b[38;5;241m.\u001b[39mHands(min_detection_confidence\u001b[38;5;241m=\u001b[39m\u001b[38;5;241m0.8\u001b[39m, min_tracking_confidence\u001b[38;5;241m=\u001b[39m\u001b[38;5;241m0.5\u001b[39m) \u001b[38;5;28;01mas\u001b[39;00m hands:\n\u001b[0;32m     10\u001b[0m   \u001b[38;5;28;01mwhile\u001b[39;00m capture\u001b[38;5;241m.\u001b[39misOpened():\n\u001b[1;32m---> 11\u001b[0m       ret, frame \u001b[38;5;241m=\u001b[39m \u001b[43mcapture\u001b[49m\u001b[38;5;241;43m.\u001b[39;49m\u001b[43mread\u001b[49m\u001b[43m(\u001b[49m\u001b[43m)\u001b[49m\n\u001b[0;32m     12\u001b[0m       frame \u001b[38;5;241m=\u001b[39m cv2\u001b[38;5;241m.\u001b[39mflip(frame, \u001b[38;5;241m1\u001b[39m)\n\u001b[0;32m     13\u001b[0m       image \u001b[38;5;241m=\u001b[39m cv2\u001b[38;5;241m.\u001b[39mcvtColor(frame, cv2\u001b[38;5;241m.\u001b[39mCOLOR_BGR2RGB)\n",
      "\u001b[1;31mKeyboardInterrupt\u001b[0m: "
     ]
    },
    {
     "ename": "",
     "evalue": "",
     "output_type": "error",
     "traceback": [
      "\u001b[1;31mThe Kernel crashed while executing code in the current cell or a previous cell. \n",
      "\u001b[1;31mPlease review the code in the cell(s) to identify a possible cause of the failure. \n",
      "\u001b[1;31mClick <a href='https://aka.ms/vscodeJupyterKernelCrash'>here</a> for more info. \n",
      "\u001b[1;31mView Jupyter <a href='command:jupyter.viewOutput'>log</a> for further details."
     ]
    }
   ],
   "source": [
    "import mediapipe as mp\n",
    "import cv2\n",
    "\n",
    "mp_drawing = mp.solutions.drawing_utils\n",
    "mp_hands = mp.solutions.hands\n",
    "\n",
    "capture = cv2.VideoCapture(0)\n",
    "\n",
    "with mp_hands.Hands(min_detection_confidence=0.8, min_tracking_confidence=0.5) as hands:\n",
    "  while capture.isOpened():\n",
    "      ret, frame = capture.read()\n",
    "      frame = cv2.flip(frame, 1)\n",
    "      image = cv2.cvtColor(frame, cv2.COLOR_BGR2RGB)\n",
    "      detected_image = hands.process(image)\n",
    "      image = cv2.cvtColor(image, cv2.COLOR_RGB2BGR)\n",
    "  \n",
    "      if detected_image.multi_hand_landmarks:\n",
    "          for hand_lms in detected_image.multi_hand_landmarks:\n",
    "              mp_drawing.draw_landmarks(image, hand_lms,\n",
    "                                        mp_hands.HAND_CONNECTIONS,\n",
    "                                        landmark_drawing_spec=mp.solutions.drawing_utils.DrawingSpec(\n",
    "                                            color=(255, 0, 255), thickness=4, circle_radius=2),\n",
    "                                        connection_drawing_spec=mp.solutions.drawing_utils.DrawingSpec(\n",
    "                                            color=(20, 180, 90), thickness=2, circle_radius=2)\n",
    "                                        )\n",
    "  \n",
    "      cv2.imshow('Webcam', image)\n",
    "  \n",
    "      if cv2.waitKey(1) & 0xFF == ord('q'):\n",
    "          break\n",
    "\n",
    "capture.release()\n",
    "cv2.destroyAllWindows()"
   ]
  }
 ],
 "metadata": {
  "kernelspec": {
   "display_name": "base",
   "language": "python",
   "name": "python3"
  },
  "language_info": {
   "codemirror_mode": {
    "name": "ipython",
    "version": 3
   },
   "file_extension": ".py",
   "mimetype": "text/x-python",
   "name": "python",
   "nbconvert_exporter": "python",
   "pygments_lexer": "ipython3",
   "version": "3.11.7"
  }
 },
 "nbformat": 4,
 "nbformat_minor": 2
}
