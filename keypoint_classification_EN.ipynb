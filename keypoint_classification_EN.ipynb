{
  "cells": [
    {
      "cell_type": "code",
      "execution_count": 1,
      "metadata": {
        "id": "igMyGnjE9hEp"
      },
      "outputs": [
        {
          "name": "stdout",
          "output_type": "stream",
          "text": [
            "WARNING:tensorflow:From c:\\Users\\Ian\\AppData\\Local\\Programs\\Python\\Python311\\Lib\\site-packages\\keras\\src\\losses.py:2976: The name tf.losses.sparse_softmax_cross_entropy is deprecated. Please use tf.compat.v1.losses.sparse_softmax_cross_entropy instead.\n",
            "\n"
          ]
        }
      ],
      "source": [
        "import csv\n",
        "\n",
        "import numpy as np\n",
        "import tensorflow as tf\n",
        "from sklearn.model_selection import train_test_split\n",
        "\n",
        "RANDOM_SEED = 42"
      ]
    },
    {
      "cell_type": "markdown",
      "metadata": {
        "id": "t2HDvhIu9hEr"
      },
      "source": [
        "# Specify each path"
      ]
    },
    {
      "cell_type": "code",
      "execution_count": 2,
      "metadata": {
        "id": "9NvZP2Zn9hEy"
      },
      "outputs": [],
      "source": [
        "dataset = 'model/keypoint_classifier/keypoint.csv'\n",
        "model_save_path = 'model/keypoint_classifier/keypoint_classifier.hdf5'\n",
        "tflite_save_path = 'model/keypoint_classifier/keypoint_classifier.tflite'"
      ]
    },
    {
      "cell_type": "markdown",
      "metadata": {
        "id": "s5oMH7x19hEz"
      },
      "source": [
        "# Set number of classes"
      ]
    },
    {
      "cell_type": "code",
      "execution_count": 3,
      "metadata": {
        "id": "du4kodXL9hEz"
      },
      "outputs": [],
      "source": [
        "NUM_CLASSES = 12"
      ]
    },
    {
      "cell_type": "markdown",
      "metadata": {
        "id": "XjnL0uso9hEz"
      },
      "source": [
        "# Dataset reading"
      ]
    },
    {
      "cell_type": "code",
      "execution_count": 4,
      "metadata": {
        "id": "QT5ZqtEz9hE0"
      },
      "outputs": [],
      "source": [
        "X_dataset = np.loadtxt(dataset, delimiter=',', dtype='float32', usecols=list(range(1, (21 * 2) + 1)))"
      ]
    },
    {
      "cell_type": "code",
      "execution_count": 5,
      "metadata": {
        "id": "QmoKFsp49hE0"
      },
      "outputs": [],
      "source": [
        "y_dataset = np.loadtxt(dataset, delimiter=',', dtype='int32', usecols=(0))"
      ]
    },
    {
      "cell_type": "code",
      "execution_count": 6,
      "metadata": {
        "id": "xQU7JTZ_9hE0"
      },
      "outputs": [],
      "source": [
        "X_train, X_test, y_train, y_test = train_test_split(X_dataset, y_dataset, train_size=0.75, random_state=RANDOM_SEED)"
      ]
    },
    {
      "cell_type": "markdown",
      "metadata": {
        "id": "mxK_lETT9hE0"
      },
      "source": [
        "# Model building"
      ]
    },
    {
      "cell_type": "code",
      "execution_count": 7,
      "metadata": {
        "id": "vHBmUf1t9hE1"
      },
      "outputs": [
        {
          "name": "stdout",
          "output_type": "stream",
          "text": [
            "WARNING:tensorflow:From c:\\Users\\Ian\\AppData\\Local\\Programs\\Python\\Python311\\Lib\\site-packages\\keras\\src\\backend.py:1398: The name tf.executing_eagerly_outside_functions is deprecated. Please use tf.compat.v1.executing_eagerly_outside_functions instead.\n",
            "\n"
          ]
        }
      ],
      "source": [
        "model = tf.keras.models.Sequential([\n",
        "    tf.keras.layers.Input((21 * 2, )),\n",
        "    tf.keras.layers.Dropout(0.2),\n",
        "    tf.keras.layers.Dense(20, activation='relu'),\n",
        "    tf.keras.layers.Dropout(0.4),\n",
        "    tf.keras.layers.Dense(10, activation='relu'),\n",
        "    tf.keras.layers.Dense(NUM_CLASSES, activation='softmax')\n",
        "])"
      ]
    },
    {
      "cell_type": "code",
      "execution_count": 8,
      "metadata": {
        "colab": {
          "base_uri": "https://localhost:8080/"
        },
        "id": "ypqky9tc9hE1",
        "outputId": "5db082bb-30e3-4110-bf63-a1ee777ecd46"
      },
      "outputs": [
        {
          "name": "stdout",
          "output_type": "stream",
          "text": [
            "Model: \"sequential\"\n",
            "_________________________________________________________________\n",
            " Layer (type)                Output Shape              Param #   \n",
            "=================================================================\n",
            " dropout (Dropout)           (None, 42)                0         \n",
            "                                                                 \n",
            " dense (Dense)               (None, 20)                860       \n",
            "                                                                 \n",
            " dropout_1 (Dropout)         (None, 20)                0         \n",
            "                                                                 \n",
            " dense_1 (Dense)             (None, 10)                210       \n",
            "                                                                 \n",
            " dense_2 (Dense)             (None, 12)                132       \n",
            "                                                                 \n",
            "=================================================================\n",
            "Total params: 1202 (4.70 KB)\n",
            "Trainable params: 1202 (4.70 KB)\n",
            "Non-trainable params: 0 (0.00 Byte)\n",
            "_________________________________________________________________\n"
          ]
        }
      ],
      "source": [
        "model.summary()  # tf.keras.utils.plot_model(model, show_shapes=True)"
      ]
    },
    {
      "cell_type": "code",
      "execution_count": 9,
      "metadata": {
        "id": "MbMjOflQ9hE1"
      },
      "outputs": [],
      "source": [
        "# Model checkpoint callback\n",
        "cp_callback = tf.keras.callbacks.ModelCheckpoint(\n",
        "    model_save_path, verbose=1, save_weights_only=False)\n",
        "# Callback for early stopping\n",
        "es_callback = tf.keras.callbacks.EarlyStopping(patience=20, verbose=1)"
      ]
    },
    {
      "cell_type": "code",
      "execution_count": 10,
      "metadata": {
        "id": "c3Dac0M_9hE2"
      },
      "outputs": [
        {
          "name": "stdout",
          "output_type": "stream",
          "text": [
            "WARNING:tensorflow:From c:\\Users\\Ian\\AppData\\Local\\Programs\\Python\\Python311\\Lib\\site-packages\\keras\\src\\optimizers\\__init__.py:309: The name tf.train.Optimizer is deprecated. Please use tf.compat.v1.train.Optimizer instead.\n",
            "\n"
          ]
        }
      ],
      "source": [
        "# Model compilation\n",
        "model.compile(\n",
        "    optimizer='adam',\n",
        "    loss='sparse_categorical_crossentropy',\n",
        "    metrics=['accuracy']\n",
        ")"
      ]
    },
    {
      "cell_type": "markdown",
      "metadata": {
        "id": "7XI0j1Iu9hE2"
      },
      "source": [
        "# Model training"
      ]
    },
    {
      "cell_type": "code",
      "execution_count": 11,
      "metadata": {},
      "outputs": [
        {
          "data": {
            "text/plain": [
              "<keras.src.callbacks.EarlyStopping at 0x14115585410>"
            ]
          },
          "execution_count": 11,
          "metadata": {},
          "output_type": "execute_result"
        }
      ],
      "source": [
        "es_callback"
      ]
    },
    {
      "cell_type": "code",
      "execution_count": 12,
      "metadata": {
        "colab": {
          "base_uri": "https://localhost:8080/"
        },
        "id": "WirBl-JE9hE3",
        "outputId": "71b30ca2-8294-4d9d-8aa2-800d90d399de",
        "scrolled": true
      },
      "outputs": [
        {
          "name": "stdout",
          "output_type": "stream",
          "text": [
            "Epoch 1/1000\n",
            "WARNING:tensorflow:From c:\\Users\\Ian\\AppData\\Local\\Programs\\Python\\Python311\\Lib\\site-packages\\keras\\src\\utils\\tf_utils.py:492: The name tf.ragged.RaggedTensorValue is deprecated. Please use tf.compat.v1.ragged.RaggedTensorValue instead.\n",
            "\n",
            "WARNING:tensorflow:From c:\\Users\\Ian\\AppData\\Local\\Programs\\Python\\Python311\\Lib\\site-packages\\keras\\src\\engine\\base_layer_utils.py:384: The name tf.executing_eagerly_outside_functions is deprecated. Please use tf.compat.v1.executing_eagerly_outside_functions instead.\n",
            "\n",
            "28/33 [========================>.....] - ETA: 0s - loss: 2.5040 - accuracy: 0.0954 \n",
            "Epoch 1: saving model to model/keypoint_classifier\\keypoint_classifier.hdf5\n",
            "33/33 [==============================] - 2s 11ms/step - loss: 2.5003 - accuracy: 0.0965 - val_loss: 2.4693 - val_accuracy: 0.0900\n",
            "Epoch 2/1000\n",
            "31/33 [===========================>..] - ETA: 0s - loss: 2.4518 - accuracy: 0.1283\n",
            "Epoch 2: saving model to model/keypoint_classifier\\keypoint_classifier.hdf5\n",
            "33/33 [==============================] - 0s 4ms/step - loss: 2.4508 - accuracy: 0.1311 - val_loss: 2.4452 - val_accuracy: 0.1094\n",
            "Epoch 3/1000\n",
            " 1/33 [..............................] - ETA: 0s - loss: 2.4498 - accuracy: 0.1328"
          ]
        },
        {
          "name": "stderr",
          "output_type": "stream",
          "text": [
            "c:\\Users\\Ian\\AppData\\Local\\Programs\\Python\\Python311\\Lib\\site-packages\\keras\\src\\engine\\training.py:3103: UserWarning: You are saving your model as an HDF5 file via `model.save()`. This file format is considered legacy. We recommend using instead the native Keras format, e.g. `model.save('my_model.keras')`.\n",
            "  saving_api.save_model(\n"
          ]
        },
        {
          "name": "stdout",
          "output_type": "stream",
          "text": [
            "31/33 [===========================>..] - ETA: 0s - loss: 2.4302 - accuracy: 0.1454\n",
            "Epoch 3: saving model to model/keypoint_classifier\\keypoint_classifier.hdf5\n",
            "33/33 [==============================] - 0s 4ms/step - loss: 2.4293 - accuracy: 0.1462 - val_loss: 2.4112 - val_accuracy: 0.2311\n",
            "Epoch 4/1000\n",
            "33/33 [==============================] - ETA: 0s - loss: 2.3929 - accuracy: 0.1702\n",
            "Epoch 4: saving model to model/keypoint_classifier\\keypoint_classifier.hdf5\n",
            "33/33 [==============================] - 0s 4ms/step - loss: 2.3929 - accuracy: 0.1702 - val_loss: 2.3483 - val_accuracy: 0.2102\n",
            "Epoch 5/1000\n",
            " 1/33 [..............................] - ETA: 0s - loss: 2.3206 - accuracy: 0.2031\n",
            "Epoch 5: saving model to model/keypoint_classifier\\keypoint_classifier.hdf5\n",
            "33/33 [==============================] - 0s 4ms/step - loss: 2.3373 - accuracy: 0.1925 - val_loss: 2.2623 - val_accuracy: 0.2088\n",
            "Epoch 6/1000\n",
            "31/33 [===========================>..] - ETA: 0s - loss: 2.2865 - accuracy: 0.2039\n",
            "Epoch 6: saving model to model/keypoint_classifier\\keypoint_classifier.hdf5\n",
            "33/33 [==============================] - 0s 4ms/step - loss: 2.2884 - accuracy: 0.2026 - val_loss: 2.1895 - val_accuracy: 0.2109\n",
            "Epoch 7/1000\n",
            " 1/33 [..............................] - ETA: 0s - loss: 2.2170 - accuracy: 0.2656\n",
            "Epoch 7: saving model to model/keypoint_classifier\\keypoint_classifier.hdf5\n",
            "33/33 [==============================] - 0s 3ms/step - loss: 2.2183 - accuracy: 0.2122 - val_loss: 2.0980 - val_accuracy: 0.2333\n",
            "Epoch 8/1000\n",
            " 1/33 [..............................] - ETA: 0s - loss: 2.2879 - accuracy: 0.1328\n",
            "Epoch 8: saving model to model/keypoint_classifier\\keypoint_classifier.hdf5\n",
            "33/33 [==============================] - 0s 4ms/step - loss: 2.1685 - accuracy: 0.2177 - val_loss: 2.0266 - val_accuracy: 0.2484\n",
            "Epoch 9/1000\n",
            " 1/33 [..............................] - ETA: 0s - loss: 2.2341 - accuracy: 0.1641\n",
            "Epoch 9: saving model to model/keypoint_classifier\\keypoint_classifier.hdf5\n",
            "33/33 [==============================] - 0s 3ms/step - loss: 2.0995 - accuracy: 0.2259 - val_loss: 1.9473 - val_accuracy: 0.2772\n",
            "Epoch 10/1000\n",
            " 1/33 [..............................] - ETA: 0s - loss: 1.9948 - accuracy: 0.2734\n",
            "Epoch 10: saving model to model/keypoint_classifier\\keypoint_classifier.hdf5\n",
            "33/33 [==============================] - 0s 3ms/step - loss: 2.0590 - accuracy: 0.2432 - val_loss: 1.8855 - val_accuracy: 0.2779\n",
            "Epoch 11/1000\n",
            " 1/33 [..............................] - ETA: 0s - loss: 2.0398 - accuracy: 0.2109\n",
            "Epoch 11: saving model to model/keypoint_classifier\\keypoint_classifier.hdf5\n",
            "33/33 [==============================] - 0s 3ms/step - loss: 2.0014 - accuracy: 0.2448 - val_loss: 1.8208 - val_accuracy: 0.2973\n",
            "Epoch 12/1000\n",
            " 1/33 [..............................] - ETA: 0s - loss: 1.9338 - accuracy: 0.2891\n",
            "Epoch 12: saving model to model/keypoint_classifier\\keypoint_classifier.hdf5\n",
            "33/33 [==============================] - 0s 4ms/step - loss: 1.9534 - accuracy: 0.2686 - val_loss: 1.7580 - val_accuracy: 0.3125\n",
            "Epoch 13/1000\n",
            "30/33 [==========================>...] - ETA: 0s - loss: 1.9182 - accuracy: 0.2685\n",
            "Epoch 13: saving model to model/keypoint_classifier\\keypoint_classifier.hdf5\n",
            "33/33 [==============================] - 0s 4ms/step - loss: 1.9149 - accuracy: 0.2703 - val_loss: 1.7035 - val_accuracy: 0.3398\n",
            "Epoch 14/1000\n",
            "29/33 [=========================>....] - ETA: 0s - loss: 1.8645 - accuracy: 0.2850\n",
            "Epoch 14: saving model to model/keypoint_classifier\\keypoint_classifier.hdf5\n",
            "33/33 [==============================] - 0s 4ms/step - loss: 1.8643 - accuracy: 0.2847 - val_loss: 1.6330 - val_accuracy: 0.3564\n",
            "Epoch 15/1000\n",
            "31/33 [===========================>..] - ETA: 0s - loss: 1.8186 - accuracy: 0.2959\n",
            "Epoch 15: saving model to model/keypoint_classifier\\keypoint_classifier.hdf5\n",
            "33/33 [==============================] - 0s 4ms/step - loss: 1.8128 - accuracy: 0.2974 - val_loss: 1.5615 - val_accuracy: 0.4435\n",
            "Epoch 16/1000\n",
            "29/33 [=========================>....] - ETA: 0s - loss: 1.7827 - accuracy: 0.3198\n",
            "Epoch 16: saving model to model/keypoint_classifier\\keypoint_classifier.hdf5\n",
            "33/33 [==============================] - 0s 4ms/step - loss: 1.7768 - accuracy: 0.3217 - val_loss: 1.5014 - val_accuracy: 0.4744\n",
            "Epoch 17/1000\n",
            "29/33 [=========================>....] - ETA: 0s - loss: 1.7496 - accuracy: 0.3262\n",
            "Epoch 17: saving model to model/keypoint_classifier\\keypoint_classifier.hdf5\n",
            "33/33 [==============================] - 0s 4ms/step - loss: 1.7478 - accuracy: 0.3255 - val_loss: 1.4498 - val_accuracy: 0.4996\n",
            "Epoch 18/1000\n",
            "28/33 [========================>.....] - ETA: 0s - loss: 1.7326 - accuracy: 0.3253\n",
            "Epoch 18: saving model to model/keypoint_classifier\\keypoint_classifier.hdf5\n",
            "33/33 [==============================] - 0s 4ms/step - loss: 1.7271 - accuracy: 0.3308 - val_loss: 1.4218 - val_accuracy: 0.5040\n",
            "Epoch 19/1000\n",
            "26/33 [======================>.......] - ETA: 0s - loss: 1.6783 - accuracy: 0.3477\n",
            "Epoch 19: saving model to model/keypoint_classifier\\keypoint_classifier.hdf5\n",
            "33/33 [==============================] - 0s 4ms/step - loss: 1.6777 - accuracy: 0.3497 - val_loss: 1.3869 - val_accuracy: 0.4982\n",
            "Epoch 20/1000\n",
            "29/33 [=========================>....] - ETA: 0s - loss: 1.6550 - accuracy: 0.3677\n",
            "Epoch 20: saving model to model/keypoint_classifier\\keypoint_classifier.hdf5\n",
            "33/33 [==============================] - 0s 4ms/step - loss: 1.6550 - accuracy: 0.3680 - val_loss: 1.3306 - val_accuracy: 0.5169\n",
            "Epoch 21/1000\n",
            "27/33 [=======================>......] - ETA: 0s - loss: 1.6463 - accuracy: 0.3579\n",
            "Epoch 21: saving model to model/keypoint_classifier\\keypoint_classifier.hdf5\n",
            "33/33 [==============================] - 0s 4ms/step - loss: 1.6359 - accuracy: 0.3663 - val_loss: 1.3086 - val_accuracy: 0.5198\n",
            "Epoch 22/1000\n",
            "28/33 [========================>.....] - ETA: 0s - loss: 1.6071 - accuracy: 0.3705\n",
            "Epoch 22: saving model to model/keypoint_classifier\\keypoint_classifier.hdf5\n",
            "33/33 [==============================] - 0s 4ms/step - loss: 1.6051 - accuracy: 0.3737 - val_loss: 1.2675 - val_accuracy: 0.5508\n",
            "Epoch 23/1000\n",
            "31/33 [===========================>..] - ETA: 0s - loss: 1.5736 - accuracy: 0.3906\n",
            "Epoch 23: saving model to model/keypoint_classifier\\keypoint_classifier.hdf5\n",
            "33/33 [==============================] - 0s 4ms/step - loss: 1.5720 - accuracy: 0.3893 - val_loss: 1.2441 - val_accuracy: 0.5688\n",
            "Epoch 24/1000\n",
            "29/33 [=========================>....] - ETA: 0s - loss: 1.5690 - accuracy: 0.3801\n",
            "Epoch 24: saving model to model/keypoint_classifier\\keypoint_classifier.hdf5\n",
            "33/33 [==============================] - 0s 4ms/step - loss: 1.5663 - accuracy: 0.3805 - val_loss: 1.2230 - val_accuracy: 0.5630\n",
            "Epoch 25/1000\n",
            "33/33 [==============================] - ETA: 0s - loss: 1.5268 - accuracy: 0.4001\n",
            "Epoch 25: saving model to model/keypoint_classifier\\keypoint_classifier.hdf5\n",
            "33/33 [==============================] - 0s 4ms/step - loss: 1.5268 - accuracy: 0.4001 - val_loss: 1.2079 - val_accuracy: 0.5457\n",
            "Epoch 26/1000\n",
            " 1/33 [..............................] - ETA: 0s - loss: 1.5147 - accuracy: 0.3438\n",
            "Epoch 26: saving model to model/keypoint_classifier\\keypoint_classifier.hdf5\n",
            "33/33 [==============================] - 0s 4ms/step - loss: 1.5410 - accuracy: 0.3896 - val_loss: 1.1854 - val_accuracy: 0.5587\n",
            "Epoch 27/1000\n",
            " 1/33 [..............................] - ETA: 0s - loss: 1.4324 - accuracy: 0.4375\n",
            "Epoch 27: saving model to model/keypoint_classifier\\keypoint_classifier.hdf5\n",
            "33/33 [==============================] - 0s 3ms/step - loss: 1.5023 - accuracy: 0.3994 - val_loss: 1.1594 - val_accuracy: 0.5680\n",
            "Epoch 28/1000\n",
            " 1/33 [..............................] - ETA: 0s - loss: 1.4493 - accuracy: 0.4375\n",
            "Epoch 28: saving model to model/keypoint_classifier\\keypoint_classifier.hdf5\n",
            "33/33 [==============================] - 0s 3ms/step - loss: 1.5150 - accuracy: 0.4045 - val_loss: 1.1509 - val_accuracy: 0.5781\n",
            "Epoch 29/1000\n",
            "32/33 [============================>.] - ETA: 0s - loss: 1.5024 - accuracy: 0.4065\n",
            "Epoch 29: saving model to model/keypoint_classifier\\keypoint_classifier.hdf5\n",
            "33/33 [==============================] - 0s 4ms/step - loss: 1.5000 - accuracy: 0.4064 - val_loss: 1.1452 - val_accuracy: 0.5673\n",
            "Epoch 30/1000\n",
            " 1/33 [..............................] - ETA: 0s - loss: 1.5341 - accuracy: 0.4531\n",
            "Epoch 30: saving model to model/keypoint_classifier\\keypoint_classifier.hdf5\n",
            "33/33 [==============================] - 0s 3ms/step - loss: 1.5073 - accuracy: 0.4001 - val_loss: 1.1254 - val_accuracy: 0.5803\n",
            "Epoch 31/1000\n",
            " 1/33 [..............................] - ETA: 0s - loss: 1.5200 - accuracy: 0.4219\n",
            "Epoch 31: saving model to model/keypoint_classifier\\keypoint_classifier.hdf5\n",
            "33/33 [==============================] - 0s 4ms/step - loss: 1.4929 - accuracy: 0.4191 - val_loss: 1.1217 - val_accuracy: 0.5889\n",
            "Epoch 32/1000\n",
            "29/33 [=========================>....] - ETA: 0s - loss: 1.4944 - accuracy: 0.4195\n",
            "Epoch 32: saving model to model/keypoint_classifier\\keypoint_classifier.hdf5\n",
            "33/33 [==============================] - 0s 4ms/step - loss: 1.4955 - accuracy: 0.4189 - val_loss: 1.0979 - val_accuracy: 0.5868\n",
            "Epoch 33/1000\n",
            "29/33 [=========================>....] - ETA: 0s - loss: 1.4757 - accuracy: 0.4184\n",
            "Epoch 33: saving model to model/keypoint_classifier\\keypoint_classifier.hdf5\n",
            "33/33 [==============================] - 0s 4ms/step - loss: 1.4773 - accuracy: 0.4133 - val_loss: 1.1005 - val_accuracy: 0.6012\n",
            "Epoch 34/1000\n",
            "29/33 [=========================>....] - ETA: 0s - loss: 1.4720 - accuracy: 0.4227\n",
            "Epoch 34: saving model to model/keypoint_classifier\\keypoint_classifier.hdf5\n",
            "33/33 [==============================] - 0s 4ms/step - loss: 1.4788 - accuracy: 0.4198 - val_loss: 1.0885 - val_accuracy: 0.5896\n",
            "Epoch 35/1000\n",
            " 1/33 [..............................] - ETA: 0s - loss: 1.5667 - accuracy: 0.3672\n",
            "Epoch 35: saving model to model/keypoint_classifier\\keypoint_classifier.hdf5\n",
            "33/33 [==============================] - 0s 3ms/step - loss: 1.4390 - accuracy: 0.4373 - val_loss: 1.0732 - val_accuracy: 0.5961\n",
            "Epoch 36/1000\n",
            "33/33 [==============================] - ETA: 0s - loss: 1.4601 - accuracy: 0.4155\n",
            "Epoch 36: saving model to model/keypoint_classifier\\keypoint_classifier.hdf5\n",
            "33/33 [==============================] - 0s 4ms/step - loss: 1.4601 - accuracy: 0.4155 - val_loss: 1.0791 - val_accuracy: 0.5810\n",
            "Epoch 37/1000\n",
            "27/33 [=======================>......] - ETA: 0s - loss: 1.4538 - accuracy: 0.4230\n",
            "Epoch 37: saving model to model/keypoint_classifier\\keypoint_classifier.hdf5\n",
            "33/33 [==============================] - 0s 4ms/step - loss: 1.4480 - accuracy: 0.4265 - val_loss: 1.0612 - val_accuracy: 0.6004\n",
            "Epoch 38/1000\n",
            "33/33 [==============================] - ETA: 0s - loss: 1.4323 - accuracy: 0.4323\n",
            "Epoch 38: saving model to model/keypoint_classifier\\keypoint_classifier.hdf5\n",
            "33/33 [==============================] - 0s 4ms/step - loss: 1.4323 - accuracy: 0.4323 - val_loss: 1.0536 - val_accuracy: 0.5889\n",
            "Epoch 39/1000\n",
            " 1/33 [..............................] - ETA: 0s - loss: 1.4016 - accuracy: 0.4766\n",
            "Epoch 39: saving model to model/keypoint_classifier\\keypoint_classifier.hdf5\n",
            "33/33 [==============================] - 0s 3ms/step - loss: 1.4310 - accuracy: 0.4393 - val_loss: 1.0426 - val_accuracy: 0.6033\n",
            "Epoch 40/1000\n",
            " 1/33 [..............................] - ETA: 0s - loss: 1.5969 - accuracy: 0.3828\n",
            "Epoch 40: saving model to model/keypoint_classifier\\keypoint_classifier.hdf5\n",
            "33/33 [==============================] - 0s 4ms/step - loss: 1.4339 - accuracy: 0.4429 - val_loss: 1.0409 - val_accuracy: 0.6019\n",
            "Epoch 41/1000\n",
            "26/33 [======================>.......] - ETA: 0s - loss: 1.4152 - accuracy: 0.4438\n",
            "Epoch 41: saving model to model/keypoint_classifier\\keypoint_classifier.hdf5\n",
            "33/33 [==============================] - 0s 4ms/step - loss: 1.4172 - accuracy: 0.4386 - val_loss: 1.0344 - val_accuracy: 0.6170\n",
            "Epoch 42/1000\n",
            "24/33 [====================>.........] - ETA: 0s - loss: 1.4322 - accuracy: 0.4261\n",
            "Epoch 42: saving model to model/keypoint_classifier\\keypoint_classifier.hdf5\n",
            "33/33 [==============================] - 0s 5ms/step - loss: 1.4288 - accuracy: 0.4292 - val_loss: 1.0323 - val_accuracy: 0.5947\n",
            "Epoch 43/1000\n",
            "31/33 [===========================>..] - ETA: 0s - loss: 1.3903 - accuracy: 0.4413\n",
            "Epoch 43: saving model to model/keypoint_classifier\\keypoint_classifier.hdf5\n",
            "33/33 [==============================] - 0s 4ms/step - loss: 1.3916 - accuracy: 0.4414 - val_loss: 1.0233 - val_accuracy: 0.6019\n",
            "Epoch 44/1000\n",
            " 1/33 [..............................] - ETA: 0s - loss: 1.2740 - accuracy: 0.4688\n",
            "Epoch 44: saving model to model/keypoint_classifier\\keypoint_classifier.hdf5\n",
            "33/33 [==============================] - 0s 4ms/step - loss: 1.4142 - accuracy: 0.4359 - val_loss: 1.0267 - val_accuracy: 0.6249\n",
            "Epoch 45/1000\n",
            "27/33 [=======================>......] - ETA: 0s - loss: 1.4269 - accuracy: 0.4375\n",
            "Epoch 45: saving model to model/keypoint_classifier\\keypoint_classifier.hdf5\n",
            "33/33 [==============================] - 0s 4ms/step - loss: 1.4209 - accuracy: 0.4446 - val_loss: 1.0187 - val_accuracy: 0.5968\n",
            "Epoch 46/1000\n",
            "29/33 [=========================>....] - ETA: 0s - loss: 1.4011 - accuracy: 0.4407\n",
            "Epoch 46: saving model to model/keypoint_classifier\\keypoint_classifier.hdf5\n",
            "33/33 [==============================] - 0s 4ms/step - loss: 1.4004 - accuracy: 0.4393 - val_loss: 1.0142 - val_accuracy: 0.6019\n",
            "Epoch 47/1000\n",
            "31/33 [===========================>..] - ETA: 0s - loss: 1.4058 - accuracy: 0.4541\n",
            "Epoch 47: saving model to model/keypoint_classifier\\keypoint_classifier.hdf5\n",
            "33/33 [==============================] - 0s 4ms/step - loss: 1.3989 - accuracy: 0.4556 - val_loss: 1.0106 - val_accuracy: 0.6184\n",
            "Epoch 48/1000\n",
            "28/33 [========================>.....] - ETA: 0s - loss: 1.3986 - accuracy: 0.4464\n",
            "Epoch 48: saving model to model/keypoint_classifier\\keypoint_classifier.hdf5\n",
            "33/33 [==============================] - 0s 4ms/step - loss: 1.3878 - accuracy: 0.4520 - val_loss: 0.9891 - val_accuracy: 0.5918\n",
            "Epoch 49/1000\n",
            "27/33 [=======================>......] - ETA: 0s - loss: 1.3742 - accuracy: 0.4497\n",
            "Epoch 49: saving model to model/keypoint_classifier\\keypoint_classifier.hdf5\n",
            "33/33 [==============================] - 0s 4ms/step - loss: 1.3868 - accuracy: 0.4438 - val_loss: 0.9884 - val_accuracy: 0.5961\n",
            "Epoch 50/1000\n",
            "29/33 [=========================>....] - ETA: 0s - loss: 1.4015 - accuracy: 0.4504\n",
            "Epoch 50: saving model to model/keypoint_classifier\\keypoint_classifier.hdf5\n",
            "33/33 [==============================] - 0s 4ms/step - loss: 1.3980 - accuracy: 0.4506 - val_loss: 0.9968 - val_accuracy: 0.6019\n",
            "Epoch 51/1000\n",
            "28/33 [========================>.....] - ETA: 0s - loss: 1.3977 - accuracy: 0.4573\n",
            "Epoch 51: saving model to model/keypoint_classifier\\keypoint_classifier.hdf5\n",
            "33/33 [==============================] - 0s 4ms/step - loss: 1.3934 - accuracy: 0.4561 - val_loss: 0.9867 - val_accuracy: 0.6206\n",
            "Epoch 52/1000\n",
            "29/33 [=========================>....] - ETA: 0s - loss: 1.3713 - accuracy: 0.4469\n",
            "Epoch 52: saving model to model/keypoint_classifier\\keypoint_classifier.hdf5\n",
            "33/33 [==============================] - 0s 4ms/step - loss: 1.3724 - accuracy: 0.4470 - val_loss: 0.9707 - val_accuracy: 0.6033\n",
            "Epoch 53/1000\n",
            "29/33 [=========================>....] - ETA: 0s - loss: 1.3726 - accuracy: 0.4679\n",
            "Epoch 53: saving model to model/keypoint_classifier\\keypoint_classifier.hdf5\n",
            "33/33 [==============================] - 0s 4ms/step - loss: 1.3795 - accuracy: 0.4690 - val_loss: 0.9775 - val_accuracy: 0.6069\n",
            "Epoch 54/1000\n",
            "31/33 [===========================>..] - ETA: 0s - loss: 1.3813 - accuracy: 0.4614\n",
            "Epoch 54: saving model to model/keypoint_classifier\\keypoint_classifier.hdf5\n",
            "33/33 [==============================] - 0s 4ms/step - loss: 1.3791 - accuracy: 0.4599 - val_loss: 0.9794 - val_accuracy: 0.6515\n",
            "Epoch 55/1000\n",
            "30/33 [==========================>...] - ETA: 0s - loss: 1.3648 - accuracy: 0.4607\n",
            "Epoch 55: saving model to model/keypoint_classifier\\keypoint_classifier.hdf5\n",
            "33/33 [==============================] - 0s 4ms/step - loss: 1.3755 - accuracy: 0.4599 - val_loss: 0.9764 - val_accuracy: 0.6105\n",
            "Epoch 56/1000\n",
            "28/33 [========================>.....] - ETA: 0s - loss: 1.3885 - accuracy: 0.4556\n",
            "Epoch 56: saving model to model/keypoint_classifier\\keypoint_classifier.hdf5\n",
            "33/33 [==============================] - 0s 4ms/step - loss: 1.3884 - accuracy: 0.4544 - val_loss: 0.9742 - val_accuracy: 0.5983\n",
            "Epoch 57/1000\n",
            "31/33 [===========================>..] - ETA: 0s - loss: 1.3665 - accuracy: 0.4650\n",
            "Epoch 57: saving model to model/keypoint_classifier\\keypoint_classifier.hdf5\n",
            "33/33 [==============================] - 0s 4ms/step - loss: 1.3667 - accuracy: 0.4642 - val_loss: 0.9631 - val_accuracy: 0.6271\n",
            "Epoch 58/1000\n",
            "29/33 [=========================>....] - ETA: 0s - loss: 1.3614 - accuracy: 0.4658\n",
            "Epoch 58: saving model to model/keypoint_classifier\\keypoint_classifier.hdf5\n",
            "33/33 [==============================] - 0s 4ms/step - loss: 1.3514 - accuracy: 0.4652 - val_loss: 0.9585 - val_accuracy: 0.6134\n",
            "Epoch 59/1000\n",
            "31/33 [===========================>..] - ETA: 0s - loss: 1.3631 - accuracy: 0.4630\n",
            "Epoch 59: saving model to model/keypoint_classifier\\keypoint_classifier.hdf5\n",
            "33/33 [==============================] - 0s 4ms/step - loss: 1.3648 - accuracy: 0.4621 - val_loss: 0.9580 - val_accuracy: 0.6465\n",
            "Epoch 60/1000\n",
            "28/33 [========================>.....] - ETA: 0s - loss: 1.3919 - accuracy: 0.4523\n",
            "Epoch 60: saving model to model/keypoint_classifier\\keypoint_classifier.hdf5\n",
            "33/33 [==============================] - 0s 4ms/step - loss: 1.3918 - accuracy: 0.4558 - val_loss: 0.9633 - val_accuracy: 0.6156\n",
            "Epoch 61/1000\n",
            "29/33 [=========================>....] - ETA: 0s - loss: 1.3548 - accuracy: 0.4631\n",
            "Epoch 61: saving model to model/keypoint_classifier\\keypoint_classifier.hdf5\n",
            "33/33 [==============================] - 0s 4ms/step - loss: 1.3618 - accuracy: 0.4616 - val_loss: 0.9497 - val_accuracy: 0.6141\n",
            "Epoch 62/1000\n",
            "28/33 [========================>.....] - ETA: 0s - loss: 1.3398 - accuracy: 0.4704\n",
            "Epoch 62: saving model to model/keypoint_classifier\\keypoint_classifier.hdf5\n",
            "33/33 [==============================] - 0s 4ms/step - loss: 1.3490 - accuracy: 0.4676 - val_loss: 0.9441 - val_accuracy: 0.6055\n",
            "Epoch 63/1000\n",
            "32/33 [============================>.] - ETA: 0s - loss: 1.3468 - accuracy: 0.4753\n",
            "Epoch 63: saving model to model/keypoint_classifier\\keypoint_classifier.hdf5\n",
            "33/33 [==============================] - 0s 4ms/step - loss: 1.3476 - accuracy: 0.4750 - val_loss: 0.9501 - val_accuracy: 0.6371\n",
            "Epoch 64/1000\n",
            "31/33 [===========================>..] - ETA: 0s - loss: 1.3632 - accuracy: 0.4627\n",
            "Epoch 64: saving model to model/keypoint_classifier\\keypoint_classifier.hdf5\n",
            "33/33 [==============================] - 0s 4ms/step - loss: 1.3712 - accuracy: 0.4606 - val_loss: 0.9476 - val_accuracy: 0.6134\n",
            "Epoch 65/1000\n",
            "28/33 [========================>.....] - ETA: 0s - loss: 1.3508 - accuracy: 0.4754\n",
            "Epoch 65: saving model to model/keypoint_classifier\\keypoint_classifier.hdf5\n",
            "33/33 [==============================] - 0s 4ms/step - loss: 1.3423 - accuracy: 0.4808 - val_loss: 0.9398 - val_accuracy: 0.6098\n",
            "Epoch 66/1000\n",
            "31/33 [===========================>..] - ETA: 0s - loss: 1.3556 - accuracy: 0.4695\n",
            "Epoch 66: saving model to model/keypoint_classifier\\keypoint_classifier.hdf5\n",
            "33/33 [==============================] - 0s 4ms/step - loss: 1.3498 - accuracy: 0.4714 - val_loss: 0.9406 - val_accuracy: 0.6062\n",
            "Epoch 67/1000\n",
            "31/33 [===========================>..] - ETA: 0s - loss: 1.3332 - accuracy: 0.4645\n",
            "Epoch 67: saving model to model/keypoint_classifier\\keypoint_classifier.hdf5\n",
            "33/33 [==============================] - 0s 4ms/step - loss: 1.3373 - accuracy: 0.4647 - val_loss: 0.9262 - val_accuracy: 0.5990\n",
            "Epoch 68/1000\n",
            "28/33 [========================>.....] - ETA: 0s - loss: 1.3558 - accuracy: 0.4688\n",
            "Epoch 68: saving model to model/keypoint_classifier\\keypoint_classifier.hdf5\n",
            "33/33 [==============================] - 0s 4ms/step - loss: 1.3504 - accuracy: 0.4722 - val_loss: 0.9324 - val_accuracy: 0.6170\n",
            "Epoch 69/1000\n",
            "30/33 [==========================>...] - ETA: 0s - loss: 1.3126 - accuracy: 0.4870\n",
            "Epoch 69: saving model to model/keypoint_classifier\\keypoint_classifier.hdf5\n",
            "33/33 [==============================] - 0s 4ms/step - loss: 1.3148 - accuracy: 0.4839 - val_loss: 0.9174 - val_accuracy: 0.6004\n",
            "Epoch 70/1000\n",
            "30/33 [==========================>...] - ETA: 0s - loss: 1.3380 - accuracy: 0.4773\n",
            "Epoch 70: saving model to model/keypoint_classifier\\keypoint_classifier.hdf5\n",
            "33/33 [==============================] - 0s 4ms/step - loss: 1.3380 - accuracy: 0.4774 - val_loss: 0.9326 - val_accuracy: 0.6141\n",
            "Epoch 71/1000\n",
            "30/33 [==========================>...] - ETA: 0s - loss: 1.3365 - accuracy: 0.4714\n",
            "Epoch 71: saving model to model/keypoint_classifier\\keypoint_classifier.hdf5\n",
            "33/33 [==============================] - 0s 4ms/step - loss: 1.3306 - accuracy: 0.4726 - val_loss: 0.9215 - val_accuracy: 0.6184\n",
            "Epoch 72/1000\n",
            "30/33 [==========================>...] - ETA: 0s - loss: 1.3388 - accuracy: 0.4721\n",
            "Epoch 72: saving model to model/keypoint_classifier\\keypoint_classifier.hdf5\n",
            "33/33 [==============================] - 0s 4ms/step - loss: 1.3389 - accuracy: 0.4712 - val_loss: 0.9202 - val_accuracy: 0.6062\n",
            "Epoch 73/1000\n",
            "28/33 [========================>.....] - ETA: 0s - loss: 1.3344 - accuracy: 0.4766\n",
            "Epoch 73: saving model to model/keypoint_classifier\\keypoint_classifier.hdf5\n",
            "33/33 [==============================] - 0s 4ms/step - loss: 1.3276 - accuracy: 0.4772 - val_loss: 0.9218 - val_accuracy: 0.6004\n",
            "Epoch 74/1000\n",
            "27/33 [=======================>......] - ETA: 0s - loss: 1.3423 - accuracy: 0.4757\n",
            "Epoch 74: saving model to model/keypoint_classifier\\keypoint_classifier.hdf5\n",
            "33/33 [==============================] - 0s 4ms/step - loss: 1.3298 - accuracy: 0.4798 - val_loss: 0.9133 - val_accuracy: 0.6040\n",
            "Epoch 75/1000\n",
            "29/33 [=========================>....] - ETA: 0s - loss: 1.3347 - accuracy: 0.4736\n",
            "Epoch 75: saving model to model/keypoint_classifier\\keypoint_classifier.hdf5\n",
            "33/33 [==============================] - 0s 4ms/step - loss: 1.3261 - accuracy: 0.4777 - val_loss: 0.9165 - val_accuracy: 0.6084\n",
            "Epoch 76/1000\n",
            "25/33 [=====================>........] - ETA: 0s - loss: 1.3209 - accuracy: 0.4822\n",
            "Epoch 76: saving model to model/keypoint_classifier\\keypoint_classifier.hdf5\n",
            "33/33 [==============================] - 0s 4ms/step - loss: 1.3174 - accuracy: 0.4779 - val_loss: 0.9197 - val_accuracy: 0.6076\n",
            "Epoch 77/1000\n",
            "26/33 [======================>.......] - ETA: 0s - loss: 1.3148 - accuracy: 0.4922\n",
            "Epoch 77: saving model to model/keypoint_classifier\\keypoint_classifier.hdf5\n",
            "33/33 [==============================] - 0s 4ms/step - loss: 1.3326 - accuracy: 0.4890 - val_loss: 0.9070 - val_accuracy: 0.6004\n",
            "Epoch 78/1000\n",
            "26/33 [======================>.......] - ETA: 0s - loss: 1.3424 - accuracy: 0.4730\n",
            "Epoch 78: saving model to model/keypoint_classifier\\keypoint_classifier.hdf5\n",
            "33/33 [==============================] - 0s 4ms/step - loss: 1.3318 - accuracy: 0.4760 - val_loss: 0.9117 - val_accuracy: 0.6004\n",
            "Epoch 79/1000\n",
            "29/33 [=========================>....] - ETA: 0s - loss: 1.3368 - accuracy: 0.4736\n",
            "Epoch 79: saving model to model/keypoint_classifier\\keypoint_classifier.hdf5\n",
            "33/33 [==============================] - 0s 4ms/step - loss: 1.3336 - accuracy: 0.4734 - val_loss: 0.9104 - val_accuracy: 0.5947\n",
            "Epoch 80/1000\n",
            "28/33 [========================>.....] - ETA: 0s - loss: 1.3216 - accuracy: 0.4816\n",
            "Epoch 80: saving model to model/keypoint_classifier\\keypoint_classifier.hdf5\n",
            "33/33 [==============================] - 0s 4ms/step - loss: 1.3316 - accuracy: 0.4779 - val_loss: 0.9096 - val_accuracy: 0.6148\n",
            "Epoch 81/1000\n",
            "21/33 [==================>...........] - ETA: 0s - loss: 1.3055 - accuracy: 0.4926\n",
            "Epoch 81: saving model to model/keypoint_classifier\\keypoint_classifier.hdf5\n",
            "33/33 [==============================] - 0s 4ms/step - loss: 1.3169 - accuracy: 0.4923 - val_loss: 0.9042 - val_accuracy: 0.6040\n",
            "Epoch 82/1000\n",
            "22/33 [===================>..........] - ETA: 0s - loss: 1.3283 - accuracy: 0.4762\n",
            "Epoch 82: saving model to model/keypoint_classifier\\keypoint_classifier.hdf5\n",
            "33/33 [==============================] - 0s 5ms/step - loss: 1.3231 - accuracy: 0.4796 - val_loss: 0.9103 - val_accuracy: 0.6026\n",
            "Epoch 83/1000\n",
            "25/33 [=====================>........] - ETA: 0s - loss: 1.3081 - accuracy: 0.4769\n",
            "Epoch 83: saving model to model/keypoint_classifier\\keypoint_classifier.hdf5\n",
            "33/33 [==============================] - 0s 4ms/step - loss: 1.3068 - accuracy: 0.4808 - val_loss: 0.8965 - val_accuracy: 0.6242\n",
            "Epoch 84/1000\n",
            "27/33 [=======================>......] - ETA: 0s - loss: 1.3214 - accuracy: 0.4861\n",
            "Epoch 84: saving model to model/keypoint_classifier\\keypoint_classifier.hdf5\n",
            "33/33 [==============================] - 0s 4ms/step - loss: 1.3176 - accuracy: 0.4873 - val_loss: 0.8938 - val_accuracy: 0.6084\n",
            "Epoch 85/1000\n",
            "26/33 [======================>.......] - ETA: 0s - loss: 1.3021 - accuracy: 0.4832\n",
            "Epoch 85: saving model to model/keypoint_classifier\\keypoint_classifier.hdf5\n",
            "33/33 [==============================] - 0s 4ms/step - loss: 1.3007 - accuracy: 0.4837 - val_loss: 0.8920 - val_accuracy: 0.6026\n",
            "Epoch 86/1000\n",
            "23/33 [===================>..........] - ETA: 0s - loss: 1.3287 - accuracy: 0.4840\n",
            "Epoch 86: saving model to model/keypoint_classifier\\keypoint_classifier.hdf5\n",
            "33/33 [==============================] - 0s 4ms/step - loss: 1.3319 - accuracy: 0.4868 - val_loss: 0.9019 - val_accuracy: 0.6055\n",
            "Epoch 87/1000\n",
            "27/33 [=======================>......] - ETA: 0s - loss: 1.3173 - accuracy: 0.4734\n",
            "Epoch 87: saving model to model/keypoint_classifier\\keypoint_classifier.hdf5\n",
            "33/33 [==============================] - 0s 4ms/step - loss: 1.3079 - accuracy: 0.4779 - val_loss: 0.9081 - val_accuracy: 0.6019\n",
            "Epoch 88/1000\n",
            "27/33 [=======================>......] - ETA: 0s - loss: 1.3163 - accuracy: 0.4899\n",
            "Epoch 88: saving model to model/keypoint_classifier\\keypoint_classifier.hdf5\n",
            "33/33 [==============================] - 0s 4ms/step - loss: 1.3037 - accuracy: 0.4906 - val_loss: 0.8847 - val_accuracy: 0.6105\n",
            "Epoch 89/1000\n",
            "24/33 [====================>.........] - ETA: 0s - loss: 1.2978 - accuracy: 0.4883\n",
            "Epoch 89: saving model to model/keypoint_classifier\\keypoint_classifier.hdf5\n",
            "33/33 [==============================] - 0s 4ms/step - loss: 1.3098 - accuracy: 0.4902 - val_loss: 0.8965 - val_accuracy: 0.5961\n",
            "Epoch 90/1000\n",
            "28/33 [========================>.....] - ETA: 0s - loss: 1.2946 - accuracy: 0.4911\n",
            "Epoch 90: saving model to model/keypoint_classifier\\keypoint_classifier.hdf5\n",
            "33/33 [==============================] - 0s 4ms/step - loss: 1.2950 - accuracy: 0.4887 - val_loss: 0.8935 - val_accuracy: 0.6026\n",
            "Epoch 91/1000\n",
            "26/33 [======================>.......] - ETA: 0s - loss: 1.3019 - accuracy: 0.4889\n",
            "Epoch 91: saving model to model/keypoint_classifier\\keypoint_classifier.hdf5\n",
            "33/33 [==============================] - 0s 4ms/step - loss: 1.2970 - accuracy: 0.4933 - val_loss: 0.8891 - val_accuracy: 0.6026\n",
            "Epoch 92/1000\n",
            "29/33 [=========================>....] - ETA: 0s - loss: 1.3093 - accuracy: 0.4911\n",
            "Epoch 92: saving model to model/keypoint_classifier\\keypoint_classifier.hdf5\n",
            "33/33 [==============================] - 0s 4ms/step - loss: 1.3134 - accuracy: 0.4890 - val_loss: 0.8888 - val_accuracy: 0.6033\n",
            "Epoch 93/1000\n",
            "28/33 [========================>.....] - ETA: 0s - loss: 1.2969 - accuracy: 0.4961\n",
            "Epoch 93: saving model to model/keypoint_classifier\\keypoint_classifier.hdf5\n",
            "33/33 [==============================] - 0s 4ms/step - loss: 1.3033 - accuracy: 0.4921 - val_loss: 0.8844 - val_accuracy: 0.6040\n",
            "Epoch 94/1000\n",
            "29/33 [=========================>....] - ETA: 0s - loss: 1.3031 - accuracy: 0.4811\n",
            "Epoch 94: saving model to model/keypoint_classifier\\keypoint_classifier.hdf5\n",
            "33/33 [==============================] - 0s 4ms/step - loss: 1.3061 - accuracy: 0.4808 - val_loss: 0.8869 - val_accuracy: 0.6206\n",
            "Epoch 95/1000\n",
            "27/33 [=======================>......] - ETA: 0s - loss: 1.3228 - accuracy: 0.4881\n",
            "Epoch 95: saving model to model/keypoint_classifier\\keypoint_classifier.hdf5\n",
            "33/33 [==============================] - 0s 4ms/step - loss: 1.3146 - accuracy: 0.4880 - val_loss: 0.8886 - val_accuracy: 0.6134\n",
            "Epoch 96/1000\n",
            "28/33 [========================>.....] - ETA: 0s - loss: 1.3006 - accuracy: 0.4947\n",
            "Epoch 96: saving model to model/keypoint_classifier\\keypoint_classifier.hdf5\n",
            "33/33 [==============================] - 0s 4ms/step - loss: 1.3011 - accuracy: 0.4988 - val_loss: 0.8925 - val_accuracy: 0.6012\n",
            "Epoch 97/1000\n",
            "22/33 [===================>..........] - ETA: 0s - loss: 1.2773 - accuracy: 0.5007\n",
            "Epoch 97: saving model to model/keypoint_classifier\\keypoint_classifier.hdf5\n",
            "33/33 [==============================] - 0s 4ms/step - loss: 1.2866 - accuracy: 0.4966 - val_loss: 0.8830 - val_accuracy: 0.6062\n",
            "Epoch 98/1000\n",
            "28/33 [========================>.....] - ETA: 0s - loss: 1.2702 - accuracy: 0.4941\n",
            "Epoch 98: saving model to model/keypoint_classifier\\keypoint_classifier.hdf5\n",
            "33/33 [==============================] - 0s 4ms/step - loss: 1.2734 - accuracy: 0.4974 - val_loss: 0.8796 - val_accuracy: 0.6314\n",
            "Epoch 99/1000\n",
            "29/33 [=========================>....] - ETA: 0s - loss: 1.2925 - accuracy: 0.4960\n",
            "Epoch 99: saving model to model/keypoint_classifier\\keypoint_classifier.hdf5\n",
            "33/33 [==============================] - 0s 4ms/step - loss: 1.2983 - accuracy: 0.4962 - val_loss: 0.8810 - val_accuracy: 0.6242\n",
            "Epoch 100/1000\n",
            "31/33 [===========================>..] - ETA: 0s - loss: 1.2957 - accuracy: 0.4914\n",
            "Epoch 100: saving model to model/keypoint_classifier\\keypoint_classifier.hdf5\n",
            "33/33 [==============================] - 0s 4ms/step - loss: 1.2892 - accuracy: 0.4947 - val_loss: 0.8849 - val_accuracy: 0.6112\n",
            "Epoch 101/1000\n",
            "32/33 [============================>.] - ETA: 0s - loss: 1.2801 - accuracy: 0.5044\n",
            "Epoch 101: saving model to model/keypoint_classifier\\keypoint_classifier.hdf5\n",
            "33/33 [==============================] - 0s 4ms/step - loss: 1.2816 - accuracy: 0.5050 - val_loss: 0.8730 - val_accuracy: 0.6177\n",
            "Epoch 102/1000\n",
            "26/33 [======================>.......] - ETA: 0s - loss: 1.2913 - accuracy: 0.4946\n",
            "Epoch 102: saving model to model/keypoint_classifier\\keypoint_classifier.hdf5\n",
            "33/33 [==============================] - 0s 4ms/step - loss: 1.2915 - accuracy: 0.4945 - val_loss: 0.8713 - val_accuracy: 0.6263\n",
            "Epoch 103/1000\n",
            "28/33 [========================>.....] - ETA: 0s - loss: 1.2992 - accuracy: 0.5031\n",
            "Epoch 103: saving model to model/keypoint_classifier\\keypoint_classifier.hdf5\n",
            "33/33 [==============================] - 0s 4ms/step - loss: 1.3093 - accuracy: 0.5010 - val_loss: 0.8901 - val_accuracy: 0.6026\n",
            "Epoch 104/1000\n",
            "22/33 [===================>..........] - ETA: 0s - loss: 1.3060 - accuracy: 0.4854\n",
            "Epoch 104: saving model to model/keypoint_classifier\\keypoint_classifier.hdf5\n",
            "33/33 [==============================] - 0s 4ms/step - loss: 1.2986 - accuracy: 0.4842 - val_loss: 0.8857 - val_accuracy: 0.6069\n",
            "Epoch 105/1000\n",
            "31/33 [===========================>..] - ETA: 0s - loss: 1.2981 - accuracy: 0.5003\n",
            "Epoch 105: saving model to model/keypoint_classifier\\keypoint_classifier.hdf5\n",
            "33/33 [==============================] - 0s 4ms/step - loss: 1.3002 - accuracy: 0.4981 - val_loss: 0.8750 - val_accuracy: 0.6350\n",
            "Epoch 106/1000\n",
            "30/33 [==========================>...] - ETA: 0s - loss: 1.2668 - accuracy: 0.5060\n",
            "Epoch 106: saving model to model/keypoint_classifier\\keypoint_classifier.hdf5\n",
            "33/33 [==============================] - 0s 4ms/step - loss: 1.2658 - accuracy: 0.5077 - val_loss: 0.8694 - val_accuracy: 0.6048\n",
            "Epoch 107/1000\n",
            "26/33 [======================>.......] - ETA: 0s - loss: 1.3205 - accuracy: 0.4883\n",
            "Epoch 107: saving model to model/keypoint_classifier\\keypoint_classifier.hdf5\n",
            "33/33 [==============================] - 0s 4ms/step - loss: 1.3131 - accuracy: 0.4930 - val_loss: 0.8773 - val_accuracy: 0.6148\n",
            "Epoch 108/1000\n",
            "26/33 [======================>.......] - ETA: 0s - loss: 1.2889 - accuracy: 0.4985\n",
            "Epoch 108: saving model to model/keypoint_classifier\\keypoint_classifier.hdf5\n",
            "33/33 [==============================] - 0s 4ms/step - loss: 1.2997 - accuracy: 0.4986 - val_loss: 0.8799 - val_accuracy: 0.6141\n",
            "Epoch 109/1000\n",
            "24/33 [====================>.........] - ETA: 0s - loss: 1.2591 - accuracy: 0.5072\n",
            "Epoch 109: saving model to model/keypoint_classifier\\keypoint_classifier.hdf5\n",
            "33/33 [==============================] - 0s 4ms/step - loss: 1.2592 - accuracy: 0.5101 - val_loss: 0.8638 - val_accuracy: 0.6328\n",
            "Epoch 110/1000\n",
            "18/33 [===============>..............] - ETA: 0s - loss: 1.2935 - accuracy: 0.5043\n",
            "Epoch 110: saving model to model/keypoint_classifier\\keypoint_classifier.hdf5\n",
            "33/33 [==============================] - 0s 5ms/step - loss: 1.2950 - accuracy: 0.5012 - val_loss: 0.8697 - val_accuracy: 0.6048\n",
            "Epoch 111/1000\n",
            "29/33 [=========================>....] - ETA: 0s - loss: 1.2833 - accuracy: 0.5084\n",
            "Epoch 111: saving model to model/keypoint_classifier\\keypoint_classifier.hdf5\n",
            "33/33 [==============================] - 0s 4ms/step - loss: 1.2840 - accuracy: 0.5079 - val_loss: 0.8605 - val_accuracy: 0.6278\n",
            "Epoch 112/1000\n",
            "22/33 [===================>..........] - ETA: 0s - loss: 1.2728 - accuracy: 0.4933\n",
            "Epoch 112: saving model to model/keypoint_classifier\\keypoint_classifier.hdf5\n",
            "33/33 [==============================] - 0s 5ms/step - loss: 1.2841 - accuracy: 0.4964 - val_loss: 0.8628 - val_accuracy: 0.6177\n",
            "Epoch 113/1000\n",
            "26/33 [======================>.......] - ETA: 0s - loss: 1.2812 - accuracy: 0.5075\n",
            "Epoch 113: saving model to model/keypoint_classifier\\keypoint_classifier.hdf5\n",
            "33/33 [==============================] - 0s 4ms/step - loss: 1.2812 - accuracy: 0.5007 - val_loss: 0.8671 - val_accuracy: 0.6084\n",
            "Epoch 114/1000\n",
            "29/33 [=========================>....] - ETA: 0s - loss: 1.2817 - accuracy: 0.5005\n",
            "Epoch 114: saving model to model/keypoint_classifier\\keypoint_classifier.hdf5\n",
            "33/33 [==============================] - 0s 4ms/step - loss: 1.2906 - accuracy: 0.4988 - val_loss: 0.8728 - val_accuracy: 0.6062\n",
            "Epoch 115/1000\n",
            "27/33 [=======================>......] - ETA: 0s - loss: 1.2792 - accuracy: 0.4968\n",
            "Epoch 115: saving model to model/keypoint_classifier\\keypoint_classifier.hdf5\n",
            "33/33 [==============================] - 0s 5ms/step - loss: 1.2711 - accuracy: 0.4988 - val_loss: 0.8654 - val_accuracy: 0.6127\n",
            "Epoch 116/1000\n",
            "17/33 [==============>...............] - ETA: 0s - loss: 1.2452 - accuracy: 0.5083\n",
            "Epoch 116: saving model to model/keypoint_classifier\\keypoint_classifier.hdf5\n",
            "33/33 [==============================] - 0s 6ms/step - loss: 1.2719 - accuracy: 0.5014 - val_loss: 0.8595 - val_accuracy: 0.6278\n",
            "Epoch 117/1000\n",
            "23/33 [===================>..........] - ETA: 0s - loss: 1.2198 - accuracy: 0.5166\n",
            "Epoch 117: saving model to model/keypoint_classifier\\keypoint_classifier.hdf5\n",
            "33/33 [==============================] - 0s 5ms/step - loss: 1.2508 - accuracy: 0.5118 - val_loss: 0.8570 - val_accuracy: 0.6184\n",
            "Epoch 118/1000\n",
            "21/33 [==================>...........] - ETA: 0s - loss: 1.2807 - accuracy: 0.4974\n",
            "Epoch 118: saving model to model/keypoint_classifier\\keypoint_classifier.hdf5\n",
            "33/33 [==============================] - 0s 5ms/step - loss: 1.2830 - accuracy: 0.4971 - val_loss: 0.8695 - val_accuracy: 0.6105\n",
            "Epoch 119/1000\n",
            "22/33 [===================>..........] - ETA: 0s - loss: 1.2856 - accuracy: 0.5000\n",
            "Epoch 119: saving model to model/keypoint_classifier\\keypoint_classifier.hdf5\n",
            "33/33 [==============================] - 0s 5ms/step - loss: 1.2829 - accuracy: 0.4969 - val_loss: 0.8566 - val_accuracy: 0.6357\n",
            "Epoch 120/1000\n",
            "24/33 [====================>.........] - ETA: 0s - loss: 1.2909 - accuracy: 0.4990\n",
            "Epoch 120: saving model to model/keypoint_classifier\\keypoint_classifier.hdf5\n",
            "33/33 [==============================] - 0s 5ms/step - loss: 1.2813 - accuracy: 0.5041 - val_loss: 0.8703 - val_accuracy: 0.6048\n",
            "Epoch 121/1000\n",
            "33/33 [==============================] - ETA: 0s - loss: 1.2592 - accuracy: 0.5149\n",
            "Epoch 121: saving model to model/keypoint_classifier\\keypoint_classifier.hdf5\n",
            "33/33 [==============================] - 0s 8ms/step - loss: 1.2592 - accuracy: 0.5149 - val_loss: 0.8618 - val_accuracy: 0.6271\n",
            "Epoch 122/1000\n",
            "27/33 [=======================>......] - ETA: 0s - loss: 1.2945 - accuracy: 0.5009\n",
            "Epoch 122: saving model to model/keypoint_classifier\\keypoint_classifier.hdf5\n",
            "33/33 [==============================] - 0s 4ms/step - loss: 1.2947 - accuracy: 0.5014 - val_loss: 0.8697 - val_accuracy: 0.6076\n",
            "Epoch 123/1000\n",
            "26/33 [======================>.......] - ETA: 0s - loss: 1.2893 - accuracy: 0.4955\n",
            "Epoch 123: saving model to model/keypoint_classifier\\keypoint_classifier.hdf5\n",
            "33/33 [==============================] - 0s 4ms/step - loss: 1.2927 - accuracy: 0.5005 - val_loss: 0.8651 - val_accuracy: 0.5990\n",
            "Epoch 124/1000\n",
            "27/33 [=======================>......] - ETA: 0s - loss: 1.2709 - accuracy: 0.5130\n",
            "Epoch 124: saving model to model/keypoint_classifier\\keypoint_classifier.hdf5\n",
            "33/33 [==============================] - 0s 4ms/step - loss: 1.2719 - accuracy: 0.5113 - val_loss: 0.8555 - val_accuracy: 0.6177\n",
            "Epoch 125/1000\n",
            "32/33 [============================>.] - ETA: 0s - loss: 1.2789 - accuracy: 0.5115\n",
            "Epoch 125: saving model to model/keypoint_classifier\\keypoint_classifier.hdf5\n",
            "33/33 [==============================] - 0s 4ms/step - loss: 1.2766 - accuracy: 0.5110 - val_loss: 0.8583 - val_accuracy: 0.6055\n",
            "Epoch 126/1000\n",
            "26/33 [======================>.......] - ETA: 0s - loss: 1.2563 - accuracy: 0.5138\n",
            "Epoch 126: saving model to model/keypoint_classifier\\keypoint_classifier.hdf5\n",
            "33/33 [==============================] - 0s 4ms/step - loss: 1.2493 - accuracy: 0.5178 - val_loss: 0.8549 - val_accuracy: 0.6127\n",
            "Epoch 127/1000\n",
            "27/33 [=======================>......] - ETA: 0s - loss: 1.2749 - accuracy: 0.5072\n",
            "Epoch 127: saving model to model/keypoint_classifier\\keypoint_classifier.hdf5\n",
            "33/33 [==============================] - 0s 4ms/step - loss: 1.2718 - accuracy: 0.5079 - val_loss: 0.8632 - val_accuracy: 0.6069\n",
            "Epoch 128/1000\n",
            "23/33 [===================>..........] - ETA: 0s - loss: 1.2529 - accuracy: 0.5109\n",
            "Epoch 128: saving model to model/keypoint_classifier\\keypoint_classifier.hdf5\n",
            "33/33 [==============================] - 0s 4ms/step - loss: 1.2466 - accuracy: 0.5144 - val_loss: 0.8429 - val_accuracy: 0.6292\n",
            "Epoch 129/1000\n",
            "30/33 [==========================>...] - ETA: 0s - loss: 1.2659 - accuracy: 0.5107\n",
            "Epoch 129: saving model to model/keypoint_classifier\\keypoint_classifier.hdf5\n",
            "33/33 [==============================] - 0s 4ms/step - loss: 1.2643 - accuracy: 0.5137 - val_loss: 0.8580 - val_accuracy: 0.6055\n",
            "Epoch 130/1000\n",
            "30/33 [==========================>...] - ETA: 0s - loss: 1.2548 - accuracy: 0.5216\n",
            "Epoch 130: saving model to model/keypoint_classifier\\keypoint_classifier.hdf5\n",
            "33/33 [==============================] - 0s 4ms/step - loss: 1.2579 - accuracy: 0.5180 - val_loss: 0.8531 - val_accuracy: 0.6120\n",
            "Epoch 131/1000\n",
            "26/33 [======================>.......] - ETA: 0s - loss: 1.2717 - accuracy: 0.5048\n",
            "Epoch 131: saving model to model/keypoint_classifier\\keypoint_classifier.hdf5\n",
            "33/33 [==============================] - 0s 4ms/step - loss: 1.2694 - accuracy: 0.5029 - val_loss: 0.8571 - val_accuracy: 0.6062\n",
            "Epoch 132/1000\n",
            "27/33 [=======================>......] - ETA: 0s - loss: 1.2451 - accuracy: 0.5145\n",
            "Epoch 132: saving model to model/keypoint_classifier\\keypoint_classifier.hdf5\n",
            "33/33 [==============================] - 0s 4ms/step - loss: 1.2540 - accuracy: 0.5144 - val_loss: 0.8573 - val_accuracy: 0.6105\n",
            "Epoch 133/1000\n",
            "27/33 [=======================>......] - ETA: 0s - loss: 1.2615 - accuracy: 0.5188\n",
            "Epoch 133: saving model to model/keypoint_classifier\\keypoint_classifier.hdf5\n",
            "33/33 [==============================] - 0s 4ms/step - loss: 1.2584 - accuracy: 0.5204 - val_loss: 0.8464 - val_accuracy: 0.6163\n",
            "Epoch 134/1000\n",
            "25/33 [=====================>........] - ETA: 0s - loss: 1.2723 - accuracy: 0.5066\n",
            "Epoch 134: saving model to model/keypoint_classifier\\keypoint_classifier.hdf5\n",
            "33/33 [==============================] - 0s 4ms/step - loss: 1.2857 - accuracy: 0.5031 - val_loss: 0.8567 - val_accuracy: 0.6084\n",
            "Epoch 135/1000\n",
            "29/33 [=========================>....] - ETA: 0s - loss: 1.2440 - accuracy: 0.5216\n",
            "Epoch 135: saving model to model/keypoint_classifier\\keypoint_classifier.hdf5\n",
            "33/33 [==============================] - 0s 4ms/step - loss: 1.2474 - accuracy: 0.5199 - val_loss: 0.8563 - val_accuracy: 0.6134\n",
            "Epoch 136/1000\n",
            "26/33 [======================>.......] - ETA: 0s - loss: 1.2622 - accuracy: 0.5150\n",
            "Epoch 136: saving model to model/keypoint_classifier\\keypoint_classifier.hdf5\n",
            "33/33 [==============================] - 0s 4ms/step - loss: 1.2618 - accuracy: 0.5125 - val_loss: 0.8620 - val_accuracy: 0.6170\n",
            "Epoch 137/1000\n",
            "28/33 [========================>.....] - ETA: 0s - loss: 1.2472 - accuracy: 0.5100\n",
            "Epoch 137: saving model to model/keypoint_classifier\\keypoint_classifier.hdf5\n",
            "33/33 [==============================] - 0s 4ms/step - loss: 1.2437 - accuracy: 0.5098 - val_loss: 0.8547 - val_accuracy: 0.6170\n",
            "Epoch 138/1000\n",
            "29/33 [=========================>....] - ETA: 0s - loss: 1.2640 - accuracy: 0.5145\n",
            "Epoch 138: saving model to model/keypoint_classifier\\keypoint_classifier.hdf5\n",
            "33/33 [==============================] - 0s 4ms/step - loss: 1.2552 - accuracy: 0.5168 - val_loss: 0.8545 - val_accuracy: 0.6127\n",
            "Epoch 139/1000\n",
            "28/33 [========================>.....] - ETA: 0s - loss: 1.2637 - accuracy: 0.5190\n",
            "Epoch 139: saving model to model/keypoint_classifier\\keypoint_classifier.hdf5\n",
            "33/33 [==============================] - 0s 4ms/step - loss: 1.2665 - accuracy: 0.5185 - val_loss: 0.8636 - val_accuracy: 0.6134\n",
            "Epoch 140/1000\n",
            "23/33 [===================>..........] - ETA: 0s - loss: 1.2380 - accuracy: 0.5170\n",
            "Epoch 140: saving model to model/keypoint_classifier\\keypoint_classifier.hdf5\n",
            "33/33 [==============================] - 0s 6ms/step - loss: 1.2338 - accuracy: 0.5163 - val_loss: 0.8528 - val_accuracy: 0.6134\n",
            "Epoch 141/1000\n",
            "33/33 [==============================] - ETA: 0s - loss: 1.2574 - accuracy: 0.5108\n",
            "Epoch 141: saving model to model/keypoint_classifier\\keypoint_classifier.hdf5\n",
            "33/33 [==============================] - 0s 6ms/step - loss: 1.2574 - accuracy: 0.5108 - val_loss: 0.8528 - val_accuracy: 0.6112\n",
            "Epoch 142/1000\n",
            "21/33 [==================>...........] - ETA: 0s - loss: 1.2813 - accuracy: 0.5208\n",
            "Epoch 142: saving model to model/keypoint_classifier\\keypoint_classifier.hdf5\n",
            "33/33 [==============================] - 0s 5ms/step - loss: 1.2838 - accuracy: 0.5089 - val_loss: 0.8635 - val_accuracy: 0.6105\n",
            "Epoch 143/1000\n",
            "28/33 [========================>.....] - ETA: 0s - loss: 1.2792 - accuracy: 0.5025\n",
            "Epoch 143: saving model to model/keypoint_classifier\\keypoint_classifier.hdf5\n",
            "33/33 [==============================] - 0s 4ms/step - loss: 1.2701 - accuracy: 0.5055 - val_loss: 0.8595 - val_accuracy: 0.6249\n",
            "Epoch 144/1000\n",
            "26/33 [======================>.......] - ETA: 0s - loss: 1.2682 - accuracy: 0.5039\n",
            "Epoch 144: saving model to model/keypoint_classifier\\keypoint_classifier.hdf5\n",
            "33/33 [==============================] - 0s 4ms/step - loss: 1.2492 - accuracy: 0.5077 - val_loss: 0.8507 - val_accuracy: 0.6112\n",
            "Epoch 145/1000\n",
            "27/33 [=======================>......] - ETA: 0s - loss: 1.2742 - accuracy: 0.5101\n",
            "Epoch 145: saving model to model/keypoint_classifier\\keypoint_classifier.hdf5\n",
            "33/33 [==============================] - 0s 4ms/step - loss: 1.2696 - accuracy: 0.5149 - val_loss: 0.8533 - val_accuracy: 0.6199\n",
            "Epoch 146/1000\n",
            "25/33 [=====================>........] - ETA: 0s - loss: 1.2349 - accuracy: 0.5197\n",
            "Epoch 146: saving model to model/keypoint_classifier\\keypoint_classifier.hdf5\n",
            "33/33 [==============================] - 0s 4ms/step - loss: 1.2408 - accuracy: 0.5175 - val_loss: 0.8468 - val_accuracy: 0.6148\n",
            "Epoch 147/1000\n",
            "26/33 [======================>.......] - ETA: 0s - loss: 1.2547 - accuracy: 0.5147\n",
            "Epoch 147: saving model to model/keypoint_classifier\\keypoint_classifier.hdf5\n",
            "33/33 [==============================] - 0s 4ms/step - loss: 1.2605 - accuracy: 0.5115 - val_loss: 0.8556 - val_accuracy: 0.6206\n",
            "Epoch 148/1000\n",
            "25/33 [=====================>........] - ETA: 0s - loss: 1.2682 - accuracy: 0.5044\n",
            "Epoch 148: saving model to model/keypoint_classifier\\keypoint_classifier.hdf5\n",
            "33/33 [==============================] - 0s 4ms/step - loss: 1.2674 - accuracy: 0.5050 - val_loss: 0.8521 - val_accuracy: 0.6141\n",
            "Epoch 148: early stopping\n"
          ]
        },
        {
          "data": {
            "text/plain": [
              "<keras.src.callbacks.History at 0x1411589fb10>"
            ]
          },
          "execution_count": 12,
          "metadata": {},
          "output_type": "execute_result"
        }
      ],
      "source": [
        "model.fit(\n",
        "    X_train,\n",
        "    y_train,\n",
        "    epochs=1000,\n",
        "    batch_size=128,\n",
        "    validation_data=(X_test, y_test),\n",
        "    callbacks=[cp_callback, es_callback]\n",
        ")"
      ]
    },
    {
      "cell_type": "code",
      "execution_count": 13,
      "metadata": {
        "colab": {
          "base_uri": "https://localhost:8080/"
        },
        "id": "pxvb2Y299hE3",
        "outputId": "59eb3185-2e37-4b9e-bc9d-ab1b8ac29b7f"
      },
      "outputs": [
        {
          "name": "stdout",
          "output_type": "stream",
          "text": [
            "11/11 [==============================] - 0s 2ms/step - loss: 0.8521 - accuracy: 0.6141\n"
          ]
        }
      ],
      "source": [
        "# Model evaluation\n",
        "val_loss, val_acc = model.evaluate(X_test, y_test, batch_size=128)"
      ]
    },
    {
      "cell_type": "code",
      "execution_count": 14,
      "metadata": {
        "id": "RBkmDeUW9hE4"
      },
      "outputs": [],
      "source": [
        "# Loading the saved model\n",
        "model = tf.keras.models.load_model(model_save_path)"
      ]
    },
    {
      "cell_type": "code",
      "execution_count": 15,
      "metadata": {
        "colab": {
          "base_uri": "https://localhost:8080/"
        },
        "id": "tFz9Tb0I9hE4",
        "outputId": "1c3b3528-54ae-4ee2-ab04-77429211cbef"
      },
      "outputs": [
        {
          "name": "stdout",
          "output_type": "stream",
          "text": [
            "1/1 [==============================] - 0s 157ms/step\n",
            "[0.00491582 0.00071304 0.00266372 0.0018812  0.00439064 0.04990563\n",
            " 0.00642677 0.20272896 0.02035345 0.00706662 0.42087442 0.2780797 ]\n",
            "10\n"
          ]
        }
      ],
      "source": [
        "# Inference test\n",
        "predict_result = model.predict(np.array([X_test[0]]))\n",
        "print(np.squeeze(predict_result))\n",
        "print(np.argmax(np.squeeze(predict_result)))"
      ]
    },
    {
      "cell_type": "markdown",
      "metadata": {
        "id": "S3U4yNWx9hE4"
      },
      "source": [
        "# Confusion matrix"
      ]
    },
    {
      "cell_type": "code",
      "execution_count": 16,
      "metadata": {
        "colab": {
          "base_uri": "https://localhost:8080/",
          "height": 582
        },
        "id": "AP1V6SCk9hE5",
        "outputId": "08e41a80-7a4a-4619-8125-ecc371368d19"
      },
      "outputs": [
        {
          "name": "stdout",
          "output_type": "stream",
          "text": [
            "44/44 [==============================] - 0s 1ms/step\n"
          ]
        },
        {
          "data": {
            "image/png": "[encoded data removed]",
            "text/plain": [
              "<Figure size 700x600 with 2 Axes>"
            ]
          },
          "metadata": {},
          "output_type": "display_data"
        },
        {
          "name": "stdout",
          "output_type": "stream",
          "text": [
            "Classification Report\n",
            "              precision    recall  f1-score   support\n",
            "\n",
            "           0       0.00      0.00      0.00        91\n",
            "           1       0.79      0.93      0.86        90\n",
            "           2       0.67      0.20      0.30        41\n",
            "           3       0.52      0.97      0.67       115\n",
            "           4       0.00      0.00      0.00        84\n",
            "           5       0.98      0.96      0.97       146\n",
            "           6       0.57      0.93      0.71       122\n",
            "           7       0.93      0.14      0.24       181\n",
            "           8       0.98      0.96      0.97       116\n",
            "           9       0.80      0.91      0.86        81\n",
            "          10       0.38      0.99      0.55       183\n",
            "          11       0.50      0.03      0.05       139\n",
            "\n",
            "    accuracy                           0.61      1389\n",
            "   macro avg       0.59      0.58      0.52      1389\n",
            "weighted avg       0.62      0.61      0.53      1389\n",
            "\n"
          ]
        },
        {
          "name": "stderr",
          "output_type": "stream",
          "text": [
            "c:\\Users\\Ian\\AppData\\Local\\Programs\\Python\\Python311\\Lib\\site-packages\\sklearn\\metrics\\_classification.py:1509: UndefinedMetricWarning: Precision is ill-defined and being set to 0.0 in labels with no predicted samples. Use `zero_division` parameter to control this behavior.\n",
            "  _warn_prf(average, modifier, f\"{metric.capitalize()} is\", len(result))\n",
            "c:\\Users\\Ian\\AppData\\Local\\Programs\\Python\\Python311\\Lib\\site-packages\\sklearn\\metrics\\_classification.py:1509: UndefinedMetricWarning: Precision is ill-defined and being set to 0.0 in labels with no predicted samples. Use `zero_division` parameter to control this behavior.\n",
            "  _warn_prf(average, modifier, f\"{metric.capitalize()} is\", len(result))\n",
            "c:\\Users\\Ian\\AppData\\Local\\Programs\\Python\\Python311\\Lib\\site-packages\\sklearn\\metrics\\_classification.py:1509: UndefinedMetricWarning: Precision is ill-defined and being set to 0.0 in labels with no predicted samples. Use `zero_division` parameter to control this behavior.\n",
            "  _warn_prf(average, modifier, f\"{metric.capitalize()} is\", len(result))\n"
          ]
        }
      ],
      "source": [
        "import pandas as pd\n",
        "import seaborn as sns\n",
        "import matplotlib.pyplot as plt\n",
        "from sklearn.metrics import confusion_matrix, classification_report\n",
        "\n",
        "def print_confusion_matrix(y_true, y_pred, report=True):\n",
        "    labels = sorted(list(set(y_true)))\n",
        "    cmx_data = confusion_matrix(y_true, y_pred, labels=labels)\n",
        "    \n",
        "    df_cmx = pd.DataFrame(cmx_data, index=labels, columns=labels)\n",
        " \n",
        "    fig, ax = plt.subplots(figsize=(7, 6))\n",
        "    sns.heatmap(df_cmx, annot=True, fmt='g' ,square=False)\n",
        "    ax.set_ylim(len(set(y_true)), 0)\n",
        "    plt.show()\n",
        "    \n",
        "    if report:\n",
        "        print('Classification Report')\n",
        "        print(classification_report(y_test, y_pred))\n",
        "\n",
        "Y_pred = model.predict(X_test)\n",
        "y_pred = np.argmax(Y_pred, axis=1)\n",
        "\n",
        "print_confusion_matrix(y_test, y_pred)"
      ]
    },
    {
      "cell_type": "markdown",
      "metadata": {
        "id": "FNP6aqzc9hE5"
      },
      "source": [
        "# Convert to model for Tensorflow-Lite"
      ]
    },
    {
      "cell_type": "code",
      "execution_count": 17,
      "metadata": {
        "id": "ODjnYyld9hE6"
      },
      "outputs": [
        {
          "name": "stderr",
          "output_type": "stream",
          "text": [
            "c:\\Users\\Ian\\AppData\\Local\\Programs\\Python\\Python311\\Lib\\site-packages\\keras\\src\\engine\\training.py:3103: UserWarning: You are saving your model as an HDF5 file via `model.save()`. This file format is considered legacy. We recommend using instead the native Keras format, e.g. `model.save('my_model.keras')`.\n",
            "  saving_api.save_model(\n"
          ]
        }
      ],
      "source": [
        "# Save as a model dedicated to inference\n",
        "model.save(model_save_path, include_optimizer=False)"
      ]
    },
    {
      "cell_type": "code",
      "execution_count": 18,
      "metadata": {
        "colab": {
          "base_uri": "https://localhost:8080/"
        },
        "id": "zRfuK8Y59hE6",
        "outputId": "a4ca585c-b5d5-4244-8291-8674063209bb"
      },
      "outputs": [
        {
          "name": "stdout",
          "output_type": "stream",
          "text": [
            "INFO:tensorflow:Assets written to: C:\\Users\\Ian\\AppData\\Local\\Temp\\tmp69b2ci5z\\assets\n"
          ]
        },
        {
          "name": "stderr",
          "output_type": "stream",
          "text": [
            "INFO:tensorflow:Assets written to: C:\\Users\\Ian\\AppData\\Local\\Temp\\tmp69b2ci5z\\assets\n"
          ]
        },
        {
          "data": {
            "text/plain": [
              "6896"
            ]
          },
          "execution_count": 18,
          "metadata": {},
          "output_type": "execute_result"
        }
      ],
      "source": [
        "# Transform model (quantization)\n",
        "\n",
        "converter = tf.lite.TFLiteConverter.from_keras_model(model)\n",
        "converter.optimizations = [tf.lite.Optimize.DEFAULT]\n",
        "tflite_quantized_model = converter.convert()\n",
        "\n",
        "open(tflite_save_path, 'wb').write(tflite_quantized_model)"
      ]
    },
    {
      "cell_type": "markdown",
      "metadata": {
        "id": "CHBPBXdx9hE6"
      },
      "source": [
        "# Inference test"
      ]
    },
    {
      "cell_type": "code",
      "execution_count": 19,
      "metadata": {
        "id": "mGAzLocO9hE7"
      },
      "outputs": [],
      "source": [
        "interpreter = tf.lite.Interpreter(model_path=tflite_save_path)\n",
        "interpreter.allocate_tensors()"
      ]
    },
    {
      "cell_type": "code",
      "execution_count": 20,
      "metadata": {
        "id": "oQuDK8YS9hE7"
      },
      "outputs": [],
      "source": [
        "# Get I / O tensor\n",
        "input_details = interpreter.get_input_details()\n",
        "output_details = interpreter.get_output_details()"
      ]
    },
    {
      "cell_type": "code",
      "execution_count": 21,
      "metadata": {
        "id": "2_ixAf_l9hE7"
      },
      "outputs": [],
      "source": [
        "interpreter.set_tensor(input_details[0]['index'], np.array([X_test[0]]))"
      ]
    },
    {
      "cell_type": "code",
      "execution_count": 22,
      "metadata": {
        "colab": {
          "base_uri": "https://localhost:8080/"
        },
        "id": "s4FoAnuc9hE7",
        "outputId": "91f18257-8d8b-4ef3-c558-e9b5f94fabbf",
        "scrolled": true
      },
      "outputs": [
        {
          "name": "stdout",
          "output_type": "stream",
          "text": [
            "CPU times: total: 0 ns\n",
            "Wall time: 0 ns\n"
          ]
        }
      ],
      "source": [
        "%%time\n",
        "# Inference implementation\n",
        "interpreter.invoke()\n",
        "tflite_results = interpreter.get_tensor(output_details[0]['index'])"
      ]
    },
    {
      "cell_type": "code",
      "execution_count": 23,
      "metadata": {
        "colab": {
          "base_uri": "https://localhost:8080/"
        },
        "id": "vONjp19J9hE8",
        "outputId": "77205e24-fd00-42c4-f7b6-e06e527c2cba"
      },
      "outputs": [
        {
          "name": "stdout",
          "output_type": "stream",
          "text": [
            "[0.00491581 0.00071304 0.00266372 0.0018812  0.00439063 0.04990563\n",
            " 0.00642677 0.20272893 0.02035344 0.00706662 0.4208745  0.2780797 ]\n",
            "10\n"
          ]
        }
      ],
      "source": [
        "print(np.squeeze(tflite_results))\n",
        "print(np.argmax(np.squeeze(tflite_results)))"
      ]
    }
  ],
  "metadata": {
    "accelerator": "GPU",
    "colab": {
      "collapsed_sections": [],
      "name": "keypoint_classification_EN.ipynb",
      "provenance": [],
      "toc_visible": true
    },
    "kernelspec": {
      "display_name": "Python 3",
      "language": "python",
      "name": "python3"
    },
    "language_info": {
      "codemirror_mode": {
        "name": "ipython",
        "version": 3
      },
      "file_extension": ".py",
      "mimetype": "text/x-python",
      "name": "python",
      "nbconvert_exporter": "python",
      "pygments_lexer": "ipython3",
      "version": "3.11.8"
    }
  },
  "nbformat": 4,
  "nbformat_minor": 0
}
