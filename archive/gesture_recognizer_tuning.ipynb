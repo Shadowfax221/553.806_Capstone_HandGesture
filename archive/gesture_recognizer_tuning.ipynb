{
  "cells": [
    {
      "cell_type": "markdown",
      "metadata": {
        "id": "Z-9BpIlqAZci"
      },
      "source": [
        "<link rel=\"stylesheet\" href=\"/mediapipe/site.css\">\n",
        "\n",
        "# Hand gesture recognition model: Hyperparameter Tuning\n",
        "\n",
        "> Reference: Hand gesture recognition model customization guide\n",
        "\n",
        "<table align=\"left\" class=\"buttons\">\n",
        "  <td>\n",
        "    <a href=\"https://colab.research.google.com/github/googlesamples/mediapipe/blob/main/examples/customization/gesture_recognizer.ipynb\" target=\"_blank\">\n",
        "      <img src=\"https://developers.google.com/static/mediapipe/solutions/customization/colab-logo-32px_1920.png\" alt=\"Colab logo\"> Original page in Colab\n",
        "    </a>\n",
        "  </td>\n",
        "\n",
        "  <td>\n",
        "    <a href=\"https://github.com/googlesamples/mediapipe/blob/main/examples/customization/gesture_recognizer.ipynb\" target=\"_blank\">\n",
        "      <img src=\"https://developers.google.com/static/mediapipe/solutions/customization/github-logo-32px_1920.png\" alt=\"GitHub logo\">\n",
        "      Original page on GitHub\n",
        "    </a>\n",
        "  </td>\n",
        "</table>"
      ]
    },
    {
      "cell_type": "markdown",
      "metadata": {
        "id": "YGM0PT490LiR"
      },
      "source": [
        "## Prerequisites"
      ]
    },
    {
      "cell_type": "markdown",
      "metadata": {
        "id": "cVVxZNfo0M0y"
      },
      "source": [
        "Install the MediaPipe Model Maker package."
      ]
    },
    {
      "cell_type": "code",
      "execution_count": null,
      "metadata": {
        "colab": {
          "base_uri": "https://localhost:8080/"
        },
        "id": "6DBLRE-fqlO5",
        "outputId": "4747ab2d-07c3-435b-86c9-a4b865775b1b"
      },
      "outputs": [],
      "source": [
        "!pip install --upgrade pip\n",
        "!pip install mediapipe-model-maker"
      ]
    },
    {
      "cell_type": "markdown",
      "metadata": {
        "id": "v3CvTNmB1WiY"
      },
      "source": [
        "Import the required libraries."
      ]
    },
    {
      "cell_type": "code",
      "execution_count": 2,
      "metadata": {
        "colab": {
          "base_uri": "https://localhost:8080/"
        },
        "id": "c74UL9oI0VKU",
        "outputId": "ba60d723-b6f2-410e-be5c-b9c511f3e872"
      },
      "outputs": [
        {
          "name": "stderr",
          "output_type": "stream",
          "text": [
            "/usr/local/lib/python3.10/dist-packages/tensorflow_addons/utils/tfa_eol_msg.py:23: UserWarning: \n",
            "\n",
            "TensorFlow Addons (TFA) has ended development and introduction of new features.\n",
            "TFA has entered a minimal maintenance and release mode until a planned end of life in May 2024.\n",
            "Please modify downstream libraries to take dependencies from other repositories in our TensorFlow community (e.g. Keras, Keras-CV, and Keras-NLP). \n",
            "\n",
            "For more information see: https://github.com/tensorflow/addons/issues/2807 \n",
            "\n",
            "  warnings.warn(\n"
          ]
        }
      ],
      "source": [
        "from google.colab import files\n",
        "import os\n",
        "import tensorflow as tf\n",
        "assert tf.__version__.startswith('2')\n",
        "import shutil\n",
        "\n",
        "from mediapipe_model_maker import gesture_recognizer\n",
        "\n",
        "import matplotlib.pyplot as plt\n",
        "%matplotlib inline"
      ]
    },
    {
      "cell_type": "markdown",
      "metadata": {
        "id": "i8fMLXTdD6tW"
      },
      "source": [
        "## Preparing Dataset"
      ]
    },
    {
      "cell_type": "markdown",
      "metadata": {
        "id": "7TwDFilngzjs"
      },
      "source": [
        "The dataset for gesture recognition in model maker requires the following format: `<dataset_path>/<label_name>/<img_name>.*`. In addition, one of the label names (`label_names`) must be `none`. The `none` label represents any gesture that isn't classified as one of the other gestures.\n",
        "\n",
        "This example uses a partial dataset sample."
      ]
    },
    {
      "cell_type": "code",
      "execution_count": 3,
      "metadata": {
        "colab": {
          "base_uri": "https://localhost:8080/"
        },
        "id": "zStc0BciwKu8",
        "outputId": "fc6dcf81-44b6-4114-e93e-a0b36a13763f"
      },
      "outputs": [
        {
          "name": "stdout",
          "output_type": "stream",
          "text": [
            "Mounted at /content/drive\n"
          ]
        }
      ],
      "source": [
        "from google.colab import drive\n",
        "drive.mount('/content/drive')"
      ]
    },
    {
      "cell_type": "code",
      "execution_count": null,
      "metadata": {
        "colab": {
          "base_uri": "https://localhost:8080/"
        },
        "id": "6dwmyg5MnR_y",
        "outputId": "892a74b4-4e18-4ddc-9b5a-5260ad41d9f2"
      },
      "outputs": [],
      "source": [
        "# !wget https://github.com/Shadowfax221/553.806_Capstone_HandGesture/blob/main/minor_dataset.zip\n",
        "!unzip /content/drive/MyDrive/Colab/dataset_selected1000.zip"
      ]
    },
    {
      "cell_type": "code",
      "execution_count": 5,
      "metadata": {
        "colab": {
          "base_uri": "https://localhost:8080/"
        },
        "id": "HhU8m0tf4H3n",
        "outputId": "9d6a3a13-2946-480e-ffe8-c1297068ecfb"
      },
      "outputs": [
        {
          "name": "stdout",
          "output_type": "stream",
          "text": [
            "dataset_selected\n",
            "['like', 'stop', 'stop_inverted', 'fist', 'palm', 'call', 'one', 'peace', 'dislike', 'ok', 'rock', 'mute', 'none']\n"
          ]
        }
      ],
      "source": [
        "dataset_path = \"dataset_selected\"\n",
        "print(dataset_path)\n",
        "labels = []\n",
        "for i in os.listdir(dataset_path):\n",
        "  if os.path.isdir(os.path.join(dataset_path, i)):\n",
        "    labels.append(i)\n",
        "print(labels)"
      ]
    },
    {
      "cell_type": "markdown",
      "metadata": {
        "id": "H3cyLaSp0SR6"
      },
      "source": [
        "## Modeling"
      ]
    },
    {
      "cell_type": "markdown",
      "metadata": {
        "id": "OF9ArLQXIu25"
      },
      "source": [
        "**Load the dataset**\n",
        "\n",
        "Load the dataset located at `dataset_path` by using the `Dataset.from_folder` method. When loading the dataset, run the pre-packaged hand detection model from MediaPipe Hands to detect the hand landmarks from the images. Any images without detected hands are ommitted from the dataset. The resulting dataset will contain the extracted hand landmark positions from each image, rather than images themselves.\n",
        "\n",
        "The `HandDataPreprocessingParams` class contains two configurable options for the data loading process:\n",
        "* `shuffle`: A boolean controlling whether to shuffle the dataset. Defaults to true.\n",
        "* `min_detection_confidence`: A float between 0 and 1 controlling the confidence threshold for hand detection.\n",
        "\n",
        "Split the dataset: 80% for training, 10% for validation, and 10% for testing."
      ]
    },
    {
      "cell_type": "code",
      "execution_count": 6,
      "metadata": {
        "colab": {
          "base_uri": "https://localhost:8080/"
        },
        "id": "aTTNZsolKXiT",
        "outputId": "194436b2-e321-4ed8-a0db-9c5b0efc76bf"
      },
      "outputs": [
        {
          "name": "stdout",
          "output_type": "stream",
          "text": [
            "Downloading https://storage.googleapis.com/mediapipe-assets/palm_detection_full.tflite to /tmp/model_maker/gesture_recognizer/palm_detection_full.tflite\n",
            "Downloading https://storage.googleapis.com/mediapipe-assets/hand_landmark_full.tflite to /tmp/model_maker/gesture_recognizer/hand_landmark_full.tflite\n",
            "Downloading https://storage.googleapis.com/mediapipe-assets/gesture_embedder.tar.gz to /tmp/model_maker/gesture_recognizer/gesture_embedder\n"
          ]
        }
      ],
      "source": [
        "data = gesture_recognizer.Dataset.from_folder(\n",
        "    dirname=dataset_path,\n",
        "    hparams=gesture_recognizer.HandDataPreprocessingParams()\n",
        ")\n",
        "train_data, rest_data = data.split(0.8)\n",
        "validation_data, test_data = rest_data.split(0.5)"
      ]
    },
    {
      "cell_type": "markdown",
      "metadata": {
        "id": "Faf-brwA0r5E"
      },
      "source": [
        "**Training**"
      ]
    },
    {
      "cell_type": "markdown",
      "metadata": {
        "id": "7lq-uYa004hZ"
      },
      "source": [
        "Define a function for training and evaluation."
      ]
    },
    {
      "cell_type": "code",
      "execution_count": 22,
      "metadata": {
        "id": "g7kHYJwW0tjk"
      },
      "outputs": [],
      "source": [
        "def train_and_evaluate(layer_widths=[], learning_rate=0.001, dropout_rate=0.05, batch_size=2, epochs=10):\n",
        "    hparams = gesture_recognizer.HParams(\n",
        "        learning_rate=learning_rate,\n",
        "        batch_size=batch_size,\n",
        "        epochs=epochs,\n",
        "        export_dir=\"exported_model\"\n",
        "    )\n",
        "    model_options = gesture_recognizer.ModelOptions(\n",
        "        dropout_rate=dropout_rate,\n",
        "        layer_widths=layer_widths\n",
        "    )\n",
        "    options = gesture_recognizer.GestureRecognizerOptions(\n",
        "        model_options=model_options,\n",
        "        hparams=hparams\n",
        "    )\n",
        "    model = gesture_recognizer.GestureRecognizer.create(\n",
        "        train_data=train_data,\n",
        "        validation_data=validation_data,\n",
        "        options=options\n",
        "    )\n",
        "    loss, acc = model.evaluate(test_data, batch_size=1)\n",
        "    print(f\"Layer widths: {layer_widths}, Loss: {loss}, Accuracy: {acc}\")"
      ]
    },
    {
      "attachments": {
        "image.png": {
          "image/png": "[encoded data removed]"
        }
      },
      "cell_type": "markdown",
      "metadata": {},
      "source": [
        "![image.png](attachment:image.png)"
      ]
    },
    {
      "cell_type": "markdown",
      "metadata": {
        "id": "F7kTUths0_3t"
      },
      "source": [
        "## Hyperparameter Tuning"
      ]
    },
    {
      "cell_type": "markdown",
      "metadata": {
        "id": "f1UMEG85hQL_"
      },
      "source": [
        "We can further customize the model using the `GestureRecognizerOptions` class, which has two optional parameters for `ModelOptions` and `HParams`. Use the `ModelOptions` class to customize parameters related to the model itself, and the `HParams` class to customize other parameters related to training and saving the model.\n",
        "\n",
        "`ModelOptions` has one customizable parameter that affects accuracy:\n",
        "* `dropout_rate`: The fraction of the input units to drop. Used in dropout layer. Defaults to 0.05.\n",
        "* `layer_widths`: A list of hidden layer widths for the gesture model. Each element in the list will create a new hidden layer with the specified width. The hidden layers are separated with BatchNorm, Dropout, and ReLU. Defaults to an empty list(no hidden layers).\n",
        "\n",
        "`HParams` has the following list of customizable parameters which affect model accuracy:\n",
        "* `learning_rate`: The learning rate to use for gradient descent training. Defaults to 0.001.\n",
        "* `batch_size`: Batch size for training. Defaults to 2.\n",
        "* `epochs`: Number of training iterations over the dataset. Defaults to 10.\n",
        "* `steps_per_epoch`: An optional integer that indicates the number of training steps per epoch. If not set, the training pipeline calculates the default steps per epoch as the training dataset size divided by batch size.\n",
        "* `shuffle`: True if the dataset is shuffled before training. Defaults to False.\n",
        "* `lr_decay`: Learning rate decay to use for gradient descent training. Defaults to 0.99.\n",
        "* `gamma`: Gamma parameter for focal loss. Defaults to 2\n",
        "\n",
        "Additional `HParams` parameter that does not affect model accuracy:\n",
        "* `export_dir`: The location of the model checkpoint files and exported model files."
      ]
    },
    {
      "cell_type": "code",
      "execution_count": 21,
      "metadata": {
        "id": "4LCOnPiomqE5"
      },
      "outputs": [],
      "source": [
        "def delete_exported():\n",
        "   folder_path = '/content/exported_model'\n",
        "   if os.path.exists(folder_path):\n",
        "      shutil.rmtree(folder_path)"
      ]
    },
    {
      "cell_type": "markdown",
      "metadata": {
        "id": "kw5iH9lv1Bqu"
      },
      "source": [
        "### Network Shape"
      ]
    },
    {
      "cell_type": "code",
      "execution_count": 17,
      "metadata": {
        "id": "ItcUfxxl03K6"
      },
      "outputs": [],
      "source": [
        "# Try different structures configurations\n",
        "layer_configs = [\n",
        "    [],\n",
        "    [64],\n",
        "]\n"
      ]
    },
    {
      "cell_type": "code",
      "execution_count": 18,
      "metadata": {
        "colab": {
          "base_uri": "https://localhost:8080/"
        },
        "id": "iXK3Cjji3GJT",
        "outputId": "3dadd857-0b76-4f39-90af-c6a28af104bd"
      },
      "outputs": [
        {
          "name": "stdout",
          "output_type": "stream",
          "text": [
            "Training and evaluating for layer config:  []\n",
            "Model: \"model\"\n",
            "_________________________________________________________________\n",
            " Layer (type)                Output Shape              Param #   \n",
            "=================================================================\n",
            " hand_embedding (InputLayer  [(None, 128)]             0         \n",
            " )                                                               \n",
            "                                                                 \n",
            " batch_normalization (Batch  (None, 128)               512       \n",
            " Normalization)                                                  \n",
            "                                                                 \n",
            " re_lu (ReLU)                (None, 128)               0         \n",
            "                                                                 \n",
            " dropout (Dropout)           (None, 128)               0         \n",
            "                                                                 \n",
            " custom_gesture_recognizer_  (None, 13)                1677      \n",
            " out (Dense)                                                     \n",
            "                                                                 \n",
            "=================================================================\n",
            "Total params: 2189 (8.55 KB)\n",
            "Trainable params: 1933 (7.55 KB)\n",
            "Non-trainable params: 256 (1.00 KB)\n",
            "_________________________________________________________________\n",
            "None\n",
            "Epoch 1/50\n",
            "2129/2129 [==============================] - 6s 3ms/step - loss: 1.0644 - categorical_accuracy: 0.5519 - val_loss: 0.2040 - val_categorical_accuracy: 0.9004 - lr: 0.0010\n",
            "Epoch 2/50\n",
            "2129/2129 [==============================] - 7s 3ms/step - loss: 0.7413 - categorical_accuracy: 0.6865 - val_loss: 0.1990 - val_categorical_accuracy: 0.8966 - lr: 9.9000e-04\n",
            "Epoch 3/50\n",
            "2129/2129 [==============================] - 7s 3ms/step - loss: 0.6820 - categorical_accuracy: 0.7172 - val_loss: 0.1965 - val_categorical_accuracy: 0.9041 - lr: 9.8010e-04\n",
            "Epoch 4/50\n",
            "2129/2129 [==============================] - 7s 3ms/step - loss: 0.6536 - categorical_accuracy: 0.7290 - val_loss: 0.1981 - val_categorical_accuracy: 0.9079 - lr: 9.7030e-04\n",
            "Epoch 5/50\n",
            "2129/2129 [==============================] - 7s 3ms/step - loss: 0.6313 - categorical_accuracy: 0.7360 - val_loss: 0.1975 - val_categorical_accuracy: 0.9154 - lr: 9.6060e-04\n",
            "Epoch 6/50\n",
            "2129/2129 [==============================] - 5s 3ms/step - loss: 0.6161 - categorical_accuracy: 0.7428 - val_loss: 0.1949 - val_categorical_accuracy: 0.9192 - lr: 9.5099e-04\n",
            "Epoch 7/50\n",
            "2129/2129 [==============================] - 5s 3ms/step - loss: 0.6073 - categorical_accuracy: 0.7487 - val_loss: 0.2057 - val_categorical_accuracy: 0.9098 - lr: 9.4148e-04\n",
            "Epoch 8/50\n",
            "2129/2129 [==============================] - 5s 3ms/step - loss: 0.5983 - categorical_accuracy: 0.7513 - val_loss: 0.2019 - val_categorical_accuracy: 0.9135 - lr: 9.3207e-04\n",
            "Epoch 9/50\n",
            "2129/2129 [==============================] - 6s 3ms/step - loss: 0.5968 - categorical_accuracy: 0.7506 - val_loss: 0.1947 - val_categorical_accuracy: 0.9229 - lr: 9.2274e-04\n",
            "Epoch 10/50\n",
            "2129/2129 [==============================] - 6s 3ms/step - loss: 0.5860 - categorical_accuracy: 0.7532 - val_loss: 0.2009 - val_categorical_accuracy: 0.9229 - lr: 9.1352e-04\n",
            "Epoch 11/50\n",
            "2129/2129 [==============================] - 6s 3ms/step - loss: 0.5803 - categorical_accuracy: 0.7543 - val_loss: 0.2046 - val_categorical_accuracy: 0.9135 - lr: 9.0438e-04\n",
            "Epoch 12/50\n",
            "2129/2129 [==============================] - 6s 3ms/step - loss: 0.5838 - categorical_accuracy: 0.7504 - val_loss: 0.1924 - val_categorical_accuracy: 0.9342 - lr: 8.9534e-04\n",
            "Epoch 13/50\n",
            "2129/2129 [==============================] - 7s 3ms/step - loss: 0.5759 - categorical_accuracy: 0.7546 - val_loss: 0.2006 - val_categorical_accuracy: 0.9211 - lr: 8.8638e-04\n",
            "Epoch 14/50\n",
            "2129/2129 [==============================] - 6s 3ms/step - loss: 0.5747 - categorical_accuracy: 0.7543 - val_loss: 0.2048 - val_categorical_accuracy: 0.9173 - lr: 8.7752e-04\n",
            "Epoch 15/50\n",
            "2129/2129 [==============================] - 6s 3ms/step - loss: 0.5661 - categorical_accuracy: 0.7553 - val_loss: 0.2028 - val_categorical_accuracy: 0.9229 - lr: 8.6875e-04\n",
            "Epoch 16/50\n",
            "2129/2129 [==============================] - 6s 3ms/step - loss: 0.5707 - categorical_accuracy: 0.7529 - val_loss: 0.2013 - val_categorical_accuracy: 0.9267 - lr: 8.6006e-04\n",
            "Epoch 17/50\n",
            "2129/2129 [==============================] - 6s 3ms/step - loss: 0.5642 - categorical_accuracy: 0.7525 - val_loss: 0.2047 - val_categorical_accuracy: 0.9267 - lr: 8.5146e-04\n",
            "Epoch 18/50\n",
            "2129/2129 [==============================] - 7s 3ms/step - loss: 0.5689 - categorical_accuracy: 0.7562 - val_loss: 0.2085 - val_categorical_accuracy: 0.9248 - lr: 8.4294e-04\n",
            "Epoch 19/50\n",
            "2129/2129 [==============================] - 6s 3ms/step - loss: 0.5671 - categorical_accuracy: 0.7546 - val_loss: 0.2045 - val_categorical_accuracy: 0.9211 - lr: 8.3451e-04\n",
            "Epoch 20/50\n",
            "2129/2129 [==============================] - 5s 3ms/step - loss: 0.5578 - categorical_accuracy: 0.7525 - val_loss: 0.2156 - val_categorical_accuracy: 0.9173 - lr: 8.2617e-04\n",
            "Epoch 21/50\n",
            "2129/2129 [==============================] - 6s 3ms/step - loss: 0.5589 - categorical_accuracy: 0.7581 - val_loss: 0.2122 - val_categorical_accuracy: 0.9211 - lr: 8.1791e-04\n",
            "Epoch 22/50\n",
            "2129/2129 [==============================] - 6s 3ms/step - loss: 0.5605 - categorical_accuracy: 0.7555 - val_loss: 0.2055 - val_categorical_accuracy: 0.9286 - lr: 8.0973e-04\n",
            "Epoch 23/50\n",
            "2129/2129 [==============================] - 7s 3ms/step - loss: 0.5537 - categorical_accuracy: 0.7605 - val_loss: 0.2086 - val_categorical_accuracy: 0.9286 - lr: 8.0163e-04\n",
            "Epoch 24/50\n",
            "2129/2129 [==============================] - 6s 3ms/step - loss: 0.5547 - categorical_accuracy: 0.7581 - val_loss: 0.2094 - val_categorical_accuracy: 0.9305 - lr: 7.9361e-04\n",
            "Epoch 25/50\n",
            "2129/2129 [==============================] - 7s 3ms/step - loss: 0.5540 - categorical_accuracy: 0.7614 - val_loss: 0.2127 - val_categorical_accuracy: 0.9305 - lr: 7.8568e-04\n",
            "Epoch 26/50\n",
            "2129/2129 [==============================] - 6s 3ms/step - loss: 0.5568 - categorical_accuracy: 0.7522 - val_loss: 0.2109 - val_categorical_accuracy: 0.9305 - lr: 7.7782e-04\n",
            "Epoch 27/50\n",
            "2129/2129 [==============================] - 6s 3ms/step - loss: 0.5542 - categorical_accuracy: 0.7626 - val_loss: 0.2125 - val_categorical_accuracy: 0.9286 - lr: 7.7004e-04\n",
            "Epoch 28/50\n",
            "2129/2129 [==============================] - 6s 3ms/step - loss: 0.5524 - categorical_accuracy: 0.7565 - val_loss: 0.2155 - val_categorical_accuracy: 0.9323 - lr: 7.6234e-04\n",
            "Epoch 29/50\n",
            "2129/2129 [==============================] - 6s 3ms/step - loss: 0.5495 - categorical_accuracy: 0.7600 - val_loss: 0.2102 - val_categorical_accuracy: 0.9323 - lr: 7.5472e-04\n",
            "Epoch 30/50\n",
            "2129/2129 [==============================] - 5s 3ms/step - loss: 0.5503 - categorical_accuracy: 0.7583 - val_loss: 0.2155 - val_categorical_accuracy: 0.9286 - lr: 7.4717e-04\n",
            "Epoch 31/50\n",
            "2129/2129 [==============================] - 6s 3ms/step - loss: 0.5494 - categorical_accuracy: 0.7609 - val_loss: 0.2073 - val_categorical_accuracy: 0.9286 - lr: 7.3970e-04\n",
            "Epoch 32/50\n",
            "2129/2129 [==============================] - 5s 3ms/step - loss: 0.5484 - categorical_accuracy: 0.7623 - val_loss: 0.2112 - val_categorical_accuracy: 0.9305 - lr: 7.3230e-04\n",
            "Epoch 33/50\n",
            "2129/2129 [==============================] - 7s 3ms/step - loss: 0.5443 - categorical_accuracy: 0.7609 - val_loss: 0.2114 - val_categorical_accuracy: 0.9305 - lr: 7.2498e-04\n",
            "Epoch 34/50\n",
            "2129/2129 [==============================] - 6s 3ms/step - loss: 0.5428 - categorical_accuracy: 0.7682 - val_loss: 0.2112 - val_categorical_accuracy: 0.9323 - lr: 7.1773e-04\n",
            "Epoch 35/50\n",
            "2129/2129 [==============================] - 7s 3ms/step - loss: 0.5468 - categorical_accuracy: 0.7588 - val_loss: 0.2187 - val_categorical_accuracy: 0.9267 - lr: 7.1055e-04\n",
            "Epoch 36/50\n",
            "2129/2129 [==============================] - 6s 3ms/step - loss: 0.5457 - categorical_accuracy: 0.7600 - val_loss: 0.2205 - val_categorical_accuracy: 0.9229 - lr: 7.0345e-04\n",
            "Epoch 37/50\n",
            "2129/2129 [==============================] - 7s 3ms/step - loss: 0.5432 - categorical_accuracy: 0.7626 - val_loss: 0.2167 - val_categorical_accuracy: 0.9248 - lr: 6.9641e-04\n",
            "Epoch 38/50\n",
            "2129/2129 [==============================] - 5s 3ms/step - loss: 0.5491 - categorical_accuracy: 0.7565 - val_loss: 0.2172 - val_categorical_accuracy: 0.9248 - lr: 6.8945e-04\n",
            "Epoch 39/50\n",
            "2129/2129 [==============================] - 6s 3ms/step - loss: 0.5434 - categorical_accuracy: 0.7619 - val_loss: 0.2204 - val_categorical_accuracy: 0.9267 - lr: 6.8255e-04\n",
            "Epoch 40/50\n",
            "2129/2129 [==============================] - 7s 3ms/step - loss: 0.5400 - categorical_accuracy: 0.7644 - val_loss: 0.2172 - val_categorical_accuracy: 0.9305 - lr: 6.7573e-04\n",
            "Epoch 41/50\n",
            "2129/2129 [==============================] - 6s 3ms/step - loss: 0.5407 - categorical_accuracy: 0.7663 - val_loss: 0.2181 - val_categorical_accuracy: 0.9229 - lr: 6.6897e-04\n",
            "Epoch 42/50\n",
            "2129/2129 [==============================] - 6s 3ms/step - loss: 0.5389 - categorical_accuracy: 0.7637 - val_loss: 0.2196 - val_categorical_accuracy: 0.9267 - lr: 6.6228e-04\n",
            "Epoch 43/50\n",
            "2129/2129 [==============================] - 6s 3ms/step - loss: 0.5400 - categorical_accuracy: 0.7640 - val_loss: 0.2168 - val_categorical_accuracy: 0.9248 - lr: 6.5566e-04\n",
            "Epoch 44/50\n",
            "2129/2129 [==============================] - 5s 3ms/step - loss: 0.5436 - categorical_accuracy: 0.7525 - val_loss: 0.2150 - val_categorical_accuracy: 0.9305 - lr: 6.4910e-04\n",
            "Epoch 45/50\n",
            "2129/2129 [==============================] - 6s 3ms/step - loss: 0.5449 - categorical_accuracy: 0.7593 - val_loss: 0.2208 - val_categorical_accuracy: 0.9286 - lr: 6.4261e-04\n",
            "Epoch 46/50\n",
            "2129/2129 [==============================] - 6s 3ms/step - loss: 0.5351 - categorical_accuracy: 0.7628 - val_loss: 0.2218 - val_categorical_accuracy: 0.9229 - lr: 6.3619e-04\n",
            "Epoch 47/50\n",
            "2129/2129 [==============================] - 6s 3ms/step - loss: 0.5391 - categorical_accuracy: 0.7609 - val_loss: 0.2198 - val_categorical_accuracy: 0.9229 - lr: 6.2982e-04\n",
            "Epoch 48/50\n",
            "2129/2129 [==============================] - 7s 3ms/step - loss: 0.5311 - categorical_accuracy: 0.7649 - val_loss: 0.2257 - val_categorical_accuracy: 0.9229 - lr: 6.2353e-04\n",
            "Epoch 49/50\n",
            "2129/2129 [==============================] - 6s 3ms/step - loss: 0.5313 - categorical_accuracy: 0.7621 - val_loss: 0.2217 - val_categorical_accuracy: 0.9229 - lr: 6.1729e-04\n",
            "Epoch 50/50\n",
            "2129/2129 [==============================] - 6s 3ms/step - loss: 0.5369 - categorical_accuracy: 0.7666 - val_loss: 0.2241 - val_categorical_accuracy: 0.9117 - lr: 6.1112e-04\n",
            "533/533 [==============================] - 2s 1ms/step - loss: 0.2699 - categorical_accuracy: 0.8931\n",
            "Layer widths: [], Loss: 0.26985952258110046, Accuracy: 0.893058180809021\n",
            "Training and evaluating for layer config:  [64]\n",
            "Model: \"model_1\"\n",
            "_________________________________________________________________\n",
            " Layer (type)                Output Shape              Param #   \n",
            "=================================================================\n",
            " hand_embedding (InputLayer  [(None, 128)]             0         \n",
            " )                                                               \n",
            "                                                                 \n",
            " batch_normalization_1 (Bat  (None, 128)               512       \n",
            " chNormalization)                                                \n",
            "                                                                 \n",
            " re_lu_1 (ReLU)              (None, 128)               0         \n",
            "                                                                 \n",
            " dropout_1 (Dropout)         (None, 128)               0         \n",
            "                                                                 \n",
            " custom_gesture_recognizer_  (None, 64)                8256      \n",
            " 0 (Dense)                                                       \n",
            "                                                                 \n",
            " batch_normalization_2 (Bat  (None, 64)                256       \n",
            " chNormalization)                                                \n",
            "                                                                 \n",
            " re_lu_2 (ReLU)              (None, 64)                0         \n",
            "                                                                 \n",
            " dropout_2 (Dropout)         (None, 64)                0         \n",
            "                                                                 \n",
            " custom_gesture_recognizer_  (None, 13)                845       \n",
            " out (Dense)                                                     \n",
            "                                                                 \n",
            "=================================================================\n",
            "Total params: 9869 (38.55 KB)\n",
            "Trainable params: 9485 (37.05 KB)\n",
            "Non-trainable params: 384 (1.50 KB)\n",
            "_________________________________________________________________\n",
            "None\n",
            "Epoch 1/50\n",
            "2129/2129 [==============================] - 9s 4ms/step - loss: 1.2295 - categorical_accuracy: 0.4662 - val_loss: 0.2460 - val_categorical_accuracy: 0.9004 - lr: 0.0010\n",
            "Epoch 2/50\n",
            "2129/2129 [==============================] - 7s 4ms/step - loss: 0.9098 - categorical_accuracy: 0.6019 - val_loss: 0.2291 - val_categorical_accuracy: 0.8985 - lr: 9.9000e-04\n",
            "Epoch 3/50\n",
            "2129/2129 [==============================] - 7s 3ms/step - loss: 0.8635 - categorical_accuracy: 0.6266 - val_loss: 0.2679 - val_categorical_accuracy: 0.8703 - lr: 9.8010e-04\n",
            "Epoch 4/50\n",
            "2129/2129 [==============================] - 6s 3ms/step - loss: 0.8060 - categorical_accuracy: 0.6522 - val_loss: 0.2697 - val_categorical_accuracy: 0.8534 - lr: 9.7030e-04\n",
            "Epoch 5/50\n",
            "2129/2129 [==============================] - 7s 3ms/step - loss: 0.7742 - categorical_accuracy: 0.6562 - val_loss: 0.2731 - val_categorical_accuracy: 0.8665 - lr: 9.6060e-04\n",
            "Epoch 6/50\n",
            "2129/2129 [==============================] - 8s 4ms/step - loss: 0.7789 - categorical_accuracy: 0.6635 - val_loss: 0.2446 - val_categorical_accuracy: 0.8891 - lr: 9.5099e-04\n",
            "Epoch 7/50\n",
            "2129/2129 [==============================] - 7s 3ms/step - loss: 0.7515 - categorical_accuracy: 0.6766 - val_loss: 0.2691 - val_categorical_accuracy: 0.8853 - lr: 9.4148e-04\n",
            "Epoch 8/50\n",
            "2129/2129 [==============================] - 6s 3ms/step - loss: 0.7285 - categorical_accuracy: 0.6865 - val_loss: 0.2577 - val_categorical_accuracy: 0.8947 - lr: 9.3207e-04\n",
            "Epoch 9/50\n",
            "2129/2129 [==============================] - 6s 3ms/step - loss: 0.7270 - categorical_accuracy: 0.6820 - val_loss: 0.2605 - val_categorical_accuracy: 0.8910 - lr: 9.2274e-04\n",
            "Epoch 10/50\n",
            "2129/2129 [==============================] - 7s 3ms/step - loss: 0.7115 - categorical_accuracy: 0.6862 - val_loss: 0.2649 - val_categorical_accuracy: 0.8966 - lr: 9.1352e-04\n",
            "Epoch 11/50\n",
            "2129/2129 [==============================] - 8s 4ms/step - loss: 0.6987 - categorical_accuracy: 0.7031 - val_loss: 0.2857 - val_categorical_accuracy: 0.8797 - lr: 9.0438e-04\n",
            "Epoch 12/50\n",
            "2129/2129 [==============================] - 7s 3ms/step - loss: 0.6911 - categorical_accuracy: 0.7093 - val_loss: 0.2583 - val_categorical_accuracy: 0.8966 - lr: 8.9534e-04\n",
            "Epoch 13/50\n",
            "2129/2129 [==============================] - 7s 3ms/step - loss: 0.6880 - categorical_accuracy: 0.7104 - val_loss: 0.2282 - val_categorical_accuracy: 0.9135 - lr: 8.8638e-04\n",
            "Epoch 14/50\n",
            "2129/2129 [==============================] - 7s 3ms/step - loss: 0.6835 - categorical_accuracy: 0.7071 - val_loss: 0.2251 - val_categorical_accuracy: 0.9173 - lr: 8.7752e-04\n",
            "Epoch 15/50\n",
            "2129/2129 [==============================] - 8s 4ms/step - loss: 0.6740 - categorical_accuracy: 0.7039 - val_loss: 0.2196 - val_categorical_accuracy: 0.9286 - lr: 8.6875e-04\n",
            "Epoch 16/50\n",
            "2129/2129 [==============================] - 7s 3ms/step - loss: 0.6812 - categorical_accuracy: 0.7015 - val_loss: 0.2362 - val_categorical_accuracy: 0.9117 - lr: 8.6006e-04\n",
            "Epoch 17/50\n",
            "2129/2129 [==============================] - 6s 3ms/step - loss: 0.6684 - categorical_accuracy: 0.7022 - val_loss: 0.2562 - val_categorical_accuracy: 0.9060 - lr: 8.5146e-04\n",
            "Epoch 18/50\n",
            "2129/2129 [==============================] - 7s 3ms/step - loss: 0.6542 - categorical_accuracy: 0.7149 - val_loss: 0.2715 - val_categorical_accuracy: 0.9004 - lr: 8.4294e-04\n",
            "Epoch 19/50\n",
            "2129/2129 [==============================] - 6s 3ms/step - loss: 0.6498 - categorical_accuracy: 0.7226 - val_loss: 0.2349 - val_categorical_accuracy: 0.9117 - lr: 8.3451e-04\n",
            "Epoch 20/50\n",
            "2129/2129 [==============================] - 8s 4ms/step - loss: 0.6400 - categorical_accuracy: 0.7236 - val_loss: 0.2174 - val_categorical_accuracy: 0.9192 - lr: 8.2617e-04\n",
            "Epoch 21/50\n",
            "2129/2129 [==============================] - 7s 3ms/step - loss: 0.6472 - categorical_accuracy: 0.7271 - val_loss: 0.2241 - val_categorical_accuracy: 0.9173 - lr: 8.1791e-04\n",
            "Epoch 22/50\n",
            "2129/2129 [==============================] - 7s 3ms/step - loss: 0.6422 - categorical_accuracy: 0.7283 - val_loss: 0.2091 - val_categorical_accuracy: 0.9192 - lr: 8.0973e-04\n",
            "Epoch 23/50\n",
            "2129/2129 [==============================] - 7s 3ms/step - loss: 0.6273 - categorical_accuracy: 0.7351 - val_loss: 0.2292 - val_categorical_accuracy: 0.9098 - lr: 8.0163e-04\n",
            "Epoch 24/50\n",
            "2129/2129 [==============================] - 6s 3ms/step - loss: 0.6392 - categorical_accuracy: 0.7318 - val_loss: 0.2145 - val_categorical_accuracy: 0.9305 - lr: 7.9361e-04\n",
            "Epoch 25/50\n",
            "2129/2129 [==============================] - 7s 3ms/step - loss: 0.6302 - categorical_accuracy: 0.7323 - val_loss: 0.2146 - val_categorical_accuracy: 0.9286 - lr: 7.8568e-04\n",
            "Epoch 26/50\n",
            "2129/2129 [==============================] - 6s 3ms/step - loss: 0.6312 - categorical_accuracy: 0.7365 - val_loss: 0.2187 - val_categorical_accuracy: 0.9267 - lr: 7.7782e-04\n",
            "Epoch 27/50\n",
            "2129/2129 [==============================] - 6s 3ms/step - loss: 0.6208 - categorical_accuracy: 0.7323 - val_loss: 0.2323 - val_categorical_accuracy: 0.9023 - lr: 7.7004e-04\n",
            "Epoch 28/50\n",
            "2129/2129 [==============================] - 7s 3ms/step - loss: 0.6158 - categorical_accuracy: 0.7379 - val_loss: 0.2230 - val_categorical_accuracy: 0.9192 - lr: 7.6234e-04\n",
            "Epoch 29/50\n",
            "2129/2129 [==============================] - 8s 4ms/step - loss: 0.6277 - categorical_accuracy: 0.7271 - val_loss: 0.2213 - val_categorical_accuracy: 0.9117 - lr: 7.5472e-04\n",
            "Epoch 30/50\n",
            "2129/2129 [==============================] - 7s 3ms/step - loss: 0.6140 - categorical_accuracy: 0.7330 - val_loss: 0.2248 - val_categorical_accuracy: 0.9211 - lr: 7.4717e-04\n",
            "Epoch 31/50\n",
            "2129/2129 [==============================] - 6s 3ms/step - loss: 0.6127 - categorical_accuracy: 0.7337 - val_loss: 0.2589 - val_categorical_accuracy: 0.9098 - lr: 7.3970e-04\n",
            "Epoch 32/50\n",
            "2129/2129 [==============================] - 7s 3ms/step - loss: 0.6007 - categorical_accuracy: 0.7424 - val_loss: 0.2278 - val_categorical_accuracy: 0.9192 - lr: 7.3230e-04\n",
            "Epoch 33/50\n",
            "2129/2129 [==============================] - 8s 4ms/step - loss: 0.6002 - categorical_accuracy: 0.7363 - val_loss: 0.2230 - val_categorical_accuracy: 0.9154 - lr: 7.2498e-04\n",
            "Epoch 34/50\n",
            "2129/2129 [==============================] - 6s 3ms/step - loss: 0.6070 - categorical_accuracy: 0.7403 - val_loss: 0.2284 - val_categorical_accuracy: 0.9229 - lr: 7.1773e-04\n",
            "Epoch 35/50\n",
            "2129/2129 [==============================] - 7s 3ms/step - loss: 0.6043 - categorical_accuracy: 0.7393 - val_loss: 0.2358 - val_categorical_accuracy: 0.8966 - lr: 7.1055e-04\n",
            "Epoch 36/50\n",
            "2129/2129 [==============================] - 7s 3ms/step - loss: 0.5940 - categorical_accuracy: 0.7494 - val_loss: 0.2257 - val_categorical_accuracy: 0.9173 - lr: 7.0345e-04\n",
            "Epoch 37/50\n",
            "2129/2129 [==============================] - 6s 3ms/step - loss: 0.5910 - categorical_accuracy: 0.7473 - val_loss: 0.2362 - val_categorical_accuracy: 0.9229 - lr: 6.9641e-04\n",
            "Epoch 38/50\n",
            "2129/2129 [==============================] - 8s 4ms/step - loss: 0.5921 - categorical_accuracy: 0.7459 - val_loss: 0.2298 - val_categorical_accuracy: 0.9135 - lr: 6.8945e-04\n",
            "Epoch 39/50\n",
            "2129/2129 [==============================] - 8s 4ms/step - loss: 0.5955 - categorical_accuracy: 0.7450 - val_loss: 0.2360 - val_categorical_accuracy: 0.9211 - lr: 6.8255e-04\n",
            "Epoch 40/50\n",
            "2129/2129 [==============================] - 7s 3ms/step - loss: 0.5864 - categorical_accuracy: 0.7525 - val_loss: 0.2252 - val_categorical_accuracy: 0.9323 - lr: 6.7573e-04\n",
            "Epoch 41/50\n",
            "2129/2129 [==============================] - 8s 4ms/step - loss: 0.5732 - categorical_accuracy: 0.7541 - val_loss: 0.2258 - val_categorical_accuracy: 0.9248 - lr: 6.6897e-04\n",
            "Epoch 42/50\n",
            "2129/2129 [==============================] - 6s 3ms/step - loss: 0.5767 - categorical_accuracy: 0.7536 - val_loss: 0.2301 - val_categorical_accuracy: 0.9286 - lr: 6.6228e-04\n",
            "Epoch 43/50\n",
            "2129/2129 [==============================] - 7s 3ms/step - loss: 0.5818 - categorical_accuracy: 0.7433 - val_loss: 0.2266 - val_categorical_accuracy: 0.9361 - lr: 6.5566e-04\n",
            "Epoch 44/50\n",
            "2129/2129 [==============================] - 7s 3ms/step - loss: 0.5876 - categorical_accuracy: 0.7506 - val_loss: 0.2271 - val_categorical_accuracy: 0.9380 - lr: 6.4910e-04\n",
            "Epoch 45/50\n",
            "2129/2129 [==============================] - 7s 3ms/step - loss: 0.5897 - categorical_accuracy: 0.7424 - val_loss: 0.2269 - val_categorical_accuracy: 0.9229 - lr: 6.4261e-04\n",
            "Epoch 46/50\n",
            "2129/2129 [==============================] - 7s 3ms/step - loss: 0.5778 - categorical_accuracy: 0.7496 - val_loss: 0.2250 - val_categorical_accuracy: 0.9154 - lr: 6.3619e-04\n",
            "Epoch 47/50\n",
            "2129/2129 [==============================] - 6s 3ms/step - loss: 0.5750 - categorical_accuracy: 0.7529 - val_loss: 0.2158 - val_categorical_accuracy: 0.9305 - lr: 6.2982e-04\n",
            "Epoch 48/50\n",
            "2129/2129 [==============================] - 7s 3ms/step - loss: 0.5782 - categorical_accuracy: 0.7496 - val_loss: 0.2184 - val_categorical_accuracy: 0.9192 - lr: 6.2353e-04\n",
            "Epoch 49/50\n",
            "2129/2129 [==============================] - 7s 3ms/step - loss: 0.5710 - categorical_accuracy: 0.7555 - val_loss: 0.2465 - val_categorical_accuracy: 0.8853 - lr: 6.1729e-04\n",
            "Epoch 50/50\n",
            "2129/2129 [==============================] - 7s 3ms/step - loss: 0.5829 - categorical_accuracy: 0.7508 - val_loss: 0.2476 - val_categorical_accuracy: 0.8797 - lr: 6.1112e-04\n",
            "533/533 [==============================] - 2s 1ms/step - loss: 0.3137 - categorical_accuracy: 0.8386\n",
            "Layer widths: [64], Loss: 0.3136638104915619, Accuracy: 0.8386491537094116\n"
          ]
        }
      ],
      "source": [
        "for config in layer_configs:\n",
        "   print(\"Training and evaluating for layer config: \", config)\n",
        "   delete_exported()\n",
        "   train_and_evaluate(layer_widths=config)"
      ]
    },
    {
      "cell_type": "markdown",
      "metadata": {
        "id": "r9g_BCFOqmE-"
      },
      "source": [
        "The default network shape has the best performance."
      ]
    },
    {
      "cell_type": "markdown",
      "metadata": {
        "id": "8nAViubOjq2r"
      },
      "source": [
        "### Dropout Rate"
      ]
    },
    {
      "cell_type": "code",
      "execution_count": 23,
      "metadata": {
        "id": "SXwQfqpcjyMq"
      },
      "outputs": [],
      "source": [
        "dropout_configs = [\n",
        "    0,\n",
        "    0.05,\n",
        "    0.1,\n",
        "    0.2\n",
        "]"
      ]
    },
    {
      "cell_type": "code",
      "execution_count": 26,
      "metadata": {
        "colab": {
          "base_uri": "https://localhost:8080/"
        },
        "id": "1iO-bIl5mnCH",
        "outputId": "6549d30d-5d75-44e3-e259-d906142f0c51"
      },
      "outputs": [
        {
          "name": "stdout",
          "output_type": "stream",
          "text": [
            "Training and evaluating for dropout rate:  0\n",
            "Model: \"model_3\"\n",
            "_________________________________________________________________\n",
            " Layer (type)                Output Shape              Param #   \n",
            "=================================================================\n",
            " hand_embedding (InputLayer  [(None, 128)]             0         \n",
            " )                                                               \n",
            "                                                                 \n",
            " batch_normalization_4 (Bat  (None, 128)               512       \n",
            " chNormalization)                                                \n",
            "                                                                 \n",
            " re_lu_4 (ReLU)              (None, 128)               0         \n",
            "                                                                 \n",
            " dropout_4 (Dropout)         (None, 128)               0         \n",
            "                                                                 \n",
            " custom_gesture_recognizer_  (None, 13)                1677      \n",
            " out (Dense)                                                     \n",
            "                                                                 \n",
            "=================================================================\n",
            "Total params: 2189 (8.55 KB)\n",
            "Trainable params: 1933 (7.55 KB)\n",
            "Non-trainable params: 256 (1.00 KB)\n",
            "_________________________________________________________________\n",
            "None\n",
            "Epoch 1/10\n",
            "2129/2129 [==============================] - 6s 3ms/step - loss: 1.0304 - categorical_accuracy: 0.5726 - val_loss: 0.2300 - val_categorical_accuracy: 0.8872 - lr: 0.0010\n",
            "Epoch 2/10\n",
            "2129/2129 [==============================] - 7s 3ms/step - loss: 0.7084 - categorical_accuracy: 0.7104 - val_loss: 0.2066 - val_categorical_accuracy: 0.9098 - lr: 9.9000e-04\n",
            "Epoch 3/10\n",
            "2129/2129 [==============================] - 7s 3ms/step - loss: 0.6479 - categorical_accuracy: 0.7384 - val_loss: 0.1986 - val_categorical_accuracy: 0.9135 - lr: 9.8010e-04\n",
            "Epoch 4/10\n",
            "2129/2129 [==============================] - 6s 3ms/step - loss: 0.6147 - categorical_accuracy: 0.7508 - val_loss: 0.1949 - val_categorical_accuracy: 0.9248 - lr: 9.7030e-04\n",
            "Epoch 5/10\n",
            "2129/2129 [==============================] - 6s 3ms/step - loss: 0.5929 - categorical_accuracy: 0.7560 - val_loss: 0.1936 - val_categorical_accuracy: 0.9286 - lr: 9.6060e-04\n",
            "Epoch 6/10\n",
            "2129/2129 [==============================] - 7s 3ms/step - loss: 0.5771 - categorical_accuracy: 0.7600 - val_loss: 0.1936 - val_categorical_accuracy: 0.9323 - lr: 9.5099e-04\n",
            "Epoch 7/10\n",
            "2129/2129 [==============================] - 6s 3ms/step - loss: 0.5649 - categorical_accuracy: 0.7644 - val_loss: 0.1943 - val_categorical_accuracy: 0.9323 - lr: 9.4148e-04\n",
            "Epoch 8/10\n",
            "2129/2129 [==============================] - 7s 3ms/step - loss: 0.5550 - categorical_accuracy: 0.7677 - val_loss: 0.1953 - val_categorical_accuracy: 0.9342 - lr: 9.3207e-04\n",
            "Epoch 9/10\n",
            "2129/2129 [==============================] - 6s 3ms/step - loss: 0.5467 - categorical_accuracy: 0.7701 - val_loss: 0.1966 - val_categorical_accuracy: 0.9305 - lr: 9.2274e-04\n",
            "Epoch 10/10\n",
            "2129/2129 [==============================] - 7s 3ms/step - loss: 0.5396 - categorical_accuracy: 0.7731 - val_loss: 0.1979 - val_categorical_accuracy: 0.9305 - lr: 9.1352e-04\n",
            "533/533 [==============================] - 2s 1ms/step - loss: 0.2465 - categorical_accuracy: 0.8893\n",
            "Layer widths: [], Loss: 0.24651572108268738, Accuracy: 0.889305830001831\n",
            "Training and evaluating for dropout rate:  0.05\n",
            "Model: \"model_4\"\n",
            "_________________________________________________________________\n",
            " Layer (type)                Output Shape              Param #   \n",
            "=================================================================\n",
            " hand_embedding (InputLayer  [(None, 128)]             0         \n",
            " )                                                               \n",
            "                                                                 \n",
            " batch_normalization_5 (Bat  (None, 128)               512       \n",
            " chNormalization)                                                \n",
            "                                                                 \n",
            " re_lu_5 (ReLU)              (None, 128)               0         \n",
            "                                                                 \n",
            " dropout_5 (Dropout)         (None, 128)               0         \n",
            "                                                                 \n",
            " custom_gesture_recognizer_  (None, 13)                1677      \n",
            " out (Dense)                                                     \n",
            "                                                                 \n",
            "=================================================================\n",
            "Total params: 2189 (8.55 KB)\n",
            "Trainable params: 1933 (7.55 KB)\n",
            "Non-trainable params: 256 (1.00 KB)\n",
            "_________________________________________________________________\n",
            "None\n",
            "Epoch 1/10\n",
            "2129/2129 [==============================] - 7s 3ms/step - loss: 1.0656 - categorical_accuracy: 0.5557 - val_loss: 0.2274 - val_categorical_accuracy: 0.8835 - lr: 0.0010\n",
            "Epoch 2/10\n",
            "2129/2129 [==============================] - 6s 3ms/step - loss: 0.7472 - categorical_accuracy: 0.6858 - val_loss: 0.2069 - val_categorical_accuracy: 0.9041 - lr: 9.9000e-04\n",
            "Epoch 3/10\n",
            "2129/2129 [==============================] - 8s 4ms/step - loss: 0.6805 - categorical_accuracy: 0.7186 - val_loss: 0.1935 - val_categorical_accuracy: 0.9135 - lr: 9.8010e-04\n",
            "Epoch 4/10\n",
            "2129/2129 [==============================] - 7s 3ms/step - loss: 0.6497 - categorical_accuracy: 0.7313 - val_loss: 0.1915 - val_categorical_accuracy: 0.9173 - lr: 9.7030e-04\n",
            "Epoch 5/10\n",
            "2129/2129 [==============================] - 6s 3ms/step - loss: 0.6338 - categorical_accuracy: 0.7417 - val_loss: 0.1961 - val_categorical_accuracy: 0.9192 - lr: 9.6060e-04\n",
            "Epoch 6/10\n",
            "2129/2129 [==============================] - 7s 3ms/step - loss: 0.6188 - categorical_accuracy: 0.7403 - val_loss: 0.1932 - val_categorical_accuracy: 0.9192 - lr: 9.5099e-04\n",
            "Epoch 7/10\n",
            "2129/2129 [==============================] - 6s 3ms/step - loss: 0.6077 - categorical_accuracy: 0.7475 - val_loss: 0.1965 - val_categorical_accuracy: 0.9248 - lr: 9.4148e-04\n",
            "Epoch 8/10\n",
            "2129/2129 [==============================] - 6s 3ms/step - loss: 0.5941 - categorical_accuracy: 0.7518 - val_loss: 0.1950 - val_categorical_accuracy: 0.9267 - lr: 9.3207e-04\n",
            "Epoch 9/10\n",
            "2129/2129 [==============================] - 6s 3ms/step - loss: 0.5876 - categorical_accuracy: 0.7534 - val_loss: 0.1945 - val_categorical_accuracy: 0.9286 - lr: 9.2274e-04\n",
            "Epoch 10/10\n",
            "2129/2129 [==============================] - 7s 4ms/step - loss: 0.5932 - categorical_accuracy: 0.7492 - val_loss: 0.1956 - val_categorical_accuracy: 0.9286 - lr: 9.1352e-04\n",
            "533/533 [==============================] - 2s 1ms/step - loss: 0.2388 - categorical_accuracy: 0.8949\n",
            "Layer widths: [], Loss: 0.2388218641281128, Accuracy: 0.894934356212616\n",
            "Training and evaluating for dropout rate:  0.1\n",
            "Model: \"model_5\"\n",
            "_________________________________________________________________\n",
            " Layer (type)                Output Shape              Param #   \n",
            "=================================================================\n",
            " hand_embedding (InputLayer  [(None, 128)]             0         \n",
            " )                                                               \n",
            "                                                                 \n",
            " batch_normalization_6 (Bat  (None, 128)               512       \n",
            " chNormalization)                                                \n",
            "                                                                 \n",
            " re_lu_6 (ReLU)              (None, 128)               0         \n",
            "                                                                 \n",
            " dropout_6 (Dropout)         (None, 128)               0         \n",
            "                                                                 \n",
            " custom_gesture_recognizer_  (None, 13)                1677      \n",
            " out (Dense)                                                     \n",
            "                                                                 \n",
            "=================================================================\n",
            "Total params: 2189 (8.55 KB)\n",
            "Trainable params: 1933 (7.55 KB)\n",
            "Non-trainable params: 256 (1.00 KB)\n",
            "_________________________________________________________________\n",
            "None\n",
            "Epoch 1/10\n",
            "2129/2129 [==============================] - 9s 4ms/step - loss: 1.1169 - categorical_accuracy: 0.5282 - val_loss: 0.2280 - val_categorical_accuracy: 0.9060 - lr: 0.0010\n",
            "Epoch 2/10\n",
            "2129/2129 [==============================] - 6s 3ms/step - loss: 0.7745 - categorical_accuracy: 0.6700 - val_loss: 0.1981 - val_categorical_accuracy: 0.9154 - lr: 9.9000e-04\n",
            "Epoch 3/10\n",
            "2129/2129 [==============================] - 7s 3ms/step - loss: 0.7142 - categorical_accuracy: 0.7008 - val_loss: 0.1939 - val_categorical_accuracy: 0.9248 - lr: 9.8010e-04\n",
            "Epoch 4/10\n",
            "2129/2129 [==============================] - 7s 3ms/step - loss: 0.6893 - categorical_accuracy: 0.7097 - val_loss: 0.1921 - val_categorical_accuracy: 0.9229 - lr: 9.7030e-04\n",
            "Epoch 5/10\n",
            "2129/2129 [==============================] - 5s 3ms/step - loss: 0.6646 - categorical_accuracy: 0.7179 - val_loss: 0.1894 - val_categorical_accuracy: 0.9286 - lr: 9.6060e-04\n",
            "Epoch 6/10\n",
            "2129/2129 [==============================] - 8s 4ms/step - loss: 0.6528 - categorical_accuracy: 0.7285 - val_loss: 0.1911 - val_categorical_accuracy: 0.9248 - lr: 9.5099e-04\n",
            "Epoch 7/10\n",
            "2129/2129 [==============================] - 6s 3ms/step - loss: 0.6446 - categorical_accuracy: 0.7250 - val_loss: 0.1972 - val_categorical_accuracy: 0.9211 - lr: 9.4148e-04\n",
            "Epoch 8/10\n",
            "2129/2129 [==============================] - 7s 3ms/step - loss: 0.6406 - categorical_accuracy: 0.7255 - val_loss: 0.1918 - val_categorical_accuracy: 0.9286 - lr: 9.3207e-04\n",
            "Epoch 9/10\n",
            "2129/2129 [==============================] - 6s 3ms/step - loss: 0.6388 - categorical_accuracy: 0.7201 - val_loss: 0.1970 - val_categorical_accuracy: 0.9267 - lr: 9.2274e-04\n",
            "Epoch 10/10\n",
            "2129/2129 [==============================] - 6s 3ms/step - loss: 0.6305 - categorical_accuracy: 0.7339 - val_loss: 0.2020 - val_categorical_accuracy: 0.9267 - lr: 9.1352e-04\n",
            "533/533 [==============================] - 2s 1ms/step - loss: 0.2422 - categorical_accuracy: 0.8799\n",
            "Layer widths: [], Loss: 0.24224430322647095, Accuracy: 0.8799249529838562\n",
            "Training and evaluating for dropout rate:  0.2\n",
            "Model: \"model_6\"\n",
            "_________________________________________________________________\n",
            " Layer (type)                Output Shape              Param #   \n",
            "=================================================================\n",
            " hand_embedding (InputLayer  [(None, 128)]             0         \n",
            " )                                                               \n",
            "                                                                 \n",
            " batch_normalization_7 (Bat  (None, 128)               512       \n",
            " chNormalization)                                                \n",
            "                                                                 \n",
            " re_lu_7 (ReLU)              (None, 128)               0         \n",
            "                                                                 \n",
            " dropout_7 (Dropout)         (None, 128)               0         \n",
            "                                                                 \n",
            " custom_gesture_recognizer_  (None, 13)                1677      \n",
            " out (Dense)                                                     \n",
            "                                                                 \n",
            "=================================================================\n",
            "Total params: 2189 (8.55 KB)\n",
            "Trainable params: 1933 (7.55 KB)\n",
            "Non-trainable params: 256 (1.00 KB)\n",
            "_________________________________________________________________\n",
            "None\n",
            "Epoch 1/10\n",
            "2129/2129 [==============================] - 7s 3ms/step - loss: 1.1365 - categorical_accuracy: 0.5211 - val_loss: 0.2130 - val_categorical_accuracy: 0.9041 - lr: 0.0010\n",
            "Epoch 2/10\n",
            "2129/2129 [==============================] - 6s 3ms/step - loss: 0.8306 - categorical_accuracy: 0.6519 - val_loss: 0.1929 - val_categorical_accuracy: 0.9135 - lr: 9.9000e-04\n",
            "Epoch 3/10\n",
            "2129/2129 [==============================] - 5s 3ms/step - loss: 0.7642 - categorical_accuracy: 0.6747 - val_loss: 0.1889 - val_categorical_accuracy: 0.9173 - lr: 9.8010e-04\n",
            "Epoch 4/10\n",
            "2129/2129 [==============================] - 6s 3ms/step - loss: 0.7411 - categorical_accuracy: 0.6923 - val_loss: 0.1958 - val_categorical_accuracy: 0.9154 - lr: 9.7030e-04\n",
            "Epoch 5/10\n",
            "2129/2129 [==============================] - 7s 3ms/step - loss: 0.7335 - categorical_accuracy: 0.6907 - val_loss: 0.1952 - val_categorical_accuracy: 0.9154 - lr: 9.6060e-04\n",
            "Epoch 6/10\n",
            "2129/2129 [==============================] - 8s 4ms/step - loss: 0.7152 - categorical_accuracy: 0.6987 - val_loss: 0.1851 - val_categorical_accuracy: 0.9248 - lr: 9.5099e-04\n",
            "Epoch 7/10\n",
            "2129/2129 [==============================] - 5s 2ms/step - loss: 0.7071 - categorical_accuracy: 0.6982 - val_loss: 0.1884 - val_categorical_accuracy: 0.9248 - lr: 9.4148e-04\n",
            "Epoch 8/10\n",
            "2129/2129 [==============================] - 6s 3ms/step - loss: 0.7043 - categorical_accuracy: 0.6980 - val_loss: 0.1913 - val_categorical_accuracy: 0.9229 - lr: 9.3207e-04\n",
            "Epoch 9/10\n",
            "2129/2129 [==============================] - 7s 3ms/step - loss: 0.6959 - categorical_accuracy: 0.7006 - val_loss: 0.1911 - val_categorical_accuracy: 0.9192 - lr: 9.2274e-04\n",
            "Epoch 10/10\n",
            "2129/2129 [==============================] - 6s 3ms/step - loss: 0.6980 - categorical_accuracy: 0.7024 - val_loss: 0.1953 - val_categorical_accuracy: 0.9305 - lr: 9.1352e-04\n",
            "533/533 [==============================] - 3s 1ms/step - loss: 0.2304 - categorical_accuracy: 0.9024\n",
            "Layer widths: [], Loss: 0.23039323091506958, Accuracy: 0.9024389982223511\n"
          ]
        }
      ],
      "source": [
        "for config in dropout_configs:\n",
        "   print(\"Training and evaluating for dropout rate: \", config)\n",
        "   delete_exported()\n",
        "   train_and_evaluate(dropout_rate=config)"
      ]
    },
    {
      "cell_type": "markdown",
      "metadata": {
        "id": "UgblrPiBquEw"
      },
      "source": [
        "The Dropout Rate 0.2 has the best performance, while it reduces overfitting."
      ]
    },
    {
      "cell_type": "markdown",
      "metadata": {
        "id": "7tv5m2PoomEm"
      },
      "source": [
        "### Batch Size"
      ]
    },
    {
      "cell_type": "code",
      "execution_count": 27,
      "metadata": {
        "id": "D5RQWjvhm_3K"
      },
      "outputs": [],
      "source": [
        "batch_size_configs = [\n",
        "    2,\n",
        "    10,\n",
        "    100\n",
        "]"
      ]
    },
    {
      "cell_type": "code",
      "execution_count": 28,
      "metadata": {
        "colab": {
          "base_uri": "https://localhost:8080/"
        },
        "id": "IE1CFJFuo-s9",
        "outputId": "b27be363-ebd4-4675-f422-5e1a1bbeb615"
      },
      "outputs": [
        {
          "name": "stdout",
          "output_type": "stream",
          "text": [
            "Training and evaluating for batch size:  1\n",
            "Model: \"model_7\"\n",
            "_________________________________________________________________\n",
            " Layer (type)                Output Shape              Param #   \n",
            "=================================================================\n",
            " hand_embedding (InputLayer  [(None, 128)]             0         \n",
            " )                                                               \n",
            "                                                                 \n",
            " batch_normalization_8 (Bat  (None, 128)               512       \n",
            " chNormalization)                                                \n",
            "                                                                 \n",
            " re_lu_8 (ReLU)              (None, 128)               0         \n",
            "                                                                 \n",
            " dropout_8 (Dropout)         (None, 128)               0         \n",
            "                                                                 \n",
            " custom_gesture_recognizer_  (None, 13)                1677      \n",
            " out (Dense)                                                     \n",
            "                                                                 \n",
            "=================================================================\n",
            "Total params: 2189 (8.55 KB)\n",
            "Trainable params: 1933 (7.55 KB)\n",
            "Non-trainable params: 256 (1.00 KB)\n",
            "_________________________________________________________________\n",
            "None\n",
            "Epoch 1/10\n",
            "4258/4258 [==============================] - 13s 3ms/step - loss: 2.1016 - categorical_accuracy: 0.1336 - val_loss: 15.9244 - val_categorical_accuracy: 0.0019 - lr: 0.0010\n",
            "Epoch 2/10\n",
            "4258/4258 [==============================] - 10s 2ms/step - loss: 2.0569 - categorical_accuracy: 0.1395 - val_loss: 15.9219 - val_categorical_accuracy: 0.0019 - lr: 9.9000e-04\n",
            "Epoch 3/10\n",
            "4258/4258 [==============================] - 11s 3ms/step - loss: 2.0522 - categorical_accuracy: 0.1395 - val_loss: 15.9211 - val_categorical_accuracy: 0.0019 - lr: 9.8010e-04\n",
            "Epoch 4/10\n",
            "4258/4258 [==============================] - 11s 3ms/step - loss: 2.0514 - categorical_accuracy: 0.1395 - val_loss: 15.9208 - val_categorical_accuracy: 0.0019 - lr: 9.7030e-04\n",
            "Epoch 5/10\n",
            "4258/4258 [==============================] - 11s 3ms/step - loss: 2.0512 - categorical_accuracy: 0.1395 - val_loss: 15.9207 - val_categorical_accuracy: 0.0019 - lr: 9.6060e-04\n",
            "Epoch 6/10\n",
            "4258/4258 [==============================] - 10s 2ms/step - loss: 2.0512 - categorical_accuracy: 0.1395 - val_loss: 15.9206 - val_categorical_accuracy: 0.0019 - lr: 9.5099e-04\n",
            "Epoch 7/10\n",
            "4258/4258 [==============================] - 11s 2ms/step - loss: 2.0512 - categorical_accuracy: 0.1402 - val_loss: 15.9206 - val_categorical_accuracy: 0.0019 - lr: 9.4148e-04\n",
            "Epoch 8/10\n",
            "4258/4258 [==============================] - 11s 3ms/step - loss: 2.0511 - categorical_accuracy: 0.1402 - val_loss: 15.9206 - val_categorical_accuracy: 0.0019 - lr: 9.3207e-04\n",
            "Epoch 9/10\n",
            "4258/4258 [==============================] - 10s 2ms/step - loss: 2.0511 - categorical_accuracy: 0.1402 - val_loss: 15.9206 - val_categorical_accuracy: 0.0019 - lr: 9.2274e-04\n",
            "Epoch 10/10\n",
            "4258/4258 [==============================] - 10s 2ms/step - loss: 2.0511 - categorical_accuracy: 0.1402 - val_loss: 15.9206 - val_categorical_accuracy: 0.0019 - lr: 9.1352e-04\n",
            "533/533 [==============================] - 2s 1ms/step - loss: 15.8230 - categorical_accuracy: 0.0150\n",
            "Layer widths: [], Loss: 15.823040962219238, Accuracy: 0.015009380877017975\n",
            "Training and evaluating for batch size:  2\n",
            "Model: \"model_8\"\n",
            "_________________________________________________________________\n",
            " Layer (type)                Output Shape              Param #   \n",
            "=================================================================\n",
            " hand_embedding (InputLayer  [(None, 128)]             0         \n",
            " )                                                               \n",
            "                                                                 \n",
            " batch_normalization_9 (Bat  (None, 128)               512       \n",
            " chNormalization)                                                \n",
            "                                                                 \n",
            " re_lu_9 (ReLU)              (None, 128)               0         \n",
            "                                                                 \n",
            " dropout_9 (Dropout)         (None, 128)               0         \n",
            "                                                                 \n",
            " custom_gesture_recognizer_  (None, 13)                1677      \n",
            " out (Dense)                                                     \n",
            "                                                                 \n",
            "=================================================================\n",
            "Total params: 2189 (8.55 KB)\n",
            "Trainable params: 1933 (7.55 KB)\n",
            "Non-trainable params: 256 (1.00 KB)\n",
            "_________________________________________________________________\n",
            "None\n",
            "Epoch 1/10\n",
            "2129/2129 [==============================] - 8s 4ms/step - loss: 1.1743 - categorical_accuracy: 0.5096 - val_loss: 0.2405 - val_categorical_accuracy: 0.8402 - lr: 0.0010\n",
            "Epoch 2/10\n",
            "2129/2129 [==============================] - 7s 3ms/step - loss: 0.8287 - categorical_accuracy: 0.6482 - val_loss: 0.1959 - val_categorical_accuracy: 0.9023 - lr: 9.9000e-04\n",
            "Epoch 3/10\n",
            "2129/2129 [==============================] - 7s 3ms/step - loss: 0.7685 - categorical_accuracy: 0.6775 - val_loss: 0.2019 - val_categorical_accuracy: 0.9004 - lr: 9.8010e-04\n",
            "Epoch 4/10\n",
            "2129/2129 [==============================] - 6s 3ms/step - loss: 0.7355 - categorical_accuracy: 0.6909 - val_loss: 0.1944 - val_categorical_accuracy: 0.9135 - lr: 9.7030e-04\n",
            "Epoch 5/10\n",
            "2129/2129 [==============================] - 7s 3ms/step - loss: 0.7217 - categorical_accuracy: 0.6987 - val_loss: 0.1867 - val_categorical_accuracy: 0.9229 - lr: 9.6060e-04\n",
            "Epoch 6/10\n",
            "2129/2129 [==============================] - 6s 3ms/step - loss: 0.7144 - categorical_accuracy: 0.6912 - val_loss: 0.1843 - val_categorical_accuracy: 0.9248 - lr: 9.5099e-04\n",
            "Epoch 7/10\n",
            "2129/2129 [==============================] - 7s 3ms/step - loss: 0.7096 - categorical_accuracy: 0.6987 - val_loss: 0.1891 - val_categorical_accuracy: 0.9229 - lr: 9.4148e-04\n",
            "Epoch 8/10\n",
            "2129/2129 [==============================] - 6s 3ms/step - loss: 0.7013 - categorical_accuracy: 0.7020 - val_loss: 0.1874 - val_categorical_accuracy: 0.9211 - lr: 9.3207e-04\n",
            "Epoch 9/10\n",
            "2129/2129 [==============================] - 6s 3ms/step - loss: 0.6977 - categorical_accuracy: 0.7027 - val_loss: 0.1868 - val_categorical_accuracy: 0.9267 - lr: 9.2274e-04\n",
            "Epoch 10/10\n",
            "2129/2129 [==============================] - 7s 3ms/step - loss: 0.6968 - categorical_accuracy: 0.6963 - val_loss: 0.1897 - val_categorical_accuracy: 0.9229 - lr: 9.1352e-04\n",
            "533/533 [==============================] - 2s 1ms/step - loss: 0.2337 - categorical_accuracy: 0.8968\n",
            "Layer widths: [], Loss: 0.23366416990756989, Accuracy: 0.8968105316162109\n",
            "Training and evaluating for batch size:  10\n",
            "Model: \"model_9\"\n",
            "_________________________________________________________________\n",
            " Layer (type)                Output Shape              Param #   \n",
            "=================================================================\n",
            " hand_embedding (InputLayer  [(None, 128)]             0         \n",
            " )                                                               \n",
            "                                                                 \n",
            " batch_normalization_10 (Ba  (None, 128)               512       \n",
            " tchNormalization)                                               \n",
            "                                                                 \n",
            " re_lu_10 (ReLU)             (None, 128)               0         \n",
            "                                                                 \n",
            " dropout_10 (Dropout)        (None, 128)               0         \n",
            "                                                                 \n",
            " custom_gesture_recognizer_  (None, 13)                1677      \n",
            " out (Dense)                                                     \n",
            "                                                                 \n",
            "=================================================================\n",
            "Total params: 2189 (8.55 KB)\n",
            "Trainable params: 1933 (7.55 KB)\n",
            "Non-trainable params: 256 (1.00 KB)\n",
            "_________________________________________________________________\n",
            "None\n",
            "Epoch 1/10\n",
            "425/425 [==============================] - 4s 8ms/step - loss: 0.9165 - categorical_accuracy: 0.6146 - val_loss: 0.2267 - val_categorical_accuracy: 0.8929 - lr: 0.0010\n",
            "Epoch 2/10\n",
            "425/425 [==============================] - 3s 8ms/step - loss: 0.3521 - categorical_accuracy: 0.8113 - val_loss: 0.1750 - val_categorical_accuracy: 0.9060 - lr: 9.9000e-04\n",
            "Epoch 3/10\n",
            "425/425 [==============================] - 3s 8ms/step - loss: 0.2979 - categorical_accuracy: 0.8445 - val_loss: 0.1656 - val_categorical_accuracy: 0.9192 - lr: 9.8010e-04\n",
            "Epoch 4/10\n",
            "425/425 [==============================] - 4s 9ms/step - loss: 0.2712 - categorical_accuracy: 0.8555 - val_loss: 0.1581 - val_categorical_accuracy: 0.9211 - lr: 9.7030e-04\n",
            "Epoch 5/10\n",
            "425/425 [==============================] - 3s 7ms/step - loss: 0.2502 - categorical_accuracy: 0.8675 - val_loss: 0.1583 - val_categorical_accuracy: 0.9117 - lr: 9.6060e-04\n",
            "Epoch 6/10\n",
            "425/425 [==============================] - 5s 11ms/step - loss: 0.2359 - categorical_accuracy: 0.8706 - val_loss: 0.1508 - val_categorical_accuracy: 0.9229 - lr: 9.5099e-04\n",
            "Epoch 7/10\n",
            "425/425 [==============================] - 3s 8ms/step - loss: 0.2273 - categorical_accuracy: 0.8720 - val_loss: 0.1484 - val_categorical_accuracy: 0.9229 - lr: 9.4148e-04\n",
            "Epoch 8/10\n",
            "425/425 [==============================] - 3s 7ms/step - loss: 0.2235 - categorical_accuracy: 0.8732 - val_loss: 0.1424 - val_categorical_accuracy: 0.9305 - lr: 9.3207e-04\n",
            "Epoch 9/10\n",
            "425/425 [==============================] - 5s 12ms/step - loss: 0.2160 - categorical_accuracy: 0.8819 - val_loss: 0.1473 - val_categorical_accuracy: 0.9286 - lr: 9.2274e-04\n",
            "Epoch 10/10\n",
            "425/425 [==============================] - 5s 11ms/step - loss: 0.2062 - categorical_accuracy: 0.8819 - val_loss: 0.1405 - val_categorical_accuracy: 0.9398 - lr: 9.1352e-04\n",
            "533/533 [==============================] - 2s 1ms/step - loss: 0.1575 - categorical_accuracy: 0.9024\n",
            "Layer widths: [], Loss: 0.15748818218708038, Accuracy: 0.9024389982223511\n",
            "Training and evaluating for batch size:  100\n",
            "Model: \"model_10\"\n",
            "_________________________________________________________________\n",
            " Layer (type)                Output Shape              Param #   \n",
            "=================================================================\n",
            " hand_embedding (InputLayer  [(None, 128)]             0         \n",
            " )                                                               \n",
            "                                                                 \n",
            " batch_normalization_11 (Ba  (None, 128)               512       \n",
            " tchNormalization)                                               \n",
            "                                                                 \n",
            " re_lu_11 (ReLU)             (None, 128)               0         \n",
            "                                                                 \n",
            " dropout_11 (Dropout)        (None, 128)               0         \n",
            "                                                                 \n",
            " custom_gesture_recognizer_  (None, 13)                1677      \n",
            " out (Dense)                                                     \n",
            "                                                                 \n",
            "=================================================================\n",
            "Total params: 2189 (8.55 KB)\n",
            "Trainable params: 1933 (7.55 KB)\n",
            "Non-trainable params: 256 (1.00 KB)\n",
            "_________________________________________________________________\n",
            "None\n",
            "Epoch 1/10\n",
            "42/42 [==============================] - 3s 67ms/step - loss: 1.7862 - categorical_accuracy: 0.2805 - val_loss: 0.9477 - val_categorical_accuracy: 0.6165 - lr: 0.0010\n",
            "Epoch 2/10\n",
            "42/42 [==============================] - 4s 98ms/step - loss: 0.8250 - categorical_accuracy: 0.6407 - val_loss: 0.4773 - val_categorical_accuracy: 0.8008 - lr: 9.9000e-04\n",
            "Epoch 3/10\n",
            "42/42 [==============================] - 3s 64ms/step - loss: 0.5229 - categorical_accuracy: 0.7662 - val_loss: 0.3308 - val_categorical_accuracy: 0.8741 - lr: 9.8010e-04\n",
            "Epoch 4/10\n",
            "42/42 [==============================] - 3s 64ms/step - loss: 0.4168 - categorical_accuracy: 0.7983 - val_loss: 0.2709 - val_categorical_accuracy: 0.8966 - lr: 9.7030e-04\n",
            "Epoch 5/10\n",
            "42/42 [==============================] - 3s 64ms/step - loss: 0.3555 - categorical_accuracy: 0.8260 - val_loss: 0.2374 - val_categorical_accuracy: 0.9135 - lr: 9.6060e-04\n",
            "Epoch 6/10\n",
            "42/42 [==============================] - 2s 59ms/step - loss: 0.3116 - categorical_accuracy: 0.8402 - val_loss: 0.2167 - val_categorical_accuracy: 0.9211 - lr: 9.5099e-04\n",
            "Epoch 7/10\n",
            "42/42 [==============================] - 3s 64ms/step - loss: 0.2914 - categorical_accuracy: 0.8450 - val_loss: 0.2014 - val_categorical_accuracy: 0.9229 - lr: 9.4148e-04\n",
            "Epoch 8/10\n",
            "42/42 [==============================] - 3s 64ms/step - loss: 0.2732 - categorical_accuracy: 0.8576 - val_loss: 0.1905 - val_categorical_accuracy: 0.9286 - lr: 9.3207e-04\n",
            "Epoch 9/10\n",
            "42/42 [==============================] - 3s 64ms/step - loss: 0.2489 - categorical_accuracy: 0.8710 - val_loss: 0.1820 - val_categorical_accuracy: 0.9323 - lr: 9.2274e-04\n",
            "Epoch 10/10\n",
            "42/42 [==============================] - 3s 76ms/step - loss: 0.2415 - categorical_accuracy: 0.8724 - val_loss: 0.1741 - val_categorical_accuracy: 0.9305 - lr: 9.1352e-04\n",
            "533/533 [==============================] - 2s 1ms/step - loss: 0.2110 - categorical_accuracy: 0.8893\n",
            "Layer widths: [], Loss: 0.2109951376914978, Accuracy: 0.889305830001831\n"
          ]
        }
      ],
      "source": [
        "for config in batch_size_configs:\n",
        "   print(\"Training and evaluating for batch size: \", config)\n",
        "   delete_exported()\n",
        "   train_and_evaluate(dropout_rate=0.2, batch_size=config)"
      ]
    },
    {
      "cell_type": "markdown",
      "metadata": {
        "id": "jQWtcKPOq84v"
      },
      "source": [
        "The batch-size 10 (1% of the data) has the best performance."
      ]
    },
    {
      "cell_type": "code",
      "execution_count": null,
      "metadata": {
        "id": "Yygy1opkpK_Z"
      },
      "outputs": [],
      "source": []
    }
  ],
  "metadata": {
    "colab": {
      "provenance": []
    },
    "kernelspec": {
      "display_name": "Python 3",
      "name": "python3"
    },
    "language_info": {
      "name": "python",
      "version": "3.9.13"
    }
  },
  "nbformat": 4,
  "nbformat_minor": 0
}
