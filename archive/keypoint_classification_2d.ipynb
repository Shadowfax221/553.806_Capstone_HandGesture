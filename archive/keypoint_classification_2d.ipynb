{
  "cells": [
    {
      "cell_type": "code",
      "execution_count": 1,
      "metadata": {
        "id": "igMyGnjE9hEp"
      },
      "outputs": [
        {
          "name": "stdout",
          "output_type": "stream",
          "text": [
            "WARNING:tensorflow:From c:\\Users\\Ian\\git\\553.806_Capstone_HandGesture\\.venv\\Lib\\site-packages\\keras\\src\\losses.py:2976: The name tf.losses.sparse_softmax_cross_entropy is deprecated. Please use tf.compat.v1.losses.sparse_softmax_cross_entropy instead.\n",
            "\n"
          ]
        }
      ],
      "source": [
        "import csv\n",
        "\n",
        "import numpy as np\n",
        "import tensorflow as tf\n",
        "from sklearn.model_selection import train_test_split\n",
        "\n",
        "RANDOM_SEED = 42"
      ]
    },
    {
      "cell_type": "code",
      "execution_count": 5,
      "metadata": {
        "id": "9NvZP2Zn9hEy"
      },
      "outputs": [],
      "source": [
        "dataset = 'datasets/keypoint1000_2d.csv'\n",
        "model_save_path = 'models/keypoint_classifier.hdf5'\n",
        "tflite_save_path = 'models/keypoint_classifier.tflite'"
      ]
    },
    {
      "cell_type": "markdown",
      "metadata": {
        "id": "s5oMH7x19hEz"
      },
      "source": [
        "# Set number of classes"
      ]
    },
    {
      "cell_type": "code",
      "execution_count": 6,
      "metadata": {
        "id": "du4kodXL9hEz"
      },
      "outputs": [],
      "source": [
        "NUM_CLASSES = 12"
      ]
    },
    {
      "cell_type": "markdown",
      "metadata": {
        "id": "XjnL0uso9hEz"
      },
      "source": [
        "# Dataset reading"
      ]
    },
    {
      "cell_type": "code",
      "execution_count": 7,
      "metadata": {
        "id": "QT5ZqtEz9hE0"
      },
      "outputs": [],
      "source": [
        "X_dataset = np.loadtxt(dataset, delimiter=',', dtype='float32', usecols=list(range(1, (21 * 2) + 1)))"
      ]
    },
    {
      "cell_type": "code",
      "execution_count": 8,
      "metadata": {
        "id": "QmoKFsp49hE0"
      },
      "outputs": [],
      "source": [
        "y_dataset = np.loadtxt(dataset, delimiter=',', dtype='int32', usecols=(0))"
      ]
    },
    {
      "cell_type": "code",
      "execution_count": 9,
      "metadata": {
        "id": "xQU7JTZ_9hE0"
      },
      "outputs": [],
      "source": [
        "X_train, X_test, y_train, y_test = train_test_split(X_dataset, y_dataset, train_size=0.75, random_state=RANDOM_SEED)"
      ]
    },
    {
      "cell_type": "markdown",
      "metadata": {
        "id": "mxK_lETT9hE0"
      },
      "source": [
        "# Model building"
      ]
    },
    {
      "cell_type": "code",
      "execution_count": 10,
      "metadata": {
        "id": "vHBmUf1t9hE1"
      },
      "outputs": [
        {
          "name": "stdout",
          "output_type": "stream",
          "text": [
            "WARNING:tensorflow:From c:\\Users\\Ian\\git\\553.806_Capstone_HandGesture\\.venv\\Lib\\site-packages\\keras\\src\\backend.py:1398: The name tf.executing_eagerly_outside_functions is deprecated. Please use tf.compat.v1.executing_eagerly_outside_functions instead.\n",
            "\n"
          ]
        }
      ],
      "source": [
        "model = tf.keras.models.Sequential([\n",
        "    tf.keras.layers.Input((21 * 2, )),\n",
        "    tf.keras.layers.Dropout(0.2),\n",
        "    tf.keras.layers.Dense(128, activation='relu'),  # Increased units\n",
        "    tf.keras.layers.BatchNormalization(),  # Added Batch Normalization\n",
        "    tf.keras.layers.Dropout(0.3),  # Adjusted dropout rate\n",
        "    tf.keras.layers.Dense(64, activation='relu'),  # Increased units\n",
        "    tf.keras.layers.BatchNormalization(),  # Added Batch Normalization\n",
        "    tf.keras.layers.Dense(32, activation='relu'),  # Increased units\n",
        "    tf.keras.layers.Dense(NUM_CLASSES, activation='softmax')\n",
        "])"
      ]
    },
    {
      "cell_type": "code",
      "execution_count": 11,
      "metadata": {
        "colab": {
          "base_uri": "https://localhost:8080/"
        },
        "id": "ypqky9tc9hE1",
        "outputId": "5db082bb-30e3-4110-bf63-a1ee777ecd46"
      },
      "outputs": [
        {
          "name": "stdout",
          "output_type": "stream",
          "text": [
            "Model: \"sequential\"\n",
            "_________________________________________________________________\n",
            " Layer (type)                Output Shape              Param #   \n",
            "=================================================================\n",
            " dropout (Dropout)           (None, 42)                0         \n",
            "                                                                 \n",
            " dense (Dense)               (None, 128)               5504      \n",
            "                                                                 \n",
            " batch_normalization (Batch  (None, 128)               512       \n",
            " Normalization)                                                  \n",
            "                                                                 \n",
            " dropout_1 (Dropout)         (None, 128)               0         \n",
            "                                                                 \n",
            " dense_1 (Dense)             (None, 64)                8256      \n",
            "                                                                 \n",
            " batch_normalization_1 (Bat  (None, 64)                256       \n",
            " chNormalization)                                                \n",
            "                                                                 \n",
            " dense_2 (Dense)             (None, 32)                2080      \n",
            "                                                                 \n",
            " dense_3 (Dense)             (None, 12)                396       \n",
            "                                                                 \n",
            "=================================================================\n",
            "Total params: 17004 (66.42 KB)\n",
            "Trainable params: 16620 (64.92 KB)\n",
            "Non-trainable params: 384 (1.50 KB)\n",
            "_________________________________________________________________\n"
          ]
        }
      ],
      "source": [
        "model.summary()  # tf.keras.utils.plot_model(model, show_shapes=True)"
      ]
    },
    {
      "cell_type": "code",
      "execution_count": 12,
      "metadata": {
        "id": "MbMjOflQ9hE1"
      },
      "outputs": [],
      "source": [
        "# Model checkpoint callback\n",
        "cp_callback = tf.keras.callbacks.ModelCheckpoint(\n",
        "    model_save_path, verbose=1, save_weights_only=False)\n",
        "# Callback for early stopping\n",
        "es_callback = tf.keras.callbacks.EarlyStopping(patience=20, verbose=1)"
      ]
    },
    {
      "cell_type": "code",
      "execution_count": 13,
      "metadata": {
        "id": "c3Dac0M_9hE2"
      },
      "outputs": [
        {
          "name": "stdout",
          "output_type": "stream",
          "text": [
            "WARNING:tensorflow:From c:\\Users\\Ian\\git\\553.806_Capstone_HandGesture\\.venv\\Lib\\site-packages\\keras\\src\\optimizers\\__init__.py:309: The name tf.train.Optimizer is deprecated. Please use tf.compat.v1.train.Optimizer instead.\n",
            "\n"
          ]
        }
      ],
      "source": [
        "# Model compilation\n",
        "model.compile(\n",
        "    optimizer='adam',\n",
        "    loss='sparse_categorical_crossentropy',\n",
        "    metrics=['accuracy']\n",
        ")"
      ]
    },
    {
      "cell_type": "markdown",
      "metadata": {
        "id": "7XI0j1Iu9hE2"
      },
      "source": [
        "# Model training"
      ]
    },
    {
      "cell_type": "code",
      "execution_count": 14,
      "metadata": {},
      "outputs": [
        {
          "data": {
            "text/plain": [
              "<keras.src.callbacks.EarlyStopping at 0x1c636125b90>"
            ]
          },
          "execution_count": 14,
          "metadata": {},
          "output_type": "execute_result"
        }
      ],
      "source": [
        "es_callback"
      ]
    },
    {
      "cell_type": "code",
      "execution_count": 15,
      "metadata": {
        "colab": {
          "base_uri": "https://localhost:8080/"
        },
        "id": "WirBl-JE9hE3",
        "outputId": "71b30ca2-8294-4d9d-8aa2-800d90d399de",
        "scrolled": true
      },
      "outputs": [
        {
          "name": "stdout",
          "output_type": "stream",
          "text": [
            "Epoch 1/1000\n"
          ]
        },
        {
          "name": "stdout",
          "output_type": "stream",
          "text": [
            "WARNING:tensorflow:From c:\\Users\\Ian\\git\\553.806_Capstone_HandGesture\\.venv\\Lib\\site-packages\\keras\\src\\utils\\tf_utils.py:492: The name tf.ragged.RaggedTensorValue is deprecated. Please use tf.compat.v1.ragged.RaggedTensorValue instead.\n",
            "\n",
            "WARNING:tensorflow:From c:\\Users\\Ian\\git\\553.806_Capstone_HandGesture\\.venv\\Lib\\site-packages\\keras\\src\\engine\\base_layer_utils.py:384: The name tf.executing_eagerly_outside_functions is deprecated. Please use tf.compat.v1.executing_eagerly_outside_functions instead.\n",
            "\n",
            "56/71 [======================>.......] - ETA: 0s - loss: 2.6611 - accuracy: 0.1102\n",
            "Epoch 1: saving model to models\\keypoint_classifier.hdf5\n",
            "71/71 [==============================] - 3s 9ms/step - loss: 2.6312 - accuracy: 0.1126 - val_loss: 2.4537 - val_accuracy: 0.1220\n",
            "Epoch 2/1000\n",
            "39/71 [===============>..............] - ETA: 0s - loss: 2.4511 - accuracy: 0.1406"
          ]
        },
        {
          "name": "stderr",
          "output_type": "stream",
          "text": [
            "c:\\Users\\Ian\\git\\553.806_Capstone_HandGesture\\.venv\\Lib\\site-packages\\keras\\src\\engine\\training.py:3103: UserWarning: You are saving your model as an HDF5 file via `model.save()`. This file format is considered legacy. We recommend using instead the native Keras format, e.g. `model.save('my_model.keras')`.\n",
            "  saving_api.save_model(\n"
          ]
        },
        {
          "name": "stdout",
          "output_type": "stream",
          "text": [
            "59/71 [=======================>......] - ETA: 0s - loss: 2.4337 - accuracy: 0.1504\n",
            "Epoch 2: saving model to models\\keypoint_classifier.hdf5\n",
            "71/71 [==============================] - 0s 4ms/step - loss: 2.4276 - accuracy: 0.1522 - val_loss: 2.4041 - val_accuracy: 0.1727\n",
            "Epoch 3/1000\n",
            "55/71 [======================>.......] - ETA: 0s - loss: 2.3564 - accuracy: 0.1747\n",
            "Epoch 3: saving model to models\\keypoint_classifier.hdf5\n",
            "71/71 [==============================] - 0s 4ms/step - loss: 2.3421 - accuracy: 0.1758 - val_loss: 2.2979 - val_accuracy: 0.2253\n",
            "Epoch 4/1000\n",
            "56/71 [======================>.......] - ETA: 0s - loss: 2.2889 - accuracy: 0.1913\n",
            "Epoch 4: saving model to models\\keypoint_classifier.hdf5\n",
            "71/71 [==============================] - 0s 4ms/step - loss: 2.2783 - accuracy: 0.1944 - val_loss: 2.1961 - val_accuracy: 0.2810\n",
            "Epoch 5/1000\n",
            "60/71 [========================>.....] - ETA: 0s - loss: 2.2406 - accuracy: 0.2061\n",
            "Epoch 5: saving model to models\\keypoint_classifier.hdf5\n",
            "71/71 [==============================] - 0s 4ms/step - loss: 2.2370 - accuracy: 0.2078 - val_loss: 2.0635 - val_accuracy: 0.3283\n",
            "Epoch 6/1000\n",
            "60/71 [========================>.....] - ETA: 0s - loss: 2.2065 - accuracy: 0.2268\n",
            "Epoch 6: saving model to models\\keypoint_classifier.hdf5\n",
            "71/71 [==============================] - 0s 4ms/step - loss: 2.2014 - accuracy: 0.2271 - val_loss: 1.9947 - val_accuracy: 0.3690\n",
            "Epoch 7/1000\n",
            "60/71 [========================>.....] - ETA: 0s - loss: 2.1933 - accuracy: 0.2219\n",
            "Epoch 7: saving model to models\\keypoint_classifier.hdf5\n",
            "71/71 [==============================] - 0s 4ms/step - loss: 2.1960 - accuracy: 0.2217 - val_loss: 1.9651 - val_accuracy: 0.3903\n",
            "Epoch 8/1000\n",
            "71/71 [==============================] - ETA: 0s - loss: 2.1816 - accuracy: 0.2347\n",
            "Epoch 8: saving model to models\\keypoint_classifier.hdf5\n",
            "71/71 [==============================] - 0s 4ms/step - loss: 2.1816 - accuracy: 0.2347 - val_loss: 1.9702 - val_accuracy: 0.3790\n",
            "Epoch 9/1000\n",
            "60/71 [========================>.....] - ETA: 0s - loss: 2.1599 - accuracy: 0.2383\n",
            "Epoch 9: saving model to models\\keypoint_classifier.hdf5\n",
            "71/71 [==============================] - 0s 4ms/step - loss: 2.1586 - accuracy: 0.2406 - val_loss: 1.9064 - val_accuracy: 0.4217\n",
            "Epoch 10/1000\n",
            "61/71 [========================>.....] - ETA: 0s - loss: 2.1347 - accuracy: 0.2554\n",
            "Epoch 10: saving model to models\\keypoint_classifier.hdf5\n",
            "71/71 [==============================] - 0s 4ms/step - loss: 2.1395 - accuracy: 0.2520 - val_loss: 1.8899 - val_accuracy: 0.4387\n",
            "Epoch 11/1000\n",
            "57/71 [=======================>......] - ETA: 0s - loss: 2.1411 - accuracy: 0.2434\n",
            "Epoch 11: saving model to models\\keypoint_classifier.hdf5\n",
            "71/71 [==============================] - 0s 4ms/step - loss: 2.1377 - accuracy: 0.2461 - val_loss: 1.8772 - val_accuracy: 0.4113\n",
            "Epoch 12/1000\n",
            "59/71 [=======================>......] - ETA: 0s - loss: 2.1192 - accuracy: 0.2517\n",
            "Epoch 12: saving model to models\\keypoint_classifier.hdf5\n",
            "71/71 [==============================] - 0s 4ms/step - loss: 2.1167 - accuracy: 0.2559 - val_loss: 1.9112 - val_accuracy: 0.4273\n",
            "Epoch 13/1000\n",
            "59/71 [=======================>......] - ETA: 0s - loss: 2.1185 - accuracy: 0.2595\n",
            "Epoch 13: saving model to models\\keypoint_classifier.hdf5\n",
            "71/71 [==============================] - 0s 4ms/step - loss: 2.1113 - accuracy: 0.2634 - val_loss: 1.8336 - val_accuracy: 0.4827\n",
            "Epoch 14/1000\n",
            "60/71 [========================>.....] - ETA: 0s - loss: 2.0830 - accuracy: 0.2701\n",
            "Epoch 14: saving model to models\\keypoint_classifier.hdf5\n",
            "71/71 [==============================] - 0s 4ms/step - loss: 2.0899 - accuracy: 0.2670 - val_loss: 1.8924 - val_accuracy: 0.4373\n",
            "Epoch 15/1000\n",
            "61/71 [========================>.....] - ETA: 0s - loss: 2.0675 - accuracy: 0.2807\n",
            "Epoch 15: saving model to models\\keypoint_classifier.hdf5\n",
            "71/71 [==============================] - 0s 4ms/step - loss: 2.0646 - accuracy: 0.2817 - val_loss: 1.8565 - val_accuracy: 0.4250\n",
            "Epoch 16/1000\n",
            "62/71 [=========================>....] - ETA: 0s - loss: 2.0568 - accuracy: 0.2881\n",
            "Epoch 16: saving model to models\\keypoint_classifier.hdf5\n",
            "71/71 [==============================] - 0s 4ms/step - loss: 2.0524 - accuracy: 0.2888 - val_loss: 1.7952 - val_accuracy: 0.4500\n",
            "Epoch 17/1000\n",
            "60/71 [========================>.....] - ETA: 0s - loss: 2.0242 - accuracy: 0.2927\n",
            "Epoch 17: saving model to models\\keypoint_classifier.hdf5\n",
            "71/71 [==============================] - 0s 4ms/step - loss: 2.0181 - accuracy: 0.2948 - val_loss: 1.6981 - val_accuracy: 0.5553\n",
            "Epoch 18/1000\n",
            "61/71 [========================>.....] - ETA: 0s - loss: 2.0010 - accuracy: 0.2987\n",
            "Epoch 18: saving model to models\\keypoint_classifier.hdf5\n",
            "71/71 [==============================] - 0s 4ms/step - loss: 1.9952 - accuracy: 0.3007 - val_loss: 1.7075 - val_accuracy: 0.5407\n",
            "Epoch 19/1000\n",
            "59/71 [=======================>......] - ETA: 0s - loss: 1.9661 - accuracy: 0.3234\n",
            "Epoch 19: saving model to models\\keypoint_classifier.hdf5\n",
            "71/71 [==============================] - 0s 4ms/step - loss: 1.9656 - accuracy: 0.3210 - val_loss: 1.6459 - val_accuracy: 0.5400\n",
            "Epoch 20/1000\n",
            "57/71 [=======================>......] - ETA: 0s - loss: 1.9230 - accuracy: 0.3358\n",
            "Epoch 20: saving model to models\\keypoint_classifier.hdf5\n",
            "71/71 [==============================] - 0s 4ms/step - loss: 1.9144 - accuracy: 0.3394 - val_loss: 1.6784 - val_accuracy: 0.4290\n",
            "Epoch 21/1000\n",
            "60/71 [========================>.....] - ETA: 0s - loss: 1.8496 - accuracy: 0.3663\n",
            "Epoch 21: saving model to models\\keypoint_classifier.hdf5\n",
            "71/71 [==============================] - 0s 4ms/step - loss: 1.8506 - accuracy: 0.3657 - val_loss: 1.5314 - val_accuracy: 0.5760\n",
            "Epoch 22/1000\n",
            "61/71 [========================>.....] - ETA: 0s - loss: 1.8181 - accuracy: 0.3764\n",
            "Epoch 22: saving model to models\\keypoint_classifier.hdf5\n",
            "71/71 [==============================] - 0s 4ms/step - loss: 1.8141 - accuracy: 0.3786 - val_loss: 1.5053 - val_accuracy: 0.5323\n",
            "Epoch 23/1000\n",
            "62/71 [=========================>....] - ETA: 0s - loss: 1.7482 - accuracy: 0.3914\n",
            "Epoch 23: saving model to models\\keypoint_classifier.hdf5\n",
            "71/71 [==============================] - 0s 4ms/step - loss: 1.7444 - accuracy: 0.3926 - val_loss: 1.4067 - val_accuracy: 0.6263\n",
            "Epoch 24/1000\n",
            "69/71 [============================>.] - ETA: 0s - loss: 1.6944 - accuracy: 0.4194\n",
            "Epoch 24: saving model to models\\keypoint_classifier.hdf5\n",
            "71/71 [==============================] - 0s 4ms/step - loss: 1.6941 - accuracy: 0.4192 - val_loss: 1.4561 - val_accuracy: 0.5070\n",
            "Epoch 25/1000\n",
            "71/71 [==============================] - ETA: 0s - loss: 1.6095 - accuracy: 0.4400\n",
            "Epoch 25: saving model to models\\keypoint_classifier.hdf5\n",
            "71/71 [==============================] - 0s 5ms/step - loss: 1.6095 - accuracy: 0.4400 - val_loss: 1.3827 - val_accuracy: 0.5337\n",
            "Epoch 26/1000\n",
            "59/71 [=======================>......] - ETA: 0s - loss: 1.5318 - accuracy: 0.4736\n",
            "Epoch 26: saving model to models\\keypoint_classifier.hdf5\n",
            "71/71 [==============================] - 0s 4ms/step - loss: 1.5317 - accuracy: 0.4731 - val_loss: 1.1802 - val_accuracy: 0.6157\n",
            "Epoch 27/1000\n",
            "60/71 [========================>.....] - ETA: 0s - loss: 1.4823 - accuracy: 0.4802\n",
            "Epoch 27: saving model to models\\keypoint_classifier.hdf5\n",
            "71/71 [==============================] - 0s 4ms/step - loss: 1.4885 - accuracy: 0.4752 - val_loss: 1.4313 - val_accuracy: 0.4860\n",
            "Epoch 28/1000\n",
            "60/71 [========================>.....] - ETA: 0s - loss: 1.4460 - accuracy: 0.4879\n",
            "Epoch 28: saving model to models\\keypoint_classifier.hdf5\n",
            "71/71 [==============================] - 0s 4ms/step - loss: 1.4398 - accuracy: 0.4891 - val_loss: 1.0735 - val_accuracy: 0.6510\n",
            "Epoch 29/1000\n",
            "60/71 [========================>.....] - ETA: 0s - loss: 1.4246 - accuracy: 0.5012\n",
            "Epoch 29: saving model to models\\keypoint_classifier.hdf5\n",
            "71/71 [==============================] - 0s 4ms/step - loss: 1.4129 - accuracy: 0.5042 - val_loss: 0.9518 - val_accuracy: 0.7143\n",
            "Epoch 30/1000\n",
            "59/71 [=======================>......] - ETA: 0s - loss: 1.3571 - accuracy: 0.5155\n",
            "Epoch 30: saving model to models\\keypoint_classifier.hdf5\n",
            "71/71 [==============================] - 0s 4ms/step - loss: 1.3574 - accuracy: 0.5154 - val_loss: 0.9215 - val_accuracy: 0.7263\n",
            "Epoch 31/1000\n",
            "60/71 [========================>.....] - ETA: 0s - loss: 1.3193 - accuracy: 0.5258\n",
            "Epoch 31: saving model to models\\keypoint_classifier.hdf5\n",
            "71/71 [==============================] - 0s 4ms/step - loss: 1.3132 - accuracy: 0.5294 - val_loss: 0.9653 - val_accuracy: 0.6777\n",
            "Epoch 32/1000\n",
            "60/71 [========================>.....] - ETA: 0s - loss: 1.2852 - accuracy: 0.5517\n",
            "Epoch 32: saving model to models\\keypoint_classifier.hdf5\n",
            "71/71 [==============================] - 0s 4ms/step - loss: 1.2803 - accuracy: 0.5538 - val_loss: 1.0927 - val_accuracy: 0.5970\n",
            "Epoch 33/1000\n",
            "60/71 [========================>.....] - ETA: 0s - loss: 1.2591 - accuracy: 0.5480\n",
            "Epoch 33: saving model to models\\keypoint_classifier.hdf5\n",
            "71/71 [==============================] - 0s 4ms/step - loss: 1.2529 - accuracy: 0.5508 - val_loss: 1.1352 - val_accuracy: 0.5777\n",
            "Epoch 34/1000\n",
            "60/71 [========================>.....] - ETA: 0s - loss: 1.2330 - accuracy: 0.5629\n",
            "Epoch 34: saving model to models\\keypoint_classifier.hdf5\n",
            "71/71 [==============================] - 0s 4ms/step - loss: 1.2461 - accuracy: 0.5601 - val_loss: 0.9335 - val_accuracy: 0.6780\n",
            "Epoch 35/1000\n",
            "60/71 [========================>.....] - ETA: 0s - loss: 1.2340 - accuracy: 0.5618\n",
            "Epoch 35: saving model to models\\keypoint_classifier.hdf5\n",
            "71/71 [==============================] - 0s 4ms/step - loss: 1.2276 - accuracy: 0.5640 - val_loss: 0.8365 - val_accuracy: 0.7117\n",
            "Epoch 36/1000\n",
            "56/71 [======================>.......] - ETA: 0s - loss: 1.2089 - accuracy: 0.5653\n",
            "Epoch 36: saving model to models\\keypoint_classifier.hdf5\n",
            "71/71 [==============================] - 0s 4ms/step - loss: 1.2155 - accuracy: 0.5597 - val_loss: 0.9957 - val_accuracy: 0.6237\n",
            "Epoch 37/1000\n",
            "60/71 [========================>.....] - ETA: 0s - loss: 1.1932 - accuracy: 0.5707\n",
            "Epoch 37: saving model to models\\keypoint_classifier.hdf5\n",
            "71/71 [==============================] - 0s 4ms/step - loss: 1.1985 - accuracy: 0.5699 - val_loss: 1.0519 - val_accuracy: 0.6140\n",
            "Epoch 38/1000\n",
            "60/71 [========================>.....] - ETA: 0s - loss: 1.1909 - accuracy: 0.5674\n",
            "Epoch 38: saving model to models\\keypoint_classifier.hdf5\n",
            "71/71 [==============================] - 0s 4ms/step - loss: 1.1854 - accuracy: 0.5702 - val_loss: 0.8558 - val_accuracy: 0.6920\n",
            "Epoch 39/1000\n",
            "58/71 [=======================>......] - ETA: 0s - loss: 1.1598 - accuracy: 0.5775\n",
            "Epoch 39: saving model to models\\keypoint_classifier.hdf5\n",
            "71/71 [==============================] - 0s 4ms/step - loss: 1.1560 - accuracy: 0.5790 - val_loss: 0.8971 - val_accuracy: 0.6647\n",
            "Epoch 40/1000\n",
            "59/71 [=======================>......] - ETA: 0s - loss: 1.1376 - accuracy: 0.5863\n",
            "Epoch 40: saving model to models\\keypoint_classifier.hdf5\n",
            "71/71 [==============================] - 0s 4ms/step - loss: 1.1331 - accuracy: 0.5882 - val_loss: 0.9481 - val_accuracy: 0.6570\n",
            "Epoch 41/1000\n",
            "59/71 [=======================>......] - ETA: 0s - loss: 1.1382 - accuracy: 0.5906\n",
            "Epoch 41: saving model to models\\keypoint_classifier.hdf5\n",
            "71/71 [==============================] - 0s 4ms/step - loss: 1.1308 - accuracy: 0.5888 - val_loss: 1.2212 - val_accuracy: 0.5240\n",
            "Epoch 42/1000\n",
            "60/71 [========================>.....] - ETA: 0s - loss: 1.0940 - accuracy: 0.6004\n",
            "Epoch 42: saving model to models\\keypoint_classifier.hdf5\n",
            "71/71 [==============================] - 0s 4ms/step - loss: 1.0990 - accuracy: 0.5993 - val_loss: 0.8885 - val_accuracy: 0.6723\n",
            "Epoch 43/1000\n",
            "60/71 [========================>.....] - ETA: 0s - loss: 1.1164 - accuracy: 0.5926\n",
            "Epoch 43: saving model to models\\keypoint_classifier.hdf5\n",
            "71/71 [==============================] - 0s 4ms/step - loss: 1.1146 - accuracy: 0.5933 - val_loss: 0.9191 - val_accuracy: 0.6330\n",
            "Epoch 44/1000\n",
            "61/71 [========================>.....] - ETA: 0s - loss: 1.0767 - accuracy: 0.6021\n",
            "Epoch 44: saving model to models\\keypoint_classifier.hdf5\n",
            "71/71 [==============================] - 0s 4ms/step - loss: 1.0804 - accuracy: 0.6024 - val_loss: 1.1072 - val_accuracy: 0.5713\n",
            "Epoch 45/1000\n",
            "57/71 [=======================>......] - ETA: 0s - loss: 1.0730 - accuracy: 0.6083\n",
            "Epoch 45: saving model to models\\keypoint_classifier.hdf5\n",
            "71/71 [==============================] - 0s 4ms/step - loss: 1.0631 - accuracy: 0.6131 - val_loss: 0.8731 - val_accuracy: 0.6577\n",
            "Epoch 46/1000\n",
            "59/71 [=======================>......] - ETA: 0s - loss: 1.0564 - accuracy: 0.6139\n",
            "Epoch 46: saving model to models\\keypoint_classifier.hdf5\n",
            "71/71 [==============================] - 0s 4ms/step - loss: 1.0576 - accuracy: 0.6136 - val_loss: 0.8777 - val_accuracy: 0.6550\n",
            "Epoch 47/1000\n",
            "60/71 [========================>.....] - ETA: 0s - loss: 1.0467 - accuracy: 0.6185\n",
            "Epoch 47: saving model to models\\keypoint_classifier.hdf5\n",
            "71/71 [==============================] - 0s 4ms/step - loss: 1.0388 - accuracy: 0.6219 - val_loss: 0.9506 - val_accuracy: 0.6267\n",
            "Epoch 48/1000\n",
            "62/71 [=========================>....] - ETA: 0s - loss: 1.0189 - accuracy: 0.6319\n",
            "Epoch 48: saving model to models\\keypoint_classifier.hdf5\n",
            "71/71 [==============================] - 0s 4ms/step - loss: 1.0276 - accuracy: 0.6313 - val_loss: 0.8568 - val_accuracy: 0.6723\n",
            "Epoch 49/1000\n",
            "61/71 [========================>.....] - ETA: 0s - loss: 1.0246 - accuracy: 0.6268\n",
            "Epoch 49: saving model to models\\keypoint_classifier.hdf5\n",
            "71/71 [==============================] - 0s 5ms/step - loss: 1.0182 - accuracy: 0.6287 - val_loss: 0.8848 - val_accuracy: 0.6537\n",
            "Epoch 50/1000\n",
            "58/71 [=======================>......] - ETA: 0s - loss: 1.0054 - accuracy: 0.6339\n",
            "Epoch 50: saving model to models\\keypoint_classifier.hdf5\n",
            "71/71 [==============================] - 0s 4ms/step - loss: 1.0048 - accuracy: 0.6311 - val_loss: 0.8799 - val_accuracy: 0.6323\n",
            "Epoch 51/1000\n",
            "61/71 [========================>.....] - ETA: 0s - loss: 1.0055 - accuracy: 0.6297\n",
            "Epoch 51: saving model to models\\keypoint_classifier.hdf5\n",
            "71/71 [==============================] - 0s 4ms/step - loss: 1.0054 - accuracy: 0.6301 - val_loss: 0.7807 - val_accuracy: 0.6897\n",
            "Epoch 52/1000\n",
            "61/71 [========================>.....] - ETA: 0s - loss: 0.9784 - accuracy: 0.6369\n",
            "Epoch 52: saving model to models\\keypoint_classifier.hdf5\n",
            "71/71 [==============================] - 0s 4ms/step - loss: 0.9817 - accuracy: 0.6350 - val_loss: 0.9870 - val_accuracy: 0.6143\n",
            "Epoch 53/1000\n",
            "60/71 [========================>.....] - ETA: 0s - loss: 0.9897 - accuracy: 0.6392\n",
            "Epoch 53: saving model to models\\keypoint_classifier.hdf5\n",
            "71/71 [==============================] - 0s 4ms/step - loss: 0.9855 - accuracy: 0.6403 - val_loss: 0.8470 - val_accuracy: 0.6530\n",
            "Epoch 54/1000\n",
            "61/71 [========================>.....] - ETA: 0s - loss: 0.9456 - accuracy: 0.6510\n",
            "Epoch 54: saving model to models\\keypoint_classifier.hdf5\n",
            "71/71 [==============================] - 0s 4ms/step - loss: 0.9455 - accuracy: 0.6497 - val_loss: 0.6797 - val_accuracy: 0.7500\n",
            "Epoch 55/1000\n",
            "56/71 [======================>.......] - ETA: 0s - loss: 0.9649 - accuracy: 0.6461\n",
            "Epoch 55: saving model to models\\keypoint_classifier.hdf5\n",
            "71/71 [==============================] - 0s 4ms/step - loss: 0.9548 - accuracy: 0.6488 - val_loss: 1.1129 - val_accuracy: 0.5563\n",
            "Epoch 56/1000\n",
            "60/71 [========================>.....] - ETA: 0s - loss: 0.9475 - accuracy: 0.6493\n",
            "Epoch 56: saving model to models\\keypoint_classifier.hdf5\n",
            "71/71 [==============================] - 0s 4ms/step - loss: 0.9370 - accuracy: 0.6527 - val_loss: 0.8857 - val_accuracy: 0.6357\n",
            "Epoch 57/1000\n",
            "61/71 [========================>.....] - ETA: 0s - loss: 0.9367 - accuracy: 0.6528\n",
            "Epoch 57: saving model to models\\keypoint_classifier.hdf5\n",
            "71/71 [==============================] - 0s 4ms/step - loss: 0.9332 - accuracy: 0.6549 - val_loss: 0.9091 - val_accuracy: 0.6407\n",
            "Epoch 58/1000\n",
            "60/71 [========================>.....] - ETA: 0s - loss: 0.9306 - accuracy: 0.6647\n",
            "Epoch 58: saving model to models\\keypoint_classifier.hdf5\n",
            "71/71 [==============================] - 0s 4ms/step - loss: 0.9353 - accuracy: 0.6607 - val_loss: 0.7742 - val_accuracy: 0.6763\n",
            "Epoch 59/1000\n",
            "60/71 [========================>.....] - ETA: 0s - loss: 0.9284 - accuracy: 0.6549\n",
            "Epoch 59: saving model to models\\keypoint_classifier.hdf5\n",
            "71/71 [==============================] - 0s 4ms/step - loss: 0.9224 - accuracy: 0.6571 - val_loss: 0.6726 - val_accuracy: 0.7370\n",
            "Epoch 60/1000\n",
            "60/71 [========================>.....] - ETA: 0s - loss: 0.9051 - accuracy: 0.6689\n",
            "Epoch 60: saving model to models\\keypoint_classifier.hdf5\n",
            "71/71 [==============================] - 0s 4ms/step - loss: 0.9044 - accuracy: 0.6701 - val_loss: 0.7747 - val_accuracy: 0.6953\n",
            "Epoch 61/1000\n",
            "57/71 [=======================>......] - ETA: 0s - loss: 0.9130 - accuracy: 0.6668\n",
            "Epoch 61: saving model to models\\keypoint_classifier.hdf5\n",
            "71/71 [==============================] - 0s 4ms/step - loss: 0.9174 - accuracy: 0.6667 - val_loss: 0.9557 - val_accuracy: 0.6277\n",
            "Epoch 62/1000\n",
            "59/71 [=======================>......] - ETA: 0s - loss: 0.8963 - accuracy: 0.6647\n",
            "Epoch 62: saving model to models\\keypoint_classifier.hdf5\n",
            "71/71 [==============================] - 0s 4ms/step - loss: 0.9036 - accuracy: 0.6637 - val_loss: 0.7497 - val_accuracy: 0.7193\n",
            "Epoch 63/1000\n",
            "61/71 [========================>.....] - ETA: 0s - loss: 0.8866 - accuracy: 0.6707\n",
            "Epoch 63: saving model to models\\keypoint_classifier.hdf5\n",
            "71/71 [==============================] - 0s 4ms/step - loss: 0.8801 - accuracy: 0.6729 - val_loss: 0.7166 - val_accuracy: 0.6967\n",
            "Epoch 64/1000\n",
            "61/71 [========================>.....] - ETA: 0s - loss: 0.8711 - accuracy: 0.6755\n",
            "Epoch 64: saving model to models\\keypoint_classifier.hdf5\n",
            "71/71 [==============================] - 0s 4ms/step - loss: 0.8691 - accuracy: 0.6758 - val_loss: 0.7989 - val_accuracy: 0.6583\n",
            "Epoch 65/1000\n",
            "59/71 [=======================>......] - ETA: 0s - loss: 0.8634 - accuracy: 0.6796\n",
            "Epoch 65: saving model to models\\keypoint_classifier.hdf5\n",
            "71/71 [==============================] - 0s 4ms/step - loss: 0.8710 - accuracy: 0.6788 - val_loss: 1.0105 - val_accuracy: 0.5770\n",
            "Epoch 66/1000\n",
            "58/71 [=======================>......] - ETA: 0s - loss: 0.8778 - accuracy: 0.6727\n",
            "Epoch 66: saving model to models\\keypoint_classifier.hdf5\n",
            "71/71 [==============================] - 0s 4ms/step - loss: 0.8782 - accuracy: 0.6708 - val_loss: 0.7552 - val_accuracy: 0.6813\n",
            "Epoch 67/1000\n",
            "54/71 [=====================>........] - ETA: 0s - loss: 0.8503 - accuracy: 0.6823\n",
            "Epoch 67: saving model to models\\keypoint_classifier.hdf5\n",
            "71/71 [==============================] - 0s 4ms/step - loss: 0.8452 - accuracy: 0.6816 - val_loss: 0.8202 - val_accuracy: 0.6487\n",
            "Epoch 68/1000\n",
            "60/71 [========================>.....] - ETA: 0s - loss: 0.8527 - accuracy: 0.6846\n",
            "Epoch 68: saving model to models\\keypoint_classifier.hdf5\n",
            "71/71 [==============================] - 0s 4ms/step - loss: 0.8480 - accuracy: 0.6853 - val_loss: 0.8642 - val_accuracy: 0.6243\n",
            "Epoch 69/1000\n",
            "66/71 [==========================>...] - ETA: 0s - loss: 0.8505 - accuracy: 0.6837\n",
            "Epoch 69: saving model to models\\keypoint_classifier.hdf5\n",
            "71/71 [==============================] - 0s 5ms/step - loss: 0.8481 - accuracy: 0.6849 - val_loss: 0.8558 - val_accuracy: 0.6433\n",
            "Epoch 70/1000\n",
            "61/71 [========================>.....] - ETA: 0s - loss: 0.8554 - accuracy: 0.6817\n",
            "Epoch 70: saving model to models\\keypoint_classifier.hdf5\n",
            "71/71 [==============================] - 0s 4ms/step - loss: 0.8468 - accuracy: 0.6837 - val_loss: 0.8768 - val_accuracy: 0.6417\n",
            "Epoch 71/1000\n",
            "65/71 [==========================>...] - ETA: 0s - loss: 0.8356 - accuracy: 0.6877\n",
            "Epoch 71: saving model to models\\keypoint_classifier.hdf5\n",
            "71/71 [==============================] - 0s 5ms/step - loss: 0.8413 - accuracy: 0.6860 - val_loss: 0.8462 - val_accuracy: 0.6487\n",
            "Epoch 72/1000\n",
            "55/71 [======================>.......] - ETA: 0s - loss: 0.8253 - accuracy: 0.6903\n",
            "Epoch 72: saving model to models\\keypoint_classifier.hdf5\n",
            "71/71 [==============================] - 0s 4ms/step - loss: 0.8284 - accuracy: 0.6867 - val_loss: 0.7043 - val_accuracy: 0.7053\n",
            "Epoch 73/1000\n",
            "60/71 [========================>.....] - ETA: 0s - loss: 0.8396 - accuracy: 0.6902\n",
            "Epoch 73: saving model to models\\keypoint_classifier.hdf5\n",
            "71/71 [==============================] - 0s 4ms/step - loss: 0.8333 - accuracy: 0.6917 - val_loss: 0.7601 - val_accuracy: 0.6777\n",
            "Epoch 74/1000\n",
            "60/71 [========================>.....] - ETA: 0s - loss: 0.8395 - accuracy: 0.6885\n",
            "Epoch 74: saving model to models\\keypoint_classifier.hdf5\n",
            "71/71 [==============================] - 0s 4ms/step - loss: 0.8354 - accuracy: 0.6878 - val_loss: 0.9187 - val_accuracy: 0.6103\n",
            "Epoch 75/1000\n",
            "60/71 [========================>.....] - ETA: 0s - loss: 0.8390 - accuracy: 0.6852\n",
            "Epoch 75: saving model to models\\keypoint_classifier.hdf5\n",
            "71/71 [==============================] - 0s 4ms/step - loss: 0.8394 - accuracy: 0.6832 - val_loss: 0.8313 - val_accuracy: 0.6260\n",
            "Epoch 76/1000\n",
            "58/71 [=======================>......] - ETA: 0s - loss: 0.8219 - accuracy: 0.6828\n",
            "Epoch 76: saving model to models\\keypoint_classifier.hdf5\n",
            "71/71 [==============================] - 0s 4ms/step - loss: 0.8198 - accuracy: 0.6870 - val_loss: 0.6793 - val_accuracy: 0.7080\n",
            "Epoch 77/1000\n",
            "59/71 [=======================>......] - ETA: 0s - loss: 0.8077 - accuracy: 0.6928\n",
            "Epoch 77: saving model to models\\keypoint_classifier.hdf5\n",
            "71/71 [==============================] - 0s 4ms/step - loss: 0.8051 - accuracy: 0.6923 - val_loss: 1.0435 - val_accuracy: 0.5927\n",
            "Epoch 78/1000\n",
            "60/71 [========================>.....] - ETA: 0s - loss: 0.8124 - accuracy: 0.6956\n",
            "Epoch 78: saving model to models\\keypoint_classifier.hdf5\n",
            "71/71 [==============================] - 0s 4ms/step - loss: 0.8160 - accuracy: 0.6953 - val_loss: 0.7150 - val_accuracy: 0.6887\n",
            "Epoch 79/1000\n",
            "60/71 [========================>.....] - ETA: 0s - loss: 0.7891 - accuracy: 0.7039\n",
            "Epoch 79: saving model to models\\keypoint_classifier.hdf5\n",
            "71/71 [==============================] - 0s 4ms/step - loss: 0.7954 - accuracy: 0.7016 - val_loss: 0.8536 - val_accuracy: 0.6317\n",
            "Epoch 79: early stopping\n"
          ]
        },
        {
          "data": {
            "text/plain": [
              "<keras.src.callbacks.History at 0x1c6709f4510>"
            ]
          },
          "execution_count": 15,
          "metadata": {},
          "output_type": "execute_result"
        }
      ],
      "source": [
        "model.fit(\n",
        "    X_train,\n",
        "    y_train,\n",
        "    epochs=1000,\n",
        "    batch_size=128,\n",
        "    validation_data=(X_test, y_test),\n",
        "    callbacks=[cp_callback, es_callback]\n",
        ")"
      ]
    },
    {
      "cell_type": "code",
      "execution_count": 16,
      "metadata": {
        "colab": {
          "base_uri": "https://localhost:8080/"
        },
        "id": "pxvb2Y299hE3",
        "outputId": "59eb3185-2e37-4b9e-bc9d-ab1b8ac29b7f"
      },
      "outputs": [
        {
          "name": "stdout",
          "output_type": "stream",
          "text": [
            "24/24 [==============================] - 0s 2ms/step - loss: 0.8536 - accuracy: 0.6317\n"
          ]
        }
      ],
      "source": [
        "# Model evaluation\n",
        "val_loss, val_acc = model.evaluate(X_test, y_test, batch_size=128)"
      ]
    },
    {
      "cell_type": "code",
      "execution_count": 17,
      "metadata": {
        "id": "RBkmDeUW9hE4"
      },
      "outputs": [],
      "source": [
        "# Loading the saved model\n",
        "model = tf.keras.models.load_model(model_save_path)"
      ]
    },
    {
      "cell_type": "code",
      "execution_count": 18,
      "metadata": {
        "colab": {
          "base_uri": "https://localhost:8080/"
        },
        "id": "tFz9Tb0I9hE4",
        "outputId": "1c3b3528-54ae-4ee2-ab04-77429211cbef"
      },
      "outputs": [
        {
          "name": "stdout",
          "output_type": "stream",
          "text": [
            "1/1 [==============================] - 0s 171ms/step\n",
            "[1.4318368e-09 3.3379519e-01 7.5275871e-05 4.7108317e-09 3.7495332e-07\n",
            " 5.9907317e-01 1.9779923e-08 2.6905833e-02 8.4870072e-07 2.3144881e-05\n",
            " 3.8883295e-02 1.2428547e-03]\n",
            "5\n"
          ]
        }
      ],
      "source": [
        "# Inference test\n",
        "predict_result = model.predict(np.array([X_test[0]]))\n",
        "print(np.squeeze(predict_result))\n",
        "print(np.argmax(np.squeeze(predict_result)))"
      ]
    },
    {
      "cell_type": "markdown",
      "metadata": {
        "id": "S3U4yNWx9hE4"
      },
      "source": [
        "# Confusion matrix"
      ]
    },
    {
      "cell_type": "code",
      "execution_count": 19,
      "metadata": {
        "colab": {
          "base_uri": "https://localhost:8080/",
          "height": 582
        },
        "id": "AP1V6SCk9hE5",
        "outputId": "08e41a80-7a4a-4619-8125-ecc371368d19"
      },
      "outputs": [
        {
          "name": "stdout",
          "output_type": "stream",
          "text": [
            "94/94 [==============================] - 0s 1ms/step\n"
          ]
        },
        {
          "data": {
            "image/png": "[encoded data removed]",
            "text/plain": [
              "<Figure size 700x600 with 2 Axes>"
            ]
          },
          "metadata": {},
          "output_type": "display_data"
        },
        {
          "name": "stdout",
          "output_type": "stream",
          "text": [
            "Classification Report\n",
            "              precision    recall  f1-score   support\n",
            "\n",
            "           0       0.64      0.51      0.57       250\n",
            "           1       0.98      0.57      0.72       248\n",
            "           2       0.51      0.99      0.68       254\n",
            "           3       0.69      0.37      0.48       259\n",
            "           4       0.61      0.42      0.50       255\n",
            "           5       0.72      0.98      0.83       261\n",
            "           6       0.54      0.54      0.54       239\n",
            "           7       1.00      0.07      0.13       235\n",
            "           8       0.99      0.84      0.91       254\n",
            "           9       0.85      0.93      0.89       236\n",
            "          10       0.38      0.68      0.49       264\n",
            "          11       0.53      0.64      0.58       245\n",
            "\n",
            "    accuracy                           0.63      3000\n",
            "   macro avg       0.70      0.63      0.61      3000\n",
            "weighted avg       0.70      0.63      0.61      3000\n",
            "\n"
          ]
        }
      ],
      "source": [
        "import pandas as pd\n",
        "import seaborn as sns\n",
        "import matplotlib.pyplot as plt\n",
        "from sklearn.metrics import confusion_matrix, classification_report\n",
        "\n",
        "def print_confusion_matrix(y_true, y_pred, report=True):\n",
        "    labels = sorted(list(set(y_true)))\n",
        "    cmx_data = confusion_matrix(y_true, y_pred, labels=labels)\n",
        "    \n",
        "    df_cmx = pd.DataFrame(cmx_data, index=labels, columns=labels)\n",
        " \n",
        "    fig, ax = plt.subplots(figsize=(7, 6))\n",
        "    sns.heatmap(df_cmx, annot=True, fmt='g' ,square=False)\n",
        "    ax.set_ylim(len(set(y_true)), 0)\n",
        "    plt.show()\n",
        "    \n",
        "    if report:\n",
        "        print('Classification Report')\n",
        "        print(classification_report(y_test, y_pred))\n",
        "\n",
        "Y_pred = model.predict(X_test)\n",
        "y_pred = np.argmax(Y_pred, axis=1)\n",
        "\n",
        "print_confusion_matrix(y_test, y_pred)"
      ]
    },
    {
      "cell_type": "markdown",
      "metadata": {
        "id": "FNP6aqzc9hE5"
      },
      "source": [
        "# Convert to model for Tensorflow-Lite"
      ]
    },
    {
      "cell_type": "code",
      "execution_count": 20,
      "metadata": {
        "id": "ODjnYyld9hE6"
      },
      "outputs": [
        {
          "name": "stderr",
          "output_type": "stream",
          "text": [
            "c:\\Users\\Ian\\git\\553.806_Capstone_HandGesture\\.venv\\Lib\\site-packages\\keras\\src\\engine\\training.py:3103: UserWarning: You are saving your model as an HDF5 file via `model.save()`. This file format is considered legacy. We recommend using instead the native Keras format, e.g. `model.save('my_model.keras')`.\n",
            "  saving_api.save_model(\n"
          ]
        }
      ],
      "source": [
        "# Save as a model dedicated to inference\n",
        "model.save(model_save_path, include_optimizer=False)"
      ]
    },
    {
      "cell_type": "code",
      "execution_count": 21,
      "metadata": {
        "colab": {
          "base_uri": "https://localhost:8080/"
        },
        "id": "zRfuK8Y59hE6",
        "outputId": "a4ca585c-b5d5-4244-8291-8674063209bb"
      },
      "outputs": [
        {
          "name": "stdout",
          "output_type": "stream",
          "text": [
            "INFO:tensorflow:Assets written to: C:\\Users\\Ian\\AppData\\Local\\Temp\\tmp5k7tr7hu\\assets\n"
          ]
        },
        {
          "name": "stderr",
          "output_type": "stream",
          "text": [
            "INFO:tensorflow:Assets written to: C:\\Users\\Ian\\AppData\\Local\\Temp\\tmp5k7tr7hu\\assets\n"
          ]
        },
        {
          "data": {
            "text/plain": [
              "21304"
            ]
          },
          "execution_count": 21,
          "metadata": {},
          "output_type": "execute_result"
        }
      ],
      "source": [
        "# Transform model (quantization)\n",
        "\n",
        "converter = tf.lite.TFLiteConverter.from_keras_model(model)\n",
        "converter.optimizations = [tf.lite.Optimize.DEFAULT]\n",
        "tflite_quantized_model = converter.convert()\n",
        "\n",
        "open(tflite_save_path, 'wb').write(tflite_quantized_model)"
      ]
    },
    {
      "cell_type": "markdown",
      "metadata": {
        "id": "CHBPBXdx9hE6"
      },
      "source": [
        "# Inference test"
      ]
    },
    {
      "cell_type": "code",
      "execution_count": 22,
      "metadata": {
        "id": "mGAzLocO9hE7"
      },
      "outputs": [],
      "source": [
        "interpreter = tf.lite.Interpreter(model_path=tflite_save_path)\n",
        "interpreter.allocate_tensors()"
      ]
    },
    {
      "cell_type": "code",
      "execution_count": 23,
      "metadata": {
        "id": "oQuDK8YS9hE7"
      },
      "outputs": [],
      "source": [
        "# Get I / O tensor\n",
        "input_details = interpreter.get_input_details()\n",
        "output_details = interpreter.get_output_details()"
      ]
    },
    {
      "cell_type": "code",
      "execution_count": 24,
      "metadata": {
        "id": "2_ixAf_l9hE7"
      },
      "outputs": [],
      "source": [
        "interpreter.set_tensor(input_details[0]['index'], np.array([X_test[0]]))"
      ]
    },
    {
      "cell_type": "code",
      "execution_count": 25,
      "metadata": {
        "colab": {
          "base_uri": "https://localhost:8080/"
        },
        "id": "s4FoAnuc9hE7",
        "outputId": "91f18257-8d8b-4ef3-c558-e9b5f94fabbf",
        "scrolled": true
      },
      "outputs": [
        {
          "name": "stdout",
          "output_type": "stream",
          "text": [
            "CPU times: total: 0 ns\n",
            "Wall time: 3 ms\n"
          ]
        }
      ],
      "source": [
        "%%time\n",
        "# Inference implementation\n",
        "interpreter.invoke()\n",
        "tflite_results = interpreter.get_tensor(output_details[0]['index'])"
      ]
    },
    {
      "cell_type": "code",
      "execution_count": 26,
      "metadata": {
        "colab": {
          "base_uri": "https://localhost:8080/"
        },
        "id": "vONjp19J9hE8",
        "outputId": "77205e24-fd00-42c4-f7b6-e06e527c2cba"
      },
      "outputs": [
        {
          "name": "stdout",
          "output_type": "stream",
          "text": [
            "[2.1455366e-09 1.5609644e-01 8.0659498e-05 4.1907136e-09 1.1258722e-07\n",
            " 8.2105780e-01 5.1261928e-09 9.5934458e-03 3.3365524e-07 4.0526766e-06\n",
            " 1.2765486e-02 4.0165448e-04]\n",
            "5\n"
          ]
        }
      ],
      "source": [
        "print(np.squeeze(tflite_results))\n",
        "print(np.argmax(np.squeeze(tflite_results)))"
      ]
    }
  ],
  "metadata": {
    "accelerator": "GPU",
    "colab": {
      "collapsed_sections": [],
      "name": "keypoint_classification_EN.ipynb",
      "provenance": [],
      "toc_visible": true
    },
    "kernelspec": {
      "display_name": "Python 3",
      "language": "python",
      "name": "python3"
    },
    "language_info": {
      "codemirror_mode": {
        "name": "ipython",
        "version": 3
      },
      "file_extension": ".py",
      "mimetype": "text/x-python",
      "name": "python",
      "nbconvert_exporter": "python",
      "pygments_lexer": "ipython3",
      "version": "3.11.8"
    }
  },
  "nbformat": 4,
  "nbformat_minor": 0
}
